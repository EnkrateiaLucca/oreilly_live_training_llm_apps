{
 "cells": [
  {
   "cell_type": "markdown",
   "metadata": {},
   "source": [
    "# fine-tuning ChatGPT applications\n",
    "\n",
    "- Exercise/Lab:\n",
    "    \n",
    "    [getting familiarized with fine tuning techniques](https://www.notion.so/getting-familiarized-with-fine-tuning-techniques-62f5127118e74402973c73099143f058?pvs=21)\n",
    "    \n",
    "- Presentation:\n",
    "    \n",
    "    [Customizing and Evaluating the Notes Summarizer App](https://www.notion.so/Customizing-and-Evaluating-the-Notes-Summarizer-App-871f2aa9c45048fab86a767e01f1f264?pvs=21)\n",
    "    \n",
    "- Exercise/Lab:\n",
    "    \n",
    "    [Customizing the Notes Summarizer app for Specific Domains](https://www.notion.so/Customizing-the-Notes-Summarizer-app-for-Specific-Domains-5573c16d3f4d490e8862d192185bd84e?pvs=21)\n",
    "    \n",
    "- Q&A"
   ]
  }
 ],
 "metadata": {
  "language_info": {
   "name": "python"
  },
  "orig_nbformat": 4
 },
 "nbformat": 4,
 "nbformat_minor": 2
}
