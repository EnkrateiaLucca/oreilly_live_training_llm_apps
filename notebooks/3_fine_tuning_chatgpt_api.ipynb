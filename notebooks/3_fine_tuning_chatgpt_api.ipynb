{
 "cells": [
  {
   "cell_type": "markdown",
   "metadata": {},
   "source": [
    "# Fine Tunning ChatGPT to Make Precise Youtube Chapters Sections"
   ]
  },
  {
   "cell_type": "markdown",
   "metadata": {},
   "source": [
    "Let's look at the documentation on the [OPENAI website](https://platform.openai.com/docs/guides/fine-tuning/preparing-your-dataset) to learn how to fine tune a chatgpt model to a specific use case using a custom dataset."
   ]
  },
  {
   "cell_type": "markdown",
   "metadata": {},
   "source": [
    "Starting with the basics, we need an example format, which should be as such:\n",
    "\n",
    "```\n",
    "{\"messages\": [{\"role\": \"system\", \"content\": \"Marv is a factual chatbot that is also sarcastic.\"}, {\"role\": \"user\", \"content\": \"What's the capital of France?\"}, {\"role\": \"assistant\", \"content\": \"Paris, as if everyone doesn't know that already.\"}]}\n",
    "{\"messages\": [{\"role\": \"system\", \"content\": \"Marv is a factual chatbot that is also sarcastic.\"}, {\"role\": \"user\", \"content\": \"Who wrote 'Romeo and Juliet'?\"}, {\"role\": \"assistant\", \"content\": \"Oh, just some guy named William Shakespeare. Ever heard of him?\"}]}\n",
    "{\"messages\": [{\"role\": \"system\", \"content\": \"Marv is a factual chatbot that is also sarcastic.\"}, {\"role\": \"user\", \"content\": \"How far is the Moon from Earth?\"}, {\"role\": \"assistant\", \"content\": \"Around 384,400 kilometers. Give or take a few, like that really matters.\"}]}\n",
    "```"
   ]
  },
  {
   "cell_type": "markdown",
   "metadata": {},
   "source": [
    "So, to fine tune a ChatGPT model we'll need to create a dataset organized in the format shown above. Essentially we'll have a .json file with several (as many as the number of inputs for the fine tunning) dictionaries that have this format of:\n",
    "\n",
    "```\n",
    "{\"<messages key>\"}: [{\"role\": \"system\", \"<content key>\": \"<some text content>\"},\n",
    "{\"<messages key>\"}: {\"role\": \"user\", \"<content key>\": \"<some text content>\"},\n",
    "{\"<messages key>\"}: {\"role\": \"assistant\", \"<content key>\": \"<some text content>\"}]\n",
    "```\n",
    "\n",
    "Here we'll assume that we will only fine tune actual ChatGPT, so we won't cover the formats for models like 'babbage-002' and others."
   ]
  },
  {
   "cell_type": "markdown",
   "metadata": {},
   "source": [
    "Ok, given this format, let's create our dataset."
   ]
  },
  {
   "cell_type": "markdown",
   "metadata": {},
   "source": [
    "Quote from the actual documentation:\n",
    "\n",
    "\n",
    "> To fine-tune a model, you are required to provide at least 10 examples. We typically see clear improvements from fine-tuning on 50 to 100 training examples with gpt-3.5-turbo but the right number varies greatly based on the exact use case.\n",
    "\n"
   ]
  },
  {
   "cell_type": "markdown",
   "metadata": {},
   "source": [
    "Let's try to get at least 30 examples for our custom dataset."
   ]
  },
  {
   "cell_type": "markdown",
   "metadata": {},
   "source": [
    "Just as in regular fine tunning with any Machine Learning model, its advisable to get stablish a train-test split so that you are on top of your model's performance."
   ]
  },
  {
   "cell_type": "markdown",
   "metadata": {},
   "source": [
    "Also, its extremely important to be aware of token limits and token costs, given that this will be a paid API.\n",
    "\n",
    "Each training example will be limited to the context length of ChatGPT (therefore 4096 tokens), so its good to set some good practices in place to avoid issues with large inputs, the [OpenAI documentation](https://platform.openai.com/docs/guides/fine-tuning/preparing-your-dataset#:~:text=Each%20training%20example,the%20OpenAI%20cookbook.) recommends you check that the total token count in the message contents are under 4000 as a good rule of thumb."
   ]
  },
  {
   "cell_type": "markdown",
   "metadata": {},
   "source": [
    "Let's first create this dataset programatically using GPT4"
   ]
  },
  {
   "cell_type": "code",
   "execution_count": 32,
   "metadata": {},
   "outputs": [],
   "source": [
    "import openai\n",
    "import tiktoken\n",
    "from IPython.display import display, Markdown\n",
    "\n",
    "def get_response(prompt_question,):\n",
    "    response = openai.ChatCompletion.create(\n",
    "        model=\"gpt-4\",\n",
    "        messages=[{\"role\": \"system\", \"content\": \"You are a helpful research and\\\n",
    "            programming assistant\"},\n",
    "                  {\"role\": \"user\", \"content\": prompt_question}]\n",
    "    )\n",
    "    \n",
    "    return response[\"choices\"][0][\"message\"][\"content\"]\n",
    "\n",
    "def get_num_tokens(prompt, model=\"gpt-3.5-turbo\"):\n",
    "    \"\"\"Calculates the number of tokens in a text prompt\"\"\"    \n",
    "\n",
    "    enc = tiktoken.encoding_for_model(\"gpt-3.5-turbo\")\n",
    "\n",
    "    return len(enc.encode(prompt))"
   ]
  },
  {
   "cell_type": "markdown",
   "metadata": {},
   "source": [
    "Great! Now, let manually inspect the flashcards generated with gpt4 to select the best ones for our custom training dataset."
   ]
  },
  {
   "cell_type": "code",
   "execution_count": 35,
   "metadata": {},
   "outputs": [
    {
     "data": {
      "text/markdown": [
       "- I need to pick up the pace on my academic research assignment. I'll be spending the next few weeks rigorously scrutinizing the sources, journal articles, and additional materials I've collected. My aim is to understand the relationships in the data and eventually find a significant inference.\n",
       "\n",
       "- I am planning on developing my own website in the coming weeks. It's going to be an informative platform about climate change. I will be using HTML, CSS, and JavaScript for this. My goal is to learn more in the process and create an engaging user interface.\n",
       "\n",
       "- I’m working on getting my finances straightened out. This includes setting up a detailed budget, monitoring my spending habits, and adjusting where necessary. Plus, my goal for the next few weeks is to be more mindful about where my money goes and ideally, put some aside for saving.\n",
       "\n",
       "- I’m planning to run a full marathon in the next 3 months, so the next weeks will be full of intense training sessions. My goal is to improve my stamina and ensure my body is prepared for the endurance race.\n",
       "\n",
       "- I am aiming to learn a new language, French, over the course of the next few weeks. My strategy is to dedicate at least an hour each day for this self-paced learning. A new language skill will definitely enhance my personal and professional competencies.\n",
       "\n",
       "- I'm working on a new art project. This involves creating a series of paintings aimed at expressing different human emotions. Over the next few weeks, my goal is to complete at least five of these artworks.\n",
       "\n",
       "- Over the next few weeks, I will be preparing to present my research at a major conference. My focus will be on refining my presentation and making sure that all the information is accurate and up-to-date.\n",
       "\n",
       "- As a chef, the upcoming weeks will see me experimenting with new recipes and preparing a menu for the opening of my restaurant. My aim is to curate an appealing balance between traditional and contemporary flavors.\n",
       "\n",
       "- I am aiming to complete the first draft of my novel in the next couple of weeks. The main goal is to concentrate on character development and plot progression, ensuring that the storyline remains engaging for the readers.\n",
       "\n",
       "- I am preparing for my thesis defense due in two weeks. Most of my time will be devoted to mastering my presentation, seeking the inputs from my guides, and getting ready to answer any tricky queries thrown at me.\n",
       "\n",
       "- My plan for the next few weeks is to learn coding concepts and programming languages. I am starting with Python and then moving on to JavaScript.  \n",
       "\n",
       "- Ahead of me in the upcoming weeks is a web design course. My focus will be not only on mastering the theoretical aspects but also on acquiring hands-on experience. My final goal is to create an aesthetic and fully functional website prototype.\n",
       "\n",
       "- I am planning to read several books on personal development in the upcoming weeks. Each represents a different aspect that I aim to improve, such as leadership skills, emotional intelligence, and money management.\n",
       "\n",
       "- For the next few weeks, I'm preparing for my upcoming backpacking trip. I'll be planning the route, gathering the necessary supplies, and researching potential shelters along the way. \n",
       "\n",
       "- My professional certification exam is due in a month, so the upcoming weeks will be dedicated to thorough revision and practice. I am aiming to ace it this time, enhancing my career prospects."
      ],
      "text/plain": [
       "<IPython.core.display.Markdown object>"
      ]
     },
     "metadata": {},
     "output_type": "display_data"
    }
   ],
   "source": [
    "prompt = f\"Create 15 examples of 1 paragraph first person human-like descriptions of tasks and goals for the upcoming weeks. Each example should be in a bullet point.\"\n",
    "\n",
    "task_paragraphs = get_response(prompt)\n",
    "\n",
    "display(Markdown(task_paragraphs))"
   ]
  },
  {
   "cell_type": "code",
   "execution_count": 36,
   "metadata": {},
   "outputs": [
    {
     "data": {
      "text/plain": [
       "[\"- I need to pick up the pace on my academic research assignment. I'll be spending the next few weeks rigorously scrutinizing the sources, journal articles, and additional materials I've collected. My aim is to understand the relationships in the data and eventually find a significant inference.\",\n",
       " '',\n",
       " \"- I am planning on developing my own website in the coming weeks. It's going to be an informative platform about climate change. I will be using HTML, CSS, and JavaScript for this. My goal is to learn more in the process and create an engaging user interface.\",\n",
       " '',\n",
       " '- I’m working on getting my finances straightened out. This includes setting up a detailed budget, monitoring my spending habits, and adjusting where necessary. Plus, my goal for the next few weeks is to be more mindful about where my money goes and ideally, put some aside for saving.',\n",
       " '',\n",
       " '- I’m planning to run a full marathon in the next 3 months, so the next weeks will be full of intense training sessions. My goal is to improve my stamina and ensure my body is prepared for the endurance race.',\n",
       " '',\n",
       " '- I am aiming to learn a new language, French, over the course of the next few weeks. My strategy is to dedicate at least an hour each day for this self-paced learning. A new language skill will definitely enhance my personal and professional competencies.',\n",
       " '',\n",
       " \"- I'm working on a new art project. This involves creating a series of paintings aimed at expressing different human emotions. Over the next few weeks, my goal is to complete at least five of these artworks.\",\n",
       " '',\n",
       " '- Over the next few weeks, I will be preparing to present my research at a major conference. My focus will be on refining my presentation and making sure that all the information is accurate and up-to-date.',\n",
       " '',\n",
       " '- As a chef, the upcoming weeks will see me experimenting with new recipes and preparing a menu for the opening of my restaurant. My aim is to curate an appealing balance between traditional and contemporary flavors.',\n",
       " '',\n",
       " '- I am aiming to complete the first draft of my novel in the next couple of weeks. The main goal is to concentrate on character development and plot progression, ensuring that the storyline remains engaging for the readers.',\n",
       " '',\n",
       " '- I am preparing for my thesis defense due in two weeks. Most of my time will be devoted to mastering my presentation, seeking the inputs from my guides, and getting ready to answer any tricky queries thrown at me.',\n",
       " '',\n",
       " '- My plan for the next few weeks is to learn coding concepts and programming languages. I am starting with Python and then moving on to JavaScript.  ',\n",
       " '',\n",
       " '- Ahead of me in the upcoming weeks is a web design course. My focus will be not only on mastering the theoretical aspects but also on acquiring hands-on experience. My final goal is to create an aesthetic and fully functional website prototype.',\n",
       " '',\n",
       " '- I am planning to read several books on personal development in the upcoming weeks. Each represents a different aspect that I aim to improve, such as leadership skills, emotional intelligence, and money management.',\n",
       " '',\n",
       " \"- For the next few weeks, I'm preparing for my upcoming backpacking trip. I'll be planning the route, gathering the necessary supplies, and researching potential shelters along the way. \",\n",
       " '',\n",
       " '- My professional certification exam is due in a month, so the upcoming weeks will be dedicated to thorough revision and practice. I am aiming to ace it this time, enhancing my career prospects.']"
      ]
     },
     "execution_count": 36,
     "metadata": {},
     "output_type": "execute_result"
    }
   ],
   "source": [
    "task_list_prompts = task_paragraphs.split(\"\\n\")\n",
    "\n",
    "task_list_prompts"
   ]
  },
  {
   "cell_type": "code",
   "execution_count": 37,
   "metadata": {},
   "outputs": [
    {
     "name": "stdout",
     "output_type": "stream",
     "text": [
      "- I need to pick up the pace on my academic research assignment. I'll be spending the next few weeks rigorously scrutinizing the sources, journal articles, and additional materials I've collected. My aim is to understand the relationships in the data and eventually find a significant inference.\n",
      "\n",
      "- I am planning on developing my own website in the coming weeks. It's going to be an informative platform about climate change. I will be using HTML, CSS, and JavaScript for this. My goal is to learn more in the process and create an engaging user interface.\n",
      "\n",
      "- I’m working on getting my finances straightened out. This includes setting up a detailed budget, monitoring my spending habits, and adjusting where necessary. Plus, my goal for the next few weeks is to be more mindful about where my money goes and ideally, put some aside for saving.\n",
      "\n",
      "- I’m planning to run a full marathon in the next 3 months, so the next weeks will be full of intense training sessions. My goal is to improve my stamina and ensure my body is prepared for the endurance race.\n",
      "\n",
      "- I am aiming to learn a new language, French, over the course of the next few weeks. My strategy is to dedicate at least an hour each day for this self-paced learning. A new language skill will definitely enhance my personal and professional competencies.\n",
      "\n",
      "- I'm working on a new art project. This involves creating a series of paintings aimed at expressing different human emotions. Over the next few weeks, my goal is to complete at least five of these artworks.\n",
      "\n",
      "- Over the next few weeks, I will be preparing to present my research at a major conference. My focus will be on refining my presentation and making sure that all the information is accurate and up-to-date.\n",
      "\n",
      "- As a chef, the upcoming weeks will see me experimenting with new recipes and preparing a menu for the opening of my restaurant. My aim is to curate an appealing balance between traditional and contemporary flavors.\n",
      "\n",
      "- I am aiming to complete the first draft of my novel in the next couple of weeks. The main goal is to concentrate on character development and plot progression, ensuring that the storyline remains engaging for the readers.\n",
      "\n",
      "- I am preparing for my thesis defense due in two weeks. Most of my time will be devoted to mastering my presentation, seeking the inputs from my guides, and getting ready to answer any tricky queries thrown at me.\n",
      "\n",
      "- My plan for the next few weeks is to learn coding concepts and programming languages. I am starting with Python and then moving on to JavaScript.  \n",
      "\n",
      "- Ahead of me in the upcoming weeks is a web design course. My focus will be not only on mastering the theoretical aspects but also on acquiring hands-on experience. My final goal is to create an aesthetic and fully functional website prototype.\n",
      "\n",
      "- I am planning to read several books on personal development in the upcoming weeks. Each represents a different aspect that I aim to improve, such as leadership skills, emotional intelligence, and money management.\n",
      "\n",
      "- For the next few weeks, I'm preparing for my upcoming backpacking trip. I'll be planning the route, gathering the necessary supplies, and researching potential shelters along the way. \n",
      "\n",
      "- My professional certification exam is due in a month, so the upcoming weeks will be dedicated to thorough revision and practice. I am aiming to ace it this time, enhancing my career prospects.\n"
     ]
    }
   ],
   "source": [
    "for t in task_list_prompts:\n",
    "    print(t)"
   ]
  },
  {
   "cell_type": "code",
   "execution_count": 44,
   "metadata": {},
   "outputs": [],
   "source": [
    "task_steps = []\n",
    "for t in task_list_prompts:\n",
    "    prompt = f\"Given this paragraph description of tasks and goals: \\n '''{t}''' \\n create a bullet point list with all the necessary steps to accomplish all of them.\"\n",
    "    task_steps.append(get_response(prompt))"
   ]
  },
  {
   "cell_type": "markdown",
   "metadata": {},
   "source": [
    "Let's evaluate the dataset generated programatically:"
   ]
  },
  {
   "cell_type": "code",
   "execution_count": 45,
   "metadata": {},
   "outputs": [
    {
     "data": {
      "text/markdown": [
       "1. **Planning and Scheduling:** Develop a detailed plan and schedule for the next few weeks. This should include targets for completing specific sections of the research.\n",
       "\n",
       "2. **Organizing sources and materials:** For effective and quick retrieval, organize all the accumulated sources, journal articles, and additional materials coherently.\n",
       "\n",
       "3. **Comprehensive Analysis:** Rigorously scrutinize every source, journal article, and additional material. \n",
       "\n",
       "4. **Data Interpretation and Visualization:** Use analytical methods to interpret data, observing patterns and trends from the raw data. Consider various data visualization tools to make the interpretation easier.\n",
       "\n",
       "5. **Drawing Relationships:** Study the data to understand relationships between different variables. This could involve using statistical tools to determine correlations or causal relationships.\n",
       "\n",
       "6. **Finding Significant Inference:** Based on the relationships drawn from the data, arrive at a significant conclusion or inference.\n",
       "\n",
       "7. **Documentation:** Document all findings and the process in an organized and easy-to-understand manner. The documentation process may also involve writing an academic paper with the findings.\n",
       "   \n",
       "8. **Editing and Proofreading:** Ensure the final document or thesis is checked for any errors in spelling, grammar, syntax and format. \n",
       "\n",
       "9. **Preparation for Presentation:** Prepare a presentation of the findings, focusing on the significant inference and the process followed to reach it.\n",
       "  \n",
       "10. **Evaluation of Final Work:** Review the completed work to ensure that all goals and requirements were met. If necessary, make any final adjustments."
      ],
      "text/plain": [
       "<IPython.core.display.Markdown object>"
      ]
     },
     "metadata": {},
     "output_type": "display_data"
    },
    {
     "data": {
      "text/markdown": [
       "Apologies for the confusion, but you seem to have left the task description empty. Could you please provide a brief description of the tasks and goals you want to accomplish? This will allow me to create an accurate and helpful list for you."
      ],
      "text/plain": [
       "<IPython.core.display.Markdown object>"
      ]
     },
     "metadata": {},
     "output_type": "display_data"
    },
    {
     "data": {
      "text/markdown": [
       "1. Research on Website Development:\n",
       "   - Understand the basics of HTML, CSS, and JavaScript if not already familiar.\n",
       "   - Explore and Analyze existing informative platforms about climate change for inspiration.\n",
       "\n",
       "2. Planning:\n",
       "   - Define the purpose of the website.\n",
       "   - Decide on the amount and type of content to be placed on the website.\n",
       "   - Sketch a crude layout of the website's user interface based on the content.\n",
       "\n",
       "3. Learning about Climate Change:\n",
       "   - Conduct research on climate change and gather credible sources.\n",
       "   - Plan on how to present the information in an engaging way.\n",
       "\n",
       "4. Web Development:\n",
       "   - Begin coding the basic structure of the webpages using HTML.\n",
       "   - Design the layout of the site using CSS templates.\n",
       "   - Add interactive elements with JavaScript.\n",
       "\n",
       "5. Testing and Debugging:\n",
       "   - Test the website on various browsers and devices to ensure its functionality.\n",
       "   - Debug any issues or problem areas in the code.\n",
       "\n",
       "6. User Interface Design:\n",
       "   - Design the user interface that is engaging and easy to navigate.\n",
       "   - Incorporate interactive features like sliders, pop-ups, or responsive icons to create a dynamic UI.\n",
       "   - Use best web design principles to ensure usability and accessibility.\n",
       "\n",
       "7. Content Creation:\n",
       "   - Write or curate the informative content about climate change.\n",
       "   - Make sure to structure the content in an easy-to-read and engaging format.\n",
       "   - Include visual elements like infographics, images or videos where suitable.\n",
       "\n",
       "8. Review and Iterations:\n",
       "   - Review the website design, functionalities, and content. \n",
       "   - Make any necessary iterations to improve user interface or content.\n",
       "\n",
       "9. Deployment:\n",
       "   - Choose a suitable domain name and a web hosting service.\n",
       "   - Deploy your website and make it live.\n",
       "\n",
       "10. Promotion and Maintenance:\n",
       "    - Promote the website on different platforms to reach out to your target audience.\n",
       "    - Regularly check and update the website content, design, code, and other performances to ensure everything works properly. \n",
       "\n",
       "Remember, learning is a key goal here. So, make sure to document your challenges, victories, and lessons during this journey."
      ],
      "text/plain": [
       "<IPython.core.display.Markdown object>"
      ]
     },
     "metadata": {},
     "output_type": "display_data"
    },
    {
     "data": {
      "text/markdown": [
       "You haven't provided any specific paragraph description of tasks and goals. Please provide the detailed tasks and their objectives so I can assist in breaking them down into manageable, ordered steps."
      ],
      "text/plain": [
       "<IPython.core.display.Markdown object>"
      ]
     },
     "metadata": {},
     "output_type": "display_data"
    },
    {
     "data": {
      "text/markdown": [
       "1. Obtain a complete overview of current financial status:\n",
       "   - Compile all bank statements, balances, outstanding debts, and income sources.\n",
       "   - Detail any regular expenses, both necessary (rent/mortgage, utilities, food) and discretionary (entertainment, eating out).\n",
       "\n",
       "2. Set up a detailed budget: \n",
       "   - List all income sources.\n",
       "   - List all regular expenses.\n",
       "   - Allocate portions of income for each regular expense.\n",
       "   - Include a section in the budget for savings.\n",
       "\n",
       "3. Monitor spending habits:\n",
       "   - Take note of every single expense over a set period, e.g., one month.\n",
       "   - Try to classify each expense into a budget category.\n",
       "   - Review this tracking regularly to understand patterns and any unplanned spending.\n",
       "\n",
       "4. Adjust spending and budget where necessary:\n",
       "   - Identify areas of overspending and develop plans to curb that.\n",
       "   - Reallocate budget funds as necessary based on tracking of expenditure.\n",
       "   - Update the budget regularly based on changes in income and expenses.\n",
       "\n",
       "5. Be more mindful about where money goes:\n",
       "   - Continue tracking all expenses.\n",
       "   - Regularly review and reflect on the necessity/value of each expenditure.\n",
       "   - When considering a purchase, take a moment to consider the budget and whether the expense is planned/affordable.\n",
       "   \n",
       "6. Start a savings plan:\n",
       "   - Determine a reasonable amount to save from each paycheck, taking into account the detailed budget and spending adjustments.\n",
       "   - Set up an automatic transfer to a savings account on each payday to ensure the savings happen.\n",
       "   - Monitor the growth of the savings fund regularly.\n",
       "   - Keep the savings in a separate account or other inaccessible form to avoid the temptation to spend it.\n",
       "\n",
       "7. Set financial goals:\n",
       "   - Decide on short-term and long-term financial goals.\n",
       "   - Make sure these goals are reflected in your budget – you may need to adjust spending in some categories to allow saving for these goals. \n",
       "\n",
       "8. Continue to review the budget and spending regularly – at least monthly – to keep track of your progress towards your financial goals. \n",
       "\n",
       "9. Look into financial advice or assistance if required – if finding the budgeting or saving aspect tough to handle, consider reaching out to a financial advisor or using a financial planning app."
      ],
      "text/plain": [
       "<IPython.core.display.Markdown object>"
      ]
     },
     "metadata": {},
     "output_type": "display_data"
    },
    {
     "data": {
      "text/markdown": [
       "I'm sorry, but I need the specific paragraph description of tasks and goals in order to create a bullet point task list. Could you please provide the detail?"
      ],
      "text/plain": [
       "<IPython.core.display.Markdown object>"
      ]
     },
     "metadata": {},
     "output_type": "display_data"
    },
    {
     "data": {
      "text/markdown": [
       "1. Consult a Doctor: To ensure your body is physically capable of handling the stress of marathon preparation and to understand any potential risks due to underlying health conditions.\n",
       "   \n",
       "2. Hire a Personal Trainer: They can help to customize a detailed marathon training plan based on your current fitness level and marathon goals.\n",
       "\n",
       "3. Create a Training Schedule: The schedule should involve a combination of different workouts - long runs, short runs, strength training, and rest days.\n",
       "\n",
       "4. Implement a Diet Plan: To increase stamina, include a balanced amount of proteins, carbohydrates, and fats in your meal. Ensure you're properly hydrated as well.\n",
       "\n",
       "5. Start Training: Begin with moderate training sessions and gradually increase the intensity and duration.  \n",
       "\n",
       "6. Invest in High-Quality Running Gear: This should include good running shoes, comfortable clothing, a water bottle, etc.\n",
       "\n",
       "7. Incorporate Strength and Cross Training: Incorporating exercises like yoga, Pilates, swimming can help build overall strength and stamina.\n",
       "\n",
       "8. Increase Distance Gradually: Increase the running distance by 10% per week to avoid injuries and build endurance.\n",
       "\n",
       "9. Consistent Training: Consistency is essential in marathon training. Make sure to follow the training schedule without skipping.\n",
       "\n",
       "10. Rest and Recover: Allocate ample time for rest and recovery to avoid injuries and fatigue.\n",
       "\n",
       "11. Practice Long Runs: Incorporate one long run per week into your schedule to build endurance.\n",
       "\n",
       "12. Simulate Race Day: As marathon day approaches, practice at the same time the race is going to start to prepare your body for the exact conditions.\n",
       "\n",
       "13. Tapering: Reduce the intensity of your workouts during the final 2-3 weeks before the marathon to allow your body to recover and prepare for the actual marathon.\n",
       "\n",
       "14. Carb-Loading: In the week leading up to the marathon, increase your carbohydrate intake to maximize the energy storage in your muscles.\n",
       "\n",
       "15. Pre-Race Check-up: Do a final check before the race day to ensure you're physically ready and the running gear is in good shape. \n",
       "\n",
       "16. Race Day: Run at a steady pace, stay hydrated, eat energy bars and enjoy the race."
      ],
      "text/plain": [
       "<IPython.core.display.Markdown object>"
      ]
     },
     "metadata": {},
     "output_type": "display_data"
    },
    {
     "data": {
      "text/markdown": [
       "I'm sorry, but I cannot generate a clear plan of action because the description of tasks and goals is not included. Could you please provide me with the specific tasks and goals?"
      ],
      "text/plain": [
       "<IPython.core.display.Markdown object>"
      ]
     },
     "metadata": {},
     "output_type": "display_data"
    },
    {
     "data": {
      "text/markdown": [
       "- Identify the best French learning resources:\n",
       "    - Language learning apps or programs\n",
       "    - Textbooks or workbooks for grammar and vocabulary\n",
       "    - Audio resources for listening practices  \n",
       "- Set a flexible but consistent schedule for daily language studying.\n",
       "    - Decide on a specific hour in a day which will be solely dedicated to French learning\n",
       "- Begin with the learning process:\n",
       "    - Start with learning the French alphabets and common phrases\n",
       "    - Practice pronunciation by listening and repeating French words/sentences\n",
       "    - Progressively work through grammar rules and build vocabulary\n",
       "- Practice reading and writing in French\n",
       "    - Use French textbooks or stories to enhance reading skills\n",
       "    - Write short passages in French to practice writing skills  \n",
       "- Use language learning apps daily:\n",
       "    - These apps usually come with daily reminders, therefore they can help keep the language learning on track\n",
       "- Engage with French language media:\n",
       "    - Listen to French songs, watch French movies, or read French news to enhance understanding and fluency\n",
       "- Find a language exchange partner or tutor, if possible.  \n",
       "- Practice speaking in French either with a language partner, by attending language meetups, or by talking to oneself in French.\n",
       "- Test your progress regularly:\n",
       "    - Regular assessments can help understand the areas of strength and the areas that require further practice.\n",
       "- Regularly revise the work:\n",
       "    - Consistent revision is a key to retain the new language. \n",
       "- Stay motivated and patient:\n",
       "    - Learning a new language takes time and determination. Do not get discouraged if progress seems slow.  \n",
       "- Use the newly learned language in a professional or personal settings as much as possible to increase the comfort level and fluency."
      ],
      "text/plain": [
       "<IPython.core.display.Markdown object>"
      ]
     },
     "metadata": {},
     "output_type": "display_data"
    },
    {
     "data": {
      "text/markdown": [
       "I'm sorry, but I can't help with this task as you didn't provide any tasks or goals in the description. Please provide the tasks or goals so I can give you a bullet point list about how to accomplish them."
      ],
      "text/plain": [
       "<IPython.core.display.Markdown object>"
      ]
     },
     "metadata": {},
     "output_type": "display_data"
    },
    {
     "data": {
      "text/markdown": [
       "1. Brainstorm Ideas:\n",
       "    - Understand and define the range of human emotions you wish to express.\n",
       "    - Research existing artworks that align with this theme for inspiration.\n",
       "\n",
       "2. Plan and Sketch:\n",
       "    - Plan the layout and thematic elements for each painting.\n",
       "    - Sketch preliminary designs for each of your five chosen emotions. \n",
       "\n",
       "3. Gather Materials:\n",
       "    - Make a list of all necessary art supplies - paints, brushes, canvases etc.\n",
       "    - Purchase art supplies if needed.\n",
       "\n",
       "4. Create Paintings:\n",
       "    - Begin creating the first painting, leaving ample time to add detail and depth.\n",
       "    - Repeat the process for the remaining four pieces.\n",
       "  \n",
       "5. Refine & Review:\n",
       "    - Review each painting - ensure each conveys the intended emotion vividly.\n",
       "    - Make any necessary fine adjustments or additions to enrich the artwork.\n",
       "\n",
       "6. Dry and Preserve:\n",
       "   - Allow ample time for each painting to completely dry.\n",
       "   - Apply a clear, protective coat (varnish/fixative) over the artwork to preserve it.\n",
       "\n",
       "7. Assessment & Reflection:\n",
       "   - Reflect on the process and the final products. \n",
       "   - Identify areas of success and potential improvements for future projects."
      ],
      "text/plain": [
       "<IPython.core.display.Markdown object>"
      ]
     },
     "metadata": {},
     "output_type": "display_data"
    },
    {
     "data": {
      "text/markdown": [
       "Sorry for the inconvenience, but I'm unable to create a list as you've not provided any specific task or goal in the given paragraph description. Please provide specific tasks and goals you want me to break down into steps so I could help you better."
      ],
      "text/plain": [
       "<IPython.core.display.Markdown object>"
      ]
     },
     "metadata": {},
     "output_type": "display_data"
    },
    {
     "data": {
      "text/markdown": [
       "- Dedicatedly review all aspects of the current research project to ensure full understanding.\n",
       "- Identify the key points that need to be presented at the conference.\n",
       "- Start to design the structure of the presentation, selecting the most important and relevant parts of the research.\n",
       "- Create an initial draft of the presentation, including all key points, supporting details, and necessary visuals.\n",
       "- Conduct a thorough fact-check to ensure that all information included in the presentation is both accurate and up-to-date.\n",
       "- Seek feedback on the initial draft from peers and advisors to ensure you're effectively conveying your research findings and insights.\n",
       "- Revise and refine the presentation based on the feedback received, ensuring that the information is clear, concise, and engaging.\n",
       "- Practice delivering the presentation out loud, paying particular attention to pacing, pronunciation, and emphasis.\n",
       "- Adjust presentation content based on practice sessions, focusing on areas where clarity or conciseness may be improved.\n",
       "- Finalize the presentation design, ensuring all visuals properly support the spoken content and are professionally formatted.\n",
       "- Schedule multiple run-throughs of the presentation in the days leading up to the conference to grow more comfortable with the material and ensure a smooth delivery on the day of.\n",
       "- Prepare additional materials like handouts or digital resources if necessary, double-checking for accuracy and relevance.\n",
       "- On the conference day, arrive early to get familiar with the venue and setup any necessary materials or equipment.\n",
       "- Present the research confidently at the conference, knowing the material is well-prepared and thoroughly practiced."
      ],
      "text/plain": [
       "<IPython.core.display.Markdown object>"
      ]
     },
     "metadata": {},
     "output_type": "display_data"
    },
    {
     "data": {
      "text/markdown": [
       "I'm sorry but I cannot proceed without an actual paragraph description of tasks and goals. Could you please provide the tasks and goals in order to create a bullet point list?"
      ],
      "text/plain": [
       "<IPython.core.display.Markdown object>"
      ]
     },
     "metadata": {},
     "output_type": "display_data"
    },
    {
     "data": {
      "text/markdown": [
       "1. Research contemporary and traditional recipes: Reflect on different culinary styles from various cuisines around the world. Look for inspiration in cookbooks, food blogs, food channels, and cultural sources.\n",
       "\n",
       "2. Experiment with new recipes: Make a list of unique and appealing recipes to potentially include in the menu. Procure ingredients and try cooking these recipes. Play around with the ingredients, measurements, and cooking techniques to perfect each dish.\n",
       "\n",
       "3. Taste Test: Conduct taste-testing sessions with a small diverse group of people. Gather their feedback on the taste, texture, appearance, and aroma of each dish.\n",
       "\n",
       "4. Reiterate Recipes: Refine and tweak the recipes based on the feedback received during the taste tests.\n",
       "\n",
       "5. Balance the menu: After deciding on the final list of dishes, ensure the menu has a balanced variety of traditional and contemporary dishes. It might be beneficial to divide the menu into categories (starters, mains, desserts) and maintain a balance within each category as well.\n",
       "\n",
       "6. Plan food sourcing: Determine where to source the ingredients required for each dish. Aim to secure reliable, high-quality suppliers for better taste and presentation.\n",
       "\n",
       "7. Calculate costs: Determine the cost of producing each dish, considering the cost of ingredients, labor, and overhead. This will aid in pricing the dishes on the menu.\n",
       "\n",
       "8. Menu design and printing: Finalize the design and layout of the menu. Ensure it's user-friendly and appeals to the restaurant's target demographic. Arrange for the printing of the menus.\n",
       "\n",
       "9. Training kitchen staff: Conduct training sessions for the kitchen staff on the preparation of each dish on the new menu.\n",
       "\n",
       "10. Grand Opening: Announce the date of the opening, market it through various channels, and make sure everything is ready for that day - food, staff, and environment."
      ],
      "text/plain": [
       "<IPython.core.display.Markdown object>"
      ]
     },
     "metadata": {},
     "output_type": "display_data"
    },
    {
     "data": {
      "text/markdown": [
       "Apologies for the inconvenience, but you haven't provided any descriptions of tasks and goals. Could you please provide them so that I can assist you better?"
      ],
      "text/plain": [
       "<IPython.core.display.Markdown object>"
      ]
     },
     "metadata": {},
     "output_type": "display_data"
    },
    {
     "data": {
      "text/markdown": [
       "1. Set a Daily Writing Goal: Determine a specific number of pages or words to write each day to ensure that your first draft is completed within the next couple of weeks. \n",
       "\n",
       "2. Create a Character Development Plan: Draft detailed profiles for each main character, describing their past, motivations, fears, and relationships. Think about how you want each character to change or grow by the end of the novel.\n",
       "\n",
       "3. Plan Your Plot Progression: Sketch out a timeline of key events in your story, ensuring there's a logical progression that keeps the readers engaged. Look for any potential plot holes or inconsistencies and refine as needed.\n",
       "\n",
       "4. Write Regularly: Consistency is key in writing. Make sure to dedicate a certain amount of time each day specifically for writing.\n",
       "\n",
       "5. Develop Your Settings: Ensure your settings are compelling and add depth to your story. They can also affect your characters' behavior and the progression of the plot.\n",
       "\n",
       "6. Balance Dialogue and Description: Maintain a balance between both elements to keep the story engaging. Too much description can become monotonous, while too much dialogue may not provide sufficient context.\n",
       "\n",
       "7. Emphasize Conflict: Incorporate conflict and resolution into your plot to maintain readers' interest and drive the story forward.\n",
       "\n",
       "8. Seek Feedback: Regularly share your work with a trusted mentor or peer group. They can provide valuable feedback regarding your character development and plot progression.\n",
       "\n",
       "9. Review and Edit: Continuously revise your draft to improve sentence structure, clarity, and coherence. Pay attention to language and grammar errors.\n",
       "\n",
       "10. Stay Healthy and Rested: Do not compromise your health in the process of achieving your writing goals. Ensure you are getting enough sleep, eating right, and taking breaks as needed to rest your mind.\n",
       "\n",
       "11. Stay Motivated: Keep a positive mindset and remember why you wanted to write this story. This will help you through any difficult phases. \n",
       "\n",
       "12. Celebrate Milestones: Create smaller goals within your main goal. When you achieve these smaller goals, celebrate them. This can provide valuable motivation."
      ],
      "text/plain": [
       "<IPython.core.display.Markdown object>"
      ]
     },
     "metadata": {},
     "output_type": "display_data"
    },
    {
     "data": {
      "text/markdown": [
       "Unfortunately, the specific description of tasks and goals to be accomplished was not provided in your request. Could you please share the tasks and goals you need a bullet point list for? I'm happy to help once I have more specificity."
      ],
      "text/plain": [
       "<IPython.core.display.Markdown object>"
      ]
     },
     "metadata": {},
     "output_type": "display_data"
    },
    {
     "data": {
      "text/markdown": [
       "1. Develop a detailed schedule outlining time allocation for each task including presentation preparation, consultation with guides, and anticipation of potential questions.\n",
       "2. Start preparation with a deep understanding of the thesis content including reviewing the methodology, results obtained, and conclusions made.\n",
       "3. Design the structure of the defense presentation. Include introduction, methodology, key findings, and conclusion. \n",
       "4. Refine the presentation ensuring that it communicates the thesis work clearly and effectively.\n",
       "5. Practice the presentation multiple times to build confidence.\n",
       "6. Schedule regular meetings with project guides or supervisors to seek their insights and suggestions. \n",
       "7. Implement modifications to the presentation based on the feedback received.\n",
       "8. Anticipate possible questions that might be asked during the defense.\n",
       "9. Prepare sound responses to all anticipated questions.\n",
       "10. Monitor your stress levels and implement stress management strategies as needed. This might include good sleep, healthy diet, exercise and relaxation techniques.\n",
       "11. Try a few mock defenses to simulate actual conditions. This could be done with colleagues or your guides. \n",
       "12. Be open to receiving and making last-minute adjustments as per the feedback during mock defenses.\n",
       "13. Finalize the presentation and the answers to potential questions.\n",
       "14. Review the final draft of the presentation, ensuring the complete understanding of every point and fact.\n",
       "15. Rest well the day before the defense to be physically and mentally prepared for the big day.\n",
       "16. Keep necessary materials ready a day before the presentation to mitigate last-minute stress."
      ],
      "text/plain": [
       "<IPython.core.display.Markdown object>"
      ]
     },
     "metadata": {},
     "output_type": "display_data"
    },
    {
     "data": {
      "text/markdown": [
       "Apologies for the confusion but could you please provide more context? The paragraph description of tasks and goals is not provided in your message. I am unable to continue without this information."
      ],
      "text/plain": [
       "<IPython.core.display.Markdown object>"
      ]
     },
     "metadata": {},
     "output_type": "display_data"
    },
    {
     "data": {
      "text/markdown": [
       "1. Identify learning resources:\n",
       "    - Explore Python official website and documentation.\n",
       "    - Search for online coding platforms like Codecademy, Udacity, Coursera.\n",
       "\n",
       "2. Learn the basics of programming:\n",
       "    - Understand the fundamental concepts of coding, such as variables, loops, data structures, and functions.\n",
       "    - Explore different problem-solving techniques in coding.\n",
       "\n",
       "3. Start learning Python:\n",
       "    - Go through the Python syntax and basic programming concepts.\n",
       "    - Practice Python exercises regularly to reinforce learning.\n",
       "    - Start working on small projects using Python.\n",
       "\n",
       "4. Assess your understanding:\n",
       "    - Complete quizzes and assignments to evaluate your knowledge and understanding.\n",
       "    - Work on medium level projects and practice Python coding on different platforms.\n",
       "\n",
       "5. Escalate your learning:\n",
       "    - Learn advanced Python concepts.\n",
       "    - Try to involve yourself in complex projects.\n",
       "    - Participate in coding challenges and competitions to refine your skills.\n",
       "\n",
       "6. Learn JavaScript:\n",
       "    - Go through the basics of JavaScript language.\n",
       "    - Understand the role of JavaScript in web development.\n",
       "    - Start working on small web projects involving JavaScript.\n",
       "\n",
       "7. Practice JavaScript:\n",
       "    - Practice JavaScript coding on different platforms.\n",
       "    - Evaluate your JavaScript knowledge by completing quizzes and assignments.\n",
       "\n",
       "8. Go into depth:\n",
       "    - Learn advanced JavaScript.\n",
       "    - Start to immerse yourself in complex web development projects.\n",
       "    - Participate in coding challenges and competitions for further refinement.\n",
       "\n",
       "9. Review your progress:\n",
       "    - Review your understanding of both languages, identify areas of strength and areas requiring more study.\n",
       "    - Continue to engage in projects and challenges that push your skills.\n",
       "    \n",
       "10. Keep up-to-date:\n",
       "    - Stay updated with the latest trends and updates in Python and JavaScript.\n",
       "    - Continue learning other concepts and languages."
      ],
      "text/plain": [
       "<IPython.core.display.Markdown object>"
      ]
     },
     "metadata": {},
     "output_type": "display_data"
    },
    {
     "data": {
      "text/markdown": [
       "Apologies for any confusion, but I need the specific paragraph description of the tasks and goals to create a bullet point list with all the necessary steps to fulfill them. Please provide that."
      ],
      "text/plain": [
       "<IPython.core.display.Markdown object>"
      ]
     },
     "metadata": {},
     "output_type": "display_data"
    },
    {
     "data": {
      "text/markdown": [
       "1. Research on Web Design: Begin by gaining a foundational understanding of what web design entails. This would involve learning about the building blocks of a website such as HTML, CSS, and JavaScript. Understand the principles of good design and usability. \n",
       "\n",
       "2. Enroll in a Web Design Course: Choose a suitable course that offers a balance between theoretical knowledge and practical experience. Make sure that the curriculum covers all the essential components of web design. \n",
       "\n",
       "3. Actively Participate in Classes: Stay engaged in coursework, take notes, and ask questions. Focus on understanding and applying what you learn.\n",
       "\n",
       "4. Dedicate time for Self-Study: In addition to the course, allocate time for self-study to expand your knowledge and clarify any doubts. \n",
       "\n",
       "5. Hands-on Practice: Apply the knowledge acquired from the course on practical tasks. Hands-on experience is important in gaining a deeper understanding and feel of web design. \n",
       "\n",
       "6. Build Projects: Start building small projects progressively. This could be a one-page website design or a simple layout. Each project will give you confidence and improve your skill set. \n",
       "\n",
       "7. Seek Feedback: Share your projects with others, seek their feedback, and make improvements. This will help to refine your designs and understand different perspectives.\n",
       "\n",
       "8. Create a Prototype: Use the cumulative knowledge and skills you have garnered to create an aesthetic and fully functional website prototype. \n",
       "\n",
       "9. Test the Prototype: Make sure to adequately test your prototype for any errors or design flaws. \n",
       "\n",
       "10. Implement Feedback and Adjustments: Based on the testing results, implement suitable changes to improve the functionality and design.\n",
       "\n",
       "11. Rinse and Repeat: Keep refining the website to make it better each time. \n",
       "\n",
       "12. Document your Learning and Project Progress: Keep a record of all your learning and project progress. This could be useful for future reference and also as a way to check your progress."
      ],
      "text/plain": [
       "<IPython.core.display.Markdown object>"
      ]
     },
     "metadata": {},
     "output_type": "display_data"
    },
    {
     "data": {
      "text/markdown": [
       "I'm sorry but I can't create a task list since the paragraph description of tasks and goals wasn't provided. Could you please provide the details?"
      ],
      "text/plain": [
       "<IPython.core.display.Markdown object>"
      ]
     },
     "metadata": {},
     "output_type": "display_data"
    },
    {
     "data": {
      "text/markdown": [
       "1. Identify Specific Books: Begin by selecting the desired books for each particular skill set you wish to develop. Look for books that have high ratings or are recommended by experts in each field.\n",
       "\n",
       "2. Set a Reading Schedule: Create a specific reading schedule. Dedicate a certain amount of time each day for reading. The schedule can include one book at a time or rotate between the books, depending on your preference.\n",
       "\n",
       "3. Purchase or Borrow Books: Once you have a list, purchase or borrow the books from a library or online platform.\n",
       "\n",
       "4. Note Taking: As you read, keep a note pad or use an online note taking service to jot down important points, insights, and any practice exercises presented in the books.\n",
       "\n",
       "5. Reflect and Practice: Take the time to reflect on what you have learned from each book. Practice the concepts discussed as much as possible to allow the knowledge to integrate into your daily living.\n",
       "\n",
       "6. Join Online Discussions/Book Clubs: Join online discussions or book clubs focusing on personal development. This will allow the concepts you learned to be explored further, and you can gain different perspectives.\n",
       "\n",
       "7. Apply to Real-Life Situations: Start using the strategies and lessons in real-life situations to improve your leadership skills, emotional intelligence, and money management.\n",
       "\n",
       "8. Evaluate Progress: After practicing the methods learned, evaluate your progress. Note any improvements or obstacles to address.\n",
       "\n",
       "9. Seek Additional Tools/Resources: After having read and started practicing, you may identify areas where you need further assistance. Look for additional resources such as articles, courses, online tools, or coaching to support these areas.\n",
       "\n",
       "10. Repeat the Process: Once you've completed and mastered one area, move on to the next book. Also, continually revisit previous books to refresh your knowledge and integrate the learned skills into your daily life."
      ],
      "text/plain": [
       "<IPython.core.display.Markdown object>"
      ]
     },
     "metadata": {},
     "output_type": "display_data"
    },
    {
     "data": {
      "text/markdown": [
       "Sorry for the confusion, but I can't generate a list of necessary steps because the description of tasks and goals you mentioned isn't included in your request. Could you please provide me with the details? I'd be glad to help you with your request once I have more information."
      ],
      "text/plain": [
       "<IPython.core.display.Markdown object>"
      ]
     },
     "metadata": {},
     "output_type": "display_data"
    },
    {
     "data": {
      "text/markdown": [
       "1. Select Desired Destination: \n",
       "   - Research potential destinations suitable for backpacking.\n",
       "   - Evaluate the destinations based on factors such as distance, landscape, weather conditions, and personal preference.\n",
       "\n",
       "2. Plan the Route:\n",
       "   - Investigate the specific trails and terrains available at the chosen destination.\n",
       "   - Decide on a route considering the difficulty level and physical fitness.\n",
       "   - Ensure to mark resting points, potential shelters, and emergency exits.\n",
       "\n",
       "3. Gather Necessary Supplies:\n",
       "   - Research and prepare a list of items required for backpacking.\n",
       "   - Check existing gear and determine what additional equipment is needed.\n",
       "   - Prioritize the list based on necessity: backpack, tent, sleeping bag, clothing, food and water supplies, cooking tool, navigation aids etc.\n",
       "   - Purchase or borrow missing items.\n",
       "\n",
       "4. Research Potential Shelters:\n",
       "   - Look up forests, national parks, campsites, and cabins that allow overnight stay.\n",
       "   - Consider safety, weather resistance, availability and proximity to the backpacking route.\n",
       "   - Contact owners or administrators of potential shelters for availability and rules.\n",
       "\n",
       "5. Physical Preparation:\n",
       "   - Begin a fitness routine suitable for the trip if you don't have one already.\n",
       "   - Consult with a doctor for health clearance if necessary.\n",
       "\n",
       "6. Inform Someone About Your Plan:\n",
       "   - Share specific details of the planned route with a trusted contact.\n",
       "   - Discuss estimated times of departure and arrival, and the potential shelters.\n",
       "\n",
       "7. Test Gear Before the Trip:\n",
       "   - Test all equipment to ensure it is working condition.\n",
       "   - Learn how to use new equipment or gear.\n",
       "\n",
       "8. Prepare First-aid and Emergency Supplies:\n",
       "   - Gather and pack first-aid essentials.\n",
       "   - Learn essential first-aid skills if you don't already have them.\n",
       "   - Pack any necessary emergency supplies such as a flashlight, whistle, and multi-tool.\n",
       "\n",
       "9. Pack Food and Water Supplies:\n",
       "   - Plan meals for each day of the trip.\n",
       "   - Carry portable water filters or purification tablets for safe drinking water.\n",
       "\n",
       "10. Final Check:\n",
       "    - Review all preparations one last time.\n",
       "    - Check weather updates and any changes in the destination area."
      ],
      "text/plain": [
       "<IPython.core.display.Markdown object>"
      ]
     },
     "metadata": {},
     "output_type": "display_data"
    },
    {
     "data": {
      "text/markdown": [
       "I apologise for the misunderstanding, but I'll need the actual paragraph description of tasks and goals to breakdown. Could you please provide the necessary information? I'll be more than happy to help create the bullet point list afterwards."
      ],
      "text/plain": [
       "<IPython.core.display.Markdown object>"
      ]
     },
     "metadata": {},
     "output_type": "display_data"
    },
    {
     "data": {
      "text/markdown": [
       "1. Determine the syllabus and topics covered in the professional certification examination.\n",
       "2. Gather all the necessary study material and resources for each topic.\n",
       "3. Develop a study schedule that accounts for the time remaining before the examination; make sure to include breaks for rest and refreshment.\n",
       "4. Allocate more revision time to areas you find challenging or where you scored low in past attempts.\n",
       "5. Regularly practice with past or sample examination papers to gain familiarity with question formats and time management.\n",
       "6. Set weekly goals and track your progress to ensure you are meeting your study targets.\n",
       "7. Look for online forums or study groups where you can discuss and resolve your doubts and learn through the experience of others.\n",
       "8. Take care of your health by maintaining a balanced diet, exercising regularly, and getting sufficient sleep; this is important for optimum brain function and concentration.\n",
       "9. Prepare a checklist of all items you need to take to the exam, such as ID, stationery, etc.\n",
       "10. Review the examination rules and regulations to avoid any penalties or disqualifications.\n",
       "11. A few days before the exam, start tapering down your study to avoid burnout.\n",
       "12. A day before the exam, relax and get a good night's sleep to be fresh and alert on the exam day.\n",
       "13. On the day of the exam, have a light meal, reach the exam venue in advance and stay calm and focused during the exam.\n",
       "14. After the exam, review your performance and note down areas for improvement for future reference. Don't forget to update your CV and LinkedIn profile once you've died your certification."
      ],
      "text/plain": [
       "<IPython.core.display.Markdown object>"
      ]
     },
     "metadata": {},
     "output_type": "display_data"
    }
   ],
   "source": [
    "for t in task_steps:\n",
    "    display(Markdown(t))"
   ]
  },
  {
   "cell_type": "code",
   "execution_count": 48,
   "metadata": {},
   "outputs": [
    {
     "name": "stdout",
     "output_type": "stream",
     "text": [
      "- I need to pick up the pace on my academic research assignment. I'll be spending the next few weeks rigorously scrutinizing the sources, journal articles, and additional materials I've collected. My aim is to understand the relationships in the data and eventually find a significant inference.\n",
      "1. **Planning and Scheduling:** Develop a detailed plan and schedule for the next few weeks. This should include targets for completing specific sections of the research.\n",
      "\n",
      "2. **Organizing sources and materials:** For effective and quick retrieval, organize all the accumulated sources, journal articles, and additional materials coherently.\n",
      "\n",
      "3. **Comprehensive Analysis:** Rigorously scrutinize every source, journal article, and additional material. \n",
      "\n",
      "4. **Data Interpretation and Visualization:** Use analytical methods to interpret data, observing patterns and trends from the raw data. Consider various data visualization tools to make the interpretation easier.\n",
      "\n",
      "5. **Drawing Relationships:** Study the data to understand relationships between different variables. This could involve using statistical tools to determine correlations or causal relationships.\n",
      "\n",
      "6. **Finding Significant Inference:** Based on the relationships drawn from the data, arrive at a significant conclusion or inference.\n",
      "\n",
      "7. **Documentation:** Document all findings and the process in an organized and easy-to-understand manner. The documentation process may also involve writing an academic paper with the findings.\n",
      "   \n",
      "8. **Editing and Proofreading:** Ensure the final document or thesis is checked for any errors in spelling, grammar, syntax and format. \n",
      "\n",
      "9. **Preparation for Presentation:** Prepare a presentation of the findings, focusing on the significant inference and the process followed to reach it.\n",
      "  \n",
      "10. **Evaluation of Final Work:** Review the completed work to ensure that all goals and requirements were met. If necessary, make any final adjustments.\n",
      "************\n",
      "\n",
      "Apologies for the confusion, but you seem to have left the task description empty. Could you please provide a brief description of the tasks and goals you want to accomplish? This will allow me to create an accurate and helpful list for you.\n",
      "************\n",
      "- I am planning on developing my own website in the coming weeks. It's going to be an informative platform about climate change. I will be using HTML, CSS, and JavaScript for this. My goal is to learn more in the process and create an engaging user interface.\n",
      "1. Research on Website Development:\n",
      "   - Understand the basics of HTML, CSS, and JavaScript if not already familiar.\n",
      "   - Explore and Analyze existing informative platforms about climate change for inspiration.\n",
      "\n",
      "2. Planning:\n",
      "   - Define the purpose of the website.\n",
      "   - Decide on the amount and type of content to be placed on the website.\n",
      "   - Sketch a crude layout of the website's user interface based on the content.\n",
      "\n",
      "3. Learning about Climate Change:\n",
      "   - Conduct research on climate change and gather credible sources.\n",
      "   - Plan on how to present the information in an engaging way.\n",
      "\n",
      "4. Web Development:\n",
      "   - Begin coding the basic structure of the webpages using HTML.\n",
      "   - Design the layout of the site using CSS templates.\n",
      "   - Add interactive elements with JavaScript.\n",
      "\n",
      "5. Testing and Debugging:\n",
      "   - Test the website on various browsers and devices to ensure its functionality.\n",
      "   - Debug any issues or problem areas in the code.\n",
      "\n",
      "6. User Interface Design:\n",
      "   - Design the user interface that is engaging and easy to navigate.\n",
      "   - Incorporate interactive features like sliders, pop-ups, or responsive icons to create a dynamic UI.\n",
      "   - Use best web design principles to ensure usability and accessibility.\n",
      "\n",
      "7. Content Creation:\n",
      "   - Write or curate the informative content about climate change.\n",
      "   - Make sure to structure the content in an easy-to-read and engaging format.\n",
      "   - Include visual elements like infographics, images or videos where suitable.\n",
      "\n",
      "8. Review and Iterations:\n",
      "   - Review the website design, functionalities, and content. \n",
      "   - Make any necessary iterations to improve user interface or content.\n",
      "\n",
      "9. Deployment:\n",
      "   - Choose a suitable domain name and a web hosting service.\n",
      "   - Deploy your website and make it live.\n",
      "\n",
      "10. Promotion and Maintenance:\n",
      "    - Promote the website on different platforms to reach out to your target audience.\n",
      "    - Regularly check and update the website content, design, code, and other performances to ensure everything works properly. \n",
      "\n",
      "Remember, learning is a key goal here. So, make sure to document your challenges, victories, and lessons during this journey.\n",
      "************\n",
      "\n",
      "You haven't provided any specific paragraph description of tasks and goals. Please provide the detailed tasks and their objectives so I can assist in breaking them down into manageable, ordered steps.\n",
      "************\n",
      "- I’m working on getting my finances straightened out. This includes setting up a detailed budget, monitoring my spending habits, and adjusting where necessary. Plus, my goal for the next few weeks is to be more mindful about where my money goes and ideally, put some aside for saving.\n",
      "1. Obtain a complete overview of current financial status:\n",
      "   - Compile all bank statements, balances, outstanding debts, and income sources.\n",
      "   - Detail any regular expenses, both necessary (rent/mortgage, utilities, food) and discretionary (entertainment, eating out).\n",
      "\n",
      "2. Set up a detailed budget: \n",
      "   - List all income sources.\n",
      "   - List all regular expenses.\n",
      "   - Allocate portions of income for each regular expense.\n",
      "   - Include a section in the budget for savings.\n",
      "\n",
      "3. Monitor spending habits:\n",
      "   - Take note of every single expense over a set period, e.g., one month.\n",
      "   - Try to classify each expense into a budget category.\n",
      "   - Review this tracking regularly to understand patterns and any unplanned spending.\n",
      "\n",
      "4. Adjust spending and budget where necessary:\n",
      "   - Identify areas of overspending and develop plans to curb that.\n",
      "   - Reallocate budget funds as necessary based on tracking of expenditure.\n",
      "   - Update the budget regularly based on changes in income and expenses.\n",
      "\n",
      "5. Be more mindful about where money goes:\n",
      "   - Continue tracking all expenses.\n",
      "   - Regularly review and reflect on the necessity/value of each expenditure.\n",
      "   - When considering a purchase, take a moment to consider the budget and whether the expense is planned/affordable.\n",
      "   \n",
      "6. Start a savings plan:\n",
      "   - Determine a reasonable amount to save from each paycheck, taking into account the detailed budget and spending adjustments.\n",
      "   - Set up an automatic transfer to a savings account on each payday to ensure the savings happen.\n",
      "   - Monitor the growth of the savings fund regularly.\n",
      "   - Keep the savings in a separate account or other inaccessible form to avoid the temptation to spend it.\n",
      "\n",
      "7. Set financial goals:\n",
      "   - Decide on short-term and long-term financial goals.\n",
      "   - Make sure these goals are reflected in your budget – you may need to adjust spending in some categories to allow saving for these goals. \n",
      "\n",
      "8. Continue to review the budget and spending regularly – at least monthly – to keep track of your progress towards your financial goals. \n",
      "\n",
      "9. Look into financial advice or assistance if required – if finding the budgeting or saving aspect tough to handle, consider reaching out to a financial advisor or using a financial planning app.\n",
      "************\n",
      "\n",
      "I'm sorry, but I need the specific paragraph description of tasks and goals in order to create a bullet point task list. Could you please provide the detail?\n",
      "************\n",
      "- I’m planning to run a full marathon in the next 3 months, so the next weeks will be full of intense training sessions. My goal is to improve my stamina and ensure my body is prepared for the endurance race.\n",
      "1. Consult a Doctor: To ensure your body is physically capable of handling the stress of marathon preparation and to understand any potential risks due to underlying health conditions.\n",
      "   \n",
      "2. Hire a Personal Trainer: They can help to customize a detailed marathon training plan based on your current fitness level and marathon goals.\n",
      "\n",
      "3. Create a Training Schedule: The schedule should involve a combination of different workouts - long runs, short runs, strength training, and rest days.\n",
      "\n",
      "4. Implement a Diet Plan: To increase stamina, include a balanced amount of proteins, carbohydrates, and fats in your meal. Ensure you're properly hydrated as well.\n",
      "\n",
      "5. Start Training: Begin with moderate training sessions and gradually increase the intensity and duration.  \n",
      "\n",
      "6. Invest in High-Quality Running Gear: This should include good running shoes, comfortable clothing, a water bottle, etc.\n",
      "\n",
      "7. Incorporate Strength and Cross Training: Incorporating exercises like yoga, Pilates, swimming can help build overall strength and stamina.\n",
      "\n",
      "8. Increase Distance Gradually: Increase the running distance by 10% per week to avoid injuries and build endurance.\n",
      "\n",
      "9. Consistent Training: Consistency is essential in marathon training. Make sure to follow the training schedule without skipping.\n",
      "\n",
      "10. Rest and Recover: Allocate ample time for rest and recovery to avoid injuries and fatigue.\n",
      "\n",
      "11. Practice Long Runs: Incorporate one long run per week into your schedule to build endurance.\n",
      "\n",
      "12. Simulate Race Day: As marathon day approaches, practice at the same time the race is going to start to prepare your body for the exact conditions.\n",
      "\n",
      "13. Tapering: Reduce the intensity of your workouts during the final 2-3 weeks before the marathon to allow your body to recover and prepare for the actual marathon.\n",
      "\n",
      "14. Carb-Loading: In the week leading up to the marathon, increase your carbohydrate intake to maximize the energy storage in your muscles.\n",
      "\n",
      "15. Pre-Race Check-up: Do a final check before the race day to ensure you're physically ready and the running gear is in good shape. \n",
      "\n",
      "16. Race Day: Run at a steady pace, stay hydrated, eat energy bars and enjoy the race.\n",
      "************\n",
      "\n",
      "I'm sorry, but I cannot generate a clear plan of action because the description of tasks and goals is not included. Could you please provide me with the specific tasks and goals?\n",
      "************\n",
      "- I am aiming to learn a new language, French, over the course of the next few weeks. My strategy is to dedicate at least an hour each day for this self-paced learning. A new language skill will definitely enhance my personal and professional competencies.\n",
      "- Identify the best French learning resources:\n",
      "    - Language learning apps or programs\n",
      "    - Textbooks or workbooks for grammar and vocabulary\n",
      "    - Audio resources for listening practices  \n",
      "- Set a flexible but consistent schedule for daily language studying.\n",
      "    - Decide on a specific hour in a day which will be solely dedicated to French learning\n",
      "- Begin with the learning process:\n",
      "    - Start with learning the French alphabets and common phrases\n",
      "    - Practice pronunciation by listening and repeating French words/sentences\n",
      "    - Progressively work through grammar rules and build vocabulary\n",
      "- Practice reading and writing in French\n",
      "    - Use French textbooks or stories to enhance reading skills\n",
      "    - Write short passages in French to practice writing skills  \n",
      "- Use language learning apps daily:\n",
      "    - These apps usually come with daily reminders, therefore they can help keep the language learning on track\n",
      "- Engage with French language media:\n",
      "    - Listen to French songs, watch French movies, or read French news to enhance understanding and fluency\n",
      "- Find a language exchange partner or tutor, if possible.  \n",
      "- Practice speaking in French either with a language partner, by attending language meetups, or by talking to oneself in French.\n",
      "- Test your progress regularly:\n",
      "    - Regular assessments can help understand the areas of strength and the areas that require further practice.\n",
      "- Regularly revise the work:\n",
      "    - Consistent revision is a key to retain the new language. \n",
      "- Stay motivated and patient:\n",
      "    - Learning a new language takes time and determination. Do not get discouraged if progress seems slow.  \n",
      "- Use the newly learned language in a professional or personal settings as much as possible to increase the comfort level and fluency.\n",
      "************\n",
      "\n",
      "I'm sorry, but I can't help with this task as you didn't provide any tasks or goals in the description. Please provide the tasks or goals so I can give you a bullet point list about how to accomplish them.\n",
      "************\n",
      "- I'm working on a new art project. This involves creating a series of paintings aimed at expressing different human emotions. Over the next few weeks, my goal is to complete at least five of these artworks.\n",
      "1. Brainstorm Ideas:\n",
      "    - Understand and define the range of human emotions you wish to express.\n",
      "    - Research existing artworks that align with this theme for inspiration.\n",
      "\n",
      "2. Plan and Sketch:\n",
      "    - Plan the layout and thematic elements for each painting.\n",
      "    - Sketch preliminary designs for each of your five chosen emotions. \n",
      "\n",
      "3. Gather Materials:\n",
      "    - Make a list of all necessary art supplies - paints, brushes, canvases etc.\n",
      "    - Purchase art supplies if needed.\n",
      "\n",
      "4. Create Paintings:\n",
      "    - Begin creating the first painting, leaving ample time to add detail and depth.\n",
      "    - Repeat the process for the remaining four pieces.\n",
      "  \n",
      "5. Refine & Review:\n",
      "    - Review each painting - ensure each conveys the intended emotion vividly.\n",
      "    - Make any necessary fine adjustments or additions to enrich the artwork.\n",
      "\n",
      "6. Dry and Preserve:\n",
      "   - Allow ample time for each painting to completely dry.\n",
      "   - Apply a clear, protective coat (varnish/fixative) over the artwork to preserve it.\n",
      "\n",
      "7. Assessment & Reflection:\n",
      "   - Reflect on the process and the final products. \n",
      "   - Identify areas of success and potential improvements for future projects.\n",
      "************\n",
      "\n",
      "Sorry for the inconvenience, but I'm unable to create a list as you've not provided any specific task or goal in the given paragraph description. Please provide specific tasks and goals you want me to break down into steps so I could help you better.\n",
      "************\n",
      "- Over the next few weeks, I will be preparing to present my research at a major conference. My focus will be on refining my presentation and making sure that all the information is accurate and up-to-date.\n",
      "- Dedicatedly review all aspects of the current research project to ensure full understanding.\n",
      "- Identify the key points that need to be presented at the conference.\n",
      "- Start to design the structure of the presentation, selecting the most important and relevant parts of the research.\n",
      "- Create an initial draft of the presentation, including all key points, supporting details, and necessary visuals.\n",
      "- Conduct a thorough fact-check to ensure that all information included in the presentation is both accurate and up-to-date.\n",
      "- Seek feedback on the initial draft from peers and advisors to ensure you're effectively conveying your research findings and insights.\n",
      "- Revise and refine the presentation based on the feedback received, ensuring that the information is clear, concise, and engaging.\n",
      "- Practice delivering the presentation out loud, paying particular attention to pacing, pronunciation, and emphasis.\n",
      "- Adjust presentation content based on practice sessions, focusing on areas where clarity or conciseness may be improved.\n",
      "- Finalize the presentation design, ensuring all visuals properly support the spoken content and are professionally formatted.\n",
      "- Schedule multiple run-throughs of the presentation in the days leading up to the conference to grow more comfortable with the material and ensure a smooth delivery on the day of.\n",
      "- Prepare additional materials like handouts or digital resources if necessary, double-checking for accuracy and relevance.\n",
      "- On the conference day, arrive early to get familiar with the venue and setup any necessary materials or equipment.\n",
      "- Present the research confidently at the conference, knowing the material is well-prepared and thoroughly practiced.\n",
      "************\n",
      "\n",
      "I'm sorry but I cannot proceed without an actual paragraph description of tasks and goals. Could you please provide the tasks and goals in order to create a bullet point list?\n",
      "************\n",
      "- As a chef, the upcoming weeks will see me experimenting with new recipes and preparing a menu for the opening of my restaurant. My aim is to curate an appealing balance between traditional and contemporary flavors.\n",
      "1. Research contemporary and traditional recipes: Reflect on different culinary styles from various cuisines around the world. Look for inspiration in cookbooks, food blogs, food channels, and cultural sources.\n",
      "\n",
      "2. Experiment with new recipes: Make a list of unique and appealing recipes to potentially include in the menu. Procure ingredients and try cooking these recipes. Play around with the ingredients, measurements, and cooking techniques to perfect each dish.\n",
      "\n",
      "3. Taste Test: Conduct taste-testing sessions with a small diverse group of people. Gather their feedback on the taste, texture, appearance, and aroma of each dish.\n",
      "\n",
      "4. Reiterate Recipes: Refine and tweak the recipes based on the feedback received during the taste tests.\n",
      "\n",
      "5. Balance the menu: After deciding on the final list of dishes, ensure the menu has a balanced variety of traditional and contemporary dishes. It might be beneficial to divide the menu into categories (starters, mains, desserts) and maintain a balance within each category as well.\n",
      "\n",
      "6. Plan food sourcing: Determine where to source the ingredients required for each dish. Aim to secure reliable, high-quality suppliers for better taste and presentation.\n",
      "\n",
      "7. Calculate costs: Determine the cost of producing each dish, considering the cost of ingredients, labor, and overhead. This will aid in pricing the dishes on the menu.\n",
      "\n",
      "8. Menu design and printing: Finalize the design and layout of the menu. Ensure it's user-friendly and appeals to the restaurant's target demographic. Arrange for the printing of the menus.\n",
      "\n",
      "9. Training kitchen staff: Conduct training sessions for the kitchen staff on the preparation of each dish on the new menu.\n",
      "\n",
      "10. Grand Opening: Announce the date of the opening, market it through various channels, and make sure everything is ready for that day - food, staff, and environment.\n",
      "************\n",
      "\n",
      "Apologies for the inconvenience, but you haven't provided any descriptions of tasks and goals. Could you please provide them so that I can assist you better?\n",
      "************\n",
      "- I am aiming to complete the first draft of my novel in the next couple of weeks. The main goal is to concentrate on character development and plot progression, ensuring that the storyline remains engaging for the readers.\n",
      "1. Set a Daily Writing Goal: Determine a specific number of pages or words to write each day to ensure that your first draft is completed within the next couple of weeks. \n",
      "\n",
      "2. Create a Character Development Plan: Draft detailed profiles for each main character, describing their past, motivations, fears, and relationships. Think about how you want each character to change or grow by the end of the novel.\n",
      "\n",
      "3. Plan Your Plot Progression: Sketch out a timeline of key events in your story, ensuring there's a logical progression that keeps the readers engaged. Look for any potential plot holes or inconsistencies and refine as needed.\n",
      "\n",
      "4. Write Regularly: Consistency is key in writing. Make sure to dedicate a certain amount of time each day specifically for writing.\n",
      "\n",
      "5. Develop Your Settings: Ensure your settings are compelling and add depth to your story. They can also affect your characters' behavior and the progression of the plot.\n",
      "\n",
      "6. Balance Dialogue and Description: Maintain a balance between both elements to keep the story engaging. Too much description can become monotonous, while too much dialogue may not provide sufficient context.\n",
      "\n",
      "7. Emphasize Conflict: Incorporate conflict and resolution into your plot to maintain readers' interest and drive the story forward.\n",
      "\n",
      "8. Seek Feedback: Regularly share your work with a trusted mentor or peer group. They can provide valuable feedback regarding your character development and plot progression.\n",
      "\n",
      "9. Review and Edit: Continuously revise your draft to improve sentence structure, clarity, and coherence. Pay attention to language and grammar errors.\n",
      "\n",
      "10. Stay Healthy and Rested: Do not compromise your health in the process of achieving your writing goals. Ensure you are getting enough sleep, eating right, and taking breaks as needed to rest your mind.\n",
      "\n",
      "11. Stay Motivated: Keep a positive mindset and remember why you wanted to write this story. This will help you through any difficult phases. \n",
      "\n",
      "12. Celebrate Milestones: Create smaller goals within your main goal. When you achieve these smaller goals, celebrate them. This can provide valuable motivation.\n",
      "************\n",
      "\n",
      "Unfortunately, the specific description of tasks and goals to be accomplished was not provided in your request. Could you please share the tasks and goals you need a bullet point list for? I'm happy to help once I have more specificity.\n",
      "************\n",
      "- I am preparing for my thesis defense due in two weeks. Most of my time will be devoted to mastering my presentation, seeking the inputs from my guides, and getting ready to answer any tricky queries thrown at me.\n",
      "1. Develop a detailed schedule outlining time allocation for each task including presentation preparation, consultation with guides, and anticipation of potential questions.\n",
      "2. Start preparation with a deep understanding of the thesis content including reviewing the methodology, results obtained, and conclusions made.\n",
      "3. Design the structure of the defense presentation. Include introduction, methodology, key findings, and conclusion. \n",
      "4. Refine the presentation ensuring that it communicates the thesis work clearly and effectively.\n",
      "5. Practice the presentation multiple times to build confidence.\n",
      "6. Schedule regular meetings with project guides or supervisors to seek their insights and suggestions. \n",
      "7. Implement modifications to the presentation based on the feedback received.\n",
      "8. Anticipate possible questions that might be asked during the defense.\n",
      "9. Prepare sound responses to all anticipated questions.\n",
      "10. Monitor your stress levels and implement stress management strategies as needed. This might include good sleep, healthy diet, exercise and relaxation techniques.\n",
      "11. Try a few mock defenses to simulate actual conditions. This could be done with colleagues or your guides. \n",
      "12. Be open to receiving and making last-minute adjustments as per the feedback during mock defenses.\n",
      "13. Finalize the presentation and the answers to potential questions.\n",
      "14. Review the final draft of the presentation, ensuring the complete understanding of every point and fact.\n",
      "15. Rest well the day before the defense to be physically and mentally prepared for the big day.\n",
      "16. Keep necessary materials ready a day before the presentation to mitigate last-minute stress.\n",
      "************\n",
      "\n",
      "Apologies for the confusion but could you please provide more context? The paragraph description of tasks and goals is not provided in your message. I am unable to continue without this information.\n",
      "************\n",
      "- My plan for the next few weeks is to learn coding concepts and programming languages. I am starting with Python and then moving on to JavaScript.  \n",
      "1. Identify learning resources:\n",
      "    - Explore Python official website and documentation.\n",
      "    - Search for online coding platforms like Codecademy, Udacity, Coursera.\n",
      "\n",
      "2. Learn the basics of programming:\n",
      "    - Understand the fundamental concepts of coding, such as variables, loops, data structures, and functions.\n",
      "    - Explore different problem-solving techniques in coding.\n",
      "\n",
      "3. Start learning Python:\n",
      "    - Go through the Python syntax and basic programming concepts.\n",
      "    - Practice Python exercises regularly to reinforce learning.\n",
      "    - Start working on small projects using Python.\n",
      "\n",
      "4. Assess your understanding:\n",
      "    - Complete quizzes and assignments to evaluate your knowledge and understanding.\n",
      "    - Work on medium level projects and practice Python coding on different platforms.\n",
      "\n",
      "5. Escalate your learning:\n",
      "    - Learn advanced Python concepts.\n",
      "    - Try to involve yourself in complex projects.\n",
      "    - Participate in coding challenges and competitions to refine your skills.\n",
      "\n",
      "6. Learn JavaScript:\n",
      "    - Go through the basics of JavaScript language.\n",
      "    - Understand the role of JavaScript in web development.\n",
      "    - Start working on small web projects involving JavaScript.\n",
      "\n",
      "7. Practice JavaScript:\n",
      "    - Practice JavaScript coding on different platforms.\n",
      "    - Evaluate your JavaScript knowledge by completing quizzes and assignments.\n",
      "\n",
      "8. Go into depth:\n",
      "    - Learn advanced JavaScript.\n",
      "    - Start to immerse yourself in complex web development projects.\n",
      "    - Participate in coding challenges and competitions for further refinement.\n",
      "\n",
      "9. Review your progress:\n",
      "    - Review your understanding of both languages, identify areas of strength and areas requiring more study.\n",
      "    - Continue to engage in projects and challenges that push your skills.\n",
      "    \n",
      "10. Keep up-to-date:\n",
      "    - Stay updated with the latest trends and updates in Python and JavaScript.\n",
      "    - Continue learning other concepts and languages.\n",
      "************\n",
      "\n",
      "Apologies for any confusion, but I need the specific paragraph description of the tasks and goals to create a bullet point list with all the necessary steps to fulfill them. Please provide that.\n",
      "************\n",
      "- Ahead of me in the upcoming weeks is a web design course. My focus will be not only on mastering the theoretical aspects but also on acquiring hands-on experience. My final goal is to create an aesthetic and fully functional website prototype.\n",
      "1. Research on Web Design: Begin by gaining a foundational understanding of what web design entails. This would involve learning about the building blocks of a website such as HTML, CSS, and JavaScript. Understand the principles of good design and usability. \n",
      "\n",
      "2. Enroll in a Web Design Course: Choose a suitable course that offers a balance between theoretical knowledge and practical experience. Make sure that the curriculum covers all the essential components of web design. \n",
      "\n",
      "3. Actively Participate in Classes: Stay engaged in coursework, take notes, and ask questions. Focus on understanding and applying what you learn.\n",
      "\n",
      "4. Dedicate time for Self-Study: In addition to the course, allocate time for self-study to expand your knowledge and clarify any doubts. \n",
      "\n",
      "5. Hands-on Practice: Apply the knowledge acquired from the course on practical tasks. Hands-on experience is important in gaining a deeper understanding and feel of web design. \n",
      "\n",
      "6. Build Projects: Start building small projects progressively. This could be a one-page website design or a simple layout. Each project will give you confidence and improve your skill set. \n",
      "\n",
      "7. Seek Feedback: Share your projects with others, seek their feedback, and make improvements. This will help to refine your designs and understand different perspectives.\n",
      "\n",
      "8. Create a Prototype: Use the cumulative knowledge and skills you have garnered to create an aesthetic and fully functional website prototype. \n",
      "\n",
      "9. Test the Prototype: Make sure to adequately test your prototype for any errors or design flaws. \n",
      "\n",
      "10. Implement Feedback and Adjustments: Based on the testing results, implement suitable changes to improve the functionality and design.\n",
      "\n",
      "11. Rinse and Repeat: Keep refining the website to make it better each time. \n",
      "\n",
      "12. Document your Learning and Project Progress: Keep a record of all your learning and project progress. This could be useful for future reference and also as a way to check your progress.\n",
      "************\n",
      "\n",
      "I'm sorry but I can't create a task list since the paragraph description of tasks and goals wasn't provided. Could you please provide the details?\n",
      "************\n",
      "- I am planning to read several books on personal development in the upcoming weeks. Each represents a different aspect that I aim to improve, such as leadership skills, emotional intelligence, and money management.\n",
      "1. Identify Specific Books: Begin by selecting the desired books for each particular skill set you wish to develop. Look for books that have high ratings or are recommended by experts in each field.\n",
      "\n",
      "2. Set a Reading Schedule: Create a specific reading schedule. Dedicate a certain amount of time each day for reading. The schedule can include one book at a time or rotate between the books, depending on your preference.\n",
      "\n",
      "3. Purchase or Borrow Books: Once you have a list, purchase or borrow the books from a library or online platform.\n",
      "\n",
      "4. Note Taking: As you read, keep a note pad or use an online note taking service to jot down important points, insights, and any practice exercises presented in the books.\n",
      "\n",
      "5. Reflect and Practice: Take the time to reflect on what you have learned from each book. Practice the concepts discussed as much as possible to allow the knowledge to integrate into your daily living.\n",
      "\n",
      "6. Join Online Discussions/Book Clubs: Join online discussions or book clubs focusing on personal development. This will allow the concepts you learned to be explored further, and you can gain different perspectives.\n",
      "\n",
      "7. Apply to Real-Life Situations: Start using the strategies and lessons in real-life situations to improve your leadership skills, emotional intelligence, and money management.\n",
      "\n",
      "8. Evaluate Progress: After practicing the methods learned, evaluate your progress. Note any improvements or obstacles to address.\n",
      "\n",
      "9. Seek Additional Tools/Resources: After having read and started practicing, you may identify areas where you need further assistance. Look for additional resources such as articles, courses, online tools, or coaching to support these areas.\n",
      "\n",
      "10. Repeat the Process: Once you've completed and mastered one area, move on to the next book. Also, continually revisit previous books to refresh your knowledge and integrate the learned skills into your daily life.\n",
      "************\n",
      "\n",
      "Sorry for the confusion, but I can't generate a list of necessary steps because the description of tasks and goals you mentioned isn't included in your request. Could you please provide me with the details? I'd be glad to help you with your request once I have more information.\n",
      "************\n",
      "- For the next few weeks, I'm preparing for my upcoming backpacking trip. I'll be planning the route, gathering the necessary supplies, and researching potential shelters along the way. \n",
      "1. Select Desired Destination: \n",
      "   - Research potential destinations suitable for backpacking.\n",
      "   - Evaluate the destinations based on factors such as distance, landscape, weather conditions, and personal preference.\n",
      "\n",
      "2. Plan the Route:\n",
      "   - Investigate the specific trails and terrains available at the chosen destination.\n",
      "   - Decide on a route considering the difficulty level and physical fitness.\n",
      "   - Ensure to mark resting points, potential shelters, and emergency exits.\n",
      "\n",
      "3. Gather Necessary Supplies:\n",
      "   - Research and prepare a list of items required for backpacking.\n",
      "   - Check existing gear and determine what additional equipment is needed.\n",
      "   - Prioritize the list based on necessity: backpack, tent, sleeping bag, clothing, food and water supplies, cooking tool, navigation aids etc.\n",
      "   - Purchase or borrow missing items.\n",
      "\n",
      "4. Research Potential Shelters:\n",
      "   - Look up forests, national parks, campsites, and cabins that allow overnight stay.\n",
      "   - Consider safety, weather resistance, availability and proximity to the backpacking route.\n",
      "   - Contact owners or administrators of potential shelters for availability and rules.\n",
      "\n",
      "5. Physical Preparation:\n",
      "   - Begin a fitness routine suitable for the trip if you don't have one already.\n",
      "   - Consult with a doctor for health clearance if necessary.\n",
      "\n",
      "6. Inform Someone About Your Plan:\n",
      "   - Share specific details of the planned route with a trusted contact.\n",
      "   - Discuss estimated times of departure and arrival, and the potential shelters.\n",
      "\n",
      "7. Test Gear Before the Trip:\n",
      "   - Test all equipment to ensure it is working condition.\n",
      "   - Learn how to use new equipment or gear.\n",
      "\n",
      "8. Prepare First-aid and Emergency Supplies:\n",
      "   - Gather and pack first-aid essentials.\n",
      "   - Learn essential first-aid skills if you don't already have them.\n",
      "   - Pack any necessary emergency supplies such as a flashlight, whistle, and multi-tool.\n",
      "\n",
      "9. Pack Food and Water Supplies:\n",
      "   - Plan meals for each day of the trip.\n",
      "   - Carry portable water filters or purification tablets for safe drinking water.\n",
      "\n",
      "10. Final Check:\n",
      "    - Review all preparations one last time.\n",
      "    - Check weather updates and any changes in the destination area.\n",
      "************\n",
      "\n",
      "I apologise for the misunderstanding, but I'll need the actual paragraph description of tasks and goals to breakdown. Could you please provide the necessary information? I'll be more than happy to help create the bullet point list afterwards.\n",
      "************\n",
      "- My professional certification exam is due in a month, so the upcoming weeks will be dedicated to thorough revision and practice. I am aiming to ace it this time, enhancing my career prospects.\n",
      "1. Determine the syllabus and topics covered in the professional certification examination.\n",
      "2. Gather all the necessary study material and resources for each topic.\n",
      "3. Develop a study schedule that accounts for the time remaining before the examination; make sure to include breaks for rest and refreshment.\n",
      "4. Allocate more revision time to areas you find challenging or where you scored low in past attempts.\n",
      "5. Regularly practice with past or sample examination papers to gain familiarity with question formats and time management.\n",
      "6. Set weekly goals and track your progress to ensure you are meeting your study targets.\n",
      "7. Look for online forums or study groups where you can discuss and resolve your doubts and learn through the experience of others.\n",
      "8. Take care of your health by maintaining a balanced diet, exercising regularly, and getting sufficient sleep; this is important for optimum brain function and concentration.\n",
      "9. Prepare a checklist of all items you need to take to the exam, such as ID, stationery, etc.\n",
      "10. Review the examination rules and regulations to avoid any penalties or disqualifications.\n",
      "11. A few days before the exam, start tapering down your study to avoid burnout.\n",
      "12. A day before the exam, relax and get a good night's sleep to be fresh and alert on the exam day.\n",
      "13. On the day of the exam, have a light meal, reach the exam venue in advance and stay calm and focused during the exam.\n",
      "14. After the exam, review your performance and note down areas for improvement for future reference. Don't forget to update your CV and LinkedIn profile once you've died your certification.\n",
      "************\n"
     ]
    }
   ],
   "source": [
    "for desc,steps in zip(task_list_prompts, task_steps):\n",
    "    print(desc) \n",
    "    print(steps)\n",
    "    print(\"************\")   "
   ]
  },
  {
   "cell_type": "code",
   "execution_count": 49,
   "metadata": {},
   "outputs": [
    {
     "name": "stdout",
     "output_type": "stream",
     "text": [
      "[1, 3, 5, 7, 9, 11, 13, 15, 17, 19, 21, 23, 25, 27]\n"
     ]
    }
   ],
   "source": [
    "empty_indices = [i for i, x in enumerate(task_list_prompts) if not x]\n",
    "print(empty_indices)"
   ]
  },
  {
   "cell_type": "code",
   "execution_count": 55,
   "metadata": {},
   "outputs": [],
   "source": [
    "# Define the indexes to remove\n",
    "indexes_to_remove = [1, 3, 5, 7, 9, 11, 13, 15, 17, 19, 21, 23, 25, 27]\n",
    "\n",
    "# Remove the elements with the given indexes from task_list_prompts and task_steps\n",
    "task_list_prompts = [t for i, t in enumerate(task_list_prompts) if i not in indexes_to_remove]\n",
    "task_steps = [t for i, t in enumerate(task_steps) if i not in indexes_to_remove]"
   ]
  },
  {
   "cell_type": "code",
   "execution_count": null,
   "metadata": {},
   "outputs": [],
   "source": [
    "# prompt_to_gpt4 = \"\"\"Consider this format for a dataset for the chatgpt fine tuning api:\n",
    "# '''\n",
    "# {\"messages\": [{\"role\": \"system\", \"content\": \"Marv is a factual chatbot that is also sarcastic.\"}, {\"role\": \"user\", \"content\": \"What's the capital of France?\"}, {\"role\": \"assistant\", \"content\": \"Paris, as if everyone doesn't know that already.\"}]}\n",
    "# {\"messages\": [{\"role\": \"system\", \"content\": \"Marv is a factual chatbot that is also sarcastic.\"}, {\"role\": \"user\", \"content\": \"Who wrote 'Romeo and Juliet'?\"}, {\"role\": \"assistant\", \"content\": \"Oh, just some guy named William Shakespeare. Ever heard of him?\"}]}\n",
    "# {\"messages\": [{\"role\": \"system\", \"content\": \"Marv is a factual chatbot that is also sarcastic.\"}, {\"role\": \"user\", \"content\": \"How far is the Moon from Earth?\"}, {\"role\": \"assistant\", \"content\": \"Around 384,400 kilometers. Give or take a few, like that really matters.\"}]}\n",
    "# '''\n",
    "\n",
    "# Write the python code to create a dataset like this one programatically given that the system prompt will always be: \"You are a helpful planning assistant\"\n",
    "# and that the user prompts will be inside a list called 'task_list_prompts' and the assistant content will be inside a list called 'task_steps'.\"\"\""
   ]
  },
  {
   "cell_type": "code",
   "execution_count": 58,
   "metadata": {},
   "outputs": [],
   "source": [
    "import json\n",
    "\n",
    "# Ensure the lists have the same length\n",
    "assert len(task_list_prompts) == len(task_steps), \"Mismatched lengths between prompts and responses\"\n",
    "\n",
    "# Creating the dataset\n",
    "dataset = []\n",
    "system_prompt = \"You are a helpful planning assistant\"\n",
    "\n",
    "for user_content, assistant_content in zip(task_list_prompts, task_steps):\n",
    "    interaction = {\n",
    "        \"messages\": [\n",
    "            {\"role\": \"system\", \"content\": system_prompt},\n",
    "            {\"role\": \"user\", \"content\": user_content},\n",
    "            {\"role\": \"assistant\", \"content\": assistant_content}\n",
    "        ]\n",
    "    }\n",
    "    dataset.append(interaction)"
   ]
  },
  {
   "cell_type": "code",
   "execution_count": 59,
   "metadata": {},
   "outputs": [
    {
     "data": {
      "text/plain": [
       "[{'messages': [{'role': 'system',\n",
       "    'content': 'You are a helpful planning assistant'},\n",
       "   {'role': 'user',\n",
       "    'content': \"- I need to pick up the pace on my academic research assignment. I'll be spending the next few weeks rigorously scrutinizing the sources, journal articles, and additional materials I've collected. My aim is to understand the relationships in the data and eventually find a significant inference.\"},\n",
       "   {'role': 'assistant',\n",
       "    'content': '1. **Planning and Scheduling:** Develop a detailed plan and schedule for the next few weeks. This should include targets for completing specific sections of the research.\\n\\n2. **Organizing sources and materials:** For effective and quick retrieval, organize all the accumulated sources, journal articles, and additional materials coherently.\\n\\n3. **Comprehensive Analysis:** Rigorously scrutinize every source, journal article, and additional material. \\n\\n4. **Data Interpretation and Visualization:** Use analytical methods to interpret data, observing patterns and trends from the raw data. Consider various data visualization tools to make the interpretation easier.\\n\\n5. **Drawing Relationships:** Study the data to understand relationships between different variables. This could involve using statistical tools to determine correlations or causal relationships.\\n\\n6. **Finding Significant Inference:** Based on the relationships drawn from the data, arrive at a significant conclusion or inference.\\n\\n7. **Documentation:** Document all findings and the process in an organized and easy-to-understand manner. The documentation process may also involve writing an academic paper with the findings.\\n   \\n8. **Editing and Proofreading:** Ensure the final document or thesis is checked for any errors in spelling, grammar, syntax and format. \\n\\n9. **Preparation for Presentation:** Prepare a presentation of the findings, focusing on the significant inference and the process followed to reach it.\\n  \\n10. **Evaluation of Final Work:** Review the completed work to ensure that all goals and requirements were met. If necessary, make any final adjustments.'}]},\n",
       " {'messages': [{'role': 'system',\n",
       "    'content': 'You are a helpful planning assistant'},\n",
       "   {'role': 'user',\n",
       "    'content': \"- I am planning on developing my own website in the coming weeks. It's going to be an informative platform about climate change. I will be using HTML, CSS, and JavaScript for this. My goal is to learn more in the process and create an engaging user interface.\"},\n",
       "   {'role': 'assistant',\n",
       "    'content': \"1. Research on Website Development:\\n   - Understand the basics of HTML, CSS, and JavaScript if not already familiar.\\n   - Explore and Analyze existing informative platforms about climate change for inspiration.\\n\\n2. Planning:\\n   - Define the purpose of the website.\\n   - Decide on the amount and type of content to be placed on the website.\\n   - Sketch a crude layout of the website's user interface based on the content.\\n\\n3. Learning about Climate Change:\\n   - Conduct research on climate change and gather credible sources.\\n   - Plan on how to present the information in an engaging way.\\n\\n4. Web Development:\\n   - Begin coding the basic structure of the webpages using HTML.\\n   - Design the layout of the site using CSS templates.\\n   - Add interactive elements with JavaScript.\\n\\n5. Testing and Debugging:\\n   - Test the website on various browsers and devices to ensure its functionality.\\n   - Debug any issues or problem areas in the code.\\n\\n6. User Interface Design:\\n   - Design the user interface that is engaging and easy to navigate.\\n   - Incorporate interactive features like sliders, pop-ups, or responsive icons to create a dynamic UI.\\n   - Use best web design principles to ensure usability and accessibility.\\n\\n7. Content Creation:\\n   - Write or curate the informative content about climate change.\\n   - Make sure to structure the content in an easy-to-read and engaging format.\\n   - Include visual elements like infographics, images or videos where suitable.\\n\\n8. Review and Iterations:\\n   - Review the website design, functionalities, and content. \\n   - Make any necessary iterations to improve user interface or content.\\n\\n9. Deployment:\\n   - Choose a suitable domain name and a web hosting service.\\n   - Deploy your website and make it live.\\n\\n10. Promotion and Maintenance:\\n    - Promote the website on different platforms to reach out to your target audience.\\n    - Regularly check and update the website content, design, code, and other performances to ensure everything works properly. \\n\\nRemember, learning is a key goal here. So, make sure to document your challenges, victories, and lessons during this journey.\"}]},\n",
       " {'messages': [{'role': 'system',\n",
       "    'content': 'You are a helpful planning assistant'},\n",
       "   {'role': 'user',\n",
       "    'content': '- I’m working on getting my finances straightened out. This includes setting up a detailed budget, monitoring my spending habits, and adjusting where necessary. Plus, my goal for the next few weeks is to be more mindful about where my money goes and ideally, put some aside for saving.'},\n",
       "   {'role': 'assistant',\n",
       "    'content': '1. Obtain a complete overview of current financial status:\\n   - Compile all bank statements, balances, outstanding debts, and income sources.\\n   - Detail any regular expenses, both necessary (rent/mortgage, utilities, food) and discretionary (entertainment, eating out).\\n\\n2. Set up a detailed budget: \\n   - List all income sources.\\n   - List all regular expenses.\\n   - Allocate portions of income for each regular expense.\\n   - Include a section in the budget for savings.\\n\\n3. Monitor spending habits:\\n   - Take note of every single expense over a set period, e.g., one month.\\n   - Try to classify each expense into a budget category.\\n   - Review this tracking regularly to understand patterns and any unplanned spending.\\n\\n4. Adjust spending and budget where necessary:\\n   - Identify areas of overspending and develop plans to curb that.\\n   - Reallocate budget funds as necessary based on tracking of expenditure.\\n   - Update the budget regularly based on changes in income and expenses.\\n\\n5. Be more mindful about where money goes:\\n   - Continue tracking all expenses.\\n   - Regularly review and reflect on the necessity/value of each expenditure.\\n   - When considering a purchase, take a moment to consider the budget and whether the expense is planned/affordable.\\n   \\n6. Start a savings plan:\\n   - Determine a reasonable amount to save from each paycheck, taking into account the detailed budget and spending adjustments.\\n   - Set up an automatic transfer to a savings account on each payday to ensure the savings happen.\\n   - Monitor the growth of the savings fund regularly.\\n   - Keep the savings in a separate account or other inaccessible form to avoid the temptation to spend it.\\n\\n7. Set financial goals:\\n   - Decide on short-term and long-term financial goals.\\n   - Make sure these goals are reflected in your budget – you may need to adjust spending in some categories to allow saving for these goals. \\n\\n8. Continue to review the budget and spending regularly – at least monthly – to keep track of your progress towards your financial goals. \\n\\n9. Look into financial advice or assistance if required – if finding the budgeting or saving aspect tough to handle, consider reaching out to a financial advisor or using a financial planning app.'}]},\n",
       " {'messages': [{'role': 'system',\n",
       "    'content': 'You are a helpful planning assistant'},\n",
       "   {'role': 'user',\n",
       "    'content': '- I’m planning to run a full marathon in the next 3 months, so the next weeks will be full of intense training sessions. My goal is to improve my stamina and ensure my body is prepared for the endurance race.'},\n",
       "   {'role': 'assistant',\n",
       "    'content': \"1. Consult a Doctor: To ensure your body is physically capable of handling the stress of marathon preparation and to understand any potential risks due to underlying health conditions.\\n   \\n2. Hire a Personal Trainer: They can help to customize a detailed marathon training plan based on your current fitness level and marathon goals.\\n\\n3. Create a Training Schedule: The schedule should involve a combination of different workouts - long runs, short runs, strength training, and rest days.\\n\\n4. Implement a Diet Plan: To increase stamina, include a balanced amount of proteins, carbohydrates, and fats in your meal. Ensure you're properly hydrated as well.\\n\\n5. Start Training: Begin with moderate training sessions and gradually increase the intensity and duration.  \\n\\n6. Invest in High-Quality Running Gear: This should include good running shoes, comfortable clothing, a water bottle, etc.\\n\\n7. Incorporate Strength and Cross Training: Incorporating exercises like yoga, Pilates, swimming can help build overall strength and stamina.\\n\\n8. Increase Distance Gradually: Increase the running distance by 10% per week to avoid injuries and build endurance.\\n\\n9. Consistent Training: Consistency is essential in marathon training. Make sure to follow the training schedule without skipping.\\n\\n10. Rest and Recover: Allocate ample time for rest and recovery to avoid injuries and fatigue.\\n\\n11. Practice Long Runs: Incorporate one long run per week into your schedule to build endurance.\\n\\n12. Simulate Race Day: As marathon day approaches, practice at the same time the race is going to start to prepare your body for the exact conditions.\\n\\n13. Tapering: Reduce the intensity of your workouts during the final 2-3 weeks before the marathon to allow your body to recover and prepare for the actual marathon.\\n\\n14. Carb-Loading: In the week leading up to the marathon, increase your carbohydrate intake to maximize the energy storage in your muscles.\\n\\n15. Pre-Race Check-up: Do a final check before the race day to ensure you're physically ready and the running gear is in good shape. \\n\\n16. Race Day: Run at a steady pace, stay hydrated, eat energy bars and enjoy the race.\"}]},\n",
       " {'messages': [{'role': 'system',\n",
       "    'content': 'You are a helpful planning assistant'},\n",
       "   {'role': 'user',\n",
       "    'content': '- I am aiming to learn a new language, French, over the course of the next few weeks. My strategy is to dedicate at least an hour each day for this self-paced learning. A new language skill will definitely enhance my personal and professional competencies.'},\n",
       "   {'role': 'assistant',\n",
       "    'content': '- Identify the best French learning resources:\\n    - Language learning apps or programs\\n    - Textbooks or workbooks for grammar and vocabulary\\n    - Audio resources for listening practices  \\n- Set a flexible but consistent schedule for daily language studying.\\n    - Decide on a specific hour in a day which will be solely dedicated to French learning\\n- Begin with the learning process:\\n    - Start with learning the French alphabets and common phrases\\n    - Practice pronunciation by listening and repeating French words/sentences\\n    - Progressively work through grammar rules and build vocabulary\\n- Practice reading and writing in French\\n    - Use French textbooks or stories to enhance reading skills\\n    - Write short passages in French to practice writing skills  \\n- Use language learning apps daily:\\n    - These apps usually come with daily reminders, therefore they can help keep the language learning on track\\n- Engage with French language media:\\n    - Listen to French songs, watch French movies, or read French news to enhance understanding and fluency\\n- Find a language exchange partner or tutor, if possible.  \\n- Practice speaking in French either with a language partner, by attending language meetups, or by talking to oneself in French.\\n- Test your progress regularly:\\n    - Regular assessments can help understand the areas of strength and the areas that require further practice.\\n- Regularly revise the work:\\n    - Consistent revision is a key to retain the new language. \\n- Stay motivated and patient:\\n    - Learning a new language takes time and determination. Do not get discouraged if progress seems slow.  \\n- Use the newly learned language in a professional or personal settings as much as possible to increase the comfort level and fluency.'}]},\n",
       " {'messages': [{'role': 'system',\n",
       "    'content': 'You are a helpful planning assistant'},\n",
       "   {'role': 'user',\n",
       "    'content': \"- I'm working on a new art project. This involves creating a series of paintings aimed at expressing different human emotions. Over the next few weeks, my goal is to complete at least five of these artworks.\"},\n",
       "   {'role': 'assistant',\n",
       "    'content': '1. Brainstorm Ideas:\\n    - Understand and define the range of human emotions you wish to express.\\n    - Research existing artworks that align with this theme for inspiration.\\n\\n2. Plan and Sketch:\\n    - Plan the layout and thematic elements for each painting.\\n    - Sketch preliminary designs for each of your five chosen emotions. \\n\\n3. Gather Materials:\\n    - Make a list of all necessary art supplies - paints, brushes, canvases etc.\\n    - Purchase art supplies if needed.\\n\\n4. Create Paintings:\\n    - Begin creating the first painting, leaving ample time to add detail and depth.\\n    - Repeat the process for the remaining four pieces.\\n  \\n5. Refine & Review:\\n    - Review each painting - ensure each conveys the intended emotion vividly.\\n    - Make any necessary fine adjustments or additions to enrich the artwork.\\n\\n6. Dry and Preserve:\\n   - Allow ample time for each painting to completely dry.\\n   - Apply a clear, protective coat (varnish/fixative) over the artwork to preserve it.\\n\\n7. Assessment & Reflection:\\n   - Reflect on the process and the final products. \\n   - Identify areas of success and potential improvements for future projects.'}]},\n",
       " {'messages': [{'role': 'system',\n",
       "    'content': 'You are a helpful planning assistant'},\n",
       "   {'role': 'user',\n",
       "    'content': '- Over the next few weeks, I will be preparing to present my research at a major conference. My focus will be on refining my presentation and making sure that all the information is accurate and up-to-date.'},\n",
       "   {'role': 'assistant',\n",
       "    'content': \"- Dedicatedly review all aspects of the current research project to ensure full understanding.\\n- Identify the key points that need to be presented at the conference.\\n- Start to design the structure of the presentation, selecting the most important and relevant parts of the research.\\n- Create an initial draft of the presentation, including all key points, supporting details, and necessary visuals.\\n- Conduct a thorough fact-check to ensure that all information included in the presentation is both accurate and up-to-date.\\n- Seek feedback on the initial draft from peers and advisors to ensure you're effectively conveying your research findings and insights.\\n- Revise and refine the presentation based on the feedback received, ensuring that the information is clear, concise, and engaging.\\n- Practice delivering the presentation out loud, paying particular attention to pacing, pronunciation, and emphasis.\\n- Adjust presentation content based on practice sessions, focusing on areas where clarity or conciseness may be improved.\\n- Finalize the presentation design, ensuring all visuals properly support the spoken content and are professionally formatted.\\n- Schedule multiple run-throughs of the presentation in the days leading up to the conference to grow more comfortable with the material and ensure a smooth delivery on the day of.\\n- Prepare additional materials like handouts or digital resources if necessary, double-checking for accuracy and relevance.\\n- On the conference day, arrive early to get familiar with the venue and setup any necessary materials or equipment.\\n- Present the research confidently at the conference, knowing the material is well-prepared and thoroughly practiced.\"}]},\n",
       " {'messages': [{'role': 'system',\n",
       "    'content': 'You are a helpful planning assistant'},\n",
       "   {'role': 'user',\n",
       "    'content': '- As a chef, the upcoming weeks will see me experimenting with new recipes and preparing a menu for the opening of my restaurant. My aim is to curate an appealing balance between traditional and contemporary flavors.'},\n",
       "   {'role': 'assistant',\n",
       "    'content': \"1. Research contemporary and traditional recipes: Reflect on different culinary styles from various cuisines around the world. Look for inspiration in cookbooks, food blogs, food channels, and cultural sources.\\n\\n2. Experiment with new recipes: Make a list of unique and appealing recipes to potentially include in the menu. Procure ingredients and try cooking these recipes. Play around with the ingredients, measurements, and cooking techniques to perfect each dish.\\n\\n3. Taste Test: Conduct taste-testing sessions with a small diverse group of people. Gather their feedback on the taste, texture, appearance, and aroma of each dish.\\n\\n4. Reiterate Recipes: Refine and tweak the recipes based on the feedback received during the taste tests.\\n\\n5. Balance the menu: After deciding on the final list of dishes, ensure the menu has a balanced variety of traditional and contemporary dishes. It might be beneficial to divide the menu into categories (starters, mains, desserts) and maintain a balance within each category as well.\\n\\n6. Plan food sourcing: Determine where to source the ingredients required for each dish. Aim to secure reliable, high-quality suppliers for better taste and presentation.\\n\\n7. Calculate costs: Determine the cost of producing each dish, considering the cost of ingredients, labor, and overhead. This will aid in pricing the dishes on the menu.\\n\\n8. Menu design and printing: Finalize the design and layout of the menu. Ensure it's user-friendly and appeals to the restaurant's target demographic. Arrange for the printing of the menus.\\n\\n9. Training kitchen staff: Conduct training sessions for the kitchen staff on the preparation of each dish on the new menu.\\n\\n10. Grand Opening: Announce the date of the opening, market it through various channels, and make sure everything is ready for that day - food, staff, and environment.\"}]},\n",
       " {'messages': [{'role': 'system',\n",
       "    'content': 'You are a helpful planning assistant'},\n",
       "   {'role': 'user',\n",
       "    'content': '- I am aiming to complete the first draft of my novel in the next couple of weeks. The main goal is to concentrate on character development and plot progression, ensuring that the storyline remains engaging for the readers.'},\n",
       "   {'role': 'assistant',\n",
       "    'content': \"1. Set a Daily Writing Goal: Determine a specific number of pages or words to write each day to ensure that your first draft is completed within the next couple of weeks. \\n\\n2. Create a Character Development Plan: Draft detailed profiles for each main character, describing their past, motivations, fears, and relationships. Think about how you want each character to change or grow by the end of the novel.\\n\\n3. Plan Your Plot Progression: Sketch out a timeline of key events in your story, ensuring there's a logical progression that keeps the readers engaged. Look for any potential plot holes or inconsistencies and refine as needed.\\n\\n4. Write Regularly: Consistency is key in writing. Make sure to dedicate a certain amount of time each day specifically for writing.\\n\\n5. Develop Your Settings: Ensure your settings are compelling and add depth to your story. They can also affect your characters' behavior and the progression of the plot.\\n\\n6. Balance Dialogue and Description: Maintain a balance between both elements to keep the story engaging. Too much description can become monotonous, while too much dialogue may not provide sufficient context.\\n\\n7. Emphasize Conflict: Incorporate conflict and resolution into your plot to maintain readers' interest and drive the story forward.\\n\\n8. Seek Feedback: Regularly share your work with a trusted mentor or peer group. They can provide valuable feedback regarding your character development and plot progression.\\n\\n9. Review and Edit: Continuously revise your draft to improve sentence structure, clarity, and coherence. Pay attention to language and grammar errors.\\n\\n10. Stay Healthy and Rested: Do not compromise your health in the process of achieving your writing goals. Ensure you are getting enough sleep, eating right, and taking breaks as needed to rest your mind.\\n\\n11. Stay Motivated: Keep a positive mindset and remember why you wanted to write this story. This will help you through any difficult phases. \\n\\n12. Celebrate Milestones: Create smaller goals within your main goal. When you achieve these smaller goals, celebrate them. This can provide valuable motivation.\"}]},\n",
       " {'messages': [{'role': 'system',\n",
       "    'content': 'You are a helpful planning assistant'},\n",
       "   {'role': 'user',\n",
       "    'content': '- I am preparing for my thesis defense due in two weeks. Most of my time will be devoted to mastering my presentation, seeking the inputs from my guides, and getting ready to answer any tricky queries thrown at me.'},\n",
       "   {'role': 'assistant',\n",
       "    'content': '1. Develop a detailed schedule outlining time allocation for each task including presentation preparation, consultation with guides, and anticipation of potential questions.\\n2. Start preparation with a deep understanding of the thesis content including reviewing the methodology, results obtained, and conclusions made.\\n3. Design the structure of the defense presentation. Include introduction, methodology, key findings, and conclusion. \\n4. Refine the presentation ensuring that it communicates the thesis work clearly and effectively.\\n5. Practice the presentation multiple times to build confidence.\\n6. Schedule regular meetings with project guides or supervisors to seek their insights and suggestions. \\n7. Implement modifications to the presentation based on the feedback received.\\n8. Anticipate possible questions that might be asked during the defense.\\n9. Prepare sound responses to all anticipated questions.\\n10. Monitor your stress levels and implement stress management strategies as needed. This might include good sleep, healthy diet, exercise and relaxation techniques.\\n11. Try a few mock defenses to simulate actual conditions. This could be done with colleagues or your guides. \\n12. Be open to receiving and making last-minute adjustments as per the feedback during mock defenses.\\n13. Finalize the presentation and the answers to potential questions.\\n14. Review the final draft of the presentation, ensuring the complete understanding of every point and fact.\\n15. Rest well the day before the defense to be physically and mentally prepared for the big day.\\n16. Keep necessary materials ready a day before the presentation to mitigate last-minute stress.'}]},\n",
       " {'messages': [{'role': 'system',\n",
       "    'content': 'You are a helpful planning assistant'},\n",
       "   {'role': 'user',\n",
       "    'content': '- My plan for the next few weeks is to learn coding concepts and programming languages. I am starting with Python and then moving on to JavaScript.  '},\n",
       "   {'role': 'assistant',\n",
       "    'content': '1. Identify learning resources:\\n    - Explore Python official website and documentation.\\n    - Search for online coding platforms like Codecademy, Udacity, Coursera.\\n\\n2. Learn the basics of programming:\\n    - Understand the fundamental concepts of coding, such as variables, loops, data structures, and functions.\\n    - Explore different problem-solving techniques in coding.\\n\\n3. Start learning Python:\\n    - Go through the Python syntax and basic programming concepts.\\n    - Practice Python exercises regularly to reinforce learning.\\n    - Start working on small projects using Python.\\n\\n4. Assess your understanding:\\n    - Complete quizzes and assignments to evaluate your knowledge and understanding.\\n    - Work on medium level projects and practice Python coding on different platforms.\\n\\n5. Escalate your learning:\\n    - Learn advanced Python concepts.\\n    - Try to involve yourself in complex projects.\\n    - Participate in coding challenges and competitions to refine your skills.\\n\\n6. Learn JavaScript:\\n    - Go through the basics of JavaScript language.\\n    - Understand the role of JavaScript in web development.\\n    - Start working on small web projects involving JavaScript.\\n\\n7. Practice JavaScript:\\n    - Practice JavaScript coding on different platforms.\\n    - Evaluate your JavaScript knowledge by completing quizzes and assignments.\\n\\n8. Go into depth:\\n    - Learn advanced JavaScript.\\n    - Start to immerse yourself in complex web development projects.\\n    - Participate in coding challenges and competitions for further refinement.\\n\\n9. Review your progress:\\n    - Review your understanding of both languages, identify areas of strength and areas requiring more study.\\n    - Continue to engage in projects and challenges that push your skills.\\n    \\n10. Keep up-to-date:\\n    - Stay updated with the latest trends and updates in Python and JavaScript.\\n    - Continue learning other concepts and languages.'}]},\n",
       " {'messages': [{'role': 'system',\n",
       "    'content': 'You are a helpful planning assistant'},\n",
       "   {'role': 'user',\n",
       "    'content': '- Ahead of me in the upcoming weeks is a web design course. My focus will be not only on mastering the theoretical aspects but also on acquiring hands-on experience. My final goal is to create an aesthetic and fully functional website prototype.'},\n",
       "   {'role': 'assistant',\n",
       "    'content': '1. Research on Web Design: Begin by gaining a foundational understanding of what web design entails. This would involve learning about the building blocks of a website such as HTML, CSS, and JavaScript. Understand the principles of good design and usability. \\n\\n2. Enroll in a Web Design Course: Choose a suitable course that offers a balance between theoretical knowledge and practical experience. Make sure that the curriculum covers all the essential components of web design. \\n\\n3. Actively Participate in Classes: Stay engaged in coursework, take notes, and ask questions. Focus on understanding and applying what you learn.\\n\\n4. Dedicate time for Self-Study: In addition to the course, allocate time for self-study to expand your knowledge and clarify any doubts. \\n\\n5. Hands-on Practice: Apply the knowledge acquired from the course on practical tasks. Hands-on experience is important in gaining a deeper understanding and feel of web design. \\n\\n6. Build Projects: Start building small projects progressively. This could be a one-page website design or a simple layout. Each project will give you confidence and improve your skill set. \\n\\n7. Seek Feedback: Share your projects with others, seek their feedback, and make improvements. This will help to refine your designs and understand different perspectives.\\n\\n8. Create a Prototype: Use the cumulative knowledge and skills you have garnered to create an aesthetic and fully functional website prototype. \\n\\n9. Test the Prototype: Make sure to adequately test your prototype for any errors or design flaws. \\n\\n10. Implement Feedback and Adjustments: Based on the testing results, implement suitable changes to improve the functionality and design.\\n\\n11. Rinse and Repeat: Keep refining the website to make it better each time. \\n\\n12. Document your Learning and Project Progress: Keep a record of all your learning and project progress. This could be useful for future reference and also as a way to check your progress.'}]},\n",
       " {'messages': [{'role': 'system',\n",
       "    'content': 'You are a helpful planning assistant'},\n",
       "   {'role': 'user',\n",
       "    'content': '- I am planning to read several books on personal development in the upcoming weeks. Each represents a different aspect that I aim to improve, such as leadership skills, emotional intelligence, and money management.'},\n",
       "   {'role': 'assistant',\n",
       "    'content': \"1. Identify Specific Books: Begin by selecting the desired books for each particular skill set you wish to develop. Look for books that have high ratings or are recommended by experts in each field.\\n\\n2. Set a Reading Schedule: Create a specific reading schedule. Dedicate a certain amount of time each day for reading. The schedule can include one book at a time or rotate between the books, depending on your preference.\\n\\n3. Purchase or Borrow Books: Once you have a list, purchase or borrow the books from a library or online platform.\\n\\n4. Note Taking: As you read, keep a note pad or use an online note taking service to jot down important points, insights, and any practice exercises presented in the books.\\n\\n5. Reflect and Practice: Take the time to reflect on what you have learned from each book. Practice the concepts discussed as much as possible to allow the knowledge to integrate into your daily living.\\n\\n6. Join Online Discussions/Book Clubs: Join online discussions or book clubs focusing on personal development. This will allow the concepts you learned to be explored further, and you can gain different perspectives.\\n\\n7. Apply to Real-Life Situations: Start using the strategies and lessons in real-life situations to improve your leadership skills, emotional intelligence, and money management.\\n\\n8. Evaluate Progress: After practicing the methods learned, evaluate your progress. Note any improvements or obstacles to address.\\n\\n9. Seek Additional Tools/Resources: After having read and started practicing, you may identify areas where you need further assistance. Look for additional resources such as articles, courses, online tools, or coaching to support these areas.\\n\\n10. Repeat the Process: Once you've completed and mastered one area, move on to the next book. Also, continually revisit previous books to refresh your knowledge and integrate the learned skills into your daily life.\"}]},\n",
       " {'messages': [{'role': 'system',\n",
       "    'content': 'You are a helpful planning assistant'},\n",
       "   {'role': 'user',\n",
       "    'content': \"- For the next few weeks, I'm preparing for my upcoming backpacking trip. I'll be planning the route, gathering the necessary supplies, and researching potential shelters along the way. \"},\n",
       "   {'role': 'assistant',\n",
       "    'content': \"1. Select Desired Destination: \\n   - Research potential destinations suitable for backpacking.\\n   - Evaluate the destinations based on factors such as distance, landscape, weather conditions, and personal preference.\\n\\n2. Plan the Route:\\n   - Investigate the specific trails and terrains available at the chosen destination.\\n   - Decide on a route considering the difficulty level and physical fitness.\\n   - Ensure to mark resting points, potential shelters, and emergency exits.\\n\\n3. Gather Necessary Supplies:\\n   - Research and prepare a list of items required for backpacking.\\n   - Check existing gear and determine what additional equipment is needed.\\n   - Prioritize the list based on necessity: backpack, tent, sleeping bag, clothing, food and water supplies, cooking tool, navigation aids etc.\\n   - Purchase or borrow missing items.\\n\\n4. Research Potential Shelters:\\n   - Look up forests, national parks, campsites, and cabins that allow overnight stay.\\n   - Consider safety, weather resistance, availability and proximity to the backpacking route.\\n   - Contact owners or administrators of potential shelters for availability and rules.\\n\\n5. Physical Preparation:\\n   - Begin a fitness routine suitable for the trip if you don't have one already.\\n   - Consult with a doctor for health clearance if necessary.\\n\\n6. Inform Someone About Your Plan:\\n   - Share specific details of the planned route with a trusted contact.\\n   - Discuss estimated times of departure and arrival, and the potential shelters.\\n\\n7. Test Gear Before the Trip:\\n   - Test all equipment to ensure it is working condition.\\n   - Learn how to use new equipment or gear.\\n\\n8. Prepare First-aid and Emergency Supplies:\\n   - Gather and pack first-aid essentials.\\n   - Learn essential first-aid skills if you don't already have them.\\n   - Pack any necessary emergency supplies such as a flashlight, whistle, and multi-tool.\\n\\n9. Pack Food and Water Supplies:\\n   - Plan meals for each day of the trip.\\n   - Carry portable water filters or purification tablets for safe drinking water.\\n\\n10. Final Check:\\n    - Review all preparations one last time.\\n    - Check weather updates and any changes in the destination area.\"}]},\n",
       " {'messages': [{'role': 'system',\n",
       "    'content': 'You are a helpful planning assistant'},\n",
       "   {'role': 'user',\n",
       "    'content': '- My professional certification exam is due in a month, so the upcoming weeks will be dedicated to thorough revision and practice. I am aiming to ace it this time, enhancing my career prospects.'},\n",
       "   {'role': 'assistant',\n",
       "    'content': \"1. Determine the syllabus and topics covered in the professional certification examination.\\n2. Gather all the necessary study material and resources for each topic.\\n3. Develop a study schedule that accounts for the time remaining before the examination; make sure to include breaks for rest and refreshment.\\n4. Allocate more revision time to areas you find challenging or where you scored low in past attempts.\\n5. Regularly practice with past or sample examination papers to gain familiarity with question formats and time management.\\n6. Set weekly goals and track your progress to ensure you are meeting your study targets.\\n7. Look for online forums or study groups where you can discuss and resolve your doubts and learn through the experience of others.\\n8. Take care of your health by maintaining a balanced diet, exercising regularly, and getting sufficient sleep; this is important for optimum brain function and concentration.\\n9. Prepare a checklist of all items you need to take to the exam, such as ID, stationery, etc.\\n10. Review the examination rules and regulations to avoid any penalties or disqualifications.\\n11. A few days before the exam, start tapering down your study to avoid burnout.\\n12. A day before the exam, relax and get a good night's sleep to be fresh and alert on the exam day.\\n13. On the day of the exam, have a light meal, reach the exam venue in advance and stay calm and focused during the exam.\\n14. After the exam, review your performance and note down areas for improvement for future reference. Don't forget to update your CV and LinkedIn profile once you've died your certification.\"}]}]"
      ]
     },
     "execution_count": 59,
     "metadata": {},
     "output_type": "execute_result"
    }
   ],
   "source": [
    "dataset"
   ]
  },
  {
   "cell_type": "code",
   "execution_count": 60,
   "metadata": {},
   "outputs": [],
   "source": [
    "# Writing to a file\n",
    "with open('dataset.jsonl', 'w') as f:\n",
    "    for entry in dataset:\n",
    "        f.write(json.dumps(entry) + '\\n')\n",
    "\n",
    "# Now 'dataset.jsonl' will contain the dataset in the desired format."
   ]
  },
  {
   "cell_type": "code",
   "execution_count": 1,
   "metadata": {},
   "outputs": [],
   "source": [
    "# source: https://cookbook.openai.com/examples/chat_finetuning_data_prep\n",
    "import json\n",
    "import tiktoken # for token counting\n",
    "import numpy as np\n",
    "from collections import defaultdict"
   ]
  },
  {
   "cell_type": "code",
   "execution_count": 61,
   "metadata": {},
   "outputs": [
    {
     "name": "stdout",
     "output_type": "stream",
     "text": [
      "Num examples: 15\n",
      "First example:\n",
      "{'role': 'system', 'content': 'You are a helpful planning assistant'}\n",
      "{'role': 'user', 'content': \"- I need to pick up the pace on my academic research assignment. I'll be spending the next few weeks rigorously scrutinizing the sources, journal articles, and additional materials I've collected. My aim is to understand the relationships in the data and eventually find a significant inference.\"}\n",
      "{'role': 'assistant', 'content': '1. **Planning and Scheduling:** Develop a detailed plan and schedule for the next few weeks. This should include targets for completing specific sections of the research.\\n\\n2. **Organizing sources and materials:** For effective and quick retrieval, organize all the accumulated sources, journal articles, and additional materials coherently.\\n\\n3. **Comprehensive Analysis:** Rigorously scrutinize every source, journal article, and additional material. \\n\\n4. **Data Interpretation and Visualization:** Use analytical methods to interpret data, observing patterns and trends from the raw data. Consider various data visualization tools to make the interpretation easier.\\n\\n5. **Drawing Relationships:** Study the data to understand relationships between different variables. This could involve using statistical tools to determine correlations or causal relationships.\\n\\n6. **Finding Significant Inference:** Based on the relationships drawn from the data, arrive at a significant conclusion or inference.\\n\\n7. **Documentation:** Document all findings and the process in an organized and easy-to-understand manner. The documentation process may also involve writing an academic paper with the findings.\\n   \\n8. **Editing and Proofreading:** Ensure the final document or thesis is checked for any errors in spelling, grammar, syntax and format. \\n\\n9. **Preparation for Presentation:** Prepare a presentation of the findings, focusing on the significant inference and the process followed to reach it.\\n  \\n10. **Evaluation of Final Work:** Review the completed work to ensure that all goals and requirements were met. If necessary, make any final adjustments.'}\n"
     ]
    }
   ],
   "source": [
    "data_path = \"./dataset.jsonl\"\n",
    "\n",
    "# Load the dataset\n",
    "with open(data_path, 'r', encoding='utf-8') as f:\n",
    "    dataset = [json.loads(line) for line in f]\n",
    "\n",
    "# Initial dataset stats\n",
    "print(\"Num examples:\", len(dataset))\n",
    "print(\"First example:\")\n",
    "for message in dataset[0][\"messages\"]:\n",
    "    print(message)"
   ]
  },
  {
   "cell_type": "markdown",
   "metadata": {},
   "source": [
    "Perfect! Now lets estimate some token counts and costs."
   ]
  },
  {
   "cell_type": "markdown",
   "metadata": {},
   "source": [
    "We'll be checkinf for this validation checklist as described in the [tutorial suggested by the OpenAI docs](https://cookbook.openai.com/examples/chat_finetuning_data_prep#:~:text=Format%20validation,for%20easier%20debugging.).  "
   ]
  },
  {
   "cell_type": "code",
   "execution_count": 64,
   "metadata": {},
   "outputs": [
    {
     "name": "stdout",
     "output_type": "stream",
     "text": [
      "No errors found\n"
     ]
    }
   ],
   "source": [
    "# Format error checks\n",
    "format_errors = defaultdict(int)\n",
    "\n",
    "for ex in dataset:\n",
    "    if not isinstance(ex, dict):\n",
    "        format_errors[\"data_type\"] += 1\n",
    "        continue\n",
    "        \n",
    "    messages = ex.get(\"messages\", None)\n",
    "    if not messages:\n",
    "        format_errors[\"missing_messages_list\"] += 1\n",
    "        continue\n",
    "        \n",
    "    for message in messages:\n",
    "        if \"role\" not in message or \"content\" not in message:\n",
    "            format_errors[\"message_missing_key\"] += 1\n",
    "        \n",
    "        if any(k not in (\"role\", \"content\", \"name\", \"function_call\") for k in message):\n",
    "            format_errors[\"message_unrecognized_key\"] += 1\n",
    "        \n",
    "        if message.get(\"role\", None) not in (\"system\", \"user\", \"assistant\", \"function\"):\n",
    "            format_errors[\"unrecognized_role\"] += 1\n",
    "            \n",
    "        content = message.get(\"content\", None)\n",
    "        function_call = message.get(\"function_call\", None)\n",
    "        \n",
    "        if (not content and not function_call) or not isinstance(content, str):\n",
    "            format_errors[\"missing_content\"] += 1\n",
    "    \n",
    "    if not any(message.get(\"role\", None) == \"assistant\" for message in messages):\n",
    "        format_errors[\"example_missing_assistant_message\"] += 1\n",
    "\n",
    "if format_errors:\n",
    "    print(\"Found errors:\")\n",
    "    for k, v in format_errors.items():\n",
    "        print(f\"{k}: {v}\")\n",
    "else:\n",
    "    print(\"No errors found\")"
   ]
  },
  {
   "cell_type": "code",
   "execution_count": 65,
   "metadata": {},
   "outputs": [],
   "source": [
    "# Some helpful utilities\n",
    "\n",
    "encoding = tiktoken.get_encoding(\"cl100k_base\")\n",
    "\n",
    "# not exact!\n",
    "# simplified from https://github.com/openai/openai-cookbook/blob/main/examples/How_to_count_tokens_with_tiktoken.ipynb\n",
    "def num_tokens_from_messages(messages, tokens_per_message=3, tokens_per_name=1):\n",
    "    num_tokens = 0\n",
    "    for message in messages:\n",
    "        num_tokens += tokens_per_message\n",
    "        for key, value in message.items():\n",
    "            num_tokens += len(encoding.encode(value))\n",
    "            if key == \"name\":\n",
    "                num_tokens += tokens_per_name\n",
    "    num_tokens += 3\n",
    "    return num_tokens\n",
    "\n",
    "def num_assistant_tokens_from_messages(messages):\n",
    "    num_tokens = 0\n",
    "    for message in messages:\n",
    "        if message[\"role\"] == \"assistant\":\n",
    "            num_tokens += len(encoding.encode(message[\"content\"]))\n",
    "    return num_tokens\n",
    "\n",
    "def print_distribution(values, name):\n",
    "    print(f\"\\n#### Distribution of {name}:\")\n",
    "    print(f\"min / max: {min(values)}, {max(values)}\")\n",
    "    print(f\"mean / median: {np.mean(values)}, {np.median(values)}\")\n",
    "    print(f\"p5 / p95: {np.quantile(values, 0.1)}, {np.quantile(values, 0.9)}\")"
   ]
  },
  {
   "cell_type": "markdown",
   "metadata": {},
   "source": [
    "Data warnings and token counts."
   ]
  },
  {
   "cell_type": "code",
   "execution_count": 66,
   "metadata": {},
   "outputs": [
    {
     "name": "stdout",
     "output_type": "stream",
     "text": [
      "Num examples missing system message: 0\n",
      "Num examples missing user message: 0\n",
      "\n",
      "#### Distribution of num_messages_per_example:\n",
      "min / max: 3, 3\n",
      "mean / median: 3.0, 3.0\n",
      "p5 / p95: 3.0, 3.0\n",
      "\n",
      "#### Distribution of num_total_tokens_per_example:\n",
      "min / max: 304, 531\n",
      "mean / median: 427.53333333333336, 424.0\n",
      "p5 / p95: 362.2, 503.6\n",
      "\n",
      "#### Distribution of num_assistant_tokens_per_example:\n",
      "min / max: 241, 452\n",
      "mean / median: 361.8666666666667, 362.0\n",
      "p5 / p95: 297.6, 434.2\n",
      "\n",
      "0 examples may be over the 4096 token limit, they will be truncated during fine-tuning\n"
     ]
    }
   ],
   "source": [
    "# Warnings and tokens counts\n",
    "n_missing_system = 0\n",
    "n_missing_user = 0\n",
    "n_messages = []\n",
    "convo_lens = []\n",
    "assistant_message_lens = []\n",
    "\n",
    "for ex in dataset:\n",
    "    messages = ex[\"messages\"]\n",
    "    if not any(message[\"role\"] == \"system\" for message in messages):\n",
    "        n_missing_system += 1\n",
    "    if not any(message[\"role\"] == \"user\" for message in messages):\n",
    "        n_missing_user += 1\n",
    "    n_messages.append(len(messages))\n",
    "    convo_lens.append(num_tokens_from_messages(messages))\n",
    "    assistant_message_lens.append(num_assistant_tokens_from_messages(messages))\n",
    "    \n",
    "print(\"Num examples missing system message:\", n_missing_system)\n",
    "print(\"Num examples missing user message:\", n_missing_user)\n",
    "print_distribution(n_messages, \"num_messages_per_example\")\n",
    "print_distribution(convo_lens, \"num_total_tokens_per_example\")\n",
    "print_distribution(assistant_message_lens, \"num_assistant_tokens_per_example\")\n",
    "n_too_long = sum(l > 4096 for l in convo_lens)\n",
    "print(f\"\\n{n_too_long} examples may be over the 4096 token limit, they will be truncated during fine-tuning\")"
   ]
  },
  {
   "cell_type": "markdown",
   "metadata": {},
   "source": [
    "As we can see from the output obtained, all of our examples are under the context length, which means they won't have to be truncated which is great news! :)"
   ]
  },
  {
   "cell_type": "markdown",
   "metadata": {},
   "source": [
    "Cost estimation\n",
    "\n",
    "Let's estimate the cost of this fine tunning based on the number of tokens in our dataset."
   ]
  },
  {
   "cell_type": "code",
   "execution_count": 67,
   "metadata": {},
   "outputs": [
    {
     "name": "stdout",
     "output_type": "stream",
     "text": [
      "Dataset has ~6413 tokens that will be charged for during training\n",
      "By default, you'll train for 6 epochs on this dataset\n",
      "By default, you'll be charged for ~38478 tokens\n"
     ]
    }
   ],
   "source": [
    "# Pricing and default n_epochs estimate\n",
    "MAX_TOKENS_PER_EXAMPLE = 4096\n",
    "\n",
    "TARGET_EPOCHS = 3\n",
    "MIN_TARGET_EXAMPLES = 100\n",
    "MAX_TARGET_EXAMPLES = 25000\n",
    "MIN_DEFAULT_EPOCHS = 1\n",
    "MAX_DEFAULT_EPOCHS = 25\n",
    "\n",
    "n_epochs = TARGET_EPOCHS\n",
    "n_train_examples = len(dataset)\n",
    "if n_train_examples * TARGET_EPOCHS < MIN_TARGET_EXAMPLES:\n",
    "    n_epochs = min(MAX_DEFAULT_EPOCHS, MIN_TARGET_EXAMPLES // n_train_examples)\n",
    "elif n_train_examples * TARGET_EPOCHS > MAX_TARGET_EXAMPLES:\n",
    "    n_epochs = max(MIN_DEFAULT_EPOCHS, MAX_TARGET_EXAMPLES // n_train_examples)\n",
    "\n",
    "n_billing_tokens_in_dataset = sum(min(MAX_TOKENS_PER_EXAMPLE, length) for length in convo_lens)\n",
    "print(f\"Dataset has ~{n_billing_tokens_in_dataset} tokens that will be charged for during training\")\n",
    "print(f\"By default, you'll train for {n_epochs} epochs on this dataset\")\n",
    "print(f\"By default, you'll be charged for ~{n_epochs * n_billing_tokens_in_dataset} tokens\")"
   ]
  },
  {
   "cell_type": "markdown",
   "metadata": {},
   "source": [
    "Ok, as we can see it seems like this fine tunning is not going to cost that much, given that if I check on the [pricing page](https://openai.com/pricing) for the cost associated with this amount of tokens:\n",
    "\n",
    "![](2023-10-16-17-22-32.png)\n",
    "\n",
    "\n",
    "Let's write a little function to calculate these costs automatically:"
   ]
  },
  {
   "cell_type": "code",
   "execution_count": 75,
   "metadata": {},
   "outputs": [],
   "source": [
    "def calculate_cost_for_fine_tunning(token_count):\n",
    "    return (0.008*token_count)/1000"
   ]
  },
  {
   "cell_type": "code",
   "execution_count": 76,
   "metadata": {},
   "outputs": [
    {
     "data": {
      "text/plain": [
       "0.307824"
      ]
     },
     "execution_count": 76,
     "metadata": {},
     "output_type": "execute_result"
    }
   ],
   "source": [
    "calculate_cost_for_fine_tunning(38478)"
   ]
  },
  {
   "cell_type": "markdown",
   "metadata": {},
   "source": [
    "Ok, so it seems that the amount will be 0.30 cents which seems reasonable, although we should take into account the fact that we'll be charged more for using this fine tuned model as well, and we only used 10 examples for this use case!"
   ]
  },
  {
   "cell_type": "markdown",
   "metadata": {},
   "source": [
    "Now lets upload our newly generated dataset file!"
   ]
  },
  {
   "cell_type": "markdown",
   "metadata": {},
   "source": [
    "To do that part, lets write a simply Python script to upload the file, we'll use this snippet from the [OpenAI API docs](https://platform.openai.com/docs/guides/fine-tuning/preparing-your-dataset#:~:text=import%20os%20import%20openai%20openai.api_key%20%3D%20os.getenv(%22openai_api_key%22)%20openai.file.create(%20file%3Dopen(%22mydata.jsonl%22%2C%20%22rb%22)%2C%20purpose%3D'fine-tune'%20))."
   ]
  },
  {
   "cell_type": "code",
   "execution_count": 2,
   "metadata": {},
   "outputs": [
    {
     "data": {
      "text/plain": [
       "<File file id=file-ICGS6dyaltzMJuXdnHcpjGTr at 0x12d297590> JSON: {\n",
       "  \"object\": \"file\",\n",
       "  \"id\": \"file-ICGS6dyaltzMJuXdnHcpjGTr\",\n",
       "  \"purpose\": \"fine-tune\",\n",
       "  \"filename\": \"file\",\n",
       "  \"bytes\": 34150,\n",
       "  \"created_at\": 1697756044,\n",
       "  \"status\": \"uploaded\",\n",
       "  \"status_details\": null\n",
       "}"
      ]
     },
     "execution_count": 2,
     "metadata": {},
     "output_type": "execute_result"
    }
   ],
   "source": [
    "import os\n",
    "import openai\n",
    "\n",
    "openai.File.create(\n",
    "  file=open(\"./dataset.jsonl\", \"rb\"),\n",
    "  purpose='fine-tune'\n",
    ")"
   ]
  },
  {
   "cell_type": "code",
   "execution_count": 1,
   "metadata": {},
   "outputs": [],
   "source": [
    "list_files = openai.File.list()"
   ]
  },
  {
   "cell_type": "code",
   "execution_count": 2,
   "metadata": {},
   "outputs": [
    {
     "data": {
      "text/plain": [
       "<OpenAIObject list at 0x107694d70> JSON: {\n",
       "  \"object\": \"list\",\n",
       "  \"data\": [\n",
       "    {\n",
       "      \"object\": \"file\",\n",
       "      \"id\": \"file-d3Qb6gOJDiI8BJnfYsmmIUyv\",\n",
       "      \"purpose\": \"fine-tune\",\n",
       "      \"filename\": \"./prompt_data.json\",\n",
       "      \"bytes\": 6807,\n",
       "      \"created_at\": 1641411317,\n",
       "      \"status\": \"processed\",\n",
       "      \"status_details\": null\n",
       "    },\n",
       "    {\n",
       "      \"object\": \"file\",\n",
       "      \"id\": \"file-z7wvIoSwHXoWlEgtQX36uzz4\",\n",
       "      \"purpose\": \"fine-tune-results\",\n",
       "      \"filename\": \"compiled_results.csv\",\n",
       "      \"bytes\": 8688,\n",
       "      \"created_at\": 1641424829,\n",
       "      \"status\": \"processed\",\n",
       "      \"status_details\": null\n",
       "    },\n",
       "    {\n",
       "      \"object\": \"file\",\n",
       "      \"id\": \"file-MvhptLxVWAbPYSN3ZB8hAyN3\",\n",
       "      \"purpose\": \"fine-tune\",\n",
       "      \"filename\": \"./prompt_data.json\",\n",
       "      \"bytes\": 73697,\n",
       "      \"created_at\": 1641424357,\n",
       "      \"status\": \"error\",\n",
       "      \"status_details\": \"Invalid file format. Example 38 cannot be parsed. Error: line contains invalid json: Invalid control character at: line 1 column 770 (char 769) (line 38)\"\n",
       "    },\n",
       "    {\n",
       "      \"object\": \"file\",\n",
       "      \"id\": \"file-eRs0dNcSXEE7SwZ2N3UjksLD\",\n",
       "      \"purpose\": \"fine-tune\",\n",
       "      \"filename\": \"./prompt_data.json\",\n",
       "      \"bytes\": 83286,\n",
       "      \"created_at\": 1641424254,\n",
       "      \"status\": \"error\",\n",
       "      \"status_details\": \"Invalid file format. Example 20 cannot be parsed. Error: line contains invalid json: Invalid \\\\escape: line 1 column 6172 (char 6171) (line 20)\"\n",
       "    },\n",
       "    {\n",
       "      \"object\": \"file\",\n",
       "      \"id\": \"file-ymysaDADiv0BTVyqECifwlxH\",\n",
       "      \"purpose\": \"fine-tune-results\",\n",
       "      \"filename\": \"compiled_results.csv\",\n",
       "      \"bytes\": 1154,\n",
       "      \"created_at\": 1641411503,\n",
       "      \"status\": \"processed\",\n",
       "      \"status_details\": null\n",
       "    },\n",
       "    {\n",
       "      \"object\": \"file\",\n",
       "      \"id\": \"file-taO7LakHMTv18ws1cH2ocC22\",\n",
       "      \"purpose\": \"fine-tune\",\n",
       "      \"filename\": \"./prompt_data.json\",\n",
       "      \"bytes\": 73695,\n",
       "      \"created_at\": 1641424475,\n",
       "      \"status\": \"error\",\n",
       "      \"status_details\": \"Invalid file format. Example 38 cannot be parsed. Error: line contains invalid json: Invalid control character at: line 1 column 768 (char 767) (line 38)\"\n",
       "    },\n",
       "    {\n",
       "      \"object\": \"file\",\n",
       "      \"id\": \"file-kXlvspUQRKFUWcrW5pgzy0PW\",\n",
       "      \"purpose\": \"fine-tune\",\n",
       "      \"filename\": \"file\",\n",
       "      \"bytes\": 91665,\n",
       "      \"created_at\": 1697473593,\n",
       "      \"status\": \"processed\",\n",
       "      \"status_details\": null\n",
       "    },\n",
       "    {\n",
       "      \"object\": \"file\",\n",
       "      \"id\": \"file-dgdfvCasaOWM9nENFCXiaRaP\",\n",
       "      \"purpose\": \"fine-tune\",\n",
       "      \"filename\": \"./prompt_data.json\",\n",
       "      \"bytes\": 71535,\n",
       "      \"created_at\": 1641424499,\n",
       "      \"status\": \"processed\",\n",
       "      \"status_details\": null\n",
       "    },\n",
       "    {\n",
       "      \"object\": \"file\",\n",
       "      \"id\": \"file-DZhopqkDrs5xSzQsrzA4zbjN\",\n",
       "      \"purpose\": \"fine-tune-results\",\n",
       "      \"filename\": \"step_metrics.csv\",\n",
       "      \"bytes\": 2046,\n",
       "      \"created_at\": 1697474053,\n",
       "      \"status\": \"processed\",\n",
       "      \"status_details\": null\n",
       "    },\n",
       "    {\n",
       "      \"object\": \"file\",\n",
       "      \"id\": \"file-zjZeebCAziF8Z1GjEyEvXsRY\",\n",
       "      \"purpose\": \"fine-tune\",\n",
       "      \"filename\": \"file\",\n",
       "      \"bytes\": 34150,\n",
       "      \"created_at\": 1697755832,\n",
       "      \"status\": \"processed\",\n",
       "      \"status_details\": null\n",
       "    },\n",
       "    {\n",
       "      \"object\": \"file\",\n",
       "      \"id\": \"file-ICGS6dyaltzMJuXdnHcpjGTr\",\n",
       "      \"purpose\": \"fine-tune\",\n",
       "      \"filename\": \"file\",\n",
       "      \"bytes\": 34150,\n",
       "      \"created_at\": 1697756044,\n",
       "      \"status\": \"processed\",\n",
       "      \"status_details\": null\n",
       "    }\n",
       "  ]\n",
       "}"
      ]
     },
     "execution_count": 2,
     "metadata": {},
     "output_type": "execute_result"
    }
   ],
   "source": [
    "list_files"
   ]
  },
  {
   "cell_type": "markdown",
   "metadata": {},
   "source": [
    "Now, finally, we create our fine-tuned model by running this:"
   ]
  },
  {
   "cell_type": "code",
   "execution_count": 3,
   "metadata": {},
   "outputs": [
    {
     "data": {
      "text/plain": [
       "<FineTuningJob fine_tuning.job id=ftjob-rPPzK29a1UkXFSHTdEQX4heY at 0x105eef050> JSON: {\n",
       "  \"object\": \"fine_tuning.job\",\n",
       "  \"id\": \"ftjob-rPPzK29a1UkXFSHTdEQX4heY\",\n",
       "  \"model\": \"gpt-3.5-turbo-0613\",\n",
       "  \"created_at\": 1697756148,\n",
       "  \"finished_at\": null,\n",
       "  \"fine_tuned_model\": null,\n",
       "  \"organization_id\": \"org-gpLJbCQWtORw077QTyeX1IVP\",\n",
       "  \"result_files\": [],\n",
       "  \"status\": \"validating_files\",\n",
       "  \"validation_file\": null,\n",
       "  \"training_file\": \"file-ICGS6dyaltzMJuXdnHcpjGTr\",\n",
       "  \"hyperparameters\": {\n",
       "    \"n_epochs\": \"auto\"\n",
       "  },\n",
       "  \"trained_tokens\": null,\n",
       "  \"error\": null\n",
       "}"
      ]
     },
     "execution_count": 3,
     "metadata": {},
     "output_type": "execute_result"
    }
   ],
   "source": [
    "openai.FineTuningJob.create(training_file=\"file-ICGS6dyaltzMJuXdnHcpjGTr\", model=\"gpt-3.5-turbo\")"
   ]
  },
  {
   "cell_type": "markdown",
   "metadata": {},
   "source": [
    "Here the `training_file` parameter correspond to the file id generated when running the previous snippet. \n"
   ]
  },
  {
   "cell_type": "markdown",
   "metadata": {},
   "source": [
    "Now we wait for an email confirmation that will let us know when the training is done. Which given the size of this job, should be pretty quckly"
   ]
  },
  {
   "cell_type": "markdown",
   "metadata": {},
   "source": [
    "Neat thing is that you can promatically query the status of your jobs:"
   ]
  },
  {
   "cell_type": "code",
   "execution_count": 14,
   "metadata": {},
   "outputs": [
    {
     "data": {
      "text/plain": [
       "<FineTuningJob fine_tuning.job id=ftjob-rPPzK29a1UkXFSHTdEQX4heY at 0x107696510> JSON: {\n",
       "  \"object\": \"fine_tuning.job\",\n",
       "  \"id\": \"ftjob-rPPzK29a1UkXFSHTdEQX4heY\",\n",
       "  \"model\": \"gpt-3.5-turbo-0613\",\n",
       "  \"created_at\": 1697756148,\n",
       "  \"finished_at\": 1697756446,\n",
       "  \"fine_tuned_model\": \"ft:gpt-3.5-turbo-0613:personal::8BWIRV1U\",\n",
       "  \"organization_id\": \"org-gpLJbCQWtORw077QTyeX1IVP\",\n",
       "  \"result_files\": [\n",
       "    \"file-DpX9PVkO1Y9bIndbRBjADyUS\"\n",
       "  ],\n",
       "  \"status\": \"succeeded\",\n",
       "  \"validation_file\": null,\n",
       "  \"training_file\": \"file-ICGS6dyaltzMJuXdnHcpjGTr\",\n",
       "  \"hyperparameters\": {\n",
       "    \"n_epochs\": 6\n",
       "  },\n",
       "  \"trained_tokens\": 38298,\n",
       "  \"error\": null\n",
       "}"
      ]
     },
     "execution_count": 14,
     "metadata": {},
     "output_type": "execute_result"
    }
   ],
   "source": [
    "# List 10 fine-tuning jobs\n",
    "openai.FineTuningJob.list(limit=10)\n",
    "\n",
    "# Retrieve the state of a fine-tune\n",
    "openai.FineTuningJob.retrieve(\"ftjob-rPPzK29a1UkXFSHTdEQX4heY\")\n",
    "\n",
    "# Cancel a job\n",
    "#openai.FineTuningJob.cancel(\"file-kXlvspUQRKFUWcrW5pgzy0PW\")\n",
    "\n",
    "# List up to 10 events from a fine-tuning job\n",
    "#openai.FineTuningJob.list_events(id=\"file-kXlvspUQRKFUWcrW5pgzy0PW\", limit=10)"
   ]
  },
  {
   "cell_type": "markdown",
   "metadata": {},
   "source": [
    "Now we can go to the platform to check out our fine tuned model or run inference from it using the API! Let's look at how to run our fine tuned model"
   ]
  },
  {
   "cell_type": "markdown",
   "metadata": {},
   "source": [
    "IN the platform we see:"
   ]
  },
  {
   "cell_type": "markdown",
   "metadata": {},
   "source": [
    "![](2023-10-20-00-02-25.png)"
   ]
  },
  {
   "cell_type": "markdown",
   "metadata": {},
   "source": [
    "So, we can choose that model and see how it performs for a different new video."
   ]
  },
  {
   "cell_type": "markdown",
   "metadata": {},
   "source": [
    "Querying the model:\n",
    "![](2023-10-20-00-05-50.png)"
   ]
  },
  {
   "cell_type": "markdown",
   "metadata": {},
   "source": [
    "The response:\n",
    "\n",
    "![](2023-10-16-17-49-24.png)"
   ]
  },
  {
   "cell_type": "markdown",
   "metadata": {},
   "source": [
    "It looks pretty good! :) Let's compare with the output of regular ChatGPT"
   ]
  },
  {
   "cell_type": "markdown",
   "metadata": {},
   "source": [
    "![](2023-10-16-17-50-32.png)"
   ]
  },
  {
   "cell_type": "markdown",
   "metadata": {},
   "source": [
    "The fine tuned model is definitely more thourough than the regular ChatGPT model so I would call this a nice success! :)"
   ]
  },
  {
   "cell_type": "markdown",
   "metadata": {},
   "source": [
    "Now, let's run inference with our fine tuned model!"
   ]
  },
  {
   "cell_type": "code",
   "execution_count": 16,
   "metadata": {},
   "outputs": [
    {
     "data": {
      "text/plain": [
       "'Based on the given schedule, I can propose the following plan:\\n\\n1. Morning:\\n- Check and revise the presentation content.\\n- Practice for the presentation at least twice.\\n\\n2. Afternoon:\\n- Run through all the slides and notebooks to ensure everything is in order.\\n- Take a break for Jiu Jitsu training.\\n- After training, do one more practice session to refine the presentation.\\n\\n3. Evening:\\n- Live-training at 18:00.\\n\\nLet me know if you need any further assistance or if you have specific requirements for the rehearsal or the presentation.'"
      ]
     },
     "execution_count": 16,
     "metadata": {},
     "output_type": "execute_result"
    }
   ],
   "source": [
    "def get_response(prompt_question,fine_tuned_model_id=\"ft:gpt-3.5-turbo-0613:personal::8BWIRV1U\"):\n",
    "    response = openai.ChatCompletion.create(\n",
    "        model=fine_tuned_model_id,\n",
    "        messages=[{\"role\": \"system\", \"content\": \"You are a helpful research and\\\n",
    "            programming assistant\"},\n",
    "                  {\"role\": \"user\", \"content\": prompt_question}]\n",
    "    )\n",
    "    \n",
    "    return response[\"choices\"][0][\"message\"][\"content\"]\n",
    "\n",
    "get_response(\"Tomorrow I have to practice for my presentation at the live-training for O'Reilly at least a couple more times, then run through all the slides and notebooks to check everything is in order. After that I have Jiu Jitsu training and one more rehearsal before the live-training at 18:00\")"
   ]
  },
  {
   "cell_type": "code",
   "execution_count": 17,
   "metadata": {},
   "outputs": [
    {
     "data": {
      "text/plain": [
       "<Model model id=ft:gpt-3.5-turbo-0613:personal::8BWIRV1U at 0x1076965d0> JSON: {\n",
       "  \"id\": \"ft:gpt-3.5-turbo-0613:personal::8BWIRV1U\",\n",
       "  \"object\": \"model\",\n",
       "  \"deleted\": true\n",
       "}"
      ]
     },
     "execution_count": 17,
     "metadata": {},
     "output_type": "execute_result"
    }
   ],
   "source": [
    "openai.Model.delete(\"ft:gpt-3.5-turbo-0613:personal::8BWIRV1U\")"
   ]
  },
  {
   "cell_type": "markdown",
   "metadata": {},
   "source": [
    "Success!!!!!"
   ]
  }
 ],
 "metadata": {
  "kernelspec": {
   "display_name": "oreilly_env",
   "language": "python",
   "name": "oreilly_env"
  },
  "language_info": {
   "codemirror_mode": {
    "name": "ipython",
    "version": 3
   },
   "file_extension": ".py",
   "mimetype": "text/x-python",
   "name": "python",
   "nbconvert_exporter": "python",
   "pygments_lexer": "ipython3",
   "version": "3.11.5"
  }
 },
 "nbformat": 4,
 "nbformat_minor": 2
}
