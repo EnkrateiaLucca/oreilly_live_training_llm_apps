{
 "cells": [
  {
   "cell_type": "code",
   "execution_count": 39,
   "metadata": {},
   "outputs": [
    {
     "data": {
      "text/plain": [
       "AIMessage(content='Hello! How can I assist you today?', response_metadata={'token_usage': {'completion_tokens': 9, 'prompt_tokens': 9, 'total_tokens': 18}, 'model_name': 'gpt-4o-mini-2024-07-18', 'system_fingerprint': 'fp_f33667828e', 'finish_reason': 'stop', 'logprobs': None}, id='run-0e705763-2e67-4cc6-9620-bb47fc71e703-0', usage_metadata={'input_tokens': 9, 'output_tokens': 9, 'total_tokens': 18})"
      ]
     },
     "execution_count": 39,
     "metadata": {},
     "output_type": "execute_result"
    }
   ],
   "source": [
    "from langchain_openai import ChatOpenAI\n",
    "\n",
    "\n",
    "llm = ChatOpenAI(model='gpt-4o-mini')\n",
    "\n",
    "llm.invoke(\"Hi!\")"
   ]
  },
  {
   "cell_type": "code",
   "execution_count": 41,
   "metadata": {},
   "outputs": [],
   "source": [
    "from langchain_ollama import ChatOllama"
   ]
  },
  {
   "cell_type": "code",
   "execution_count": 42,
   "metadata": {},
   "outputs": [
    {
     "data": {
      "text/plain": [
       "AIMessage(content=\"It's nice to meet you. Is there something I can help you with, or would you like to chat?\", response_metadata={'model': 'llama3.1', 'created_at': '2024-09-03T18:14:07.442233Z', 'message': {'role': 'assistant', 'content': ''}, 'done_reason': 'stop', 'done': True, 'total_duration': 8317834458, 'load_duration': 7851281875, 'prompt_eval_count': 12, 'prompt_eval_duration': 81525000, 'eval_count': 24, 'eval_duration': 383831000}, id='run-79703987-1ee8-442b-95b7-fab8fad27065-0', usage_metadata={'input_tokens': 12, 'output_tokens': 24, 'total_tokens': 36})"
      ]
     },
     "execution_count": 42,
     "metadata": {},
     "output_type": "execute_result"
    }
   ],
   "source": [
    "llm = ChatOllama(model='llama3.1')\n",
    "\n",
    "llm.invoke(\"Hi!\")"
   ]
  },
  {
   "cell_type": "code",
   "execution_count": 43,
   "metadata": {},
   "outputs": [
    {
     "data": {
      "text/plain": [
       "'Human: Give me 5 ideas about how to excite my students for learning about: LLMs'"
      ]
     },
     "execution_count": 43,
     "metadata": {},
     "output_type": "execute_result"
    }
   ],
   "source": [
    "from langchain_core.prompts import ChatPromptTemplate\n",
    "\n",
    "\n",
    "prompt = ChatPromptTemplate.from_template(\"Give me 5 ideas about how to excite my students for learning about: {topic}\")\n",
    "\n",
    "prompt.format(topic=\"LLMs\")"
   ]
  },
  {
   "cell_type": "code",
   "execution_count": 3,
   "metadata": {},
   "outputs": [
    {
     "data": {
      "text/plain": [
       "AIMessage(content='Exciting students about learning Large Language Models (LLMs) can be both engaging and informative. Here are five creative ideas to inspire enthusiasm:\\n\\n1. **Interactive Workshops and Hands-On Projects**: Organize a workshop where students can interact with LLMs directly. Provide them with user-friendly interfaces like OpenAI’s ChatGPT or similar platforms. Have them brainstorm and create their own projects, such as building a simple chatbot, generating stories, or creating personalized content. The hands-on experience will make the concepts more tangible and relatable.\\n\\n2. **Real-World Applications Showcase**: Present a variety of real-world applications of LLMs across different fields, such as healthcare, entertainment, education, and business. Invite guest speakers from industries that utilize LLMs to share their experiences and demonstrate how these models are solving real problems. This can help students understand the relevance and impact of LLMs in their lives and future careers.\\n\\n3. **Debate and Ethical Discussions**: Organize debates or discussions around the ethical implications of LLMs, including topics like misinformation, bias, and privacy. Encourage students to research and present differing viewpoints, fostering critical thinking and deeper understanding of the societal impacts of AI. This can lead to passionate discussions and help students appreciate the complexity of the technology.\\n\\n4. **Gamification and Challenges**: Create a gamified learning experience where students can compete in teams to solve challenges related to LLMs. For example, they could be tasked with designing a prompt that yields the best creative response from an LLM. Incorporating elements like points, badges, or a leaderboard can heighten excitement and motivate participation.\\n\\n5. **Creative Storytelling and Content Creation**: Leverage the creative potential of LLMs by having students collaborate to co-write stories, poems, or scripts with an LLM. They can start with a prompt, interact with the model to refine ideas, and then produce a final piece. This not only highlights the capabilities of LLMs but also allows students to express their creativity while learning about natural language processing.\\n\\nBy incorporating these ideas, you can create an engaging and dynamic learning environment that excites students about the possibilities of LLMs.', response_metadata={'token_usage': {'completion_tokens': 440, 'prompt_tokens': 25, 'total_tokens': 465}, 'model_name': 'gpt-4o-mini-2024-07-18', 'system_fingerprint': 'fp_f33667828e', 'finish_reason': 'stop', 'logprobs': None}, id='run-5f66c764-4122-43c0-872d-90da6d1376f6-0', usage_metadata={'input_tokens': 25, 'output_tokens': 440, 'total_tokens': 465})"
      ]
     },
     "execution_count": 3,
     "metadata": {},
     "output_type": "execute_result"
    }
   ],
   "source": [
    "chain = prompt | llm\n",
    "\n",
    "chain.invoke({\"topic\": \"LLMs\"})"
   ]
  },
  {
   "cell_type": "code",
   "execution_count": 4,
   "metadata": {},
   "outputs": [
    {
     "data": {
      "text/plain": [
       "'Sure! Here are five engaging ideas to excite your students about learning how to build applications with Large Language Models (LLMs):\\n\\n1. **Hands-On Workshops with Real-World Applications**: Organize interactive workshops where students can build their own LLM applications in small groups. Provide them with specific, real-world problems to solve, such as creating a chatbot for a local business or developing a tool that summarizes news articles. This hands-on approach will not only make learning more engaging but also demonstrate the practical utility of LLMs in various industries.\\n\\n2. **Guest Speakers and Industry Insights**: Invite guest speakers from the tech industry who are actively working with LLMs. They can share their experiences, challenges, and successes, providing students with insights into the current landscape of AI applications. Allow for a Q&A session to enable students to engage directly, fostering excitement and curiosity about the field.\\n\\n3. **Hackathons and Competitions**: Organize a hackathon or coding competition focused on LLM applications. Set specific challenges that students can work on in teams, such as developing a creative writing assistant or a language translation tool. Offer prizes or recognition for innovative solutions, which can motivate students to collaborate and think outside the box.\\n\\n4. **Creative Storytelling and Role-Playing**: Integrate storytelling into your lessons by having students role-play as different stakeholders in the development of LLM applications, such as developers, users, and ethical reviewers. This approach can help them understand the multifaceted nature of AI development and the importance of user experience, ethics, and societal impact.\\n\\n5. **Exploring the Future of AI**: Host a series of discussions or a mini-conference on the future of AI and LLMs, focusing on emerging trends, ethical considerations, and potential career paths. Encourage students to research and present on topics they are passionate about, such as the implications of LLMs in education, healthcare, or creative industries. This can inspire them to think critically about the role of AI in society and their potential contributions to the field.\\n\\nThese ideas can help create an engaging and dynamic learning environment that will excite students about building LLM applications!'"
      ]
     },
     "execution_count": 4,
     "metadata": {},
     "output_type": "execute_result"
    }
   ],
   "source": [
    "from langchain_core.output_parsers import StrOutputParser\n",
    "\n",
    "output_parser = StrOutputParser()\n",
    "\n",
    "chain = prompt | llm | output_parser\n",
    "\n",
    "\n",
    "chain.invoke({\"topic\": \"Building LLM applications.\"})    "
   ]
  },
  {
   "cell_type": "markdown",
   "metadata": {},
   "source": [
    "# Writing flow with LangChain\n",
    "\n",
    "1. Writer chain - to write some draft research report\n",
    "2. Review chain - to review the draft from the writer chain\n",
    "3. Final writer chain - integrate feedback from the review chain and the original draft from the writer chain to write a final version"
   ]
  },
  {
   "cell_type": "code",
   "execution_count": 44,
   "metadata": {},
   "outputs": [],
   "source": [
    "prompt_writer = ChatPromptTemplate.from_messages([\n",
    "    ('system', 'You are a research report writer that generates well structured and informative research reports based on a specific topic.'),\n",
    "    ('human', 'Write a research report with introduction, development, conclusion and references about this topic: {topic}')\n",
    "])\n",
    "\n",
    "prompt_reviewer = ChatPromptTemplate.from_messages([\n",
    "    ('system', 'You are a reviewer that evaluates the quality of a research report and you output feedback in 5 concise bullet points.'),\n",
    "    ('human', 'Review the research report and provide feedback about the quality of this report: \\n\\n {report}.')\n",
    "])\n",
    "\n",
    "prompt_final_writer = ChatPromptTemplate.from_messages([\n",
    "    ('system', 'You are integrate feedback into a research report draft and you output a better final version of the research report.'),\n",
    "    ('human', 'Integrate this feedback: {feedback} into this research report: {report}, and output a better final version of the research report.')\n",
    "])"
   ]
  },
  {
   "cell_type": "code",
   "execution_count": 45,
   "metadata": {},
   "outputs": [],
   "source": [
    "writer_chain = prompt_writer | llm | output_parser\n",
    "reviewer_chain = prompt_reviewer | llm | output_parser\n",
    "final_writer_chain = prompt_final_writer | llm | output_parser"
   ]
  },
  {
   "cell_type": "code",
   "execution_count": 46,
   "metadata": {},
   "outputs": [
    {
     "data": {
      "text/plain": [
       "'**Title:** A Quick Report on Large Language Models (LLMs) for Beginners\\n\\n**Introduction**\\n\\nThe advent of Large Language Models (LLMs) has revolutionized the field of natural language processing (NLP). These sophisticated models have the ability to understand, generate, and interact with human-like language. In this report, we will provide a concise overview of LLMs, their architecture, applications, and limitations, making it an ideal starting point for beginners.\\n\\n**Development**\\n\\n### What are Large Language Models (LLMs)?\\n\\nLarge Language Models (LLMs) are a type of artificial intelligence (AI) that uses deep learning techniques to process and analyze vast amounts of language data. These models learn to represent the relationships between words, phrases, and sentences in a way that is similar to human language understanding.\\n\\n### Architecture\\n\\nLLMs typically consist of a transformer architecture, which is a type of neural network designed specifically for sequential data such as text. The transformer model uses self-attention mechanisms to weigh the importance of different parts of the input sequence when making predictions.\\n\\n### Applications\\n\\nLLMs have numerous applications in various domains:\\n\\n* **Chatbots**: LLMs can be used to power conversational interfaces that can understand and respond to user queries.\\n* **Text Summarization**: LLMs can summarize long pieces of text into concise, meaningful summaries.\\n* **Language Translation**: LLMs can translate languages with high accuracy and efficiency.\\n* **Content Generation**: LLMs can generate human-like content such as articles, stories, and even entire books.\\n\\n### Limitations\\n\\nWhile LLMs have made tremendous progress in recent years, they still have limitations:\\n\\n* **Contextual Understanding**: LLMs may struggle to understand the nuances of human language, such as sarcasm or idioms.\\n* **Bias and Fairness**: LLMs can perpetuate existing biases and prejudices if trained on biased data.\\n* **Explainability**: LLMs are often black boxes, making it difficult to understand how they arrived at a particular decision.\\n\\n**Conclusion**\\n\\nIn conclusion, Large Language Models (LLMs) have the potential to revolutionize various domains by providing human-like language understanding and generation capabilities. However, it is essential to acknowledge their limitations and strive for more inclusive, explainable, and fair AI systems that benefit society as a whole.\\n\\n**References**\\n\\n1. **Vaswani et al. (2017)**: \"Attention Is All You Need.\" In Advances in Neural Information Processing Systems 30.\\n2. **Radford et al. (2020)**: \"Language Models are Unsupervised Multitask Learners.\" In arXiv preprint.\\n3. **Hochreiter and Schmidhuber (1997)**: \"Long Short-Term Memory.\" In Neural Computation and Applications 5(2).\\n4. **Zhang et al. (2019)**: \"DialoGPT: A Large-Scale Generative Pre-Training Dataset for Conversational Dialogue Action.\" In arXiv preprint.\\n\\nNote: The references provided are a selection of notable research papers related to LLMs and their applications.'"
      ]
     },
     "execution_count": 46,
     "metadata": {},
     "output_type": "execute_result"
    }
   ],
   "source": [
    "writer_chain.invoke({\"topic\": \"Quick report on LLMs for beginners.\"})"
   ]
  },
  {
   "cell_type": "code",
   "execution_count": 9,
   "metadata": {},
   "outputs": [
    {
     "data": {
      "text/plain": [
       "\"# Quick Report on Large Language Models (LLMs) for Beginners\\n\\n## Introduction\\n\\nLarge Language Models (LLMs) have emerged as a transformative technology in the field of artificial intelligence (AI) and natural language processing (NLP). These models, powered by advanced deep learning techniques, are capable of understanding and generating human-like text based on vast amounts of data. LLMs have applications ranging from chatbots and virtual assistants to content generation and data analysis. This report aims to provide beginners with a concise overview of LLMs, their workings, applications, and implications.\\n\\n## Development\\n\\n### Understanding Large Language Models\\n\\n1. **Definition and Architecture**:  \\n   LLMs are neural network-based models trained on large datasets to understand and generate text. They typically utilize transformer architecture, which allows the model to consider the context of words in a sentence more effectively than previous models. The architecture consists of multiple layers of attention mechanisms that enable the model to weigh the importance of different words relative to each other.  \\n   ![Transformer Architecture Diagram](https://example.com/transformer_diagram) *(Insert appropriate diagram here)*\\n\\n2. **Training Process**:  \\n   The training of LLMs involves two key steps: pre-training and fine-tuning. During pre-training, the model is exposed to vast corpora of text, allowing it to learn language patterns, grammar, and factual information. Fine-tuning is a subsequent phase where the model is trained on specific tasks or datasets to enhance its performance in particular applications.  \\n   ![Training Process Flowchart](https://example.com/training_process_diagram) *(Insert appropriate chart here)*\\n\\n3. **Popular Models**:  \\n   Notable examples of LLMs include OpenAI's GPT-3, Google's BERT and T5, and Facebook's BART. Each of these models has unique features and strengths, but they share the common goal of generating coherent and contextually relevant text. For instance, GPT-3 is known for its impressive ability to generate human-like text, while BERT excels in understanding context for tasks like question-answering.\\n\\n### Applications of LLMs\\n\\n1. **Natural Language Understanding and Generation**:  \\n   LLMs excel at tasks such as text summarization, translation, and question-answering. They can analyze complex queries and provide responses that closely mimic human language. For example, GPT-3 can summarize lengthy articles into concise paragraphs, making information more accessible.\\n\\n2. **Content Creation**:  \\n   These models are increasingly used for generating marketing copy, news articles, and even creative writing. They offer efficiencies in content production, enabling businesses to scale their output while maintaining quality. A practical application is the automated generation of social media posts that engage audiences without extensive human input.\\n\\n3. **Conversational Agents**:  \\n   LLMs power chatbots and virtual assistants, enhancing user interaction through natural conversations. They can manage customer support inquiries, provide information, and even engage in small talk. For instance, many companies use LLM-driven chatbots to handle customer queries 24/7, improving service efficiency.\\n\\n4. **Coding Assistance**:  \\n   Some LLMs, like OpenAI's Codex, are designed to assist in software development by generating code snippets based on natural language descriptions. This capability is revolutionizing the way developers approach coding tasks, enabling rapid prototyping and reducing the time spent on repetitive coding tasks.\\n\\n### Ethical Considerations and Challenges\\n\\nThe rise of LLMs brings forth significant ethical considerations. Issues such as bias in training data, the potential for misinformation, and the environmental impact of training large models are critical areas of concern. Specific examples of bias include the reinforcement of stereotypes in generated text and the propagation of misinformation in automated news articles. Researchers and developers are increasingly focused on creating guidelines for responsible AI use, ensuring that LLMs serve society positively. Ongoing efforts to mitigate these issues include developing better data curation methods and implementing bias detection algorithms.\\n\\n## Conclusion\\n\\nLarge Language Models represent a significant leap forward in AI and NLP capabilities. Their ability to understand and generate human-like text opens up numerous possibilities across various fields, from business to education. However, as their influence grows, so does the responsibility to address the ethical implications associated with their use. For beginners, understanding LLMs is vital as they become integral to many technological advancements and daily applications.\\n\\n## References\\n\\n1. Vaswani, A., et al. (2017). Attention Is All You Need. *Advances in Neural Information Processing Systems*, 30.\\n2. Radford, A., et al. (2020). Language Models are Unsupervised Multitask Learners. *OpenAI*.\\n3. Devlin, J., et al. (2019). BERT: Pre-training of Deep Bidirectional Transformers for Language Understanding. *arXiv preprint arXiv:1810.04805*.\\n4. Brown, T. B., et al. (2020). Language Models are Few-Shot Learners. *arXiv preprint arXiv:2005.14165*.\\n5. Binns, R. (2020). Fairness in Machine Learning: A Survey. *arXiv preprint arXiv:2008.03226*.\\n6. Recent developments in LLMs (2021-2023). Various sources including *Nature AI*, *Journal of Machine Learning Research*, and *arXiv* preprints.\\n\\n*(Ensure to replace placeholder links with actual diagrams or charts for clarity and visual aid enhancement.)*\""
      ]
     },
     "execution_count": 9,
     "metadata": {},
     "output_type": "execute_result"
    }
   ],
   "source": [
    "output_draft_report = writer_chain.invoke({\"topic\": \"Quick report on LLMs for beginners.\"})\n",
    "feedback = reviewer_chain.invoke({\"report\": output_draft_report})\n",
    "final_writer_chain.invoke({\"report\": output_draft_report, \"feedback\": feedback})"
   ]
  },
  {
   "cell_type": "code",
   "execution_count": 10,
   "metadata": {},
   "outputs": [
    {
     "data": {
      "text/markdown": [
       "\"# Quick Report on Large Language Models (LLMs) for Beginners\n",
       "\n",
       "## Introduction\n",
       "\n",
       "Large Language Models (LLMs) have emerged as a transformative technology in the field of artificial intelligence (AI) and natural language processing (NLP). These models, powered by advanced deep learning techniques, are capable of understanding and generating human-like text based on vast amounts of data. LLMs have applications ranging from chatbots and virtual assistants to content generation and data analysis. This report aims to provide beginners with a concise overview of LLMs, their workings, applications, and implications.\n",
       "\n",
       "## Development\n",
       "\n",
       "### Understanding Large Language Models\n",
       "\n",
       "1. **Definition and Architecture**:  \n",
       "   LLMs are neural network-based models trained on large datasets to understand and generate text. They typically utilize transformer architecture, which allows the model to consider the context of words in a sentence more effectively than previous models. The architecture consists of multiple layers of attention mechanisms that enable the model to weigh the importance of different words relative to each other.  \n",
       "   ![Transformer Architecture Diagram](https://example.com/transformer_diagram) *(Insert appropriate diagram here)*\n",
       "\n",
       "2. **Training Process**:  \n",
       "   The training of LLMs involves two key steps: pre-training and fine-tuning. During pre-training, the model is exposed to vast corpora of text, allowing it to learn language patterns, grammar, and factual information. Fine-tuning is a subsequent phase where the model is trained on specific tasks or datasets to enhance its performance in particular applications.  \n",
       "   ![Training Process Flowchart](https://example.com/training_process_diagram) *(Insert appropriate chart here)*\n",
       "\n",
       "3. **Popular Models**:  \n",
       "   Notable examples of LLMs include OpenAI's GPT-3, Google's BERT and T5, and Facebook's BART. Each of these models has unique features and strengths, but they share the common goal of generating coherent and contextually relevant text. For instance, GPT-3 is known for its impressive ability to generate human-like text, while BERT excels in understanding context for tasks like question-answering.\n",
       "\n",
       "### Applications of LLMs\n",
       "\n",
       "1. **Natural Language Understanding and Generation**:  \n",
       "   LLMs excel at tasks such as text summarization, translation, and question-answering. They can analyze complex queries and provide responses that closely mimic human language. For example, GPT-3 can summarize lengthy articles into concise paragraphs, making information more accessible.\n",
       "\n",
       "2. **Content Creation**:  \n",
       "   These models are increasingly used for generating marketing copy, news articles, and even creative writing. They offer efficiencies in content production, enabling businesses to scale their output while maintaining quality. A practical application is the automated generation of social media posts that engage audiences without extensive human input.\n",
       "\n",
       "3. **Conversational Agents**:  \n",
       "   LLMs power chatbots and virtual assistants, enhancing user interaction through natural conversations. They can manage customer support inquiries, provide information, and even engage in small talk. For instance, many companies use LLM-driven chatbots to handle customer queries 24/7, improving service efficiency.\n",
       "\n",
       "4. **Coding Assistance**:  \n",
       "   Some LLMs, like OpenAI's Codex, are designed to assist in software development by generating code snippets based on natural language descriptions. This capability is revolutionizing the way developers approach coding tasks, enabling rapid prototyping and reducing the time spent on repetitive coding tasks.\n",
       "\n",
       "### Ethical Considerations and Challenges\n",
       "\n",
       "The rise of LLMs brings forth significant ethical considerations. Issues such as bias in training data, the potential for misinformation, and the environmental impact of training large models are critical areas of concern. Specific examples of bias include the reinforcement of stereotypes in generated text and the propagation of misinformation in automated news articles. Researchers and developers are increasingly focused on creating guidelines for responsible AI use, ensuring that LLMs serve society positively. Ongoing efforts to mitigate these issues include developing better data curation methods and implementing bias detection algorithms.\n",
       "\n",
       "## Conclusion\n",
       "\n",
       "Large Language Models represent a significant leap forward in AI and NLP capabilities. Their ability to understand and generate human-like text opens up numerous possibilities across various fields, from business to education. However, as their influence grows, so does the responsibility to address the ethical implications associated with their use. For beginners, understanding LLMs is vital as they become integral to many technological advancements and daily applications.\n",
       "\n",
       "## References\n",
       "\n",
       "1. Vaswani, A., et al. (2017). Attention Is All You Need. *Advances in Neural Information Processing Systems*, 30.\n",
       "2. Radford, A., et al. (2020). Language Models are Unsupervised Multitask Learners. *OpenAI*.\n",
       "3. Devlin, J., et al. (2019). BERT: Pre-training of Deep Bidirectional Transformers for Language Understanding. *arXiv preprint arXiv:1810.04805*.\n",
       "4. Brown, T. B., et al. (2020). Language Models are Few-Shot Learners. *arXiv preprint arXiv:2005.14165*.\n",
       "5. Binns, R. (2020). Fairness in Machine Learning: A Survey. *arXiv preprint arXiv:2008.03226*.\n",
       "6. Recent developments in LLMs (2021-2023). Various sources including *Nature AI*, *Journal of Machine Learning Research*, and *arXiv* preprints.\n",
       "\n",
       "*(Ensure to replace placeholder links with actual diagrams or charts for clarity and visual aid enhancement.)*"
      ],
      "text/plain": [
       "<IPython.core.display.Markdown object>"
      ]
     },
     "execution_count": 10,
     "metadata": {},
     "output_type": "execute_result"
    }
   ],
   "source": [
    "from IPython.display import Markdown\n",
    "\n",
    "Markdown(\"\"\"\"# Quick Report on Large Language Models (LLMs) for Beginners\\n\\n## Introduction\\n\\nLarge Language Models (LLMs) have emerged as a transformative technology in the field of artificial intelligence (AI) and natural language processing (NLP). These models, powered by advanced deep learning techniques, are capable of understanding and generating human-like text based on vast amounts of data. LLMs have applications ranging from chatbots and virtual assistants to content generation and data analysis. This report aims to provide beginners with a concise overview of LLMs, their workings, applications, and implications.\\n\\n## Development\\n\\n### Understanding Large Language Models\\n\\n1. **Definition and Architecture**:  \\n   LLMs are neural network-based models trained on large datasets to understand and generate text. They typically utilize transformer architecture, which allows the model to consider the context of words in a sentence more effectively than previous models. The architecture consists of multiple layers of attention mechanisms that enable the model to weigh the importance of different words relative to each other.  \\n   ![Transformer Architecture Diagram](https://example.com/transformer_diagram) *(Insert appropriate diagram here)*\\n\\n2. **Training Process**:  \\n   The training of LLMs involves two key steps: pre-training and fine-tuning. During pre-training, the model is exposed to vast corpora of text, allowing it to learn language patterns, grammar, and factual information. Fine-tuning is a subsequent phase where the model is trained on specific tasks or datasets to enhance its performance in particular applications.  \\n   ![Training Process Flowchart](https://example.com/training_process_diagram) *(Insert appropriate chart here)*\\n\\n3. **Popular Models**:  \\n   Notable examples of LLMs include OpenAI's GPT-3, Google's BERT and T5, and Facebook's BART. Each of these models has unique features and strengths, but they share the common goal of generating coherent and contextually relevant text. For instance, GPT-3 is known for its impressive ability to generate human-like text, while BERT excels in understanding context for tasks like question-answering.\\n\\n### Applications of LLMs\\n\\n1. **Natural Language Understanding and Generation**:  \\n   LLMs excel at tasks such as text summarization, translation, and question-answering. They can analyze complex queries and provide responses that closely mimic human language. For example, GPT-3 can summarize lengthy articles into concise paragraphs, making information more accessible.\\n\\n2. **Content Creation**:  \\n   These models are increasingly used for generating marketing copy, news articles, and even creative writing. They offer efficiencies in content production, enabling businesses to scale their output while maintaining quality. A practical application is the automated generation of social media posts that engage audiences without extensive human input.\\n\\n3. **Conversational Agents**:  \\n   LLMs power chatbots and virtual assistants, enhancing user interaction through natural conversations. They can manage customer support inquiries, provide information, and even engage in small talk. For instance, many companies use LLM-driven chatbots to handle customer queries 24/7, improving service efficiency.\\n\\n4. **Coding Assistance**:  \\n   Some LLMs, like OpenAI's Codex, are designed to assist in software development by generating code snippets based on natural language descriptions. This capability is revolutionizing the way developers approach coding tasks, enabling rapid prototyping and reducing the time spent on repetitive coding tasks.\\n\\n### Ethical Considerations and Challenges\\n\\nThe rise of LLMs brings forth significant ethical considerations. Issues such as bias in training data, the potential for misinformation, and the environmental impact of training large models are critical areas of concern. Specific examples of bias include the reinforcement of stereotypes in generated text and the propagation of misinformation in automated news articles. Researchers and developers are increasingly focused on creating guidelines for responsible AI use, ensuring that LLMs serve society positively. Ongoing efforts to mitigate these issues include developing better data curation methods and implementing bias detection algorithms.\\n\\n## Conclusion\\n\\nLarge Language Models represent a significant leap forward in AI and NLP capabilities. Their ability to understand and generate human-like text opens up numerous possibilities across various fields, from business to education. However, as their influence grows, so does the responsibility to address the ethical implications associated with their use. For beginners, understanding LLMs is vital as they become integral to many technological advancements and daily applications.\\n\\n## References\\n\\n1. Vaswani, A., et al. (2017). Attention Is All You Need. *Advances in Neural Information Processing Systems*, 30.\\n2. Radford, A., et al. (2020). Language Models are Unsupervised Multitask Learners. *OpenAI*.\\n3. Devlin, J., et al. (2019). BERT: Pre-training of Deep Bidirectional Transformers for Language Understanding. *arXiv preprint arXiv:1810.04805*.\\n4. Brown, T. B., et al. (2020). Language Models are Few-Shot Learners. *arXiv preprint arXiv:2005.14165*.\\n5. Binns, R. (2020). Fairness in Machine Learning: A Survey. *arXiv preprint arXiv:2008.03226*.\\n6. Recent developments in LLMs (2021-2023). Various sources including *Nature AI*, *Journal of Machine Learning Research*, and *arXiv* preprints.\\n\\n*(Ensure to replace placeholder links with actual diagrams or charts for clarity and visual aid enhancement.)*\"\"\"\"\")"
   ]
  },
  {
   "cell_type": "code",
   "execution_count": 12,
   "metadata": {},
   "outputs": [
    {
     "data": {
      "text/plain": [
       "langchain_core.runnables.base.RunnableSequence"
      ]
     },
     "execution_count": 12,
     "metadata": {},
     "output_type": "execute_result"
    }
   ],
   "source": [
    "type(writer_chain)"
   ]
  },
  {
   "cell_type": "markdown",
   "metadata": {},
   "source": [
    "Lucas! What is a RunnableSequence?"
   ]
  },
  {
   "cell_type": "markdown",
   "metadata": {},
   "source": [
    "What is a Runnable? "
   ]
  },
  {
   "cell_type": "code",
   "execution_count": 13,
   "metadata": {},
   "outputs": [],
   "source": [
    "from langchain_core.runnables import RunnableLambda, RunnableSequence, RunnablePassthrough"
   ]
  },
  {
   "cell_type": "code",
   "execution_count": 14,
   "metadata": {},
   "outputs": [
    {
     "data": {
      "text/plain": [
       "\"Subject: You're Hilarious!\\n\\nHey Lucas,\\n\\nI just wanted to take a moment to tell you how funny you are! Your sense of humor always brings a smile to my face, and I really appreciate the laughs you share with everyone. Keep being your amazing self!\\n\\nLooking forward to our next hangout!\\n\\nBest,  \\n[Your Name]\""
      ]
     },
     "execution_count": 14,
     "metadata": {},
     "output_type": "execute_result"
    }
   ],
   "source": [
    "def write_a_message_to_lucas_about_a_topic(topic: str):\n",
    "    output_message = llm.invoke(f\"Write a message to Lucas about: {topic}\")\n",
    "    return output_message.content\n",
    "\n",
    "write_a_message_to_lucas_about_a_topic(\"Lucas you're funny!\")"
   ]
  },
  {
   "cell_type": "code",
   "execution_count": 15,
   "metadata": {},
   "outputs": [
    {
     "data": {
      "text/plain": [
       "RunnableLambda(write_a_message_to_lucas_about_a_topic)"
      ]
     },
     "execution_count": 15,
     "metadata": {},
     "output_type": "execute_result"
    }
   ],
   "source": [
    "runnable_lucas_msg = RunnableLambda(write_a_message_to_lucas_about_a_topic)\n",
    "runnable_lucas_msg"
   ]
  },
  {
   "cell_type": "code",
   "execution_count": 17,
   "metadata": {},
   "outputs": [
    {
     "data": {
      "text/plain": [
       "RunnableLambda(count_number_of_characters_in_msg)"
      ]
     },
     "execution_count": 17,
     "metadata": {},
     "output_type": "execute_result"
    }
   ],
   "source": [
    "def count_number_of_characters_in_msg(msg: str):\n",
    "    return len(msg)\n",
    "\n",
    "runnable_count_chars = RunnableLambda(count_number_of_characters_in_msg)\n",
    "\n",
    "runnable_count_chars"
   ]
  },
  {
   "cell_type": "code",
   "execution_count": 20,
   "metadata": {},
   "outputs": [
    {
     "data": {
      "text/plain": [
       "RunnableLambda(write_a_message_to_lucas_about_a_topic)\n",
       "| RunnableLambda(count_number_of_characters_in_msg)"
      ]
     },
     "execution_count": 20,
     "metadata": {},
     "output_type": "execute_result"
    }
   ],
   "source": [
    "runnable_sequence = RunnableSequence(first=runnable_lucas_msg, last=runnable_count_chars)\n",
    "runnable_sequence"
   ]
  },
  {
   "cell_type": "code",
   "execution_count": 21,
   "metadata": {},
   "outputs": [
    {
     "data": {
      "text/plain": [
       "338"
      ]
     },
     "execution_count": 21,
     "metadata": {},
     "output_type": "execute_result"
    }
   ],
   "source": [
    "runnable_sequence.invoke(\"Lucas you're not very funny!\")"
   ]
  },
  {
   "cell_type": "code",
   "execution_count": 22,
   "metadata": {},
   "outputs": [],
   "source": [
    "def output_organized_msg_with_length(msg: str, length: int):\n",
    "    return f\"Message: {msg}\\n\\nLength: {length}\"\n",
    "\n",
    "\n",
    "runnable_output_organized = RunnableLambda(output_organized_msg_with_length)"
   ]
  },
  {
   "cell_type": "code",
   "execution_count": 25,
   "metadata": {},
   "outputs": [],
   "source": [
    "chain = {'msg': runnable_lucas_msg} | RunnablePassthrough().assign(length=runnable_count_chars) | runnable_output_organized"
   ]
  },
  {
   "cell_type": "code",
   "execution_count": 27,
   "metadata": {},
   "outputs": [],
   "source": [
    "# chain.invoke(\"Lucas you're not very funny!\")"
   ]
  },
  {
   "cell_type": "code",
   "execution_count": 28,
   "metadata": {},
   "outputs": [
    {
     "data": {
      "text/plain": [
       "ChatPromptTemplate(input_variables=['topic'], messages=[SystemMessagePromptTemplate(prompt=PromptTemplate(input_variables=[], template='You are a research report writer that generates well structured and informative research reports based on a specific topic.')), HumanMessagePromptTemplate(prompt=PromptTemplate(input_variables=['topic'], template='Write a research report with introduction, development, conclusion and references about this topic: {topic}'))])\n",
       "| ChatOpenAI(client=<openai.resources.chat.completions.Completions object at 0x10c650b10>, async_client=<openai.resources.chat.completions.AsyncCompletions object at 0x10bb5c710>, model_name='gpt-4o-mini', openai_api_key=SecretStr('**********'), openai_api_base='https://api.openai.com/v1', openai_proxy='')\n",
       "| StrOutputParser()"
      ]
     },
     "execution_count": 28,
     "metadata": {},
     "output_type": "execute_result"
    }
   ],
   "source": [
    "writer_chain"
   ]
  },
  {
   "cell_type": "code",
   "execution_count": 29,
   "metadata": {},
   "outputs": [
    {
     "data": {
      "text/plain": [
       "ChatPromptTemplate(input_variables=['report'], messages=[SystemMessagePromptTemplate(prompt=PromptTemplate(input_variables=[], template='You are a reviewer that evaluates the quality of a research report and you output feedback in 5 concise bullet points.')), HumanMessagePromptTemplate(prompt=PromptTemplate(input_variables=['report'], template='Review the research report and provide feedback about the quality of this report: \\n\\n {report}.'))])\n",
       "| ChatOpenAI(client=<openai.resources.chat.completions.Completions object at 0x10c650b10>, async_client=<openai.resources.chat.completions.AsyncCompletions object at 0x10bb5c710>, model_name='gpt-4o-mini', openai_api_key=SecretStr('**********'), openai_api_base='https://api.openai.com/v1', openai_proxy='')\n",
       "| StrOutputParser()"
      ]
     },
     "execution_count": 29,
     "metadata": {},
     "output_type": "execute_result"
    }
   ],
   "source": [
    "reviewer_chain"
   ]
  },
  {
   "cell_type": "code",
   "execution_count": 30,
   "metadata": {},
   "outputs": [
    {
     "data": {
      "text/plain": [
       "ChatPromptTemplate(input_variables=['feedback', 'report'], messages=[SystemMessagePromptTemplate(prompt=PromptTemplate(input_variables=[], template='You are integrate feedback into a research report draft and you output a better final version of the research report.')), HumanMessagePromptTemplate(prompt=PromptTemplate(input_variables=['feedback', 'report'], template='Integrate this feedback: {feedback} into this research report: {report}, and output a better final version of the research report.'))])\n",
       "| ChatOpenAI(client=<openai.resources.chat.completions.Completions object at 0x10c650b10>, async_client=<openai.resources.chat.completions.AsyncCompletions object at 0x10bb5c710>, model_name='gpt-4o-mini', openai_api_key=SecretStr('**********'), openai_api_base='https://api.openai.com/v1', openai_proxy='')\n",
       "| StrOutputParser()"
      ]
     },
     "execution_count": 30,
     "metadata": {},
     "output_type": "execute_result"
    }
   ],
   "source": [
    "final_writer_chain"
   ]
  },
  {
   "cell_type": "code",
   "execution_count": 47,
   "metadata": {},
   "outputs": [],
   "source": [
    "composed_chain = {'report': writer_chain} | RunnablePassthrough().assign(feedback=reviewer_chain) | final_writer_chain"
   ]
  },
  {
   "cell_type": "code",
   "execution_count": 48,
   "metadata": {},
   "outputs": [],
   "source": [
    "output_with_ollama_report = composed_chain.invoke({\"topic\": \"Quick report on LLMs for personal productivity.\"})"
   ]
  },
  {
   "cell_type": "code",
   "execution_count": 49,
   "metadata": {},
   "outputs": [
    {
     "data": {
      "text/markdown": [
       "Here's an integrated version of the feedback into the research report:\n",
       "\n",
       "**Quick Report on Large Language Models (LLMs) for Personal Productivity**\n",
       "\n",
       "**Introduction**\n",
       "\n",
       "The rise of digital technology has transformed the way we live and work, leading to an increased emphasis on personal productivity. With the abundance of information available at our fingertips, individuals are under pressure to manage their time efficiently, prioritize tasks effectively, and maintain focus amidst distractions. Large Language Models (LLMs), a type of artificial intelligence (AI) model, have emerged as a potential game-changer in this context. This report provides an overview of LLMs and their application in enhancing personal productivity.\n",
       "\n",
       "To better understand the relevance of LLMs in the personal productivity space, it's essential to consider the growing demand for efficient time management and task prioritization tools. As individuals increasingly rely on digital platforms for work and leisure, the need for personalized coaching and AI-driven insights has become more pronounced.\n",
       "\n",
       "**Development**\n",
       "\n",
       "LLMs are AI models that use natural language processing (NLP) to generate human-like text responses based on input prompts. These models have been trained on vast amounts of data, enabling them to learn patterns, relationships, and context-specific nuances. The key benefits of LLMs for personal productivity can be summarized as follows:\n",
       "\n",
       "1. **Task Prioritization**: LLMs can analyze user inputs, identify relevant tasks, and provide personalized recommendations for prioritization.\n",
       "2. **Time Management**: By analyzing schedules, habits, and work styles, LLMs can offer tailored advice on time allocation and task scheduling.\n",
       "3. **Goal Setting**: LLMs can assist users in setting realistic goals, breaking them down into actionable steps, and tracking progress.\n",
       "4. **Focus Enhancement**: LLMs can detect distractions, provide attention-enhancing strategies, and suggest techniques to maintain focus.\n",
       "5. **Personalized Coaching**: By leveraging machine learning algorithms, LLMs can offer customized coaching on productivity-related topics, such as time management, goal setting, and stress reduction.\n",
       "\n",
       "Several studies have demonstrated the effectiveness of LLMs in enhancing personal productivity:\n",
       "\n",
       "* A study by Johnson et al. (2020) found that users who employed an LLM-based task prioritization system reported a 25% increase in productivity.\n",
       "* Another study by Smith et al. (2019) showed that individuals using an LLM-driven goal-setting tool achieved a 30% higher success rate in achieving their goals.\n",
       "\n",
       "**Methodology Discussion**\n",
       "\n",
       "It's essential to note that while these studies demonstrate the potential of LLMs, further research is needed to fully understand the methodologies used and the robustness of the findings. For instance, the sample sizes and study designs employed in these studies may not be representative of larger populations or real-world settings.\n",
       "\n",
       "**Conclusion**\n",
       "\n",
       "Large Language Models hold significant promise for enhancing personal productivity. By leveraging AI-powered insights, users can prioritize tasks more effectively, manage time more efficiently, and maintain focus amidst distractions. While further research is needed to fully realize the potential of LLMs, current studies suggest that these models can have a positive impact on individual productivity.\n",
       "\n",
       "**Recommendations**\n",
       "\n",
       "Based on this report, we recommend:\n",
       "\n",
       "1. **Exploring LLM-based task prioritization tools**: Researchers should investigate the effectiveness of LLM-driven task prioritization systems in real-world settings.\n",
       "2. **Developing personalized coaching frameworks**: Developers should create LLM-powered platforms that offer customized coaching on productivity-related topics, such as time management and goal setting.\n",
       "\n",
       "To make these recommendations more impactful, it's essential to provide specific action items or timelines for implementation. For example:\n",
       "\n",
       "* Conduct a pilot study with 100 participants to evaluate the effectiveness of an LLM-based task prioritization system.\n",
       "* Develop a comprehensive LLM-powered platform that offers personalized coaching on productivity-related topics within the next 6 months.\n",
       "\n",
       "**References**\n",
       "\n",
       "[1] Johnson et al. (2020). \"LLM-based Task Prioritization System: A Pilot Study.\" Journal of Artificial Intelligence Research, 68, 155-172.\n",
       "\n",
       "[2] Smith et al. (2019). \"Goal Setting with LLMs: A Randomized Controlled Trial.\" Computers in Human Behavior, 101, 102511.\n",
       "\n",
       "This integrated version of the feedback provides a clearer purpose for the report, well-structured content, and more concrete recommendations. The added discussion on methodology strengthens the references section, making it easier to assess the robustness and generalizability of the findings."
      ],
      "text/plain": [
       "<IPython.core.display.Markdown object>"
      ]
     },
     "execution_count": 49,
     "metadata": {},
     "output_type": "execute_result"
    }
   ],
   "source": [
    "Markdown(output_with_ollama_report)"
   ]
  },
  {
   "cell_type": "code",
   "execution_count": 33,
   "metadata": {},
   "outputs": [
    {
     "data": {
      "text/markdown": [
       "# Quick Report on Large Language Models (LLMs) for Personal Productivity\n",
       "\n",
       "## Introduction\n",
       "\n",
       "In recent years, Large Language Models (LLMs) have emerged as transformative tools in various domains, significantly impacting personal productivity. LLMs, such as OpenAI's GPT-3 and its successors, are designed to process and generate human-like text based on the input they receive. Their capabilities extend beyond mere text generation; they can assist with brainstorming ideas, drafting emails, summarizing documents, and automating routine tasks. \n",
       "\n",
       "This report provides an overview of the functionality of LLMs, examines their applications in enhancing personal productivity, and discusses the potential challenges and ethical considerations associated with their use. The following sections will elaborate on the core functionalities of LLMs, explore specific applications in real-world scenarios, address ethical challenges, and conclude with insights into future trends and areas for further research.\n",
       "\n",
       "## Development\n",
       "\n",
       "### Functionality of LLMs\n",
       "\n",
       "LLMs operate on intricate neural networks trained on vast amounts of text data. This training enables them to understand context, generate coherent responses, and engage in contextual conversations. Key features include:\n",
       "\n",
       "1. **Natural Language Understanding**: LLMs can comprehend the nuances of human language, allowing them to interpret user queries and respond appropriately.\n",
       "   \n",
       "2. **Text Generation**: Users can leverage LLMs to create content such as articles, reports, and creative writing pieces swiftly and with minimal input.\n",
       "\n",
       "3. **Summarization**: LLMs can condense lengthy documents into concise summaries, saving time for users needing to digest large amounts of information quickly.\n",
       "\n",
       "4. **Conversational Agents**: Many LLMs are integrated into chatbots, facilitating customer support and providing instant responses to user inquiries.\n",
       "\n",
       "### Applications in Personal Productivity\n",
       "\n",
       "1. **Task Management**: LLMs can assist in creating to-do lists, setting reminders, and prioritizing tasks based on user preferences. For example, applications like Notion and Todoist leverage LLM capabilities to enhance their user experience and functionality.\n",
       "\n",
       "2. **Content Creation**: Professionals in marketing, blogging, and academia utilize LLMs for generating content ideas, drafting articles, and creating social media posts, streamlining the creative process. A notable case is the use of LLMs by marketing teams to develop personalized ad copy quickly.\n",
       "\n",
       "3. **Learning and Research**: LLMs can act as personal research assistants, helping users find information, summarize academic papers, and generate study guides, thus enhancing learning efficiency. For instance, students have reported improved study outcomes after using LLMs to summarize complex topics.\n",
       "\n",
       "4. **Email Drafting and Communication**: By drafting responses and summarizing email threads, LLMs can significantly reduce the time spent on communication, allowing users to focus on more strategic tasks. This application is especially beneficial in corporate settings where email volume can be overwhelming.\n",
       "\n",
       "5. **Language Translation and Editing**: LLMs facilitate communication across language barriers, providing real-time translations and proofreading, thus improving the quality of written communications. Organizations have begun to adopt LLMs for internal and external communication to enhance clarity and efficiency.\n",
       "\n",
       "### Challenges and Ethical Considerations\n",
       "\n",
       "While LLMs offer numerous advantages for personal productivity, several challenges and ethical considerations must be addressed:\n",
       "\n",
       "1. **Misinformation**: LLMs can inadvertently generate incorrect or misleading information, necessitating users to verify facts before acting on generated content. To mitigate this, best practices include cross-referencing LLM outputs with reliable sources.\n",
       "\n",
       "2. **Bias and Fairness**: The training data for LLMs may contain biases, leading to outputs that reflect these biases. This raises concerns about the fairness and inclusivity of AI-generated content. Organizations should implement bias detection and correction methods in their LLM systems.\n",
       "\n",
       "3. **Dependency**: Over-reliance on LLMs for critical thinking and decision-making could impair users' cognitive skills and creativity. Encouraging users to maintain a balance between LLM assistance and personal input can help mitigate this issue.\n",
       "\n",
       "4. **Data Privacy**: The use of LLMs often involves sharing personal data, raising concerns about data security and user privacy. Adhering to robust data protection regulations and practices is essential for safeguarding user information.\n",
       "\n",
       "5. **Job Displacement**: As LLMs automate tasks traditionally performed by humans, there may be implications for employment and the need for workforce reskilling. Future workforce planning should consider the integration of LLMs and the corresponding skill shifts required.\n",
       "\n",
       "## Conclusion\n",
       "\n",
       "Large Language Models are reshaping personal productivity by providing innovative solutions for task management, content creation, learning, and communication. Their ability to automate and enhance various processes allows users to focus on higher-level thinking and creativity. However, the integration of LLMs into daily workflows is not without challenges, including issues of bias, misinformation, and ethical considerations regarding data privacy. \n",
       "\n",
       "Looking ahead, future trends in LLM development may include advancements in contextual understanding and real-time collaboration capabilities. Areas for further research could explore the long-term impacts of LLM use on cognitive skills, the effectiveness of bias mitigation strategies, and the evolving role of LLMs in various industries. As LLM technology continues to evolve, it is essential for users to remain informed and critical of its applications to harness its potential effectively while mitigating its risks.\n",
       "\n",
       "## References\n",
       "\n",
       "1. Brown, T.B., Mann, B., Ryder, N., Subbiah, M., Kaplan, J., Dhariwal, P., ... & Amodei, D. (2020). Language Models are Few-Shot Learners. *Advances in Neural Information Processing Systems*, 33, 1877-1901.\n",
       "\n",
       "2. OpenAI. (2023). GPT-3 Technical Report. [Online] Available at: https://openai.com/research/gpt-3\n",
       "\n",
       "3. Bender, E. M., & Friedman, B. (2018). Data Statements for Natural Language Processing: Toward Mitigating System Bias and Enabling Better Science. *Proceedings of the 2018 Conference of the North American Chapter of the Association for Computational Linguistics: Human Language Technologies*, 1, 587-593.\n",
       "\n",
       "4. Zubair, H. (2022). The Impact of AI on Productivity: A Review of Evidence. *Journal of Business Research*, 142, 1-12.\n",
       "\n",
       "5. Recent studies and industry reports on LLMs and productivity (to be added)."
      ],
      "text/plain": [
       "<IPython.core.display.Markdown object>"
      ]
     },
     "execution_count": 33,
     "metadata": {},
     "output_type": "execute_result"
    }
   ],
   "source": [
    "Markdown(\"# Quick Report on Large Language Models (LLMs) for Personal Productivity\\n\\n## Introduction\\n\\nIn recent years, Large Language Models (LLMs) have emerged as transformative tools in various domains, significantly impacting personal productivity. LLMs, such as OpenAI's GPT-3 and its successors, are designed to process and generate human-like text based on the input they receive. Their capabilities extend beyond mere text generation; they can assist with brainstorming ideas, drafting emails, summarizing documents, and automating routine tasks. \\n\\nThis report provides an overview of the functionality of LLMs, examines their applications in enhancing personal productivity, and discusses the potential challenges and ethical considerations associated with their use. The following sections will elaborate on the core functionalities of LLMs, explore specific applications in real-world scenarios, address ethical challenges, and conclude with insights into future trends and areas for further research.\\n\\n## Development\\n\\n### Functionality of LLMs\\n\\nLLMs operate on intricate neural networks trained on vast amounts of text data. This training enables them to understand context, generate coherent responses, and engage in contextual conversations. Key features include:\\n\\n1. **Natural Language Understanding**: LLMs can comprehend the nuances of human language, allowing them to interpret user queries and respond appropriately.\\n   \\n2. **Text Generation**: Users can leverage LLMs to create content such as articles, reports, and creative writing pieces swiftly and with minimal input.\\n\\n3. **Summarization**: LLMs can condense lengthy documents into concise summaries, saving time for users needing to digest large amounts of information quickly.\\n\\n4. **Conversational Agents**: Many LLMs are integrated into chatbots, facilitating customer support and providing instant responses to user inquiries.\\n\\n### Applications in Personal Productivity\\n\\n1. **Task Management**: LLMs can assist in creating to-do lists, setting reminders, and prioritizing tasks based on user preferences. For example, applications like Notion and Todoist leverage LLM capabilities to enhance their user experience and functionality.\\n\\n2. **Content Creation**: Professionals in marketing, blogging, and academia utilize LLMs for generating content ideas, drafting articles, and creating social media posts, streamlining the creative process. A notable case is the use of LLMs by marketing teams to develop personalized ad copy quickly.\\n\\n3. **Learning and Research**: LLMs can act as personal research assistants, helping users find information, summarize academic papers, and generate study guides, thus enhancing learning efficiency. For instance, students have reported improved study outcomes after using LLMs to summarize complex topics.\\n\\n4. **Email Drafting and Communication**: By drafting responses and summarizing email threads, LLMs can significantly reduce the time spent on communication, allowing users to focus on more strategic tasks. This application is especially beneficial in corporate settings where email volume can be overwhelming.\\n\\n5. **Language Translation and Editing**: LLMs facilitate communication across language barriers, providing real-time translations and proofreading, thus improving the quality of written communications. Organizations have begun to adopt LLMs for internal and external communication to enhance clarity and efficiency.\\n\\n### Challenges and Ethical Considerations\\n\\nWhile LLMs offer numerous advantages for personal productivity, several challenges and ethical considerations must be addressed:\\n\\n1. **Misinformation**: LLMs can inadvertently generate incorrect or misleading information, necessitating users to verify facts before acting on generated content. To mitigate this, best practices include cross-referencing LLM outputs with reliable sources.\\n\\n2. **Bias and Fairness**: The training data for LLMs may contain biases, leading to outputs that reflect these biases. This raises concerns about the fairness and inclusivity of AI-generated content. Organizations should implement bias detection and correction methods in their LLM systems.\\n\\n3. **Dependency**: Over-reliance on LLMs for critical thinking and decision-making could impair users' cognitive skills and creativity. Encouraging users to maintain a balance between LLM assistance and personal input can help mitigate this issue.\\n\\n4. **Data Privacy**: The use of LLMs often involves sharing personal data, raising concerns about data security and user privacy. Adhering to robust data protection regulations and practices is essential for safeguarding user information.\\n\\n5. **Job Displacement**: As LLMs automate tasks traditionally performed by humans, there may be implications for employment and the need for workforce reskilling. Future workforce planning should consider the integration of LLMs and the corresponding skill shifts required.\\n\\n## Conclusion\\n\\nLarge Language Models are reshaping personal productivity by providing innovative solutions for task management, content creation, learning, and communication. Their ability to automate and enhance various processes allows users to focus on higher-level thinking and creativity. However, the integration of LLMs into daily workflows is not without challenges, including issues of bias, misinformation, and ethical considerations regarding data privacy. \\n\\nLooking ahead, future trends in LLM development may include advancements in contextual understanding and real-time collaboration capabilities. Areas for further research could explore the long-term impacts of LLM use on cognitive skills, the effectiveness of bias mitigation strategies, and the evolving role of LLMs in various industries. As LLM technology continues to evolve, it is essential for users to remain informed and critical of its applications to harness its potential effectively while mitigating its risks.\\n\\n## References\\n\\n1. Brown, T.B., Mann, B., Ryder, N., Subbiah, M., Kaplan, J., Dhariwal, P., ... & Amodei, D. (2020). Language Models are Few-Shot Learners. *Advances in Neural Information Processing Systems*, 33, 1877-1901.\\n\\n2. OpenAI. (2023). GPT-3 Technical Report. [Online] Available at: https://openai.com/research/gpt-3\\n\\n3. Bender, E. M., & Friedman, B. (2018). Data Statements for Natural Language Processing: Toward Mitigating System Bias and Enabling Better Science. *Proceedings of the 2018 Conference of the North American Chapter of the Association for Computational Linguistics: Human Language Technologies*, 1, 587-593.\\n\\n4. Zubair, H. (2022). The Impact of AI on Productivity: A Review of Evidence. *Journal of Business Research*, 142, 1-12.\\n\\n5. Recent studies and industry reports on LLMs and productivity (to be added).\")"
   ]
  },
  {
   "cell_type": "code",
   "execution_count": 38,
   "metadata": {},
   "outputs": [
    {
     "data": {
      "image/jpeg": "[encoded data removed]",
      "text/plain": [
       "<IPython.core.display.Image object>"
      ]
     },
     "execution_count": 38,
     "metadata": {},
     "output_type": "execute_result"
    }
   ],
   "source": [
    "from IPython.display import Image\n",
    "Image(composed_chain.get_graph().draw_mermaid_png())"
   ]
  },
  {
   "cell_type": "code",
   "execution_count": null,
   "metadata": {},
   "outputs": [],
   "source": []
  }
 ],
 "metadata": {
  "kernelspec": {
   "display_name": "oreilly-chatgpt-apps",
   "language": "python",
   "name": "oreilly-chatgpt-apps"
  },
  "language_info": {
   "codemirror_mode": {
    "name": "ipython",
    "version": 3
   },
   "file_extension": ".py",
   "mimetype": "text/x-python",
   "name": "python",
   "nbconvert_exporter": "python",
   "pygments_lexer": "ipython3",
   "version": "3.11.9"
  }
 },
 "nbformat": 4,
 "nbformat_minor": 2
}
