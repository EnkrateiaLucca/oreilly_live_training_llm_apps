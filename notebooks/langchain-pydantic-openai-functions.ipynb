{
 "cells": [
  {
   "cell_type": "markdown",
   "metadata": {},
   "source": [
    "When we want to convert openai functions to pydantic objects (for a more structured approach for defining tools for LLMs) we can leverage the following ideas:"
   ]
  },
  {
   "cell_type": "code",
   "execution_count": 9,
   "metadata": {},
   "outputs": [],
   "source": [
    "from pydantic import BaseModel, Field\n",
    "from langchain.utils.openai_functions import convert_pydantic_to_openai_function\n",
    "\n",
    "\n",
    "class WeatherSearch(BaseModel):\n",
    "    \"\"\"Call this function to get the weather of a specific airport.\"\"\"\n",
    "    airport_code: str = Field(description=\"The airport code of the airport you want to know the weather of.\")\n",
    "    \n",
    "\n",
    "openai_function_weather_search = convert_pydantic_to_openai_function(WeatherSearch)"
   ]
  },
  {
   "cell_type": "markdown",
   "metadata": {},
   "source": [
    "SO the airport_code is something that the LLM will figure out on how to input to the function, therefore making the call with the correct input."
   ]
  },
  {
   "cell_type": "code",
   "execution_count": 45,
   "metadata": {},
   "outputs": [
    {
     "data": {
      "text/plain": [
       "AIMessage(content='', additional_kwargs={'function_call': {'arguments': '{\\n  \"airport_code\": \"LIS\"\\n}', 'name': 'WeatherSearch'}})"
      ]
     },
     "execution_count": 45,
     "metadata": {},
     "output_type": "execute_result"
    }
   ],
   "source": [
    "from langchain.chat_models import ChatOpenAI\n",
    "\n",
    "llm_chat = ChatOpenAI()\n",
    "\n",
    "llm_chat.invoke(\"What's the weather like in Lisbon today?\",functions=[openai_function_weather_search])"
   ]
  },
  {
   "cell_type": "markdown",
   "metadata": {},
   "source": [
    "We can see from below that the LLM figured out that the airport_code for Lisbon is `LIS`."
   ]
  },
  {
   "cell_type": "markdown",
   "metadata": {},
   "source": [
    "You can also bind the function to the model to avoid having to pass the `functions` keyword argument everytime. "
   ]
  },
  {
   "cell_type": "code",
   "execution_count": 17,
   "metadata": {},
   "outputs": [
    {
     "data": {
      "text/plain": [
       "AIMessage(content='', additional_kwargs={'function_call': {'arguments': '{\\n  \"airport_code\": \"LIS\"\\n}', 'name': 'WeatherSearch'}})"
      ]
     },
     "execution_count": 17,
     "metadata": {},
     "output_type": "execute_result"
    }
   ],
   "source": [
    "model_with_function = llm_chat.bind(functions=[openai_function_weather_search])\n",
    "model_with_function.invoke(\"What's the weather like in Lisbon today?\")"
   ]
  },
  {
   "cell_type": "markdown",
   "metadata": {},
   "source": [
    "YOu can also force the model to use the function by binding it with it and adding the `function_call` keyword argument to a dictionary containing the key `name` and the name of that function `WeatherSearch`:"
   ]
  },
  {
   "cell_type": "code",
   "execution_count": 16,
   "metadata": {},
   "outputs": [],
   "source": [
    "model_with_forced_function = llm_chat.bind(functions=[openai_function_weather_search],function_call={\"name\": \"WeatherSearch\"})"
   ]
  },
  {
   "cell_type": "markdown",
   "metadata": {},
   "source": [
    "Now, let's connect to the stuff we already know."
   ]
  },
  {
   "cell_type": "code",
   "execution_count": 24,
   "metadata": {},
   "outputs": [
    {
     "data": {
      "text/plain": [
       "AIMessage(content='', additional_kwargs={'function_call': {'arguments': '{\\n  \"airport_code\": \"LIS\"\\n}', 'name': 'WeatherSearch'}})"
      ]
     },
     "execution_count": 24,
     "metadata": {},
     "output_type": "execute_result"
    }
   ],
   "source": [
    "from langchain.prompts import ChatPromptTemplate\n",
    "\n",
    "prompt = ChatPromptTemplate.from_messages([\n",
    "    (\"system\", \"You are a helpful assistant that tells the weather\"),\n",
    "    (\"user\", \"{input}\")\n",
    "])\n",
    "\n",
    "llm_chat = ChatOpenAI(temperature=0)\n",
    "\n",
    "llm_chat_with_forced_function = llm_chat.bind(functions=[openai_function_weather_search], function_call={\"name\": \"WeatherSearch\"})\n",
    "\n",
    "chain = prompt | llm_chat_with_forced_function\n",
    "\n",
    "chain.invoke({\"input\": \"What's the weather like in Lisbon today?\"})"
   ]
  },
  {
   "cell_type": "markdown",
   "metadata": {},
   "source": [
    "For multiple functions:"
   ]
  },
  {
   "cell_type": "code",
   "execution_count": 40,
   "metadata": {},
   "outputs": [],
   "source": [
    "from typing import List\n",
    "\n",
    "class SearchExamples(BaseModel):\n",
    "    \"\"\"Call this function to search for examples of a concept.\"\"\"\n",
    "    concept: str = Field(description=\"The concept you want to search for.\")\n",
    "    \n",
    "class AnalogySearch(BaseModel):\n",
    "    \"\"\"Call this function to search for analogies of a concept.\"\"\"\n",
    "    concept: str = Field(description=\"The concept you want to search for.\")\n",
    "\n",
    "\n",
    "openai_function_analogy_search = convert_pydantic_to_openai_function(AnalogySearch)\n",
    "openai_function_example_search = convert_pydantic_to_openai_function(SearchExamples) "
   ]
  },
  {
   "cell_type": "code",
   "execution_count": 41,
   "metadata": {},
   "outputs": [],
   "source": [
    "functions = [\n",
    "    openai_function_analogy_search,\n",
    "    openai_function_example_search\n",
    "]"
   ]
  },
  {
   "cell_type": "code",
   "execution_count": 42,
   "metadata": {},
   "outputs": [],
   "source": [
    "llm_chat_with_functions = llm_chat.bind(functions=functions)"
   ]
  },
  {
   "cell_type": "code",
   "execution_count": 43,
   "metadata": {},
   "outputs": [
    {
     "data": {
      "text/plain": [
       "AIMessage(content='', additional_kwargs={'function_call': {'arguments': '{\\n  \"concept\": \"SDK\"\\n}', 'name': 'SearchExamples'}})"
      ]
     },
     "execution_count": 43,
     "metadata": {},
     "output_type": "execute_result"
    }
   ],
   "source": [
    "# Here the model calls the example function\n",
    "llm_chat_with_functions.invoke(\"List examples for what and SDK is.\")"
   ]
  },
  {
   "cell_type": "code",
   "execution_count": 44,
   "metadata": {},
   "outputs": [
    {
     "data": {
      "text/plain": [
       "AIMessage(content='', additional_kwargs={'function_call': {'arguments': '{\\n  \"concept\": \"SDK\"\\n}', 'name': 'AnalogySearch'}})"
      ]
     },
     "execution_count": 44,
     "metadata": {},
     "output_type": "execute_result"
    }
   ],
   "source": [
    "llm_chat_with_functions.invoke(\"List analogies for what and SDK is.\")"
   ]
  },
  {
   "cell_type": "markdown",
   "metadata": {},
   "source": []
  },
  {
   "cell_type": "code",
   "execution_count": null,
   "metadata": {},
   "outputs": [],
   "source": []
  },
  {
   "cell_type": "code",
   "execution_count": null,
   "metadata": {},
   "outputs": [],
   "source": []
  },
  {
   "cell_type": "code",
   "execution_count": null,
   "metadata": {},
   "outputs": [],
   "source": []
  }
 ],
 "metadata": {
  "kernelspec": {
   "display_name": "oreilly-langchain",
   "language": "python",
   "name": "oreilly-langchain"
  },
  "language_info": {
   "codemirror_mode": {
    "name": "ipython",
    "version": 3
   },
   "file_extension": ".py",
   "mimetype": "text/x-python",
   "name": "python",
   "nbconvert_exporter": "python",
   "pygments_lexer": "ipython3",
   "version": "3.11.5"
  }
 },
 "nbformat": 4,
 "nbformat_minor": 2
}
