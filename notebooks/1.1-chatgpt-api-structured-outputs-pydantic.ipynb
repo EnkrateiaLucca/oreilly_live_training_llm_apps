{
 "cells": [
  {
   "cell_type": "code",
   "execution_count": null,
   "metadata": {},
   "outputs": [],
   "source": [
    "import os\n",
    "# loading from a .env file\n",
    "# load_dotenv(dotenv_path=\"/full/path/to/your/.env\")\n",
    "\n",
    "# or \n",
    "# if you're on google colab just uncomment below and replace with your openai api key\n",
    "# os.environ[\"OPENAI_API_KEY\"] = \"<your-openai-api-key>\""
   ]
  },
  {
   "cell_type": "code",
   "execution_count": 2,
   "metadata": {},
   "outputs": [],
   "source": [
    "MODEL = 'gpt-4o-mini'"
   ]
  },
  {
   "cell_type": "code",
   "execution_count": 3,
   "metadata": {},
   "outputs": [],
   "source": [
    "from openai import OpenAI\n",
    "client = OpenAI()\n",
    "\n",
    "def recommender_chat_bot(user_query):\n",
    "    response = client.chat.completions.create(\n",
    "        model=MODEL,\n",
    "        messages=[{\"role\": \"system\", \"content\": \"You are a chatbot system and recommender for products about tech to a diverse group of users.\"},\n",
    "                  {\"role\": \"user\", \"content\": user_query}]\n",
    "    )\n",
    "    \n",
    "    return response.choices[0].message.content"
   ]
  },
  {
   "cell_type": "code",
   "execution_count": 4,
   "metadata": {},
   "outputs": [
    {
     "data": {
      "text/plain": [
       "'Sure! Here’s a list of 20 tech products along with their descriptions:\\n\\n1. **Smartphone 12X Pro**  \\n   A flagship smartphone featuring a 6.9-inch AMOLED display, a quad-camera system with 108 MP main sensor, and AI enhancements for photography.\\n\\n2. **EcoSmart Home Hub**  \\n   A central device for controlling all smart home gadgets, compatible with Alexa, Google Home, and Apple HomeKit, enabling seamless automation and energy monitoring.\\n\\n3. **Wireless Noise-Canceling Headphones**  \\n   Over-ear headphones with adaptive noise cancellation, 30 hours of playback time, and touch controls for music and calls.\\n\\n4. **4K Ultra HD Streaming Device**  \\n   A compact streaming device that supports all major services like Netflix and Hulu, including voice search and a customizable interface.\\n\\n5. **Fitness Tracker 2.0**  \\n   A sleek wristband that monitors heart rate, sleep patterns, and calories burned, featuring GPS for outdoor activities and waterproof design.\\n\\n6. **Portable Solar Charger**  \\n   A foldable solar panel charger for smartphones and tablets, designed for outdoor enthusiasts, with dual USB ports and fast charging capability.\\n\\n7. **Virtual Reality Headset**  \\n   An all-in-one VR headset featuring advanced motion tracking, 120Hz refresh rate, and a library of immersive games and experiences.\\n\\n8. **Smart Glasses**  \\n   Stylish augmented reality glasses that display notifications, navigation, and fitness data, with touch controls and built-in bone conduction audio.\\n\\n9. **Robotic Vacuum Cleaner**  \\n   An intelligent vacuum that maps your home for efficient cleaning, with a mopping feature and app control, supporting voice commands.\\n\\n10. **Digital Notebook**  \\n    A tablet-style notebook that digitizes handwritten notes, allowing for easy organization and sharing through a companion app.\\n\\n11. **AI Assistant Speaker**  \\n    A compact smart speaker that offers personalized news updates, weather forecasts, and music streaming, all controlled by voice commands.\\n\\n12. **Wearable Air Purifier**  \\n    A lightweight wearable device that filters air pollutants, perfect for urban dwellers and those with allergies, featuring real-time air quality monitoring.\\n\\n13. **Bluetooth Tracker Tile**  \\n    A small device that helps you locate lost items via a smartphone app, featuring a replaceable battery and a loud ringer for easy findability.\\n\\n14. **E-Reader with Night Light**  \\n    A lightweight e-reader with a high-resolution display and adjustable front light for reading in the dark, compatible with various e-book formats.\\n\\n15. **Smart Thermostat**  \\n    A learning thermostat that adapts to your schedule and can be controlled remotely from your smartphone, optimizing energy use for cost-saving.\\n\\n16. **Mesh Wi-Fi System**  \\n    A whole-home Wi-Fi solution using multiple nodes to create a strong, seamless internet connection throughout your property, ideal for smart homes.\\n\\n17. **Wireless Charging Pad**  \\n    A sleek charging pad that supports fast wireless charging for compatible devices, featuring anti-slip technology and a cooling system.\\n\\n18. **Gaming Laptop**  \\n    A high-performance laptop designed for gaming, featuring a powerful GPU, customizable RGB keyboard, and a high refresh rate display.\\n\\n19. **Smart Water Bottle**  \\n    A hydration-tracking water bottle that syncs with a mobile app to remind users to drink water, featuring a built-in UV sterilization system.\\n\\n20. **Home Security Camera System**  \\n    A comprehensive security solution with multiple cameras offering 4K resolution, night vision, and motion-activated alerts, accessible through a mobile app.'"
      ]
     },
     "execution_count": 4,
     "metadata": {},
     "output_type": "execute_result"
    }
   ],
   "source": [
    "def generate_data_with_chatgpt(data_example):\n",
    "    response = client.chat.completions.create(\n",
    "        model=MODEL,\n",
    "        messages=[{\"role\": \"system\", \"content\": \"You generate examples of tech products.\"},\n",
    "                  {\"role\": \"user\", \"content\": data_example}]\n",
    "    )\n",
    "    \n",
    "    return response.choices[0].message.content\n",
    "\n",
    "\n",
    "tech_products_prompt = \"Create 20 examples of tech products with their descriptions as a list of bullet points\"\n",
    "\n",
    "data_tech = generate_data_with_chatgpt(tech_products_prompt)\n",
    "data_tech"
   ]
  },
  {
   "cell_type": "code",
   "execution_count": 5,
   "metadata": {},
   "outputs": [
    {
     "data": {
      "text/markdown": [
       "Sure! Here’s a list of 20 tech products along with their descriptions:\n",
       "\n",
       "1. **Smartphone 12X Pro**  \n",
       "   A flagship smartphone featuring a 6.9-inch AMOLED display, a quad-camera system with 108 MP main sensor, and AI enhancements for photography.\n",
       "\n",
       "2. **EcoSmart Home Hub**  \n",
       "   A central device for controlling all smart home gadgets, compatible with Alexa, Google Home, and Apple HomeKit, enabling seamless automation and energy monitoring.\n",
       "\n",
       "3. **Wireless Noise-Canceling Headphones**  \n",
       "   Over-ear headphones with adaptive noise cancellation, 30 hours of playback time, and touch controls for music and calls.\n",
       "\n",
       "4. **4K Ultra HD Streaming Device**  \n",
       "   A compact streaming device that supports all major services like Netflix and Hulu, including voice search and a customizable interface.\n",
       "\n",
       "5. **Fitness Tracker 2.0**  \n",
       "   A sleek wristband that monitors heart rate, sleep patterns, and calories burned, featuring GPS for outdoor activities and waterproof design.\n",
       "\n",
       "6. **Portable Solar Charger**  \n",
       "   A foldable solar panel charger for smartphones and tablets, designed for outdoor enthusiasts, with dual USB ports and fast charging capability.\n",
       "\n",
       "7. **Virtual Reality Headset**  \n",
       "   An all-in-one VR headset featuring advanced motion tracking, 120Hz refresh rate, and a library of immersive games and experiences.\n",
       "\n",
       "8. **Smart Glasses**  \n",
       "   Stylish augmented reality glasses that display notifications, navigation, and fitness data, with touch controls and built-in bone conduction audio.\n",
       "\n",
       "9. **Robotic Vacuum Cleaner**  \n",
       "   An intelligent vacuum that maps your home for efficient cleaning, with a mopping feature and app control, supporting voice commands.\n",
       "\n",
       "10. **Digital Notebook**  \n",
       "    A tablet-style notebook that digitizes handwritten notes, allowing for easy organization and sharing through a companion app.\n",
       "\n",
       "11. **AI Assistant Speaker**  \n",
       "    A compact smart speaker that offers personalized news updates, weather forecasts, and music streaming, all controlled by voice commands.\n",
       "\n",
       "12. **Wearable Air Purifier**  \n",
       "    A lightweight wearable device that filters air pollutants, perfect for urban dwellers and those with allergies, featuring real-time air quality monitoring.\n",
       "\n",
       "13. **Bluetooth Tracker Tile**  \n",
       "    A small device that helps you locate lost items via a smartphone app, featuring a replaceable battery and a loud ringer for easy findability.\n",
       "\n",
       "14. **E-Reader with Night Light**  \n",
       "    A lightweight e-reader with a high-resolution display and adjustable front light for reading in the dark, compatible with various e-book formats.\n",
       "\n",
       "15. **Smart Thermostat**  \n",
       "    A learning thermostat that adapts to your schedule and can be controlled remotely from your smartphone, optimizing energy use for cost-saving.\n",
       "\n",
       "16. **Mesh Wi-Fi System**  \n",
       "    A whole-home Wi-Fi solution using multiple nodes to create a strong, seamless internet connection throughout your property, ideal for smart homes.\n",
       "\n",
       "17. **Wireless Charging Pad**  \n",
       "    A sleek charging pad that supports fast wireless charging for compatible devices, featuring anti-slip technology and a cooling system.\n",
       "\n",
       "18. **Gaming Laptop**  \n",
       "    A high-performance laptop designed for gaming, featuring a powerful GPU, customizable RGB keyboard, and a high refresh rate display.\n",
       "\n",
       "19. **Smart Water Bottle**  \n",
       "    A hydration-tracking water bottle that syncs with a mobile app to remind users to drink water, featuring a built-in UV sterilization system.\n",
       "\n",
       "20. **Home Security Camera System**  \n",
       "    A comprehensive security solution with multiple cameras offering 4K resolution, night vision, and motion-activated alerts, accessible through a mobile app."
      ],
      "text/plain": [
       "<IPython.core.display.Markdown object>"
      ]
     },
     "execution_count": 5,
     "metadata": {},
     "output_type": "execute_result"
    }
   ],
   "source": [
    "from IPython.display import Markdown\n",
    "Markdown(data_tech)"
   ]
  },
  {
   "cell_type": "code",
   "execution_count": 6,
   "metadata": {},
   "outputs": [
    {
     "data": {
      "text/markdown": [
       "Sure! Here are 10 diverse customer profiles based on varying backgrounds and preferences:\n",
       "\n",
       "### Customer Profile 1: Sarah, the Health Enthusiast\n",
       "- **Age:** 28\n",
       "- **Occupation:** Nutritionist\n",
       "- **Location:** Seattle, WA\n",
       "- **Interests:** Healthy cooking, fitness, sustainability\n",
       "- **Preferences:** Organic and locally sourced products, eco-friendly packaging, fitness-related apps\n",
       "- **Shopping Behavior:** Prefers shopping at health food stores and farmers' markets.\n",
       "\n",
       "### Customer Profile 2: Mark, the Tech Savvy Millennial\n",
       "- **Age:** 30\n",
       "- **Occupation:** Software Engineer\n",
       "- **Location:** San Francisco, CA\n",
       "- **Interests:** Gadgets, video games, blockchain technology\n",
       "- **Preferences:** High-performance electronics, smart home devices, tech subscriptions\n",
       "- **Shopping Behavior:** Regularly shops online for tech products, relies on reviews and forums for purchasing decisions.\n",
       "\n",
       "### Customer Profile 3: Maria, the Busy Parent\n",
       "- **Age:** 35\n",
       "- **Occupation:** Middle School Teacher\n",
       "- **Location:** Austin, TX\n",
       "- **Interests:** Family activities, education, DIY projects\n",
       "- **Preferences:** Family-oriented products, educational toys, convenience-focused services\n",
       "- **Shopping Behavior:** Prefers online shopping for bulk items and family necessities.\n",
       "\n",
       "### Customer Profile 4: James, the Frequent Traveler\n",
       "- **Age:** 42\n",
       "- **Occupation:** Business Consultant\n",
       "- **Location:** New York, NY\n",
       "- **Interests:** Traveling, photography, cultural experiences\n",
       "- **Preferences:** Travel accessories, booking services, high-quality luggage\n",
       "- **Shopping Behavior:** Uses travel apps for bookings, seeks out travel discounts and loyalty programs.\n",
       "\n",
       "### Customer Profile 5: Aisha, the Fashionista\n",
       "- **Age:** 26\n",
       "- **Occupation:** Influencer\n",
       "- **Location:** Los Angeles, CA\n",
       "- **Interests:** Fashion, beauty, social media\n",
       "- **Preferences:** Trendy clothing, luxury brands, sustainable fashion\n",
       "- **Shopping Behavior:** Frequently shops online and shares her purchases on social media platforms.\n",
       "\n",
       "### Customer Profile 6: Tom, the DIY Hobbyist\n",
       "- **Age:** 50\n",
       "- **Occupation:** Construction Manager\n",
       "- **Location:** Denver, CO\n",
       "- **Interests:** Home improvement, woodworking, gardening\n",
       "- **Preferences:** High-quality tools, material kits, instructional books\n",
       "- **Shopping Behavior:** Visits home improvement stores and engages in project-based shopping.\n",
       "\n",
       "### Customer Profile 7: Priya, the Student\n",
       "- **Age:** 21\n",
       "- **Occupation:** University Student\n",
       "- **Location:** Chicago, IL\n",
       "- **Interests:** Social activism, technology, nature\n",
       "- **Preferences:** Affordable products, eco-friendly brands, student discounts\n",
       "- **Shopping Behavior:** Shops both online and in-store, seeks out sales and clearance items.\n",
       "\n",
       "### Customer Profile 8: John, the Outdoor Adventurer\n",
       "- **Age:** 38\n",
       "- **Occupation:** Environmental Scientist\n",
       "- **Location:** Portland, OR\n",
       "- **Interests:** Hiking, camping, conservation\n",
       "- **Preferences:** Durable outdoor gear, eco-conscious brands, travel experiences\n",
       "- **Shopping Behavior:** Supports local outdoor retailers and frequently purchases from specialty brands.\n",
       "\n",
       "### Customer Profile 9: Linda, the Retiree\n",
       "- **Age:** 65\n",
       "- **Occupation:** Retired Nurse\n",
       "- **Location:** Sarasota, FL\n",
       "- **Interests:** Gardening, cooking, travel\n",
       "- **Preferences:** Comfortable clothing, travel deals, health supplements\n",
       "- **Shopping Behavior:** Enjoys in-store shopping, especially at senior-friendly retailers.\n",
       "\n",
       "### Customer Profile 10: Kevin, the Minimalist\n",
       "- **Age:** 33\n",
       "- **Occupation:** Graphic Designer\n",
       "- **Location:** Austin, TX\n",
       "- **Interests:** Minimalism, art, technology\n",
       "- **Preferences:** Functional products, clutter-free living, sustainable brands\n",
       "- **Shopping Behavior:** Shops online for high-quality, minimalist-designed items and embraces a \"less is more\" approach.\n",
       "\n",
       "These profiles capture a variety of interests, ages, occupations, and shopping behaviors, allowing businesses to better understand and cater to their diverse customer base."
      ],
      "text/plain": [
       "<IPython.core.display.Markdown object>"
      ]
     },
     "execution_count": 6,
     "metadata": {},
     "output_type": "execute_result"
    }
   ],
   "source": [
    "def create_costumer_profile(user_query):\n",
    "    response = client.chat.completions.create(\n",
    "        model=MODEL,\n",
    "        messages=[{\"role\": \"system\", \"content\": \"You create a list of customer profiles based on input.\"},\n",
    "                  {\"role\": \"user\", \"content\": user_query}]\n",
    "    )\n",
    "    \n",
    "    return response.choices[0].message.content\n",
    "\n",
    "\n",
    "create_costumer_profile = create_costumer_profile(\"Create 10 customer profiles for users with different backgrounds and preferences.\")\n",
    "\n",
    "Markdown(create_costumer_profile)"
   ]
  },
  {
   "cell_type": "code",
   "execution_count": 8,
   "metadata": {},
   "outputs": [
    {
     "data": {
      "text/markdown": [
       "Kevin, as a minimalist graphic designer, I recommend the **Digital Notebook**. It's functional and helps you keep your notes organized without the clutter of paper, aligning perfectly with your \"less is more\" approach."
      ],
      "text/plain": [
       "<IPython.core.display.Markdown object>"
      ]
     },
     "execution_count": 8,
     "metadata": {},
     "output_type": "execute_result"
    }
   ],
   "source": [
    "profile_10 = \"\"\"Profile 10: Kevin, the Minimalist\n",
    "Age: 33\n",
    "Occupation: Graphic Designer\n",
    "Location: Austin, TX\n",
    "Interests: Minimalism, art, technology\n",
    "Preferences: Functional products, clutter-free living, sustainable brands\n",
    "Shopping Behavior: Shops online for high-quality, minimalist-designed items and embraces a \"less is more\" approach.\"\"\"\n",
    "\n",
    "\n",
    "def recommend_product(profile):\n",
    "    prompt_to_recommender = f\"Recommend a tech product from this list ONLY:\\n\\n{data_tech} for this customer profile: {profile}.\\\n",
    "        Output ONLY A SIMPLE MESSAGE REFERENCEING THE CUSTOMER AND THE recommendtions.\"\n",
    "    \n",
    "    recommendation = recommender_chat_bot(prompt_to_recommender)\n",
    "    \n",
    "    return recommendation\n",
    "\n",
    "\n",
    "product_recommendation = recommend_product(profile_10)\n",
    "\n",
    "Markdown(product_recommendation)"
   ]
  },
  {
   "cell_type": "code",
   "execution_count": 9,
   "metadata": {},
   "outputs": [
    {
     "data": {
      "text/plain": [
       "'Sure! Here’s a list of 20 tech products along with their descriptions:\\n\\n1. **Smartphone 12X Pro**  \\n   A flagship smartphone featuring a 6.9-inch AMOLED display, a quad-camera system with 108 MP main sensor, and AI enhancements for photography.\\n\\n2. **EcoSmart Home Hub**  \\n   A central device for controlling all smart home gadgets, compatible with Alexa, Google Home, and Apple HomeKit, enabling seamless automation and energy monitoring.\\n\\n3. **Wireless Noise-Canceling Headphones**  \\n   Over-ear headphones with adaptive noise cancellation, 30 hours of playback time, and touch controls for music and calls.\\n\\n4. **4K Ultra HD Streaming Device**  \\n   A compact streaming device that supports all major services like Netflix and Hulu, including voice search and a customizable interface.\\n\\n5. **Fitness Tracker 2.0**  \\n   A sleek wristband that monitors heart rate, sleep patterns, and calories burned, featuring GPS for outdoor activities and waterproof design.\\n\\n6. **Portable Solar Charger**  \\n   A foldable solar panel charger for smartphones and tablets, designed for outdoor enthusiasts, with dual USB ports and fast charging capability.\\n\\n7. **Virtual Reality Headset**  \\n   An all-in-one VR headset featuring advanced motion tracking, 120Hz refresh rate, and a library of immersive games and experiences.\\n\\n8. **Smart Glasses**  \\n   Stylish augmented reality glasses that display notifications, navigation, and fitness data, with touch controls and built-in bone conduction audio.\\n\\n9. **Robotic Vacuum Cleaner**  \\n   An intelligent vacuum that maps your home for efficient cleaning, with a mopping feature and app control, supporting voice commands.\\n\\n10. **Digital Notebook**  \\n    A tablet-style notebook that digitizes handwritten notes, allowing for easy organization and sharing through a companion app.\\n\\n11. **AI Assistant Speaker**  \\n    A compact smart speaker that offers personalized news updates, weather forecasts, and music streaming, all controlled by voice commands.\\n\\n12. **Wearable Air Purifier**  \\n    A lightweight wearable device that filters air pollutants, perfect for urban dwellers and those with allergies, featuring real-time air quality monitoring.\\n\\n13. **Bluetooth Tracker Tile**  \\n    A small device that helps you locate lost items via a smartphone app, featuring a replaceable battery and a loud ringer for easy findability.\\n\\n14. **E-Reader with Night Light**  \\n    A lightweight e-reader with a high-resolution display and adjustable front light for reading in the dark, compatible with various e-book formats.\\n\\n15. **Smart Thermostat**  \\n    A learning thermostat that adapts to your schedule and can be controlled remotely from your smartphone, optimizing energy use for cost-saving.\\n\\n16. **Mesh Wi-Fi System**  \\n    A whole-home Wi-Fi solution using multiple nodes to create a strong, seamless internet connection throughout your property, ideal for smart homes.\\n\\n17. **Wireless Charging Pad**  \\n    A sleek charging pad that supports fast wireless charging for compatible devices, featuring anti-slip technology and a cooling system.\\n\\n18. **Gaming Laptop**  \\n    A high-performance laptop designed for gaming, featuring a powerful GPU, customizable RGB keyboard, and a high refresh rate display.\\n\\n19. **Smart Water Bottle**  \\n    A hydration-tracking water bottle that syncs with a mobile app to remind users to drink water, featuring a built-in UV sterilization system.\\n\\n20. **Home Security Camera System**  \\n    A comprehensive security solution with multiple cameras offering 4K resolution, night vision, and motion-activated alerts, accessible through a mobile app.'"
      ]
     },
     "execution_count": 9,
     "metadata": {},
     "output_type": "execute_result"
    }
   ],
   "source": [
    "data_tech"
   ]
  },
  {
   "cell_type": "code",
   "execution_count": 19,
   "metadata": {},
   "outputs": [
    {
     "data": {
      "text/plain": [
       "ParsedChatCompletionMessage[TechProduct](content='{\"names\":[\"Smartphone X12\",\"UltraHD 4K TV\",\"Wireless Earbuds Pro\",\"Smartwatch Z2\"],\"descriptions\":[\"The Smartphone X12 features a 6.7-inch display, 128GB of internal storage, and a powerful processor for seamless multitasking.\",\"Experience breathtaking visuals with the UltraHD 4K TV, offering HDR support and immersive sound quality.\",\"Wireless Earbuds Pro deliver high-fidelity audio with noise cancellation for an uninterrupted listening experience.\",\"Smartwatch Z2 includes health tracking features, customizable watch faces, and a long-lasting battery life.\"]}', refusal=None, role='assistant', function_call=None, tool_calls=[], parsed=TechProduct(names=['Smartphone X12', 'UltraHD 4K TV', 'Wireless Earbuds Pro', 'Smartwatch Z2'], descriptions=['The Smartphone X12 features a 6.7-inch display, 128GB of internal storage, and a powerful processor for seamless multitasking.', 'Experience breathtaking visuals with the UltraHD 4K TV, offering HDR support and immersive sound quality.', 'Wireless Earbuds Pro deliver high-fidelity audio with noise cancellation for an uninterrupted listening experience.', 'Smartwatch Z2 includes health tracking features, customizable watch faces, and a long-lasting battery life.']))"
      ]
     },
     "execution_count": 19,
     "metadata": {},
     "output_type": "execute_result"
    }
   ],
   "source": [
    "from pydantic import BaseModel, Field\n",
    "from typing import List\n",
    "\n",
    "\n",
    "class TechProduct(BaseModel):\n",
    "    names: List[str] = Field(..., title=\"All the product names\", description=\"The titles of the products in question\")\n",
    "    descriptions: List[str] = Field(..., title=\"All the product descriptions\", description=\"A complete list of descriptions of the products extracted from the source.\")\n",
    "    \n",
    "def extract_tech_product_data(raw_tech_data: str):\n",
    "    response = client.beta.chat.completions.parse(\n",
    "        model=\"gpt-4o-mini\",\n",
    "        messages=[\n",
    "            {'role': 'system', 'content': 'You are an extraction enginefor tech products, you extract the following fields:\\\n",
    "                1. name - list of all names of products in the input\\\n",
    "                2. description - list of all descritionps in the products'},\n",
    "        ],\n",
    "        response_format=TechProduct\n",
    "    )\n",
    "    \n",
    "    return response.choices[0].message\n",
    "\n",
    "tech_data_structured = extract_tech_product_data(f'Extract all the names and descriptions from this raw data: \\n\\n {data_tech}')\n",
    "tech_data_structured"
   ]
  },
  {
   "cell_type": "code",
   "execution_count": 20,
   "metadata": {},
   "outputs": [
    {
     "data": {
      "text/plain": [
       "['Smartphone X12', 'UltraHD 4K TV', 'Wireless Earbuds Pro', 'Smartwatch Z2']"
      ]
     },
     "execution_count": 20,
     "metadata": {},
     "output_type": "execute_result"
    }
   ],
   "source": [
    "tech_data_structured.parsed.names"
   ]
  },
  {
   "cell_type": "code",
   "execution_count": 21,
   "metadata": {},
   "outputs": [
    {
     "data": {
      "text/plain": [
       "['The Smartphone X12 features a 6.7-inch display, 128GB of internal storage, and a powerful processor for seamless multitasking.',\n",
       " 'Experience breathtaking visuals with the UltraHD 4K TV, offering HDR support and immersive sound quality.',\n",
       " 'Wireless Earbuds Pro deliver high-fidelity audio with noise cancellation for an uninterrupted listening experience.',\n",
       " 'Smartwatch Z2 includes health tracking features, customizable watch faces, and a long-lasting battery life.']"
      ]
     },
     "execution_count": 21,
     "metadata": {},
     "output_type": "execute_result"
    }
   ],
   "source": [
    "tech_data_structured.parsed.descriptions"
   ]
  }
 ],
 "metadata": {
  "kernelspec": {
   "display_name": "oreilly-chatgpt-apps",
   "language": "python",
   "name": "oreilly-chatgpt-apps"
  },
  "language_info": {
   "codemirror_mode": {
    "name": "ipython",
    "version": 3
   },
   "file_extension": ".py",
   "mimetype": "text/x-python",
   "name": "python",
   "nbconvert_exporter": "python",
   "pygments_lexer": "ipython3",
   "version": "3.11.9"
  }
 },
 "nbformat": 4,
 "nbformat_minor": 2
}
