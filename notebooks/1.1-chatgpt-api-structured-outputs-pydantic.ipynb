{
 "cells": [
  {
   "cell_type": "code",
   "execution_count": 1,
   "metadata": {},
   "outputs": [],
   "source": [
    "# %pip install pydantic\n",
    "# %pip install python-dotenv\n",
    "# %pip install openai"
   ]
  },
  {
   "cell_type": "code",
   "execution_count": 2,
   "metadata": {
    "execution": {
     "iopub.execute_input": "2025-01-08T03:31:08.493236Z",
     "iopub.status.busy": "2025-01-08T03:31:08.492766Z",
     "iopub.status.idle": "2025-01-08T03:31:08.505508Z",
     "shell.execute_reply": "2025-01-08T03:31:08.504614Z"
    }
   },
   "outputs": [],
   "source": [
    "import os\n",
    "# loading from a .env file\n",
    "# load_dotenv(dotenv_path=\"/full/path/to/your/.env\")\n",
    "\n",
    "# or \n",
    "# if you're on google colab just uncomment below and replace with your openai api key\n",
    "# os.environ[\"OPENAI_API_KEY\"] = \"<your-openai-api-key>\""
   ]
  },
  {
   "cell_type": "code",
   "execution_count": 3,
   "metadata": {
    "execution": {
     "iopub.execute_input": "2025-01-08T03:31:08.509659Z",
     "iopub.status.busy": "2025-01-08T03:31:08.509362Z",
     "iopub.status.idle": "2025-01-08T03:31:08.513874Z",
     "shell.execute_reply": "2025-01-08T03:31:08.513162Z"
    }
   },
   "outputs": [],
   "source": [
    "MODEL = 'gpt-4o-mini'"
   ]
  },
  {
   "cell_type": "code",
   "execution_count": 4,
   "metadata": {
    "execution": {
     "iopub.execute_input": "2025-01-08T03:31:08.516761Z",
     "iopub.status.busy": "2025-01-08T03:31:08.516330Z",
     "iopub.status.idle": "2025-01-08T03:31:08.700546Z",
     "shell.execute_reply": "2025-01-08T03:31:08.700248Z"
    }
   },
   "outputs": [],
   "source": [
    "from openai import OpenAI\n",
    "client = OpenAI()\n",
    "\n",
    "def recommender_chat_bot(user_query):\n",
    "    response = client.chat.completions.create(\n",
    "        model=MODEL,\n",
    "        messages=[{\"role\": \"system\", \"content\": \"You are a chatbot system \\\n",
    "            and recommender for products about tech to a diverse group of users.\"},\n",
    "                  {\"role\": \"user\", \"content\": user_query}]\n",
    "    )\n",
    "    \n",
    "    return response.choices[0].message.content"
   ]
  },
  {
   "cell_type": "code",
   "execution_count": 5,
   "metadata": {
    "execution": {
     "iopub.execute_input": "2025-01-08T03:31:08.702046Z",
     "iopub.status.busy": "2025-01-08T03:31:08.701975Z",
     "iopub.status.idle": "2025-01-08T03:31:25.607785Z",
     "shell.execute_reply": "2025-01-08T03:31:25.606329Z"
    }
   },
   "outputs": [
    {
     "data": {
      "text/plain": [
       "\"Sure! Here are 20 examples of tech products along with their descriptions:\\n\\n1. **Smartphone Charging Dock**\\n   - A sleek, wireless charging dock that can charge multiple devices simultaneously with fast-charging capabilities and LED indicators.\\n\\n2. **Fitness Tracker**\\n   - A waterproof fitness tracker that monitors heart rate, sleep patterns, and activity levels, syncing data with a mobile app for personalized health insights.\\n\\n3. **Wireless Noise-Canceling Headphones**\\n   - Over-ear headphones featuring state-of-the-art noise-cancelation technology, extended battery life, and touch controls for enhanced audio experiences.\\n\\n4. **Smart Home Hub**\\n   - A central device that connects various smart home products, allowing users to manage lighting, security, and temperature through a single app or voice command.\\n\\n5. **Portable Solar Charger**\\n   - An eco-friendly solar charger designed for outdoor enthusiasts, featuring multiple USB ports and a rugged, waterproof design for charging devices on the go.\\n\\n6. **Virtual Reality Headset**\\n   - An immersive VR headset that offers 360-degree experiences for gaming and entertainment, equipped with hand tracking and room-scale monitoring capabilities.\\n\\n7. **Robot Vacuum Cleaner**\\n   - An intelligent vacuum cleaner that navigates through homes, avoiding obstacles and mapping environments, with a companion app for scheduling cleaning routines.\\n\\n8. **Smart Mirror**\\n   - An interactive mirror that displays weather updates, calendar events, and health tracking metrics while also allowing users to apply makeup with augmented reality overlays.\\n\\n9. **Wireless Earbuds**\\n   - Compact earbuds that boast high-fidelity audio, touch controls, and sweat resistance, featuring a charging case that extends battery life for all-day use.\\n\\n10. **4K Smart TV**\\n    - A large-screen smart TV equipped with streaming capabilities, voice control support, and HDR technology for stunning visuals and enhanced color accuracy.\\n\\n11. **Portable Bluetooth Speaker**\\n    - A waterproof Bluetooth speaker that delivers rich sound quality with a powerful bass, featuring a built-in microphone for hands-free calling and extended battery life.\\n\\n12. **Smart Thermostat**\\n    - A learning thermostat that adapts to user behavior, optimizing heating and cooling schedules to save energy while providing remote access through a mobile app.\\n\\n13. **Gaming Laptop**\\n    - A high-performance gaming laptop with a dedicated graphics card, customizable RGB keyboard, and advanced cooling systems for an outstanding gaming experience.\\n\\n14. **Digital Notepad**\\n    - A smart notepad that captures handwritten notes and sketches, syncing them to cloud storage and converting them into editable digital text.\\n\\n15. **Health Monitoring Smartwatch**\\n    - A smartwatch that tracks vital signs such as ECG, oxygen saturation, and stress levels, featuring health reminders and built-in workout modes.\\n\\n16. **Augmented Reality Glasses**\\n    - Lightweight AR glasses designed for hands-free navigation and interactive applications, allowing users to overlay digital content onto the real world.\\n\\n17. **Wireless Home Security Camera**\\n    - A smart indoor/outdoor security camera with night vision, two-way audio, and motion detection alerts that can be monitored remotely via a smartphone app.\\n\\n18. **Smart Plant Monitor**\\n    - A device that monitors soil moisture, sunlight, and temperature, providing recommendations through a mobile app to help users care better for their plants.\\n\\n19. **Multi-device Bluetooth Keyboard**\\n    - A keyboard that can pair with up to three devices simultaneously, allowing users to switch seamlessly between computers, tablets, or smartphones with a touch of a button.\\n\\n20. **Streaming Media Player**\\n    - A compact streaming box that supports 4K content, offering access to popular streaming services, live TV options, and a user-friendly interface with voice control. \\n\\nThese examples showcase the diversity and innovation in today's tech product landscape!\""
      ]
     },
     "execution_count": 5,
     "metadata": {},
     "output_type": "execute_result"
    }
   ],
   "source": [
    "def generate_data_with_chatgpt(data_example):\n",
    "    response = client.chat.completions.create(\n",
    "        model=MODEL,\n",
    "        messages=[{\"role\": \"system\", \"content\": \"You generate examples of tech products.\"},\n",
    "                  {\"role\": \"user\", \"content\": data_example}]\n",
    "    )\n",
    "    \n",
    "    return response.choices[0].message.content\n",
    "\n",
    "\n",
    "tech_products_prompt = \"Create 20 examples of tech products\\\n",
    "    with their descriptions as a list of bullet points\"\n",
    "\n",
    "data_tech = generate_data_with_chatgpt(tech_products_prompt)\n",
    "data_tech"
   ]
  },
  {
   "cell_type": "code",
   "execution_count": 6,
   "metadata": {
    "execution": {
     "iopub.execute_input": "2025-01-08T03:31:25.714078Z",
     "iopub.status.busy": "2025-01-08T03:31:25.712961Z",
     "iopub.status.idle": "2025-01-08T03:31:25.809401Z",
     "shell.execute_reply": "2025-01-08T03:31:25.763036Z"
    }
   },
   "outputs": [
    {
     "data": {
      "text/markdown": [
       "Sure! Here are 20 examples of tech products along with their descriptions:\n",
       "\n",
       "1. **Smartphone Charging Dock**\n",
       "   - A sleek, wireless charging dock that can charge multiple devices simultaneously with fast-charging capabilities and LED indicators.\n",
       "\n",
       "2. **Fitness Tracker**\n",
       "   - A waterproof fitness tracker that monitors heart rate, sleep patterns, and activity levels, syncing data with a mobile app for personalized health insights.\n",
       "\n",
       "3. **Wireless Noise-Canceling Headphones**\n",
       "   - Over-ear headphones featuring state-of-the-art noise-cancelation technology, extended battery life, and touch controls for enhanced audio experiences.\n",
       "\n",
       "4. **Smart Home Hub**\n",
       "   - A central device that connects various smart home products, allowing users to manage lighting, security, and temperature through a single app or voice command.\n",
       "\n",
       "5. **Portable Solar Charger**\n",
       "   - An eco-friendly solar charger designed for outdoor enthusiasts, featuring multiple USB ports and a rugged, waterproof design for charging devices on the go.\n",
       "\n",
       "6. **Virtual Reality Headset**\n",
       "   - An immersive VR headset that offers 360-degree experiences for gaming and entertainment, equipped with hand tracking and room-scale monitoring capabilities.\n",
       "\n",
       "7. **Robot Vacuum Cleaner**\n",
       "   - An intelligent vacuum cleaner that navigates through homes, avoiding obstacles and mapping environments, with a companion app for scheduling cleaning routines.\n",
       "\n",
       "8. **Smart Mirror**\n",
       "   - An interactive mirror that displays weather updates, calendar events, and health tracking metrics while also allowing users to apply makeup with augmented reality overlays.\n",
       "\n",
       "9. **Wireless Earbuds**\n",
       "   - Compact earbuds that boast high-fidelity audio, touch controls, and sweat resistance, featuring a charging case that extends battery life for all-day use.\n",
       "\n",
       "10. **4K Smart TV**\n",
       "    - A large-screen smart TV equipped with streaming capabilities, voice control support, and HDR technology for stunning visuals and enhanced color accuracy.\n",
       "\n",
       "11. **Portable Bluetooth Speaker**\n",
       "    - A waterproof Bluetooth speaker that delivers rich sound quality with a powerful bass, featuring a built-in microphone for hands-free calling and extended battery life.\n",
       "\n",
       "12. **Smart Thermostat**\n",
       "    - A learning thermostat that adapts to user behavior, optimizing heating and cooling schedules to save energy while providing remote access through a mobile app.\n",
       "\n",
       "13. **Gaming Laptop**\n",
       "    - A high-performance gaming laptop with a dedicated graphics card, customizable RGB keyboard, and advanced cooling systems for an outstanding gaming experience.\n",
       "\n",
       "14. **Digital Notepad**\n",
       "    - A smart notepad that captures handwritten notes and sketches, syncing them to cloud storage and converting them into editable digital text.\n",
       "\n",
       "15. **Health Monitoring Smartwatch**\n",
       "    - A smartwatch that tracks vital signs such as ECG, oxygen saturation, and stress levels, featuring health reminders and built-in workout modes.\n",
       "\n",
       "16. **Augmented Reality Glasses**\n",
       "    - Lightweight AR glasses designed for hands-free navigation and interactive applications, allowing users to overlay digital content onto the real world.\n",
       "\n",
       "17. **Wireless Home Security Camera**\n",
       "    - A smart indoor/outdoor security camera with night vision, two-way audio, and motion detection alerts that can be monitored remotely via a smartphone app.\n",
       "\n",
       "18. **Smart Plant Monitor**\n",
       "    - A device that monitors soil moisture, sunlight, and temperature, providing recommendations through a mobile app to help users care better for their plants.\n",
       "\n",
       "19. **Multi-device Bluetooth Keyboard**\n",
       "    - A keyboard that can pair with up to three devices simultaneously, allowing users to switch seamlessly between computers, tablets, or smartphones with a touch of a button.\n",
       "\n",
       "20. **Streaming Media Player**\n",
       "    - A compact streaming box that supports 4K content, offering access to popular streaming services, live TV options, and a user-friendly interface with voice control. \n",
       "\n",
       "These examples showcase the diversity and innovation in today's tech product landscape!"
      ],
      "text/plain": [
       "<IPython.core.display.Markdown object>"
      ]
     },
     "execution_count": 6,
     "metadata": {},
     "output_type": "execute_result"
    }
   ],
   "source": [
    "from IPython.display import Markdown\n",
    "Markdown(data_tech)"
   ]
  },
  {
   "cell_type": "code",
   "execution_count": 7,
   "metadata": {
    "execution": {
     "iopub.execute_input": "2025-01-08T03:31:25.861966Z",
     "iopub.status.busy": "2025-01-08T03:31:25.861305Z",
     "iopub.status.idle": "2025-01-08T03:31:40.253478Z",
     "shell.execute_reply": "2025-01-08T03:31:40.251283Z"
    }
   },
   "outputs": [
    {
     "data": {
      "text/markdown": [
       "Sure! Here are 10 customer profiles representing a diverse range of backgrounds and preferences:\n",
       "\n",
       "### 1. Tech-Savvy Millennial\n",
       "- **Name:** Jessica Thompson\n",
       "- **Age:** 28\n",
       "- **Occupation:** Software Developer\n",
       "- **Location:** San Francisco, CA\n",
       "- **Interests:** Gadgets, gaming, coding, and virtual reality\n",
       "- **Buying Preferences:** Favors online shopping, enjoys reading product reviews, and prefers brands that emphasize sustainability and innovation.\n",
       "\n",
       "### 2. Health-Conscious Parent\n",
       "- **Name:** Marcus Johnson\n",
       "- **Age:** 35\n",
       "- **Occupation:** Health Coach\n",
       "- **Location:** Austin, TX\n",
       "- **Interests:** Organic food, fitness, family activities, and wellness programs\n",
       "- **Buying Preferences:** Values organic ingredients, seeks out eco-friendly products, and frequents farmers' markets. Prefers bulk shopping to reduce waste.\n",
       "\n",
       "### 3. Retired Luxury Traveler\n",
       "- **Name:** Ellen Rivera\n",
       "- **Age:** 67\n",
       "- **Occupation:** Retired Marketing Executive\n",
       "- **Location:** Miami, FL\n",
       "- **Interests:** Traveling, fine dining, art collecting, and gardening\n",
       "- **Buying Preferences:** Prefers premium brands, values personalized customer service, and seeks out exclusive travel experiences and luxury accommodations.\n",
       "\n",
       "### 4. College Student on a Budget\n",
       "- **Name:** David Kim\n",
       "- **Age:** 21\n",
       "- **Occupation:** College Student\n",
       "- **Location:** Chicago, IL\n",
       "- **Interests:** Music, socializing, technology, and study groups\n",
       "- **Buying Preferences:** Looks for discounts and student deals, enjoys thrift shopping, and prefers digital buying platforms for convenience.\n",
       "\n",
       "### 5. Eco-Conscious Urban Professional\n",
       "- **Name:** Angela Patel\n",
       "- **Age:** 30\n",
       "- **Occupation:** Environmental Scientist\n",
       "- **Location:** New York City, NY\n",
       "- **Interests:** Sustainability, activism, hiking, and plant-based cooking\n",
       "- **Buying Preferences:** Supports brands with ethical practices, prefers biodegradable packaging, and buys local produce whenever possible.\n",
       "\n",
       "### 6. Busy Executive\n",
       "- **Name:** Robert Miller\n",
       "- **Age:** 42\n",
       "- **Occupation:** CFO\n",
       "- **Location:** Dallas, TX\n",
       "- **Interests:** Golf, networking events, and fine dining\n",
       "- **Buying Preferences:** Values time-saving products and services, prefers high-end brands, and uses online shopping for convenience, favoring personalized experiences.\n",
       "\n",
       "### 7. Family-Oriented Homemaker\n",
       "- **Name:** Linda Gonzalez\n",
       "- **Age:** 39\n",
       "- **Occupation:** Stay-at-home Mom\n",
       "- **Location:** Seattle, WA\n",
       "- **Interests:** DIY crafts, home cooking, gardening, and family outings\n",
       "- **Buying Preferences:** Looks for family-sized products, enjoys discount stores, and values brands that focus on community and family-friendly initiatives.\n",
       "\n",
       "### 8. Fashion-Forward Teen\n",
       "- **Name:** Ava Smith\n",
       "- **Age:** 16\n",
       "- **Occupation:** Student\n",
       "- **Location:** Los Angeles, CA\n",
       "- **Interests:** Fashion trends, social media, and pop culture\n",
       "- **Buying Preferences:** Regularly spends on trendy clothing and accessories, follows influencers for inspiration, and prefers brands that promote inclusivity and diversity.\n",
       "\n",
       "### 9. Retired Military Veteran\n",
       "- **Name:** James Carter\n",
       "- **Age:** 60\n",
       "- **Occupation:** Retired\n",
       "- **Location:** Phoenix, AZ\n",
       "- **Interests:** Volunteering, fishing, and woodworking\n",
       "- **Buying Preferences:** Values quality craftsmanship, supports veteran-owned businesses, and appreciates brands that give back to the community.\n",
       "\n",
       "### 10. Adventurous Solo Traveler\n",
       "- **Name:** Maya Lee\n",
       "- **Age:** 34\n",
       "- **Occupation:** Freelance Writer\n",
       "- **Location:** Denver, CO\n",
       "- **Interests:** Hiking, photography, cultural experiences, and writing\n",
       "- **Buying Preferences:** Prefers unique travel packages, values locally-sourced products, and seeks out recommendations from fellow travelers.\n",
       "\n",
       "These profiles illustrate a variety of demographics, interests, and purchasing behaviors, making them useful for targeted marketing and customer engagement strategies."
      ],
      "text/plain": [
       "<IPython.core.display.Markdown object>"
      ]
     },
     "execution_count": 7,
     "metadata": {},
     "output_type": "execute_result"
    }
   ],
   "source": [
    "def create_costumer_profile(user_query):\n",
    "    response = client.chat.completions.create(\n",
    "        model=MODEL,\n",
    "        messages=[{\"role\": \"system\", \"content\": \"You create a list of customer \\\n",
    "            profiles based on input.\"},\n",
    "                  {\"role\": \"user\", \"content\": user_query}]\n",
    "    )\n",
    "    \n",
    "    return response.choices[0].message.content\n",
    "\n",
    "\n",
    "create_costumer_profile = create_costumer_profile(\"Create 10 customer profiles \\\n",
    "    for users with different backgrounds and preferences.\")\n",
    "\n",
    "Markdown(create_costumer_profile)"
   ]
  },
  {
   "cell_type": "code",
   "execution_count": 15,
   "metadata": {
    "execution": {
     "iopub.execute_input": "2025-01-08T03:31:40.263791Z",
     "iopub.status.busy": "2025-01-08T03:31:40.263140Z",
     "iopub.status.idle": "2025-01-08T03:31:41.454349Z",
     "shell.execute_reply": "2025-01-08T03:31:41.453200Z"
    }
   },
   "outputs": [
    {
     "data": {
      "text/markdown": [
       "Hi Maya! For your adventurous solo travels, I recommend the **Portable Solar Charger**. It's perfect for keeping your devices charged while you're out hiking and exploring the great outdoors. Enjoy your travels!"
      ],
      "text/plain": [
       "<IPython.core.display.Markdown object>"
      ]
     },
     "execution_count": 15,
     "metadata": {},
     "output_type": "execute_result"
    }
   ],
   "source": [
    "profile_10 = \"\"\"\n",
    "10. Adventurous Solo Traveler\n",
    "Name: Maya Lee\n",
    "Age: 34\n",
    "Occupation: Freelance Writer\n",
    "Location: Denver, CO\n",
    "Interests: Hiking, photography, cultural experiences, and writing\n",
    "Buying Preferences: Prefers unique travel packages, values locally-sourced products, and seeks out recommendations from fellow travelers.\n",
    "\"\"\"\n",
    "\n",
    "\n",
    "def recommend_product(profile):\n",
    "    prompt_to_recommender = f\"Recommend a tech product from this list ONLY:\\n\\n{data_tech} \\\n",
    "        for this customer profile: {profile}.\\\n",
    "        Output ONLY A SIMPLE MESSAGE REFERENCING THE CUSTOMER AND THE recommendations.\"\n",
    "    \n",
    "    recommendation = recommender_chat_bot(prompt_to_recommender)\n",
    "    \n",
    "    return recommendation\n",
    "\n",
    "\n",
    "product_recommendation = recommend_product(profile_10)\n",
    "\n",
    "Markdown(product_recommendation)"
   ]
  },
  {
   "cell_type": "code",
   "execution_count": 16,
   "metadata": {
    "execution": {
     "iopub.execute_input": "2025-01-08T03:31:41.459696Z",
     "iopub.status.busy": "2025-01-08T03:31:41.459274Z",
     "iopub.status.idle": "2025-01-08T03:31:41.465258Z",
     "shell.execute_reply": "2025-01-08T03:31:41.464529Z"
    }
   },
   "outputs": [
    {
     "data": {
      "text/plain": [
       "\"Sure! Here are 20 examples of tech products along with their descriptions:\\n\\n1. **Smartphone Charging Dock**\\n   - A sleek, wireless charging dock that can charge multiple devices simultaneously with fast-charging capabilities and LED indicators.\\n\\n2. **Fitness Tracker**\\n   - A waterproof fitness tracker that monitors heart rate, sleep patterns, and activity levels, syncing data with a mobile app for personalized health insights.\\n\\n3. **Wireless Noise-Canceling Headphones**\\n   - Over-ear headphones featuring state-of-the-art noise-cancelation technology, extended battery life, and touch controls for enhanced audio experiences.\\n\\n4. **Smart Home Hub**\\n   - A central device that connects various smart home products, allowing users to manage lighting, security, and temperature through a single app or voice command.\\n\\n5. **Portable Solar Charger**\\n   - An eco-friendly solar charger designed for outdoor enthusiasts, featuring multiple USB ports and a rugged, waterproof design for charging devices on the go.\\n\\n6. **Virtual Reality Headset**\\n   - An immersive VR headset that offers 360-degree experiences for gaming and entertainment, equipped with hand tracking and room-scale monitoring capabilities.\\n\\n7. **Robot Vacuum Cleaner**\\n   - An intelligent vacuum cleaner that navigates through homes, avoiding obstacles and mapping environments, with a companion app for scheduling cleaning routines.\\n\\n8. **Smart Mirror**\\n   - An interactive mirror that displays weather updates, calendar events, and health tracking metrics while also allowing users to apply makeup with augmented reality overlays.\\n\\n9. **Wireless Earbuds**\\n   - Compact earbuds that boast high-fidelity audio, touch controls, and sweat resistance, featuring a charging case that extends battery life for all-day use.\\n\\n10. **4K Smart TV**\\n    - A large-screen smart TV equipped with streaming capabilities, voice control support, and HDR technology for stunning visuals and enhanced color accuracy.\\n\\n11. **Portable Bluetooth Speaker**\\n    - A waterproof Bluetooth speaker that delivers rich sound quality with a powerful bass, featuring a built-in microphone for hands-free calling and extended battery life.\\n\\n12. **Smart Thermostat**\\n    - A learning thermostat that adapts to user behavior, optimizing heating and cooling schedules to save energy while providing remote access through a mobile app.\\n\\n13. **Gaming Laptop**\\n    - A high-performance gaming laptop with a dedicated graphics card, customizable RGB keyboard, and advanced cooling systems for an outstanding gaming experience.\\n\\n14. **Digital Notepad**\\n    - A smart notepad that captures handwritten notes and sketches, syncing them to cloud storage and converting them into editable digital text.\\n\\n15. **Health Monitoring Smartwatch**\\n    - A smartwatch that tracks vital signs such as ECG, oxygen saturation, and stress levels, featuring health reminders and built-in workout modes.\\n\\n16. **Augmented Reality Glasses**\\n    - Lightweight AR glasses designed for hands-free navigation and interactive applications, allowing users to overlay digital content onto the real world.\\n\\n17. **Wireless Home Security Camera**\\n    - A smart indoor/outdoor security camera with night vision, two-way audio, and motion detection alerts that can be monitored remotely via a smartphone app.\\n\\n18. **Smart Plant Monitor**\\n    - A device that monitors soil moisture, sunlight, and temperature, providing recommendations through a mobile app to help users care better for their plants.\\n\\n19. **Multi-device Bluetooth Keyboard**\\n    - A keyboard that can pair with up to three devices simultaneously, allowing users to switch seamlessly between computers, tablets, or smartphones with a touch of a button.\\n\\n20. **Streaming Media Player**\\n    - A compact streaming box that supports 4K content, offering access to popular streaming services, live TV options, and a user-friendly interface with voice control. \\n\\nThese examples showcase the diversity and innovation in today's tech product landscape!\""
      ]
     },
     "execution_count": 16,
     "metadata": {},
     "output_type": "execute_result"
    }
   ],
   "source": [
    "data_tech"
   ]
  },
  {
   "cell_type": "code",
   "execution_count": 17,
   "metadata": {
    "execution": {
     "iopub.execute_input": "2025-01-08T03:31:41.468995Z",
     "iopub.status.busy": "2025-01-08T03:31:41.468730Z",
     "iopub.status.idle": "2025-01-08T03:31:44.085886Z",
     "shell.execute_reply": "2025-01-08T03:31:44.084785Z"
    }
   },
   "outputs": [
    {
     "data": {
      "text/plain": [
       "ParsedChatCompletionMessage[TechProduct](content='{\"names\":[\"iPhone 15\",\"Samsung Galaxy S23\",\"Google Pixel 8\",\"MacBook Pro 2023\",\"Dell XPS 13\"],\"descriptions\":[\"The latest iPhone model featuring a new A17 Bionic chip, improved camera system, and longer battery life.\",\"Samsung\\'s flagship smartphone with a dynamic AMOLED display, advanced camera features, and 5G connectivity.\",\"Google\\'s newest Pixel phone offering an upgraded Tensor chip, enhanced AI capabilities, and a stunning OLED display.\",\"Apple\\'s high-performance laptop with the M3 chip, Retina display, and all-day battery life.\",\"Dell\\'s ultra-portable laptop with a 13-inch InfinityEdge display, 11th Gen Intel processors, and a sleek design.\"]}', refusal=None, role='assistant', audio=None, function_call=None, tool_calls=[], parsed=TechProduct(names=['iPhone 15', 'Samsung Galaxy S23', 'Google Pixel 8', 'MacBook Pro 2023', 'Dell XPS 13'], descriptions=['The latest iPhone model featuring a new A17 Bionic chip, improved camera system, and longer battery life.', \"Samsung's flagship smartphone with a dynamic AMOLED display, advanced camera features, and 5G connectivity.\", \"Google's newest Pixel phone offering an upgraded Tensor chip, enhanced AI capabilities, and a stunning OLED display.\", \"Apple's high-performance laptop with the M3 chip, Retina display, and all-day battery life.\", \"Dell's ultra-portable laptop with a 13-inch InfinityEdge display, 11th Gen Intel processors, and a sleek design.\"]))"
      ]
     },
     "execution_count": 17,
     "metadata": {},
     "output_type": "execute_result"
    }
   ],
   "source": [
    "from pydantic import BaseModel, Field\n",
    "from typing import List\n",
    "\n",
    "\n",
    "class TechProduct(BaseModel):\n",
    "    names: List[str] = Field(..., title=\"All the product names\", description=\"The titles of the products in question\")\n",
    "    descriptions: List[str] = Field(..., title=\"All the product descriptions\", description=\"A complete list of descriptions of the products extracted from the source.\")\n",
    "    \n",
    "def extract_tech_product_data(raw_tech_data: str):\n",
    "    response = client.beta.chat.completions.parse(\n",
    "        model=\"gpt-4o\",\n",
    "        messages=[\n",
    "            {'role': 'system', 'content': 'You are an extraction engine for tech products, \\\n",
    "                you extract the following fields:\\\n",
    "                1. name - list of all names of products in the input\\\n",
    "                2. description - list of all descritionps in the products\\\n",
    "                    Make sure to extract all the names and descriptions from the input.'},\n",
    "        ],\n",
    "        response_format=TechProduct,\n",
    "        temperature=0.0\n",
    "    )\n",
    "    \n",
    "    return response.choices[0].message\n",
    "\n",
    "tech_data_structured = extract_tech_product_data(f'Extract all the names and descriptions from this raw data: \\n\\n {data_tech}')\n",
    "tech_data_structured"
   ]
  },
  {
   "cell_type": "code",
   "execution_count": 18,
   "metadata": {
    "execution": {
     "iopub.execute_input": "2025-01-08T03:31:44.090727Z",
     "iopub.status.busy": "2025-01-08T03:31:44.090353Z",
     "iopub.status.idle": "2025-01-08T03:31:44.095837Z",
     "shell.execute_reply": "2025-01-08T03:31:44.095276Z"
    }
   },
   "outputs": [
    {
     "data": {
      "text/plain": [
       "['iPhone 15',\n",
       " 'Samsung Galaxy S23',\n",
       " 'Google Pixel 8',\n",
       " 'MacBook Pro 2023',\n",
       " 'Dell XPS 13']"
      ]
     },
     "execution_count": 18,
     "metadata": {},
     "output_type": "execute_result"
    }
   ],
   "source": [
    "tech_data_structured.parsed.names"
   ]
  },
  {
   "cell_type": "code",
   "execution_count": 19,
   "metadata": {
    "execution": {
     "iopub.execute_input": "2025-01-08T03:31:44.098590Z",
     "iopub.status.busy": "2025-01-08T03:31:44.098388Z",
     "iopub.status.idle": "2025-01-08T03:31:44.102230Z",
     "shell.execute_reply": "2025-01-08T03:31:44.101636Z"
    }
   },
   "outputs": [
    {
     "data": {
      "text/plain": [
       "['The latest iPhone model featuring a new A17 Bionic chip, improved camera system, and longer battery life.',\n",
       " \"Samsung's flagship smartphone with a dynamic AMOLED display, advanced camera features, and 5G connectivity.\",\n",
       " \"Google's newest Pixel phone offering an upgraded Tensor chip, enhanced AI capabilities, and a stunning OLED display.\",\n",
       " \"Apple's high-performance laptop with the M3 chip, Retina display, and all-day battery life.\",\n",
       " \"Dell's ultra-portable laptop with a 13-inch InfinityEdge display, 11th Gen Intel processors, and a sleek design.\"]"
      ]
     },
     "execution_count": 19,
     "metadata": {},
     "output_type": "execute_result"
    }
   ],
   "source": [
    "tech_data_structured.parsed.descriptions"
   ]
  },
  {
   "cell_type": "code",
   "execution_count": 20,
   "metadata": {
    "execution": {
     "iopub.execute_input": "2025-01-08T03:31:44.104630Z",
     "iopub.status.busy": "2025-01-08T03:31:44.104425Z",
     "iopub.status.idle": "2025-01-08T03:31:47.567956Z",
     "shell.execute_reply": "2025-01-08T03:31:47.567021Z"
    }
   },
   "outputs": [
    {
     "data": {
      "text/markdown": [
       "Here’s a flowchart diagram created in Mermaid syntax that outlines the process of a customer buying a product from an e-commerce website:\n",
       "\n",
       "```mermaid\n",
       "flowchart TD\n",
       "    A[Start] --> B[Customer visits e-commerce website]\n",
       "    B --> C[Customer browses products]\n",
       "    C --> D{Selects a product?}\n",
       "    D -->|Yes| E[View product details]\n",
       "    D -->|No| C\n",
       "    E --> F[Add product to cart]\n",
       "    F --> G{Continue shopping?}\n",
       "    G -->|Yes| C\n",
       "    G -->|No| H[Go to checkout]\n",
       "    H --> I[Enter shipping information]\n",
       "    I --> J[Choose payment method]\n",
       "    J --> K[Review order]\n",
       "    K --> L{Confirm order?}\n",
       "    L -->|Yes| M[Process payment]\n",
       "    M --> N[Order confirmation]\n",
       "    L -->|No| K\n",
       "    N --> O[End]\n",
       "```\n",
       "\n",
       "You can visualize this flowchart using a Mermaid renderer, which will clearly show the steps involved in the purchasing process on an e-commerce website."
      ],
      "text/plain": [
       "<IPython.core.display.Markdown object>"
      ]
     },
     "execution_count": 20,
     "metadata": {},
     "output_type": "execute_result"
    }
   ],
   "source": [
    "def create_diagrams_with_AI(user_query):\n",
    "    response = client.chat.completions.create(\n",
    "        model=MODEL,\n",
    "        messages=[{\"role\": \"system\", \"content\": \"You create mermaid diagrams with AI.\"},\n",
    "                  {\"role\": \"user\", \"content\": user_query}]\n",
    "    )\n",
    "    \n",
    "    return response.choices[0].message.content\n",
    "\n",
    "output_diagram_raw = create_diagrams_with_AI(\"Create a diagram of a flowchart that shows the process of a customer \\\n",
    "    buying a product from an e-commerce website.\")\n",
    "\n",
    "Markdown(output_diagram_raw)"
   ]
  },
  {
   "cell_type": "code",
   "execution_count": 21,
   "metadata": {
    "execution": {
     "iopub.execute_input": "2025-01-08T03:31:47.572230Z",
     "iopub.status.busy": "2025-01-08T03:31:47.571914Z",
     "iopub.status.idle": "2025-01-08T03:31:49.402278Z",
     "shell.execute_reply": "2025-01-08T03:31:49.401377Z"
    }
   },
   "outputs": [
    {
     "data": {
      "text/markdown": [
       "```mermaid\n",
       "flowchart TD\n",
       "    A[Start] --> B[Visit E-commerce Website]\n",
       "    B --> C[Browse Products]\n",
       "    C --> D[Select Product]\n",
       "    D --> E[Add to Cart]\n",
       "    E --> F[View Cart]\n",
       "    F --> G[Proceed to Checkout]\n",
       "    G --> H[Enter Shipping Information]\n",
       "    H --> I[Enter Payment Information]\n",
       "    I --> J[Review Order]\n",
       "    J --> K[Place Order]\n",
       "    K --> L[Receive Confirmation]\n",
       "    L --> M[End]\n",
       "```"
      ],
      "text/plain": [
       "<IPython.core.display.Markdown object>"
      ]
     },
     "execution_count": 21,
     "metadata": {},
     "output_type": "execute_result"
    }
   ],
   "source": [
    "class MermaidDiagram(BaseModel):\n",
    "    diagram: str = Field(..., title=\"Mermaid Diagram\", description=\"The mermaid diagram as a properly formatted markdown ready to visualize.\")\n",
    "\n",
    "def create_diagrams_with_AI(user_query):\n",
    "    response = client.beta.chat.completions.parse(\n",
    "        model=MODEL,\n",
    "        messages=[{\"role\": \"system\", \"content\": \"You create mermaid diagrams with AI ready to be visualized in markdown.\"},\n",
    "                  {\"role\": \"user\", \"content\": user_query}],\n",
    "        response_format=MermaidDiagram,\n",
    "        temperature=0.0\n",
    "    )\n",
    "    \n",
    "    return response.choices[0].message.parsed.diagram\n",
    "\n",
    "output_diagram_raw = create_diagrams_with_AI(\"Create a diagram of a flowchart that shows the process of a customer \\\n",
    "    buying a product from an e-commerce website.\")\n",
    "\n",
    "Markdown(output_diagram_raw)"
   ]
  },
  {
   "cell_type": "markdown",
   "metadata": {},
   "source": []
  }
 ],
 "metadata": {
  "kernelspec": {
   "display_name": "oreilly-chatgpt-apps",
   "language": "python",
   "name": "oreilly-chatgpt-apps"
  },
  "language_info": {
   "codemirror_mode": {
    "name": "ipython",
    "version": 3
   },
   "file_extension": ".py",
   "mimetype": "text/x-python",
   "name": "python",
   "nbconvert_exporter": "python",
   "pygments_lexer": "ipython3",
   "version": "3.11.10"
  }
 },
 "nbformat": 4,
 "nbformat_minor": 2
}
