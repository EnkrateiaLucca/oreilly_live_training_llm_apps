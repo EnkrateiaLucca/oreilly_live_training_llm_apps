{
 "cells": [
  {
   "cell_type": "code",
   "execution_count": 1,
   "metadata": {},
   "outputs": [],
   "source": [
    "import os\n",
    "# loading from a .env file\n",
    "# load_dotenv(dotenv_path=\"/full/path/to/your/.env\")\n",
    "\n",
    "# or \n",
    "# if you're on google colab just uncomment below and replace with your openai api key\n",
    "# os.environ[\"OPENAI_API_KEY\"] = \"<your-openai-api-key>\""
   ]
  },
  {
   "cell_type": "code",
   "execution_count": 2,
   "metadata": {},
   "outputs": [],
   "source": [
    "MODEL = 'gpt-4o-mini'"
   ]
  },
  {
   "cell_type": "code",
   "execution_count": 3,
   "metadata": {},
   "outputs": [],
   "source": [
    "from openai import OpenAI\n",
    "client = OpenAI()\n",
    "\n",
    "def recommender_chat_bot(user_query):\n",
    "    response = client.chat.completions.create(\n",
    "        model=MODEL,\n",
    "        messages=[{\"role\": \"system\", \"content\": \"You are a chatbot system \\\n",
    "            and recommender for products about tech to a diverse group of users.\"},\n",
    "                  {\"role\": \"user\", \"content\": user_query}]\n",
    "    )\n",
    "    \n",
    "    return response.choices[0].message.content"
   ]
  },
  {
   "cell_type": "code",
   "execution_count": 4,
   "metadata": {},
   "outputs": [
    {
     "data": {
      "text/plain": [
       "'Sure! Here are 20 examples of tech products along with their descriptions:\\n\\n1. **Smartphone with AI Assistant**  \\n   - A high-performance smartphone equipped with an integrated AI assistant that learns user habits, manages schedules, and offers personalized recommendations.\\n\\n2. **Wireless Noise-Canceling Headphones**  \\n   - Over-ear headphones that utilize active noise cancellation technology to block out external sounds, providing an immersive listening experience.\\n\\n3. **Smart Home Security Camera**  \\n   - A Wi-Fi-enabled camera that allows users to monitor their homes in real-time via a smartphone app, featuring motion detection and night vision capabilities.\\n\\n4. **Portable Solar Charger**  \\n   - A compact solar panel that can charge multiple devices simultaneously, perfect for outdoor activities and travel, equipped with multiple USB ports.\\n\\n5. **Fitness Tracking Smartwatch**  \\n   - A smartwatch designed to monitor health metrics like heart rate, step count, and calories burned, paired with a companion app for detailed analysis.\\n\\n6. **VR Headset for Gaming**  \\n   - A virtual reality headset that offers a fully immersive gaming experience with high-resolution displays and motion tracking for realistic gameplay.\\n\\n7. **Wireless Charging Pad**  \\n   - A sleek, minimal design charging pad that supports Qi-enabled devices, providing fast charging without the need for cables or plugs.\\n\\n8. **Bluetooth Smart Lock**  \\n   - A keyless entry lock that can be controlled remotely via a smartphone app, allowing users to lock/unlock their doors from anywhere and grant guest access.\\n\\n9. **Smart Refrigerator with Touchscreen**  \\n   - An innovative refrigerator that features a touchscreen interface, allowing for recipe suggestions, grocery list management, and entertainment options.\\n\\n10. **Drones with 4K Camera**  \\n    - A high-flying drone equipped with a 4K camera for stunning aerial photography and video recording, featuring GPS and smart flight modes.\\n\\n11. **Home Automation Hub**  \\n    - A central device that connects and controls various smart home products, allowing users to create automation routines and manage devices through a single app.\\n\\n12. **E-Reader with Adjustable Backlight**  \\n    - A lightweight electronic book reader featuring an adjustable warm and cool backlight, perfect for reading day or night without straining the eyes.\\n\\n13. **Streaming Media Player**  \\n    - A compact device that plugs into your TV, enabling access to popular streaming services with 4K resolution and voice search functionality.\\n\\n14. **Wireless Earbuds with Touch Control**  \\n    - True wireless earbuds that offer touch-sensitive controls for music playback and calls, featuring sweat resistance for an active lifestyle.\\n\\n15. **Home 3D Printer**  \\n    - A desktop 3D printer designed for hobbyists and makers, capable of printing various materials to create custom objects, prototypes, and designs.\\n\\n16. **Digital Photo Frame with Wi-Fi**  \\n    - A digital frame that displays a slideshow of photos uploaded via Wi-Fi, allowing family and friends to share images remotely.\\n\\n17. **Smart Thermostat**  \\n    - An energy-efficient thermostat that learns user preferences over time, optimizing heating and cooling schedules to save on energy costs.\\n\\n18. **Augmented Reality Glasses**  \\n    - Lightweight glasses that overlay digital information on the real world, enriching experiences in navigation, gaming, and education.\\n\\n19. **AI-Powered Language Translation Device**  \\n    - A portable device that translates languages in real-time, ideal for travelers and business professionals, equipped with voice recognition technology.\\n\\n20. **Robot Vacuum Cleaner**  \\n    - An autonomous vacuum cleaner that uses smart sensors to navigate and clean floors efficiently, programmable via a smartphone app for scheduled cleaning.\\n\\nFeel free to ask if you need more information or additional examples!'"
      ]
     },
     "execution_count": 4,
     "metadata": {},
     "output_type": "execute_result"
    }
   ],
   "source": [
    "def generate_data_with_chatgpt(data_example):\n",
    "    response = client.chat.completions.create(\n",
    "        model=MODEL,\n",
    "        messages=[{\"role\": \"system\", \"content\": \"You generate examples of tech products.\"},\n",
    "                  {\"role\": \"user\", \"content\": data_example}]\n",
    "    )\n",
    "    \n",
    "    return response.choices[0].message.content\n",
    "\n",
    "\n",
    "tech_products_prompt = \"Create 20 examples of tech products\\\n",
    "    with their descriptions as a list of bullet points\"\n",
    "\n",
    "data_tech = generate_data_with_chatgpt(tech_products_prompt)\n",
    "data_tech"
   ]
  },
  {
   "cell_type": "code",
   "execution_count": 5,
   "metadata": {},
   "outputs": [
    {
     "data": {
      "text/markdown": [
       "Sure! Here are 20 examples of tech products along with their descriptions:\n",
       "\n",
       "1. **Smartphone with AI Assistant**  \n",
       "   - A high-performance smartphone equipped with an integrated AI assistant that learns user habits, manages schedules, and offers personalized recommendations.\n",
       "\n",
       "2. **Wireless Noise-Canceling Headphones**  \n",
       "   - Over-ear headphones that utilize active noise cancellation technology to block out external sounds, providing an immersive listening experience.\n",
       "\n",
       "3. **Smart Home Security Camera**  \n",
       "   - A Wi-Fi-enabled camera that allows users to monitor their homes in real-time via a smartphone app, featuring motion detection and night vision capabilities.\n",
       "\n",
       "4. **Portable Solar Charger**  \n",
       "   - A compact solar panel that can charge multiple devices simultaneously, perfect for outdoor activities and travel, equipped with multiple USB ports.\n",
       "\n",
       "5. **Fitness Tracking Smartwatch**  \n",
       "   - A smartwatch designed to monitor health metrics like heart rate, step count, and calories burned, paired with a companion app for detailed analysis.\n",
       "\n",
       "6. **VR Headset for Gaming**  \n",
       "   - A virtual reality headset that offers a fully immersive gaming experience with high-resolution displays and motion tracking for realistic gameplay.\n",
       "\n",
       "7. **Wireless Charging Pad**  \n",
       "   - A sleek, minimal design charging pad that supports Qi-enabled devices, providing fast charging without the need for cables or plugs.\n",
       "\n",
       "8. **Bluetooth Smart Lock**  \n",
       "   - A keyless entry lock that can be controlled remotely via a smartphone app, allowing users to lock/unlock their doors from anywhere and grant guest access.\n",
       "\n",
       "9. **Smart Refrigerator with Touchscreen**  \n",
       "   - An innovative refrigerator that features a touchscreen interface, allowing for recipe suggestions, grocery list management, and entertainment options.\n",
       "\n",
       "10. **Drones with 4K Camera**  \n",
       "    - A high-flying drone equipped with a 4K camera for stunning aerial photography and video recording, featuring GPS and smart flight modes.\n",
       "\n",
       "11. **Home Automation Hub**  \n",
       "    - A central device that connects and controls various smart home products, allowing users to create automation routines and manage devices through a single app.\n",
       "\n",
       "12. **E-Reader with Adjustable Backlight**  \n",
       "    - A lightweight electronic book reader featuring an adjustable warm and cool backlight, perfect for reading day or night without straining the eyes.\n",
       "\n",
       "13. **Streaming Media Player**  \n",
       "    - A compact device that plugs into your TV, enabling access to popular streaming services with 4K resolution and voice search functionality.\n",
       "\n",
       "14. **Wireless Earbuds with Touch Control**  \n",
       "    - True wireless earbuds that offer touch-sensitive controls for music playback and calls, featuring sweat resistance for an active lifestyle.\n",
       "\n",
       "15. **Home 3D Printer**  \n",
       "    - A desktop 3D printer designed for hobbyists and makers, capable of printing various materials to create custom objects, prototypes, and designs.\n",
       "\n",
       "16. **Digital Photo Frame with Wi-Fi**  \n",
       "    - A digital frame that displays a slideshow of photos uploaded via Wi-Fi, allowing family and friends to share images remotely.\n",
       "\n",
       "17. **Smart Thermostat**  \n",
       "    - An energy-efficient thermostat that learns user preferences over time, optimizing heating and cooling schedules to save on energy costs.\n",
       "\n",
       "18. **Augmented Reality Glasses**  \n",
       "    - Lightweight glasses that overlay digital information on the real world, enriching experiences in navigation, gaming, and education.\n",
       "\n",
       "19. **AI-Powered Language Translation Device**  \n",
       "    - A portable device that translates languages in real-time, ideal for travelers and business professionals, equipped with voice recognition technology.\n",
       "\n",
       "20. **Robot Vacuum Cleaner**  \n",
       "    - An autonomous vacuum cleaner that uses smart sensors to navigate and clean floors efficiently, programmable via a smartphone app for scheduled cleaning.\n",
       "\n",
       "Feel free to ask if you need more information or additional examples!"
      ],
      "text/plain": [
       "<IPython.core.display.Markdown object>"
      ]
     },
     "execution_count": 5,
     "metadata": {},
     "output_type": "execute_result"
    }
   ],
   "source": [
    "from IPython.display import Markdown\n",
    "Markdown(data_tech)"
   ]
  },
  {
   "cell_type": "code",
   "execution_count": 6,
   "metadata": {},
   "outputs": [
    {
     "data": {
      "text/markdown": [
       "Sure! Here are 10 diverse customer profiles based on varying backgrounds and preferences:\n",
       "\n",
       "### Customer Profile 1: Sarah Thompson\n",
       "- **Age**: 28\n",
       "- **Occupation**: Graphic Designer\n",
       "- **Location**: Austin, TX\n",
       "- **Interests**: Art, DIY projects, sustainability\n",
       "- **Shopping Preferences**: Prefers eco-friendly products and unique handmade items. Active on social media, often posts about her projects.\n",
       "- **Spending Behavior**: Moderate spender, willing to pay more for sustainability and aesthetics.\n",
       "\n",
       "### Customer Profile 2: John Patel\n",
       "- **Age**: 45\n",
       "- **Occupation**: IT Manager\n",
       "- **Location**: San Francisco, CA\n",
       "- **Interests**: Technology, gaming, outdoor activities\n",
       "- **Shopping Preferences**: Values performance and quality in tech products. Often looks for the latest gadgets and gaming equipment.\n",
       "- **Spending Behavior**: High spender, especially on tech-related items, loyal to brands he trusts.\n",
       "\n",
       "### Customer Profile 3: Maria Gonzalez\n",
       "- **Age**: 34\n",
       "- **Occupation**: School Teacher\n",
       "- **Location**: Miami, FL\n",
       "- **Interests**: Education, reading, parenting\n",
       "- **Shopping Preferences**: Seeks educational tools and books for her classroom and family. Enjoys discounts and bulk purchases.\n",
       "- **Spending Behavior**: Budget-conscious but willing to invest in quality educational materials.\n",
       "\n",
       "### Customer Profile 4: David Chen\n",
       "- **Age**: 22\n",
       "- **Occupation**: College Student\n",
       "- **Location**: New York City, NY\n",
       "- **Interests**: Fashion, social media, music\n",
       "- **Shopping Preferences**: Follows fashion trends, shop mainly at online stores, enjoys thrifting. Looks for the latest styles at affordable prices.\n",
       "- **Spending Behavior**: Low to moderate spender, often waits for sales or discounts.\n",
       "\n",
       "### Customer Profile 5: Emily Carter\n",
       "- **Age**: 50\n",
       "- **Occupation**: Nurse\n",
       "- **Location**: Seattle, WA\n",
       "- **Interests**: Health, cooking, gardening\n",
       "- **Shopping Preferences**: Prefers organic food and health-related products. Often shops at local markets and values nutritional information.\n",
       "- **Spending Behavior**: Moderate spender, focuses on health and quality rather than price alone.\n",
       "\n",
       "### Customer Profile 6: Tom Robinson\n",
       "- **Age**: 40\n",
       "- **Occupation**: Construction Worker\n",
       "- **Location**: Denver, CO\n",
       "- **Interests**: Sports, home improvement, BBQ\n",
       "- **Shopping Preferences**: Looks for durable workwear and tools. Enjoys deals at home improvement stores and warehouse clubs.\n",
       "- **Spending Behavior**: Moderate to high spender, prioritizes practical and quality products.\n",
       "\n",
       "### Customer Profile 7: Anjali Sharma\n",
       "- **Age**: 30\n",
       "- **Occupation**: Marketing Consultant\n",
       "- **Location**: Chicago, IL\n",
       "- **Interests**: Travel, wellness, technology\n",
       "- **Shopping Preferences**: Invests in travel gear and wellness products. Enjoys premium brands and experiences.\n",
       "- **Spending Behavior**: High spender, especially on travel and luxury items.\n",
       "\n",
       "### Customer Profile 8: Richard Johnson\n",
       "- **Age**: 55\n",
       "- **Occupation**: Retired\n",
       "- **Location**: Orlando, FL\n",
       "- **Interests**: Golf, traveling, volunteering\n",
       "- **Shopping Preferences**: Values comfort and ease in products. Enjoys shopping for hobbies and leisure activities.\n",
       "- **Spending Behavior**: Moderate spender, often looking for value and quality in leisure-related purchases.\n",
       "\n",
       "### Customer Profile 9: Lily Nguyen\n",
       "- **Age**: 26\n",
       "- **Occupation**: Software Engineer\n",
       "- **Location**: Toronto, Canada\n",
       "- **Interests**: Coding, gaming, movies\n",
       "- **Shopping Preferences**: Loves tech and gaming products, often participates in online gaming communities. Enjoys sci-fi and fantasy merchandise.\n",
       "- **Spending Behavior**: Moderate to high spender on gaming equipment and tech upgrades.\n",
       "\n",
       "### Customer Profile 10: Carlos Ramirez\n",
       "- **Age**: 38\n",
       "- **Occupation**: Restaurant Owner\n",
       "- **Location**: San Diego, CA\n",
       "- **Interests**: Culinary arts, wine tasting, fitness\n",
       "- **Shopping Preferences**: Seeks gourmet cooking supplies and health-conscious food options. Enjoys premium quality products.\n",
       "- **Spending Behavior**: High spender, especially in gourmet and culinary-related categories.\n",
       "\n",
       "These profiles illustrate the complexity of customer preferences, behaviors, and demographics."
      ],
      "text/plain": [
       "<IPython.core.display.Markdown object>"
      ]
     },
     "execution_count": 6,
     "metadata": {},
     "output_type": "execute_result"
    }
   ],
   "source": [
    "def create_costumer_profile(user_query):\n",
    "    response = client.chat.completions.create(\n",
    "        model=MODEL,\n",
    "        messages=[{\"role\": \"system\", \"content\": \"You create a list of customer \\\n",
    "            profiles based on input.\"},\n",
    "                  {\"role\": \"user\", \"content\": user_query}]\n",
    "    )\n",
    "    \n",
    "    return response.choices[0].message.content\n",
    "\n",
    "\n",
    "create_costumer_profile = create_costumer_profile(\"Create 10 customer profiles \\\n",
    "    for users with different backgrounds and preferences.\")\n",
    "\n",
    "Markdown(create_costumer_profile)"
   ]
  },
  {
   "cell_type": "code",
   "execution_count": 7,
   "metadata": {},
   "outputs": [
    {
     "data": {
      "text/markdown": [
       "Hi Carlos! Based on your interests and preferences, I recommend the **Smart Refrigerator with Touchscreen**. It can help you manage your ingredients, suggest recipes, and keep your culinary essentials organized, enhancing your gourmet cooking experience. Enjoy!"
      ],
      "text/plain": [
       "<IPython.core.display.Markdown object>"
      ]
     },
     "execution_count": 7,
     "metadata": {},
     "output_type": "execute_result"
    }
   ],
   "source": [
    "profile_10 = \"\"\"\n",
    "Customer Profile 10: Carlos Ramirez\n",
    "Age: 38\n",
    "Occupation: Restaurant Owner\n",
    "Location: San Diego, CA\n",
    "Interests: Culinary arts, wine tasting, fitness\n",
    "Shopping Preferences: Seeks gourmet cooking supplies and health-conscious food options. Enjoys premium quality products.\n",
    "Spending Behavior: High spender, especially in gourmet and culinary-related categories.\n",
    "These profiles illustrate the complexity of customer preferences, behaviors, and demographics.\n",
    "\"\"\"\n",
    "\n",
    "\n",
    "def recommend_product(profile):\n",
    "    prompt_to_recommender = f\"Recommend a tech product from this list ONLY:\\n\\n{data_tech} \\\n",
    "        for this customer profile: {profile}.\\\n",
    "        Output ONLY A SIMPLE MESSAGE REFERENCING THE CUSTOMER AND THE recommendations.\"\n",
    "    \n",
    "    recommendation = recommender_chat_bot(prompt_to_recommender)\n",
    "    \n",
    "    return recommendation\n",
    "\n",
    "\n",
    "product_recommendation = recommend_product(profile_10)\n",
    "\n",
    "Markdown(product_recommendation)"
   ]
  },
  {
   "cell_type": "code",
   "execution_count": 9,
   "metadata": {},
   "outputs": [
    {
     "data": {
      "text/plain": [
       "'Sure! Here’s a list of 20 tech products along with their descriptions:\\n\\n1. **Smartphone 12X Pro**  \\n   A flagship smartphone featuring a 6.9-inch AMOLED display, a quad-camera system with 108 MP main sensor, and AI enhancements for photography.\\n\\n2. **EcoSmart Home Hub**  \\n   A central device for controlling all smart home gadgets, compatible with Alexa, Google Home, and Apple HomeKit, enabling seamless automation and energy monitoring.\\n\\n3. **Wireless Noise-Canceling Headphones**  \\n   Over-ear headphones with adaptive noise cancellation, 30 hours of playback time, and touch controls for music and calls.\\n\\n4. **4K Ultra HD Streaming Device**  \\n   A compact streaming device that supports all major services like Netflix and Hulu, including voice search and a customizable interface.\\n\\n5. **Fitness Tracker 2.0**  \\n   A sleek wristband that monitors heart rate, sleep patterns, and calories burned, featuring GPS for outdoor activities and waterproof design.\\n\\n6. **Portable Solar Charger**  \\n   A foldable solar panel charger for smartphones and tablets, designed for outdoor enthusiasts, with dual USB ports and fast charging capability.\\n\\n7. **Virtual Reality Headset**  \\n   An all-in-one VR headset featuring advanced motion tracking, 120Hz refresh rate, and a library of immersive games and experiences.\\n\\n8. **Smart Glasses**  \\n   Stylish augmented reality glasses that display notifications, navigation, and fitness data, with touch controls and built-in bone conduction audio.\\n\\n9. **Robotic Vacuum Cleaner**  \\n   An intelligent vacuum that maps your home for efficient cleaning, with a mopping feature and app control, supporting voice commands.\\n\\n10. **Digital Notebook**  \\n    A tablet-style notebook that digitizes handwritten notes, allowing for easy organization and sharing through a companion app.\\n\\n11. **AI Assistant Speaker**  \\n    A compact smart speaker that offers personalized news updates, weather forecasts, and music streaming, all controlled by voice commands.\\n\\n12. **Wearable Air Purifier**  \\n    A lightweight wearable device that filters air pollutants, perfect for urban dwellers and those with allergies, featuring real-time air quality monitoring.\\n\\n13. **Bluetooth Tracker Tile**  \\n    A small device that helps you locate lost items via a smartphone app, featuring a replaceable battery and a loud ringer for easy findability.\\n\\n14. **E-Reader with Night Light**  \\n    A lightweight e-reader with a high-resolution display and adjustable front light for reading in the dark, compatible with various e-book formats.\\n\\n15. **Smart Thermostat**  \\n    A learning thermostat that adapts to your schedule and can be controlled remotely from your smartphone, optimizing energy use for cost-saving.\\n\\n16. **Mesh Wi-Fi System**  \\n    A whole-home Wi-Fi solution using multiple nodes to create a strong, seamless internet connection throughout your property, ideal for smart homes.\\n\\n17. **Wireless Charging Pad**  \\n    A sleek charging pad that supports fast wireless charging for compatible devices, featuring anti-slip technology and a cooling system.\\n\\n18. **Gaming Laptop**  \\n    A high-performance laptop designed for gaming, featuring a powerful GPU, customizable RGB keyboard, and a high refresh rate display.\\n\\n19. **Smart Water Bottle**  \\n    A hydration-tracking water bottle that syncs with a mobile app to remind users to drink water, featuring a built-in UV sterilization system.\\n\\n20. **Home Security Camera System**  \\n    A comprehensive security solution with multiple cameras offering 4K resolution, night vision, and motion-activated alerts, accessible through a mobile app.'"
      ]
     },
     "execution_count": 9,
     "metadata": {},
     "output_type": "execute_result"
    }
   ],
   "source": [
    "data_tech"
   ]
  },
  {
   "cell_type": "code",
   "execution_count": 18,
   "metadata": {},
   "outputs": [
    {
     "data": {
      "text/plain": [
       "ParsedChatCompletionMessage[TechProduct](content='{\"names\":[\"iPhone 15\",\"Samsung Galaxy S23\",\"MacBook Pro 2023\",\"Sony WH-1000XM5\",\"Google Pixel Watch\"],\"descriptions\":[\"The iPhone 15 features a new design, improved camera system, and the latest A17 Bionic chip for enhanced performance.\",\"Samsung Galaxy S23 offers a stunning display, powerful processor, and long-lasting battery life, making it a top choice for Android users.\",\"MacBook Pro 2023 comes with the latest M3 chip, offering unprecedented speed and efficiency for professionals and creatives alike.\",\"Sony WH-1000XM5 headphones provide industry-leading noise cancellation, superior sound quality, and all-day comfort.\",\"Google Pixel Watch integrates seamlessly with Android devices, offering health tracking, notifications, and a sleek design.\"]}', refusal=None, role='assistant', audio=None, function_call=None, tool_calls=[], parsed=TechProduct(names=['iPhone 15', 'Samsung Galaxy S23', 'MacBook Pro 2023', 'Sony WH-1000XM5', 'Google Pixel Watch'], descriptions=['The iPhone 15 features a new design, improved camera system, and the latest A17 Bionic chip for enhanced performance.', 'Samsung Galaxy S23 offers a stunning display, powerful processor, and long-lasting battery life, making it a top choice for Android users.', 'MacBook Pro 2023 comes with the latest M3 chip, offering unprecedented speed and efficiency for professionals and creatives alike.', 'Sony WH-1000XM5 headphones provide industry-leading noise cancellation, superior sound quality, and all-day comfort.', 'Google Pixel Watch integrates seamlessly with Android devices, offering health tracking, notifications, and a sleek design.']))"
      ]
     },
     "execution_count": 18,
     "metadata": {},
     "output_type": "execute_result"
    }
   ],
   "source": [
    "from pydantic import BaseModel, Field\n",
    "from typing import List\n",
    "\n",
    "\n",
    "class TechProduct(BaseModel):\n",
    "    names: List[str] = Field(..., title=\"All the product names\", description=\"The titles of the products in question\")\n",
    "    descriptions: List[str] = Field(..., title=\"All the product descriptions\", description=\"A complete list of descriptions of the products extracted from the source.\")\n",
    "    \n",
    "def extract_tech_product_data(raw_tech_data: str):\n",
    "    response = client.beta.chat.completions.parse(\n",
    "        model=\"gpt-4o\",\n",
    "        messages=[\n",
    "            {'role': 'system', 'content': 'You are an extraction engine for tech products, \\\n",
    "                you extract the following fields:\\\n",
    "                1. name - list of all names of products in the input\\\n",
    "                2. description - list of all descritionps in the products\\\n",
    "                    Make sure to extract all the names and descriptions from the input.'},\n",
    "        ],\n",
    "        response_format=TechProduct,\n",
    "        temperature=0.0\n",
    "    )\n",
    "    \n",
    "    return response.choices[0].message\n",
    "\n",
    "tech_data_structured = extract_tech_product_data(f'Extract all the names and descriptions from this raw data: \\n\\n {data_tech}')\n",
    "tech_data_structured"
   ]
  },
  {
   "cell_type": "code",
   "execution_count": 20,
   "metadata": {},
   "outputs": [
    {
     "data": {
      "text/plain": [
       "['iPhone 15',\n",
       " 'Samsung Galaxy S23',\n",
       " 'MacBook Pro 2023',\n",
       " 'Sony WH-1000XM5',\n",
       " 'Google Pixel Watch']"
      ]
     },
     "execution_count": 20,
     "metadata": {},
     "output_type": "execute_result"
    }
   ],
   "source": [
    "tech_data_structured.parsed.names"
   ]
  },
  {
   "cell_type": "code",
   "execution_count": 22,
   "metadata": {},
   "outputs": [
    {
     "data": {
      "text/plain": [
       "['The iPhone 15 features a new design, improved camera system, and the latest A17 Bionic chip for enhanced performance.',\n",
       " 'Samsung Galaxy S23 offers a stunning display, powerful processor, and long-lasting battery life, making it a top choice for Android users.',\n",
       " 'MacBook Pro 2023 comes with the latest M3 chip, offering unprecedented speed and efficiency for professionals and creatives alike.',\n",
       " 'Sony WH-1000XM5 headphones provide industry-leading noise cancellation, superior sound quality, and all-day comfort.',\n",
       " 'Google Pixel Watch integrates seamlessly with Android devices, offering health tracking, notifications, and a sleek design.']"
      ]
     },
     "execution_count": 22,
     "metadata": {},
     "output_type": "execute_result"
    }
   ],
   "source": [
    "tech_data_structured.parsed.descriptions"
   ]
  },
  {
   "cell_type": "code",
   "execution_count": 23,
   "metadata": {},
   "outputs": [
    {
     "data": {
      "text/markdown": [
       "Here's a mermaid diagram representing a flowchart for the process of a customer buying a product from an e-commerce website:\n",
       "\n",
       "```mermaid\n",
       "flowchart TD\n",
       "    A[Start] --> B[Visit E-commerce Website]\n",
       "    B --> C[Browse Products]\n",
       "    C --> D{Select Product?}\n",
       "    D -->|Yes| E[Add Product to Cart]\n",
       "    D -->|No| C\n",
       "    E --> F[View Cart]\n",
       "    F --> G{Proceed to Checkout?}\n",
       "    G -->|Yes| H[Enter Shipping Information]\n",
       "    G -->|No| C\n",
       "    H --> I[Choose Payment Method]\n",
       "    I --> J[Enter Payment Information]\n",
       "    J --> K[Review Order]\n",
       "    K --> L{Confirm Order?}\n",
       "    L -->|Yes| M[Place Order]\n",
       "    L -->|No| F\n",
       "    M --> N[Receive Order Confirmation]\n",
       "    N --> O[End]\n",
       "```\n",
       "\n",
       "This diagram outlines the steps a customer takes from visiting an e-commerce website to receiving an order confirmation after purchasing a product."
      ],
      "text/plain": [
       "<IPython.core.display.Markdown object>"
      ]
     },
     "execution_count": 23,
     "metadata": {},
     "output_type": "execute_result"
    }
   ],
   "source": [
    "def create_diagrams_with_AI(user_query):\n",
    "    response = client.chat.completions.create(\n",
    "        model=MODEL,\n",
    "        messages=[{\"role\": \"system\", \"content\": \"You create mermaid diagrams with AI.\"},\n",
    "                  {\"role\": \"user\", \"content\": user_query}]\n",
    "    )\n",
    "    \n",
    "    return response.choices[0].message.content\n",
    "\n",
    "output_diagram_raw = create_diagrams_with_AI(\"Create a diagram of a flowchart that shows the process of a customer \\\n",
    "    buying a product from an e-commerce website.\")\n",
    "\n",
    "Markdown(output_diagram_raw)"
   ]
  },
  {
   "cell_type": "code",
   "execution_count": 29,
   "metadata": {},
   "outputs": [
    {
     "data": {
      "text/markdown": [
       "```mermaid\n",
       "flowchart TD\n",
       "    A[Start] --> B[Visit E-commerce Website]\n",
       "    B --> C[Browse Products]\n",
       "    C --> D[Select Product]\n",
       "    D --> E[Add to Cart]\n",
       "    E --> F[View Cart]\n",
       "    F --> G[Proceed to Checkout]\n",
       "    G --> H[Enter Shipping Information]\n",
       "    H --> I[Enter Payment Information]\n",
       "    I --> J[Review Order]\n",
       "    J --> K[Place Order]\n",
       "    K --> L[Receive Confirmation]\n",
       "    L --> M[End]\n",
       "```"
      ],
      "text/plain": [
       "<IPython.core.display.Markdown object>"
      ]
     },
     "execution_count": 29,
     "metadata": {},
     "output_type": "execute_result"
    }
   ],
   "source": [
    "class MermaidDiagram(BaseModel):\n",
    "    diagram: str = Field(..., title=\"Mermaid Diagram\", description=\"The mermaid diagram as a properly formatted markdown ready to visualize.\")\n",
    "\n",
    "def create_diagrams_with_AI(user_query):\n",
    "    response = client.beta.chat.completions.parse(\n",
    "        model=MODEL,\n",
    "        messages=[{\"role\": \"system\", \"content\": \"You create mermaid diagrams with AI ready to be visualized in markdown.\"},\n",
    "                  {\"role\": \"user\", \"content\": user_query}],\n",
    "        response_format=MermaidDiagram,\n",
    "        temperature=0.0\n",
    "    )\n",
    "    \n",
    "    return response.choices[0].message.parsed.diagram\n",
    "\n",
    "output_diagram_raw = create_diagrams_with_AI(\"Create a diagram of a flowchart that shows the process of a customer \\\n",
    "    buying a product from an e-commerce website.\")\n",
    "\n",
    "Markdown(output_diagram_raw)"
   ]
  },
  {
   "cell_type": "markdown",
   "metadata": {},
   "source": []
  }
 ],
 "metadata": {
  "kernelspec": {
   "display_name": "oreilly-chatgpt-apps",
   "language": "python",
   "name": "oreilly-chatgpt-apps"
  },
  "language_info": {
   "codemirror_mode": {
    "name": "ipython",
    "version": 3
   },
   "file_extension": ".py",
   "mimetype": "text/x-python",
   "name": "python",
   "nbconvert_exporter": "python",
   "pygments_lexer": "ipython3",
   "version": "3.11.10"
  }
 },
 "nbformat": 4,
 "nbformat_minor": 2
}
