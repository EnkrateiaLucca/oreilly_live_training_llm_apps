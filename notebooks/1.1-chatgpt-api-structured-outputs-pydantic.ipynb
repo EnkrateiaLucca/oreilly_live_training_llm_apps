{
 "cells": [
  {
   "cell_type": "code",
   "execution_count": 1,
   "metadata": {},
   "outputs": [],
   "source": [
    "# %pip install pydantic\n",
    "# %pip install python-dotenv\n",
    "# %pip install openai"
   ]
  },
  {
   "cell_type": "code",
   "execution_count": 4,
   "metadata": {},
   "outputs": [
    {
     "data": {
      "text/plain": [
       "'Saltar al contenido principal\\nEnviar a LucasLisboa 1300-032\\u200c\\nTodos los departamentos\\n\\nTodos los departamentos\\nBuscar en Amazon Business\\nbasketball shoes men\\n ES  \\n\\nHola LucasCuenta para Lucas Nicolosi, Unipessoal LDA \\n0\\nTodo\\nConsigue la app \\nPrime Day\\nVolver a comprar\\nAhorro empresarial\\nTarjetas regalo \\nCompra al por mayor\\nDescuentos por cantidad\\nTu punto de ahorro\\nSuscríbete y ahorra\\nAñadir usuarios\\nSuministros Informáticos \\nProductos personalizados\\nMarcas de Amazon\\nAñade a tus compañeros\\nListasPrueba Business Prime \\nAmazon.es\\nLos más vendidos\\nOfertas\\nAmazon Segunda mano\\nLista de deseos\\nTarjetas regalo\\nAmazon Prime\\nApps de Amazon\\nVender en Amazon\\nTrabajar en Amazon\\n1-48 de más de 3.000 resultados para \"basketball shoes men\"\\nOrdenar por:\\nDestacados\\nOrdenar por:Destacados\\n\\nARRIGO BELLO Zapatillas Hombre Zapatos Sneakers Vestir Casual Deportivas Caminar Correr Deportivas Gimnasio Moda cómodo Viajar Talla 41-46 (A Gris,Talla_41)\\nARRIGO BELLO Zapatillas Hombre Zapatos Sneakers Vestir Casual Deportivas Caminar Correr Deportivas Gimnasio Moda cómodo Viajar Talla 41-46\\n4,2806\\nCompra en la Store de ARRIGO BELLO en Amazon\\nComprar ARRIGO BELLO \\nPatrocinado\\nResultados\\nMás información sobre estos resultados. Consulta la página del producto para ver otras opciones de compra. El precio y otros detalles pueden variar en función del tamaño y el color del producto.\\nadidas Own The Game 3 Shoes, Zapatillas de Baloncesto Hombre\\nadidas\\nOwn The Game 3 Shoes, Zapatillas de Baloncesto Hombre\\n4,54,5 de 5 estrellas (306)\\n53,68€IVA no incluido\\nPrecio, página del producto66,03€ IVA incluido\\nEntrega GRATIS el lun, 23 de jun\\nAñadir a la cesta\\nMás vendido\\nNIKE Court Vision Lo Nn, Sneaker Hombre\\nNIKE\\nCourt Vision Lo Nn, Sneaker Hombre\\n4,44,4 de 5 estrellas (2,7 mil)\\n46,40€IVA no incluido\\nPrecio, página del producto57,07€ IVA incluido Recomendado: 76,24 €Recomendado: 76,24€\\nEntrega GRATIS el lun, 23 de jun\\nEntrega más rápida el vie, 20 de jun\\nAñadir a la cesta\\nUnder Armour UA Lockdown 7, Zapatillas de Baloncesto Unisex Adulto\\n+13\\nUnder Armour\\nUA Lockdown 7, Zapatillas de Baloncesto Unisex Adulto\\n4,54,5 de 5 estrellas (681)\\n45,45€IVA no incluido\\nPrecio, página del producto55,90€ IVA incluido Recomendado: 76,24 €Recomendado: 76,24€\\nEntrega GRATIS el lun, 23 de jun\\nEntrega más rápida mañana, 18 de jun\\nAñadir a la cesta\\nGiniros Zapatillas de Deporte Slip On Zapatillas Running Hombre Correr Jogging Caminar Bambas Gimnasio Fitness Atlético Te...\\nPatrocinado \\nGiniros Zapatillas de Deporte Slip On Zapatillas Running Hombre Correr Jogging Caminar Bambas Gimnasio Fitness Atlético Tenis Trabajo Sneakers Ligeros Transpirables Zapatillas Deportivas Hombre\\n4,24,2 de 5 estrellas (655)\\nPrecio, página del producto30,49€\\nEntrega GRATIS el lun, 23 de jun en pedidos superiores a 35 € en enviados por Amazon\\nEntrega más rápida mañana, 18 de jun\\nMás resultados\\nPUMA Rebound V6, Zapatillas Unisex Adulto\\n+16\\nPUMA\\nRebound V6, Zapatillas Unisex Adulto\\n4,64,6 de 5 estrellas (4,7 mil)\\n34,67€IVA no incluido\\nPrecio, página del producto42,64€ IVA incluido Recomendado: 71,11 €Recomendado: 71,11€\\nEntrega GRATIS el lun, 23 de jun\\nEntrega más rápida mañana, 18 de jun\\nAñadir a la cesta\\nadidas Front Court Shoes, Zapatillas de Baloncesto Unisex Adulto\\n+15\\nadidas\\nFront Court Shoes, Zapatillas de Baloncesto Unisex Adulto\\n4,44,4 de 5 estrellas (20)\\n48,29€IVA no incluido\\nPrecio, página del producto58,43€ IVA incluido\\n58,26 € IVA incluido, con descuentos por cantidad\\nEntrega GRATIS el vie, 20 de jun\\nAñadir a la cesta\\nZapatillas de Baloncesto para Hombre Mujeres clásicas Suela Casuales Moda Zapatos Deporte Antideslizantes,Fitness, Camina...\\n+1\\nAirJo\\nZapatillas de Baloncesto para Hombre Mujeres clásicas Suela Casuales Moda Zapatos Deporte Antideslizantes,Fitness, Caminar, Informales\\n4,64,6 de 5 estrellas (3)\\nPrecio, página del producto40,65€\\nEntrega por 19,99 € entre el 27 de jun - 18 de jul\\nAñadir a la cesta\\nHixingo Zapatillas de Baloncesto Hombre, Basketball Shoes Deportivas Zapatillas Deportivas Transpirable, Sneakers Unisex A...\\n+1\\nHixingo\\nZapatillas de Baloncesto Hombre, Basketball Shoes Deportivas Zapatillas Deportivas Transpirable, Sneakers Unisex Adulto Zapatillas de Correr\\n3,73,7 de 5 estrellas (13)\\nVer opciones\\nOfertas destacadas no disponibles\\n25,99 €(1 nueva oferta)\\nUnder Armour UA Lockdown 7 Low, Zapatillas de Baloncesto Unisex Adulto\\n+6\\nUnder Armour\\nUA Lockdown 7 Low, Zapatillas de Baloncesto Unisex Adulto\\n4,44,4 de 5 estrellas (206)\\n37,15€IVA no incluido\\nPrecio, página del producto45,69€ IVA incluido Recomendado: 76,24 €Recomendado: 76,24€\\nEntrega GRATIS el lun, 23 de jun\\nEntrega más rápida mañana, 18 de jun\\nAñadir a la cesta\\nUnder Armour UA Jet \\'23, Zapatillas de Baloncesto Unisex Adulto\\n+8\\nUnder Armour\\nUA Jet \\'23, Zapatillas de Baloncesto Unisex Adulto\\n4,24,2 de 5 estrellas (769)\\n45,83€IVA no incluido\\nPrecio, página del producto56,37€ IVA incluido Recomendado: 86,41 €Recomendado: 86,41€\\nEntrega GRATIS el lun, 23 de jun\\nEntrega más rápida el vie, 20 de jun\\nAñadir a la cesta\\nadidas Trae Unlimited, Zapatillas de Baloncesto Unisex Adulto\\nadidas\\nTrae Unlimited, Zapatillas de Baloncesto Unisex Adulto\\n4,54,5 de 5 estrellas (44)\\n40,70€IVA no incluido\\nPrecio, página del producto50,06€ IVA incluido\\nEntrega GRATIS el lun, 23 de jun\\nEntrega más rápida el vie, 20 de jun\\nAñadir a la cesta\\nZapatillas de Baloncesto para Hombre Zapatillas Deportivas cómodas de Malla para Caminar Zapatillas Ligeras de Moda para C...\\nMoudn\\nZapatillas de Baloncesto para Hombre Zapatillas Deportivas cómodas de Malla para Caminar Zapatillas Ligeras de Moda para Correr al Aire Libre\\n4,34,3 de 5 estrellas (17)\\nPrecio, página del producto46,99€\\nEntrega GRATIS el lun, 23 de jun\\nAñadir a la cesta\\nIFIKK Zapatillas de baloncesto para hombre, transpirables, zapatillas de baloncesto para mujer, botas de baloncesto de cal...\\nIFIKK\\nZapatillas de baloncesto para hombre, transpirables, zapatillas de baloncesto para mujer, botas de baloncesto de calle, Af022, 40 EU\\nPrecio, página del producto40,65€\\nEntrega por 22,99 € entre el 27 de jun - 17 de jul\\nAñadir a la cesta\\nNIKE Court Vision Mid Next Nature, Zapatillas Hombre\\nNIKE\\nCourt Vision Mid Next Nature, Zapatillas Hombre\\n4,54,5 de 5 estrellas (883)\\n45,41€IVA no incluido\\nPrecio, página del producto55,85€ IVA incluido Recomendado: 91,48 €Recomendado: 91,48€\\nEntrega GRATIS el lun, 23 de jun\\nEntrega más rápida el vie, 20 de jun\\nAñadir a la cesta\\nZapatillas de Skate clásicas para Hombre, Estilo Retro, para Baloncesto, Estilo Casual, para Correr, Caminar\\n+18\\nMarbury\\nZapatillas de Skate clásicas para Hombre, Estilo Retro, para Baloncesto, Estilo Casual, para Correr, Caminar\\n3,93,9 de 5 estrellas (534)\\nVer opciones\\nOfertas destacadas no disponibles\\n45,99 €(1 nueva oferta)\\nUnder Armour UA Lockdown 7, Zapatillas de Baloncesto Unisex Adulto\\nUnder Armour\\nUA Lockdown 7, Zapatillas de Baloncesto Unisex Adulto\\n4,34,3 de 5 estrellas (128)\\n57,58€IVA no incluido\\nPrecio, página del producto69,67€ IVA incluido Recomendado: 75,00 €Recomendado: 75,00€\\nAhorra 7% en más de 2 unidades\\nEntrega GRATIS el vie, 20 de jun\\nAñadir a la cesta\\nadidas Hoops 3.0 Mid Lifestyle Basketball Classic Vintage Shoes, Zapatillas Hombre\\n+9\\nadidas\\nHoops 3.0 Mid Lifestyle Basketball Classic Vintage Shoes, Zapatillas Hombre\\n4,64,6 de 5 estrellas (4,3 mil)\\n37,98€IVA no incluido\\nPrecio, página del producto46,72€ IVA incluido Recomendado: 71,16 €Recomendado: 71,16€\\nEntrega GRATIS el lun, 23 de jun\\nEntrega más rápida el jue, 19 de jun\\nAñadir a la cesta\\nMás vendido\\nAnuncio patrocinado: SAGUARO Barefoot Zapatillas de Trail Running Minimalistas Zapatillas de Deporte Exterior Interior Zap...\\n+ 27 colores o estampados diferentes\\nPatrocinado \\nSAGUARO\\nBarefoot Zapatillas de Trail Running Minimalistas Zapatillas de Deporte Exterior Interior Zapatos de Deportes Acuaticos,Unisex-Adulto\\n4,44,4 de 5 estrellas (18,4 mil)\\nPrecio, página del producto39,74€ Recomendado: 46,75 €Recomendado: 46,75€\\nEntrega GRATIS el lun, 23 de jun\\nAñadir a la cesta\\nAnuncio patrocinado: Feethit Zapatillas de Deporte Zapatillas Running Hombre Correr Jogging Caminar Bambas Gimnasio Fitnes...\\n+ 9 colores o estampados diferentes\\nPatrocinado \\nFeethit\\nZapatillas de Deporte Zapatillas Running Hombre Correr Jogging Caminar Bambas Gimnasio Fitness Atlético Tenis Trabajo Sneakers Ligeros Transpirables Zapatillas Deportivas Hombre\\n4,44,4 de 5 estrellas (12,4 mil)\\nPrecio, página del producto28,97€ Recomendado: 36,58 €Recomendado: 36,58€\\nEntrega GRATIS el lun, 23 de jun en pedidos superiores a 35 € en enviados por Amazon\\nEntrega más rápida el vie, 20 de jun\\nAñadir a la cesta\\nMás vendido\\nAnuncio patrocinado: DIVABONNA 12 Pares Calcetines Tobilleros Hombre Mujer - Calcetines Cortos Hombre Mujer de Algodón Tra...\\n+ 3 colores o estampados diferentes\\nPatrocinado \\nDIVABONNA\\n12 Pares Calcetines Tobilleros Hombre Mujer - Calcetines Cortos Hombre Mujer de Algodón Transpirable Suaves Cómodos Ajuste Sin Caerse y Duraderos\\n4,34,3 de 5 estrellas (4,4 mil)\\n11,77€IVA no incluido\\nPrecio, página del producto14,24€ IVA incluido (1,19€/unidad)\\nEntrega GRATIS el lun, 23 de jun en pedidos superiores a 35 € en enviados por Amazon\\nEntrega más rápida mañana, 18 de jun\\nAñadir a la cesta\\nadidas Hoops 3.0 Mid Lifestyle Basketball Classic Fur Lining Winterized Shoes, Zapatos Hombre\\n+2\\nadidas\\nHoops 3.0 Mid Lifestyle Basketball Classic Fur Lining Winterized Shoes, Zapatos Hombre\\n4,54,5 de 5 estrellas (663)\\n33,05€IVA no incluido\\nPrecio, página del producto40,65€ IVA incluido\\nEntrega GRATIS el lun, 23 de jun\\nAñadir a la cesta\\nZapatillas de Baloncesto para Hombre,Air Retro Skate clásicas Suela de Goma,Moda Zapatos Deporte Antideslizantes,Botas de ...\\n+17\\nManzoor\\nZapatillas de Baloncesto para Hombre,Air Retro Skate clásicas Suela de Goma,Moda Zapatos Deporte Antideslizantes,Botas de Baloncesto para Entrenamiento al Aire Libre\\n4,64,6 de 5 estrellas (7)\\nPrecio, página del producto56,91€\\nEntrega por 19,99 € entre el 27 de jun - 18 de jul\\nAñadir a la cesta\\nadidas Ownthegame, Running Shoe Unisex Adulto\\n+31\\nadidas\\nOwnthegame, Running Shoe Unisex Adulto\\n4,54,5 de 5 estrellas (6,1 mil)\\n45,81€IVA no incluido\\nPrecio, página del producto55,43€ IVA incluido\\nEntrega GRATIS el vie, 20 de jun\\nAñadir a la cesta\\nLotto, Zapatillas Unisex Adulto\\nLotto\\nZapatillas Unisex Adulto\\n3,73,7 de 5 estrellas (4)\\n30,05€IVA no incluido\\nPrecio, página del producto36,96€ IVA incluido\\nEntrega GRATIS el lun, 23 de jun\\nEntrega más rápida el vie, 20 de jun\\nAñadir a la cesta\\nadidas Hoops Mid Shoes, Zapatillas Unisex niños\\n+8\\nadidas\\nHoops Mid Shoes, Zapatillas Unisex niños\\n4,64,6 de 5 estrellas (2 mil)\\n29,81€IVA no incluido\\nPrecio, página del producto36,67€ IVA incluido Recomendado: 50,82 €Recomendado: 50,82€\\nEntrega GRATIS el lun, 23 de jun\\nEntrega más rápida el vie, 20 de jun\\nAñadir a la cesta\\nWOWEI Zapatillas de Baloncesto para Hombre Aire Antideslizantes Hombre Zapatillas de Deporte Moda Calzado de Baloncesto Za...\\n+26\\nWOWEI\\nZapatillas de Baloncesto para Hombre Aire Antideslizantes Hombre Zapatillas de Deporte Moda Calzado de Baloncesto Zapatos de Baloncesto Masculino Gimnasio\\n5,05,0 de 5 estrellas (1)\\nPrecio, página del producto40,65€\\nEntrega por 21,99 € entre el 27 de jun - 17 de jul\\nAñadir a la cesta\\nadidas Ownthegame 3.0 Shoes, Zapatillas de Baloncesto Unisex Adulto\\n+9\\nadidas\\nOwnthegame 3.0 Shoes, Zapatillas de Baloncesto Unisex Adulto\\n4,24,2 de 5 estrellas (117)\\n36,77€IVA no incluido\\nPrecio, página del producto45,23€ IVA incluido Recomendado: 55,90 €Recomendado: 55,90€\\nEntrega GRATIS el vie, 20 de jun\\nAñadir a la cesta\\nZapatillas Deportivas Multicolores de Moda for Hombre for Baloncesto, Running, Ropa Informal\\n+ 2 colores o estampados diferentes\\nBINQER\\nZapatillas Deportivas Multicolores de Moda for Hombre for Baloncesto, Running, Ropa Informal\\nPrecio, página del producto37,85€\\nEntrega por 9,99 € entre el 3 - 8 de jul\\nAñadir a la cesta\\nPUMA Rbd Game, Sneaker Unisex Adulto\\n+13\\nPUMA\\nRbd Game, Sneaker Unisex Adulto\\n4,54,5 de 5 estrellas (3 mil)\\n42,15€IVA no incluido\\nPrecio, página del producto51,84€ IVA incluido Recomendado: 86,36 €Recomendado: 86,36€\\nEntrega GRATIS el lun, 23 de jun\\nEntrega más rápida mañana, 18 de jun\\nAñadir a la cesta\\nPUMA Club II Era, Sneaker Unisex Adulto\\n+6\\nPUMA\\nClub II Era, Sneaker Unisex Adulto\\n4,54,5 de 5 estrellas (838)\\n34,54€IVA no incluido\\nPrecio, página del producto42,48€ IVA incluido Recomendado: 66,03 €Recomendado: 66,03€\\nEntrega GRATIS el lun, 23 de jun\\nEntrega más rápida mañana, 18 de jun\\n 1 aspecto sostenibles\\nAñadir a la cesta\\nadidas Hoops 4.0 Mid Shoes, Zapatillas Unisex Adulto\\n+2\\nadidas\\nHoops 4.0 Mid Shoes, Zapatillas Unisex Adulto\\n4,34,3 de 5 estrellas (49)\\n46,27€IVA no incluido\\nPrecio, página del producto56,91€ IVA incluido Recomendado: 71,16 €Recomendado: 71,16€\\nEntrega GRATIS el vie, 20 de jun\\nAñadir a la cesta\\nPUMA Varion II, Zapatillas de Deporte Unisex Adulto\\n+2\\nPUMA\\nVarion II, Zapatillas de Deporte Unisex Adulto\\n4,44,4 de 5 estrellas (798)\\n34,67€IVA no incluido\\nPrecio, página del producto42,64€ IVA incluido Recomendado: 60,95 €Recomendado: 60,95€\\nEntrega GRATIS el mar, 24 de jun\\nAñadir a la cesta\\nNIKE Jordan Access, Zapatillas de básquetbol Hombre\\n+2\\nNIKE\\nJordan Access, Zapatillas de básquetbol Hombre\\n4,44,4 de 5 estrellas (2,9 mil)\\n99,13€IVA no incluido\\nPrecio, página del producto121,93€ IVA incluido\\nEntrega GRATIS el lun, 23 de jun\\nEntrega más rápida el vie, 20 de jun\\nAñadir a la cesta\\nAnuncio patrocinado: adidas Handball Spezial, Zapatillas Hombre\\n+ 15 colores o estampados diferentes\\nPatrocinado \\nadidas\\nHandball Spezial, Zapatillas Hombre\\n4,44,4 de 5 estrellas (4,3 mil)\\n94,09€IVA no incluido\\nPrecio, página del producto115,73€ IVA incluido\\nEntrega por 10 € entre el 23 - 25 de jun\\nSólo queda(n) 5 en stock.\\nAñadir a la cesta\\nAnuncio patrocinado: PUMA Smash V2 L, Zapatillas de Deporte Unisex Adulto\\n+ 14 colores o estampados diferentes\\nPatrocinado \\nPUMA\\nSmash V2 L, Zapatillas de Deporte Unisex Adulto\\n4,44,4 de 5 estrellas (88,7 mil)\\n45,45€IVA no incluido\\nPrecio, página del producto55,90€ IVA incluido\\nEntrega GRATIS el lun, 23 de jun\\nEntrega más rápida mañana, 18 de jun\\n 1 aspecto sostenibles\\nVer opciones\\nAnuncio patrocinado: ESTRO Zuecos Hombre Verano Goma - Unisexo Zuecos Mujer Verano Goma Ligero Zapatillas Verano PZ1\\n+ 22 colores o estampados diferentes\\nPatrocinado \\nESTRO\\nZuecos Hombre Verano Goma - Unisexo Zuecos Mujer Verano Goma Ligero Zapatillas Verano PZ1\\n4,24,2 de 5 estrellas (741)\\nPrecio, página del producto13,84€\\nAhorra 2% en más de 5 unidades\\nEntrega GRATIS entre el 3 - 7 de jul en pedidos superiores a 35 € en enviados por Amazon\\nEntrega más rápida el jue, 3 de jul\\nAñadir a la cesta\\nWOWEI Zapatillas de Baloncesto para Hombre Antideslizantes Zapatos de Baloncesto Aire Libre Deportivas Calzado de Balonces...\\n+24\\nWOWEI\\nZapatillas de Baloncesto para Hombre Antideslizantes Zapatos de Baloncesto Aire Libre Deportivas Calzado de Baloncesto Hombre Masculino Zapatillas Gimnasio\\n3,93,9 de 5 estrellas (14)\\nPrecio, página del producto45,73€\\nEntrega por 21,99 € entre el 27 de jun - 17 de jul\\nAñadir a la cesta\\nPUMA Court Pro Basketball Shoe, Zapatillas Hombre\\n+1\\nPUMA\\nCourt Pro Basketball Shoe, Zapatillas Hombre\\n4,64,6 de 5 estrellas (104)\\n53,04€IVA no incluido\\nPrecio, página del producto65,24€ IVA incluido\\nEntrega GRATIS el lun, 23 de jun\\nEntrega más rápida el vie, 20 de jun\\nAñadir a la cesta\\nUnder Armour Mens UA Lockdown 7 Low Basketball Trainers\\nUnder Armour\\nUnder Armour Mens UA Lockdown 7 Low Basketball Trainers\\n4,44,4 de 5 estrellas (34)\\n42,10€IVA no incluido\\nPrecio, página del producto50,94€ IVA incluido Recomendado: 75,00 €Recomendado: 75,00€\\nAhorra 32% en más de 2 unidades\\nEntrega GRATIS el vie, 20 de jun\\nAñadir a la cesta\\nadidas Bounce Legends Trainers, Zapatillas de Baloncesto Unisex Adulto\\nadidas\\nBounce Legends Trainers, Zapatillas de Baloncesto Unisex Adulto\\n4,04,0 de 5 estrellas (25)\\n46,22€IVA no incluido\\nPrecio, página del producto55,93€ IVA incluido Recomendado: 90,00 €Recomendado: 90,00€\\nAhorra 38% en más de 2 unidades\\nEntrega GRATIS el vie, 20 de jun\\nAñadir a la cesta\\nZapatillas de Baloncesto Zapatillas Deportivas Masculinas Zapatillas de Baloncesto Masculinas Zapatillas de Moda Zapatilla...\\nCZHIHANEG\\nZapatillas de Baloncesto Zapatillas Deportivas Masculinas Zapatillas de Baloncesto Masculinas Zapatillas de Moda Zapatillas Deportivas Grandes\\n3,53,5 de 5 estrellas (14)\\nPrecio, página del producto57,93€\\nEntrega por 5,50 € entre el 27 de jun - 18 de jul\\nAñadir a la cesta\\nKmrlofiy Zapatillas de Baloncesto para Hombre Antideslizantes Calzado de Baloncesto para Hombre Masculino Zapatos de Balon...\\n+25\\nKmrlofiy\\nZapatillas de Baloncesto para Hombre Antideslizantes Calzado de Baloncesto para Hombre Masculino Zapatos de Baloncesto Aire Libre Deportivas Calzado\\n3,53,5 de 5 estrellas (10)\\nPrecio, página del producto37,60€\\nEntrega por 12,99 € entre el 25 de jun - 2 de jul\\nAñadir a la cesta\\nUnder Armour UA Lockdown 7 Zapatillas de Baloncesto para Hombre y Mujer, Deportivas Unisex con mediasuela de EVA, Color Ro...\\nUnder Armour\\nUA Lockdown 7 Zapatillas de Baloncesto para Hombre y Mujer, Deportivas Unisex con mediasuela de EVA, Color Rojo/Negro/Rojo, 45.5 EU\\n4,44,4 de 5 estrellas (18)\\n49,85€IVA no incluido\\nPrecio, página del producto61,32€ IVA incluido Recomendado: 76,24 €Recomendado: 76,24€\\nEntrega GRATIS el lun, 23 de jun\\nEntrega más rápida mañana, 18 de jun\\nAñadir a la cesta\\nUnder Armour Jet 23, Zapatillas Unisex Adulto\\n+11\\nUnder Armour\\nJet 23, Zapatillas Unisex Adulto\\n4,54,5 de 5 estrellas (174)\\nPrecio, página del producto59,90€ Recomendado: 80,00 €Recomendado: 80,00€\\nEntrega por 20 € entre el 25 de jun - 2 de jul\\nAñadir a la cesta\\nRecíbelo más rápido\\n45,90€IVA no incluido\\nPrecio, página del producto56,00€ IVA incluido Recomendado: 80,00 €Recomendado: 80,00€\\nEntrega por 40 € entre el 23 - 25 de jun\\nUnder Armour Unisex UA Lockdown 7 Basketball Schuhe\\nUnder Armour\\nUnisex UA Lockdown 7 Basketball Schuhe\\n4,64,6 de 5 estrellas (42)\\n55,88€IVA no incluido\\nPrecio, página del producto67,61€ IVA incluido Recomendado: 75,00 €Recomendado: 75,00€\\nAhorra 10% en más de 2 unidades\\nEntrega GRATIS el vie, 20 de jun\\nAñadir a la cesta\\nadidas Lillard Dame Certified 2 Low Trainers, Zapatillas de Baloncesto Unisex Adulto\\nadidas\\nLillard Dame Certified 2 Low Trainers, Zapatillas de Baloncesto Unisex Adulto\\n5,05,0 de 5 estrellas (7)\\n45,62€IVA no incluido\\nPrecio, página del producto56,11€ IVA incluido Recomendado: 81,33 €Recomendado: 81,33€\\nEntrega GRATIS el lun, 23 de jun\\nEntrega más rápida el vie, 20 de jun\\nAñadir a la cesta\\nLJFIWY Zapatillas de baloncesto para hombre, suela de goma, antideslizantes, para entrenamiento al aire libre, botas de ba...\\n+1\\nLJFIWY\\nZapatillas de baloncesto para hombre, suela de goma, antideslizantes, para entrenamiento al aire libre, botas de baloncesto, regalo\\nPrecio, página del producto30,49€\\nEntrega por 5,99 € entre el 30 de jun - 21 de jul\\nAñadir a la cesta\\nNIKE Vision Low, Zapatillas Hombre\\nNIKE\\nVision Low, Zapatillas Hombre\\n4,34,3 de 5 estrellas (1,2 mil)\\n62,98€IVA no incluido\\nPrecio, página del producto76,20€ IVA incluido Recomendado: 79,99 €Recomendado: 79,99€\\nEntrega GRATIS entre el 23 - 25 de jun\\nAñadir a la cesta\\nRecíbelo más rápido\\n64,38€IVA no incluido\\nPrecio, página del producto79,19€ IVA incluido Recomendado: 81,32 €Recomendado: 81,32€\\nEntrega GRATIS el lun, 23 de jun\\nEntrega más rápida mañana, 18 de jun\\nReebok ATR Chill, Zapatos DE Baloncesto Unisex Adulto\\nReebok\\nATR Chill, Zapatos DE Baloncesto Unisex Adulto\\n4,84,8 de 5 estrellas (7)\\n53,10€IVA no incluido\\nPrecio, página del producto65,31€ IVA incluido\\nEntrega GRATIS el lun, 23 de jun\\nAñadir a la cesta\\nFeethit Zapatillas de Deporte Zapatillas Running Hombre Correr Jogging Caminar Bambas Gimnasio Fitness Atlético Tenis Trab...\\n+4\\nFeethit\\nZapatillas de Deporte Zapatillas Running Hombre Correr Jogging Caminar Bambas Gimnasio Fitness Atlético Tenis Trabajo Sneakers Ligeros Transpirables Zapatillas Deportivas Hombre\\n4,44,4 de 5 estrellas (12,4 mil)\\nPrecio, página del producto28,97€ Recomendado: 36,58 €Recomendado: 36,58€\\nEntrega GRATIS el lun, 23 de jun en pedidos superiores a 35 € en enviados por Amazon\\nEntrega más rápida el vie, 20 de jun\\nAñadir a la cesta\\nReebok Work N Cushion 4.0, Zapatillas de Deporte Hombre\\n+4\\nReebok\\nWork N Cushion 4.0, Zapatillas de Deporte Hombre\\n4,24,2 de 5 estrellas (7,8 mil)\\n39,66€IVA no incluido\\nPrecio, página del producto48,78€ IVA incluido Recomendado: 61,00 €Recomendado: 61,00€\\nEntrega GRATIS el lun, 23 de jun\\nEntrega más rápida mañana, 18 de jun\\nAñadir a la cesta\\nadidas Cross \\'Em Up Select Shoes, Zapatillas de Baloncesto Unisex niños\\nadidas\\nCross \\'Em Up Select Shoes, Zapatillas de Baloncesto Unisex niños\\n4,54,5 de 5 estrellas (94)\\n38,38€IVA no incluido\\nPrecio, página del producto47,21€ IVA incluido Recomendado: 66,08 €Recomendado: 66,08€\\nEntrega GRATIS el lun, 23 de jun\\nEntrega más rápida mañana, 18 de jun\\nAñadir a la cesta\\nPUMA Rebound V6 Low, Zapatillas Unisex Adulto\\n+30\\nPUMA\\nRebound V6 Low, Zapatillas Unisex Adulto\\n4,54,5 de 5 estrellas (2,3 mil)\\n42,93€IVA no incluido\\nPrecio, página del producto52,80€ IVA incluido Recomendado: 71,11 €Recomendado: 71,11€\\nEntrega GRATIS el lun, 23 de jun\\nEntrega más rápida mañana, 18 de jun\\nAñadir a la cesta\\nNIKE Court Vision Low Better, Zapatillas de básquetbol Hombre\\n+12\\nNIKE\\nCourt Vision Low Better, Zapatillas de básquetbol Hombre\\n4,44,4 de 5 estrellas (8,2 mil)\\n53,71€IVA no incluido\\nPrecio, página del producto66,06€ IVA incluido Recomendado: 76,24 €Recomendado: 76,24€\\nEntrega GRATIS el lun, 23 de jun\\nEntrega más rápida mañana, 18 de jun\\nAñadir a la cesta\\nFILA Rega Nf, Zapatillas Hombre\\n+3\\nFILA\\nRega Nf, Zapatillas Hombre\\n5,05,0 de 5 estrellas (2)\\n42,11€IVA no incluido\\nPrecio, página del producto51,80€ IVA incluido Recomendado: 61,00 €Recomendado: 61,00€\\nEntrega GRATIS el lun, 23 de jun\\nAñadir a la cesta\\nAnuncio patrocinado: DimaiGlobal Zapatillas de Trekking para Hombres Verano Sandalias Deportivas Pescador Playa Zapatos Ca...\\n+ 3 colores o estampados diferentes\\nPatrocinado \\nDimaiGlobal\\nZapatillas de Trekking para Hombres Verano Sandalias Deportivas Pescador Playa Zapatos Casuales Transpirable Zapatilla de Senderismo\\n4,14,1 de 5 estrellas (375)\\nPrecio, página del producto32,93€ Recomendado: 36,58 €Recomendado: 36,58€\\nEntrega GRATIS el lun, 23 de jun en pedidos superiores a 35 € en enviados por Amazon\\nEntrega más rápida el vie, 20 de jun\\nAñadir a la cesta\\nAnuncio patrocinado: DREAM PAIRS Sandalias Hombre Verano Trekking Deportivas Playa Antideslizantes Zapatos con Punta Cerra...\\n+ 2 colores o estampados diferentes\\nPatrocinado \\nDREAM PAIRS\\nSandalias Hombre Verano Trekking Deportivas Playa Antideslizantes Zapatos con Punta Cerrada de Senderismo\\n4,54,5 de 5 estrellas (295)\\nPrecio, página del producto36,58€ Mediano: 40,65 €Mediano: 40,65€\\nEntrega GRATIS el lun, 23 de jun\\nEntrega más rápida el jue, 19 de jun\\nAñadir a la cesta\\nAnuncio patrocinado: Zapatillas de Estar por Casa Zuecos Mujer Hombre de Playa Respirable Verano Antideslizante Cómodos Li...\\n+ 11 colores o estampados diferentes\\nPatrocinado \\nSisttke\\nZapatillas de Estar por Casa Zuecos Mujer Hombre de Playa Respirable Verano Antideslizante Cómodos Ligero Pantuflas de Interior Exterior\\n4,14,1 de 5 estrellas (894)\\n22,27€IVA no incluido\\nPrecio, página del producto26,95€ IVA incluido Recomendado: 30,99 €Recomendado: 30,99€\\nAhorros del 13 % incluido para empresas\\nEntrega GRATIS el mié, 25 de jun en pedidos superiores a 35 € en enviados por Amazon\\nSólo queda(n) 2 en stock.\\nAñadir a la cesta\\nAnuncio patrocinado: Zuecos para Hombre y Mujer Ligeros Zapatillas de Jardin Talla 36-48\\n+ 10 colores o estampados diferentes\\nPatrocinado \\nGaatpot\\nZuecos para Hombre y Mujer Ligeros Zapatillas de Jardin Talla 36-48\\n4,04,0 de 5 estrellas (2 mil)\\n23,13€IVA no incluido\\nPrecio, página del producto27,99€ IVA incluido\\nAhorra 15 % con un cupón (tamaños y colores limitados)\\nEntrega GRATIS el lun, 23 de jun en pedidos superiores a 35 € en enviados por Amazon\\nEntrega más rápida el vie, 20 de jun\\nAñadir a la cesta\\nAnuncio patrocinado: ONCAI Sandalias Hombre, Sandalias de Senderismo para Deporte al Aire Libre con Suela Ortopédica y Sop...\\n+ 5 colores o estampados diferentes\\nPatrocinado \\nONCAI\\nSandalias Hombre, Sandalias de Senderismo para Deporte al Aire Libre con Suela Ortopédica y Soporte de Arco Plantar Verano Suela de Goma, Talla EU 40-48.\\n4,34,3 de 5 estrellas (10)\\nOferta flash\\nPrecio, página del producto43,20€ Recomendado: 60,98 €Recomendado: 60,98€\\nEntrega GRATIS el mié, 25 de jun\\nAñadir a la cesta\\nAnuncio patrocinado: ARRIGO BELLO Zapatillas Hombre Zapatos Sneakers Vestir Casual Deportivas Caminar Correr Deportivas Gi...\\n+ 4 colores o estampados diferentes\\nPatrocinado \\nARRIGO BELLO\\nZapatillas Hombre Zapatos Sneakers Vestir Casual Deportivas Caminar Correr Deportivas Gimnasio Moda cómodo Viajar Talla 41-46\\n4,24,2 de 5 estrellas (806)\\n40,07€IVA no incluido\\nPrecio, página del producto48,49€ IVA incluido\\nEntrega GRATIS el lun, 23 de jun\\nAñadir a la cesta\\nRASEARY Zapatos de Seguridad para Hombre Mujer Ligeros Zapatillas de Seguridad con Punta de Acero Zapatos de Trabajo Zapat...\\nPatrocinado \\nRASEARY Zapatos de Seguridad para Hombre Mujer Ligeros Zapatillas de Seguridad con Punta de Acero Zapatos de Trabajo Zapatillas Trabajo Comodo Antideslizantes\\n4,44,4 de 5 estrellas (423)\\nPrecio, página del producto49,99€\\nAhorra 15 % con un cupón (tamaños y colores limitados)\\nEntrega GRATIS el lun, 23 de jun\\nEntrega más rápida mañana, 18 de jun\\nAnterior1237Siguiente\\nMarcas relacionadas con la búsqueda\\nPatrocinado\\nZUSERIS\\nZUSERIS\\nZapatillas Sin Cordones HombreZapatillas Sin Cordones Hombre\\nSKECHERS\\nSKECHERS\\nCompra la colecciónCompra la colección\\nLARNMERN PRO\\nLARNMERN PRO\\nZapatos de SeguridadZapatos de Seguridad\\n¿Necesitas ayuda?\\nVisita la sección de ayuda o ponte en contacto con nosotros\\n\\nPatrocinado \\nVolver al menú de filtros\\nSaltar a los resultados de búsqueda principales\\nCon derecho a envío gratis\\n\\nEnvío gratis por Amazon\\nEnvío GRATIS con Amazon para destinos elegibles\\nGénero\\n\\nHombre\\n\\nNiño\\n\\nUnisex\\nMarcas\\n\\nNIKE\\n\\nadidas\\n\\nUnder Armour\\n\\nReebok\\n\\nPUMA\\n\\nFILA\\nTalla de zapatos para hombres\\n36\\n37\\n38\\n39\\n40\\n40.5\\n41\\n41.5\\n42\\n42.5\\n43\\n43.5\\n44\\n44.5\\n45\\n45.5\\n46\\n46.5\\n47\\n48\\n48.5\\n49\\n49.5\\n50\\n51\\n52\\n53.5\\nPrecio\\n4 EUR\\n–\\n330 EUR y más\\n\\n\\nIr\\nDe 0 a 45 EUR\\nDe 45 a 60 EUR\\nMás de 60 EUR\\nOfertas y ahorros\\nTodos los ahorros\\nSelección de marcas\\n\\nMarcas prémium\\n\\nMarcas populares\\nOpiniones de los clientes\\n4 Stars o más\\nColor\\nAltura caña\\n\\nCaña alta\\n\\nCaña baja\\n\\nCaña media\\nDepartamento\\nCalzado de baloncesto para hombre\\nZapatillas casual para hombre\\nCalzados de running para hombre\\nCalzados para correr en asfalto para hombre\\nCalzado deportivo para niño\\nCalzado deportivo para mujer\\nCalzado deportivo para niña\\nCalzado deportivo para hombre\\nVendedor\\n\\nZAOOON\\n\\nHaoyeou\\nVer más\\nCaracterísticas especiales del calzado\\n\\nLigero\\n\\nTranspirable\\n\\nAntideslizante\\n\\nFlexible\\n\\nResistente a golpes\\n\\nResistente al agua\\n\\nImpermeable\\nTipo de cierre de los zapatos\\n\\nCordones\\n\\nPull on\\n\\nCuerda elástica\\nMaterial exterior del calzado\\n\\nMalla\\n\\nCaucho Natural\\n\\nCuero\\n\\nAnte\\n\\nCuero sintético\\n\\nLona\\n\\nPoliéster\\nEnvío internacional\\n\\nApto para envío internacional\\nTipo de factura\\n\\nFactura con IVA descargable\\nGrosor de la suela\\n\\n3X-Estrecho\\n\\nXX-Estrecho\\n\\nX-Estrecho\\n\\nEstrecho\\n\\nMediano\\n\\nAncho\\n\\nX-Ancho\\n\\nXX-Ancho\\n\\n3X-Ancho\\nProductos más sostenibles\\n\\nClimate Pledge Friendly\\nForro de calzado\\n\\nCaucho natural\\n\\nCaucho sintético\\n\\nAlgodón\\n\\nSin forro\\n\\nAnte\\n\\nNailon\\n\\nPoliéster\\n\\nPatrocinado \\n\\nPatrocinado \\n¿Tienes una idea para ayudarnos a mejorar?Enviar comentarios›\\nConócenos\\nEmpleo\\nAcerca de nosotros\\nTrabajar con Amazon\\nVender en Amazon Business\\nServicio de Amazon\\nAnunciarse en Amazon\\nDéjanos ayudarte\\nAtención al Cliente\\nImportes de envío y políticas de venta\\nPreguntas frecuentes de Business\\nContáctanos\\nSoluciones de empresa\\nAplicación de Amazon Business\\nCaracterísticas de Amazon Business\\nBusiness Prime\\nPago por transferencia pospuesto\\nFacturas con IVA\\nGestiona tu empresa\\nAñadir personas\\nEnvío y facturación\\nPolít. y aprobs.\\nCertificaciones\\nIntegración de sistemas\\nComprar para tu empresa\\nDescuentos por cantidad\\nOfertas del día\\nVolver a comprar\\nTu punto de ahorro\\namazon.es\\nEscanea el código QR para descargar la nueva aplicación de Amazon Business\\namazon.es amazon.es\\namazon.es\\nCastellano España\\nAlemania\\nFrancia\\nIndia\\nItalia\\nJapón\\nReino Unido\\nEstados Unidos\\nAlexa\\nAnalíticas accionables\\npara la web\\t\\tAmazon Web Services\\nServicios Cloud Computing\\nde Amazon\\t\\tAudible\\nDescargar\\nAudiolibros\\t\\tServicios de marketing de Amazon\\n\\nSoluciones publicitarias de autoservicio\\t\\tPagos de Amazon\\nInicio de sesión y pago\\ncon Amazon\\t\\nCondiciones de Uso y Venta\\nAviso de privacidad\\nCookies\\nPublicidad en Internet\\n© 1996-2025, Amazon.com, Inc. o sus afiliados'"
      ]
     },
     "execution_count": 4,
     "metadata": {},
     "output_type": "execute_result"
    }
   ],
   "source": [
    "import os\n",
    "from openai import OpenAI\n",
    "from pydantic import BaseModel, Field\n",
    "import pandas as pd\n",
    "from dotenv import load_dotenv\n",
    "\n",
    "load_dotenv()\n",
    "\n",
    "client = OpenAI(api_key=os.getenv(\"OPENAI_API_KEY\"))\n",
    "\n",
    "class ProductInfo(BaseModel):\n",
    "    product_description: list[str] = Field(description=\"The list of descriptions of the all products in the page\")\n",
    "    product_price: list[str] = Field(description=\"The list of prices of the all products in the page\")\n",
    "    product_rating: list[str] = Field(description=\"The list of ratings of the all products in the page\")\n",
    "    product_brand: list[str] = Field(description=\"The list of brands of the all products in the page\")\n",
    "\n",
    "def load_file(file_path: str) -> str:\n",
    "    with open(file_path, \"r\") as file:\n",
    "        return file.read()\n",
    "\n",
    "def extract_product_info_with_chatgpt(product_page_raw_text: str) -> ProductInfo:\n",
    "    response = client.beta.chat.completions.parse(\n",
    "        model=\"gpt-4.1\",\n",
    "        messages=[\n",
    "            {\"role\": \"system\", \"content\": \"\"\"\n",
    "             You are a helpful assistant that extracts product information from an amazon page text.\n",
    "             You will be given a raw product page text and you will need to extract the product information:\n",
    "             - product description\n",
    "             - product price\n",
    "             - product rating\n",
    "             - product brand\n",
    "             \"\"\"},\n",
    "            {\"role\": \"user\", \"content\": product_page_raw_text}\n",
    "        ],\n",
    "        temperature=0,\n",
    "        response_format=ProductInfo\n",
    "    )\n",
    "    \n",
    "    return response.choices[0].message.parsed\n",
    "\n",
    "def transform_product_info_to_table(product_info: ProductInfo) -> pd.DataFrame:\n",
    "    columns = [\"product_description\", \"product_price\", \"product_rating\", \"product_brand\"]\n",
    "    # Zip the lists together to create rows for each product\n",
    "    data = list(zip(\n",
    "        product_info.product_description,\n",
    "        product_info.product_price,\n",
    "        product_info.product_rating,\n",
    "        product_info.product_brand\n",
    "    ))\n",
    "    df = pd.DataFrame(data, columns=columns)\n",
    "    return df\n",
    "\n",
    "file_path = \"/Users/greatmaster/Desktop/projects/oreilly-live-trainings/oreilly_live_training_llm_apps/notebooks/assets-resources/shoes_product_page_raw.txt\"\n",
    "\n",
    "product_page_text = load_file(file_path)\n",
    "\n",
    "product_page_text"
   ]
  },
  {
   "cell_type": "code",
   "execution_count": 5,
   "metadata": {},
   "outputs": [
    {
     "name": "stdout",
     "output_type": "stream",
     "text": [
      "                                  product_description  \\\n",
      "0   Own The Game 3 Shoes, Zapatillas de Baloncesto...   \n",
      "1                  Court Vision Lo Nn, Sneaker Hombre   \n",
      "2   UA Lockdown 7, Zapatillas de Baloncesto Unisex...   \n",
      "3   Zapatillas de Deporte Slip On Zapatillas Runni...   \n",
      "4                Rebound V6, Zapatillas Unisex Adulto   \n",
      "..                                                ...   \n",
      "56  Zapatillas de Estar por Casa Zuecos Mujer Homb...   \n",
      "57  Zuecos para Hombre y Mujer Ligeros Zapatillas ...   \n",
      "58  Sandalias Hombre, Sandalias de Senderismo para...   \n",
      "59  Zapatillas Hombre Zapatos Sneakers Vestir Casu...   \n",
      "60  Zapatos de Seguridad para Hombre Mujer Ligeros...   \n",
      "\n",
      "                                   product_price  \\\n",
      "0   53,68€ IVA no incluido / 66,03€ IVA incluido   \n",
      "1   46,40€ IVA no incluido / 57,07€ IVA incluido   \n",
      "2   45,45€ IVA no incluido / 55,90€ IVA incluido   \n",
      "3                                         30,49€   \n",
      "4   34,67€ IVA no incluido / 42,64€ IVA incluido   \n",
      "..                                           ...   \n",
      "56                           26,95€ IVA incluido   \n",
      "57                           27,99€ IVA incluido   \n",
      "58                                        43,20€   \n",
      "59  40,07€ IVA no incluido / 48,49€ IVA incluido   \n",
      "60                                        49,99€   \n",
      "\n",
      "                  product_rating product_brand  \n",
      "0       4,5 de 5 estrellas (306)        adidas  \n",
      "1   4,4 de 5 estrellas (2,7 mil)          NIKE  \n",
      "2       4,5 de 5 estrellas (681)  Under Armour  \n",
      "3       4,2 de 5 estrellas (655)       Giniros  \n",
      "4   4,6 de 5 estrellas (4,7 mil)          PUMA  \n",
      "..                           ...           ...  \n",
      "56      4,1 de 5 estrellas (894)       Sisttke  \n",
      "57    4,0 de 5 estrellas (2 mil)       Gaatpot  \n",
      "58       4,3 de 5 estrellas (10)         ONCAI  \n",
      "59      4,2 de 5 estrellas (806)  ARRIGO BELLO  \n",
      "60      4,4 de 5 estrellas (423)       RASEARY  \n",
      "\n",
      "[61 rows x 4 columns]\n"
     ]
    }
   ],
   "source": [
    "product_info = extract_product_info_with_chatgpt(product_page_text)\n",
    "print(transform_product_info_to_table(product_info))"
   ]
  },
  {
   "cell_type": "code",
   "execution_count": 2,
   "metadata": {
    "execution": {
     "iopub.execute_input": "2025-01-08T03:31:08.493236Z",
     "iopub.status.busy": "2025-01-08T03:31:08.492766Z",
     "iopub.status.idle": "2025-01-08T03:31:08.505508Z",
     "shell.execute_reply": "2025-01-08T03:31:08.504614Z"
    }
   },
   "outputs": [],
   "source": [
    "import os\n",
    "# loading from a .env file\n",
    "# load_dotenv(dotenv_path=\"/full/path/to/your/.env\")\n",
    "\n",
    "# or \n",
    "# if you're on google colab just uncomment below and replace with your openai api key\n",
    "# os.environ[\"OPENAI_API_KEY\"] = \"<your-openai-api-key>\""
   ]
  },
  {
   "cell_type": "code",
   "execution_count": 22,
   "metadata": {
    "execution": {
     "iopub.execute_input": "2025-01-08T03:31:08.509659Z",
     "iopub.status.busy": "2025-01-08T03:31:08.509362Z",
     "iopub.status.idle": "2025-01-08T03:31:08.513874Z",
     "shell.execute_reply": "2025-01-08T03:31:08.513162Z"
    }
   },
   "outputs": [],
   "source": [
    "MODEL = 'gpt-4o-mini'"
   ]
  },
  {
   "cell_type": "code",
   "execution_count": 23,
   "metadata": {
    "execution": {
     "iopub.execute_input": "2025-01-08T03:31:08.516761Z",
     "iopub.status.busy": "2025-01-08T03:31:08.516330Z",
     "iopub.status.idle": "2025-01-08T03:31:08.700546Z",
     "shell.execute_reply": "2025-01-08T03:31:08.700248Z"
    }
   },
   "outputs": [],
   "source": [
    "from openai import OpenAI\n",
    "client = OpenAI()\n",
    "\n",
    "def recommender_chat_bot(user_query):\n",
    "    response = client.chat.completions.create(\n",
    "        model=MODEL,\n",
    "        messages=[{\"role\": \"system\", \"content\": \"You are a chatbot system \\\n",
    "            and recommender for products about tech to a diverse group of users.\"},\n",
    "                  {\"role\": \"user\", \"content\": user_query}]\n",
    "    )\n",
    "    \n",
    "    return response.choices[0].message.content"
   ]
  },
  {
   "cell_type": "code",
   "execution_count": 24,
   "metadata": {
    "execution": {
     "iopub.execute_input": "2025-01-08T03:31:08.702046Z",
     "iopub.status.busy": "2025-01-08T03:31:08.701975Z",
     "iopub.status.idle": "2025-01-08T03:31:25.607785Z",
     "shell.execute_reply": "2025-01-08T03:31:25.606329Z"
    }
   },
   "outputs": [
    {
     "data": {
      "text/plain": [
       "'Here are 20 examples of tech products, along with their descriptions:\\n\\n- **Smartphone XZ Pro**\\n  - A flagship smartphone with a 6.8-inch OLED display, triple-lens camera with 108MP main sensor, and 5G connectivity.\\n\\n- **Wireless Noise-Cancelling Headphones**\\n  - Over-ear headphones with adaptive noise cancellation, 30-hour battery life, and touch controls for seamless audio management.\\n\\n- **4K Ultra HD Smart TV**\\n  - A 55-inch smart television with HDR support, voice-activated remote, and access to popular streaming services like Netflix and Hulu.\\n\\n- **Smart Home Hub**\\n  - A central device that connects and controls smart home devices, including lights, thermostats, and security systems through voice commands and a dedicated app.\\n\\n- **Fitness Tracker Pro**\\n  - Wearable device that monitors heart rate, sleep patterns, and activity levels with built-in GPS and smartphone notifications.\\n\\n- **VR Gaming Headset**\\n  - Immersive virtual reality headset with 120Hz refresh rate, wide field of view, and motion tracking for an unparalleled gaming experience.\\n\\n- **Portable Solar Charger**\\n  - Eco-friendly charging solution for mobile devices, featuring high-efficiency solar panels and dual USB ports for simultaneous charging.\\n\\n- **E-reader 3000**\\n  - Lightweight tablet designed for reading with glare-free display technology, adjustable front light, and weeks-long battery life.\\n\\n- **Smart Refrigerator**\\n  - Energy-efficient fridge with a touchscreen interface, internal cameras for inventory tracking, and compatibility with grocery delivery apps.\\n\\n- **Robotic Vacuum Cleaner**\\n  - Autonomous vacuum with smart mapping technology, scheduling capabilities, and voice control integration with Alexa and Google Assistant.\\n\\n- **Wireless Charging Pad**\\n  - Sleek charging base that supports fast wireless charging for compatible smartphones and earbuds with a non-slip design.\\n\\n- **Gaming Laptop Elite**\\n  - High-performance laptop equipped with the latest graphics card, 16GB RAM, and RGB backlit keyboard, optimized for gaming.\\n\\n- **Smartwatch 2.0**\\n  - Stylish smartwatch with health tracking features, customizable watch faces, and seamless integration with smartphones for notifications.\\n\\n- **Drone Camera Pro**\\n  - Compact drone featuring a 4K camera, 3-axis gimbal stabilization, and intelligent flight modes for aerial photography enthusiasts.\\n\\n- **Home Security Camera**\\n  - Wi-Fi-enabled indoor/outdoor security camera with night vision, motion detection alerts, and two-way audio for real-time communication.\\n\\n- **Digital Whiteboard**\\n  - Interactive digital display for workplaces or classrooms, allowing for collaborative brainstorming, screen sharing, and notes capturing.\\n\\n- **Bluetooth Smart Lock**\\n  - Keyless entry lock that can be managed through a smartphone app, offering remote access and temporary codes for visitors.\\n\\n- **Wearable Medical Monitor**\\n  - Device that continuously monitors vital signs such as heart rate and oxygen levels, designed for both fitness tracking and chronic condition management.\\n\\n- **Streaming Media Player**\\n  - Compact device that plugs into your TV and streams content from all major platforms with voice search functionality.\\n\\n- **AI-Powered Language Translator**\\n  - Portable device that translates spoken language in real-time, supporting multiple languages and featuring a long-lasting battery for travel convenience.\\n\\n- **Advanced Gaming Console**\\n  - Next-gen gaming system capable of 8K gaming, with cloud gaming support and an extensive library of exclusive titles. \\n\\nThese products span various categories, including consumer electronics, smart home devices, and wearables.'"
      ]
     },
     "execution_count": 24,
     "metadata": {},
     "output_type": "execute_result"
    }
   ],
   "source": [
    "def generate_data_with_chatgpt(data_example):\n",
    "    response = client.chat.completions.create(\n",
    "        model=MODEL,\n",
    "        messages=[{\"role\": \"system\", \"content\": \"You generate examples of tech products.\"},\n",
    "                  {\"role\": \"user\", \"content\": data_example}]\n",
    "    )\n",
    "    \n",
    "    return response.choices[0].message.content\n",
    "\n",
    "\n",
    "tech_products_prompt = \"Create 20 examples of tech products\\\n",
    "    with their descriptions as a list of bullet points\"\n",
    "\n",
    "data_tech = generate_data_with_chatgpt(tech_products_prompt)\n",
    "data_tech"
   ]
  },
  {
   "cell_type": "code",
   "execution_count": 25,
   "metadata": {
    "execution": {
     "iopub.execute_input": "2025-01-08T03:31:25.714078Z",
     "iopub.status.busy": "2025-01-08T03:31:25.712961Z",
     "iopub.status.idle": "2025-01-08T03:31:25.809401Z",
     "shell.execute_reply": "2025-01-08T03:31:25.763036Z"
    }
   },
   "outputs": [
    {
     "data": {
      "text/markdown": [
       "Here are 20 examples of tech products, along with their descriptions:\n",
       "\n",
       "- **Smartphone XZ Pro**\n",
       "  - A flagship smartphone with a 6.8-inch OLED display, triple-lens camera with 108MP main sensor, and 5G connectivity.\n",
       "\n",
       "- **Wireless Noise-Cancelling Headphones**\n",
       "  - Over-ear headphones with adaptive noise cancellation, 30-hour battery life, and touch controls for seamless audio management.\n",
       "\n",
       "- **4K Ultra HD Smart TV**\n",
       "  - A 55-inch smart television with HDR support, voice-activated remote, and access to popular streaming services like Netflix and Hulu.\n",
       "\n",
       "- **Smart Home Hub**\n",
       "  - A central device that connects and controls smart home devices, including lights, thermostats, and security systems through voice commands and a dedicated app.\n",
       "\n",
       "- **Fitness Tracker Pro**\n",
       "  - Wearable device that monitors heart rate, sleep patterns, and activity levels with built-in GPS and smartphone notifications.\n",
       "\n",
       "- **VR Gaming Headset**\n",
       "  - Immersive virtual reality headset with 120Hz refresh rate, wide field of view, and motion tracking for an unparalleled gaming experience.\n",
       "\n",
       "- **Portable Solar Charger**\n",
       "  - Eco-friendly charging solution for mobile devices, featuring high-efficiency solar panels and dual USB ports for simultaneous charging.\n",
       "\n",
       "- **E-reader 3000**\n",
       "  - Lightweight tablet designed for reading with glare-free display technology, adjustable front light, and weeks-long battery life.\n",
       "\n",
       "- **Smart Refrigerator**\n",
       "  - Energy-efficient fridge with a touchscreen interface, internal cameras for inventory tracking, and compatibility with grocery delivery apps.\n",
       "\n",
       "- **Robotic Vacuum Cleaner**\n",
       "  - Autonomous vacuum with smart mapping technology, scheduling capabilities, and voice control integration with Alexa and Google Assistant.\n",
       "\n",
       "- **Wireless Charging Pad**\n",
       "  - Sleek charging base that supports fast wireless charging for compatible smartphones and earbuds with a non-slip design.\n",
       "\n",
       "- **Gaming Laptop Elite**\n",
       "  - High-performance laptop equipped with the latest graphics card, 16GB RAM, and RGB backlit keyboard, optimized for gaming.\n",
       "\n",
       "- **Smartwatch 2.0**\n",
       "  - Stylish smartwatch with health tracking features, customizable watch faces, and seamless integration with smartphones for notifications.\n",
       "\n",
       "- **Drone Camera Pro**\n",
       "  - Compact drone featuring a 4K camera, 3-axis gimbal stabilization, and intelligent flight modes for aerial photography enthusiasts.\n",
       "\n",
       "- **Home Security Camera**\n",
       "  - Wi-Fi-enabled indoor/outdoor security camera with night vision, motion detection alerts, and two-way audio for real-time communication.\n",
       "\n",
       "- **Digital Whiteboard**\n",
       "  - Interactive digital display for workplaces or classrooms, allowing for collaborative brainstorming, screen sharing, and notes capturing.\n",
       "\n",
       "- **Bluetooth Smart Lock**\n",
       "  - Keyless entry lock that can be managed through a smartphone app, offering remote access and temporary codes for visitors.\n",
       "\n",
       "- **Wearable Medical Monitor**\n",
       "  - Device that continuously monitors vital signs such as heart rate and oxygen levels, designed for both fitness tracking and chronic condition management.\n",
       "\n",
       "- **Streaming Media Player**\n",
       "  - Compact device that plugs into your TV and streams content from all major platforms with voice search functionality.\n",
       "\n",
       "- **AI-Powered Language Translator**\n",
       "  - Portable device that translates spoken language in real-time, supporting multiple languages and featuring a long-lasting battery for travel convenience.\n",
       "\n",
       "- **Advanced Gaming Console**\n",
       "  - Next-gen gaming system capable of 8K gaming, with cloud gaming support and an extensive library of exclusive titles. \n",
       "\n",
       "These products span various categories, including consumer electronics, smart home devices, and wearables."
      ],
      "text/plain": [
       "<IPython.core.display.Markdown object>"
      ]
     },
     "execution_count": 25,
     "metadata": {},
     "output_type": "execute_result"
    }
   ],
   "source": [
    "from IPython.display import Markdown\n",
    "Markdown(data_tech)"
   ]
  },
  {
   "cell_type": "code",
   "execution_count": 28,
   "metadata": {},
   "outputs": [
    {
     "data": {
      "text/plain": [
       "ProductInfoStructuredTable(products=[ProductInfoStructured(name='Smartphone XZ Pro', description='A flagship smartphone with a 6.8-inch OLED display, triple-lens camera with 108MP main sensor, and 5G connectivity.'), ProductInfoStructured(name='Wireless Noise-Cancelling Headphones', description='Over-ear headphones with adaptive noise cancellation, 30-hour battery life, and touch controls for seamless audio management.'), ProductInfoStructured(name='4K Ultra HD Smart TV', description='A 55-inch smart television with HDR support, voice-activated remote, and access to popular streaming services like Netflix and Hulu.'), ProductInfoStructured(name='Smart Home Hub', description='A central device that connects and controls smart home devices, including lights, thermostats, and security systems through voice commands and a dedicated app.'), ProductInfoStructured(name='Fitness Tracker Pro', description='Wearable device that monitors heart rate, sleep patterns, and activity levels with built-in GPS and smartphone notifications.'), ProductInfoStructured(name='VR Gaming Headset', description='Immersive virtual reality headset with 120Hz refresh rate, wide field of view, and motion tracking for an unparalleled gaming experience.'), ProductInfoStructured(name='Portable Solar Charger', description='Eco-friendly charging solution for mobile devices, featuring high-efficiency solar panels and dual USB ports for simultaneous charging.'), ProductInfoStructured(name='E-reader 3000', description='Lightweight tablet designed for reading with glare-free display technology, adjustable front light, and weeks-long battery life.'), ProductInfoStructured(name='Smart Refrigerator', description='Energy-efficient fridge with a touchscreen interface, internal cameras for inventory tracking, and compatibility with grocery delivery apps.'), ProductInfoStructured(name='Robotic Vacuum Cleaner', description='Autonomous vacuum with smart mapping technology, scheduling capabilities, and voice control integration with Alexa and Google Assistant.'), ProductInfoStructured(name='Wireless Charging Pad', description='Sleek charging base that supports fast wireless charging for compatible smartphones and earbuds with a non-slip design.'), ProductInfoStructured(name='Gaming Laptop Elite', description='High-performance laptop equipped with the latest graphics card, 16GB RAM, and RGB backlit keyboard, optimized for gaming.'), ProductInfoStructured(name='Smartwatch 2.0', description='Stylish smartwatch with health tracking features, customizable watch faces, and seamless integration with smartphones for notifications.'), ProductInfoStructured(name='Drone Camera Pro', description='Compact drone featuring a 4K camera, 3-axis gimbal stabilization, and intelligent flight modes for aerial photography enthusiasts.'), ProductInfoStructured(name='Home Security Camera', description='Wi-Fi-enabled indoor/outdoor security camera with night vision, motion detection alerts, and two-way audio for real-time communication.'), ProductInfoStructured(name='Digital Whiteboard', description='Interactive digital display for workplaces or classrooms, allowing for collaborative brainstorming, screen sharing, and notes capturing.'), ProductInfoStructured(name='Bluetooth Smart Lock', description='Keyless entry lock that can be managed through a smartphone app, offering remote access and temporary codes for visitors.'), ProductInfoStructured(name='Wearable Medical Monitor', description='Device that continuously monitors vital signs such as heart rate and oxygen levels, designed for both fitness tracking and chronic condition management.'), ProductInfoStructured(name='Streaming Media Player', description='Compact device that plugs into your TV and streams content from all major platforms with voice search functionality.'), ProductInfoStructured(name='AI-Powered Language Translator', description='Portable device that translates spoken language in real-time, supporting multiple languages and featuring a long-lasting battery for travel convenience.'), ProductInfoStructured(name='Advanced Gaming Console', description='Next-gen gaming system capable of 8K gaming, with cloud gaming support and an extensive library of exclusive titles.')])"
      ]
     },
     "execution_count": 28,
     "metadata": {},
     "output_type": "execute_result"
    }
   ],
   "source": [
    "from pydantic import BaseModel, Field\n",
    "from typing import List\n",
    "\n",
    "class ProductInfoStructured(BaseModel):\n",
    "    name: str = Field(..., title=\"Product Name\", description=\"The name of the product\")\n",
    "    description: str = Field(..., title=\"Product Description\", description=\"The description of the product\")\n",
    "\n",
    "class ProductInfoStructuredTable(BaseModel):\n",
    "    products: List[ProductInfoStructured] = Field(..., title=\"Products\", description=\"A list of products with their names and descriptions\")\n",
    "\n",
    "\n",
    "def create_structured_table(products_info_raw):\n",
    "    response = client.beta.chat.completions.parse(\n",
    "        model=\"gpt-4o\",\n",
    "        messages=[{\"role\": \"system\", \"content\": \"You create a structured table of all the products in the input \\\n",
    "            with their names and descriptions. The table will have 2 columns: name and description.\"},\n",
    "                  {\"role\": \"user\", \"content\": products_info_raw}],\n",
    "        response_format=ProductInfoStructuredTable,\n",
    "        temperature=0.0\n",
    "    )\n",
    "    \n",
    "    return response.choices[0].message.parsed\n",
    "\n",
    "\n",
    "structured_table = create_structured_table(data_tech)\n",
    "structured_table"
   ]
  },
  {
   "cell_type": "code",
   "execution_count": 29,
   "metadata": {},
   "outputs": [
    {
     "data": {
      "text/plain": [
       "[ProductInfoStructured(name='Smartphone XZ Pro', description='A flagship smartphone with a 6.8-inch OLED display, triple-lens camera with 108MP main sensor, and 5G connectivity.'),\n",
       " ProductInfoStructured(name='Wireless Noise-Cancelling Headphones', description='Over-ear headphones with adaptive noise cancellation, 30-hour battery life, and touch controls for seamless audio management.'),\n",
       " ProductInfoStructured(name='4K Ultra HD Smart TV', description='A 55-inch smart television with HDR support, voice-activated remote, and access to popular streaming services like Netflix and Hulu.'),\n",
       " ProductInfoStructured(name='Smart Home Hub', description='A central device that connects and controls smart home devices, including lights, thermostats, and security systems through voice commands and a dedicated app.'),\n",
       " ProductInfoStructured(name='Fitness Tracker Pro', description='Wearable device that monitors heart rate, sleep patterns, and activity levels with built-in GPS and smartphone notifications.'),\n",
       " ProductInfoStructured(name='VR Gaming Headset', description='Immersive virtual reality headset with 120Hz refresh rate, wide field of view, and motion tracking for an unparalleled gaming experience.'),\n",
       " ProductInfoStructured(name='Portable Solar Charger', description='Eco-friendly charging solution for mobile devices, featuring high-efficiency solar panels and dual USB ports for simultaneous charging.'),\n",
       " ProductInfoStructured(name='E-reader 3000', description='Lightweight tablet designed for reading with glare-free display technology, adjustable front light, and weeks-long battery life.'),\n",
       " ProductInfoStructured(name='Smart Refrigerator', description='Energy-efficient fridge with a touchscreen interface, internal cameras for inventory tracking, and compatibility with grocery delivery apps.'),\n",
       " ProductInfoStructured(name='Robotic Vacuum Cleaner', description='Autonomous vacuum with smart mapping technology, scheduling capabilities, and voice control integration with Alexa and Google Assistant.'),\n",
       " ProductInfoStructured(name='Wireless Charging Pad', description='Sleek charging base that supports fast wireless charging for compatible smartphones and earbuds with a non-slip design.'),\n",
       " ProductInfoStructured(name='Gaming Laptop Elite', description='High-performance laptop equipped with the latest graphics card, 16GB RAM, and RGB backlit keyboard, optimized for gaming.'),\n",
       " ProductInfoStructured(name='Smartwatch 2.0', description='Stylish smartwatch with health tracking features, customizable watch faces, and seamless integration with smartphones for notifications.'),\n",
       " ProductInfoStructured(name='Drone Camera Pro', description='Compact drone featuring a 4K camera, 3-axis gimbal stabilization, and intelligent flight modes for aerial photography enthusiasts.'),\n",
       " ProductInfoStructured(name='Home Security Camera', description='Wi-Fi-enabled indoor/outdoor security camera with night vision, motion detection alerts, and two-way audio for real-time communication.'),\n",
       " ProductInfoStructured(name='Digital Whiteboard', description='Interactive digital display for workplaces or classrooms, allowing for collaborative brainstorming, screen sharing, and notes capturing.'),\n",
       " ProductInfoStructured(name='Bluetooth Smart Lock', description='Keyless entry lock that can be managed through a smartphone app, offering remote access and temporary codes for visitors.'),\n",
       " ProductInfoStructured(name='Wearable Medical Monitor', description='Device that continuously monitors vital signs such as heart rate and oxygen levels, designed for both fitness tracking and chronic condition management.'),\n",
       " ProductInfoStructured(name='Streaming Media Player', description='Compact device that plugs into your TV and streams content from all major platforms with voice search functionality.'),\n",
       " ProductInfoStructured(name='AI-Powered Language Translator', description='Portable device that translates spoken language in real-time, supporting multiple languages and featuring a long-lasting battery for travel convenience.'),\n",
       " ProductInfoStructured(name='Advanced Gaming Console', description='Next-gen gaming system capable of 8K gaming, with cloud gaming support and an extensive library of exclusive titles.')]"
      ]
     },
     "execution_count": 29,
     "metadata": {},
     "output_type": "execute_result"
    }
   ],
   "source": [
    "structured_table.products"
   ]
  },
  {
   "cell_type": "code",
   "execution_count": 30,
   "metadata": {},
   "outputs": [
    {
     "data": {
      "text/html": [
       "<div>\n",
       "<style scoped>\n",
       "    .dataframe tbody tr th:only-of-type {\n",
       "        vertical-align: middle;\n",
       "    }\n",
       "\n",
       "    .dataframe tbody tr th {\n",
       "        vertical-align: top;\n",
       "    }\n",
       "\n",
       "    .dataframe thead th {\n",
       "        text-align: right;\n",
       "    }\n",
       "</style>\n",
       "<table border=\"1\" class=\"dataframe\">\n",
       "  <thead>\n",
       "    <tr style=\"text-align: right;\">\n",
       "      <th></th>\n",
       "      <th>name</th>\n",
       "      <th>description</th>\n",
       "    </tr>\n",
       "  </thead>\n",
       "  <tbody>\n",
       "    <tr>\n",
       "      <th>0</th>\n",
       "      <td>Smartphone XZ Pro</td>\n",
       "      <td>A flagship smartphone with a 6.8-inch OLED dis...</td>\n",
       "    </tr>\n",
       "    <tr>\n",
       "      <th>1</th>\n",
       "      <td>Wireless Noise-Cancelling Headphones</td>\n",
       "      <td>Over-ear headphones with adaptive noise cancel...</td>\n",
       "    </tr>\n",
       "    <tr>\n",
       "      <th>2</th>\n",
       "      <td>4K Ultra HD Smart TV</td>\n",
       "      <td>A 55-inch smart television with HDR support, v...</td>\n",
       "    </tr>\n",
       "    <tr>\n",
       "      <th>3</th>\n",
       "      <td>Smart Home Hub</td>\n",
       "      <td>A central device that connects and controls sm...</td>\n",
       "    </tr>\n",
       "    <tr>\n",
       "      <th>4</th>\n",
       "      <td>Fitness Tracker Pro</td>\n",
       "      <td>Wearable device that monitors heart rate, slee...</td>\n",
       "    </tr>\n",
       "    <tr>\n",
       "      <th>5</th>\n",
       "      <td>VR Gaming Headset</td>\n",
       "      <td>Immersive virtual reality headset with 120Hz r...</td>\n",
       "    </tr>\n",
       "    <tr>\n",
       "      <th>6</th>\n",
       "      <td>Portable Solar Charger</td>\n",
       "      <td>Eco-friendly charging solution for mobile devi...</td>\n",
       "    </tr>\n",
       "    <tr>\n",
       "      <th>7</th>\n",
       "      <td>E-reader 3000</td>\n",
       "      <td>Lightweight tablet designed for reading with g...</td>\n",
       "    </tr>\n",
       "    <tr>\n",
       "      <th>8</th>\n",
       "      <td>Smart Refrigerator</td>\n",
       "      <td>Energy-efficient fridge with a touchscreen int...</td>\n",
       "    </tr>\n",
       "    <tr>\n",
       "      <th>9</th>\n",
       "      <td>Robotic Vacuum Cleaner</td>\n",
       "      <td>Autonomous vacuum with smart mapping technolog...</td>\n",
       "    </tr>\n",
       "    <tr>\n",
       "      <th>10</th>\n",
       "      <td>Wireless Charging Pad</td>\n",
       "      <td>Sleek charging base that supports fast wireles...</td>\n",
       "    </tr>\n",
       "    <tr>\n",
       "      <th>11</th>\n",
       "      <td>Gaming Laptop Elite</td>\n",
       "      <td>High-performance laptop equipped with the late...</td>\n",
       "    </tr>\n",
       "    <tr>\n",
       "      <th>12</th>\n",
       "      <td>Smartwatch 2.0</td>\n",
       "      <td>Stylish smartwatch with health tracking featur...</td>\n",
       "    </tr>\n",
       "    <tr>\n",
       "      <th>13</th>\n",
       "      <td>Drone Camera Pro</td>\n",
       "      <td>Compact drone featuring a 4K camera, 3-axis gi...</td>\n",
       "    </tr>\n",
       "    <tr>\n",
       "      <th>14</th>\n",
       "      <td>Home Security Camera</td>\n",
       "      <td>Wi-Fi-enabled indoor/outdoor security camera w...</td>\n",
       "    </tr>\n",
       "    <tr>\n",
       "      <th>15</th>\n",
       "      <td>Digital Whiteboard</td>\n",
       "      <td>Interactive digital display for workplaces or ...</td>\n",
       "    </tr>\n",
       "    <tr>\n",
       "      <th>16</th>\n",
       "      <td>Bluetooth Smart Lock</td>\n",
       "      <td>Keyless entry lock that can be managed through...</td>\n",
       "    </tr>\n",
       "    <tr>\n",
       "      <th>17</th>\n",
       "      <td>Wearable Medical Monitor</td>\n",
       "      <td>Device that continuously monitors vital signs ...</td>\n",
       "    </tr>\n",
       "    <tr>\n",
       "      <th>18</th>\n",
       "      <td>Streaming Media Player</td>\n",
       "      <td>Compact device that plugs into your TV and str...</td>\n",
       "    </tr>\n",
       "    <tr>\n",
       "      <th>19</th>\n",
       "      <td>AI-Powered Language Translator</td>\n",
       "      <td>Portable device that translates spoken languag...</td>\n",
       "    </tr>\n",
       "    <tr>\n",
       "      <th>20</th>\n",
       "      <td>Advanced Gaming Console</td>\n",
       "      <td>Next-gen gaming system capable of 8K gaming, w...</td>\n",
       "    </tr>\n",
       "  </tbody>\n",
       "</table>\n",
       "</div>"
      ],
      "text/plain": [
       "                                    name  \\\n",
       "0                      Smartphone XZ Pro   \n",
       "1   Wireless Noise-Cancelling Headphones   \n",
       "2                   4K Ultra HD Smart TV   \n",
       "3                         Smart Home Hub   \n",
       "4                    Fitness Tracker Pro   \n",
       "5                      VR Gaming Headset   \n",
       "6                 Portable Solar Charger   \n",
       "7                          E-reader 3000   \n",
       "8                     Smart Refrigerator   \n",
       "9                 Robotic Vacuum Cleaner   \n",
       "10                 Wireless Charging Pad   \n",
       "11                   Gaming Laptop Elite   \n",
       "12                        Smartwatch 2.0   \n",
       "13                      Drone Camera Pro   \n",
       "14                  Home Security Camera   \n",
       "15                    Digital Whiteboard   \n",
       "16                  Bluetooth Smart Lock   \n",
       "17              Wearable Medical Monitor   \n",
       "18                Streaming Media Player   \n",
       "19        AI-Powered Language Translator   \n",
       "20               Advanced Gaming Console   \n",
       "\n",
       "                                          description  \n",
       "0   A flagship smartphone with a 6.8-inch OLED dis...  \n",
       "1   Over-ear headphones with adaptive noise cancel...  \n",
       "2   A 55-inch smart television with HDR support, v...  \n",
       "3   A central device that connects and controls sm...  \n",
       "4   Wearable device that monitors heart rate, slee...  \n",
       "5   Immersive virtual reality headset with 120Hz r...  \n",
       "6   Eco-friendly charging solution for mobile devi...  \n",
       "7   Lightweight tablet designed for reading with g...  \n",
       "8   Energy-efficient fridge with a touchscreen int...  \n",
       "9   Autonomous vacuum with smart mapping technolog...  \n",
       "10  Sleek charging base that supports fast wireles...  \n",
       "11  High-performance laptop equipped with the late...  \n",
       "12  Stylish smartwatch with health tracking featur...  \n",
       "13  Compact drone featuring a 4K camera, 3-axis gi...  \n",
       "14  Wi-Fi-enabled indoor/outdoor security camera w...  \n",
       "15  Interactive digital display for workplaces or ...  \n",
       "16  Keyless entry lock that can be managed through...  \n",
       "17  Device that continuously monitors vital signs ...  \n",
       "18  Compact device that plugs into your TV and str...  \n",
       "19  Portable device that translates spoken languag...  \n",
       "20  Next-gen gaming system capable of 8K gaming, w...  "
      ]
     },
     "execution_count": 30,
     "metadata": {},
     "output_type": "execute_result"
    }
   ],
   "source": [
    "import pandas as pd\n",
    "\n",
    "# Convert list of ProductInfoStructured objects to dataframe\n",
    "products_df = pd.DataFrame([\n",
    "    {\"name\": product.name, \"description\": product.description} \n",
    "    for product in structured_table.products\n",
    "])\n",
    "\n",
    "products_df"
   ]
  },
  {
   "cell_type": "code",
   "execution_count": 27,
   "metadata": {},
   "outputs": [
    {
     "data": {
      "text/plain": [
       "'A flagship smartphone with a 6.8-inch OLED display, triple-lens camera with 108MP main sensor, and 5G connectivity.'"
      ]
     },
     "execution_count": 27,
     "metadata": {},
     "output_type": "execute_result"
    }
   ],
   "source": [
    "structured_table.name\n",
    "structured_table.description"
   ]
  },
  {
   "cell_type": "code",
   "execution_count": 31,
   "metadata": {
    "execution": {
     "iopub.execute_input": "2025-01-08T03:31:25.861966Z",
     "iopub.status.busy": "2025-01-08T03:31:25.861305Z",
     "iopub.status.idle": "2025-01-08T03:31:40.253478Z",
     "shell.execute_reply": "2025-01-08T03:31:40.251283Z"
    }
   },
   "outputs": [
    {
     "data": {
      "text/markdown": [
       "Sure! Here are 10 diverse customer profiles based on various backgrounds, preferences, and lifestyles:\n",
       "\n",
       "### Customer Profile 1: Tech-Savvy Millennial\n",
       "- **Name:** Sarah Thompson\n",
       "- **Age:** 29\n",
       "- **Occupation:** Software Developer\n",
       "- **Location:** San Francisco, CA\n",
       "- **Interests:** Coding, Video Games, Sustainable Tech\n",
       "- **Preferences:** Prefers eco-friendly gadgets and tech services, values online reviews, and enjoys gamified learning platforms.\n",
       "\n",
       "### Customer Profile 2: Health-Conscious Retiree\n",
       "- **Name:** John Peterson\n",
       "- **Age:** 67\n",
       "- **Occupation:** Retired Teacher\n",
       "- **Location:** Sarasota, FL\n",
       "- **Interests:** Gardening, Walking, Healthy Cooking\n",
       "- **Preferences:** Looks for organic and local produce, prefers low-impact exercise classes, enjoys cooking classes and health blogs.\n",
       "\n",
       "### Customer Profile 3: Fashion-Forward College Student\n",
       "- **Name:** Emily Chen\n",
       "- **Age:** 21\n",
       "- **Occupation:** Fashion Design Student\n",
       "- **Location:** New York City, NY\n",
       "- **Interests:** Fashion Trends, Social Media, DIY Projects\n",
       "- **Preferences:** Shops at thrift stores, influenced by social media trends, enjoys brands that support sustainable fashion.\n",
       "\n",
       "### Customer Profile 4: Busy Professional Parent\n",
       "- **Name:** Michael Rodriguez\n",
       "- **Age:** 38\n",
       "- **Occupation:** Marketing Manager\n",
       "- **Location:** Chicago, IL\n",
       "- **Interests:** Family Activities, Outdoors, Cooking\n",
       "- **Preferences:** Values convenience (meal kits, online grocery shopping), looks for family-friendly entertainment, often seeks work-life balance tips.\n",
       "\n",
       "### Customer Profile 5: Eco-Conscious Urbanite\n",
       "- **Name:** Leah Patel\n",
       "- **Age:** 34\n",
       "- **Occupation:** Environmental Scientist\n",
       "- **Location:** Portland, OR\n",
       "- **Interests:** Outdoor Activities, Sustainability, Volunteering\n",
       "- **Preferences:** Supports local businesses, primarily buys recycled or upcycled products, prefers brands that align with environmental values.\n",
       "\n",
       "### Customer Profile 6: Adventurous Traveler\n",
       "- **Name:** James Brown\n",
       "- **Age:** 45\n",
       "- **Occupation:** Travel Blogger\n",
       "- **Location:** Austin, TX\n",
       "- **Interests:** Hiking, Cultural Experiences, Photography\n",
       "- **Preferences:** Looks for unique travel experiences, enjoys off-the-beaten-path accommodations, values authentic cultural interactions.\n",
       "\n",
       "### Customer Profile 7: Budget-Conscious Shopper\n",
       "- **Name:** Amanda Wilkes\n",
       "- **Age:** 50\n",
       "- **Occupation:** Administrative Assistant\n",
       "- **Location:** Atlanta, GA\n",
       "- **Interests:** DIY Projects, Cooking, Couponing\n",
       "- **Preferences:** Shop sales and use coupons, values affordability over brand loyalty, enjoys thrift shopping for unique finds.\n",
       "\n",
       "### Customer Profile 8: Luxury Seeker\n",
       "- **Name:** Frederick King\n",
       "- **Age:** 55\n",
       "- **Occupation:** CEO of a Financial Firm\n",
       "- **Location:** Miami, FL\n",
       "- **Interests:** Fine Dining, Golf, Luxury Travel\n",
       "- **Preferences:** Prefers high-end brands, values exclusivity and personalized service, enjoys premium experiences and luxury goods.\n",
       "\n",
       "### Customer Profile 9: Tech Blogging Gen Z\n",
       "- **Name:** Olivia Green\n",
       "- **Age:** 22\n",
       "- **Occupation:** Content Creator\n",
       "- **Location:** Los Angeles, CA\n",
       "- **Interests:** Social Media, Technology, Gaming\n",
       "- **Preferences:** Engages with interactive brands on social media, prefers tech products that enhance online presence, seeks after-sale support for gadgets.\n",
       "\n",
       "### Customer Profile 10: Community-Oriented Non-Profit Worker\n",
       "- **Name:** David Kim\n",
       "- **Age:** 36\n",
       "- **Occupation:** Non-Profit Coordinator\n",
       "- **Location:** Seattle, WA\n",
       "- **Interests:** Social Causes, Community Events, Art\n",
       "- **Preferences:** Supports brands that give back to the community, attends local events and festivals, enjoys products that promote social good.\n",
       "\n",
       "These profiles can help tailor marketing strategies or product offerings to better meet the needs and preferences of varied customer segments."
      ],
      "text/plain": [
       "<IPython.core.display.Markdown object>"
      ]
     },
     "execution_count": 31,
     "metadata": {},
     "output_type": "execute_result"
    }
   ],
   "source": [
    "def create_costumer_profile(user_query):\n",
    "    response = client.chat.completions.create(\n",
    "        model=MODEL,\n",
    "        messages=[{\"role\": \"system\", \"content\": \"You create a list of customer \\\n",
    "            profiles based on input.\"},\n",
    "                  {\"role\": \"user\", \"content\": user_query}]\n",
    "    )\n",
    "    \n",
    "    return response.choices[0].message.content\n",
    "\n",
    "\n",
    "create_costumer_profile = create_costumer_profile(\"Create 10 customer profiles \\\n",
    "    for users with different backgrounds and preferences.\")\n",
    "\n",
    "Markdown(create_costumer_profile)"
   ]
  },
  {
   "cell_type": "code",
   "execution_count": 34,
   "metadata": {},
   "outputs": [
    {
     "data": {
      "text/plain": [
       "CustomerProfileStructuredTable(profiles=[CustomerProfileStructured(name='Sarah Thompson', age=29, occupation='Software Developer', location='San Francisco, CA', interests='Coding, Video Games, Sustainable Tech', buying_preferences='Prefers eco-friendly gadgets and tech services, values online reviews, and enjoys gamified learning platforms.'), CustomerProfileStructured(name='John Peterson', age=67, occupation='Retired Teacher', location='Sarasota, FL', interests='Gardening, Walking, Healthy Cooking', buying_preferences='Looks for organic and local produce, prefers low-impact exercise classes, enjoys cooking classes and health blogs.'), CustomerProfileStructured(name='Emily Chen', age=21, occupation='Fashion Design Student', location='New York City, NY', interests='Fashion Trends, Social Media, DIY Projects', buying_preferences='Shops at thrift stores, influenced by social media trends, enjoys brands that support sustainable fashion.'), CustomerProfileStructured(name='Michael Rodriguez', age=38, occupation='Marketing Manager', location='Chicago, IL', interests='Family Activities, Outdoors, Cooking', buying_preferences='Values convenience (meal kits, online grocery shopping), looks for family-friendly entertainment, often seeks work-life balance tips.'), CustomerProfileStructured(name='Leah Patel', age=34, occupation='Environmental Scientist', location='Portland, OR', interests='Outdoor Activities, Sustainability, Volunteering', buying_preferences='Supports local businesses, primarily buys recycled or upcycled products, prefers brands that align with environmental values.'), CustomerProfileStructured(name='James Brown', age=45, occupation='Travel Blogger', location='Austin, TX', interests='Hiking, Cultural Experiences, Photography', buying_preferences='Looks for unique travel experiences, enjoys off-the-beaten-path accommodations, values authentic cultural interactions.'), CustomerProfileStructured(name='Amanda Wilkes', age=50, occupation='Administrative Assistant', location='Atlanta, GA', interests='DIY Projects, Cooking, Couponing', buying_preferences='Shop sales and use coupons, values affordability over brand loyalty, enjoys thrift shopping for unique finds.'), CustomerProfileStructured(name='Frederick King', age=55, occupation='CEO of a Financial Firm', location='Miami, FL', interests='Fine Dining, Golf, Luxury Travel', buying_preferences='Prefers high-end brands, values exclusivity and personalized service, enjoys premium experiences and luxury goods.'), CustomerProfileStructured(name='Olivia Green', age=22, occupation='Content Creator', location='Los Angeles, CA', interests='Social Media, Technology, Gaming', buying_preferences='Engages with interactive brands on social media, prefers tech products that enhance online presence, seeks after-sale support for gadgets.'), CustomerProfileStructured(name='David Kim', age=36, occupation='Non-Profit Coordinator', location='Seattle, WA', interests='Social Causes, Community Events, Art', buying_preferences='Supports brands that give back to the community, attends local events and festivals, enjoys products that promote social good.')])"
      ]
     },
     "execution_count": 34,
     "metadata": {},
     "output_type": "execute_result"
    }
   ],
   "source": [
    "from pydantic import BaseModel\n",
    "from typing import List\n",
    "\n",
    "class CustomerProfileStructured(BaseModel):\n",
    "    name: str\n",
    "    age: int \n",
    "    occupation: str\n",
    "    location: str\n",
    "    interests: str\n",
    "    buying_preferences: str\n",
    "\n",
    "class CustomerProfileStructuredTable(BaseModel):\n",
    "    profiles: List[CustomerProfileStructured]\n",
    "\n",
    "def create_structured_profile_table(profile_data: str):\n",
    "    response = client.beta.chat.completions.parse(\n",
    "        model=MODEL,\n",
    "        messages=[\n",
    "            {\"role\": \"system\", \"content\": \"Extract customer profile information into structured data with name, age, occupation, location, interests, and buying preferences fields\"},\n",
    "            {\"role\": \"user\", \"content\": f\"Extract the profile information from this text into structured data: {profile_data}\"}\n",
    "        ],\n",
    "        response_format=CustomerProfileStructuredTable,\n",
    "        temperature=0.0\n",
    "    )\n",
    "    \n",
    "    # Parse the JSON response into our Pydantic models\n",
    "    profile_data = response.choices[0].message.parsed\n",
    "    \n",
    "    return profile_data\n",
    "\n",
    "structured_profiles = create_structured_profile_table(create_costumer_profile)\n",
    "structured_profiles\n"
   ]
  },
  {
   "cell_type": "code",
   "execution_count": 35,
   "metadata": {},
   "outputs": [
    {
     "data": {
      "text/html": [
       "<div>\n",
       "<style scoped>\n",
       "    .dataframe tbody tr th:only-of-type {\n",
       "        vertical-align: middle;\n",
       "    }\n",
       "\n",
       "    .dataframe tbody tr th {\n",
       "        vertical-align: top;\n",
       "    }\n",
       "\n",
       "    .dataframe thead th {\n",
       "        text-align: right;\n",
       "    }\n",
       "</style>\n",
       "<table border=\"1\" class=\"dataframe\">\n",
       "  <thead>\n",
       "    <tr style=\"text-align: right;\">\n",
       "      <th></th>\n",
       "      <th>name</th>\n",
       "      <th>age</th>\n",
       "      <th>occupation</th>\n",
       "      <th>location</th>\n",
       "      <th>interests</th>\n",
       "      <th>buying_preferences</th>\n",
       "    </tr>\n",
       "  </thead>\n",
       "  <tbody>\n",
       "    <tr>\n",
       "      <th>0</th>\n",
       "      <td>Sarah Thompson</td>\n",
       "      <td>29</td>\n",
       "      <td>Software Developer</td>\n",
       "      <td>San Francisco, CA</td>\n",
       "      <td>Coding, Video Games, Sustainable Tech</td>\n",
       "      <td>Prefers eco-friendly gadgets and tech services...</td>\n",
       "    </tr>\n",
       "    <tr>\n",
       "      <th>1</th>\n",
       "      <td>John Peterson</td>\n",
       "      <td>67</td>\n",
       "      <td>Retired Teacher</td>\n",
       "      <td>Sarasota, FL</td>\n",
       "      <td>Gardening, Walking, Healthy Cooking</td>\n",
       "      <td>Looks for organic and local produce, prefers l...</td>\n",
       "    </tr>\n",
       "    <tr>\n",
       "      <th>2</th>\n",
       "      <td>Emily Chen</td>\n",
       "      <td>21</td>\n",
       "      <td>Fashion Design Student</td>\n",
       "      <td>New York City, NY</td>\n",
       "      <td>Fashion Trends, Social Media, DIY Projects</td>\n",
       "      <td>Shops at thrift stores, influenced by social m...</td>\n",
       "    </tr>\n",
       "    <tr>\n",
       "      <th>3</th>\n",
       "      <td>Michael Rodriguez</td>\n",
       "      <td>38</td>\n",
       "      <td>Marketing Manager</td>\n",
       "      <td>Chicago, IL</td>\n",
       "      <td>Family Activities, Outdoors, Cooking</td>\n",
       "      <td>Values convenience (meal kits, online grocery ...</td>\n",
       "    </tr>\n",
       "    <tr>\n",
       "      <th>4</th>\n",
       "      <td>Leah Patel</td>\n",
       "      <td>34</td>\n",
       "      <td>Environmental Scientist</td>\n",
       "      <td>Portland, OR</td>\n",
       "      <td>Outdoor Activities, Sustainability, Volunteering</td>\n",
       "      <td>Supports local businesses, primarily buys recy...</td>\n",
       "    </tr>\n",
       "    <tr>\n",
       "      <th>5</th>\n",
       "      <td>James Brown</td>\n",
       "      <td>45</td>\n",
       "      <td>Travel Blogger</td>\n",
       "      <td>Austin, TX</td>\n",
       "      <td>Hiking, Cultural Experiences, Photography</td>\n",
       "      <td>Looks for unique travel experiences, enjoys of...</td>\n",
       "    </tr>\n",
       "    <tr>\n",
       "      <th>6</th>\n",
       "      <td>Amanda Wilkes</td>\n",
       "      <td>50</td>\n",
       "      <td>Administrative Assistant</td>\n",
       "      <td>Atlanta, GA</td>\n",
       "      <td>DIY Projects, Cooking, Couponing</td>\n",
       "      <td>Shop sales and use coupons, values affordabili...</td>\n",
       "    </tr>\n",
       "    <tr>\n",
       "      <th>7</th>\n",
       "      <td>Frederick King</td>\n",
       "      <td>55</td>\n",
       "      <td>CEO of a Financial Firm</td>\n",
       "      <td>Miami, FL</td>\n",
       "      <td>Fine Dining, Golf, Luxury Travel</td>\n",
       "      <td>Prefers high-end brands, values exclusivity an...</td>\n",
       "    </tr>\n",
       "    <tr>\n",
       "      <th>8</th>\n",
       "      <td>Olivia Green</td>\n",
       "      <td>22</td>\n",
       "      <td>Content Creator</td>\n",
       "      <td>Los Angeles, CA</td>\n",
       "      <td>Social Media, Technology, Gaming</td>\n",
       "      <td>Engages with interactive brands on social medi...</td>\n",
       "    </tr>\n",
       "    <tr>\n",
       "      <th>9</th>\n",
       "      <td>David Kim</td>\n",
       "      <td>36</td>\n",
       "      <td>Non-Profit Coordinator</td>\n",
       "      <td>Seattle, WA</td>\n",
       "      <td>Social Causes, Community Events, Art</td>\n",
       "      <td>Supports brands that give back to the communit...</td>\n",
       "    </tr>\n",
       "  </tbody>\n",
       "</table>\n",
       "</div>"
      ],
      "text/plain": [
       "                name  age                occupation           location  \\\n",
       "0     Sarah Thompson   29        Software Developer  San Francisco, CA   \n",
       "1      John Peterson   67           Retired Teacher       Sarasota, FL   \n",
       "2         Emily Chen   21    Fashion Design Student  New York City, NY   \n",
       "3  Michael Rodriguez   38         Marketing Manager        Chicago, IL   \n",
       "4         Leah Patel   34   Environmental Scientist       Portland, OR   \n",
       "5        James Brown   45            Travel Blogger         Austin, TX   \n",
       "6      Amanda Wilkes   50  Administrative Assistant        Atlanta, GA   \n",
       "7     Frederick King   55   CEO of a Financial Firm          Miami, FL   \n",
       "8       Olivia Green   22           Content Creator    Los Angeles, CA   \n",
       "9          David Kim   36    Non-Profit Coordinator        Seattle, WA   \n",
       "\n",
       "                                          interests  \\\n",
       "0             Coding, Video Games, Sustainable Tech   \n",
       "1               Gardening, Walking, Healthy Cooking   \n",
       "2        Fashion Trends, Social Media, DIY Projects   \n",
       "3              Family Activities, Outdoors, Cooking   \n",
       "4  Outdoor Activities, Sustainability, Volunteering   \n",
       "5         Hiking, Cultural Experiences, Photography   \n",
       "6                  DIY Projects, Cooking, Couponing   \n",
       "7                  Fine Dining, Golf, Luxury Travel   \n",
       "8                  Social Media, Technology, Gaming   \n",
       "9              Social Causes, Community Events, Art   \n",
       "\n",
       "                                  buying_preferences  \n",
       "0  Prefers eco-friendly gadgets and tech services...  \n",
       "1  Looks for organic and local produce, prefers l...  \n",
       "2  Shops at thrift stores, influenced by social m...  \n",
       "3  Values convenience (meal kits, online grocery ...  \n",
       "4  Supports local businesses, primarily buys recy...  \n",
       "5  Looks for unique travel experiences, enjoys of...  \n",
       "6  Shop sales and use coupons, values affordabili...  \n",
       "7  Prefers high-end brands, values exclusivity an...  \n",
       "8  Engages with interactive brands on social medi...  \n",
       "9  Supports brands that give back to the communit...  "
      ]
     },
     "execution_count": 35,
     "metadata": {},
     "output_type": "execute_result"
    }
   ],
   "source": [
    "# Convert structured profiles to pandas DataFrame for easier analysis\n",
    "import pandas as pd\n",
    "\n",
    "profiles_df = pd.DataFrame([\n",
    "    {\n",
    "        \"name\": profile.name,\n",
    "        \"age\": profile.age,\n",
    "        \"occupation\": profile.occupation,\n",
    "        \"location\": profile.location, \n",
    "        \"interests\": profile.interests,\n",
    "        \"buying_preferences\": profile.buying_preferences\n",
    "    }\n",
    "    for profile in structured_profiles.profiles\n",
    "])\n",
    "\n",
    "profiles_df"
   ]
  },
  {
   "cell_type": "code",
   "execution_count": 36,
   "metadata": {
    "execution": {
     "iopub.execute_input": "2025-01-08T03:31:40.263791Z",
     "iopub.status.busy": "2025-01-08T03:31:40.263140Z",
     "iopub.status.idle": "2025-01-08T03:31:41.454349Z",
     "shell.execute_reply": "2025-01-08T03:31:41.453200Z"
    }
   },
   "outputs": [
    {
     "name": "stdout",
     "output_type": "stream",
     "text": [
      "name                                                          David Kim\n",
      "age                                                                  36\n",
      "occupation                                       Non-Profit Coordinator\n",
      "location                                                    Seattle, WA\n",
      "interests                          Social Causes, Community Events, Art\n",
      "buying_preferences    Supports brands that give back to the communit...\n",
      "Name: 9, dtype: object\n"
     ]
    },
    {
     "data": {
      "text/markdown": [
       "Hi David Kim, based on your interests in social causes and support for community-focused brands, I recommend the **Portable Solar Charger**. It's an eco-friendly option that not only helps you stay connected but also aligns with your values of sustainability and giving back to the environment."
      ],
      "text/plain": [
       "<IPython.core.display.Markdown object>"
      ]
     },
     "execution_count": 36,
     "metadata": {},
     "output_type": "execute_result"
    }
   ],
   "source": [
    "user_info = profiles_df.iloc[9]\n",
    "\n",
    "\n",
    "def recommend_product(profile):\n",
    "    prompt_to_recommender = f\"Recommend a tech product from this list ONLY:\\n\\n{data_tech} \\\n",
    "        for this customer profile: {profile}.\\\n",
    "        Output ONLY A SIMPLE MESSAGE REFERENCING THE CUSTOMER AND THE recommendations.\"\n",
    "    \n",
    "    recommendation = recommender_chat_bot(prompt_to_recommender)\n",
    "    \n",
    "    return recommendation\n",
    "\n",
    "\n",
    "product_recommendation = recommend_product(user_info)\n",
    "\n",
    "print(user_info)\n",
    "Markdown(product_recommendation)"
   ]
  },
  {
   "cell_type": "code",
   "execution_count": 16,
   "metadata": {
    "execution": {
     "iopub.execute_input": "2025-01-08T03:31:41.459696Z",
     "iopub.status.busy": "2025-01-08T03:31:41.459274Z",
     "iopub.status.idle": "2025-01-08T03:31:41.465258Z",
     "shell.execute_reply": "2025-01-08T03:31:41.464529Z"
    }
   },
   "outputs": [
    {
     "data": {
      "text/plain": [
       "\"Sure! Here are 20 examples of tech products along with their descriptions:\\n\\n1. **Smartphone Charging Dock**\\n   - A sleek, wireless charging dock that can charge multiple devices simultaneously with fast-charging capabilities and LED indicators.\\n\\n2. **Fitness Tracker**\\n   - A waterproof fitness tracker that monitors heart rate, sleep patterns, and activity levels, syncing data with a mobile app for personalized health insights.\\n\\n3. **Wireless Noise-Canceling Headphones**\\n   - Over-ear headphones featuring state-of-the-art noise-cancelation technology, extended battery life, and touch controls for enhanced audio experiences.\\n\\n4. **Smart Home Hub**\\n   - A central device that connects various smart home products, allowing users to manage lighting, security, and temperature through a single app or voice command.\\n\\n5. **Portable Solar Charger**\\n   - An eco-friendly solar charger designed for outdoor enthusiasts, featuring multiple USB ports and a rugged, waterproof design for charging devices on the go.\\n\\n6. **Virtual Reality Headset**\\n   - An immersive VR headset that offers 360-degree experiences for gaming and entertainment, equipped with hand tracking and room-scale monitoring capabilities.\\n\\n7. **Robot Vacuum Cleaner**\\n   - An intelligent vacuum cleaner that navigates through homes, avoiding obstacles and mapping environments, with a companion app for scheduling cleaning routines.\\n\\n8. **Smart Mirror**\\n   - An interactive mirror that displays weather updates, calendar events, and health tracking metrics while also allowing users to apply makeup with augmented reality overlays.\\n\\n9. **Wireless Earbuds**\\n   - Compact earbuds that boast high-fidelity audio, touch controls, and sweat resistance, featuring a charging case that extends battery life for all-day use.\\n\\n10. **4K Smart TV**\\n    - A large-screen smart TV equipped with streaming capabilities, voice control support, and HDR technology for stunning visuals and enhanced color accuracy.\\n\\n11. **Portable Bluetooth Speaker**\\n    - A waterproof Bluetooth speaker that delivers rich sound quality with a powerful bass, featuring a built-in microphone for hands-free calling and extended battery life.\\n\\n12. **Smart Thermostat**\\n    - A learning thermostat that adapts to user behavior, optimizing heating and cooling schedules to save energy while providing remote access through a mobile app.\\n\\n13. **Gaming Laptop**\\n    - A high-performance gaming laptop with a dedicated graphics card, customizable RGB keyboard, and advanced cooling systems for an outstanding gaming experience.\\n\\n14. **Digital Notepad**\\n    - A smart notepad that captures handwritten notes and sketches, syncing them to cloud storage and converting them into editable digital text.\\n\\n15. **Health Monitoring Smartwatch**\\n    - A smartwatch that tracks vital signs such as ECG, oxygen saturation, and stress levels, featuring health reminders and built-in workout modes.\\n\\n16. **Augmented Reality Glasses**\\n    - Lightweight AR glasses designed for hands-free navigation and interactive applications, allowing users to overlay digital content onto the real world.\\n\\n17. **Wireless Home Security Camera**\\n    - A smart indoor/outdoor security camera with night vision, two-way audio, and motion detection alerts that can be monitored remotely via a smartphone app.\\n\\n18. **Smart Plant Monitor**\\n    - A device that monitors soil moisture, sunlight, and temperature, providing recommendations through a mobile app to help users care better for their plants.\\n\\n19. **Multi-device Bluetooth Keyboard**\\n    - A keyboard that can pair with up to three devices simultaneously, allowing users to switch seamlessly between computers, tablets, or smartphones with a touch of a button.\\n\\n20. **Streaming Media Player**\\n    - A compact streaming box that supports 4K content, offering access to popular streaming services, live TV options, and a user-friendly interface with voice control. \\n\\nThese examples showcase the diversity and innovation in today's tech product landscape!\""
      ]
     },
     "execution_count": 16,
     "metadata": {},
     "output_type": "execute_result"
    }
   ],
   "source": [
    "data_tech"
   ]
  },
  {
   "cell_type": "code",
   "execution_count": 17,
   "metadata": {
    "execution": {
     "iopub.execute_input": "2025-01-08T03:31:41.468995Z",
     "iopub.status.busy": "2025-01-08T03:31:41.468730Z",
     "iopub.status.idle": "2025-01-08T03:31:44.085886Z",
     "shell.execute_reply": "2025-01-08T03:31:44.084785Z"
    }
   },
   "outputs": [
    {
     "data": {
      "text/plain": [
       "ParsedChatCompletionMessage[TechProduct](content='{\"names\":[\"iPhone 15\",\"Samsung Galaxy S23\",\"Google Pixel 8\",\"MacBook Pro 2023\",\"Dell XPS 13\"],\"descriptions\":[\"The latest iPhone model featuring a new A17 Bionic chip, improved camera system, and longer battery life.\",\"Samsung\\'s flagship smartphone with a dynamic AMOLED display, advanced camera features, and 5G connectivity.\",\"Google\\'s newest Pixel phone offering an upgraded Tensor chip, enhanced AI capabilities, and a stunning OLED display.\",\"Apple\\'s high-performance laptop with the M3 chip, Retina display, and all-day battery life.\",\"Dell\\'s ultra-portable laptop with a 13-inch InfinityEdge display, 11th Gen Intel processors, and a sleek design.\"]}', refusal=None, role='assistant', audio=None, function_call=None, tool_calls=[], parsed=TechProduct(names=['iPhone 15', 'Samsung Galaxy S23', 'Google Pixel 8', 'MacBook Pro 2023', 'Dell XPS 13'], descriptions=['The latest iPhone model featuring a new A17 Bionic chip, improved camera system, and longer battery life.', \"Samsung's flagship smartphone with a dynamic AMOLED display, advanced camera features, and 5G connectivity.\", \"Google's newest Pixel phone offering an upgraded Tensor chip, enhanced AI capabilities, and a stunning OLED display.\", \"Apple's high-performance laptop with the M3 chip, Retina display, and all-day battery life.\", \"Dell's ultra-portable laptop with a 13-inch InfinityEdge display, 11th Gen Intel processors, and a sleek design.\"]))"
      ]
     },
     "execution_count": 17,
     "metadata": {},
     "output_type": "execute_result"
    }
   ],
   "source": [
    "from pydantic import BaseModel, Field\n",
    "from typing import List\n",
    "\n",
    "\n",
    "class TechProduct(BaseModel):\n",
    "    names: List[str] = Field(..., title=\"All the product names\", description=\"The titles of the products in question\")\n",
    "    descriptions: List[str] = Field(..., title=\"All the product descriptions\", description=\"A complete list of descriptions of the products extracted from the source.\")\n",
    "    \n",
    "def extract_tech_product_data(raw_tech_data: str):\n",
    "    response = client.beta.chat.completions.parse(\n",
    "        model=\"gpt-4o\",\n",
    "        messages=[\n",
    "            {'role': 'system', 'content': 'You are an extraction engine for tech products, \\\n",
    "                you extract the following fields:\\\n",
    "                1. name - list of all names of products in the input\\\n",
    "                2. description - list of all descritionps in the products\\\n",
    "                    Make sure to extract all the names and descriptions from the input.'},\n",
    "        ],\n",
    "        response_format=TechProduct,\n",
    "        temperature=0.0\n",
    "    )\n",
    "    \n",
    "    return response.choices[0].message\n",
    "\n",
    "tech_data_structured = extract_tech_product_data(f'Extract all the names and descriptions from this raw data: \\n\\n {data_tech}')\n",
    "tech_data_structured"
   ]
  },
  {
   "cell_type": "code",
   "execution_count": 18,
   "metadata": {
    "execution": {
     "iopub.execute_input": "2025-01-08T03:31:44.090727Z",
     "iopub.status.busy": "2025-01-08T03:31:44.090353Z",
     "iopub.status.idle": "2025-01-08T03:31:44.095837Z",
     "shell.execute_reply": "2025-01-08T03:31:44.095276Z"
    }
   },
   "outputs": [
    {
     "data": {
      "text/plain": [
       "['iPhone 15',\n",
       " 'Samsung Galaxy S23',\n",
       " 'Google Pixel 8',\n",
       " 'MacBook Pro 2023',\n",
       " 'Dell XPS 13']"
      ]
     },
     "execution_count": 18,
     "metadata": {},
     "output_type": "execute_result"
    }
   ],
   "source": [
    "tech_data_structured.parsed.names"
   ]
  },
  {
   "cell_type": "code",
   "execution_count": 19,
   "metadata": {
    "execution": {
     "iopub.execute_input": "2025-01-08T03:31:44.098590Z",
     "iopub.status.busy": "2025-01-08T03:31:44.098388Z",
     "iopub.status.idle": "2025-01-08T03:31:44.102230Z",
     "shell.execute_reply": "2025-01-08T03:31:44.101636Z"
    }
   },
   "outputs": [
    {
     "data": {
      "text/plain": [
       "['The latest iPhone model featuring a new A17 Bionic chip, improved camera system, and longer battery life.',\n",
       " \"Samsung's flagship smartphone with a dynamic AMOLED display, advanced camera features, and 5G connectivity.\",\n",
       " \"Google's newest Pixel phone offering an upgraded Tensor chip, enhanced AI capabilities, and a stunning OLED display.\",\n",
       " \"Apple's high-performance laptop with the M3 chip, Retina display, and all-day battery life.\",\n",
       " \"Dell's ultra-portable laptop with a 13-inch InfinityEdge display, 11th Gen Intel processors, and a sleek design.\"]"
      ]
     },
     "execution_count": 19,
     "metadata": {},
     "output_type": "execute_result"
    }
   ],
   "source": [
    "tech_data_structured.parsed.descriptions"
   ]
  },
  {
   "cell_type": "code",
   "execution_count": 20,
   "metadata": {
    "execution": {
     "iopub.execute_input": "2025-01-08T03:31:44.104630Z",
     "iopub.status.busy": "2025-01-08T03:31:44.104425Z",
     "iopub.status.idle": "2025-01-08T03:31:47.567956Z",
     "shell.execute_reply": "2025-01-08T03:31:47.567021Z"
    }
   },
   "outputs": [
    {
     "data": {
      "text/markdown": [
       "Here’s a flowchart diagram created in Mermaid syntax that outlines the process of a customer buying a product from an e-commerce website:\n",
       "\n",
       "```mermaid\n",
       "flowchart TD\n",
       "    A[Start] --> B[Customer visits e-commerce website]\n",
       "    B --> C[Customer browses products]\n",
       "    C --> D{Selects a product?}\n",
       "    D -->|Yes| E[View product details]\n",
       "    D -->|No| C\n",
       "    E --> F[Add product to cart]\n",
       "    F --> G{Continue shopping?}\n",
       "    G -->|Yes| C\n",
       "    G -->|No| H[Go to checkout]\n",
       "    H --> I[Enter shipping information]\n",
       "    I --> J[Choose payment method]\n",
       "    J --> K[Review order]\n",
       "    K --> L{Confirm order?}\n",
       "    L -->|Yes| M[Process payment]\n",
       "    M --> N[Order confirmation]\n",
       "    L -->|No| K\n",
       "    N --> O[End]\n",
       "```\n",
       "\n",
       "You can visualize this flowchart using a Mermaid renderer, which will clearly show the steps involved in the purchasing process on an e-commerce website."
      ],
      "text/plain": [
       "<IPython.core.display.Markdown object>"
      ]
     },
     "execution_count": 20,
     "metadata": {},
     "output_type": "execute_result"
    }
   ],
   "source": [
    "def create_diagrams_with_AI(user_query):\n",
    "    response = client.chat.completions.create(\n",
    "        model=MODEL,\n",
    "        messages=[{\"role\": \"system\", \"content\": \"You create mermaid diagrams with AI.\"},\n",
    "                  {\"role\": \"user\", \"content\": user_query}]\n",
    "    )\n",
    "    \n",
    "    return response.choices[0].message.content\n",
    "\n",
    "output_diagram_raw = create_diagrams_with_AI(\"Create a diagram of a flowchart that shows the process of a customer \\\n",
    "    buying a product from an e-commerce website.\")\n",
    "\n",
    "Markdown(output_diagram_raw)"
   ]
  },
  {
   "cell_type": "code",
   "execution_count": 21,
   "metadata": {
    "execution": {
     "iopub.execute_input": "2025-01-08T03:31:47.572230Z",
     "iopub.status.busy": "2025-01-08T03:31:47.571914Z",
     "iopub.status.idle": "2025-01-08T03:31:49.402278Z",
     "shell.execute_reply": "2025-01-08T03:31:49.401377Z"
    }
   },
   "outputs": [
    {
     "data": {
      "text/markdown": [
       "```mermaid\n",
       "flowchart TD\n",
       "    A[Start] --> B[Visit E-commerce Website]\n",
       "    B --> C[Browse Products]\n",
       "    C --> D[Select Product]\n",
       "    D --> E[Add to Cart]\n",
       "    E --> F[View Cart]\n",
       "    F --> G[Proceed to Checkout]\n",
       "    G --> H[Enter Shipping Information]\n",
       "    H --> I[Enter Payment Information]\n",
       "    I --> J[Review Order]\n",
       "    J --> K[Place Order]\n",
       "    K --> L[Receive Confirmation]\n",
       "    L --> M[End]\n",
       "```"
      ],
      "text/plain": [
       "<IPython.core.display.Markdown object>"
      ]
     },
     "execution_count": 21,
     "metadata": {},
     "output_type": "execute_result"
    }
   ],
   "source": [
    "class MermaidDiagram(BaseModel):\n",
    "    diagram: str = Field(..., title=\"Mermaid Diagram\", description=\"The mermaid diagram as a properly formatted markdown ready to visualize.\")\n",
    "\n",
    "def create_diagrams_with_AI(user_query):\n",
    "    response = client.beta.chat.completions.parse(\n",
    "        model=MODEL,\n",
    "        messages=[{\"role\": \"system\", \"content\": \"You create mermaid diagrams with AI ready to be visualized in markdown.\"},\n",
    "                  {\"role\": \"user\", \"content\": user_query}],\n",
    "        response_format=MermaidDiagram,\n",
    "        temperature=0.0\n",
    "    )\n",
    "    \n",
    "    return response.choices[0].message.parsed.diagram\n",
    "\n",
    "output_diagram_raw = create_diagrams_with_AI(\"Create a diagram of a flowchart that shows the process of a customer \\\n",
    "    buying a product from an e-commerce website.\")\n",
    "\n",
    "Markdown(output_diagram_raw)"
   ]
  },
  {
   "cell_type": "markdown",
   "metadata": {},
   "source": []
  }
 ],
 "metadata": {
  "kernelspec": {
   "display_name": "oreilly-chatgpt-apps",
   "language": "python",
   "name": "oreilly-chatgpt-apps"
  },
  "language_info": {
   "codemirror_mode": {
    "name": "ipython",
    "version": 3
   },
   "file_extension": ".py",
   "mimetype": "text/x-python",
   "name": "python",
   "nbconvert_exporter": "python",
   "pygments_lexer": "ipython3",
   "version": "3.11.10"
  }
 },
 "nbformat": 4,
 "nbformat_minor": 2
}
