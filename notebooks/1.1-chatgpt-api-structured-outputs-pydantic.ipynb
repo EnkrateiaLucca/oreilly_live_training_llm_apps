{
 "cells": [
  {
   "cell_type": "code",
   "execution_count": 1,
   "metadata": {
    "execution": {
     "iopub.execute_input": "2025-01-08T03:31:08.493236Z",
     "iopub.status.busy": "2025-01-08T03:31:08.492766Z",
     "iopub.status.idle": "2025-01-08T03:31:08.505508Z",
     "shell.execute_reply": "2025-01-08T03:31:08.504614Z"
    }
   },
   "outputs": [],
   "source": [
    "import os\n",
    "# loading from a .env file\n",
    "# load_dotenv(dotenv_path=\"/full/path/to/your/.env\")\n",
    "\n",
    "# or \n",
    "# if you're on google colab just uncomment below and replace with your openai api key\n",
    "# os.environ[\"OPENAI_API_KEY\"] = \"<your-openai-api-key>\""
   ]
  },
  {
   "cell_type": "code",
   "execution_count": 2,
   "metadata": {
    "execution": {
     "iopub.execute_input": "2025-01-08T03:31:08.509659Z",
     "iopub.status.busy": "2025-01-08T03:31:08.509362Z",
     "iopub.status.idle": "2025-01-08T03:31:08.513874Z",
     "shell.execute_reply": "2025-01-08T03:31:08.513162Z"
    }
   },
   "outputs": [],
   "source": [
    "MODEL = 'gpt-4o-mini'"
   ]
  },
  {
   "cell_type": "code",
   "execution_count": 3,
   "metadata": {
    "execution": {
     "iopub.execute_input": "2025-01-08T03:31:08.516761Z",
     "iopub.status.busy": "2025-01-08T03:31:08.516330Z",
     "iopub.status.idle": "2025-01-08T03:31:08.700546Z",
     "shell.execute_reply": "2025-01-08T03:31:08.700248Z"
    }
   },
   "outputs": [],
   "source": [
    "from openai import OpenAI\n",
    "client = OpenAI()\n",
    "\n",
    "def recommender_chat_bot(user_query):\n",
    "    response = client.chat.completions.create(\n",
    "        model=MODEL,\n",
    "        messages=[{\"role\": \"system\", \"content\": \"You are a chatbot system \\\n",
    "            and recommender for products about tech to a diverse group of users.\"},\n",
    "                  {\"role\": \"user\", \"content\": user_query}]\n",
    "    )\n",
    "    \n",
    "    return response.choices[0].message.content"
   ]
  },
  {
   "cell_type": "code",
   "execution_count": 4,
   "metadata": {
    "execution": {
     "iopub.execute_input": "2025-01-08T03:31:08.702046Z",
     "iopub.status.busy": "2025-01-08T03:31:08.701975Z",
     "iopub.status.idle": "2025-01-08T03:31:25.607785Z",
     "shell.execute_reply": "2025-01-08T03:31:25.606329Z"
    }
   },
   "outputs": [
    {
     "data": {
      "text/plain": [
       "'Sure! Here’s a list of 20 tech products along with their descriptions:\\n\\n1. **Smartphone-X Pro**\\n   - A high-performance smartphone featuring a 108MP camera, 5G connectivity, and a 6.7-inch OLED display for vibrant visuals.\\n\\n2. **EcoCharge Solar Power Bank**\\n   - A portable power bank that harnesses solar energy, equipped with dual USB ports and a rugged design for outdoor adventures.\\n\\n3. **Smart Home Hub**\\n   - A central device that connects and manages all smart appliances, providing voice control through AI and integrating with popular home automation systems.\\n\\n4. **Wireless Noise-Canceling Headphones**\\n   - Over-ear headphones that offer immersive sound quality with customizable noise-canceling settings and a battery life of up to 30 hours.\\n\\n5. **AI-Powered Personal Assistant**\\n   - A voice-activated device that manages schedules, controls home devices, and answers questions using advanced machine learning algorithms.\\n\\n6. **4K Ultra HD Streaming Stick**\\n   - A compact streaming device enabling access to various streaming platforms in 4K quality, with voice search and a user-friendly interface.\\n\\n7. **Fitness Tracking Smartwatch**\\n   - A sleek smartwatch that monitors heart rate, activity levels, sleep patterns, and provides GPS tracking for workouts, all synced with a mobile app.\\n\\n8. **Virtual Reality Headset**\\n   - An immersive VR headset featuring high-resolution displays and motion tracking, offering a wide range of gaming and interactive experiences.\\n\\n9. **Smart Thermostat**\\n   - A programmable thermostat that learns your heating and cooling preferences, optimizing energy usage and controllable via a smartphone app.\\n\\n10. **Gaming Laptop with RTX GPU**\\n    - A powerful gaming laptop equipped with the latest NVIDIA RTX graphics card, delivering high-definition gaming experiences and fast processing speeds.\\n\\n11. **Smart Security Camera**\\n    - A Wi-Fi-enabled security camera featuring motion detection, night vision, and two-way audio, allowing users to monitor their homes from anywhere.\\n\\n12. **Portable Bluetooth Speaker**\\n    - A waterproof Bluetooth speaker with powerful acoustics, offering up to 12 hours of battery life for outdoor music enjoyment.\\n\\n13. **Augmented Reality Glasses**\\n    - Lightweight AR glasses providing overlay information on the real world, compatible with various applications for gaming, navigation, and education.\\n\\n14. **Wireless Charging Pad**\\n    - A sleek and efficient charging pad that supports multiple devices simultaneously with fast charging capabilities for compatible smartphones.\\n\\n15. **AI Language Translator Device**\\n    - A handheld device that provides real-time language translation, supporting multiple languages and ideal for travelers and business professionals alike.\\n\\n16. **Smart Refrigerator**\\n    - An advanced refrigerator with a touch-screen interface, equipped with internal cameras to manage groceries remotely and suggest recipes.\\n\\n17. **Robot Vacuum Cleaner**\\n    - An automated vacuum cleaner that uses AI for efficient cleaning patterns, equipped with Wi-Fi connectivity for scheduled cleaning via a mobile app.\\n\\n18. **Multi-Device Wireless Keyboard**\\n    - A versatile keyboard that can seamlessly switch between connected devices, featuring ergonomic design and customizable shortcuts.\\n\\n19. **Digital Whiteboard**\\n    - An interactive whiteboard ideal for classrooms and meetings, allowing users to write, draw, and share content digitally with integrated connectivity options.\\n\\n20. **Smart Plant Monitor**\\n    - A device that monitors soil moisture, sunlight, and temperature, providing care recommendations through a connected app for gardening enthusiasts.\\n\\nFeel free to ask for more or any specific details about these products!'"
      ]
     },
     "execution_count": 4,
     "metadata": {},
     "output_type": "execute_result"
    }
   ],
   "source": [
    "def generate_data_with_chatgpt(data_example):\n",
    "    response = client.chat.completions.create(\n",
    "        model=MODEL,\n",
    "        messages=[{\"role\": \"system\", \"content\": \"You generate examples of tech products.\"},\n",
    "                  {\"role\": \"user\", \"content\": data_example}]\n",
    "    )\n",
    "    \n",
    "    return response.choices[0].message.content\n",
    "\n",
    "\n",
    "tech_products_prompt = \"Create 20 examples of tech products\\\n",
    "    with their descriptions as a list of bullet points\"\n",
    "\n",
    "data_tech = generate_data_with_chatgpt(tech_products_prompt)\n",
    "data_tech"
   ]
  },
  {
   "cell_type": "code",
   "execution_count": 5,
   "metadata": {
    "execution": {
     "iopub.execute_input": "2025-01-08T03:31:25.714078Z",
     "iopub.status.busy": "2025-01-08T03:31:25.712961Z",
     "iopub.status.idle": "2025-01-08T03:31:25.809401Z",
     "shell.execute_reply": "2025-01-08T03:31:25.763036Z"
    }
   },
   "outputs": [
    {
     "data": {
      "text/markdown": [
       "Sure! Here’s a list of 20 tech products along with their descriptions:\n",
       "\n",
       "1. **Smartphone-X Pro**\n",
       "   - A high-performance smartphone featuring a 108MP camera, 5G connectivity, and a 6.7-inch OLED display for vibrant visuals.\n",
       "\n",
       "2. **EcoCharge Solar Power Bank**\n",
       "   - A portable power bank that harnesses solar energy, equipped with dual USB ports and a rugged design for outdoor adventures.\n",
       "\n",
       "3. **Smart Home Hub**\n",
       "   - A central device that connects and manages all smart appliances, providing voice control through AI and integrating with popular home automation systems.\n",
       "\n",
       "4. **Wireless Noise-Canceling Headphones**\n",
       "   - Over-ear headphones that offer immersive sound quality with customizable noise-canceling settings and a battery life of up to 30 hours.\n",
       "\n",
       "5. **AI-Powered Personal Assistant**\n",
       "   - A voice-activated device that manages schedules, controls home devices, and answers questions using advanced machine learning algorithms.\n",
       "\n",
       "6. **4K Ultra HD Streaming Stick**\n",
       "   - A compact streaming device enabling access to various streaming platforms in 4K quality, with voice search and a user-friendly interface.\n",
       "\n",
       "7. **Fitness Tracking Smartwatch**\n",
       "   - A sleek smartwatch that monitors heart rate, activity levels, sleep patterns, and provides GPS tracking for workouts, all synced with a mobile app.\n",
       "\n",
       "8. **Virtual Reality Headset**\n",
       "   - An immersive VR headset featuring high-resolution displays and motion tracking, offering a wide range of gaming and interactive experiences.\n",
       "\n",
       "9. **Smart Thermostat**\n",
       "   - A programmable thermostat that learns your heating and cooling preferences, optimizing energy usage and controllable via a smartphone app.\n",
       "\n",
       "10. **Gaming Laptop with RTX GPU**\n",
       "    - A powerful gaming laptop equipped with the latest NVIDIA RTX graphics card, delivering high-definition gaming experiences and fast processing speeds.\n",
       "\n",
       "11. **Smart Security Camera**\n",
       "    - A Wi-Fi-enabled security camera featuring motion detection, night vision, and two-way audio, allowing users to monitor their homes from anywhere.\n",
       "\n",
       "12. **Portable Bluetooth Speaker**\n",
       "    - A waterproof Bluetooth speaker with powerful acoustics, offering up to 12 hours of battery life for outdoor music enjoyment.\n",
       "\n",
       "13. **Augmented Reality Glasses**\n",
       "    - Lightweight AR glasses providing overlay information on the real world, compatible with various applications for gaming, navigation, and education.\n",
       "\n",
       "14. **Wireless Charging Pad**\n",
       "    - A sleek and efficient charging pad that supports multiple devices simultaneously with fast charging capabilities for compatible smartphones.\n",
       "\n",
       "15. **AI Language Translator Device**\n",
       "    - A handheld device that provides real-time language translation, supporting multiple languages and ideal for travelers and business professionals alike.\n",
       "\n",
       "16. **Smart Refrigerator**\n",
       "    - An advanced refrigerator with a touch-screen interface, equipped with internal cameras to manage groceries remotely and suggest recipes.\n",
       "\n",
       "17. **Robot Vacuum Cleaner**\n",
       "    - An automated vacuum cleaner that uses AI for efficient cleaning patterns, equipped with Wi-Fi connectivity for scheduled cleaning via a mobile app.\n",
       "\n",
       "18. **Multi-Device Wireless Keyboard**\n",
       "    - A versatile keyboard that can seamlessly switch between connected devices, featuring ergonomic design and customizable shortcuts.\n",
       "\n",
       "19. **Digital Whiteboard**\n",
       "    - An interactive whiteboard ideal for classrooms and meetings, allowing users to write, draw, and share content digitally with integrated connectivity options.\n",
       "\n",
       "20. **Smart Plant Monitor**\n",
       "    - A device that monitors soil moisture, sunlight, and temperature, providing care recommendations through a connected app for gardening enthusiasts.\n",
       "\n",
       "Feel free to ask for more or any specific details about these products!"
      ],
      "text/plain": [
       "<IPython.core.display.Markdown object>"
      ]
     },
     "execution_count": 5,
     "metadata": {},
     "output_type": "execute_result"
    }
   ],
   "source": [
    "from IPython.display import Markdown\n",
    "Markdown(data_tech)"
   ]
  },
  {
   "cell_type": "code",
   "execution_count": 6,
   "metadata": {
    "execution": {
     "iopub.execute_input": "2025-01-08T03:31:25.861966Z",
     "iopub.status.busy": "2025-01-08T03:31:25.861305Z",
     "iopub.status.idle": "2025-01-08T03:31:40.253478Z",
     "shell.execute_reply": "2025-01-08T03:31:40.251283Z"
    }
   },
   "outputs": [
    {
     "data": {
      "text/markdown": [
       "Here are 10 diverse customer profiles based on different backgrounds and preferences:\n",
       "\n",
       "1. **Profile Name:** Tech-Savvy Millennial  \n",
       "   - **Age:** 28  \n",
       "   - **Occupation:** Software Engineer  \n",
       "   - **Location:** San Francisco, CA  \n",
       "   - **Interests:** Latest tech gadgets, online gaming, digital art  \n",
       "   - **Purchasing Preferences:** Prefers online shopping, values user reviews and product testing videos; frequent buyer of subscription services for streaming and software.  \n",
       "\n",
       "2. **Profile Name:** Eco-Conscious Parent  \n",
       "   - **Age:** 35  \n",
       "   - **Occupation:** Elementary School Teacher  \n",
       "   - **Location:** Portland, OR  \n",
       "   - **Interests:** Sustainable living, outdoor activities, family wellness  \n",
       "   - **Purchasing Preferences:** Looks for eco-friendly products, interested in organic and local goods, often purchases educational toys for children.  \n",
       "\n",
       "3. **Profile Name:** Retired Traveler  \n",
       "   - **Age:** 65  \n",
       "   - **Occupation:** Retired (Former Marketing Executive)  \n",
       "   - **Location:** Miami, FL  \n",
       "   - **Interests:** Traveling, gardening, volunteering  \n",
       "   - **Purchasing Preferences:** Prefers high-quality travel gear, takes advantage of senior discounts, enjoys booking through travel agencies.  \n",
       "\n",
       "4. **Profile Name:** Health and Fitness Enthusiast  \n",
       "   - **Age:** 30  \n",
       "   - **Occupation:** Personal Trainer  \n",
       "   - **Location:** New York, NY  \n",
       "   - **Interests:** Fitness classes, nutrition, wellness coaching  \n",
       "   - **Purchasing Preferences:** Frequently purchases athletic apparel and supplements, prefers brands that promote a healthy lifestyle, subscribes to fitness apps and services.  \n",
       "\n",
       "5. **Profile Name:** Fashion-Forward Student  \n",
       "   - **Age:** 21  \n",
       "   - **Occupation:** College Student (Fashion Design)  \n",
       "   - **Location:** Los Angeles, CA  \n",
       "   - **Interests:** Fashion trends, social media, thrifting  \n",
       "   - **Purchasing Preferences:** Enjoys shopping for trendy, affordable clothes, often uses social media influencers for inspiration, values sustainability in fashion.  \n",
       "\n",
       "6. **Profile Name:** Busy Professional  \n",
       "   - **Age:** 40  \n",
       "   - **Occupation:** Corporate Finance Manager  \n",
       "   - **Location:** Chicago, IL  \n",
       "   - **Interests:** Networking, gourmet cooking, fine dining  \n",
       "   - **Purchasing Preferences:** Prefers convenient meal kits and quick service restaurants, regularly dines out, invests in high-end kitchen appliances.  \n",
       "\n",
       "7. **Profile Name:** Indie Music Aficionado  \n",
       "   - **Age:** 27  \n",
       "   - **Occupation:** Graphic Designer  \n",
       "   - **Location:** Seattle, WA  \n",
       "   - **Interests:** Live music, art galleries, local craft beers  \n",
       "   - **Purchasing Preferences:** Enjoys vinyl records, supports local artists and labels, frequently attends music festivals and concerts.  \n",
       "\n",
       "8. **Profile Name:** Family-Focused Homebody  \n",
       "   - **Age:** 45  \n",
       "   - **Occupation:** Stay-at-Home Mom  \n",
       "   - **Location:** Suburban Texas  \n",
       "   - **Interests:** Cooking, DIY projects, family-oriented activities  \n",
       "   - **Purchasing Preferences:** Looks for bulk-buy options for groceries, enjoys home improvement and craft supplies, often purchases family board games and outdoor equipment.  \n",
       "\n",
       "9. **Profile Name:** Adventurous Single  \n",
       "   - **Age:** 32  \n",
       "   - **Occupation:** Outdoor Guide  \n",
       "   - **Location:** Colorado  \n",
       "   - **Interests:** Hiking, camping, rock climbing  \n",
       "   - **Purchasing Preferences:** Invests in durable outdoor gear, seeks experiential purchases (such as guided tours), frequently looks for travel deals to wilderness locations.  \n",
       "\n",
       "10. **Profile Name:** Tech Industry Executive  \n",
       "   - **Age:** 50  \n",
       "   - **Occupation:** Chief Technology Officer  \n",
       "   - **Location:** Austin, TX  \n",
       "   - **Interests:** Innovations in technology, philanthropy, fine arts  \n",
       "   - **Purchasing Preferences:** Buys premium tech products and services, values corporate social responsibility, enjoys fine dining experiences with colleagues and industry peers.  \n",
       "\n",
       "These profiles illustrate a variety of lifestyles, interests, and purchasing decisions, showcasing how customer behaviors can differ widely based on background and preferences."
      ],
      "text/plain": [
       "<IPython.core.display.Markdown object>"
      ]
     },
     "execution_count": 6,
     "metadata": {},
     "output_type": "execute_result"
    }
   ],
   "source": [
    "def create_costumer_profile(user_query):\n",
    "    response = client.chat.completions.create(\n",
    "        model=MODEL,\n",
    "        messages=[{\"role\": \"system\", \"content\": \"You create a list of customer \\\n",
    "            profiles based on input.\"},\n",
    "                  {\"role\": \"user\", \"content\": user_query}]\n",
    "    )\n",
    "    \n",
    "    return response.choices[0].message.content\n",
    "\n",
    "\n",
    "create_costumer_profile = create_costumer_profile(\"Create 10 customer profiles \\\n",
    "    for users with different backgrounds and preferences.\")\n",
    "\n",
    "Markdown(create_costumer_profile)"
   ]
  },
  {
   "cell_type": "code",
   "execution_count": 7,
   "metadata": {
    "execution": {
     "iopub.execute_input": "2025-01-08T03:31:40.263791Z",
     "iopub.status.busy": "2025-01-08T03:31:40.263140Z",
     "iopub.status.idle": "2025-01-08T03:31:41.454349Z",
     "shell.execute_reply": "2025-01-08T03:31:41.453200Z"
    }
   },
   "outputs": [
    {
     "data": {
      "text/markdown": [
       "Hi Carlos! Based on your interest in culinary arts and premium quality products, I recommend the **Smart Refrigerator**. It features a touch-screen interface and internal cameras to manage your groceries and suggest recipes, making it perfect for a restaurant owner like you. Enjoy your cooking!"
      ],
      "text/plain": [
       "<IPython.core.display.Markdown object>"
      ]
     },
     "execution_count": 7,
     "metadata": {},
     "output_type": "execute_result"
    }
   ],
   "source": [
    "profile_10 = \"\"\"\n",
    "Customer Profile 10: Carlos Ramirez\n",
    "Age: 38\n",
    "Occupation: Restaurant Owner\n",
    "Location: San Diego, CA\n",
    "Interests: Culinary arts, wine tasting, fitness\n",
    "Shopping Preferences: Seeks gourmet cooking supplies and health-conscious food options. Enjoys premium quality products.\n",
    "Spending Behavior: High spender, especially in gourmet and culinary-related categories.\n",
    "These profiles illustrate the complexity of customer preferences, behaviors, and demographics.\n",
    "\"\"\"\n",
    "\n",
    "\n",
    "def recommend_product(profile):\n",
    "    prompt_to_recommender = f\"Recommend a tech product from this list ONLY:\\n\\n{data_tech} \\\n",
    "        for this customer profile: {profile}.\\\n",
    "        Output ONLY A SIMPLE MESSAGE REFERENCING THE CUSTOMER AND THE recommendations.\"\n",
    "    \n",
    "    recommendation = recommender_chat_bot(prompt_to_recommender)\n",
    "    \n",
    "    return recommendation\n",
    "\n",
    "\n",
    "product_recommendation = recommend_product(profile_10)\n",
    "\n",
    "Markdown(product_recommendation)"
   ]
  },
  {
   "cell_type": "code",
   "execution_count": 8,
   "metadata": {
    "execution": {
     "iopub.execute_input": "2025-01-08T03:31:41.459696Z",
     "iopub.status.busy": "2025-01-08T03:31:41.459274Z",
     "iopub.status.idle": "2025-01-08T03:31:41.465258Z",
     "shell.execute_reply": "2025-01-08T03:31:41.464529Z"
    }
   },
   "outputs": [
    {
     "data": {
      "text/plain": [
       "'Sure! Here’s a list of 20 tech products along with their descriptions:\\n\\n1. **Smartphone-X Pro**\\n   - A high-performance smartphone featuring a 108MP camera, 5G connectivity, and a 6.7-inch OLED display for vibrant visuals.\\n\\n2. **EcoCharge Solar Power Bank**\\n   - A portable power bank that harnesses solar energy, equipped with dual USB ports and a rugged design for outdoor adventures.\\n\\n3. **Smart Home Hub**\\n   - A central device that connects and manages all smart appliances, providing voice control through AI and integrating with popular home automation systems.\\n\\n4. **Wireless Noise-Canceling Headphones**\\n   - Over-ear headphones that offer immersive sound quality with customizable noise-canceling settings and a battery life of up to 30 hours.\\n\\n5. **AI-Powered Personal Assistant**\\n   - A voice-activated device that manages schedules, controls home devices, and answers questions using advanced machine learning algorithms.\\n\\n6. **4K Ultra HD Streaming Stick**\\n   - A compact streaming device enabling access to various streaming platforms in 4K quality, with voice search and a user-friendly interface.\\n\\n7. **Fitness Tracking Smartwatch**\\n   - A sleek smartwatch that monitors heart rate, activity levels, sleep patterns, and provides GPS tracking for workouts, all synced with a mobile app.\\n\\n8. **Virtual Reality Headset**\\n   - An immersive VR headset featuring high-resolution displays and motion tracking, offering a wide range of gaming and interactive experiences.\\n\\n9. **Smart Thermostat**\\n   - A programmable thermostat that learns your heating and cooling preferences, optimizing energy usage and controllable via a smartphone app.\\n\\n10. **Gaming Laptop with RTX GPU**\\n    - A powerful gaming laptop equipped with the latest NVIDIA RTX graphics card, delivering high-definition gaming experiences and fast processing speeds.\\n\\n11. **Smart Security Camera**\\n    - A Wi-Fi-enabled security camera featuring motion detection, night vision, and two-way audio, allowing users to monitor their homes from anywhere.\\n\\n12. **Portable Bluetooth Speaker**\\n    - A waterproof Bluetooth speaker with powerful acoustics, offering up to 12 hours of battery life for outdoor music enjoyment.\\n\\n13. **Augmented Reality Glasses**\\n    - Lightweight AR glasses providing overlay information on the real world, compatible with various applications for gaming, navigation, and education.\\n\\n14. **Wireless Charging Pad**\\n    - A sleek and efficient charging pad that supports multiple devices simultaneously with fast charging capabilities for compatible smartphones.\\n\\n15. **AI Language Translator Device**\\n    - A handheld device that provides real-time language translation, supporting multiple languages and ideal for travelers and business professionals alike.\\n\\n16. **Smart Refrigerator**\\n    - An advanced refrigerator with a touch-screen interface, equipped with internal cameras to manage groceries remotely and suggest recipes.\\n\\n17. **Robot Vacuum Cleaner**\\n    - An automated vacuum cleaner that uses AI for efficient cleaning patterns, equipped with Wi-Fi connectivity for scheduled cleaning via a mobile app.\\n\\n18. **Multi-Device Wireless Keyboard**\\n    - A versatile keyboard that can seamlessly switch between connected devices, featuring ergonomic design and customizable shortcuts.\\n\\n19. **Digital Whiteboard**\\n    - An interactive whiteboard ideal for classrooms and meetings, allowing users to write, draw, and share content digitally with integrated connectivity options.\\n\\n20. **Smart Plant Monitor**\\n    - A device that monitors soil moisture, sunlight, and temperature, providing care recommendations through a connected app for gardening enthusiasts.\\n\\nFeel free to ask for more or any specific details about these products!'"
      ]
     },
     "execution_count": 8,
     "metadata": {},
     "output_type": "execute_result"
    }
   ],
   "source": [
    "data_tech"
   ]
  },
  {
   "cell_type": "code",
   "execution_count": 9,
   "metadata": {
    "execution": {
     "iopub.execute_input": "2025-01-08T03:31:41.468995Z",
     "iopub.status.busy": "2025-01-08T03:31:41.468730Z",
     "iopub.status.idle": "2025-01-08T03:31:44.085886Z",
     "shell.execute_reply": "2025-01-08T03:31:44.084785Z"
    }
   },
   "outputs": [
    {
     "data": {
      "text/plain": [
       "ParsedChatCompletionMessage[TechProduct](content='{\"names\":[\"iPhone 15\",\"Samsung Galaxy S23\",\"Google Pixel 8\",\"MacBook Pro 2023\",\"Dell XPS 13\"],\"descriptions\":[\"The latest iPhone model featuring an A17 Bionic chip, improved camera system, and longer battery life.\",\"Samsung\\'s flagship smartphone with a dynamic AMOLED display, advanced camera features, and 5G connectivity.\",\"Google\\'s newest Pixel phone offering a pure Android experience, enhanced AI capabilities, and a high-quality camera.\",\"Apple\\'s newest laptop with the M3 chip, offering improved performance, longer battery life, and a stunning Retina display.\",\"Dell\\'s premium ultrabook with a sleek design, powerful Intel processors, and a vibrant InfinityEdge display.\"]}', refusal=None, role='assistant', audio=None, function_call=None, tool_calls=[], parsed=TechProduct(names=['iPhone 15', 'Samsung Galaxy S23', 'Google Pixel 8', 'MacBook Pro 2023', 'Dell XPS 13'], descriptions=['The latest iPhone model featuring an A17 Bionic chip, improved camera system, and longer battery life.', \"Samsung's flagship smartphone with a dynamic AMOLED display, advanced camera features, and 5G connectivity.\", \"Google's newest Pixel phone offering a pure Android experience, enhanced AI capabilities, and a high-quality camera.\", \"Apple's newest laptop with the M3 chip, offering improved performance, longer battery life, and a stunning Retina display.\", \"Dell's premium ultrabook with a sleek design, powerful Intel processors, and a vibrant InfinityEdge display.\"]))"
      ]
     },
     "execution_count": 9,
     "metadata": {},
     "output_type": "execute_result"
    }
   ],
   "source": [
    "from pydantic import BaseModel, Field\n",
    "from typing import List\n",
    "\n",
    "\n",
    "class TechProduct(BaseModel):\n",
    "    names: List[str] = Field(..., title=\"All the product names\", description=\"The titles of the products in question\")\n",
    "    descriptions: List[str] = Field(..., title=\"All the product descriptions\", description=\"A complete list of descriptions of the products extracted from the source.\")\n",
    "    \n",
    "def extract_tech_product_data(raw_tech_data: str):\n",
    "    response = client.beta.chat.completions.parse(\n",
    "        model=\"gpt-4o\",\n",
    "        messages=[\n",
    "            {'role': 'system', 'content': 'You are an extraction engine for tech products, \\\n",
    "                you extract the following fields:\\\n",
    "                1. name - list of all names of products in the input\\\n",
    "                2. description - list of all descritionps in the products\\\n",
    "                    Make sure to extract all the names and descriptions from the input.'},\n",
    "        ],\n",
    "        response_format=TechProduct,\n",
    "        temperature=0.0\n",
    "    )\n",
    "    \n",
    "    return response.choices[0].message\n",
    "\n",
    "tech_data_structured = extract_tech_product_data(f'Extract all the names and descriptions from this raw data: \\n\\n {data_tech}')\n",
    "tech_data_structured"
   ]
  },
  {
   "cell_type": "code",
   "execution_count": 10,
   "metadata": {
    "execution": {
     "iopub.execute_input": "2025-01-08T03:31:44.090727Z",
     "iopub.status.busy": "2025-01-08T03:31:44.090353Z",
     "iopub.status.idle": "2025-01-08T03:31:44.095837Z",
     "shell.execute_reply": "2025-01-08T03:31:44.095276Z"
    }
   },
   "outputs": [
    {
     "data": {
      "text/plain": [
       "['iPhone 15',\n",
       " 'Samsung Galaxy S23',\n",
       " 'Google Pixel 8',\n",
       " 'MacBook Pro 2023',\n",
       " 'Dell XPS 13']"
      ]
     },
     "execution_count": 10,
     "metadata": {},
     "output_type": "execute_result"
    }
   ],
   "source": [
    "tech_data_structured.parsed.names"
   ]
  },
  {
   "cell_type": "code",
   "execution_count": 11,
   "metadata": {
    "execution": {
     "iopub.execute_input": "2025-01-08T03:31:44.098590Z",
     "iopub.status.busy": "2025-01-08T03:31:44.098388Z",
     "iopub.status.idle": "2025-01-08T03:31:44.102230Z",
     "shell.execute_reply": "2025-01-08T03:31:44.101636Z"
    }
   },
   "outputs": [
    {
     "data": {
      "text/plain": [
       "['The latest iPhone model featuring an A17 Bionic chip, improved camera system, and longer battery life.',\n",
       " \"Samsung's flagship smartphone with a dynamic AMOLED display, advanced camera features, and 5G connectivity.\",\n",
       " \"Google's newest Pixel phone offering a pure Android experience, enhanced AI capabilities, and a high-quality camera.\",\n",
       " \"Apple's newest laptop with the M3 chip, offering improved performance, longer battery life, and a stunning Retina display.\",\n",
       " \"Dell's premium ultrabook with a sleek design, powerful Intel processors, and a vibrant InfinityEdge display.\"]"
      ]
     },
     "execution_count": 11,
     "metadata": {},
     "output_type": "execute_result"
    }
   ],
   "source": [
    "tech_data_structured.parsed.descriptions"
   ]
  },
  {
   "cell_type": "code",
   "execution_count": 12,
   "metadata": {
    "execution": {
     "iopub.execute_input": "2025-01-08T03:31:44.104630Z",
     "iopub.status.busy": "2025-01-08T03:31:44.104425Z",
     "iopub.status.idle": "2025-01-08T03:31:47.567956Z",
     "shell.execute_reply": "2025-01-08T03:31:47.567021Z"
    }
   },
   "outputs": [
    {
     "data": {
      "text/markdown": [
       "Sure! Below is a textual representation of a flowchart for the process of a customer buying a product from an e-commerce website, using Mermaid syntax.\n",
       "\n",
       "```mermaid\n",
       "flowchart TD\n",
       "    A[Start] --> B[Visit E-commerce Website]\n",
       "    B --> C[Browse Products]\n",
       "    C --> D{Select a Product?}\n",
       "    D -- Yes --> E[Add Product to Cart]\n",
       "    D -- No --> C\n",
       "    E --> F[View Cart]\n",
       "    F --> G{Proceed to Checkout?}\n",
       "    G -- Yes --> H[Enter Shipping Information]\n",
       "    G -- No --> C\n",
       "    H --> I[Choose Payment Method]\n",
       "    I --> J[Enter Payment Information]\n",
       "    J --> K{Confirm Purchase?}\n",
       "    K -- Yes --> L[Process Order]\n",
       "    K -- No --> F\n",
       "    L --> M[Receive Confirmation Email]\n",
       "    M --> N[End]\n",
       "```\n",
       "\n",
       "You can use this code in a Markdown editor that supports Mermaid to visualize the flowchart."
      ],
      "text/plain": [
       "<IPython.core.display.Markdown object>"
      ]
     },
     "execution_count": 12,
     "metadata": {},
     "output_type": "execute_result"
    }
   ],
   "source": [
    "def create_diagrams_with_AI(user_query):\n",
    "    response = client.chat.completions.create(\n",
    "        model=MODEL,\n",
    "        messages=[{\"role\": \"system\", \"content\": \"You create mermaid diagrams with AI.\"},\n",
    "                  {\"role\": \"user\", \"content\": user_query}]\n",
    "    )\n",
    "    \n",
    "    return response.choices[0].message.content\n",
    "\n",
    "output_diagram_raw = create_diagrams_with_AI(\"Create a diagram of a flowchart that shows the process of a customer \\\n",
    "    buying a product from an e-commerce website.\")\n",
    "\n",
    "Markdown(output_diagram_raw)"
   ]
  },
  {
   "cell_type": "code",
   "execution_count": 13,
   "metadata": {
    "execution": {
     "iopub.execute_input": "2025-01-08T03:31:47.572230Z",
     "iopub.status.busy": "2025-01-08T03:31:47.571914Z",
     "iopub.status.idle": "2025-01-08T03:31:49.402278Z",
     "shell.execute_reply": "2025-01-08T03:31:49.401377Z"
    }
   },
   "outputs": [
    {
     "data": {
      "text/markdown": [
       "```mermaid\n",
       "flowchart TD\n",
       "    A[Start] --> B[Visit E-commerce Website]\n",
       "    B --> C[Browse Products]\n",
       "    C --> D[Select Product]\n",
       "    D --> E[Add to Cart]\n",
       "    E --> F[View Cart]\n",
       "    F --> G[Proceed to Checkout]\n",
       "    G --> H[Enter Shipping Information]\n",
       "    H --> I[Enter Payment Information]\n",
       "    I --> J[Review Order]\n",
       "    J --> K[Place Order]\n",
       "    K --> L[Receive Confirmation]\n",
       "    L --> M[End]\n",
       "```"
      ],
      "text/plain": [
       "<IPython.core.display.Markdown object>"
      ]
     },
     "execution_count": 13,
     "metadata": {},
     "output_type": "execute_result"
    }
   ],
   "source": [
    "class MermaidDiagram(BaseModel):\n",
    "    diagram: str = Field(..., title=\"Mermaid Diagram\", description=\"The mermaid diagram as a properly formatted markdown ready to visualize.\")\n",
    "\n",
    "def create_diagrams_with_AI(user_query):\n",
    "    response = client.beta.chat.completions.parse(\n",
    "        model=MODEL,\n",
    "        messages=[{\"role\": \"system\", \"content\": \"You create mermaid diagrams with AI ready to be visualized in markdown.\"},\n",
    "                  {\"role\": \"user\", \"content\": user_query}],\n",
    "        response_format=MermaidDiagram,\n",
    "        temperature=0.0\n",
    "    )\n",
    "    \n",
    "    return response.choices[0].message.parsed.diagram\n",
    "\n",
    "output_diagram_raw = create_diagrams_with_AI(\"Create a diagram of a flowchart that shows the process of a customer \\\n",
    "    buying a product from an e-commerce website.\")\n",
    "\n",
    "Markdown(output_diagram_raw)"
   ]
  },
  {
   "cell_type": "markdown",
   "metadata": {},
   "source": []
  }
 ],
 "metadata": {
  "kernelspec": {
   "display_name": "oreilly-chatgpt-apps",
   "language": "python",
   "name": "oreilly-chatgpt-apps"
  },
  "language_info": {
   "codemirror_mode": {
    "name": "ipython",
    "version": 3
   },
   "file_extension": ".py",
   "mimetype": "text/x-python",
   "name": "python",
   "nbconvert_exporter": "python",
   "pygments_lexer": "ipython3",
   "version": "3.11.10"
  }
 },
 "nbformat": 4,
 "nbformat_minor": 2
}
