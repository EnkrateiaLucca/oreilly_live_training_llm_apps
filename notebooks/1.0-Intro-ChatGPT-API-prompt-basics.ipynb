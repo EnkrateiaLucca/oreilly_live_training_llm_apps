{
 "cells": [
  {
   "cell_type": "code",
   "execution_count": 8,
   "metadata": {},
   "outputs": [],
   "source": [
    "%pip install openai\n",
    "%pip install python-dotenv"
   ]
  },
  {
   "cell_type": "code",
   "execution_count": 9,
   "metadata": {},
   "outputs": [],
   "source": [
    "import os\n",
    "from dotenv import load_dotenv\n",
    "\n",
    "# loading from a .env file\n",
    "# load_dotenv(dotenv_path=\"/full/path/to/your/.env\")\n",
    "\n",
    "# or \n",
    "# if you're on google colab just uncomment below and replace with your openai api key\n",
    "# os.environ[\"OPENAI_API_KEY\"] = \"<your-openai-api-key>\""
   ]
  },
  {
   "cell_type": "markdown",
   "metadata": {},
   "source": [
    "## Introduction to ChatGPT API\n",
    "\n",
    "- Where does ChatGPT fit into this chaotic universe?\n",
    "- The ChatGPT API (what’s the deal?)\n",
    "- How to use it, basics, parameters, simple examples, etc…"
   ]
  },
  {
   "cell_type": "markdown",
   "metadata": {},
   "source": [
    "The request body for the CHATGPT API involves many parameters, but let's focus on the following:\n",
    "\n",
    "- model: ID of the model to use.\n",
    "- messages: a list of messages comprising the conversation up to that point\n",
    "- temperature: What sampling temperature to use, between 0 and 2. Higher values like 0.8 will make the output more random, while lower values like 0.2 will make it more focused and deterministic.\n",
    "- n: number of chat completion choices to generate for each input message\n",
    "- max_tokens: the maximum number of tokens to generate in the chat completion"
   ]
  },
  {
   "cell_type": "code",
   "execution_count": 1,
   "metadata": {},
   "outputs": [
    {
     "data": {
      "text/plain": [
       "ChatCompletion(id='chatcmpl-BjRvvwm00BFwTBFLsMFZ1EXbYoyJQ', choices=[Choice(finish_reason='length', index=0, logprobs=None, message=ChatCompletionMessage(content=\"The absolute best type of breakfast can vary based on personal taste and dietary preferences, but if we're talking about a balance of flavor, nutrition, and overall satisfaction, here are the top three foods that often top the charts:\\n\\n1. **Avocado Toast**: Creamy, nutrient-dense avocado spread on whole-grain bread provides healthy fats, fiber, and a plethora of vitamins. You can elevate it with toppings like poached eggs, cherry tomatoes, or microgreens for extra flavor and nutrition.\\n\\n\", refusal=None, role='assistant', annotations=[], audio=None, function_call=None, tool_calls=None))], created=1750171835, model='gpt-4o-mini-2024-07-18', object='chat.completion', service_tier='default', system_fingerprint='fp_34a54ae93c', usage=CompletionUsage(completion_tokens=100, prompt_tokens=39, total_tokens=139, completion_tokens_details=CompletionTokensDetails(accepted_prediction_tokens=0, audio_tokens=0, reasoning_tokens=0, rejected_prediction_tokens=0), prompt_tokens_details=PromptTokensDetails(audio_tokens=0, cached_tokens=0)))"
      ]
     },
     "execution_count": 1,
     "metadata": {},
     "output_type": "execute_result"
    }
   ],
   "source": [
    "from openai import OpenAI\n",
    "\n",
    "prompt = \"What is the absolute best type of breakfast? List out the  top 3 foods.\"\n",
    "\n",
    "\n",
    "client = OpenAI()\n",
    "\n",
    "response = client.chat.completions.create(\n",
    "                             model=\"gpt-4o-mini\",\n",
    "                             messages=\n",
    "                             [ # System - description of the expected behavior from the model or output format expected.\n",
    "                                 {\"role\": \"system\", \"content\": \"You are an expert chef and bon vivant influencer.\"}, \n",
    "                                 # User - the message from the user\n",
    "                                 {\"role\": \"user\", \"content\": prompt}   \n",
    "                                 # Assistant - the response from the model\n",
    "                                 # example: {\"role\": \"assistant\", \"content\": \"The absolute best type of breakfast is pancakes.\"}\n",
    "                             ],\n",
    "                             max_tokens=100, # the maximum number of tokens to generate 100 tokens is approximately 30 words\n",
    "                             temperature=0.9, # the level of randomness in the generated text, so close to 0 means super precise, close to 2 means more creative\n",
    "                             n = 1)\n",
    "\n",
    "response"
   ]
  },
  {
   "cell_type": "code",
   "execution_count": 2,
   "metadata": {},
   "outputs": [
    {
     "name": "stdout",
     "output_type": "stream",
     "text": [
      "Response ID: chatcmpl-BjRvvwm00BFwTBFLsMFZ1EXbYoyJQ\n",
      "Choices: [Choice(finish_reason='length', index=0, logprobs=None, message=ChatCompletionMessage(content=\"The absolute best type of breakfast can vary based on personal taste and dietary preferences, but if we're talking about a balance of flavor, nutrition, and overall satisfaction, here are the top three foods that often top the charts:\\n\\n1. **Avocado Toast**: Creamy, nutrient-dense avocado spread on whole-grain bread provides healthy fats, fiber, and a plethora of vitamins. You can elevate it with toppings like poached eggs, cherry tomatoes, or microgreens for extra flavor and nutrition.\\n\\n\", refusal=None, role='assistant', annotations=[], audio=None, function_call=None, tool_calls=None))]\n",
      "Created: 1750171835\n",
      "Model: gpt-4o-mini-2024-07-18\n",
      "System Fingerprint: fp_34a54ae93c\n",
      "Object Type: chat.completion\n",
      "Usage: CompletionUsage(completion_tokens=100, prompt_tokens=39, total_tokens=139, completion_tokens_details=CompletionTokensDetails(accepted_prediction_tokens=0, audio_tokens=0, reasoning_tokens=0, rejected_prediction_tokens=0), prompt_tokens_details=PromptTokensDetails(audio_tokens=0, cached_tokens=0))\n"
     ]
    }
   ],
   "source": [
    "print(\"Response ID:\", response.id)\n",
    "print(\"Choices:\", response.choices)\n",
    "print(\"Created:\", response.created)\n",
    "print(\"Model:\", response.model)\n",
    "print(\"System Fingerprint:\", response.system_fingerprint)\n",
    "print(\"Object Type:\", response.object)\n",
    "print(\"Usage:\", response.usage)"
   ]
  },
  {
   "cell_type": "markdown",
   "metadata": {},
   "source": [
    "# RS question what are the possibler values for \"role\"? in the message attribute?"
   ]
  },
  {
   "cell_type": "code",
   "execution_count": null,
   "metadata": {},
   "outputs": [],
   "source": [
    "# response = client.chat.completions.create(\n",
    "#                              model=\"gpt-4o-mini\",\n",
    "#                              messages=\n",
    "#                              [ # System - description of the expected behavior from the model or output format expected.\n",
    "#                                  {\"role\": \"system\", \"content\": \"You are an expert chef and bon vivant influencer.\"}, \n",
    "#                                  # User - the message from the user\n",
    "#                                  {\"role\": \"user\", \"content\": prompt}   \n",
    "#                                  # Assistant - the response from the model\n",
    "#                                 #  example: {\"role\": \"assistant\", \"content\": \"The absolute best type of breakfast is pancakes.\"}\n",
    "#                              ],\n",
    "#                              max_tokens=500, # the maximum number of tokens to generate 100 tokens is approximately 30 words\n",
    "#                              temperature=0.9, # the level of randomness in the generated text, so close to 0 means super precise, close to 2 means more creative\n",
    "#                              n = 3)\n",
    "\n",
    "# response"
   ]
  },
  {
   "cell_type": "code",
   "execution_count": 27,
   "metadata": {},
   "outputs": [
    {
     "data": {
      "text/plain": [
       "ChatCompletion(id='chatcmpl-AnSb92fF5DNn8A61NEzxZhes9OXGs', choices=[Choice(finish_reason='stop', index=0, logprobs=None, message=ChatCompletionMessage(content='As an expert chef and bon vivant influencer, I understand that the \"absolute best\" breakfast can vary based on personal preferences, dietary needs, and cultural influences. However, if I were to highlight three foods that consistently rank high for their nutritional value, flavor, and ability to fuel your day, they would be:\\n\\n1. **Avocado Toast**: Creamy avocado spread on whole-grain or sourdough bread is not only delicious but also packed with healthy fats, fiber, and various vitamins. You can elevate it with toppings like poached eggs, cherry tomatoes, or radishes for added flavor and nutrition.\\n\\n2. **Greek Yogurt Parfait**: This dish combines the creaminess of Greek yogurt (rich in protein) with the sweetness of fresh fruits and the crunch of granola or nuts. It’s versatile, allowing for endless variations with seasonal fruits and toppings, while also providing a balance of carbohydrates, proteins, and healthy fats.\\n\\n3. **Oatmeal**: A warm bowl of oatmeal is comforting and can be a nutritious powerhouse. Steel-cut or rolled oats provide complex carbohydrates and fiber. You can customize it with toppings like berries, banana slices, nut butter, and a drizzle of honey or maple syrup for flavor and added nutrients.\\n\\nThese options not only nourish the body but also delight the palate, making them worthy contenders for the best breakfast!', refusal=None, role='assistant', audio=None, function_call=None, tool_calls=None)), Choice(finish_reason='stop', index=1, logprobs=None, message=ChatCompletionMessage(content='As an expert chef and bon vivant, I can certainly share the top three foods that elevate breakfast to a culinary delight, combining flavor, nutrition, and enjoyment. Here’s the breakdown:\\n\\n1. **Avocado Toast**:\\n   - **Description**: Creamy avocado spread on artisanal whole-grain bread, topped with a sprinkle of sea salt, black pepper, and optional toppings like poached eggs, cherry tomatoes, radishes, or microgreens.\\n   - **Why it’s great**: It’s packed with healthy fats, fiber, and nutrients. The versatility of avocado toast allows for endless customization to suit your taste preferences.\\n\\n2. **Shakshuka**:\\n   - **Description**: A vibrant dish of poached eggs nestled in a spicy tomato and bell pepper sauce, often seasoned with cumin, paprika, and topped with fresh herbs like cilantro or parsley.\\n   - **Why it’s great**: Shakshuka is not only delicious and satisfying, but it also offers a hearty dose of vegetables. It’s great for sharing and perfect for a leisurely brunch.\\n\\n3. **Overnight Oats**:\\n   - **Description**: Rolled oats soaked overnight in milk or yogurt and mixed with ingredients like chia seeds, fruits, nuts, and a dash of honey or maple syrup.\\n   - **Why it’s great**: This dish is incredibly nutritious, providing sustained energy throughout the morning. It’s also quick to prepare, highly customizable, and can be enjoyed on the go.\\n\\nThese three breakfast options not only nourish the body, but also delight the senses, making breakfast the best meal of the day!', refusal=None, role='assistant', audio=None, function_call=None, tool_calls=None)), Choice(finish_reason='stop', index=2, logprobs=None, message=ChatCompletionMessage(content='The \"absolute best\" type of breakfast can vary based on personal preferences, dietary needs, and health considerations, but here are three universally popular and nutritious breakfast foods that can kickstart your day:\\n\\n1. **Oatmeal**: Rich in fiber and whole grains, oatmeal is not only filling but also provides sustained energy. You can customize it with fruits, nuts, seeds, and a drizzle of honey or maple syrup for added flavor and nutrients.\\n\\n2. **Greek Yogurt with Fruits and Nuts**: Greek yogurt is high in protein and probiotics, which are great for digestive health. Topping it with fresh fruits like berries or bananas and a handful of nuts adds antioxidants, vitamins, and healthy fats.\\n\\n3. **Avocado Toast**: A trendy favorite, avocado toast is a delicious way to enjoy healthy fats, fiber, and vitamins. You can elevate it with toppings such as poached eggs, tomatoes, radishes, or even a sprinkle of chili flakes for a bit of heat.\\n\\nThese options not only provide a balance of macronutrients but also allow for creativity and personalization, ensuring that breakfast can be a delightful and energizing start to your day!', refusal=None, role='assistant', audio=None, function_call=None, tool_calls=None))], created=1736351367, model='gpt-4o-mini-2024-07-18', object='chat.completion', service_tier=None, system_fingerprint='fp_d02d531b47', usage=CompletionUsage(completion_tokens=841, prompt_tokens=39, total_tokens=880, completion_tokens_details=CompletionTokensDetails(accepted_prediction_tokens=0, audio_tokens=0, reasoning_tokens=0, rejected_prediction_tokens=0), prompt_tokens_details=PromptTokensDetails(audio_tokens=0, cached_tokens=0)))"
      ]
     },
     "execution_count": 27,
     "metadata": {},
     "output_type": "execute_result"
    }
   ],
   "source": [
    "response = client.chat.completions.create(\n",
    "                             model=\"gpt-4o-mini\",\n",
    "                             messages=\n",
    "                             [ # System - description of the expected behavior from the model or output format expected.\n",
    "                                 {\"role\": \"system\", \"content\": \"You are an expert chef and bon vivant influencer.\"}, \n",
    "                                 # User - the message from the user\n",
    "                                 {\"role\": \"user\", \"content\": prompt}   \n",
    "                                 # Assistant - the response from the model\n",
    "                                 # example: {\"r8ole\": \"assistant\", \"content\": \"The absolute best type of breakfast is pancakes.\"}\n",
    "                             ],\n",
    "                             max_tokens=500, # controllin how much text the model will generate\n",
    "                             # the maximum number of tokens to generate 100 tokens is approximately 30 words\n",
    "                             temperature=0.9, # the level of randomness in the generated text, so close to 0 means super precise, close to 2 means more creative\n",
    "                             n = 3)\n",
    "\n",
    "response"
   ]
  },
  {
   "cell_type": "code",
   "execution_count": 29,
   "metadata": {},
   "outputs": [
    {
     "data": {
      "text/plain": [
       "[Choice(finish_reason='stop', index=0, logprobs=None, message=ChatCompletionMessage(content='As an expert chef and bon vivant influencer, I understand that the \"absolute best\" breakfast can vary based on personal preferences, dietary needs, and cultural influences. However, if I were to highlight three foods that consistently rank high for their nutritional value, flavor, and ability to fuel your day, they would be:\\n\\n1. **Avocado Toast**: Creamy avocado spread on whole-grain or sourdough bread is not only delicious but also packed with healthy fats, fiber, and various vitamins. You can elevate it with toppings like poached eggs, cherry tomatoes, or radishes for added flavor and nutrition.\\n\\n2. **Greek Yogurt Parfait**: This dish combines the creaminess of Greek yogurt (rich in protein) with the sweetness of fresh fruits and the crunch of granola or nuts. It’s versatile, allowing for endless variations with seasonal fruits and toppings, while also providing a balance of carbohydrates, proteins, and healthy fats.\\n\\n3. **Oatmeal**: A warm bowl of oatmeal is comforting and can be a nutritious powerhouse. Steel-cut or rolled oats provide complex carbohydrates and fiber. You can customize it with toppings like berries, banana slices, nut butter, and a drizzle of honey or maple syrup for flavor and added nutrients.\\n\\nThese options not only nourish the body but also delight the palate, making them worthy contenders for the best breakfast!', refusal=None, role='assistant', audio=None, function_call=None, tool_calls=None)),\n",
       " Choice(finish_reason='stop', index=1, logprobs=None, message=ChatCompletionMessage(content='As an expert chef and bon vivant, I can certainly share the top three foods that elevate breakfast to a culinary delight, combining flavor, nutrition, and enjoyment. Here’s the breakdown:\\n\\n1. **Avocado Toast**:\\n   - **Description**: Creamy avocado spread on artisanal whole-grain bread, topped with a sprinkle of sea salt, black pepper, and optional toppings like poached eggs, cherry tomatoes, radishes, or microgreens.\\n   - **Why it’s great**: It’s packed with healthy fats, fiber, and nutrients. The versatility of avocado toast allows for endless customization to suit your taste preferences.\\n\\n2. **Shakshuka**:\\n   - **Description**: A vibrant dish of poached eggs nestled in a spicy tomato and bell pepper sauce, often seasoned with cumin, paprika, and topped with fresh herbs like cilantro or parsley.\\n   - **Why it’s great**: Shakshuka is not only delicious and satisfying, but it also offers a hearty dose of vegetables. It’s great for sharing and perfect for a leisurely brunch.\\n\\n3. **Overnight Oats**:\\n   - **Description**: Rolled oats soaked overnight in milk or yogurt and mixed with ingredients like chia seeds, fruits, nuts, and a dash of honey or maple syrup.\\n   - **Why it’s great**: This dish is incredibly nutritious, providing sustained energy throughout the morning. It’s also quick to prepare, highly customizable, and can be enjoyed on the go.\\n\\nThese three breakfast options not only nourish the body, but also delight the senses, making breakfast the best meal of the day!', refusal=None, role='assistant', audio=None, function_call=None, tool_calls=None)),\n",
       " Choice(finish_reason='stop', index=2, logprobs=None, message=ChatCompletionMessage(content='The \"absolute best\" type of breakfast can vary based on personal preferences, dietary needs, and health considerations, but here are three universally popular and nutritious breakfast foods that can kickstart your day:\\n\\n1. **Oatmeal**: Rich in fiber and whole grains, oatmeal is not only filling but also provides sustained energy. You can customize it with fruits, nuts, seeds, and a drizzle of honey or maple syrup for added flavor and nutrients.\\n\\n2. **Greek Yogurt with Fruits and Nuts**: Greek yogurt is high in protein and probiotics, which are great for digestive health. Topping it with fresh fruits like berries or bananas and a handful of nuts adds antioxidants, vitamins, and healthy fats.\\n\\n3. **Avocado Toast**: A trendy favorite, avocado toast is a delicious way to enjoy healthy fats, fiber, and vitamins. You can elevate it with toppings such as poached eggs, tomatoes, radishes, or even a sprinkle of chili flakes for a bit of heat.\\n\\nThese options not only provide a balance of macronutrients but also allow for creativity and personalization, ensuring that breakfast can be a delightful and energizing start to your day!', refusal=None, role='assistant', audio=None, function_call=None, tool_calls=None))]"
      ]
     },
     "execution_count": 29,
     "metadata": {},
     "output_type": "execute_result"
    }
   ],
   "source": [
    "response.choices"
   ]
  },
  {
   "cell_type": "code",
   "execution_count": 30,
   "metadata": {},
   "outputs": [
    {
     "data": {
      "text/plain": [
       "1358"
      ]
     },
     "execution_count": 30,
     "metadata": {},
     "output_type": "execute_result"
    }
   ],
   "source": [
    "len(response.choices[0].message.content)"
   ]
  },
  {
   "cell_type": "code",
   "execution_count": 31,
   "metadata": {},
   "outputs": [
    {
     "data": {
      "text/plain": [
       "1495"
      ]
     },
     "execution_count": 31,
     "metadata": {},
     "output_type": "execute_result"
    }
   ],
   "source": [
    "len(response.choices[1].message.content)"
   ]
  },
  {
   "cell_type": "code",
   "execution_count": 32,
   "metadata": {},
   "outputs": [
    {
     "data": {
      "text/plain": [
       "1136"
      ]
     },
     "execution_count": 32,
     "metadata": {},
     "output_type": "execute_result"
    }
   ],
   "source": [
    "len(response.choices[2].message.content)"
   ]
  },
  {
   "cell_type": "code",
   "execution_count": null,
   "metadata": {},
   "outputs": [],
   "source": []
  },
  {
   "cell_type": "markdown",
   "metadata": {},
   "source": [
    "source: https://platform.openai.com/docs/api-reference/chat/object\n",
    "\n",
    "### Chat Completion Object\n",
    "This object represents a chat completion response returned by the model, based on the provided input.\n",
    "\n",
    "#### Fields\n",
    "\n",
    "- **id**  \n",
    "  `string`  \n",
    "  A unique identifier for the chat completion.\n",
    "\n",
    "- **choices**  \n",
    "  `array`  \n",
    "  A list of chat completion choices. Can be more than one if `n` is greater than 1.\n",
    "\n",
    "#### Additional Properties\n",
    "\n",
    "- **created**  \n",
    "  `integer`  \n",
    "  The Unix timestamp (in seconds) of when the chat completion was created.\n",
    "\n",
    "- **model**  \n",
    "  `string`  \n",
    "  The model used for the chat completion.\n",
    "\n",
    "- **system_fingerprint**  \n",
    "  `string`  \n",
    "  This fingerprint represents the backend configuration that the model runs with. It can be used in conjunction with the `seed` request parameter to understand when backend changes have been made that might impact determinism.\n",
    "\n",
    "- **object**  \n",
    "  `string`  \n",
    "  The object type, which is always `chat.completion`.\n",
    "\n",
    "- **usage**  \n",
    "  `object`  \n",
    "  Usage statistics for the completion request."
   ]
  },
  {
   "cell_type": "code",
   "execution_count": 33,
   "metadata": {},
   "outputs": [
    {
     "name": "stdout",
     "output_type": "stream",
     "text": [
      "Bamboo munching bliss,  \n",
      "Black and white in a green sea,  \n",
      "Pandas nap, not fuss.  \n"
     ]
    }
   ],
   "source": [
    "from openai import OpenAI\n",
    "\n",
    "client = OpenAI()\n",
    "\n",
    "def get_response(prompt, system_message=\"You are a savy guru with knowledge about existence and the secrets of life.\"):\n",
    "    response = client.chat.completions.create(model=\"gpt-4o-mini\", \n",
    "                             messages=\n",
    "                             [\n",
    "                                 {\"role\": \"system\", \"content\": system_message},\n",
    "                                 {\"role\": \"user\", \"content\": prompt}   \n",
    "                             ],\n",
    "                             max_tokens=100, # max number of tokens in a response\n",
    "                             temperature=0.9, # level of randomness in the response\n",
    "                             n = 1) # number of responses we expect from the model\n",
    "    return response.choices[0].message.content\n",
    "\n",
    "\n",
    "prompt = \"Tell me a joke as a haiku about Pandas\"\n",
    "response = get_response(prompt)\n",
    "print(response)"
   ]
  },
  {
   "cell_type": "code",
   "execution_count": 34,
   "metadata": {},
   "outputs": [
    {
     "data": {
      "text/plain": [
       "'Hello, my name is Lucas Soares and I enjoy giving courses on language models.'"
      ]
     },
     "execution_count": 34,
     "metadata": {},
     "output_type": "execute_result"
    }
   ],
   "source": [
    "system_message_prompt=\"You are translation engine for any language.\\\n",
    "    The user will feed you with some text and the target language \\\n",
    "        in between brackets: like this: '[english]' \\\n",
    "            and you will output only the translation.\" \n",
    "\n",
    "def translate(prompt, system_message):\n",
    "    client = OpenAI()\n",
    "    \n",
    "    response = client.chat.completions.create(model=\"gpt-4o-mini\",\n",
    "                                messages=\n",
    "                                [\n",
    "                                    {\"role\": \"system\", \"content\": system_message},\n",
    "                                    {\"role\": \"user\", \"content\": prompt}   \n",
    "                                ],\n",
    "                                max_tokens=100,\n",
    "                                temperature=0.9,\n",
    "                                n = 1)\n",
    "    \n",
    "    return response.choices[0].message.content\n",
    " \n",
    "translate(\"Ola meu nome e Lucas Soares e eu gosto de dar cursos sobre modelos de linguagem.\",system_message_prompt)"
   ]
  },
  {
   "cell_type": "markdown",
   "metadata": {},
   "source": [
    "# Prompt Basics\n",
    "\n",
    "A prompt is a piece of text that conveys to a LLM what the user wants. What the user wants can be many things like:\n",
    "\n",
    "- Asking a question\n",
    "- Giving an instruction\n",
    "- Etc...\n",
    "\n",
    "The key components of a prompt are:\n",
    "1. Instruction: where you describe what you want\n",
    "2. Context: additional information to help with performance\n",
    "3. Input data: data the model has not seem to illustrate what you need\n",
    "4. Output indicator: How you prime the model to output what you want, for example asking the model [\"Let's think step by step\" and the end of a prompt can boost reasoning performance](https://arxiv.org/pdf/2201.11903.pdf). You can also write \"Output:\" to prime the model to just write the output and nothing else.\n",
    "\n",
    "[Prompts can also be seen as a form of programming that can customize the outputs and interactions with an LLM.](https://ar5iv.labs.arxiv.org/html/2302.11382#:~:text=prompts%20are%20also%20a%20form%20of%20programming%20that%20can%20customize%20the%20outputs%20and%20interactions%20with%20an%20llm.)"
   ]
  },
  {
   "cell_type": "markdown",
   "metadata": {},
   "source": [
    "Instruction"
   ]
  },
  {
   "cell_type": "code",
   "execution_count": 35,
   "metadata": {},
   "outputs": [],
   "source": [
    "instruction = \"Classify this sentence into positive or negative:\""
   ]
  },
  {
   "cell_type": "markdown",
   "metadata": {},
   "source": [
    "Input Data & Context Information"
   ]
  },
  {
   "cell_type": "code",
   "execution_count": 36,
   "metadata": {},
   "outputs": [],
   "source": [
    "input_data = \"Text: I like eating pancakes.\"\n",
    "\n",
    "# This type of context is an example of a system message.\n",
    "context = \"You are a text annotation engine.\""
   ]
  },
  {
   "cell_type": "markdown",
   "metadata": {},
   "source": [
    "Output Indicator"
   ]
  },
  {
   "cell_type": "code",
   "execution_count": 37,
   "metadata": {},
   "outputs": [],
   "source": [
    "output_indicator = \"Output:\\n\""
   ]
  },
  {
   "cell_type": "code",
   "execution_count": 40,
   "metadata": {},
   "outputs": [],
   "source": [
    "# How you ask what you want, and the heavily relies on what you want from the model.\n",
    "# Instruction prompt: \n",
    "\n",
    "full_prompt = f\"{context}.\\n{instruction}.\\n{input_data}. {output_indicator}\""
   ]
  },
  {
   "cell_type": "code",
   "execution_count": 41,
   "metadata": {},
   "outputs": [
    {
     "data": {
      "text/plain": [
       "'You are a text annotation engine..\\nClassify this sentence into positive or negative:.\\nText: I like eating pancakes.. Output:\\n'"
      ]
     },
     "execution_count": 41,
     "metadata": {},
     "output_type": "execute_result"
    }
   ],
   "source": [
    "full_prompt"
   ]
  },
  {
   "cell_type": "code",
   "execution_count": 42,
   "metadata": {},
   "outputs": [
    {
     "data": {
      "text/plain": [
       "'Positive'"
      ]
     },
     "execution_count": 42,
     "metadata": {},
     "output_type": "execute_result"
    }
   ],
   "source": [
    "from openai import OpenAI\n",
    "client = OpenAI()\n",
    "\n",
    "def get_response(prompt_question):\n",
    "    response = client.chat.completions.create(\n",
    "        model=\"gpt-4o-mini\",\n",
    "        messages=[{\"role\": \"system\", \"content\": \"You are a helpful research and programming assistant\"},\n",
    "                  {\"role\": \"user\", \"content\": prompt_question}]\n",
    "    )\n",
    "    \n",
    "    return response.choices[0].message.content\n",
    "\n",
    "get_response(full_prompt)"
   ]
  },
  {
   "cell_type": "code",
   "execution_count": 43,
   "metadata": {},
   "outputs": [],
   "source": [
    "output_indicator = \"The output should ONLY be either the word 'positive' or 'negative' and nothing else. Output:\\n\""
   ]
  },
  {
   "cell_type": "code",
   "execution_count": 44,
   "metadata": {},
   "outputs": [],
   "source": [
    "full_prompt = f\"{context}.\\n{instruction}.\\n{input_data}. {output_indicator}\""
   ]
  },
  {
   "cell_type": "code",
   "execution_count": 45,
   "metadata": {},
   "outputs": [
    {
     "data": {
      "text/plain": [
       "'positive'"
      ]
     },
     "execution_count": 45,
     "metadata": {},
     "output_type": "execute_result"
    }
   ],
   "source": [
    "get_response(full_prompt)"
   ]
  },
  {
   "cell_type": "markdown",
   "metadata": {},
   "source": [
    "Our first super simple prompt engineering experiment."
   ]
  },
  {
   "cell_type": "markdown",
   "metadata": {},
   "source": [
    "# PRACTICE ROUND\n",
    "# WRITE A SIMPLE PROMPT OUTLINING EACH COMPONENT"
   ]
  },
  {
   "cell_type": "code",
   "execution_count": 23,
   "metadata": {},
   "outputs": [],
   "source": [
    "instruction_prompt = \"\"\n",
    "context = \"\"\n",
    "input_data = \"\"\n",
    "output_indicator = \"\""
   ]
  },
  {
   "cell_type": "markdown",
   "metadata": {},
   "source": [
    "AF!!!!"
   ]
  },
  {
   "cell_type": "code",
   "execution_count": 24,
   "metadata": {},
   "outputs": [
    {
     "data": {
      "text/plain": [
       "'Yes, broccoli is a very healthy food. It is rich in vitamins (like vitamin C and vitamin K), minerals, fiber, and antioxidants. Eating broccoli can support immune function, promote digestive health, and may even reduce the risk of certain chronic diseases. Including it as part of a balanced diet is highly beneficial.'"
      ]
     },
     "execution_count": 24,
     "metadata": {},
     "output_type": "execute_result"
    }
   ],
   "source": [
    "context = \"You are a healthy diet assistant you answer questions about food\"\n",
    "instruction = \"Is healthy to eat the following food?\" \n",
    "input_data = \"[food]: brocoli\"\n",
    "output_indicator = \"[answer]: \"\n",
    "\n",
    "instruction_prompt = f\"{context}.\\n{instruction}.\\n{input_data}. {output_indicator}\"\n",
    "\n",
    "response = client.chat.completions.create(model=\"gpt-4o-mini\", messages=[\n",
    "    {\"role\": \"system\", \"content\": \"You are a helpful assistant.\"},\n",
    "    {\"role\": \"user\", \"content\": instruction_prompt}\n",
    "])\n",
    "response.choices[0].message.content"
   ]
  },
  {
   "cell_type": "markdown",
   "metadata": {},
   "source": [
    "# SP AWESOME Question: it is a good practice of passing also an example of input and output? if he prompt becomes too long, it is affectting the performance of the model?\n",
    "\n",
    "\n",
    "Short answer is...... YESSSSSSS"
   ]
  },
  {
   "cell_type": "code",
   "execution_count": 46,
   "metadata": {},
   "outputs": [
    {
     "name": "stdout",
     "output_type": "stream",
     "text": [
      "[answer]: Positive\n"
     ]
    }
   ],
   "source": [
    "zero_shot_prompt = \"\"\"\n",
    "Classify this sentence into positive or negative:\n",
    "\n",
    "[sentence]: I like eating pancakes.\n",
    "[answer]: \n",
    "\"\"\"\n",
    "\n",
    "def get_response(prompt_question):\n",
    "    response = client.chat.completions.create(\n",
    "        model=\"gpt-4o-mini\",\n",
    "        messages=[{\"role\": \"system\", \"content\": \"You are a helpful research assistant\"},\n",
    "                  {\"role\": \"user\", \"content\": prompt_question}]\n",
    "    )\n",
    "    \n",
    "    return response.choices[0].message.content\n",
    "\n",
    "response_to_zero_shot_prompt = get_response(zero_shot_prompt)\n",
    "print(response_to_zero_shot_prompt)"
   ]
  },
  {
   "cell_type": "code",
   "execution_count": 48,
   "metadata": {},
   "outputs": [
    {
     "data": {
      "text/plain": [
       "'positive'"
      ]
     },
     "execution_count": 48,
     "metadata": {},
     "output_type": "execute_result"
    }
   ],
   "source": [
    "few_shot_prompt = \"\"\"\n",
    "Classify the following sentence into positive or negative:\n",
    "\n",
    "[sentence]: I like eating pancakes.\n",
    "[answer]: positive\n",
    "\n",
    "[sentence]: I don't like eating broccoli.\n",
    "[answer]: negative\n",
    "\n",
    "[sentence]: I like eating pizza.\n",
    "[answer]: positive\n",
    "\n",
    "[sentence]: I don't enjoy school.\n",
    "[answer]: negative\n",
    "\n",
    "[sentence]: I love jiu jitsu.\n",
    "[answer]: positive\n",
    "\n",
    "[sentence]: I love to code.\n",
    "[answer]: \n",
    "\"\"\"\n",
    "\n",
    "get_response(few_shot_prompt)\n",
    "\n"
   ]
  },
  {
   "cell_type": "code",
   "execution_count": 25,
   "metadata": {},
   "outputs": [
    {
     "data": {
      "text/plain": [
       "'Why did the scarecrow win an award?\\n\\nBecause he was outstanding in his field!'"
      ]
     },
     "execution_count": 25,
     "metadata": {},
     "output_type": "execute_result"
    }
   ],
   "source": [
    "from openai import OpenAI\n",
    "import os\n",
    "\n",
    "client = OpenAI(api_key=os.environ[\"OPENAI_API_KEY\"])\n",
    "\n",
    "def get_response(prompt):\n",
    "    response = client.chat.completions.create(\n",
    "        model=\"gpt-4o-mini\",\n",
    "        messages=[\n",
    "            {\"role\": \"system\", \"content\": \"You are a helpful assistant.\"}, # describes overall behavior\n",
    "            {\"role\": \"user\", \"content\": prompt} #message from the user\n",
    "        ],\n",
    "    )\n",
    "    \n",
    "    return response.choices[0].message.content\n",
    "    \n",
    "prompt = \"Tell me a joke\"\n",
    "get_response(prompt)"
   ]
  },
  {
   "cell_type": "markdown",
   "metadata": {},
   "source": [
    "# References\n",
    "\n",
    "- [A Prompt Pattern Catalog to Enhance Prompt Engineering with ChatGPT](https://ar5iv.labs.arxiv.org/html/2302.11382)\n",
    "- [Prompt-Engineering-Guide](https://github.com/dair-ai/Prompt-Engineering-Guide)\n",
    "- [A Survey of Large Language Models](https://arxiv.org/pdf/2303.18223.pdf)\n",
    "- [Pre-train, Prompt, and Predict: A Systematic Survey of Prompting Methods in Natural Language Processing](https://arxiv.org/pdf/2107.13586.pdf)\n",
    "- [prompt engineering guide - zero shot prompting example](https://www.promptingguide.ai/techniques/zeroshot)\n",
    "- [Finetuned language models are zero-shot learners](https://arxiv.org/pdf/2109.01652.pdf)\n",
    "- [prompt engineering guide - few shot prompting](https://www.promptingguide.ai/techniques/fewshot)\n",
    "- [prompt engineering guide - chain of thought prompting](https://www.promptingguide.ai/techniques/cot)\n",
    "- [Wei et al. (2022)](https://arxiv.org/abs/2201.11903)\n",
    "- [prompt engineering guide - self-consistency](https://www.promptingguide.ai/techniques/consistency)\n",
    "- [prompt engineering guide - generate knowledge](https://www.promptingguide.ai/techniques/knowledge)\n",
    "- [Liu et al. 2022](https://arxiv.org/pdf/2110.08387.pdf)\n",
    "- [prompt engineering guide - tree of thoughts (ToT)](https://www.promptingguide.ai/techniques/tot)\n",
    "- [Prompt Engineering by Lilian Weng](https://lilianweng.github.io/posts/2023-03-15-prompt-engineering/)\n",
    "- [Prompt Engineering vs. Blind Prompting](https://mitchellh.com/writing/prompt-engineering-vs-blind-prompting#the-demonstration-set)"
   ]
  }
 ],
 "metadata": {
  "kernelspec": {
   "display_name": "oreilly-chatgpt-apps",
   "language": "python",
   "name": "oreilly-chatgpt-apps"
  },
  "language_info": {
   "codemirror_mode": {
    "name": "ipython",
    "version": 3
   },
   "file_extension": ".py",
   "mimetype": "text/x-python",
   "name": "python",
   "nbconvert_exporter": "python",
   "pygments_lexer": "ipython3",
   "version": "3.11.10"
  },
  "orig_nbformat": 4
 },
 "nbformat": 4,
 "nbformat_minor": 2
}
