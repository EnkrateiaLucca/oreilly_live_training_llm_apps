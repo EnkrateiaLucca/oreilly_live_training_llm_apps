{
 "cells": [
  {
   "cell_type": "markdown",
   "metadata": {},
   "source": [
    "# Notes Summarizer App"
   ]
  },
  {
   "cell_type": "code",
   "execution_count": 1,
   "metadata": {},
   "outputs": [
    {
     "data": {
      "text/plain": [
       "\"The Project Launch Meeting for the new project, CodeName X, was held on July 23, 2023, attended by John Doe, Jane Smith, Michael Brown, and Lisa Johnson. The project aims to develop a new AI model to enhance the current product's capabilities over an estimated timeline of 18 months. Resources were highlighted, and the possibility of involving external consultants was approved. The developmental process will be two-phased, initial exploration followed by focused development. Agile methodology was agreed upon for project management. The next steps include sending out a project brief, researching potential consultants, setting up a sandbox for development, and organizing a project planning meeting.\""
      ]
     },
     "execution_count": 1,
     "metadata": {},
     "output_type": "execute_result"
    }
   ],
   "source": [
    "import openai\n",
    "\n",
    "def get_response(prompt):\n",
    "    response = openai.ChatCompletion.create(\n",
    "        model=\"gpt-4\",\n",
    "        messages=[\n",
    "            {\"role\": \"system\", \"content\": \"You are a helpful research assistant\"},\n",
    "            {\"role\": \"user\", \"content\": prompt}\n",
    "        ]\n",
    "    )\n",
    "    return response[\"choices\"][0][\"message\"][\"content\"]\n",
    "\n",
    "text = \"\"\"Title: Project Launch Meeting\n",
    "\n",
    "Date: July 23, 2023\n",
    "\n",
    "Attendees: John Doe, Jane Smith, Michael Brown, Lisa Johnson\n",
    "\n",
    "Summary: \n",
    "\n",
    "Today we held the kickoff meeting for our new project, CodeName X. The team is very excited to get started. John Doe gave an overview of the project, explaining that the goal is to develop a new AI model that will significantly improve our product's capabilities. The estimated timeline for the project is 18 months, but John stressed that this is a rough estimate and will likely be refined as we delve deeper into the project.\n",
    "\n",
    "Jane Smith spoke about the resources we have at our disposal, including a robust development team and state-of-the-art AI training facilities. She also mentioned the possibility of bringing in some external consultants for specific tasks, which was met with approval from the rest of the team.\n",
    "\n",
    "Michael Brown, our lead developer, gave a technical overview of how we might approach the development of the AI model. He proposed a two-stage process: an initial exploratory phase to investigate different methods, followed by a focused development phase where we will construct and fine-tune the final model. \n",
    "\n",
    "Lisa Johnson talked about project management and highlighted the importance of maintaining good communication throughout the project. She suggested using Agile methodology to manage the project, which the team agreed upon.\n",
    "\n",
    "Next Steps:\n",
    "\n",
    "John will send out a project brief by the end of this week. Jane will look into potential consultants we might want to bring on board. Michael will begin setting up a sandbox for the development team to use during the exploratory phase. Lisa will set up the project in our project management tool and will schedule a project planning meeting for next week.\n",
    "\n",
    "\"\"\"\n",
    "get_response(f\"Summarize this text: {text}\")"
   ]
  },
  {
   "cell_type": "markdown",
   "metadata": {},
   "source": [
    "Ok , great we can get a basic summary easy using just ChatGPT, but how about if we want to be able to specify different types of summaries? \n",
    "What if the contents we want to summarize are bigger than the context length of our model?\n",
    "\n",
    "Let's address these issues by using langchain for summarization."
   ]
  },
  {
   "cell_type": "code",
   "execution_count": 5,
   "metadata": {},
   "outputs": [],
   "source": [
    "from langchain import PromptTemplate\n",
    "from langchain.chat_models import ChatOpenAI\n",
    "from langchain.chains.summarize import load_summarize_chain\n",
    "from langchain.document_loaders import TextLoader\n",
    "from IPython.display import Markdown, display"
   ]
  },
  {
   "cell_type": "markdown",
   "metadata": {},
   "source": [
    "With langchain, summarization is as simple as this:"
   ]
  },
  {
   "cell_type": "code",
   "execution_count": 3,
   "metadata": {},
   "outputs": [
    {
     "data": {
      "text/plain": [
       "\"The team held a kickoff meeting for a new project called CodeName X. The goal is to develop a new AI model to improve the product's capabilities. The estimated timeline is 18 months, but this may change. The team discussed available resources, including the possibility of using external consultants. The lead developer proposed a two-stage development process. The importance of communication was emphasized, and Agile methodology will be used for project management. Next steps include sending out a project brief, looking into consultants, setting up a sandbox, and scheduling a project planning meeting.\""
      ]
     },
     "execution_count": 3,
     "metadata": {},
     "output_type": "execute_result"
    }
   ],
   "source": [
    "docs = TextLoader(\"./notes.txt\").load()\n",
    "llm = ChatOpenAI()\n",
    "chain = load_summarize_chain(llm, chain_type=\"stuff\")\n",
    "chain.run(docs)"
   ]
  },
  {
   "cell_type": "markdown",
   "metadata": {},
   "source": [
    "But as always, we would like to go beyond, why not set up a prompt template to allow for some customization of the summaries?"
   ]
  },
  {
   "cell_type": "code",
   "execution_count": 6,
   "metadata": {},
   "outputs": [
    {
     "data": {
      "text/markdown": [
       "- Held kickoff meeting for new project, CodeName X\n",
       "- Goal is to develop new AI model to improve product capabilities\n",
       "- Estimated timeline is 18 months, subject to refinement\n",
       "- Resources include development team and AI training facilities\n",
       "- Possibility of bringing in external consultants for specific tasks\n",
       "- Proposed two-stage process for AI model development: exploratory phase and focused development phase\n",
       "- Importance of maintaining good communication highlighted\n",
       "- Agile methodology agreed upon for project management\n",
       "- Next steps: \n",
       "  - John to send project brief\n",
       "  - Jane to research potential consultants\n",
       "  - Michael to set up sandbox for development team\n",
       "  - Lisa to set up project in project management tool and schedule planning meeting for next week"
      ],
      "text/plain": [
       "<IPython.core.display.Markdown object>"
      ]
     },
     "execution_count": 6,
     "metadata": {},
     "output_type": "execute_result"
    }
   ],
   "source": [
    "prompt_template = \"\"\"Write a concise summary of the following text:\n",
    "\n",
    "{text}\n",
    "\n",
    "The summary should be in this style: {style}.\n",
    "Let's think step by step.\n",
    "\n",
    "SUMMARY:\n",
    "\"\"\"\n",
    "\n",
    "PROMPT = PromptTemplate(template=prompt_template,\n",
    "                        input_variables=[\"text\", \"style\"])\n",
    "\n",
    "chain = load_summarize_chain(llm, chain_type=\"stuff\", prompt=PROMPT)\n",
    "summary = chain.run({\"input_documents\": docs, \"style\": \"bullet points\"})\n",
    "Markdown(summary)"
   ]
  },
  {
   "cell_type": "markdown",
   "metadata": {},
   "source": [
    "Ok, let's wrap this into a streamlit app to allow for a nice looking user interface."
   ]
  },
  {
   "cell_type": "markdown",
   "metadata": {},
   "source": [
    "[Notes summarize example](https://platform.openai.com/examples/default-meeting-notes-summarizer)\n",
    "\n",
    "You will be provided with meeting notes, and your task is to summarize the meeting as follows:\n",
    "\n",
    "-Overall summary of discussion\n",
    "-Action items (what needs to be done and who is doing it)\n",
    "-If applicable, a list of topics that need to be discussed more fully in the next meeting.\n",
    "USER\n",
    "Meeting Date: March 5th, 2050\n",
    "Meeting Time: 2:00 PM\n",
    "Location: Conference Room 3B, Intergalactic Headquarters\n",
    "\n",
    "Attendees:\n",
    "- Captain Stardust\n",
    "- Dr. Quasar\n",
    "- Lady Nebula\n",
    "- Sir Supernova\n",
    "- Ms. Comet\n",
    "\n",
    "Meeting called to order by Captain Stardust at 2:05 PM\n",
    "\n",
    "1. Introductions and welcome to our newest team member, Ms. Comet\n",
    "\n",
    "2. Discussion of our recent mission to Planet Zog\n",
    "- Captain Stardust: \"Overall, a success, but communication with the Zogians was difficult. We need to improve our language skills.\"\n",
    "- Dr. Quasar: \"Agreed. I'll start working on a Zogian-English dictionary right away.\"\n",
    "- Lady Nebula: \"The Zogian food was out of this world, literally! We should consider having a Zogian food night on the ship.\"\n",
    "\n",
    "3. Addressing the space pirate issue in Sector 7\n",
    "- Sir Supernova: \"We need a better strategy for dealing with these pirates. They've already plundered three cargo ships this month.\"\n",
    "- Captain Stardust: \"I'll speak with Admiral Starbeam about increasing patrols in that area.\n",
    "- Dr. Quasar: \"I've been working on a new cloaking technology that could help our ships avoid detection by the pirates. I'll need a few more weeks to finalize the prototype.\"\n",
    "\n",
    "4. Review of the annual Intergalactic Bake-Off\n",
    "- Lady Nebula: \"I'm happy to report that our team placed second in the competition! Our Martian Mud Pie was a big hit!\"\n",
    "- Ms. Comet: \"Let's aim for first place next year. I have a secret recipe for Jupiter Jello that I think could be a winner.\"\n",
    "\n",
    "5. Planning for the upcoming charity fundraiser\n",
    "- Captain Stardust: \"We need some creative ideas for our booth at the Intergalactic Charity Bazaar.\"\n",
    "- Sir Supernova: \"How about a 'Dunk the Alien' game? We can have people throw water balloons at a volunteer dressed as an alien.\"\n",
    "- Dr. Quasar: \"I can set up a 'Name That Star' trivia game with prizes for the winners.\"\n",
    "- Lady Nebula: \"Great ideas, everyone. Let's start gathering the supplies and preparing the games.\"\n",
    "\n",
    "6. Upcoming team-building retreat\n",
    "- Ms. Comet: \"I would like to propose a team-building retreat to the Moon Resort and Spa. It's a great opportunity to bond and relax after our recent missions.\"\n",
    "- Captain Stardust: \"Sounds like a fantastic idea. I'll check the budget and see if we can make it happen.\"\n",
    "\n",
    "7. Next meeting agenda items\n",
    "- Update on the Zogian-English dictionary (Dr. Quasar)\n",
    "- Progress report on the cloaking technology (Dr. Quasar)\n",
    "- Results of increased patrols in Sector 7 (Captain Stardust)\n",
    "- Final preparations for the Intergalactic Charity Bazaar (All)\n",
    "\n",
    "Meeting adjourned at 3:15 PM. Next meeting scheduled for March 19th, 2050 at 2:00 PM in Conference Room 3B, Intergalactic Headquarters."
   ]
  },
  {
   "cell_type": "markdown",
   "metadata": {},
   "source": [
    "**Break (10 minutes)**"
   ]
  }
 ],
 "metadata": {
  "kernelspec": {
   "display_name": "oreilly_env",
   "language": "python",
   "name": "oreilly_env"
  },
  "language_info": {
   "codemirror_mode": {
    "name": "ipython",
    "version": 3
   },
   "file_extension": ".py",
   "mimetype": "text/x-python",
   "name": "python",
   "nbconvert_exporter": "python",
   "pygments_lexer": "ipython3",
   "version": "3.11.4"
  },
  "orig_nbformat": 4
 },
 "nbformat": 4,
 "nbformat_minor": 2
}
