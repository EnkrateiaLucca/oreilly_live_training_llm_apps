{
 "cells": [
  {
   "cell_type": "markdown",
   "metadata": {},
   "source": [
    "# Prompt Engineering Technique: Knowledge Generation\n",
    "\n",
    "\n",
    "There are two basics steps:\n",
    "1. Prompt to generate knowledge or facts about the problem at hand\n",
    "\n",
    "2. Prompt integrating your question with the facts that were generated to elicit better performance "
   ]
  },
  {
   "cell_type": "code",
   "execution_count": 9,
   "metadata": {},
   "outputs": [],
   "source": [
    "import openai\n",
    "\n",
    "def get_response(prompt_question,model_name=\"gpt-3.5-turbo\",system_message=\"You are a helpful assistant\"):\n",
    "    response = openai.ChatCompletion.create(\n",
    "        model=model_name,\n",
    "        messages=[{\"role\": \"system\", \"content\": system_message},\n",
    "                  {\"role\": \"user\", \"content\": prompt_question}]\n",
    "    )\n",
    "    \n",
    "    return response[\"choices\"][0][\"message\"][\"content\"]"
   ]
  },
  {
   "cell_type": "code",
   "execution_count": 8,
   "metadata": {},
   "outputs": [
    {
     "data": {
      "text/plain": [
       "'The approximate sum of the populations of France, Portugal, Germany, and Japan is around 269 million people.'"
      ]
     },
     "execution_count": 8,
     "metadata": {},
     "output_type": "execute_result"
    }
   ],
   "source": [
    "question = \"What is the approximate sum of the populations of France, Portugal, Germany and Japan?\"\n",
    "# japan - 127\n",
    "# portugal - 10\n",
    "# germany - 83\n",
    "# france - 67\n",
    "get_response(question)"
   ]
  },
  {
   "cell_type": "markdown",
   "metadata": {},
   "source": [
    "This answer is incorrect given that Japan population in 2021 was around 125 million. Let's see if we can use the generate knowledge approach to improve this answer."
   ]
  },
  {
   "cell_type": "code",
   "execution_count": 10,
   "metadata": {},
   "outputs": [
    {
     "data": {
      "text/plain": [
       "'The approximate sum of the populations of France, Portugal, Germany, and Japan is 286.3 million.'"
      ]
     },
     "execution_count": 10,
     "metadata": {},
     "output_type": "execute_result"
    }
   ],
   "source": [
    "prompt_generate_knowledge = \"Generate some demographic data for the following countries: France, Portugal, Germany and Japan.\"\n",
    "\n",
    "output_generate_knowledge = get_response(prompt_generate_knowledge)\n",
    "\n",
    "prompt_integrate_knowledge_question = f\"Integrate the information from here:{output_generate_knowledge} with what you already know and answer this question: {question}\"\n",
    "\n",
    "output_integrate_knowledge_question = get_response(prompt_integrate_knowledge_question)\n",
    "\n",
    "output_integrate_knowledge_question"
   ]
  },
  {
   "cell_type": "markdown",
   "metadata": {},
   "source": [
    "Yep! This answer is much better and close to the correct approximation of the aforementioned populations"
   ]
  },
  {
   "cell_type": "markdown",
   "metadata": {},
   "source": [
    "# References\n",
    "- https://arxiv.org/pdf/2110.08387.pdf"
   ]
  },
  {
   "cell_type": "markdown",
   "metadata": {},
   "source": []
  }
 ],
 "metadata": {
  "kernelspec": {
   "display_name": "oreilly_llama2",
   "language": "python",
   "name": "oreilly_llama2"
  },
  "language_info": {
   "codemirror_mode": {
    "name": "ipython",
    "version": 3
   },
   "file_extension": ".py",
   "mimetype": "text/x-python",
   "name": "python",
   "nbconvert_exporter": "python",
   "pygments_lexer": "ipython3",
   "version": "3.11.5"
  }
 },
 "nbformat": 4,
 "nbformat_minor": 2
}
