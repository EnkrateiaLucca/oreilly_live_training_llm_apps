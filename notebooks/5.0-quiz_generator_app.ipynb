{
 "cells": [
  {
   "cell_type": "code",
   "execution_count": null,
   "metadata": {},
   "outputs": [],
   "source": [
    "!pip install openai\n",
    "!pip install langchain\n",
    "!pip install langchain_community\n",
    "!pip install langchain_openai\n",
    "!pip install python-dotenv"
   ]
  },
  {
   "cell_type": "code",
   "execution_count": null,
   "metadata": {},
   "outputs": [],
   "source": [
    "import os\n",
    "from dotenv import load_dotenv\n",
    "from openai import OpenAI\n",
    "\n",
    "# loading from a .env file\n",
    "# load_dotenv(dotenv_path=\"/full/path/to/your/.env\")\n",
    "\n",
    "# or \n",
    "# if you're on google colab just uncomment below and replace with your openai api key\n",
    "# os.environ[\"OPENAI_API_KEY\"] = \"<your-openai-api-key>\""
   ]
  },
  {
   "cell_type": "markdown",
   "metadata": {},
   "source": [
    "# Quiz App\n",
    "\n",
    "- Given a page of a pdf\n",
    "- Given a concept\n",
    "- Simple interface\n",
    "- Quickly generate flexible quizzes\n",
    "  - Generate any type of questions (True or False, text based questions, multiple choice)\n",
    "- Feedback on the answers"
   ]
  },
  {
   "cell_type": "code",
   "execution_count": 1,
   "metadata": {},
   "outputs": [
    {
     "data": {
      "text/plain": [
       "'Sure! Here\\'s a quiz to test your knowledge of the basics of Python programming:\\n\\n### Python Basics Quiz\\n\\n#### Question 1:\\nWhat is the correct file extension for Python files?\\na) .pt  \\nb) .py  \\nc) .pyt  \\nd) .python  \\n\\n#### Question 2:\\nHow do you create a variable with the numeric value 5 in Python?\\na) x = 5  \\nb) int x = 5  \\nc) x := 5  \\nd) x == 5  \\n\\n#### Question 3:\\nWhich of the following is the correct syntax to output \"Hello, World!\" in Python?\\na) echo \"Hello, World!\"  \\nb) printf(\"Hello, World!\")  \\nc) print(\"Hello, World!\")  \\nd) cout << \"Hello, World!\"  \\n\\n#### Question 4:\\nHow do you insert comments in Python code?\\na) // This is a comment  \\nb) # This is a comment  \\nc) <!-- This is a comment -->  \\nd) /* This is a comment */  \\n\\n#### Question 5:\\nWhat is the correct way to create a function in Python?\\na) function myFunction():  \\nb) def myFunction():  \\nc) create myFunction():  \\nd) func myFunction():  \\n\\n#### Question 6:\\nWhich of the following is a correct way to create a list in Python?\\na) myList = (1, 2, 3)  \\nb) myList = [1, 2, 3]  \\nc) myList = {1, 2, 3}  \\nd) myList = <1, 2, 3>  \\n\\n#### Question 7:\\nHow do you check the length of a list `myList` in Python?\\na) len(myList)  \\nb) length(myList)  \\nc) myList.length()  \\nd) myList.len()  \\n\\n#### Question 8:\\nWhich of the following is used to handle exceptions in Python?\\na) try/except  \\nb) do/catch  \\nc) try/catch  \\nd) handle/except  \\n\\n#### Question 9:\\nWhat is the output of the following code?\\n```python\\nprint(2 ** 3)\\n```\\na) 5  \\nb) 6  \\nc) 8  \\nd) 9  \\n\\n#### Question 10:\\nHow do you start a while loop in Python?\\na) while x > 0 {  \\nb) while (x > 0):  \\nc) while x > 0:  \\nd) while (x > 0) {  \\n\\n### Answers:\\n1. b) .py\\n2. a) x = 5\\n3. c) print(\"Hello, World!\")\\n4. b) # This is a comment\\n5. b) def myFunction():\\n6. b) myList = [1, 2, 3]\\n7. a) len(myList)\\n8. a) try/except\\n9. c) 8\\n10. c) while x > 0:\\n\\nFeel free to use this quiz to test your understanding of Python basics!'"
      ]
     },
     "execution_count": 1,
     "metadata": {},
     "output_type": "execute_result"
    }
   ],
   "source": [
    "from openai import OpenAI\n",
    "\n",
    "def get_response(prompt):\n",
    "    client = OpenAI()\n",
    "    response = client.chat.completions.create(model=\"gpt-4o\", \n",
    "                             messages=\n",
    "                             [\n",
    "                                 {\"role\": \"system\", \"content\": \"You are a helpful assistant.\"},\n",
    "                                 {\"role\": \"user\", \"content\": prompt}   \n",
    "                             ],\n",
    "                             temperature=0.0,\n",
    "                             n = 1\n",
    "                             )\n",
    "    return response.choices[0].message.content\n",
    "\n",
    "\n",
    "prompt = \"Create a quiz about the basics of Python programming.\"\n",
    "quiz_python = get_response(prompt)\n",
    "quiz_python"
   ]
  },
  {
   "cell_type": "code",
   "execution_count": 2,
   "metadata": {},
   "outputs": [
    {
     "data": {
      "text/markdown": [
       "Sure! Here's a quiz to test your knowledge of the basics of Python programming:\n",
       "\n",
       "### Python Basics Quiz\n",
       "\n",
       "#### Question 1:\n",
       "What is the correct file extension for Python files?\n",
       "a) .pt  \n",
       "b) .py  \n",
       "c) .pyt  \n",
       "d) .python  \n",
       "\n",
       "#### Question 2:\n",
       "How do you create a variable with the numeric value 5 in Python?\n",
       "a) x = 5  \n",
       "b) int x = 5  \n",
       "c) x := 5  \n",
       "d) x == 5  \n",
       "\n",
       "#### Question 3:\n",
       "Which of the following is the correct syntax to output \"Hello, World!\" in Python?\n",
       "a) echo \"Hello, World!\"  \n",
       "b) printf(\"Hello, World!\")  \n",
       "c) print(\"Hello, World!\")  \n",
       "d) cout << \"Hello, World!\"  \n",
       "\n",
       "#### Question 4:\n",
       "How do you insert comments in Python code?\n",
       "a) // This is a comment  \n",
       "b) # This is a comment  \n",
       "c) <!-- This is a comment -->  \n",
       "d) /* This is a comment */  \n",
       "\n",
       "#### Question 5:\n",
       "What is the correct way to create a function in Python?\n",
       "a) function myFunction():  \n",
       "b) def myFunction():  \n",
       "c) create myFunction():  \n",
       "d) func myFunction():  \n",
       "\n",
       "#### Question 6:\n",
       "Which of the following is a correct way to create a list in Python?\n",
       "a) myList = (1, 2, 3)  \n",
       "b) myList = [1, 2, 3]  \n",
       "c) myList = {1, 2, 3}  \n",
       "d) myList = <1, 2, 3>  \n",
       "\n",
       "#### Question 7:\n",
       "How do you check the length of a list `myList` in Python?\n",
       "a) len(myList)  \n",
       "b) length(myList)  \n",
       "c) myList.length()  \n",
       "d) myList.len()  \n",
       "\n",
       "#### Question 8:\n",
       "Which of the following is used to handle exceptions in Python?\n",
       "a) try/except  \n",
       "b) do/catch  \n",
       "c) try/catch  \n",
       "d) handle/except  \n",
       "\n",
       "#### Question 9:\n",
       "What is the output of the following code?\n",
       "```python\n",
       "print(2 ** 3)\n",
       "```\n",
       "a) 5  \n",
       "b) 6  \n",
       "c) 8  \n",
       "d) 9  \n",
       "\n",
       "#### Question 10:\n",
       "How do you start a while loop in Python?\n",
       "a) while x > 0 {  \n",
       "b) while (x > 0):  \n",
       "c) while x > 0:  \n",
       "d) while (x > 0) {  \n",
       "\n",
       "### Answers:\n",
       "1. b) .py\n",
       "2. a) x = 5\n",
       "3. c) print(\"Hello, World!\")\n",
       "4. b) # This is a comment\n",
       "5. b) def myFunction():\n",
       "6. b) myList = [1, 2, 3]\n",
       "7. a) len(myList)\n",
       "8. a) try/except\n",
       "9. c) 8\n",
       "10. c) while x > 0:\n",
       "\n",
       "Feel free to use this quiz to test your understanding of Python basics!"
      ],
      "text/plain": [
       "<IPython.core.display.Markdown object>"
      ]
     },
     "execution_count": 2,
     "metadata": {},
     "output_type": "execute_result"
    }
   ],
   "source": [
    "from IPython.display import Markdown, display\n",
    "\n",
    "Markdown(quiz_python)"
   ]
  },
  {
   "cell_type": "markdown",
   "metadata": {},
   "source": [
    "Requirements for the app\n",
    "\n",
    "1. We have to be specific\n",
    "   1. We want to specify the number of questions we want\n",
    "2. We have to be able to feed in contextual information\n",
    "3. We want to be able to specify the types of questions we want created (T/F, multiple choice, text...)"
   ]
  },
  {
   "cell_type": "code",
   "execution_count": 3,
   "metadata": {},
   "outputs": [],
   "source": [
    "from langchain.prompts import ChatPromptTemplate"
   ]
  },
  {
   "cell_type": "code",
   "execution_count": 4,
   "metadata": {},
   "outputs": [],
   "source": [
    "template = \"\"\"\n",
    "You are an expert quiz maker for technical fields. Let's think step by step and\n",
    "create a quiz with {num_questions} {quiz_type} questions about the following concept/content: {quiz_context}.\n",
    "\n",
    "The format of the quiz could be one of the following:\n",
    "- Multiple-choice: \n",
    "- Questions:\n",
    "    <Question1>: <a. Answer 1>, <b. Answer 2>, <c. Answer 3>, <d. Answer 4>\n",
    "    <Question2>: <a. Answer 1>, <b. Answer 2>, <c. Answer 3>, <d. Answer 4>\n",
    "    ....\n",
    "- Answers:\n",
    "    <Answer1>: <a|b|c|d>\n",
    "    <Answer2>: <a|b|c|d>\n",
    "    ....\n",
    "    Example:\n",
    "    - Questions:\n",
    "    - 1. What is the time complexity of a binary search tree?\n",
    "        a. O(n)\n",
    "        b. O(log n)\n",
    "        c. O(n^2)\n",
    "        d. O(1)\n",
    "    - Answers: \n",
    "        1. b\n",
    "- True-false:\n",
    "    - Questions:\n",
    "        <Question1>: <True|False>\n",
    "        <Question2>: <True|False>\n",
    "        .....\n",
    "    - Answers:\n",
    "        <Answer1>: <True|False>\n",
    "        <Answer2>: <True|False>\n",
    "        .....\n",
    "    Example:\n",
    "    - Questions:\n",
    "        - 1. What is a binary search tree?\n",
    "        - 2. How are binary search trees implemented?\n",
    "    - Answers:\n",
    "        - 1. True\n",
    "        - 2. False\n",
    "- Open-ended:\n",
    "- Questions:\n",
    "    <Question1>: \n",
    "    <Question2>:\n",
    "- Answers:    \n",
    "    <Answer1>:\n",
    "    <Answer2>:\n",
    "Example:\n",
    "    Questions:\n",
    "    - 1. What is a binary search tree?\n",
    "    - 2. How are binary search trees implemented?\n",
    "    \n",
    "    - Answers: \n",
    "        1. A binary search tree is a data structure that is used to store data in a sorted manner.\n",
    "        2. Binary search trees are implemented using linked lists.\n",
    "\"\"\""
   ]
  },
  {
   "cell_type": "code",
   "execution_count": 5,
   "metadata": {},
   "outputs": [],
   "source": [
    "prompt = ChatPromptTemplate.from_template(template)"
   ]
  },
  {
   "cell_type": "code",
   "execution_count": 6,
   "metadata": {},
   "outputs": [
    {
     "data": {
      "text/plain": [
       "\"Human: \\nYou are an expert quiz maker for technical fields. Let's think step by step and\\ncreate a quiz with 3 multiple-choice questions about the following concept/content: Data Structures in Python Programming.\\n\\nThe format of the quiz could be one of the following:\\n- Multiple-choice: \\n- Questions:\\n    <Question1>: <a. Answer 1>, <b. Answer 2>, <c. Answer 3>, <d. Answer 4>\\n    <Question2>: <a. Answer 1>, <b. Answer 2>, <c. Answer 3>, <d. Answer 4>\\n    ....\\n- Answers:\\n    <Answer1>: <a|b|c|d>\\n    <Answer2>: <a|b|c|d>\\n    ....\\n    Example:\\n    - Questions:\\n    - 1. What is the time complexity of a binary search tree?\\n        a. O(n)\\n        b. O(log n)\\n        c. O(n^2)\\n        d. O(1)\\n    - Answers: \\n        1. b\\n- True-false:\\n    - Questions:\\n        <Question1>: <True|False>\\n        <Question2>: <True|False>\\n        .....\\n    - Answers:\\n        <Answer1>: <True|False>\\n        <Answer2>: <True|False>\\n        .....\\n    Example:\\n    - Questions:\\n        - 1. What is a binary search tree?\\n        - 2. How are binary search trees implemented?\\n    - Answers:\\n        - 1. True\\n        - 2. False\\n- Open-ended:\\n- Questions:\\n    <Question1>: \\n    <Question2>:\\n- Answers:    \\n    <Answer1>:\\n    <Answer2>:\\nExample:\\n    Questions:\\n    - 1. What is a binary search tree?\\n    - 2. How are binary search trees implemented?\\n    \\n    - Answers: \\n        1. A binary search tree is a data structure that is used to store data in a sorted manner.\\n        2. Binary search trees are implemented using linked lists.\\n\""
      ]
     },
     "execution_count": 6,
     "metadata": {},
     "output_type": "execute_result"
    }
   ],
   "source": [
    "prompt.format(num_questions=3, quiz_type=\"multiple-choice\", quiz_context=\"Data Structures in Python Programming\")"
   ]
  },
  {
   "cell_type": "code",
   "execution_count": 7,
   "metadata": {},
   "outputs": [],
   "source": [
    "from langchain_openai import ChatOpenAI\n",
    "from langchain.schema import StrOutputParser\n",
    "import re"
   ]
  },
  {
   "cell_type": "code",
   "execution_count": 8,
   "metadata": {},
   "outputs": [],
   "source": [
    "chain = prompt | ChatOpenAI(temperature=0.0, model=\"gpt-4o\") | StrOutputParser()"
   ]
  },
  {
   "cell_type": "code",
   "execution_count": 9,
   "metadata": {},
   "outputs": [],
   "source": [
    "quiz_response = chain.invoke({\"num_questions\":3, \"quiz_type\":\"multiple-choice\", \"quiz_context\":\"Data Structures in Python Programming\",})"
   ]
  },
  {
   "cell_type": "code",
   "execution_count": 10,
   "metadata": {},
   "outputs": [
    {
     "data": {
      "text/markdown": [
       "Sure, let's create a multiple-choice quiz about Data Structures in Python Programming. We'll include three questions, each with four possible answers. \n",
       "\n",
       "### Questions:\n",
       "\n",
       "1. Which of the following data structures in Python is mutable and allows duplicate elements?\n",
       "    a. Tuple\n",
       "    b. List\n",
       "    c. Set\n",
       "    d. Dictionary\n",
       "\n",
       "2. What is the time complexity of accessing an element in a Python dictionary by its key?\n",
       "    a. O(n)\n",
       "    b. O(log n)\n",
       "    c. O(1)\n",
       "    d. O(n log n)\n",
       "\n",
       "3. Which of the following methods is used to add an element to the end of a list in Python?\n",
       "    a. append()\n",
       "    b. add()\n",
       "    c. insert()\n",
       "    d. extend()\n",
       "\n",
       "### Answers:\n",
       "\n",
       "1. b\n",
       "2. c\n",
       "3. a\n",
       "\n",
       "Feel free to use this quiz to test knowledge on data structures in Python programming!"
      ],
      "text/plain": [
       "<IPython.core.display.Markdown object>"
      ]
     },
     "execution_count": 10,
     "metadata": {},
     "output_type": "execute_result"
    }
   ],
   "source": [
    "Markdown(quiz_response)"
   ]
  },
  {
   "cell_type": "code",
   "execution_count": 11,
   "metadata": {},
   "outputs": [],
   "source": [
    "quiz_response = chain.invoke({\"num_questions\": 4, \"quiz_type\": \"True-false\", \"quiz_context\": \"Python programming\"})"
   ]
  },
  {
   "cell_type": "code",
   "execution_count": 12,
   "metadata": {},
   "outputs": [
    {
     "data": {
      "text/markdown": [
       "Sure, let's create a True-false quiz about Python programming. We'll follow the format you provided:\n",
       "\n",
       "### Questions:\n",
       "1. Python is a statically typed language.\n",
       "2. The `print` function in Python automatically adds a newline character at the end of its output.\n",
       "3. In Python, lists are mutable, but tuples are immutable.\n",
       "4. Python supports multiple inheritance.\n",
       "\n",
       "### Answers:\n",
       "1. False\n",
       "2. True\n",
       "3. True\n",
       "4. True\n",
       "\n",
       "### Explanation:\n",
       "1. **False**: Python is a dynamically typed language, meaning that the type of a variable is interpreted at runtime.\n",
       "2. **True**: By default, the `print` function in Python adds a newline character at the end of its output.\n",
       "3. **True**: Lists in Python are mutable, meaning their contents can be changed, while tuples are immutable, meaning their contents cannot be changed once they are created.\n",
       "4. **True**: Python supports multiple inheritance, allowing a class to inherit from more than one base class."
      ],
      "text/plain": [
       "<IPython.core.display.Markdown object>"
      ]
     },
     "execution_count": 12,
     "metadata": {},
     "output_type": "execute_result"
    }
   ],
   "source": [
    "Markdown(quiz_response)"
   ]
  },
  {
   "cell_type": "code",
   "execution_count": 14,
   "metadata": {},
   "outputs": [],
   "source": [
    "quiz_response = chain.invoke({\"num_questions\": 2, \"quiz_type\": \"Open-ended\", \"quiz_context\": \"Python programming\"})"
   ]
  },
  {
   "cell_type": "code",
   "execution_count": 15,
   "metadata": {},
   "outputs": [
    {
     "data": {
      "text/markdown": [
       "- Questions:\n",
       "    1. What is Python programming?\n",
       "    2. How is Python different from other programming languages?\n",
       "    \n",
       "- Answers:\n",
       "    1. Python programming is a high-level, interpreted, and general-purpose programming language known for its simplicity and readability.\n",
       "    2. Python is different from other programming languages due to its easy syntax, dynamic typing, and extensive standard library."
      ],
      "text/plain": [
       "<IPython.core.display.Markdown object>"
      ]
     },
     "execution_count": 15,
     "metadata": {},
     "output_type": "execute_result"
    }
   ],
   "source": [
    "Markdown(quiz_response)"
   ]
  }
 ],
 "metadata": {
  "kernelspec": {
   "display_name": "oreilly-chatgpt-apps",
   "language": "python",
   "name": "oreilly-chatgpt-apps"
  },
  "language_info": {
   "codemirror_mode": {
    "name": "ipython",
    "version": 3
   },
   "file_extension": ".py",
   "mimetype": "text/x-python",
   "name": "python",
   "nbconvert_exporter": "python",
   "pygments_lexer": "ipython3",
   "version": "3.11.9"
  },
  "orig_nbformat": 4
 },
 "nbformat": 4,
 "nbformat_minor": 2
}
