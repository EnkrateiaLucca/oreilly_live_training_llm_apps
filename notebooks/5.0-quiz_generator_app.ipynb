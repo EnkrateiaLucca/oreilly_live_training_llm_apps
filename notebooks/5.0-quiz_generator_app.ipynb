{
 "cells": [
  {
   "cell_type": "code",
   "execution_count": 2,
   "metadata": {
    "execution": {
     "iopub.execute_input": "2025-01-08T03:29:45.025426Z",
     "iopub.status.busy": "2025-01-08T03:29:45.025158Z",
     "iopub.status.idle": "2025-01-08T03:29:50.719506Z",
     "shell.execute_reply": "2025-01-08T03:29:50.719009Z"
    }
   },
   "outputs": [],
   "source": [
    "# %pip install openai\n",
    "# %pip install langchain\n",
    "# %pip install langchain_community\n",
    "# %pip install langchain_openai\n",
    "# %pip install python-dotenv"
   ]
  },
  {
   "cell_type": "code",
   "execution_count": 3,
   "metadata": {
    "execution": {
     "iopub.execute_input": "2025-01-08T03:29:50.721700Z",
     "iopub.status.busy": "2025-01-08T03:29:50.721557Z",
     "iopub.status.idle": "2025-01-08T03:29:50.884756Z",
     "shell.execute_reply": "2025-01-08T03:29:50.884449Z"
    }
   },
   "outputs": [],
   "source": [
    "import os\n",
    "from dotenv import load_dotenv\n",
    "\n",
    "# loading from a .env file\n",
    "# load_dotenv(dotenv_path=\"/full/path/to/your/.env\")\n",
    "\n",
    "# or \n",
    "# if you're on google colab just uncomment below and replace with your openai api key\n",
    "# os.environ[\"OPENAI_API_KEY\"] = \"<your-openai-api-key>\""
   ]
  },
  {
   "cell_type": "markdown",
   "metadata": {},
   "source": [
    "# Quiz App\n",
    "\n",
    "- Given a page of a pdf\n",
    "- Given a concept\n",
    "- Simple interface\n",
    "- Quickly generate flexible quizzes\n",
    "  - Generate any type of questions (True or False, text based questions, multiple choice)\n",
    "- Feedback on the answers"
   ]
  },
  {
   "cell_type": "code",
   "execution_count": 4,
   "metadata": {
    "execution": {
     "iopub.execute_input": "2025-01-08T03:29:50.886198Z",
     "iopub.status.busy": "2025-01-08T03:29:50.886132Z",
     "iopub.status.idle": "2025-01-08T03:30:02.862916Z",
     "shell.execute_reply": "2025-01-08T03:30:02.862334Z"
    }
   },
   "outputs": [
    {
     "data": {
      "text/plain": [
       "'Sure! Here\\'s a quiz designed to test basic knowledge of Python programming. Each question is followed by multiple-choice answers.\\n\\n### Python Basics Quiz\\n\\n#### Question 1:\\nWhat is the correct file extension for Python files?\\n\\nA) .pyth  \\nB) .pt  \\nC) .py  \\nD) .python\\n\\n#### Question 2:\\nHow do you output \"Hello, World!\" in Python?\\n\\nA) echo \"Hello, World!\"  \\nB) printf(\"Hello, World!\")  \\nC) print(\"Hello, World!\")  \\nD) cout << \"Hello, World!\";\\n\\n#### Question 3:\\nWhich of the following is a correct variable assignment in Python?\\n\\nA) x := 10  \\nB) int x = 10  \\nC) x = 10  \\nD) var x = 10\\n\\n#### Question 4:\\nWhat is the correct way to create a list in Python?\\n\\nA) list = (1, 2, 3)  \\nB) list = [1, 2, 3]  \\nC) list = {1, 2, 3}  \\nD) list = <1, 2, 3>\\n\\n#### Question 5:\\nHow do you start a comment in Python?\\n\\nA) // This is a comment  \\nB) <!-- This is a comment -->  \\nC) # This is a comment  \\nD) /* This is a comment */\\n\\n#### Question 6:\\nWhich of the following is a valid function definition in Python?\\n\\nA) function myFunction():  \\nB) def myFunction():  \\nC) define myFunction():  \\nD) func myFunction():\\n\\n#### Question 7:\\nWhat is the output of the following code?\\n\\n```python\\nx = 5\\ny = 10\\nprint(x + y)\\n```\\n\\nA) 15  \\nB) 510  \\nC) 5 + 10  \\nD) Error\\n\\n#### Question 8:\\nWhich of the following is used to handle exceptions in Python?\\n\\nA) try/except  \\nB) catch/try  \\nC) handle/error  \\nD) error/catch\\n\\n#### Question 9:\\nWhat is the output of the following code?\\n\\n```python\\nfor i in range(3):\\n    print(i)\\n```\\n\\nA) 0 1 2  \\nB) 1 2 3  \\nC) 0 1 2 3  \\nD) 1 2\\n\\n#### Question 10:\\nHow do you create a dictionary in Python?\\n\\nA) dict = [key1: value1, key2: value2]  \\nB) dict = {key1: value1, key2: value2}  \\nC) dict = (key1: value1, key2: value2)  \\nD) dict = <key1: value1, key2: value2>\\n\\n---\\n\\n### Answer Key:\\n\\n1. C) .py\\n2. C) print(\"Hello, World!\")\\n3. C) x = 10\\n4. B) list = [1, 2, 3]\\n5. C) # This is a comment\\n6. B) def myFunction():\\n7. A) 15\\n8. A) try/except\\n9. A) 0 1 2\\n10. B) dict = {key1: value1, key2: value2}\\n\\nFeel free to use this quiz to test your knowledge or to help others learn the basics of Python programming!'"
      ]
     },
     "execution_count": 4,
     "metadata": {},
     "output_type": "execute_result"
    }
   ],
   "source": [
    "from openai import OpenAI\n",
    "\n",
    "def get_response(prompt):\n",
    "    client = OpenAI()\n",
    "    response = client.chat.completions.create(model=\"gpt-4o\", \n",
    "                             messages=\n",
    "                             [\n",
    "                                 {\"role\": \"system\", \"content\": \"You are a helpful assistant.\"},\n",
    "                                 {\"role\": \"user\", \"content\": prompt}   \n",
    "                             ],\n",
    "                             temperature=0.0,\n",
    "                             n = 1\n",
    "                             )\n",
    "    return response.choices[0].message.content\n",
    "\n",
    "\n",
    "prompt = \"Create a quiz about the basics of Python programming.\"\n",
    "quiz_python = get_response(prompt)\n",
    "quiz_python"
   ]
  },
  {
   "cell_type": "code",
   "execution_count": 5,
   "metadata": {
    "execution": {
     "iopub.execute_input": "2025-01-08T03:30:02.866143Z",
     "iopub.status.busy": "2025-01-08T03:30:02.865922Z",
     "iopub.status.idle": "2025-01-08T03:30:02.870006Z",
     "shell.execute_reply": "2025-01-08T03:30:02.869328Z"
    }
   },
   "outputs": [
    {
     "data": {
      "text/markdown": [
       "Sure! Here's a quiz designed to test basic knowledge of Python programming. Each question is followed by multiple-choice answers.\n",
       "\n",
       "### Python Basics Quiz\n",
       "\n",
       "#### Question 1:\n",
       "What is the correct file extension for Python files?\n",
       "\n",
       "A) .pyth  \n",
       "B) .pt  \n",
       "C) .py  \n",
       "D) .python\n",
       "\n",
       "#### Question 2:\n",
       "How do you output \"Hello, World!\" in Python?\n",
       "\n",
       "A) echo \"Hello, World!\"  \n",
       "B) printf(\"Hello, World!\")  \n",
       "C) print(\"Hello, World!\")  \n",
       "D) cout << \"Hello, World!\";\n",
       "\n",
       "#### Question 3:\n",
       "Which of the following is a correct variable assignment in Python?\n",
       "\n",
       "A) x := 10  \n",
       "B) int x = 10  \n",
       "C) x = 10  \n",
       "D) var x = 10\n",
       "\n",
       "#### Question 4:\n",
       "What is the correct way to create a list in Python?\n",
       "\n",
       "A) list = (1, 2, 3)  \n",
       "B) list = [1, 2, 3]  \n",
       "C) list = {1, 2, 3}  \n",
       "D) list = <1, 2, 3>\n",
       "\n",
       "#### Question 5:\n",
       "How do you start a comment in Python?\n",
       "\n",
       "A) // This is a comment  \n",
       "B) <!-- This is a comment -->  \n",
       "C) # This is a comment  \n",
       "D) /* This is a comment */\n",
       "\n",
       "#### Question 6:\n",
       "Which of the following is a valid function definition in Python?\n",
       "\n",
       "A) function myFunction():  \n",
       "B) def myFunction():  \n",
       "C) define myFunction():  \n",
       "D) func myFunction():\n",
       "\n",
       "#### Question 7:\n",
       "What is the output of the following code?\n",
       "\n",
       "```python\n",
       "x = 5\n",
       "y = 10\n",
       "print(x + y)\n",
       "```\n",
       "\n",
       "A) 15  \n",
       "B) 510  \n",
       "C) 5 + 10  \n",
       "D) Error\n",
       "\n",
       "#### Question 8:\n",
       "Which of the following is used to handle exceptions in Python?\n",
       "\n",
       "A) try/except  \n",
       "B) catch/try  \n",
       "C) handle/error  \n",
       "D) error/catch\n",
       "\n",
       "#### Question 9:\n",
       "What is the output of the following code?\n",
       "\n",
       "```python\n",
       "for i in range(3):\n",
       "    print(i)\n",
       "```\n",
       "\n",
       "A) 0 1 2  \n",
       "B) 1 2 3  \n",
       "C) 0 1 2 3  \n",
       "D) 1 2\n",
       "\n",
       "#### Question 10:\n",
       "How do you create a dictionary in Python?\n",
       "\n",
       "A) dict = [key1: value1, key2: value2]  \n",
       "B) dict = {key1: value1, key2: value2}  \n",
       "C) dict = (key1: value1, key2: value2)  \n",
       "D) dict = <key1: value1, key2: value2>\n",
       "\n",
       "---\n",
       "\n",
       "### Answer Key:\n",
       "\n",
       "1. C) .py\n",
       "2. C) print(\"Hello, World!\")\n",
       "3. C) x = 10\n",
       "4. B) list = [1, 2, 3]\n",
       "5. C) # This is a comment\n",
       "6. B) def myFunction():\n",
       "7. A) 15\n",
       "8. A) try/except\n",
       "9. A) 0 1 2\n",
       "10. B) dict = {key1: value1, key2: value2}\n",
       "\n",
       "Feel free to use this quiz to test your knowledge or to help others learn the basics of Python programming!"
      ],
      "text/plain": [
       "<IPython.core.display.Markdown object>"
      ]
     },
     "execution_count": 5,
     "metadata": {},
     "output_type": "execute_result"
    }
   ],
   "source": [
    "from IPython.display import Markdown, display\n",
    "\n",
    "Markdown(quiz_python)"
   ]
  },
  {
   "cell_type": "markdown",
   "metadata": {},
   "source": [
    "Requirements for the app\n",
    "\n",
    "1. We have to be specific\n",
    "   1. We want to specify the number of questions we want\n",
    "2. We have to be able to feed in contextual information\n",
    "3. We want to be able to specify the types of questions we want created (T/F, multiple choice, text...)"
   ]
  },
  {
   "cell_type": "code",
   "execution_count": 6,
   "metadata": {
    "execution": {
     "iopub.execute_input": "2025-01-08T03:30:02.872730Z",
     "iopub.status.busy": "2025-01-08T03:30:02.872531Z",
     "iopub.status.idle": "2025-01-08T03:30:03.079430Z",
     "shell.execute_reply": "2025-01-08T03:30:03.079147Z"
    }
   },
   "outputs": [],
   "source": [
    "from langchain_core.prompts import ChatPromptTemplate"
   ]
  },
  {
   "cell_type": "code",
   "execution_count": 7,
   "metadata": {
    "execution": {
     "iopub.execute_input": "2025-01-08T03:30:03.081001Z",
     "iopub.status.busy": "2025-01-08T03:30:03.080919Z",
     "iopub.status.idle": "2025-01-08T03:30:03.082954Z",
     "shell.execute_reply": "2025-01-08T03:30:03.082710Z"
    }
   },
   "outputs": [],
   "source": [
    "template = \"\"\"\n",
    "You are an expert quiz maker for technical fields. Let's think step by step and\n",
    "create a quiz with {num_questions} {quiz_type} questions about the following concept/content: {quiz_context}.\n",
    "\n",
    "The format of the quiz could be one of the following:\n",
    "- Multiple-choice: \n",
    "- Questions:\n",
    "    <Question1>: <a. Answer 1>, <b. Answer 2>, <c. Answer 3>, <d. Answer 4>\n",
    "    <Question2>: <a. Answer 1>, <b. Answer 2>, <c. Answer 3>, <d. Answer 4>\n",
    "    ....\n",
    "- Answers:\n",
    "    <Answer1>: <a|b|c|d>\n",
    "    <Answer2>: <a|b|c|d>\n",
    "    ....\n",
    "    Example:\n",
    "    - Questions:\n",
    "    - 1. What is the time complexity of a binary search tree?\n",
    "        a. O(n)\n",
    "        b. O(log n)\n",
    "        c. O(n^2)\n",
    "        d. O(1)\n",
    "    - Answers: \n",
    "        1. b\n",
    "- True-false:\n",
    "    - Questions:\n",
    "        <Question1>: <True|False>\n",
    "        <Question2>: <True|False>\n",
    "        .....\n",
    "    - Answers:\n",
    "        <Answer1>: <True|False>\n",
    "        <Answer2>: <True|False>\n",
    "        .....\n",
    "    Example:\n",
    "    - Questions:\n",
    "        - 1. What is a binary search tree?\n",
    "        - 2. How are binary search trees implemented?\n",
    "    - Answers:\n",
    "        - 1. True\n",
    "        - 2. False\n",
    "- Open-ended:\n",
    "- Questions:\n",
    "    <Question1>: \n",
    "    <Question2>:\n",
    "- Answers:    \n",
    "    <Answer1>:\n",
    "    <Answer2>:\n",
    "Example:\n",
    "    Questions:\n",
    "    - 1. What is a binary search tree?\n",
    "    - 2. How are binary search trees implemented?\n",
    "    \n",
    "    - Answers: \n",
    "        1. A binary search tree is a data structure that is used to store data in a sorted manner.\n",
    "        2. Binary search trees are implemented using linked lists.\n",
    "\"\"\""
   ]
  },
  {
   "cell_type": "code",
   "execution_count": 8,
   "metadata": {
    "execution": {
     "iopub.execute_input": "2025-01-08T03:30:03.084276Z",
     "iopub.status.busy": "2025-01-08T03:30:03.084184Z",
     "iopub.status.idle": "2025-01-08T03:30:03.085881Z",
     "shell.execute_reply": "2025-01-08T03:30:03.085622Z"
    }
   },
   "outputs": [],
   "source": [
    "prompt = ChatPromptTemplate.from_template(template)"
   ]
  },
  {
   "cell_type": "code",
   "execution_count": 9,
   "metadata": {
    "execution": {
     "iopub.execute_input": "2025-01-08T03:30:03.086952Z",
     "iopub.status.busy": "2025-01-08T03:30:03.086874Z",
     "iopub.status.idle": "2025-01-08T03:30:03.088949Z",
     "shell.execute_reply": "2025-01-08T03:30:03.088739Z"
    }
   },
   "outputs": [
    {
     "data": {
      "text/plain": [
       "\"Human: \\nYou are an expert quiz maker for technical fields. Let's think step by step and\\ncreate a quiz with 3 multiple-choice questions about the following concept/content: Data Structures in Python Programming.\\n\\nThe format of the quiz could be one of the following:\\n- Multiple-choice: \\n- Questions:\\n    <Question1>: <a. Answer 1>, <b. Answer 2>, <c. Answer 3>, <d. Answer 4>\\n    <Question2>: <a. Answer 1>, <b. Answer 2>, <c. Answer 3>, <d. Answer 4>\\n    ....\\n- Answers:\\n    <Answer1>: <a|b|c|d>\\n    <Answer2>: <a|b|c|d>\\n    ....\\n    Example:\\n    - Questions:\\n    - 1. What is the time complexity of a binary search tree?\\n        a. O(n)\\n        b. O(log n)\\n        c. O(n^2)\\n        d. O(1)\\n    - Answers: \\n        1. b\\n- True-false:\\n    - Questions:\\n        <Question1>: <True|False>\\n        <Question2>: <True|False>\\n        .....\\n    - Answers:\\n        <Answer1>: <True|False>\\n        <Answer2>: <True|False>\\n        .....\\n    Example:\\n    - Questions:\\n        - 1. What is a binary search tree?\\n        - 2. How are binary search trees implemented?\\n    - Answers:\\n        - 1. True\\n        - 2. False\\n- Open-ended:\\n- Questions:\\n    <Question1>: \\n    <Question2>:\\n- Answers:    \\n    <Answer1>:\\n    <Answer2>:\\nExample:\\n    Questions:\\n    - 1. What is a binary search tree?\\n    - 2. How are binary search trees implemented?\\n    \\n    - Answers: \\n        1. A binary search tree is a data structure that is used to store data in a sorted manner.\\n        2. Binary search trees are implemented using linked lists.\\n\""
      ]
     },
     "execution_count": 9,
     "metadata": {},
     "output_type": "execute_result"
    }
   ],
   "source": [
    "prompt.format(num_questions=3, quiz_type=\"multiple-choice\", quiz_context=\"Data Structures in Python Programming\")"
   ]
  },
  {
   "cell_type": "code",
   "execution_count": 10,
   "metadata": {
    "execution": {
     "iopub.execute_input": "2025-01-08T03:30:03.089977Z",
     "iopub.status.busy": "2025-01-08T03:30:03.089904Z",
     "iopub.status.idle": "2025-01-08T03:30:03.129676Z",
     "shell.execute_reply": "2025-01-08T03:30:03.129290Z"
    }
   },
   "outputs": [],
   "source": [
    "from langchain_openai import ChatOpenAI\n",
    "from langchain.schema import StrOutputParser\n",
    "import re"
   ]
  },
  {
   "cell_type": "code",
   "execution_count": 11,
   "metadata": {
    "execution": {
     "iopub.execute_input": "2025-01-08T03:30:03.131181Z",
     "iopub.status.busy": "2025-01-08T03:30:03.131088Z",
     "iopub.status.idle": "2025-01-08T03:30:03.157192Z",
     "shell.execute_reply": "2025-01-08T03:30:03.156903Z"
    }
   },
   "outputs": [],
   "source": [
    "chain = prompt | ChatOpenAI(temperature=0.0, model=\"gpt-4o\") | StrOutputParser()"
   ]
  },
  {
   "cell_type": "code",
   "execution_count": 12,
   "metadata": {
    "execution": {
     "iopub.execute_input": "2025-01-08T03:30:03.158540Z",
     "iopub.status.busy": "2025-01-08T03:30:03.158460Z",
     "iopub.status.idle": "2025-01-08T03:30:06.598055Z",
     "shell.execute_reply": "2025-01-08T03:30:06.597115Z"
    }
   },
   "outputs": [],
   "source": [
    "quiz_response = chain.invoke({\"num_questions\":3, \"quiz_type\":\"multiple-choice\", \"quiz_context\":\"Data Structures in Python Programming\",})"
   ]
  },
  {
   "cell_type": "code",
   "execution_count": 13,
   "metadata": {
    "execution": {
     "iopub.execute_input": "2025-01-08T03:30:06.603179Z",
     "iopub.status.busy": "2025-01-08T03:30:06.602826Z",
     "iopub.status.idle": "2025-01-08T03:30:06.608761Z",
     "shell.execute_reply": "2025-01-08T03:30:06.608099Z"
    }
   },
   "outputs": [
    {
     "data": {
      "text/markdown": [
       "Let's create a multiple-choice quiz about Data Structures in Python Programming.\n",
       "\n",
       "### Questions:\n",
       "\n",
       "1. Which of the following data structures in Python is mutable?\n",
       "    a. Tuple  \n",
       "    b. List  \n",
       "    c. String  \n",
       "    d. Frozenset  \n",
       "\n",
       "2. What is the primary characteristic of a Python dictionary?\n",
       "    a. It is an ordered collection of elements.  \n",
       "    b. It allows duplicate keys.  \n",
       "    c. It is a collection of key-value pairs.  \n",
       "    d. It is immutable.  \n",
       "\n",
       "3. Which of the following operations is the most efficient for a Python set?\n",
       "    a. Accessing an element by index  \n",
       "    b. Checking for membership  \n",
       "    c. Appending an element  \n",
       "    d. Sorting the elements  \n",
       "\n",
       "### Answers:\n",
       "\n",
       "1. b  \n",
       "2. c  \n",
       "3. b  "
      ],
      "text/plain": [
       "<IPython.core.display.Markdown object>"
      ]
     },
     "execution_count": 13,
     "metadata": {},
     "output_type": "execute_result"
    }
   ],
   "source": [
    "Markdown(quiz_response)"
   ]
  },
  {
   "cell_type": "code",
   "execution_count": 14,
   "metadata": {
    "execution": {
     "iopub.execute_input": "2025-01-08T03:30:06.611881Z",
     "iopub.status.busy": "2025-01-08T03:30:06.611629Z",
     "iopub.status.idle": "2025-01-08T03:30:09.737501Z",
     "shell.execute_reply": "2025-01-08T03:30:09.736520Z"
    }
   },
   "outputs": [],
   "source": [
    "quiz_response = chain.invoke({\"num_questions\": 4, \"quiz_type\": \"True-false\", \"quiz_context\": \"Python programming\"})"
   ]
  },
  {
   "cell_type": "code",
   "execution_count": 15,
   "metadata": {
    "execution": {
     "iopub.execute_input": "2025-01-08T03:30:09.741553Z",
     "iopub.status.busy": "2025-01-08T03:30:09.741215Z",
     "iopub.status.idle": "2025-01-08T03:30:09.745234Z",
     "shell.execute_reply": "2025-01-08T03:30:09.744571Z"
    }
   },
   "outputs": [
    {
     "data": {
      "text/markdown": [
       "Let's create a True-false quiz about Python programming. We'll think through each question to ensure it covers a fundamental aspect of Python.\n",
       "\n",
       "### Questions:\n",
       "1. Python is a statically typed programming language: True|False\n",
       "2. In Python, indentation is used to define the scope of loops, functions, and classes: True|False\n",
       "3. Python supports multiple inheritance: True|False\n",
       "4. The `print` function in Python automatically adds a newline character at the end of its output: True|False\n",
       "\n",
       "### Answers:\n",
       "1. False\n",
       "2. True\n",
       "3. True\n",
       "4. True\n",
       "\n",
       "### Explanation:\n",
       "1. **False**: Python is a dynamically typed language, meaning that variable types are determined at runtime.\n",
       "2. **True**: Python uses indentation to define the scope of code blocks, such as loops, functions, and classes, rather than braces or keywords.\n",
       "3. **True**: Python supports multiple inheritance, allowing a class to inherit from more than one parent class.\n",
       "4. **True**: By default, the `print` function in Python adds a newline character at the end of its output, which can be changed by setting the `end` parameter."
      ],
      "text/plain": [
       "<IPython.core.display.Markdown object>"
      ]
     },
     "execution_count": 15,
     "metadata": {},
     "output_type": "execute_result"
    }
   ],
   "source": [
    "Markdown(quiz_response)"
   ]
  },
  {
   "cell_type": "code",
   "execution_count": 16,
   "metadata": {
    "execution": {
     "iopub.execute_input": "2025-01-08T03:30:09.749030Z",
     "iopub.status.busy": "2025-01-08T03:30:09.748789Z",
     "iopub.status.idle": "2025-01-08T03:30:13.820072Z",
     "shell.execute_reply": "2025-01-08T03:30:13.819488Z"
    }
   },
   "outputs": [],
   "source": [
    "quiz_response = chain.invoke({\"num_questions\": 2, \"quiz_type\": \"Open-ended\", \"quiz_context\": \"Python programming\"})"
   ]
  },
  {
   "cell_type": "code",
   "execution_count": 17,
   "metadata": {
    "execution": {
     "iopub.execute_input": "2025-01-08T03:30:13.823990Z",
     "iopub.status.busy": "2025-01-08T03:30:13.823611Z",
     "iopub.status.idle": "2025-01-08T03:30:13.828186Z",
     "shell.execute_reply": "2025-01-08T03:30:13.827654Z"
    }
   },
   "outputs": [
    {
     "data": {
      "text/markdown": [
       "Sure, let's create a quiz with two open-ended questions about Python programming.\n",
       "\n",
       "### Questions:\n",
       "1. What are Python decorators, and how are they used in a Python program?\n",
       "2. Explain the concept of list comprehensions in Python and provide an example of how they can be used to create a new list.\n",
       "\n",
       "### Answers:\n",
       "1. Python decorators are a powerful tool that allows you to modify the behavior of a function or class. They are functions that take another function as an argument and extend or alter its behavior. Decorators are often used for logging, access control, instrumentation, and caching. They are applied using the `@decorator_name` syntax above the function definition.\n",
       "\n",
       "2. List comprehensions in Python provide a concise way to create lists. They consist of an expression followed by a `for` clause, and can include additional `for` or `if` clauses. The result is a new list resulting from evaluating the expression in the context of the `for` and `if` clauses. For example, `[x**2 for x in range(10) if x % 2 == 0]` creates a list of squares of even numbers from 0 to 9, resulting in `[0, 4, 16, 36, 64]`."
      ],
      "text/plain": [
       "<IPython.core.display.Markdown object>"
      ]
     },
     "execution_count": 17,
     "metadata": {},
     "output_type": "execute_result"
    }
   ],
   "source": [
    "Markdown(quiz_response)"
   ]
  }
 ],
 "metadata": {
  "kernelspec": {
   "display_name": "oreilly-chatgpt-apps",
   "language": "python",
   "name": "oreilly-chatgpt-apps"
  },
  "language_info": {
   "codemirror_mode": {
    "name": "ipython",
    "version": 3
   },
   "file_extension": ".py",
   "mimetype": "text/x-python",
   "name": "python",
   "nbconvert_exporter": "python",
   "pygments_lexer": "ipython3",
   "version": "3.11.10"
  }
 },
 "nbformat": 4,
 "nbformat_minor": 2
}
