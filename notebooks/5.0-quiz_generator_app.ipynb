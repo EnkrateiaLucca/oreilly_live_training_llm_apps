{
 "cells": [
  {
   "cell_type": "code",
   "execution_count": 1,
   "metadata": {
    "execution": {
     "iopub.execute_input": "2025-01-08T03:29:45.025426Z",
     "iopub.status.busy": "2025-01-08T03:29:45.025158Z",
     "iopub.status.idle": "2025-01-08T03:29:50.719506Z",
     "shell.execute_reply": "2025-01-08T03:29:50.719009Z"
    }
   },
   "outputs": [
    {
     "name": "stdout",
     "output_type": "stream",
     "text": [
      "Requirement already satisfied: openai in /Users/greatmaster/miniconda3/envs/automations/lib/python3.11/site-packages (1.52.0)\r\n",
      "Requirement already satisfied: anyio<5,>=3.5.0 in /Users/greatmaster/miniconda3/envs/automations/lib/python3.11/site-packages (from openai) (4.3.0)\r\n",
      "Requirement already satisfied: distro<2,>=1.7.0 in /Users/greatmaster/miniconda3/envs/automations/lib/python3.11/site-packages (from openai) (1.9.0)\r\n",
      "Requirement already satisfied: httpx<1,>=0.23.0 in /Users/greatmaster/miniconda3/envs/automations/lib/python3.11/site-packages (from openai) (0.27.0)\r\n",
      "Requirement already satisfied: jiter<1,>=0.4.0 in /Users/greatmaster/miniconda3/envs/automations/lib/python3.11/site-packages (from openai) (0.5.0)\r\n",
      "Requirement already satisfied: pydantic<3,>=1.9.0 in /Users/greatmaster/miniconda3/envs/automations/lib/python3.11/site-packages (from openai) (2.9.2)\r\n",
      "Requirement already satisfied: sniffio in /Users/greatmaster/miniconda3/envs/automations/lib/python3.11/site-packages (from openai) (1.3.1)\r\n",
      "Requirement already satisfied: tqdm>4 in /Users/greatmaster/miniconda3/envs/automations/lib/python3.11/site-packages (from openai) (4.66.2)\r\n",
      "Requirement already satisfied: typing-extensions<5,>=4.11 in /Users/greatmaster/miniconda3/envs/automations/lib/python3.11/site-packages (from openai) (4.12.2)\r\n",
      "Requirement already satisfied: idna>=2.8 in /Users/greatmaster/miniconda3/envs/automations/lib/python3.11/site-packages (from anyio<5,>=3.5.0->openai) (3.6)\r\n",
      "Requirement already satisfied: certifi in /Users/greatmaster/miniconda3/envs/automations/lib/python3.11/site-packages (from httpx<1,>=0.23.0->openai) (2024.2.2)\r\n",
      "Requirement already satisfied: httpcore==1.* in /Users/greatmaster/miniconda3/envs/automations/lib/python3.11/site-packages (from httpx<1,>=0.23.0->openai) (1.0.5)\r\n",
      "Requirement already satisfied: h11<0.15,>=0.13 in /Users/greatmaster/miniconda3/envs/automations/lib/python3.11/site-packages (from httpcore==1.*->httpx<1,>=0.23.0->openai) (0.14.0)\r\n",
      "Requirement already satisfied: annotated-types>=0.6.0 in /Users/greatmaster/miniconda3/envs/automations/lib/python3.11/site-packages (from pydantic<3,>=1.9.0->openai) (0.6.0)\r\n",
      "Requirement already satisfied: pydantic-core==2.23.4 in /Users/greatmaster/miniconda3/envs/automations/lib/python3.11/site-packages (from pydantic<3,>=1.9.0->openai) (2.23.4)\r\n"
     ]
    },
    {
     "name": "stdout",
     "output_type": "stream",
     "text": [
      "Requirement already satisfied: langchain in /Users/greatmaster/miniconda3/envs/automations/lib/python3.11/site-packages (0.2.16)\r\n",
      "Requirement already satisfied: PyYAML>=5.3 in /Users/greatmaster/miniconda3/envs/automations/lib/python3.11/site-packages (from langchain) (6.0.1)\r\n",
      "Requirement already satisfied: SQLAlchemy<3,>=1.4 in /Users/greatmaster/miniconda3/envs/automations/lib/python3.11/site-packages (from langchain) (2.0.29)\r\n",
      "Requirement already satisfied: aiohttp<4.0.0,>=3.8.3 in /Users/greatmaster/miniconda3/envs/automations/lib/python3.11/site-packages (from langchain) (3.9.3)\r\n",
      "Requirement already satisfied: langchain-core<0.3.0,>=0.2.38 in /Users/greatmaster/miniconda3/envs/automations/lib/python3.11/site-packages (from langchain) (0.2.38)\r\n",
      "Requirement already satisfied: langchain-text-splitters<0.3.0,>=0.2.0 in /Users/greatmaster/miniconda3/envs/automations/lib/python3.11/site-packages (from langchain) (0.2.4)\r\n",
      "Requirement already satisfied: langsmith<0.2.0,>=0.1.17 in /Users/greatmaster/miniconda3/envs/automations/lib/python3.11/site-packages (from langchain) (0.1.115)\r\n",
      "Requirement already satisfied: numpy<2,>=1 in /Users/greatmaster/miniconda3/envs/automations/lib/python3.11/site-packages (from langchain) (1.26.4)\r\n",
      "Requirement already satisfied: pydantic<3,>=1 in /Users/greatmaster/miniconda3/envs/automations/lib/python3.11/site-packages (from langchain) (2.9.2)\r\n",
      "Requirement already satisfied: requests<3,>=2 in /Users/greatmaster/miniconda3/envs/automations/lib/python3.11/site-packages (from langchain) (2.32.3)\r\n",
      "Requirement already satisfied: tenacity!=8.4.0,<9.0.0,>=8.1.0 in /Users/greatmaster/miniconda3/envs/automations/lib/python3.11/site-packages (from langchain) (8.5.0)\r\n",
      "Requirement already satisfied: aiosignal>=1.1.2 in /Users/greatmaster/miniconda3/envs/automations/lib/python3.11/site-packages (from aiohttp<4.0.0,>=3.8.3->langchain) (1.3.1)\r\n",
      "Requirement already satisfied: attrs>=17.3.0 in /Users/greatmaster/miniconda3/envs/automations/lib/python3.11/site-packages (from aiohttp<4.0.0,>=3.8.3->langchain) (23.2.0)\r\n",
      "Requirement already satisfied: frozenlist>=1.1.1 in /Users/greatmaster/miniconda3/envs/automations/lib/python3.11/site-packages (from aiohttp<4.0.0,>=3.8.3->langchain) (1.4.1)\r\n",
      "Requirement already satisfied: multidict<7.0,>=4.5 in /Users/greatmaster/miniconda3/envs/automations/lib/python3.11/site-packages (from aiohttp<4.0.0,>=3.8.3->langchain) (6.0.5)\r\n",
      "Requirement already satisfied: yarl<2.0,>=1.0 in /Users/greatmaster/miniconda3/envs/automations/lib/python3.11/site-packages (from aiohttp<4.0.0,>=3.8.3->langchain) (1.9.4)\r\n",
      "Requirement already satisfied: jsonpatch<2.0,>=1.33 in /Users/greatmaster/miniconda3/envs/automations/lib/python3.11/site-packages (from langchain-core<0.3.0,>=0.2.38->langchain) (1.33)\r\n",
      "Requirement already satisfied: packaging<25,>=23.2 in /Users/greatmaster/miniconda3/envs/automations/lib/python3.11/site-packages (from langchain-core<0.3.0,>=0.2.38->langchain) (23.2)\r\n",
      "Requirement already satisfied: typing-extensions>=4.7 in /Users/greatmaster/miniconda3/envs/automations/lib/python3.11/site-packages (from langchain-core<0.3.0,>=0.2.38->langchain) (4.12.2)\r\n",
      "Requirement already satisfied: httpx<1,>=0.23.0 in /Users/greatmaster/miniconda3/envs/automations/lib/python3.11/site-packages (from langsmith<0.2.0,>=0.1.17->langchain) (0.27.0)\r\n"
     ]
    },
    {
     "name": "stdout",
     "output_type": "stream",
     "text": [
      "Requirement already satisfied: orjson<4.0.0,>=3.9.14 in /Users/greatmaster/miniconda3/envs/automations/lib/python3.11/site-packages (from langsmith<0.2.0,>=0.1.17->langchain) (3.10.0)\r\n",
      "Requirement already satisfied: annotated-types>=0.6.0 in /Users/greatmaster/miniconda3/envs/automations/lib/python3.11/site-packages (from pydantic<3,>=1->langchain) (0.6.0)\r\n",
      "Requirement already satisfied: pydantic-core==2.23.4 in /Users/greatmaster/miniconda3/envs/automations/lib/python3.11/site-packages (from pydantic<3,>=1->langchain) (2.23.4)\r\n",
      "Requirement already satisfied: charset-normalizer<4,>=2 in /Users/greatmaster/miniconda3/envs/automations/lib/python3.11/site-packages (from requests<3,>=2->langchain) (3.3.2)\r\n",
      "Requirement already satisfied: idna<4,>=2.5 in /Users/greatmaster/miniconda3/envs/automations/lib/python3.11/site-packages (from requests<3,>=2->langchain) (3.6)\r\n",
      "Requirement already satisfied: urllib3<3,>=1.21.1 in /Users/greatmaster/miniconda3/envs/automations/lib/python3.11/site-packages (from requests<3,>=2->langchain) (2.2.1)\r\n",
      "Requirement already satisfied: certifi>=2017.4.17 in /Users/greatmaster/miniconda3/envs/automations/lib/python3.11/site-packages (from requests<3,>=2->langchain) (2024.2.2)\r\n",
      "Requirement already satisfied: anyio in /Users/greatmaster/miniconda3/envs/automations/lib/python3.11/site-packages (from httpx<1,>=0.23.0->langsmith<0.2.0,>=0.1.17->langchain) (4.3.0)\r\n",
      "Requirement already satisfied: httpcore==1.* in /Users/greatmaster/miniconda3/envs/automations/lib/python3.11/site-packages (from httpx<1,>=0.23.0->langsmith<0.2.0,>=0.1.17->langchain) (1.0.5)\r\n",
      "Requirement already satisfied: sniffio in /Users/greatmaster/miniconda3/envs/automations/lib/python3.11/site-packages (from httpx<1,>=0.23.0->langsmith<0.2.0,>=0.1.17->langchain) (1.3.1)\r\n",
      "Requirement already satisfied: h11<0.15,>=0.13 in /Users/greatmaster/miniconda3/envs/automations/lib/python3.11/site-packages (from httpcore==1.*->httpx<1,>=0.23.0->langsmith<0.2.0,>=0.1.17->langchain) (0.14.0)\r\n",
      "Requirement already satisfied: jsonpointer>=1.9 in /Users/greatmaster/miniconda3/envs/automations/lib/python3.11/site-packages (from jsonpatch<2.0,>=1.33->langchain-core<0.3.0,>=0.2.38->langchain) (2.4)\r\n"
     ]
    },
    {
     "name": "stdout",
     "output_type": "stream",
     "text": [
      "Requirement already satisfied: langchain_community in /Users/greatmaster/miniconda3/envs/automations/lib/python3.11/site-packages (0.2.16)\r\n",
      "Requirement already satisfied: PyYAML>=5.3 in /Users/greatmaster/miniconda3/envs/automations/lib/python3.11/site-packages (from langchain_community) (6.0.1)\r\n",
      "Requirement already satisfied: SQLAlchemy<3,>=1.4 in /Users/greatmaster/miniconda3/envs/automations/lib/python3.11/site-packages (from langchain_community) (2.0.29)\r\n",
      "Requirement already satisfied: aiohttp<4.0.0,>=3.8.3 in /Users/greatmaster/miniconda3/envs/automations/lib/python3.11/site-packages (from langchain_community) (3.9.3)\r\n",
      "Requirement already satisfied: dataclasses-json<0.7,>=0.5.7 in /Users/greatmaster/miniconda3/envs/automations/lib/python3.11/site-packages (from langchain_community) (0.6.4)\r\n",
      "Requirement already satisfied: langchain<0.3.0,>=0.2.16 in /Users/greatmaster/miniconda3/envs/automations/lib/python3.11/site-packages (from langchain_community) (0.2.16)\r\n",
      "Requirement already satisfied: langchain-core<0.3.0,>=0.2.38 in /Users/greatmaster/miniconda3/envs/automations/lib/python3.11/site-packages (from langchain_community) (0.2.38)\r\n",
      "Requirement already satisfied: langsmith<0.2.0,>=0.1.0 in /Users/greatmaster/miniconda3/envs/automations/lib/python3.11/site-packages (from langchain_community) (0.1.115)\r\n",
      "Requirement already satisfied: numpy<2,>=1 in /Users/greatmaster/miniconda3/envs/automations/lib/python3.11/site-packages (from langchain_community) (1.26.4)\r\n",
      "Requirement already satisfied: requests<3,>=2 in /Users/greatmaster/miniconda3/envs/automations/lib/python3.11/site-packages (from langchain_community) (2.32.3)\r\n",
      "Requirement already satisfied: tenacity!=8.4.0,<9.0.0,>=8.1.0 in /Users/greatmaster/miniconda3/envs/automations/lib/python3.11/site-packages (from langchain_community) (8.5.0)\r\n",
      "Requirement already satisfied: aiosignal>=1.1.2 in /Users/greatmaster/miniconda3/envs/automations/lib/python3.11/site-packages (from aiohttp<4.0.0,>=3.8.3->langchain_community) (1.3.1)\r\n",
      "Requirement already satisfied: attrs>=17.3.0 in /Users/greatmaster/miniconda3/envs/automations/lib/python3.11/site-packages (from aiohttp<4.0.0,>=3.8.3->langchain_community) (23.2.0)\r\n",
      "Requirement already satisfied: frozenlist>=1.1.1 in /Users/greatmaster/miniconda3/envs/automations/lib/python3.11/site-packages (from aiohttp<4.0.0,>=3.8.3->langchain_community) (1.4.1)\r\n",
      "Requirement already satisfied: multidict<7.0,>=4.5 in /Users/greatmaster/miniconda3/envs/automations/lib/python3.11/site-packages (from aiohttp<4.0.0,>=3.8.3->langchain_community) (6.0.5)\r\n",
      "Requirement already satisfied: yarl<2.0,>=1.0 in /Users/greatmaster/miniconda3/envs/automations/lib/python3.11/site-packages (from aiohttp<4.0.0,>=3.8.3->langchain_community) (1.9.4)\r\n",
      "Requirement already satisfied: marshmallow<4.0.0,>=3.18.0 in /Users/greatmaster/miniconda3/envs/automations/lib/python3.11/site-packages (from dataclasses-json<0.7,>=0.5.7->langchain_community) (3.21.1)\r\n",
      "Requirement already satisfied: typing-inspect<1,>=0.4.0 in /Users/greatmaster/miniconda3/envs/automations/lib/python3.11/site-packages (from dataclasses-json<0.7,>=0.5.7->langchain_community) (0.9.0)\r\n",
      "Requirement already satisfied: langchain-text-splitters<0.3.0,>=0.2.0 in /Users/greatmaster/miniconda3/envs/automations/lib/python3.11/site-packages (from langchain<0.3.0,>=0.2.16->langchain_community) (0.2.4)\r\n",
      "Requirement already satisfied: pydantic<3,>=1 in /Users/greatmaster/miniconda3/envs/automations/lib/python3.11/site-packages (from langchain<0.3.0,>=0.2.16->langchain_community) (2.9.2)\r\n",
      "Requirement already satisfied: jsonpatch<2.0,>=1.33 in /Users/greatmaster/miniconda3/envs/automations/lib/python3.11/site-packages (from langchain-core<0.3.0,>=0.2.38->langchain_community) (1.33)\r\n",
      "Requirement already satisfied: packaging<25,>=23.2 in /Users/greatmaster/miniconda3/envs/automations/lib/python3.11/site-packages (from langchain-core<0.3.0,>=0.2.38->langchain_community) (23.2)\r\n",
      "Requirement already satisfied: typing-extensions>=4.7 in /Users/greatmaster/miniconda3/envs/automations/lib/python3.11/site-packages (from langchain-core<0.3.0,>=0.2.38->langchain_community) (4.12.2)\r\n",
      "Requirement already satisfied: httpx<1,>=0.23.0 in /Users/greatmaster/miniconda3/envs/automations/lib/python3.11/site-packages (from langsmith<0.2.0,>=0.1.0->langchain_community) (0.27.0)\r\n",
      "Requirement already satisfied: orjson<4.0.0,>=3.9.14 in /Users/greatmaster/miniconda3/envs/automations/lib/python3.11/site-packages (from langsmith<0.2.0,>=0.1.0->langchain_community) (3.10.0)\r\n"
     ]
    },
    {
     "name": "stdout",
     "output_type": "stream",
     "text": [
      "Requirement already satisfied: charset-normalizer<4,>=2 in /Users/greatmaster/miniconda3/envs/automations/lib/python3.11/site-packages (from requests<3,>=2->langchain_community) (3.3.2)\r\n",
      "Requirement already satisfied: idna<4,>=2.5 in /Users/greatmaster/miniconda3/envs/automations/lib/python3.11/site-packages (from requests<3,>=2->langchain_community) (3.6)\r\n",
      "Requirement already satisfied: urllib3<3,>=1.21.1 in /Users/greatmaster/miniconda3/envs/automations/lib/python3.11/site-packages (from requests<3,>=2->langchain_community) (2.2.1)\r\n",
      "Requirement already satisfied: certifi>=2017.4.17 in /Users/greatmaster/miniconda3/envs/automations/lib/python3.11/site-packages (from requests<3,>=2->langchain_community) (2024.2.2)\r\n",
      "Requirement already satisfied: anyio in /Users/greatmaster/miniconda3/envs/automations/lib/python3.11/site-packages (from httpx<1,>=0.23.0->langsmith<0.2.0,>=0.1.0->langchain_community) (4.3.0)\r\n",
      "Requirement already satisfied: httpcore==1.* in /Users/greatmaster/miniconda3/envs/automations/lib/python3.11/site-packages (from httpx<1,>=0.23.0->langsmith<0.2.0,>=0.1.0->langchain_community) (1.0.5)\r\n",
      "Requirement already satisfied: sniffio in /Users/greatmaster/miniconda3/envs/automations/lib/python3.11/site-packages (from httpx<1,>=0.23.0->langsmith<0.2.0,>=0.1.0->langchain_community) (1.3.1)\r\n",
      "Requirement already satisfied: h11<0.15,>=0.13 in /Users/greatmaster/miniconda3/envs/automations/lib/python3.11/site-packages (from httpcore==1.*->httpx<1,>=0.23.0->langsmith<0.2.0,>=0.1.0->langchain_community) (0.14.0)\r\n",
      "Requirement already satisfied: jsonpointer>=1.9 in /Users/greatmaster/miniconda3/envs/automations/lib/python3.11/site-packages (from jsonpatch<2.0,>=1.33->langchain-core<0.3.0,>=0.2.38->langchain_community) (2.4)\r\n",
      "Requirement already satisfied: annotated-types>=0.6.0 in /Users/greatmaster/miniconda3/envs/automations/lib/python3.11/site-packages (from pydantic<3,>=1->langchain<0.3.0,>=0.2.16->langchain_community) (0.6.0)\r\n"
     ]
    },
    {
     "name": "stdout",
     "output_type": "stream",
     "text": [
      "Requirement already satisfied: pydantic-core==2.23.4 in /Users/greatmaster/miniconda3/envs/automations/lib/python3.11/site-packages (from pydantic<3,>=1->langchain<0.3.0,>=0.2.16->langchain_community) (2.23.4)\r\n",
      "Requirement already satisfied: mypy-extensions>=0.3.0 in /Users/greatmaster/miniconda3/envs/automations/lib/python3.11/site-packages (from typing-inspect<1,>=0.4.0->dataclasses-json<0.7,>=0.5.7->langchain_community) (1.0.0)\r\n"
     ]
    },
    {
     "name": "stdout",
     "output_type": "stream",
     "text": [
      "Requirement already satisfied: langchain_openai in /Users/greatmaster/miniconda3/envs/automations/lib/python3.11/site-packages (0.1.23)\r\n",
      "Requirement already satisfied: langchain-core<0.3.0,>=0.2.35 in /Users/greatmaster/miniconda3/envs/automations/lib/python3.11/site-packages (from langchain_openai) (0.2.38)\r\n",
      "Requirement already satisfied: openai<2.0.0,>=1.40.0 in /Users/greatmaster/miniconda3/envs/automations/lib/python3.11/site-packages (from langchain_openai) (1.52.0)\r\n",
      "Requirement already satisfied: tiktoken<1,>=0.7 in /Users/greatmaster/miniconda3/envs/automations/lib/python3.11/site-packages (from langchain_openai) (0.7.0)\r\n",
      "Requirement already satisfied: PyYAML>=5.3 in /Users/greatmaster/miniconda3/envs/automations/lib/python3.11/site-packages (from langchain-core<0.3.0,>=0.2.35->langchain_openai) (6.0.1)\r\n",
      "Requirement already satisfied: jsonpatch<2.0,>=1.33 in /Users/greatmaster/miniconda3/envs/automations/lib/python3.11/site-packages (from langchain-core<0.3.0,>=0.2.35->langchain_openai) (1.33)\r\n",
      "Requirement already satisfied: langsmith<0.2.0,>=0.1.75 in /Users/greatmaster/miniconda3/envs/automations/lib/python3.11/site-packages (from langchain-core<0.3.0,>=0.2.35->langchain_openai) (0.1.115)\r\n",
      "Requirement already satisfied: packaging<25,>=23.2 in /Users/greatmaster/miniconda3/envs/automations/lib/python3.11/site-packages (from langchain-core<0.3.0,>=0.2.35->langchain_openai) (23.2)\r\n",
      "Requirement already satisfied: pydantic<3,>=1 in /Users/greatmaster/miniconda3/envs/automations/lib/python3.11/site-packages (from langchain-core<0.3.0,>=0.2.35->langchain_openai) (2.9.2)\r\n",
      "Requirement already satisfied: tenacity!=8.4.0,<9.0.0,>=8.1.0 in /Users/greatmaster/miniconda3/envs/automations/lib/python3.11/site-packages (from langchain-core<0.3.0,>=0.2.35->langchain_openai) (8.5.0)\r\n",
      "Requirement already satisfied: typing-extensions>=4.7 in /Users/greatmaster/miniconda3/envs/automations/lib/python3.11/site-packages (from langchain-core<0.3.0,>=0.2.35->langchain_openai) (4.12.2)\r\n",
      "Requirement already satisfied: anyio<5,>=3.5.0 in /Users/greatmaster/miniconda3/envs/automations/lib/python3.11/site-packages (from openai<2.0.0,>=1.40.0->langchain_openai) (4.3.0)\r\n",
      "Requirement already satisfied: distro<2,>=1.7.0 in /Users/greatmaster/miniconda3/envs/automations/lib/python3.11/site-packages (from openai<2.0.0,>=1.40.0->langchain_openai) (1.9.0)\r\n",
      "Requirement already satisfied: httpx<1,>=0.23.0 in /Users/greatmaster/miniconda3/envs/automations/lib/python3.11/site-packages (from openai<2.0.0,>=1.40.0->langchain_openai) (0.27.0)\r\n",
      "Requirement already satisfied: jiter<1,>=0.4.0 in /Users/greatmaster/miniconda3/envs/automations/lib/python3.11/site-packages (from openai<2.0.0,>=1.40.0->langchain_openai) (0.5.0)\r\n",
      "Requirement already satisfied: sniffio in /Users/greatmaster/miniconda3/envs/automations/lib/python3.11/site-packages (from openai<2.0.0,>=1.40.0->langchain_openai) (1.3.1)\r\n",
      "Requirement already satisfied: tqdm>4 in /Users/greatmaster/miniconda3/envs/automations/lib/python3.11/site-packages (from openai<2.0.0,>=1.40.0->langchain_openai) (4.66.2)\r\n",
      "Requirement already satisfied: regex>=2022.1.18 in /Users/greatmaster/miniconda3/envs/automations/lib/python3.11/site-packages (from tiktoken<1,>=0.7->langchain_openai) (2023.12.25)\r\n",
      "Requirement already satisfied: requests>=2.26.0 in /Users/greatmaster/miniconda3/envs/automations/lib/python3.11/site-packages (from tiktoken<1,>=0.7->langchain_openai) (2.32.3)\r\n",
      "Requirement already satisfied: idna>=2.8 in /Users/greatmaster/miniconda3/envs/automations/lib/python3.11/site-packages (from anyio<5,>=3.5.0->openai<2.0.0,>=1.40.0->langchain_openai) (3.6)\r\n",
      "Requirement already satisfied: certifi in /Users/greatmaster/miniconda3/envs/automations/lib/python3.11/site-packages (from httpx<1,>=0.23.0->openai<2.0.0,>=1.40.0->langchain_openai) (2024.2.2)\r\n",
      "Requirement already satisfied: httpcore==1.* in /Users/greatmaster/miniconda3/envs/automations/lib/python3.11/site-packages (from httpx<1,>=0.23.0->openai<2.0.0,>=1.40.0->langchain_openai) (1.0.5)\r\n",
      "Requirement already satisfied: h11<0.15,>=0.13 in /Users/greatmaster/miniconda3/envs/automations/lib/python3.11/site-packages (from httpcore==1.*->httpx<1,>=0.23.0->openai<2.0.0,>=1.40.0->langchain_openai) (0.14.0)\r\n",
      "Requirement already satisfied: jsonpointer>=1.9 in /Users/greatmaster/miniconda3/envs/automations/lib/python3.11/site-packages (from jsonpatch<2.0,>=1.33->langchain-core<0.3.0,>=0.2.35->langchain_openai) (2.4)\r\n"
     ]
    },
    {
     "name": "stdout",
     "output_type": "stream",
     "text": [
      "Requirement already satisfied: orjson<4.0.0,>=3.9.14 in /Users/greatmaster/miniconda3/envs/automations/lib/python3.11/site-packages (from langsmith<0.2.0,>=0.1.75->langchain-core<0.3.0,>=0.2.35->langchain_openai) (3.10.0)\r\n",
      "Requirement already satisfied: annotated-types>=0.6.0 in /Users/greatmaster/miniconda3/envs/automations/lib/python3.11/site-packages (from pydantic<3,>=1->langchain-core<0.3.0,>=0.2.35->langchain_openai) (0.6.0)\r\n",
      "Requirement already satisfied: pydantic-core==2.23.4 in /Users/greatmaster/miniconda3/envs/automations/lib/python3.11/site-packages (from pydantic<3,>=1->langchain-core<0.3.0,>=0.2.35->langchain_openai) (2.23.4)\r\n",
      "Requirement already satisfied: charset-normalizer<4,>=2 in /Users/greatmaster/miniconda3/envs/automations/lib/python3.11/site-packages (from requests>=2.26.0->tiktoken<1,>=0.7->langchain_openai) (3.3.2)\r\n",
      "Requirement already satisfied: urllib3<3,>=1.21.1 in /Users/greatmaster/miniconda3/envs/automations/lib/python3.11/site-packages (from requests>=2.26.0->tiktoken<1,>=0.7->langchain_openai) (2.2.1)\r\n"
     ]
    },
    {
     "name": "stdout",
     "output_type": "stream",
     "text": [
      "Requirement already satisfied: python-dotenv in /Users/greatmaster/miniconda3/envs/automations/lib/python3.11/site-packages (1.0.1)\r\n"
     ]
    }
   ],
   "source": [
    "!pip install openai\n",
    "!pip install langchain\n",
    "!pip install langchain_community\n",
    "!pip install langchain_openai\n",
    "!pip install python-dotenv"
   ]
  },
  {
   "cell_type": "code",
   "execution_count": 2,
   "metadata": {
    "execution": {
     "iopub.execute_input": "2025-01-08T03:29:50.721700Z",
     "iopub.status.busy": "2025-01-08T03:29:50.721557Z",
     "iopub.status.idle": "2025-01-08T03:29:50.884756Z",
     "shell.execute_reply": "2025-01-08T03:29:50.884449Z"
    }
   },
   "outputs": [],
   "source": [
    "import os\n",
    "from dotenv import load_dotenv\n",
    "from openai import OpenAI\n",
    "\n",
    "# loading from a .env file\n",
    "# load_dotenv(dotenv_path=\"/full/path/to/your/.env\")\n",
    "\n",
    "# or \n",
    "# if you're on google colab just uncomment below and replace with your openai api key\n",
    "# os.environ[\"OPENAI_API_KEY\"] = \"<your-openai-api-key>\""
   ]
  },
  {
   "cell_type": "markdown",
   "metadata": {},
   "source": [
    "# Quiz App\n",
    "\n",
    "- Given a page of a pdf\n",
    "- Given a concept\n",
    "- Simple interface\n",
    "- Quickly generate flexible quizzes\n",
    "  - Generate any type of questions (True or False, text based questions, multiple choice)\n",
    "- Feedback on the answers"
   ]
  },
  {
   "cell_type": "code",
   "execution_count": 3,
   "metadata": {
    "execution": {
     "iopub.execute_input": "2025-01-08T03:29:50.886198Z",
     "iopub.status.busy": "2025-01-08T03:29:50.886132Z",
     "iopub.status.idle": "2025-01-08T03:30:02.862916Z",
     "shell.execute_reply": "2025-01-08T03:30:02.862334Z"
    }
   },
   "outputs": [
    {
     "data": {
      "text/plain": [
       "'Sure! Here\\'s a quiz designed to test basic knowledge of Python programming. Each question is followed by multiple-choice answers.\\n\\n### Python Basics Quiz\\n\\n#### Question 1:\\nWhat is the correct file extension for Python files?\\n- A) .pyth\\n- B) .pt\\n- C) .py\\n- D) .python\\n\\n#### Question 2:\\nWhich of the following is a valid variable name in Python?\\n- A) 1variable\\n- B) variable_1\\n- C) variable-1\\n- D) variable 1\\n\\n#### Question 3:\\nWhat is the output of the following code?\\n```python\\nprint(2 + 3 * 4)\\n```\\n- A) 20\\n- B) 14\\n- C) 24\\n- D) 18\\n\\n#### Question 4:\\nWhich of the following is used to create a comment in Python?\\n- A) //\\n- B) #\\n- C) <!-- -->\\n- D) /* */\\n\\n#### Question 5:\\nWhat is the correct way to create a list in Python?\\n- A) list = (1, 2, 3)\\n- B) list = {1, 2, 3}\\n- C) list = [1, 2, 3]\\n- D) list = <1, 2, 3>\\n\\n#### Question 6:\\nHow do you start a function in Python?\\n- A) function myFunction():\\n- B) def myFunction():\\n- C) func myFunction():\\n- D) define myFunction():\\n\\n#### Question 7:\\nWhat is the output of the following code?\\n```python\\nx = \"Python\"\\nprint(x[1])\\n```\\n- A) P\\n- B) y\\n- C) t\\n- D) h\\n\\n#### Question 8:\\nWhich of the following is a correct way to import a module in Python?\\n- A) import module\\n- B) include module\\n- C) using module\\n- D) require module\\n\\n#### Question 9:\\nWhat is the output of the following code?\\n```python\\nfor i in range(3):\\n    print(i)\\n```\\n- A) 1 2 3\\n- B) 0 1 2\\n- C) 0 1 2 3\\n- D) 1 2\\n\\n#### Question 10:\\nWhich of the following data types is immutable in Python?\\n- A) List\\n- B) Dictionary\\n- C) Set\\n- D) Tuple\\n\\n### Answers:\\n1. C) .py\\n2. B) variable_1\\n3. B) 14\\n4. B) #\\n5. C) list = [1, 2, 3]\\n6. B) def myFunction():\\n7. B) y\\n8. A) import module\\n9. B) 0 1 2\\n10. D) Tuple\\n\\nFeel free to use this quiz to test your knowledge or to help others learn the basics of Python programming!'"
      ]
     },
     "execution_count": 3,
     "metadata": {},
     "output_type": "execute_result"
    }
   ],
   "source": [
    "from openai import OpenAI\n",
    "\n",
    "def get_response(prompt):\n",
    "    client = OpenAI()\n",
    "    response = client.chat.completions.create(model=\"gpt-4o\", \n",
    "                             messages=\n",
    "                             [\n",
    "                                 {\"role\": \"system\", \"content\": \"You are a helpful assistant.\"},\n",
    "                                 {\"role\": \"user\", \"content\": prompt}   \n",
    "                             ],\n",
    "                             temperature=0.0,\n",
    "                             n = 1\n",
    "                             )\n",
    "    return response.choices[0].message.content\n",
    "\n",
    "\n",
    "prompt = \"Create a quiz about the basics of Python programming.\"\n",
    "quiz_python = get_response(prompt)\n",
    "quiz_python"
   ]
  },
  {
   "cell_type": "code",
   "execution_count": 4,
   "metadata": {
    "execution": {
     "iopub.execute_input": "2025-01-08T03:30:02.866143Z",
     "iopub.status.busy": "2025-01-08T03:30:02.865922Z",
     "iopub.status.idle": "2025-01-08T03:30:02.870006Z",
     "shell.execute_reply": "2025-01-08T03:30:02.869328Z"
    }
   },
   "outputs": [
    {
     "data": {
      "text/markdown": [
       "Sure! Here's a quiz designed to test basic knowledge of Python programming. Each question is followed by multiple-choice answers.\n",
       "\n",
       "### Python Basics Quiz\n",
       "\n",
       "#### Question 1:\n",
       "What is the correct file extension for Python files?\n",
       "- A) .pyth\n",
       "- B) .pt\n",
       "- C) .py\n",
       "- D) .python\n",
       "\n",
       "#### Question 2:\n",
       "Which of the following is a valid variable name in Python?\n",
       "- A) 1variable\n",
       "- B) variable_1\n",
       "- C) variable-1\n",
       "- D) variable 1\n",
       "\n",
       "#### Question 3:\n",
       "What is the output of the following code?\n",
       "```python\n",
       "print(2 + 3 * 4)\n",
       "```\n",
       "- A) 20\n",
       "- B) 14\n",
       "- C) 24\n",
       "- D) 18\n",
       "\n",
       "#### Question 4:\n",
       "Which of the following is used to create a comment in Python?\n",
       "- A) //\n",
       "- B) #\n",
       "- C) <!-- -->\n",
       "- D) /* */\n",
       "\n",
       "#### Question 5:\n",
       "What is the correct way to create a list in Python?\n",
       "- A) list = (1, 2, 3)\n",
       "- B) list = {1, 2, 3}\n",
       "- C) list = [1, 2, 3]\n",
       "- D) list = <1, 2, 3>\n",
       "\n",
       "#### Question 6:\n",
       "How do you start a function in Python?\n",
       "- A) function myFunction():\n",
       "- B) def myFunction():\n",
       "- C) func myFunction():\n",
       "- D) define myFunction():\n",
       "\n",
       "#### Question 7:\n",
       "What is the output of the following code?\n",
       "```python\n",
       "x = \"Python\"\n",
       "print(x[1])\n",
       "```\n",
       "- A) P\n",
       "- B) y\n",
       "- C) t\n",
       "- D) h\n",
       "\n",
       "#### Question 8:\n",
       "Which of the following is a correct way to import a module in Python?\n",
       "- A) import module\n",
       "- B) include module\n",
       "- C) using module\n",
       "- D) require module\n",
       "\n",
       "#### Question 9:\n",
       "What is the output of the following code?\n",
       "```python\n",
       "for i in range(3):\n",
       "    print(i)\n",
       "```\n",
       "- A) 1 2 3\n",
       "- B) 0 1 2\n",
       "- C) 0 1 2 3\n",
       "- D) 1 2\n",
       "\n",
       "#### Question 10:\n",
       "Which of the following data types is immutable in Python?\n",
       "- A) List\n",
       "- B) Dictionary\n",
       "- C) Set\n",
       "- D) Tuple\n",
       "\n",
       "### Answers:\n",
       "1. C) .py\n",
       "2. B) variable_1\n",
       "3. B) 14\n",
       "4. B) #\n",
       "5. C) list = [1, 2, 3]\n",
       "6. B) def myFunction():\n",
       "7. B) y\n",
       "8. A) import module\n",
       "9. B) 0 1 2\n",
       "10. D) Tuple\n",
       "\n",
       "Feel free to use this quiz to test your knowledge or to help others learn the basics of Python programming!"
      ],
      "text/plain": [
       "<IPython.core.display.Markdown object>"
      ]
     },
     "execution_count": 4,
     "metadata": {},
     "output_type": "execute_result"
    }
   ],
   "source": [
    "from IPython.display import Markdown, display\n",
    "\n",
    "Markdown(quiz_python)"
   ]
  },
  {
   "cell_type": "markdown",
   "metadata": {},
   "source": [
    "Requirements for the app\n",
    "\n",
    "1. We have to be specific\n",
    "   1. We want to specify the number of questions we want\n",
    "2. We have to be able to feed in contextual information\n",
    "3. We want to be able to specify the types of questions we want created (T/F, multiple choice, text...)"
   ]
  },
  {
   "cell_type": "code",
   "execution_count": 5,
   "metadata": {
    "execution": {
     "iopub.execute_input": "2025-01-08T03:30:02.872730Z",
     "iopub.status.busy": "2025-01-08T03:30:02.872531Z",
     "iopub.status.idle": "2025-01-08T03:30:03.079430Z",
     "shell.execute_reply": "2025-01-08T03:30:03.079147Z"
    }
   },
   "outputs": [],
   "source": [
    "from langchain.prompts import ChatPromptTemplate"
   ]
  },
  {
   "cell_type": "code",
   "execution_count": 6,
   "metadata": {
    "execution": {
     "iopub.execute_input": "2025-01-08T03:30:03.081001Z",
     "iopub.status.busy": "2025-01-08T03:30:03.080919Z",
     "iopub.status.idle": "2025-01-08T03:30:03.082954Z",
     "shell.execute_reply": "2025-01-08T03:30:03.082710Z"
    }
   },
   "outputs": [],
   "source": [
    "template = \"\"\"\n",
    "You are an expert quiz maker for technical fields. Let's think step by step and\n",
    "create a quiz with {num_questions} {quiz_type} questions about the following concept/content: {quiz_context}.\n",
    "\n",
    "The format of the quiz could be one of the following:\n",
    "- Multiple-choice: \n",
    "- Questions:\n",
    "    <Question1>: <a. Answer 1>, <b. Answer 2>, <c. Answer 3>, <d. Answer 4>\n",
    "    <Question2>: <a. Answer 1>, <b. Answer 2>, <c. Answer 3>, <d. Answer 4>\n",
    "    ....\n",
    "- Answers:\n",
    "    <Answer1>: <a|b|c|d>\n",
    "    <Answer2>: <a|b|c|d>\n",
    "    ....\n",
    "    Example:\n",
    "    - Questions:\n",
    "    - 1. What is the time complexity of a binary search tree?\n",
    "        a. O(n)\n",
    "        b. O(log n)\n",
    "        c. O(n^2)\n",
    "        d. O(1)\n",
    "    - Answers: \n",
    "        1. b\n",
    "- True-false:\n",
    "    - Questions:\n",
    "        <Question1>: <True|False>\n",
    "        <Question2>: <True|False>\n",
    "        .....\n",
    "    - Answers:\n",
    "        <Answer1>: <True|False>\n",
    "        <Answer2>: <True|False>\n",
    "        .....\n",
    "    Example:\n",
    "    - Questions:\n",
    "        - 1. What is a binary search tree?\n",
    "        - 2. How are binary search trees implemented?\n",
    "    - Answers:\n",
    "        - 1. True\n",
    "        - 2. False\n",
    "- Open-ended:\n",
    "- Questions:\n",
    "    <Question1>: \n",
    "    <Question2>:\n",
    "- Answers:    \n",
    "    <Answer1>:\n",
    "    <Answer2>:\n",
    "Example:\n",
    "    Questions:\n",
    "    - 1. What is a binary search tree?\n",
    "    - 2. How are binary search trees implemented?\n",
    "    \n",
    "    - Answers: \n",
    "        1. A binary search tree is a data structure that is used to store data in a sorted manner.\n",
    "        2. Binary search trees are implemented using linked lists.\n",
    "\"\"\""
   ]
  },
  {
   "cell_type": "code",
   "execution_count": 7,
   "metadata": {
    "execution": {
     "iopub.execute_input": "2025-01-08T03:30:03.084276Z",
     "iopub.status.busy": "2025-01-08T03:30:03.084184Z",
     "iopub.status.idle": "2025-01-08T03:30:03.085881Z",
     "shell.execute_reply": "2025-01-08T03:30:03.085622Z"
    }
   },
   "outputs": [],
   "source": [
    "prompt = ChatPromptTemplate.from_template(template)"
   ]
  },
  {
   "cell_type": "code",
   "execution_count": 8,
   "metadata": {
    "execution": {
     "iopub.execute_input": "2025-01-08T03:30:03.086952Z",
     "iopub.status.busy": "2025-01-08T03:30:03.086874Z",
     "iopub.status.idle": "2025-01-08T03:30:03.088949Z",
     "shell.execute_reply": "2025-01-08T03:30:03.088739Z"
    }
   },
   "outputs": [
    {
     "data": {
      "text/plain": [
       "\"Human: \\nYou are an expert quiz maker for technical fields. Let's think step by step and\\ncreate a quiz with 3 multiple-choice questions about the following concept/content: Data Structures in Python Programming.\\n\\nThe format of the quiz could be one of the following:\\n- Multiple-choice: \\n- Questions:\\n    <Question1>: <a. Answer 1>, <b. Answer 2>, <c. Answer 3>, <d. Answer 4>\\n    <Question2>: <a. Answer 1>, <b. Answer 2>, <c. Answer 3>, <d. Answer 4>\\n    ....\\n- Answers:\\n    <Answer1>: <a|b|c|d>\\n    <Answer2>: <a|b|c|d>\\n    ....\\n    Example:\\n    - Questions:\\n    - 1. What is the time complexity of a binary search tree?\\n        a. O(n)\\n        b. O(log n)\\n        c. O(n^2)\\n        d. O(1)\\n    - Answers: \\n        1. b\\n- True-false:\\n    - Questions:\\n        <Question1>: <True|False>\\n        <Question2>: <True|False>\\n        .....\\n    - Answers:\\n        <Answer1>: <True|False>\\n        <Answer2>: <True|False>\\n        .....\\n    Example:\\n    - Questions:\\n        - 1. What is a binary search tree?\\n        - 2. How are binary search trees implemented?\\n    - Answers:\\n        - 1. True\\n        - 2. False\\n- Open-ended:\\n- Questions:\\n    <Question1>: \\n    <Question2>:\\n- Answers:    \\n    <Answer1>:\\n    <Answer2>:\\nExample:\\n    Questions:\\n    - 1. What is a binary search tree?\\n    - 2. How are binary search trees implemented?\\n    \\n    - Answers: \\n        1. A binary search tree is a data structure that is used to store data in a sorted manner.\\n        2. Binary search trees are implemented using linked lists.\\n\""
      ]
     },
     "execution_count": 8,
     "metadata": {},
     "output_type": "execute_result"
    }
   ],
   "source": [
    "prompt.format(num_questions=3, quiz_type=\"multiple-choice\", quiz_context=\"Data Structures in Python Programming\")"
   ]
  },
  {
   "cell_type": "code",
   "execution_count": 9,
   "metadata": {
    "execution": {
     "iopub.execute_input": "2025-01-08T03:30:03.089977Z",
     "iopub.status.busy": "2025-01-08T03:30:03.089904Z",
     "iopub.status.idle": "2025-01-08T03:30:03.129676Z",
     "shell.execute_reply": "2025-01-08T03:30:03.129290Z"
    }
   },
   "outputs": [],
   "source": [
    "from langchain_openai import ChatOpenAI\n",
    "from langchain.schema import StrOutputParser\n",
    "import re"
   ]
  },
  {
   "cell_type": "code",
   "execution_count": 10,
   "metadata": {
    "execution": {
     "iopub.execute_input": "2025-01-08T03:30:03.131181Z",
     "iopub.status.busy": "2025-01-08T03:30:03.131088Z",
     "iopub.status.idle": "2025-01-08T03:30:03.157192Z",
     "shell.execute_reply": "2025-01-08T03:30:03.156903Z"
    }
   },
   "outputs": [],
   "source": [
    "chain = prompt | ChatOpenAI(temperature=0.0, model=\"gpt-4o\") | StrOutputParser()"
   ]
  },
  {
   "cell_type": "code",
   "execution_count": 11,
   "metadata": {
    "execution": {
     "iopub.execute_input": "2025-01-08T03:30:03.158540Z",
     "iopub.status.busy": "2025-01-08T03:30:03.158460Z",
     "iopub.status.idle": "2025-01-08T03:30:06.598055Z",
     "shell.execute_reply": "2025-01-08T03:30:06.597115Z"
    }
   },
   "outputs": [],
   "source": [
    "quiz_response = chain.invoke({\"num_questions\":3, \"quiz_type\":\"multiple-choice\", \"quiz_context\":\"Data Structures in Python Programming\",})"
   ]
  },
  {
   "cell_type": "code",
   "execution_count": 12,
   "metadata": {
    "execution": {
     "iopub.execute_input": "2025-01-08T03:30:06.603179Z",
     "iopub.status.busy": "2025-01-08T03:30:06.602826Z",
     "iopub.status.idle": "2025-01-08T03:30:06.608761Z",
     "shell.execute_reply": "2025-01-08T03:30:06.608099Z"
    }
   },
   "outputs": [
    {
     "data": {
      "text/markdown": [
       "Let's create a multiple-choice quiz about Data Structures in Python Programming.\n",
       "\n",
       "### Questions:\n",
       "\n",
       "1. Which of the following data structures in Python is mutable?\n",
       "    a. Tuple  \n",
       "    b. List  \n",
       "    c. String  \n",
       "    d. Frozenset  \n",
       "\n",
       "2. What is the primary characteristic of a Python dictionary?\n",
       "    a. It is an ordered collection of elements.  \n",
       "    b. It allows duplicate keys.  \n",
       "    c. It stores data in key-value pairs.  \n",
       "    d. It is immutable.  \n",
       "\n",
       "3. Which of the following operations is the most efficient for a Python set?\n",
       "    a. Accessing an element by index  \n",
       "    b. Checking membership (e.g., using the `in` keyword)  \n",
       "    c. Appending an element  \n",
       "    d. Sorting the elements  \n",
       "\n",
       "### Answers:\n",
       "\n",
       "1. b  \n",
       "2. c  \n",
       "3. b  \n",
       "\n",
       "These questions cover basic properties and operations of common data structures in Python, such as lists, dictionaries, and sets."
      ],
      "text/plain": [
       "<IPython.core.display.Markdown object>"
      ]
     },
     "execution_count": 12,
     "metadata": {},
     "output_type": "execute_result"
    }
   ],
   "source": [
    "Markdown(quiz_response)"
   ]
  },
  {
   "cell_type": "code",
   "execution_count": 13,
   "metadata": {
    "execution": {
     "iopub.execute_input": "2025-01-08T03:30:06.611881Z",
     "iopub.status.busy": "2025-01-08T03:30:06.611629Z",
     "iopub.status.idle": "2025-01-08T03:30:09.737501Z",
     "shell.execute_reply": "2025-01-08T03:30:09.736520Z"
    }
   },
   "outputs": [],
   "source": [
    "quiz_response = chain.invoke({\"num_questions\": 4, \"quiz_type\": \"True-false\", \"quiz_context\": \"Python programming\"})"
   ]
  },
  {
   "cell_type": "code",
   "execution_count": 14,
   "metadata": {
    "execution": {
     "iopub.execute_input": "2025-01-08T03:30:09.741553Z",
     "iopub.status.busy": "2025-01-08T03:30:09.741215Z",
     "iopub.status.idle": "2025-01-08T03:30:09.745234Z",
     "shell.execute_reply": "2025-01-08T03:30:09.744571Z"
    }
   },
   "outputs": [
    {
     "data": {
      "text/markdown": [
       "Let's create a True-false quiz about Python programming. We'll think through each question to ensure it covers a fundamental aspect of Python.\n",
       "\n",
       "### Questions:\n",
       "1. Python is a statically typed programming language: True|False\n",
       "2. The `print` function in Python automatically adds a newline character at the end of its output: True|False\n",
       "3. In Python, lists are immutable: True|False\n",
       "4. Python supports multiple inheritance: True|False\n",
       "\n",
       "### Answers:\n",
       "1. False\n",
       "2. True\n",
       "3. False\n",
       "4. True\n",
       "\n",
       "### Explanation:\n",
       "1. **Python is a statically typed programming language:** False  \n",
       "   Python is a dynamically typed language, meaning that variable types are determined at runtime.\n",
       "\n",
       "2. **The `print` function in Python automatically adds a newline character at the end of its output:** True  \n",
       "   By default, the `print` function in Python ends with a newline character, although this can be changed using the `end` parameter.\n",
       "\n",
       "3. **In Python, lists are immutable:** False  \n",
       "   Lists in Python are mutable, meaning their contents can be changed after they are created.\n",
       "\n",
       "4. **Python supports multiple inheritance:** True  \n",
       "   Python allows a class to inherit from multiple classes, which is known as multiple inheritance."
      ],
      "text/plain": [
       "<IPython.core.display.Markdown object>"
      ]
     },
     "execution_count": 14,
     "metadata": {},
     "output_type": "execute_result"
    }
   ],
   "source": [
    "Markdown(quiz_response)"
   ]
  },
  {
   "cell_type": "code",
   "execution_count": 15,
   "metadata": {
    "execution": {
     "iopub.execute_input": "2025-01-08T03:30:09.749030Z",
     "iopub.status.busy": "2025-01-08T03:30:09.748789Z",
     "iopub.status.idle": "2025-01-08T03:30:13.820072Z",
     "shell.execute_reply": "2025-01-08T03:30:13.819488Z"
    }
   },
   "outputs": [],
   "source": [
    "quiz_response = chain.invoke({\"num_questions\": 2, \"quiz_type\": \"Open-ended\", \"quiz_context\": \"Python programming\"})"
   ]
  },
  {
   "cell_type": "code",
   "execution_count": 16,
   "metadata": {
    "execution": {
     "iopub.execute_input": "2025-01-08T03:30:13.823990Z",
     "iopub.status.busy": "2025-01-08T03:30:13.823611Z",
     "iopub.status.idle": "2025-01-08T03:30:13.828186Z",
     "shell.execute_reply": "2025-01-08T03:30:13.827654Z"
    }
   },
   "outputs": [
    {
     "data": {
      "text/markdown": [
       "Sure, let's create a quiz with two open-ended questions about Python programming.\n",
       "\n",
       "### Questions:\n",
       "1. What are Python decorators, and how are they used in a Python program?\n",
       "2. Explain the concept of list comprehensions in Python and provide an example of how they can be used to create a new list.\n",
       "\n",
       "### Answers:\n",
       "1. Python decorators are a powerful tool that allows you to modify the behavior of a function or class. They are functions that take another function as an argument and extend or alter its behavior without explicitly modifying it. Decorators are often used for logging, access control, instrumentation, and caching. They are applied using the `@decorator_name` syntax above the function definition.\n",
       "\n",
       "2. List comprehensions in Python provide a concise way to create lists. They consist of brackets containing an expression followed by a `for` clause, and then zero or more `for` or `if` clauses. The expressions can be anything, meaning you can put in all kinds of objects in lists. The result will be a new list resulting from evaluating the expression in the context of the `for` and `if` clauses that follow it. For example, `[x**2 for x in range(10) if x % 2 == 0]` creates a list of squares of even numbers from 0 to 9."
      ],
      "text/plain": [
       "<IPython.core.display.Markdown object>"
      ]
     },
     "execution_count": 16,
     "metadata": {},
     "output_type": "execute_result"
    }
   ],
   "source": [
    "Markdown(quiz_response)"
   ]
  }
 ],
 "metadata": {
  "kernelspec": {
   "display_name": "oreilly-chatgpt-apps",
   "language": "python",
   "name": "oreilly-chatgpt-apps"
  },
  "language_info": {
   "codemirror_mode": {
    "name": "ipython",
    "version": 3
   },
   "file_extension": ".py",
   "mimetype": "text/x-python",
   "name": "python",
   "nbconvert_exporter": "python",
   "pygments_lexer": "ipython3",
   "version": "3.11.10"
  }
 },
 "nbformat": 4,
 "nbformat_minor": 2
}
