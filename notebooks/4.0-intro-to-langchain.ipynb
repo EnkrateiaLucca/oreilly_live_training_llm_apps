{
 "cells": [
  {
   "cell_type": "code",
   "execution_count": null,
   "metadata": {},
   "outputs": [],
   "source": [
    "!pip install openai\n",
    "!pip install langchain\n",
    "!pip install langchain_community\n",
    "!pip install langchain_openai\n",
    "!pip install langchainhub\n",
    "!pip install python-dotenv"
   ]
  },
  {
   "cell_type": "code",
   "execution_count": null,
   "metadata": {},
   "outputs": [],
   "source": [
    "import os\n",
    "from dotenv import load_dotenv\n",
    "from openai import OpenAI\n",
    "\n",
    "# loading from a .env file\n",
    "# load_dotenv(dotenv_path=\"/full/path/to/your/.env\")\n",
    "\n",
    "# or \n",
    "# if you're on google colab just uncomment below and replace with your openai api key\n",
    "# os.environ[\"OPENAI_API_KEY\"] = \"<your-openai-api-key>\""
   ]
  },
  {
   "cell_type": "markdown",
   "metadata": {},
   "source": [
    "# Langchain for LLM App Development \n",
    "\n",
    "We talked about how building an LLM app involves doing some prompt management \n",
    "where we can either prepare the input data from the user with some \n",
    "pre-prompting, or do some post-prompting and some cleaning up after the LLM \n",
    "gives an output to ensure that our app performs the functionalities as expected.\n",
    "\n",
    "So, this kind of workflow usually involves a lot of abstractions where prompts \n",
    "are no longer static pieces of text, but dynamic, they have to integrate \n",
    "information.\n",
    "\n",
    "![](./images/Notebook_4-dynamic_prompt.png)"
   ]
  },
  {
   "cell_type": "markdown",
   "metadata": {},
   "source": [
    "This dynamics requirement from a prompt will lead to the need for creating certain types of abstractions to properly handle and manage prompts effectively."
   ]
  },
  {
   "cell_type": "markdown",
   "metadata": {},
   "source": [
    "Another need in the context of more complex LLM App development, is the need for chaining prompts together, meaning connecting the output of one prompt to another. This is often the case for when prompts might be too large and a single call to the LLM won't be enough to solve the problem or the context window (maximum tokens/words the model can read and writer per request) is exceeded."
   ]
  },
  {
   "cell_type": "markdown",
   "metadata": {},
   "source": [
    "![](./images/Notebook_4-prompt_chaining.png)"
   ]
  },
  {
   "cell_type": "markdown",
   "metadata": {},
   "source": [
    "# Lanchain\n",
    "\n",
    "[Langchain](https://python.langchain.com/docs/get_started/introduction.html) is a framework created by Harrison Chase that facilitates the creation and management of dynamic prompts and chaining between prompts.\n",
    "\n",
    "Its main features are:\n",
    "- **Components**: abstractions for working with LMs\n",
    "- **Off-the-shelf chains**: assembly of components for accomplishing certain higher-level tasks\n",
    "\n",
    "With langchain it becomes much easier to create what are called Prompt Templates, which are prompts that can take in user data and abstract away the need for typing out everything that is required for a task to get done.\n",
    "\n",
    "Let's take a look at some simple examples to get started."
   ]
  },
  {
   "cell_type": "markdown",
   "metadata": {},
   "source": [
    "In order to create an application with LangChain, we need to understand its core components:\n",
    "\n",
    "- Models\n",
    "- Prompts\n",
    "- Output Parsers"
   ]
  },
  {
   "cell_type": "markdown",
   "metadata": {},
   "source": [
    "![](2023-08-17-14-48-39.png)"
   ]
  },
  {
   "cell_type": "markdown",
   "metadata": {},
   "source": [
    "**Models**\n",
    "\n",
    "abstractions over the LLM APIs like the ChatGPT API.​"
   ]
  },
  {
   "cell_type": "code",
   "execution_count": 3,
   "metadata": {},
   "outputs": [],
   "source": [
    "#!pip install langchain\n",
    "# !pip install langchain-openai"
   ]
  },
  {
   "cell_type": "code",
   "execution_count": 1,
   "metadata": {},
   "outputs": [],
   "source": [
    "from langchain_openai import ChatOpenAI\n",
    "from langchain_openai import OpenAI\n",
    "import os\n",
    "\n",
    "chat_model = ChatOpenAI(api_key=os.environ[\"OPENAI_API_KEY\"])"
   ]
  },
  {
   "cell_type": "code",
   "execution_count": 2,
   "metadata": {},
   "outputs": [
    {
     "data": {
      "text/plain": [
       "ChatOpenAI(client=<openai.resources.chat.completions.Completions object at 0x12623b5d0>, async_client=<openai.resources.chat.completions.AsyncCompletions object at 0x12672cc10>, openai_api_key=SecretStr('**********'), openai_api_base='https://api.openai.com/v1', openai_proxy='')"
      ]
     },
     "execution_count": 2,
     "metadata": {},
     "output_type": "execute_result"
    }
   ],
   "source": [
    "chat_model"
   ]
  },
  {
   "cell_type": "markdown",
   "metadata": {},
   "source": [
    "You can predict outputs from both LLMs and ChatModels:"
   ]
  },
  {
   "cell_type": "code",
   "execution_count": 3,
   "metadata": {},
   "outputs": [
    {
     "data": {
      "text/plain": [
       "AIMessage(content='Once upon a time, there was a group of researchers who were fascinated by the potential of large language models. They worked tirelessly to develop algorithms and frameworks that could process and generate vast amounts of text using artificial intelligence. These models were trained on massive datasets of text from books, articles, and websites, allowing them to understand and generate human-like language.\\n\\nAs these language models grew in size and complexity, they began to amaze the world with their capabilities. They could generate coherent and creative stories, poems, and even write code. People marveled at the way these models could understand and respond to human language, making them invaluable tools for various applications such as chatbots, translation services, and content generation.\\n\\nHowever, as these large language models became more advanced, concerns arose about their potential misuse and ethical implications. Some worried about the spread of misinformation and fake news, while others feared that these models could be used for malicious purposes such as deepfakes and propaganda.\\n\\nDespite these challenges, the researchers continued to work on improving and fine-tuning these models, striving to harness their power for good. They believed that with careful oversight and responsible development, large language models could revolutionize the way we communicate, learn, and interact with technology. And so, the saga of large language models continued, shaping the future of artificial intelligence and language processing for generations to come.', response_metadata={'token_usage': {'completion_tokens': 272, 'prompt_tokens': 18, 'total_tokens': 290}, 'model_name': 'gpt-3.5-turbo-0125', 'system_fingerprint': None, 'finish_reason': 'stop', 'logprobs': None}, id='run-ed790067-81bf-44d5-a790-9b2fd7cb0c59-0', usage_metadata={'input_tokens': 18, 'output_tokens': 272, 'total_tokens': 290})"
      ]
     },
     "execution_count": 3,
     "metadata": {},
     "output_type": "execute_result"
    }
   ],
   "source": [
    "chat_model.invoke(\"hi! Tell me a quick story about large language models\")\n",
    "# Output: \"Hi\""
   ]
  },
  {
   "cell_type": "code",
   "execution_count": 4,
   "metadata": {},
   "outputs": [],
   "source": [
    "output = chat_model.invoke(\"hi! Tell me a joke about an instructor who is always having issues when he tries to run live demos during his live-trainings.\")"
   ]
  },
  {
   "cell_type": "code",
   "execution_count": 5,
   "metadata": {},
   "outputs": [
    {
     "data": {
      "text/plain": [
       "AIMessage(content=\"Why did the instructor's live demo fail? Because every time he pressed play, it was always on the wrong track!\", response_metadata={'token_usage': {'completion_tokens': 24, 'prompt_tokens': 35, 'total_tokens': 59}, 'model_name': 'gpt-3.5-turbo-0125', 'system_fingerprint': None, 'finish_reason': 'stop', 'logprobs': None}, id='run-ac014fed-231d-4941-8686-6f9183ee7551-0', usage_metadata={'input_tokens': 35, 'output_tokens': 24, 'total_tokens': 59})"
      ]
     },
     "execution_count": 5,
     "metadata": {},
     "output_type": "execute_result"
    }
   ],
   "source": [
    "output"
   ]
  },
  {
   "cell_type": "code",
   "execution_count": 6,
   "metadata": {},
   "outputs": [
    {
     "data": {
      "text/markdown": [
       "Why did the instructor's live demo fail? Because every time he pressed play, it was always on the wrong track!"
      ],
      "text/plain": [
       "<IPython.core.display.Markdown object>"
      ]
     },
     "execution_count": 6,
     "metadata": {},
     "output_type": "execute_result"
    }
   ],
   "source": [
    "from IPython.display import display, Markdown\n",
    "\n",
    "Markdown(output.content)"
   ]
  },
  {
   "cell_type": "code",
   "execution_count": 7,
   "metadata": {},
   "outputs": [
    {
     "data": {
      "text/markdown": [
       "Why did the instructor have trouble running live demos during his trainings?\n",
       "\n",
       "Because every time he tried to demonstrate something, it always turned into a \"live fail\" instead of a live demo!"
      ],
      "text/plain": [
       "<IPython.core.display.Markdown object>"
      ]
     },
     "execution_count": 7,
     "metadata": {},
     "output_type": "execute_result"
    }
   ],
   "source": [
    "# Display text with markdown formatting\n",
    "from IPython.display import Markdown\n",
    "\n",
    "# Display the text\n",
    "Markdown(output.content)"
   ]
  },
  {
   "cell_type": "markdown",
   "metadata": {},
   "source": [
    "**Prompts**\n",
    "\n",
    "Prompt Templates are useful abstractions for reusing prompts. \n",
    "\n",
    "They are used to provide context for the specific task that the language model needs to complete. \n",
    "A simple example is a `PromptTemplate` that formats a string into a prompt:"
   ]
  },
  {
   "cell_type": "code",
   "execution_count": 7,
   "metadata": {},
   "outputs": [
    {
     "data": {
      "text/plain": [
       "'Human: What is a good name for a company that makes hair maker?'"
      ]
     },
     "execution_count": 7,
     "metadata": {},
     "output_type": "execute_result"
    }
   ],
   "source": [
    "from langchain.prompts import ChatPromptTemplate\n",
    "\n",
    "prompt = ChatPromptTemplate.from_template(\"What is a good name for a company that makes {product}?\")\n",
    "prompt.format(product=\"hair maker\")"
   ]
  },
  {
   "cell_type": "code",
   "execution_count": 8,
   "metadata": {},
   "outputs": [
    {
     "data": {
      "text/plain": [
       "AIMessage(content='Locks & Tresses Creations', response_metadata={'token_usage': {'completion_tokens': 7, 'prompt_tokens': 20, 'total_tokens': 27}, 'model_name': 'gpt-3.5-turbo-0125', 'system_fingerprint': None, 'finish_reason': 'stop', 'logprobs': None}, id='run-ce6aa386-9674-4e88-b490-b94b537b806a-0', usage_metadata={'input_tokens': 20, 'output_tokens': 7, 'total_tokens': 27})"
      ]
     },
     "execution_count": 8,
     "metadata": {},
     "output_type": "execute_result"
    }
   ],
   "source": [
    "chain = prompt | chat_model\n",
    "\n",
    "# PP\n",
    "chain.invoke({\"product\": \"hair maker\"})"
   ]
  },
  {
   "cell_type": "code",
   "execution_count": 9,
   "metadata": {},
   "outputs": [
    {
     "data": {
      "text/plain": [
       "AIMessage(content='Fresh Fare Delights', response_metadata={'token_usage': {'completion_tokens': 4, 'prompt_tokens': 21, 'total_tokens': 25}, 'model_name': 'gpt-3.5-turbo-0125', 'system_fingerprint': None, 'finish_reason': 'stop', 'logprobs': None}, id='run-fc1757da-fdf2-4d66-9896-c9b1be921fc0-0', usage_metadata={'input_tokens': 21, 'output_tokens': 4, 'total_tokens': 25})"
      ]
     },
     "execution_count": 9,
     "metadata": {},
     "output_type": "execute_result"
    }
   ],
   "source": [
    "# U1\n",
    "\n",
    "chain.invoke({\"product\": \"fresh packaged meal\"})"
   ]
  },
  {
   "cell_type": "code",
   "execution_count": 12,
   "metadata": {},
   "outputs": [
    {
     "data": {
      "text/plain": [
       "AIMessage(content='CozyDreams Bedding Co.')"
      ]
     },
     "execution_count": 12,
     "metadata": {},
     "output_type": "execute_result"
    }
   ],
   "source": [
    "# MP\n",
    "chain.invoke({\"product\": \"Beddings\"})"
   ]
  },
  {
   "cell_type": "code",
   "execution_count": 13,
   "metadata": {},
   "outputs": [
    {
     "data": {
      "text/plain": [
       "AIMessage(content='Evergreen Creations')"
      ]
     },
     "execution_count": 13,
     "metadata": {},
     "output_type": "execute_result"
    }
   ],
   "source": [
    "# KP\n",
    "product = \"plats that are not easy to kill\"\n",
    "\n",
    "chain.invoke({\"product\": product})"
   ]
  },
  {
   "cell_type": "code",
   "execution_count": 14,
   "metadata": {},
   "outputs": [
    {
     "data": {
      "text/plain": [
       "AIMessage(content='Nightly Nourish')"
      ]
     },
     "execution_count": 14,
     "metadata": {},
     "output_type": "execute_result"
    }
   ],
   "source": [
    "#SZ:  Advance Night time Nutrients\n",
    "product = \"Advance Night time Nutrients\"\n",
    "\n",
    "chain.invoke({\"product\": product})"
   ]
  },
  {
   "cell_type": "code",
   "execution_count": 15,
   "metadata": {},
   "outputs": [
    {
     "data": {
      "text/plain": [
       "AIMessage(content='Beat Masters Drum Co.')"
      ]
     },
     "execution_count": 15,
     "metadata": {},
     "output_type": "execute_result"
    }
   ],
   "source": [
    "# RC\n",
    "product = \"drum set?\"\n",
    "\n",
    "chain.invoke({\"product\": product})"
   ]
  },
  {
   "cell_type": "code",
   "execution_count": 16,
   "metadata": {},
   "outputs": [
    {
     "data": {
      "text/plain": [
       "AIMessage(content='Fluffy Stack Co.')"
      ]
     },
     "execution_count": 16,
     "metadata": {},
     "output_type": "execute_result"
    }
   ],
   "source": [
    "# JC\n",
    "product = \"Pancakes\"\n",
    "chain.invoke({\"product\": product})"
   ]
  },
  {
   "cell_type": "code",
   "execution_count": 17,
   "metadata": {},
   "outputs": [
    {
     "data": {
      "text/plain": [
       "AIMessage(content='EcoGuard Pest Solutions')"
      ]
     },
     "execution_count": 17,
     "metadata": {},
     "output_type": "execute_result"
    }
   ],
   "source": [
    "# MP\n",
    "product = \"pestisides\"\n",
    "\n",
    "chain.invoke({\"product\": product})"
   ]
  },
  {
   "cell_type": "code",
   "execution_count": null,
   "metadata": {},
   "outputs": [],
   "source": []
  },
  {
   "cell_type": "code",
   "execution_count": 18,
   "metadata": {},
   "outputs": [
    {
     "data": {
      "text/plain": [
       "AIMessage(content='Feijoada Delights Co.')"
      ]
     },
     "execution_count": 18,
     "metadata": {},
     "output_type": "execute_result"
    }
   ],
   "source": [
    "# RM\n",
    "product = \"Feijoada\"\n",
    "\n",
    "chain.invoke({\"product\": product})"
   ]
  },
  {
   "cell_type": "code",
   "execution_count": 19,
   "metadata": {},
   "outputs": [
    {
     "data": {
      "text/plain": [
       "AIMessage(content='Dosai Delights')"
      ]
     },
     "execution_count": 19,
     "metadata": {},
     "output_type": "execute_result"
    }
   ],
   "source": [
    "# MP\n",
    "product = \"Dosa & Idly\"\n",
    "\n",
    "chain.invoke({\"product\": product})"
   ]
  },
  {
   "cell_type": "code",
   "execution_count": null,
   "metadata": {},
   "outputs": [],
   "source": []
  },
  {
   "cell_type": "markdown",
   "metadata": {},
   "source": [
    "However, the advantages of using these over raw string formatting are several. You can \"partial\" out variables - e.g. you can format only some of the variables at a time. You can compose them together, easily combining different templates into a single prompt. For explanations of these functionalities, see the section on prompts for more detail.\n",
    "\n",
    "PromptTemplates can also be used to produce a list of messages. In this case, the prompt not only contains information about the content, but also each message (its role, its position in the list, etc.). Here, what happens most often is a ChatPromptTemplate is a list of ChatMessageTemplates. Each ChatMessageTemplate contains instructions for how to format that ChatMessage - its role, and then also its content. Let's take a look at this below:"
   ]
  },
  {
   "cell_type": "code",
   "execution_count": 10,
   "metadata": {},
   "outputs": [
    {
     "data": {
      "text/plain": [
       "[SystemMessage(content='You are a helpful assistant that translates English to French.'),\n",
       " HumanMessage(content='I love programming.')]"
      ]
     },
     "execution_count": 10,
     "metadata": {},
     "output_type": "execute_result"
    }
   ],
   "source": [
    "# source: https://python.langchain.com/docs/modules/model_io/quick_start\n",
    "from langchain.prompts import ChatPromptTemplate\n",
    "\n",
    "template = \"You are a helpful assistant that translates {input_language} to {output_language}.\"\n",
    "human_template = \"{text}\"\n",
    "\n",
    "chat_prompt = ChatPromptTemplate.from_messages([\n",
    "    (\"system\", template),\n",
    "    (\"human\", human_template),\n",
    "])\n",
    "\n",
    "chat_prompt.format_messages(input_language=\"English\", output_language=\"French\", text=\"I love programming.\")"
   ]
  },
  {
   "cell_type": "markdown",
   "metadata": {},
   "source": [
    "**Output Parsers**\n",
    "\n",
    "OutputParsers convert the raw output from an LLM into a format that can be used downstream. Here is an example of an OutputParser that converts a comma-separated list into a list:"
   ]
  },
  {
   "cell_type": "code",
   "execution_count": 11,
   "metadata": {},
   "outputs": [
    {
     "name": "stdout",
     "output_type": "stream",
     "text": [
      "{'name': 'Lucas'}\n"
     ]
    },
    {
     "data": {
      "text/plain": [
       "dict"
      ]
     },
     "execution_count": 11,
     "metadata": {},
     "output_type": "execute_result"
    }
   ],
   "source": [
    "from langchain_core.output_parsers import JsonOutputParser\n",
    "\n",
    "\n",
    "output_parser = JsonOutputParser()\n",
    "output = output_parser.parse('{\"name\": \"Lucas\"}')\n",
    "print(output)\n",
    "type(output)"
   ]
  },
  {
   "cell_type": "markdown",
   "metadata": {},
   "source": [
    "# Composing Chains with LCEL"
   ]
  },
  {
   "cell_type": "markdown",
   "metadata": {},
   "source": [
    "source: https://python.langchain.com/docs/modules/model_io/quick_start#:~:text=We%20can%20now,green'%2C%20'yellow'%2C%20'orange'%5D\n",
    "We can now combine all these into one chain. This chain will take input variables, pass those to a prompt template to create a prompt, pass the prompt to a language model, and then pass the output through an (optional) output parser. "
   ]
  },
  {
   "cell_type": "markdown",
   "metadata": {},
   "source": [
    "The modern version with the LCEL interface:"
   ]
  },
  {
   "cell_type": "code",
   "execution_count": 12,
   "metadata": {},
   "outputs": [
    {
     "data": {
      "text/plain": [
       "{'AI Topics': ['Natural Language Processing',\n",
       "  'Computer Vision',\n",
       "  'Reinforcement Learning',\n",
       "  'Ethical AI',\n",
       "  'AI in Healthcare']}"
      ]
     },
     "execution_count": 12,
     "metadata": {},
     "output_type": "execute_result"
    }
   ],
   "source": [
    "template = \"Generate a list of 5 {text}.\\n\\n{format_instructions}\"\n",
    "\n",
    "chat_prompt = ChatPromptTemplate.from_template(template)\n",
    "\n",
    "chat_prompt = chat_prompt.partial(format_instructions=output_parser.get_format_instructions())\n",
    "\n",
    "chain = chat_prompt | chat_model | output_parser\n",
    "chain.invoke({\"text\": \"AI topics\"})\n",
    "# >> ['red', 'blue', 'green', 'yellow', 'orange']"
   ]
  },
  {
   "cell_type": "code",
   "execution_count": 13,
   "metadata": {},
   "outputs": [
    {
     "data": {
      "text/plain": [
       "{'professions': ['Psychologist', 'Social worker', 'Teacher', 'Nurse', 'Chef']}"
      ]
     },
     "execution_count": 13,
     "metadata": {},
     "output_type": "execute_result"
    }
   ],
   "source": [
    "# KP: professions that are least threatened by AI\n",
    "example = \"professions that are least threatened by AI\"\n",
    "\n",
    "chain.invoke({\"text\": example})"
   ]
  },
  {
   "cell_type": "code",
   "execution_count": 14,
   "metadata": {},
   "outputs": [
    {
     "data": {
      "text/plain": [
       "{'spaceshipNames': ['Stellar Phoenix',\n",
       "  'Galactic Voyager',\n",
       "  'Cosmic Explorer',\n",
       "  'Nebula Seeker',\n",
       "  'Celestial Navigator']}"
      ]
     },
     "execution_count": 14,
     "metadata": {},
     "output_type": "execute_result"
    }
   ],
   "source": [
    "# TB\n",
    "example = \"names for spaceships\"\n",
    "chain.invoke({\"text\": example})"
   ]
  },
  {
   "cell_type": "code",
   "execution_count": 15,
   "metadata": {},
   "outputs": [
    {
     "data": {
      "text/plain": [
       "{'things_to_do': ['Create a to-do list and prioritize tasks',\n",
       "  'Set specific goals for the day',\n",
       "  'Take breaks to avoid burnout',\n",
       "  'Stay organized and declutter your workspace',\n",
       "  'Reflect on achievements at the end of the day']}"
      ]
     },
     "execution_count": 15,
     "metadata": {},
     "output_type": "execute_result"
    }
   ],
   "source": [
    "# AP\n",
    "example = \"things to do for productive day\"\n",
    "\n",
    "chain.invoke({\"text\": example})"
   ]
  },
  {
   "cell_type": "code",
   "execution_count": 29,
   "metadata": {},
   "outputs": [
    {
     "data": {
      "text/plain": [
       "{'movies': ['Star Wars: A New Hope',\n",
       "  'Star Wars: The Empire Strikes Back',\n",
       "  'Star Wars: Return of the Jedi',\n",
       "  'Star Wars: The Force Awakens',\n",
       "  'Star Wars: The Last Jedi']}"
      ]
     },
     "execution_count": 29,
     "metadata": {},
     "output_type": "execute_result"
    }
   ],
   "source": [
    "# MP\n",
    "example = \"Starwars Movies\"\n",
    "\n",
    "chain.invoke({\"text\": example})"
   ]
  },
  {
   "cell_type": "code",
   "execution_count": 30,
   "metadata": {},
   "outputs": [
    {
     "data": {
      "text/plain": [
       "{'favourite_food': ['Fish and chips',\n",
       "  'Full English breakfast',\n",
       "  \"Shepherd's pie\",\n",
       "  'Bangers and mash',\n",
       "  'Roast beef with Yorkshire pudding']}"
      ]
     },
     "execution_count": 30,
     "metadata": {},
     "output_type": "execute_result"
    }
   ],
   "source": [
    "# SZ: Favourite UK food\n",
    "\n",
    "example = \"Favourite UK food\"\n",
    "\n",
    "chain.invoke({\"text\": example})"
   ]
  },
  {
   "cell_type": "code",
   "execution_count": null,
   "metadata": {},
   "outputs": [],
   "source": []
  },
  {
   "cell_type": "code",
   "execution_count": null,
   "metadata": {},
   "outputs": [],
   "source": []
  },
  {
   "cell_type": "code",
   "execution_count": 24,
   "metadata": {},
   "outputs": [
    {
     "data": {
      "text/plain": [
       "'Return a JSON object.'"
      ]
     },
     "execution_count": 24,
     "metadata": {},
     "output_type": "execute_result"
    }
   ],
   "source": [
    "output_parser.get_format_instructions()"
   ]
  },
  {
   "cell_type": "markdown",
   "metadata": {},
   "source": [
    "we are using the | syntax to join these components together. This | syntax is powered by the LangChain Expression Language (LCEL) and relies on the universal Runnable interface that all of these objects implement. To learn more about LCEL, read the documentation here.\n",
    "\n",
    "<!-- For this part I just took some info from the langchain official docs: https://python.langchain.com/docs/modules/model_io/quick_start -->"
   ]
  },
  {
   "cell_type": "markdown",
   "metadata": {},
   "source": [
    "The modern LCEL interface version:"
   ]
  },
  {
   "cell_type": "code",
   "execution_count": 26,
   "metadata": {},
   "outputs": [
    {
     "data": {
      "text/plain": [
       "['1. Snoozy', '2. Dozer', '3. Napper', '4. Snuggles', '5. Dreamer.']"
      ]
     },
     "execution_count": 26,
     "metadata": {},
     "output_type": "execute_result"
    }
   ],
   "source": [
    "from langchain_core.output_parsers import CommaSeparatedListOutputParser\n",
    "template = \"\"\"What would be 5 good names for the animal: {animal} that is {adjective}?\n",
    "The output should be just one sentence separated by commas.\"\"\"\n",
    "\n",
    "chat_prompt = ChatPromptTemplate.from_template(template)\n",
    "\n",
    "chain = chat_prompt | ChatOpenAI() | CommaSeparatedListOutputParser()\n",
    "\n",
    "chain.invoke({\"animal\":\"dogs\", \"adjective\": \"sleepy\"})"
   ]
  },
  {
   "cell_type": "markdown",
   "metadata": {},
   "source": [
    "This chain will take input variables, pass those to a prompt template to create a prompt, pass the prompt to an LLM, and then pass the output through an output parser."
   ]
  },
  {
   "cell_type": "markdown",
   "metadata": {},
   "source": [
    "Ok, so these are the basics of langchain. But how can we leverage these abstraction capabilities inside our LLM app application?"
   ]
  },
  {
   "cell_type": "markdown",
   "metadata": {},
   "source": [
    "One of the best applications of langchain is for the \"chat with your data\"-types of applications, where the user uploads a document like a pdf or a .txt file, and is able to query that document using langchain powered by an LLM like ChatGPT. "
   ]
  },
  {
   "cell_type": "markdown",
   "metadata": {},
   "source": [
    "# LangChain Lab Exercises\n",
    "\n",
    "Let's take a look at a simple example of a simple chain using now only the modern interface."
   ]
  },
  {
   "cell_type": "code",
   "execution_count": 29,
   "metadata": {},
   "outputs": [],
   "source": [
    "from langchain_openai import ChatOpenAI\n",
    "from langchain.prompts import PromptTemplate\n",
    "from langchain.schema.output_parser import StrOutputParser"
   ]
  },
  {
   "cell_type": "code",
   "execution_count": 30,
   "metadata": {},
   "outputs": [],
   "source": [
    "llm = ChatOpenAI(temperature=.7)\n",
    "template = \"\"\"You are a learning assistant. Given a technical subject, write down 5 fundamental concepts to understand it.\n",
    "Subject: {subject}\n",
    "Learning assistant: The 5 fundamental concepts are:\"\"\"\n",
    "subject_prompt = ChatPromptTemplate.from_template(template)"
   ]
  },
  {
   "cell_type": "code",
   "execution_count": 31,
   "metadata": {},
   "outputs": [],
   "source": [
    "# This is an LLMChain to write a review of a play given a synopsis.\n",
    "llm = ChatOpenAI(temperature=.7)\n",
    "template = \"\"\"You are an expert teacher in all technical and scientific fields. Given a list of 5 concepts, write down a simple intuitive explanation of each concept.\n",
    "Concepts:\n",
    "{concepts}\n",
    "Intuitive explanations:\"\"\"\n",
    "concepts_prompt = ChatPromptTemplate.from_template(template)"
   ]
  },
  {
   "cell_type": "code",
   "execution_count": 32,
   "metadata": {},
   "outputs": [
    {
     "data": {
      "text/markdown": [
       "1. Superposition - Quantum particles can be in multiple states at the same time until we observe them and \"collapse\" their state into one definite outcome.\n",
       "\n",
       "2. Wave-particle duality - Quantum particles can act as both waves and particles, showing different behaviors depending on how we measure them.\n",
       "\n",
       "3. Uncertainty principle - We can never precisely know both the position and momentum of a particle at the same time, as the act of measuring one affects the other.\n",
       "\n",
       "4. Quantum entanglement - When two particles become entangled, their properties are linked even if they are far apart, suggesting a mysterious connection that goes beyond conventional physics.\n",
       "\n",
       "5. Quantum tunneling - Quantum particles can \"tunnel\" through obstacles that would be impossible to pass through according to classical physics, showing the strange and fascinating behavior of quantum mechanics."
      ],
      "text/plain": [
       "<IPython.core.display.Markdown object>"
      ]
     },
     "execution_count": 32,
     "metadata": {},
     "output_type": "execute_result"
    }
   ],
   "source": [
    "from IPython.display import Markdown\n",
    "# This is the overall chain where we run these two chains in sequence.\n",
    "learning_overall_chain = (\n",
    "    {\"concepts\": subject_prompt | llm | StrOutputParser() }\n",
    "    | concepts_prompt\n",
    "    | llm\n",
    "    | StrOutputParser()\n",
    "    )\n",
    "\n",
    "output = learning_overall_chain.invoke({\"subject\": \"Quantum Mechanics\"})\n",
    "Markdown(output)"
   ]
  },
  {
   "cell_type": "markdown",
   "metadata": {},
   "source": [
    "Example from KP: Can you write a sample Langchain to do (2+3) * 6. (2+3) is one chain and + 6 is another. chain."
   ]
  },
  {
   "cell_type": "code",
   "execution_count": 33,
   "metadata": {},
   "outputs": [
    {
     "data": {
      "text/plain": [
       "'4'"
      ]
     },
     "execution_count": 33,
     "metadata": {},
     "output_type": "execute_result"
    }
   ],
   "source": [
    "template = \"\"\"\n",
    "You are a mathematical engine. Given a math operation you should output only the result.\n",
    "input: {math_input}\n",
    "output:\n",
    "\"\"\"\n",
    "\n",
    "chat_model = ChatOpenAI(temperature=0)\n",
    "prompt1 = ChatPromptTemplate.from_template(template)\n",
    "output_parser = StrOutputParser()\n",
    "\n",
    "chain_math1 = prompt1 | chat_model | output_parser\n",
    "\n",
    "chain_math1.invoke({\"math_input\": \"2+2\"})"
   ]
  },
  {
   "cell_type": "markdown",
   "metadata": {},
   "source": [
    "# Simple Q&A Example"
   ]
  },
  {
   "cell_type": "code",
   "execution_count": 31,
   "metadata": {},
   "outputs": [],
   "source": [
    "# !pip install docarray\n",
    "from langchain.chains import RetrievalQA\n",
    "from langchain.chat_models import ChatOpenAI\n",
    "from langchain_community.document_loaders.csv_loader import CSVLoader\n",
    "from langchain.vectorstores import Chroma\n",
    "from IPython.display import display, Markdown\n",
    "from langchain.indexes import VectorstoreIndexCreator\n",
    "import pandas as pd"
   ]
  },
  {
   "cell_type": "code",
   "execution_count": 32,
   "metadata": {},
   "outputs": [
    {
     "data": {
      "text/html": [
       "<div>\n",
       "<style scoped>\n",
       "    .dataframe tbody tr th:only-of-type {\n",
       "        vertical-align: middle;\n",
       "    }\n",
       "\n",
       "    .dataframe tbody tr th {\n",
       "        vertical-align: top;\n",
       "    }\n",
       "\n",
       "    .dataframe thead th {\n",
       "        text-align: right;\n",
       "    }\n",
       "</style>\n",
       "<table border=\"1\" class=\"dataframe\">\n",
       "  <thead>\n",
       "    <tr style=\"text-align: right;\">\n",
       "      <th></th>\n",
       "      <th>Superhero Name</th>\n",
       "      <th>Superpower</th>\n",
       "      <th>Power Level</th>\n",
       "      <th>Catchphrase</th>\n",
       "    </tr>\n",
       "  </thead>\n",
       "  <tbody>\n",
       "    <tr>\n",
       "      <th>0</th>\n",
       "      <td>Captain Thunder</td>\n",
       "      <td>Bolt Manipulation</td>\n",
       "      <td>90</td>\n",
       "      <td>Feel the power of the storm!</td>\n",
       "    </tr>\n",
       "    <tr>\n",
       "      <th>1</th>\n",
       "      <td>Silver Falcon</td>\n",
       "      <td>Flight and Agility</td>\n",
       "      <td>85</td>\n",
       "      <td>Soar high, fearlessly!</td>\n",
       "    </tr>\n",
       "    <tr>\n",
       "      <th>2</th>\n",
       "      <td>Mystic Shadow</td>\n",
       "      <td>Invisibility and Illusions</td>\n",
       "      <td>78</td>\n",
       "      <td>Disappear into the darkness!</td>\n",
       "    </tr>\n",
       "    <tr>\n",
       "      <th>3</th>\n",
       "      <td>Blaze Runner</td>\n",
       "      <td>Pyrokinesis</td>\n",
       "      <td>88</td>\n",
       "      <td>Burn bright and fierce!</td>\n",
       "    </tr>\n",
       "    <tr>\n",
       "      <th>4</th>\n",
       "      <td>Electra-Wave</td>\n",
       "      <td>Electric Manipulation</td>\n",
       "      <td>82</td>\n",
       "      <td>Unleash the electric waves!</td>\n",
       "    </tr>\n",
       "  </tbody>\n",
       "</table>\n",
       "</div>"
      ],
      "text/plain": [
       "    Superhero Name                  Superpower  Power Level  \\\n",
       "0  Captain Thunder           Bolt Manipulation           90   \n",
       "1    Silver Falcon          Flight and Agility           85   \n",
       "2    Mystic Shadow  Invisibility and Illusions           78   \n",
       "3     Blaze Runner                 Pyrokinesis           88   \n",
       "4     Electra-Wave       Electric Manipulation           82   \n",
       "\n",
       "                    Catchphrase  \n",
       "0  Feel the power of the storm!  \n",
       "1        Soar high, fearlessly!  \n",
       "2  Disappear into the darkness!  \n",
       "3       Burn bright and fierce!  \n",
       "4   Unleash the electric waves!  "
      ]
     },
     "execution_count": 32,
     "metadata": {},
     "output_type": "execute_result"
    }
   ],
   "source": [
    "df = pd.read_csv(\"./superheroes.csv\")\n",
    "df.head()"
   ]
  },
  {
   "cell_type": "code",
   "execution_count": 33,
   "metadata": {},
   "outputs": [],
   "source": [
    "file = 'superheroes.csv'\n",
    "loader = CSVLoader(file_path=file)"
   ]
  },
  {
   "cell_type": "code",
   "execution_count": 34,
   "metadata": {},
   "outputs": [
    {
     "data": {
      "text/plain": [
       "<langchain_community.document_loaders.csv_loader.CSVLoader at 0x126f114d0>"
      ]
     },
     "execution_count": 34,
     "metadata": {},
     "output_type": "execute_result"
    }
   ],
   "source": [
    "loader"
   ]
  },
  {
   "cell_type": "code",
   "execution_count": null,
   "metadata": {},
   "outputs": [],
   "source": []
  },
  {
   "cell_type": "code",
   "execution_count": 35,
   "metadata": {},
   "outputs": [
    {
     "data": {
      "text/plain": [
       "[Document(page_content='Superhero Name: Captain Thunder\\nSuperpower: Bolt Manipulation\\nPower Level: 90\\nCatchphrase: Feel the power of the storm!', metadata={'source': 'superheroes.csv', 'row': 0}),\n",
       " Document(page_content='Superhero Name: Silver Falcon\\nSuperpower: Flight and Agility\\nPower Level: 85\\nCatchphrase: Soar high, fearlessly!', metadata={'source': 'superheroes.csv', 'row': 1}),\n",
       " Document(page_content='Superhero Name: Mystic Shadow\\nSuperpower: Invisibility and Illusions\\nPower Level: 78\\nCatchphrase: Disappear into the darkness!', metadata={'source': 'superheroes.csv', 'row': 2}),\n",
       " Document(page_content='Superhero Name: Blaze Runner\\nSuperpower: Pyrokinesis\\nPower Level: 88\\nCatchphrase: Burn bright and fierce!', metadata={'source': 'superheroes.csv', 'row': 3}),\n",
       " Document(page_content='Superhero Name: Electra-Wave\\nSuperpower: Electric Manipulation\\nPower Level: 82\\nCatchphrase: Unleash the electric waves!', metadata={'source': 'superheroes.csv', 'row': 4}),\n",
       " Document(page_content='Superhero Name: Crimson Cyclone\\nSuperpower: Super Speed\\nPower Level: 91\\nCatchphrase: Blazing fast and unstoppable!', metadata={'source': 'superheroes.csv', 'row': 5}),\n",
       " Document(page_content='Superhero Name: Aqua Fury\\nSuperpower: Hydrokinesis\\nPower Level: 80\\nCatchphrase: Ride the waves of power!', metadata={'source': 'superheroes.csv', 'row': 6}),\n",
       " Document(page_content=\"Superhero Name: Lunar Guardian\\nSuperpower: Lunar Manipulation\\nPower Level: 77\\nCatchphrase: Embrace the moon's might!\", metadata={'source': 'superheroes.csv', 'row': 7}),\n",
       " Document(page_content='Superhero Name: Steel Titan\\nSuperpower: Super Strength and Durability\\nPower Level: 95\\nCatchphrase: Indestructible force of nature!', metadata={'source': 'superheroes.csv', 'row': 8}),\n",
       " Document(page_content='Superhero Name: Nightblade\\nSuperpower: Night Vision and Stealth\\nPower Level: 84\\nCatchphrase: Strike from the shadows!', metadata={'source': 'superheroes.csv', 'row': 9}),\n",
       " Document(page_content='Superhero Name: Frostbite\\nSuperpower: Ice Manipulation\\nPower Level: 87\\nCatchphrase: Chill your bones!', metadata={'source': 'superheroes.csv', 'row': 10}),\n",
       " Document(page_content='Superhero Name: Starburst\\nSuperpower: Energy Projection\\nPower Level: 83\\nCatchphrase: Ignite the cosmos!', metadata={'source': 'superheroes.csv', 'row': 11}),\n",
       " Document(page_content='Superhero Name: Sonic Dash\\nSuperpower: Sound Manipulation\\nPower Level: 86\\nCatchphrase: Hear the sound of victory!', metadata={'source': 'superheroes.csv', 'row': 12}),\n",
       " Document(page_content='Superhero Name: Nova Surge\\nSuperpower: Energy Absorption and Redirection\\nPower Level: 89\\nCatchphrase: Harness the energy within!', metadata={'source': 'superheroes.csv', 'row': 13}),\n",
       " Document(page_content='Superhero Name: Shadowcat\\nSuperpower: Intangibility\\nPower Level: 76\\nCatchphrase: Phase through the impossible!', metadata={'source': 'superheroes.csv', 'row': 14}),\n",
       " Document(page_content='Superhero Name: Neon Spark\\nSuperpower: Light Manipulation\\nPower Level: 79\\nCatchphrase: Glow and dazzle!', metadata={'source': 'superheroes.csv', 'row': 15}),\n",
       " Document(page_content='Superhero Name: Phoenix Flame\\nSuperpower: Resurrection and Healing\\nPower Level: 94\\nCatchphrase: Rise from the ashes!', metadata={'source': 'superheroes.csv', 'row': 16}),\n",
       " Document(page_content='Superhero Name: Crystal Guardian\\nSuperpower: Crystallokinesis\\nPower Level: 81\\nCatchphrase: Shatter your illusions!', metadata={'source': 'superheroes.csv', 'row': 17}),\n",
       " Document(page_content='Superhero Name: Earthshaker\\nSuperpower: Geokinesis\\nPower Level: 92\\nCatchphrase: Feel the earth tremble beneath you!', metadata={'source': 'superheroes.csv', 'row': 18}),\n",
       " Document(page_content='Superhero Name: Silver Seraph\\nSuperpower: Telekinesis\\nPower Level: 85\\nCatchphrase: Move objects with your mind!', metadata={'source': 'superheroes.csv', 'row': 19}),\n",
       " Document(page_content=\"Superhero Name: Stormbringer\\nSuperpower: Weather Manipulation\\nPower Level: 93\\nCatchphrase: Unleash the storm's fury!\", metadata={'source': 'superheroes.csv', 'row': 20}),\n",
       " Document(page_content='Superhero Name: Scarlet Siren\\nSuperpower: Mind Control\\nPower Level: 88\\nCatchphrase: Obey my commands!', metadata={'source': 'superheroes.csv', 'row': 21}),\n",
       " Document(page_content='Superhero Name: Rift Walker\\nSuperpower: Dimensional Travel\\nPower Level: 90\\nCatchphrase: Step between worlds!', metadata={'source': 'superheroes.csv', 'row': 22}),\n",
       " Document(page_content=\"Superhero Name: Chrono-Wizard\\nSuperpower: Time Manipulation\\nPower Level: 91\\nCatchphrase: Master of time's flow!\", metadata={'source': 'superheroes.csv', 'row': 23}),\n",
       " Document(page_content='Superhero Name: Blazing Comet\\nSuperpower: Fireball Projection\\nPower Level: 82\\nCatchphrase: Burn brighter than a comet!', metadata={'source': 'superheroes.csv', 'row': 24}),\n",
       " Document(page_content='Superhero Name: Phantom Wisp\\nSuperpower: Invisibility\\nPower Level: 75\\nCatchphrase: Disappear like a wisp in the wind!', metadata={'source': 'superheroes.csv', 'row': 25}),\n",
       " Document(page_content='Superhero Name: Luminous Knight\\nSuperpower: Luminokinesis\\nPower Level: 78\\nCatchphrase: Illuminate the darkest night!', metadata={'source': 'superheroes.csv', 'row': 26}),\n",
       " Document(page_content='Superhero Name: Gravity Shift\\nSuperpower: Gravity Manipulation\\nPower Level: 89\\nCatchphrase: Bend gravity to your will!', metadata={'source': 'superheroes.csv', 'row': 27}),\n",
       " Document(page_content='Superhero Name: Solar Empress\\nSuperpower: Solar Energy Absorption\\nPower Level: 87\\nCatchphrase: Harness the power of the sun!', metadata={'source': 'superheroes.csv', 'row': 28}),\n",
       " Document(page_content='Superhero Name: Twilight Specter\\nSuperpower: Shadow Manipulation\\nPower Level: 80\\nCatchphrase: Dance with shadows!', metadata={'source': 'superheroes.csv', 'row': 29}),\n",
       " Document(page_content='Superhero Name: Thunderstrike\\nSuperpower: Lightning Control\\nPower Level: 91\\nCatchphrase: Electrify the battlefield!', metadata={'source': 'superheroes.csv', 'row': 30}),\n",
       " Document(page_content='Superhero Name: Nebula Weaver\\nSuperpower: Reality Warping\\nPower Level: 96\\nCatchphrase: Shape the fabric of reality!', metadata={'source': 'superheroes.csv', 'row': 31}),\n",
       " Document(page_content='Superhero Name: Frostglide\\nSuperpower: Cryo-Teleportation\\nPower Level: 85\\nCatchphrase: Freeze and glide through space!', metadata={'source': 'superheroes.csv', 'row': 32}),\n",
       " Document(page_content='Superhero Name: Zenith Blaze\\nSuperpower: Heat Vision\\nPower Level: 83\\nCatchphrase: Gaze into the flames of justice!', metadata={'source': 'superheroes.csv', 'row': 33}),\n",
       " Document(page_content='Superhero Name: Astral Drifter\\nSuperpower: Astral Projection\\nPower Level: 79\\nCatchphrase: Roam the astral plane!', metadata={'source': 'superheroes.csv', 'row': 34}),\n",
       " Document(page_content='Superhero Name: Blade Dancer\\nSuperpower: Swordsmanship and Agility\\nPower Level: 88\\nCatchphrase: Dance with deadly grace!', metadata={'source': 'superheroes.csv', 'row': 35}),\n",
       " Document(page_content=\"Superhero Name: Azure Tempest\\nSuperpower: Water Manipulation\\nPower Level: 82\\nCatchphrase: Unleash the tempest's rage!\", metadata={'source': 'superheroes.csv', 'row': 36}),\n",
       " Document(page_content='Superhero Name: Ghost Sentinel\\nSuperpower: Intangibility and Invisibility\\nPower Level: 76\\nCatchphrase: Haunt your nightmares!', metadata={'source': 'superheroes.csv', 'row': 37}),\n",
       " Document(page_content='Superhero Name: Ember Fox\\nSuperpower: Pyrokinetic Fox Shapeshifter\\nPower Level: 89\\nCatchphrase: Outfox your enemies with fire!', metadata={'source': 'superheroes.csv', 'row': 38}),\n",
       " Document(page_content='Superhero Name: Psy-Bender\\nSuperpower: Telepathy\\nPower Level: 84\\nCatchphrase: Read minds like an open book!', metadata={'source': 'superheroes.csv', 'row': 39}),\n",
       " Document(page_content='Superhero Name: Celestial Sphinx\\nSuperpower: Cosmic Awareness\\nPower Level: 93\\nCatchphrase: Unravel the secrets of the universe!', metadata={'source': 'superheroes.csv', 'row': 40}),\n",
       " Document(page_content=\"Superhero Name: Dragonfist\\nSuperpower: Dragon Summoning and Martial Arts\\nPower Level: 92\\nCatchphrase: Unleash the dragon's fury!\", metadata={'source': 'superheroes.csv', 'row': 41}),\n",
       " Document(page_content='Superhero Name: Solar Flare\\nSuperpower: Solar Energy Projection\\nPower Level: 85\\nCatchphrase: Feel the burning light!', metadata={'source': 'superheroes.csv', 'row': 42}),\n",
       " Document(page_content='Superhero Name: Night Lotus\\nSuperpower: Darkness Manipulation\\nPower Level: 78\\nCatchphrase: Bloom in the shadows!', metadata={'source': 'superheroes.csv', 'row': 43}),\n",
       " Document(page_content='Superhero Name: Quantum Strider\\nSuperpower: Quantum Manipulation\\nPower Level: 90\\nCatchphrase: Walk the edge of reality!', metadata={'source': 'superheroes.csv', 'row': 44}),\n",
       " Document(page_content='Superhero Name: Ironclad\\nSuperpower: Invulnerability and Enhanced Strength\\nPower Level: 95\\nCatchphrase: Invincible and mighty!', metadata={'source': 'superheroes.csv', 'row': 45}),\n",
       " Document(page_content='Superhero Name: Shadow Stalker\\nSuperpower: Shadow Shifting\\nPower Level: 81\\nCatchphrase: Disappear and reappear at will!', metadata={'source': 'superheroes.csv', 'row': 46}),\n",
       " Document(page_content=\"Superhero Name: Aqua Archer\\nSuperpower: Water Arrow Projection\\nPower Level: 80\\nCatchphrase: Shoot through water's flow!\", metadata={'source': 'superheroes.csv', 'row': 47}),\n",
       " Document(page_content='Superhero Name: Crystal Gazer\\nSuperpower: Crystal Ball Scrying\\nPower Level: 77\\nCatchphrase: See what the future holds!', metadata={'source': 'superheroes.csv', 'row': 48})]"
      ]
     },
     "execution_count": 35,
     "metadata": {},
     "output_type": "execute_result"
    }
   ],
   "source": [
    "documents = loader.load()\n",
    "\n",
    "documents"
   ]
  },
  {
   "cell_type": "markdown",
   "metadata": {},
   "source": [
    "Now, let's set up our Vector store (we'll talk about what that is in a second):"
   ]
  },
  {
   "cell_type": "code",
   "execution_count": 36,
   "metadata": {},
   "outputs": [],
   "source": [
    "from langchain_openai import OpenAIEmbeddings\n",
    "\n",
    "embeddings = OpenAIEmbeddings()"
   ]
  },
  {
   "cell_type": "code",
   "execution_count": 38,
   "metadata": {},
   "outputs": [
    {
     "name": "stdout",
     "output_type": "stream",
     "text": [
      "Collecting faiss-cpu\n",
      "  Downloading faiss_cpu-1.8.0-cp311-cp311-macosx_11_0_arm64.whl.metadata (3.6 kB)\n",
      "Requirement already satisfied: numpy in /Users/greatmaster/miniconda3/envs/oreilly-env/lib/python3.11/site-packages (from faiss-cpu) (1.26.4)\n",
      "Downloading faiss_cpu-1.8.0-cp311-cp311-macosx_11_0_arm64.whl (3.1 MB)\n",
      "\u001b[2K   \u001b[38;2;114;156;31m━━━━━━━━━━━━━━━━━━━━━━━━━━━━━━━━━━━━━━━━\u001b[0m \u001b[32m3.1/3.1 MB\u001b[0m \u001b[31m41.4 MB/s\u001b[0m eta \u001b[36m0:00:00\u001b[0mm eta \u001b[36m0:00:01\u001b[0m[36m0:00:01\u001b[0m\n",
      "\u001b[?25hInstalling collected packages: faiss-cpu\n",
      "Successfully installed faiss-cpu-1.8.0\n"
     ]
    }
   ],
   "source": [
    "# !pip install faiss-cpu\n",
    "from langchain_community.vectorstores import FAISS\n",
    "\n",
    "db = FAISS.from_documents(documents, embeddings)"
   ]
  },
  {
   "cell_type": "code",
   "execution_count": 39,
   "metadata": {},
   "outputs": [],
   "source": [
    "retriever = db.as_retriever()"
   ]
  },
  {
   "cell_type": "code",
   "execution_count": 40,
   "metadata": {},
   "outputs": [],
   "source": [
    "from langchain_core.runnables import RunnableLambda, RunnablePassthrough\n",
    "\n",
    "\n",
    "template = \"\"\"Answer the question based only on the following context:\n",
    "{context}\n",
    "\n",
    "Question: {question}\n",
    "\"\"\"\n",
    "prompt = ChatPromptTemplate.from_template(template)"
   ]
  },
  {
   "cell_type": "code",
   "execution_count": 42,
   "metadata": {},
   "outputs": [],
   "source": [
    "from langchain_core.output_parsers import StrOutputParser\n",
    "model = ChatOpenAI()\n",
    "\n",
    "chain = (\n",
    "    {\"context\": retriever, \"question\": RunnablePassthrough()}\n",
    "    | prompt\n",
    "    | model\n",
    "    | StrOutputParser()\n",
    ")"
   ]
  },
  {
   "cell_type": "code",
   "execution_count": 43,
   "metadata": {},
   "outputs": [
    {
     "name": "stdout",
     "output_type": "stream",
     "text": [
      "The catchphrase for Captain Thunder is \"Feel the power of the storm!\"\n"
     ]
    }
   ],
   "source": [
    "query = \"Tell me the catch phrase for Captain Thunder\"\n",
    "print(chain.invoke(query))"
   ]
  },
  {
   "cell_type": "code",
   "execution_count": 44,
   "metadata": {},
   "outputs": [
    {
     "data": {
      "text/html": [
       "<div>\n",
       "<style scoped>\n",
       "    .dataframe tbody tr th:only-of-type {\n",
       "        vertical-align: middle;\n",
       "    }\n",
       "\n",
       "    .dataframe tbody tr th {\n",
       "        vertical-align: top;\n",
       "    }\n",
       "\n",
       "    .dataframe thead th {\n",
       "        text-align: right;\n",
       "    }\n",
       "</style>\n",
       "<table border=\"1\" class=\"dataframe\">\n",
       "  <thead>\n",
       "    <tr style=\"text-align: right;\">\n",
       "      <th></th>\n",
       "      <th>Superhero Name</th>\n",
       "      <th>Superpower</th>\n",
       "      <th>Power Level</th>\n",
       "      <th>Catchphrase</th>\n",
       "    </tr>\n",
       "  </thead>\n",
       "  <tbody>\n",
       "    <tr>\n",
       "      <th>0</th>\n",
       "      <td>Captain Thunder</td>\n",
       "      <td>Bolt Manipulation</td>\n",
       "      <td>90</td>\n",
       "      <td>Feel the power of the storm!</td>\n",
       "    </tr>\n",
       "    <tr>\n",
       "      <th>1</th>\n",
       "      <td>Silver Falcon</td>\n",
       "      <td>Flight and Agility</td>\n",
       "      <td>85</td>\n",
       "      <td>Soar high, fearlessly!</td>\n",
       "    </tr>\n",
       "    <tr>\n",
       "      <th>2</th>\n",
       "      <td>Mystic Shadow</td>\n",
       "      <td>Invisibility and Illusions</td>\n",
       "      <td>78</td>\n",
       "      <td>Disappear into the darkness!</td>\n",
       "    </tr>\n",
       "    <tr>\n",
       "      <th>3</th>\n",
       "      <td>Blaze Runner</td>\n",
       "      <td>Pyrokinesis</td>\n",
       "      <td>88</td>\n",
       "      <td>Burn bright and fierce!</td>\n",
       "    </tr>\n",
       "    <tr>\n",
       "      <th>4</th>\n",
       "      <td>Electra-Wave</td>\n",
       "      <td>Electric Manipulation</td>\n",
       "      <td>82</td>\n",
       "      <td>Unleash the electric waves!</td>\n",
       "    </tr>\n",
       "    <tr>\n",
       "      <th>5</th>\n",
       "      <td>Crimson Cyclone</td>\n",
       "      <td>Super Speed</td>\n",
       "      <td>91</td>\n",
       "      <td>Blazing fast and unstoppable!</td>\n",
       "    </tr>\n",
       "    <tr>\n",
       "      <th>6</th>\n",
       "      <td>Aqua Fury</td>\n",
       "      <td>Hydrokinesis</td>\n",
       "      <td>80</td>\n",
       "      <td>Ride the waves of power!</td>\n",
       "    </tr>\n",
       "    <tr>\n",
       "      <th>7</th>\n",
       "      <td>Lunar Guardian</td>\n",
       "      <td>Lunar Manipulation</td>\n",
       "      <td>77</td>\n",
       "      <td>Embrace the moon's might!</td>\n",
       "    </tr>\n",
       "    <tr>\n",
       "      <th>8</th>\n",
       "      <td>Steel Titan</td>\n",
       "      <td>Super Strength and Durability</td>\n",
       "      <td>95</td>\n",
       "      <td>Indestructible force of nature!</td>\n",
       "    </tr>\n",
       "    <tr>\n",
       "      <th>9</th>\n",
       "      <td>Nightblade</td>\n",
       "      <td>Night Vision and Stealth</td>\n",
       "      <td>84</td>\n",
       "      <td>Strike from the shadows!</td>\n",
       "    </tr>\n",
       "    <tr>\n",
       "      <th>10</th>\n",
       "      <td>Frostbite</td>\n",
       "      <td>Ice Manipulation</td>\n",
       "      <td>87</td>\n",
       "      <td>Chill your bones!</td>\n",
       "    </tr>\n",
       "    <tr>\n",
       "      <th>11</th>\n",
       "      <td>Starburst</td>\n",
       "      <td>Energy Projection</td>\n",
       "      <td>83</td>\n",
       "      <td>Ignite the cosmos!</td>\n",
       "    </tr>\n",
       "    <tr>\n",
       "      <th>12</th>\n",
       "      <td>Sonic Dash</td>\n",
       "      <td>Sound Manipulation</td>\n",
       "      <td>86</td>\n",
       "      <td>Hear the sound of victory!</td>\n",
       "    </tr>\n",
       "    <tr>\n",
       "      <th>13</th>\n",
       "      <td>Nova Surge</td>\n",
       "      <td>Energy Absorption and Redirection</td>\n",
       "      <td>89</td>\n",
       "      <td>Harness the energy within!</td>\n",
       "    </tr>\n",
       "    <tr>\n",
       "      <th>14</th>\n",
       "      <td>Shadowcat</td>\n",
       "      <td>Intangibility</td>\n",
       "      <td>76</td>\n",
       "      <td>Phase through the impossible!</td>\n",
       "    </tr>\n",
       "    <tr>\n",
       "      <th>15</th>\n",
       "      <td>Neon Spark</td>\n",
       "      <td>Light Manipulation</td>\n",
       "      <td>79</td>\n",
       "      <td>Glow and dazzle!</td>\n",
       "    </tr>\n",
       "    <tr>\n",
       "      <th>16</th>\n",
       "      <td>Phoenix Flame</td>\n",
       "      <td>Resurrection and Healing</td>\n",
       "      <td>94</td>\n",
       "      <td>Rise from the ashes!</td>\n",
       "    </tr>\n",
       "    <tr>\n",
       "      <th>17</th>\n",
       "      <td>Crystal Guardian</td>\n",
       "      <td>Crystallokinesis</td>\n",
       "      <td>81</td>\n",
       "      <td>Shatter your illusions!</td>\n",
       "    </tr>\n",
       "    <tr>\n",
       "      <th>18</th>\n",
       "      <td>Earthshaker</td>\n",
       "      <td>Geokinesis</td>\n",
       "      <td>92</td>\n",
       "      <td>Feel the earth tremble beneath you!</td>\n",
       "    </tr>\n",
       "    <tr>\n",
       "      <th>19</th>\n",
       "      <td>Silver Seraph</td>\n",
       "      <td>Telekinesis</td>\n",
       "      <td>85</td>\n",
       "      <td>Move objects with your mind!</td>\n",
       "    </tr>\n",
       "    <tr>\n",
       "      <th>20</th>\n",
       "      <td>Stormbringer</td>\n",
       "      <td>Weather Manipulation</td>\n",
       "      <td>93</td>\n",
       "      <td>Unleash the storm's fury!</td>\n",
       "    </tr>\n",
       "    <tr>\n",
       "      <th>21</th>\n",
       "      <td>Scarlet Siren</td>\n",
       "      <td>Mind Control</td>\n",
       "      <td>88</td>\n",
       "      <td>Obey my commands!</td>\n",
       "    </tr>\n",
       "    <tr>\n",
       "      <th>22</th>\n",
       "      <td>Rift Walker</td>\n",
       "      <td>Dimensional Travel</td>\n",
       "      <td>90</td>\n",
       "      <td>Step between worlds!</td>\n",
       "    </tr>\n",
       "    <tr>\n",
       "      <th>23</th>\n",
       "      <td>Chrono-Wizard</td>\n",
       "      <td>Time Manipulation</td>\n",
       "      <td>91</td>\n",
       "      <td>Master of time's flow!</td>\n",
       "    </tr>\n",
       "    <tr>\n",
       "      <th>24</th>\n",
       "      <td>Blazing Comet</td>\n",
       "      <td>Fireball Projection</td>\n",
       "      <td>82</td>\n",
       "      <td>Burn brighter than a comet!</td>\n",
       "    </tr>\n",
       "    <tr>\n",
       "      <th>25</th>\n",
       "      <td>Phantom Wisp</td>\n",
       "      <td>Invisibility</td>\n",
       "      <td>75</td>\n",
       "      <td>Disappear like a wisp in the wind!</td>\n",
       "    </tr>\n",
       "    <tr>\n",
       "      <th>26</th>\n",
       "      <td>Luminous Knight</td>\n",
       "      <td>Luminokinesis</td>\n",
       "      <td>78</td>\n",
       "      <td>Illuminate the darkest night!</td>\n",
       "    </tr>\n",
       "    <tr>\n",
       "      <th>27</th>\n",
       "      <td>Gravity Shift</td>\n",
       "      <td>Gravity Manipulation</td>\n",
       "      <td>89</td>\n",
       "      <td>Bend gravity to your will!</td>\n",
       "    </tr>\n",
       "    <tr>\n",
       "      <th>28</th>\n",
       "      <td>Solar Empress</td>\n",
       "      <td>Solar Energy Absorption</td>\n",
       "      <td>87</td>\n",
       "      <td>Harness the power of the sun!</td>\n",
       "    </tr>\n",
       "    <tr>\n",
       "      <th>29</th>\n",
       "      <td>Twilight Specter</td>\n",
       "      <td>Shadow Manipulation</td>\n",
       "      <td>80</td>\n",
       "      <td>Dance with shadows!</td>\n",
       "    </tr>\n",
       "    <tr>\n",
       "      <th>30</th>\n",
       "      <td>Thunderstrike</td>\n",
       "      <td>Lightning Control</td>\n",
       "      <td>91</td>\n",
       "      <td>Electrify the battlefield!</td>\n",
       "    </tr>\n",
       "    <tr>\n",
       "      <th>31</th>\n",
       "      <td>Nebula Weaver</td>\n",
       "      <td>Reality Warping</td>\n",
       "      <td>96</td>\n",
       "      <td>Shape the fabric of reality!</td>\n",
       "    </tr>\n",
       "    <tr>\n",
       "      <th>32</th>\n",
       "      <td>Frostglide</td>\n",
       "      <td>Cryo-Teleportation</td>\n",
       "      <td>85</td>\n",
       "      <td>Freeze and glide through space!</td>\n",
       "    </tr>\n",
       "    <tr>\n",
       "      <th>33</th>\n",
       "      <td>Zenith Blaze</td>\n",
       "      <td>Heat Vision</td>\n",
       "      <td>83</td>\n",
       "      <td>Gaze into the flames of justice!</td>\n",
       "    </tr>\n",
       "    <tr>\n",
       "      <th>34</th>\n",
       "      <td>Astral Drifter</td>\n",
       "      <td>Astral Projection</td>\n",
       "      <td>79</td>\n",
       "      <td>Roam the astral plane!</td>\n",
       "    </tr>\n",
       "    <tr>\n",
       "      <th>35</th>\n",
       "      <td>Blade Dancer</td>\n",
       "      <td>Swordsmanship and Agility</td>\n",
       "      <td>88</td>\n",
       "      <td>Dance with deadly grace!</td>\n",
       "    </tr>\n",
       "    <tr>\n",
       "      <th>36</th>\n",
       "      <td>Azure Tempest</td>\n",
       "      <td>Water Manipulation</td>\n",
       "      <td>82</td>\n",
       "      <td>Unleash the tempest's rage!</td>\n",
       "    </tr>\n",
       "    <tr>\n",
       "      <th>37</th>\n",
       "      <td>Ghost Sentinel</td>\n",
       "      <td>Intangibility and Invisibility</td>\n",
       "      <td>76</td>\n",
       "      <td>Haunt your nightmares!</td>\n",
       "    </tr>\n",
       "    <tr>\n",
       "      <th>38</th>\n",
       "      <td>Ember Fox</td>\n",
       "      <td>Pyrokinetic Fox Shapeshifter</td>\n",
       "      <td>89</td>\n",
       "      <td>Outfox your enemies with fire!</td>\n",
       "    </tr>\n",
       "    <tr>\n",
       "      <th>39</th>\n",
       "      <td>Psy-Bender</td>\n",
       "      <td>Telepathy</td>\n",
       "      <td>84</td>\n",
       "      <td>Read minds like an open book!</td>\n",
       "    </tr>\n",
       "    <tr>\n",
       "      <th>40</th>\n",
       "      <td>Celestial Sphinx</td>\n",
       "      <td>Cosmic Awareness</td>\n",
       "      <td>93</td>\n",
       "      <td>Unravel the secrets of the universe!</td>\n",
       "    </tr>\n",
       "    <tr>\n",
       "      <th>41</th>\n",
       "      <td>Dragonfist</td>\n",
       "      <td>Dragon Summoning and Martial Arts</td>\n",
       "      <td>92</td>\n",
       "      <td>Unleash the dragon's fury!</td>\n",
       "    </tr>\n",
       "    <tr>\n",
       "      <th>42</th>\n",
       "      <td>Solar Flare</td>\n",
       "      <td>Solar Energy Projection</td>\n",
       "      <td>85</td>\n",
       "      <td>Feel the burning light!</td>\n",
       "    </tr>\n",
       "    <tr>\n",
       "      <th>43</th>\n",
       "      <td>Night Lotus</td>\n",
       "      <td>Darkness Manipulation</td>\n",
       "      <td>78</td>\n",
       "      <td>Bloom in the shadows!</td>\n",
       "    </tr>\n",
       "    <tr>\n",
       "      <th>44</th>\n",
       "      <td>Quantum Strider</td>\n",
       "      <td>Quantum Manipulation</td>\n",
       "      <td>90</td>\n",
       "      <td>Walk the edge of reality!</td>\n",
       "    </tr>\n",
       "    <tr>\n",
       "      <th>45</th>\n",
       "      <td>Ironclad</td>\n",
       "      <td>Invulnerability and Enhanced Strength</td>\n",
       "      <td>95</td>\n",
       "      <td>Invincible and mighty!</td>\n",
       "    </tr>\n",
       "    <tr>\n",
       "      <th>46</th>\n",
       "      <td>Shadow Stalker</td>\n",
       "      <td>Shadow Shifting</td>\n",
       "      <td>81</td>\n",
       "      <td>Disappear and reappear at will!</td>\n",
       "    </tr>\n",
       "    <tr>\n",
       "      <th>47</th>\n",
       "      <td>Aqua Archer</td>\n",
       "      <td>Water Arrow Projection</td>\n",
       "      <td>80</td>\n",
       "      <td>Shoot through water's flow!</td>\n",
       "    </tr>\n",
       "    <tr>\n",
       "      <th>48</th>\n",
       "      <td>Crystal Gazer</td>\n",
       "      <td>Crystal Ball Scrying</td>\n",
       "      <td>77</td>\n",
       "      <td>See what the future holds!</td>\n",
       "    </tr>\n",
       "  </tbody>\n",
       "</table>\n",
       "</div>"
      ],
      "text/plain": [
       "      Superhero Name                             Superpower  Power Level  \\\n",
       "0    Captain Thunder                      Bolt Manipulation           90   \n",
       "1      Silver Falcon                     Flight and Agility           85   \n",
       "2      Mystic Shadow             Invisibility and Illusions           78   \n",
       "3       Blaze Runner                            Pyrokinesis           88   \n",
       "4       Electra-Wave                  Electric Manipulation           82   \n",
       "5    Crimson Cyclone                            Super Speed           91   \n",
       "6          Aqua Fury                           Hydrokinesis           80   \n",
       "7     Lunar Guardian                     Lunar Manipulation           77   \n",
       "8        Steel Titan          Super Strength and Durability           95   \n",
       "9         Nightblade               Night Vision and Stealth           84   \n",
       "10         Frostbite                       Ice Manipulation           87   \n",
       "11         Starburst                      Energy Projection           83   \n",
       "12        Sonic Dash                     Sound Manipulation           86   \n",
       "13        Nova Surge      Energy Absorption and Redirection           89   \n",
       "14         Shadowcat                          Intangibility           76   \n",
       "15        Neon Spark                     Light Manipulation           79   \n",
       "16     Phoenix Flame               Resurrection and Healing           94   \n",
       "17  Crystal Guardian                       Crystallokinesis           81   \n",
       "18       Earthshaker                             Geokinesis           92   \n",
       "19     Silver Seraph                            Telekinesis           85   \n",
       "20      Stormbringer                   Weather Manipulation           93   \n",
       "21     Scarlet Siren                           Mind Control           88   \n",
       "22       Rift Walker                     Dimensional Travel           90   \n",
       "23     Chrono-Wizard                      Time Manipulation           91   \n",
       "24     Blazing Comet                    Fireball Projection           82   \n",
       "25      Phantom Wisp                           Invisibility           75   \n",
       "26   Luminous Knight                          Luminokinesis           78   \n",
       "27     Gravity Shift                   Gravity Manipulation           89   \n",
       "28     Solar Empress                Solar Energy Absorption           87   \n",
       "29  Twilight Specter                    Shadow Manipulation           80   \n",
       "30     Thunderstrike                      Lightning Control           91   \n",
       "31     Nebula Weaver                        Reality Warping           96   \n",
       "32        Frostglide                     Cryo-Teleportation           85   \n",
       "33      Zenith Blaze                            Heat Vision           83   \n",
       "34    Astral Drifter                      Astral Projection           79   \n",
       "35      Blade Dancer              Swordsmanship and Agility           88   \n",
       "36     Azure Tempest                     Water Manipulation           82   \n",
       "37    Ghost Sentinel         Intangibility and Invisibility           76   \n",
       "38         Ember Fox           Pyrokinetic Fox Shapeshifter           89   \n",
       "39        Psy-Bender                              Telepathy           84   \n",
       "40  Celestial Sphinx                       Cosmic Awareness           93   \n",
       "41        Dragonfist      Dragon Summoning and Martial Arts           92   \n",
       "42       Solar Flare                Solar Energy Projection           85   \n",
       "43       Night Lotus                  Darkness Manipulation           78   \n",
       "44   Quantum Strider                   Quantum Manipulation           90   \n",
       "45          Ironclad  Invulnerability and Enhanced Strength           95   \n",
       "46    Shadow Stalker                        Shadow Shifting           81   \n",
       "47       Aqua Archer                 Water Arrow Projection           80   \n",
       "48     Crystal Gazer                   Crystal Ball Scrying           77   \n",
       "\n",
       "                             Catchphrase  \n",
       "0           Feel the power of the storm!  \n",
       "1                 Soar high, fearlessly!  \n",
       "2           Disappear into the darkness!  \n",
       "3                Burn bright and fierce!  \n",
       "4            Unleash the electric waves!  \n",
       "5          Blazing fast and unstoppable!  \n",
       "6               Ride the waves of power!  \n",
       "7              Embrace the moon's might!  \n",
       "8        Indestructible force of nature!  \n",
       "9               Strike from the shadows!  \n",
       "10                     Chill your bones!  \n",
       "11                    Ignite the cosmos!  \n",
       "12            Hear the sound of victory!  \n",
       "13            Harness the energy within!  \n",
       "14         Phase through the impossible!  \n",
       "15                      Glow and dazzle!  \n",
       "16                  Rise from the ashes!  \n",
       "17               Shatter your illusions!  \n",
       "18   Feel the earth tremble beneath you!  \n",
       "19          Move objects with your mind!  \n",
       "20             Unleash the storm's fury!  \n",
       "21                     Obey my commands!  \n",
       "22                  Step between worlds!  \n",
       "23                Master of time's flow!  \n",
       "24           Burn brighter than a comet!  \n",
       "25    Disappear like a wisp in the wind!  \n",
       "26         Illuminate the darkest night!  \n",
       "27            Bend gravity to your will!  \n",
       "28         Harness the power of the sun!  \n",
       "29                   Dance with shadows!  \n",
       "30            Electrify the battlefield!  \n",
       "31          Shape the fabric of reality!  \n",
       "32       Freeze and glide through space!  \n",
       "33      Gaze into the flames of justice!  \n",
       "34                Roam the astral plane!  \n",
       "35              Dance with deadly grace!  \n",
       "36           Unleash the tempest's rage!  \n",
       "37                Haunt your nightmares!  \n",
       "38        Outfox your enemies with fire!  \n",
       "39         Read minds like an open book!  \n",
       "40  Unravel the secrets of the universe!  \n",
       "41            Unleash the dragon's fury!  \n",
       "42               Feel the burning light!  \n",
       "43                 Bloom in the shadows!  \n",
       "44             Walk the edge of reality!  \n",
       "45                Invincible and mighty!  \n",
       "46       Disappear and reappear at will!  \n",
       "47           Shoot through water's flow!  \n",
       "48            See what the future holds!  "
      ]
     },
     "execution_count": 44,
     "metadata": {},
     "output_type": "execute_result"
    }
   ],
   "source": [
    "df"
   ]
  },
  {
   "cell_type": "code",
   "execution_count": 45,
   "metadata": {},
   "outputs": [
    {
     "name": "stdout",
     "output_type": "stream",
     "text": [
      "The catchphrase for the likely fastest superhero in the table is \"Blazing fast and unstoppable!\"\n"
     ]
    }
   ],
   "source": [
    "query = \"Tell me the catch phrase for the likely fastest superhero in the table\"\n",
    "print(chain.invoke(query))"
   ]
  },
  {
   "cell_type": "code",
   "execution_count": null,
   "metadata": {},
   "outputs": [],
   "source": []
  },
  {
   "cell_type": "markdown",
   "metadata": {},
   "source": [
    "# References\n",
    "- https://python.langchain.com/docs/get_started/introduction.html\n",
    "- https://medium.com/@remitoffoli/a-visual-guide-to-llm-powered-app-architecture-57e47426a92f\n",
    "- [LangChain for LLM App Development short course by coursera](https://learn.deeplearning.ai/langchain/lesson/5/question-and-answer)\n",
    "- [LLM Evaluation](https://learn.deeplearning.ai/langchain/lesson/6/evaluation)\n",
    "[Models, Prompts, parsers, memory and chains from this langchain for](https://learn.deeplearning.ai/langchain/lesson/7/agents)\n",
    "- [Chat With Your Data - Retrieval](https://learn.deeplearning.ai/langchain-chat-with-your-data/lesson/5/retrieval)\n",
    "- [Emebeddings simple definition](https://learn.deeplearning.ai/langchain/lesson/5/question-and-answer)\n",
    "- [Vector DBs - simple definition](https://learn.deeplearning.ai/langchain/lesson/5/question-and-answer)"
   ]
  }
 ],
 "metadata": {
  "kernelspec": {
   "display_name": "oreilly-chatgpt-apps",
   "language": "python",
   "name": "oreilly-chatgpt-apps"
  },
  "language_info": {
   "codemirror_mode": {
    "name": "ipython",
    "version": 3
   },
   "file_extension": ".py",
   "mimetype": "text/x-python",
   "name": "python",
   "nbconvert_exporter": "python",
   "pygments_lexer": "ipython3",
   "version": "3.11.9"
  },
  "orig_nbformat": 4
 },
 "nbformat": 4,
 "nbformat_minor": 2
}
