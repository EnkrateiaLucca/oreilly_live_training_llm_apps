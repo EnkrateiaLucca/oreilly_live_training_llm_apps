{
 "cells": [
  {
   "cell_type": "markdown",
   "metadata": {},
   "source": [
    "# Langchain for LLM App Development \n",
    "\n",
    "We talked about how building an LLM app involves doing some prompt management \n",
    "where we can either prepare the input data from the user with some \n",
    "pre-prompting, or do some post-prompting and some cleaning up after the LLM \n",
    "gives an output to ensure that our app performs the functionalities as expected.\n",
    "\n",
    "So, this kind of workflow usually involves a lot of abstractions where prompts \n",
    "are no longer static pieces of text, but dynamic, they have to integrate \n",
    "information.\n",
    "\n",
    "![](./images/Notebook_4-dynamic_prompt.png)"
   ]
  },
  {
   "cell_type": "markdown",
   "metadata": {},
   "source": [
    "This dynamics requirement from a prompt will lead to the need for creating certain types of abstractions to properly handle and manage prompts effectively."
   ]
  },
  {
   "cell_type": "markdown",
   "metadata": {},
   "source": [
    "Another need in the context of more complex LLM App development, is the need for chaining prompts together, meaning connecting the output of one prompt to another. This is often the case for when prompts might be too large and a single call to the LLM won't be enough to solve the problem or the context window (maximum tokens/words the model can read and writer per request) is exceeded."
   ]
  },
  {
   "cell_type": "markdown",
   "metadata": {},
   "source": [
    "![](./images/Notebook_4-prompt_chaining.png)"
   ]
  },
  {
   "cell_type": "markdown",
   "metadata": {},
   "source": [
    "# Lanchain\n",
    "\n",
    "[Langchain](https://python.langchain.com/docs/get_started/introduction.html) is a framework created by Harrison Chase that facilitates the creation and management of dynamic prompts and chaining between prompts.\n",
    "\n",
    "Its main features are:\n",
    "- **Components**: abstractions for working with LMs\n",
    "- **Off-the-shelf chains**: assembly of components for accomplishing certain higher-level tasks\n",
    "\n",
    "With langchain it becomes much easier to create what are called Prompt Templates, which are prompts that can take in user data and abstract away the need for typing out everything that is required for a task to get done.\n",
    "\n",
    "Let's take a look at some simple examples to get started."
   ]
  },
  {
   "cell_type": "markdown",
   "metadata": {},
   "source": [
    "In order to create an application with LangChain, we need to understand its core components:\n",
    "\n",
    "- Models\n",
    "- Prompts\n",
    "- Output Parsers"
   ]
  },
  {
   "cell_type": "markdown",
   "metadata": {},
   "source": [
    "![](2023-08-17-14-48-39.png)"
   ]
  },
  {
   "cell_type": "markdown",
   "metadata": {},
   "source": [
    "**Models**\n",
    "\n",
    "abstractions over the LLM APIs like the ChatGPT API.​"
   ]
  },
  {
   "cell_type": "code",
   "execution_count": 3,
   "metadata": {},
   "outputs": [],
   "source": [
    "#!pip install langchain\n",
    "# !pip install langchain-openai"
   ]
  },
  {
   "cell_type": "code",
   "execution_count": 1,
   "metadata": {},
   "outputs": [],
   "source": [
    "from langchain_openai import ChatOpenAI\n",
    "from langchain_openai import OpenAI\n",
    "import os\n",
    "\n",
    "chat_model = ChatOpenAI(api_key=os.environ[\"OPENAI_API_KEY\"])"
   ]
  },
  {
   "cell_type": "code",
   "execution_count": 2,
   "metadata": {},
   "outputs": [
    {
     "data": {
      "text/plain": [
       "ChatOpenAI(client=<openai.resources.chat.completions.Completions object at 0x1107f0280>, async_client=<openai.resources.chat.completions.AsyncCompletions object at 0x1107f15a0>, openai_api_key=SecretStr('**********'), openai_api_base='https://api.openai.com/v1', openai_proxy='')"
      ]
     },
     "execution_count": 2,
     "metadata": {},
     "output_type": "execute_result"
    }
   ],
   "source": [
    "chat_model"
   ]
  },
  {
   "cell_type": "markdown",
   "metadata": {},
   "source": [
    "You can predict outputs from both LLMs and ChatModels:"
   ]
  },
  {
   "cell_type": "code",
   "execution_count": 3,
   "metadata": {},
   "outputs": [
    {
     "data": {
      "text/plain": [
       "AIMessage(content='Once upon a time, there was a brilliant team of researchers who created a large language model that could generate human-like text based on the input it received. This model was trained on vast amounts of data from the internet and books, allowing it to understand and mimic the nuances of human language.\\n\\nAs the team tested their creation, they were amazed at how well it could write essays, stories, and even poetry that sounded like it was written by a human. People around the world were fascinated by this new technology and began using it for various applications, such as writing assistance, content creation, and even chatbots.\\n\\nHowever, as the model grew more advanced and powerful, concerns arose about its potential misuse, including spreading fake news, generating harmful content, and invading privacy. The team worked tirelessly to implement safeguards and ethical guidelines to mitigate these risks and ensure that their creation was used responsibly.\\n\\nIn the end, the large language model became a valuable tool for innovation and creativity, revolutionizing the way we interact with technology and enhancing our ability to communicate and express ourselves in new and exciting ways. And so, the story of the large language model became a testament to the power of human ingenuity and the importance of using technology for the greater good.')"
      ]
     },
     "execution_count": 3,
     "metadata": {},
     "output_type": "execute_result"
    }
   ],
   "source": [
    "chat_model.invoke(\"hi! Tell me a quick story about large language models\")\n",
    "# Output: \"Hi\""
   ]
  },
  {
   "cell_type": "code",
   "execution_count": 4,
   "metadata": {},
   "outputs": [],
   "source": [
    "output = chat_model.invoke(\"hi! Tell me a joke about an instructor who is always having issues when he tries to run live demos during his live-trainings.\")"
   ]
  },
  {
   "cell_type": "code",
   "execution_count": 6,
   "metadata": {},
   "outputs": [
    {
     "data": {
      "text/plain": [
       "AIMessage(content='Why did the instructor have trouble running live demos during his trainings?\\n\\nBecause every time he tried to demonstrate something, it always turned into a \"live fail\" instead of a live demo!')"
      ]
     },
     "execution_count": 6,
     "metadata": {},
     "output_type": "execute_result"
    }
   ],
   "source": [
    "output"
   ]
  },
  {
   "cell_type": "code",
   "execution_count": 5,
   "metadata": {},
   "outputs": [
    {
     "data": {
      "text/plain": [
       "'Why did the instructor have trouble running live demos during his trainings?\\n\\nBecause every time he tried to demonstrate something, it always turned into a \"live fail\" instead of a live demo!'"
      ]
     },
     "execution_count": 5,
     "metadata": {},
     "output_type": "execute_result"
    }
   ],
   "source": [
    "output.content"
   ]
  },
  {
   "cell_type": "code",
   "execution_count": 7,
   "metadata": {},
   "outputs": [
    {
     "data": {
      "text/markdown": [
       "Why did the instructor have trouble running live demos during his trainings?\n",
       "\n",
       "Because every time he tried to demonstrate something, it always turned into a \"live fail\" instead of a live demo!"
      ],
      "text/plain": [
       "<IPython.core.display.Markdown object>"
      ]
     },
     "execution_count": 7,
     "metadata": {},
     "output_type": "execute_result"
    }
   ],
   "source": [
    "# Display text with markdown formatting\n",
    "from IPython.display import Markdown\n",
    "\n",
    "# Display the text\n",
    "Markdown(output.content)"
   ]
  },
  {
   "cell_type": "markdown",
   "metadata": {},
   "source": [
    "**Prompts**\n",
    "\n",
    "Prompt Templates are useful abstractions for reusing prompts. \n",
    "\n",
    "They are used to provide context for the specific task that the language model needs to complete. \n",
    "A simple example is a `PromptTemplate` that formats a string into a prompt:"
   ]
  },
  {
   "cell_type": "code",
   "execution_count": 8,
   "metadata": {},
   "outputs": [
    {
     "data": {
      "text/plain": [
       "'Human: What is a good name for a company that makes colorful socks?'"
      ]
     },
     "execution_count": 8,
     "metadata": {},
     "output_type": "execute_result"
    }
   ],
   "source": [
    "from langchain.prompts import ChatPromptTemplate\n",
    "\n",
    "prompt = ChatPromptTemplate.from_template(\"What is a good name for a company that makes {product}?\")\n",
    "prompt.format(product=\"colorful socks\")"
   ]
  },
  {
   "cell_type": "code",
   "execution_count": 9,
   "metadata": {},
   "outputs": [
    {
     "data": {
      "text/plain": [
       "AIMessage(content='Rainbow Threads')"
      ]
     },
     "execution_count": 9,
     "metadata": {},
     "output_type": "execute_result"
    }
   ],
   "source": [
    "chain = prompt | chat_model\n",
    "\n",
    "chain.invoke({\"product\": \"colorful socks\"})"
   ]
  },
  {
   "cell_type": "code",
   "execution_count": 10,
   "metadata": {},
   "outputs": [
    {
     "data": {
      "text/plain": [
       "AIMessage(content='Turtle Motors')"
      ]
     },
     "execution_count": 10,
     "metadata": {},
     "output_type": "execute_result"
    }
   ],
   "source": [
    "chain.invoke({\"product\": \"slow cars\"})"
   ]
  },
  {
   "cell_type": "markdown",
   "metadata": {},
   "source": [
    "However, the advantages of using these over raw string formatting are several. You can \"partial\" out variables - e.g. you can format only some of the variables at a time. You can compose them together, easily combining different templates into a single prompt. For explanations of these functionalities, see the section on prompts for more detail.\n",
    "\n",
    "PromptTemplates can also be used to produce a list of messages. In this case, the prompt not only contains information about the content, but also each message (its role, its position in the list, etc.). Here, what happens most often is a ChatPromptTemplate is a list of ChatMessageTemplates. Each ChatMessageTemplate contains instructions for how to format that ChatMessage - its role, and then also its content. Let's take a look at this below:"
   ]
  },
  {
   "cell_type": "code",
   "execution_count": 12,
   "metadata": {},
   "outputs": [
    {
     "data": {
      "text/plain": [
       "[SystemMessage(content='You are a helpful assistant that translates English to French.'),\n",
       " HumanMessage(content='I love programming.')]"
      ]
     },
     "execution_count": 12,
     "metadata": {},
     "output_type": "execute_result"
    }
   ],
   "source": [
    "# source: https://python.langchain.com/docs/modules/model_io/quick_start\n",
    "from langchain.prompts import ChatPromptTemplate\n",
    "\n",
    "template = \"You are a helpful assistant that translates {input_language} to {output_language}.\"\n",
    "human_template = \"{text}\"\n",
    "\n",
    "chat_prompt = ChatPromptTemplate.from_messages([\n",
    "    (\"system\", template),\n",
    "    (\"human\", human_template),\n",
    "])\n",
    "\n",
    "chat_prompt.format_messages(input_language=\"English\", output_language=\"French\", text=\"I love programming.\")"
   ]
  },
  {
   "cell_type": "markdown",
   "metadata": {},
   "source": [
    "**Output Parsers**\n",
    "\n",
    "OutputParsers convert the raw output from an LLM into a format that can be used downstream. Here is an example of an OutputParser that converts a comma-separated list into a list:"
   ]
  },
  {
   "cell_type": "code",
   "execution_count": 22,
   "metadata": {},
   "outputs": [
    {
     "data": {
      "text/plain": [
       "dict"
      ]
     },
     "execution_count": 22,
     "metadata": {},
     "output_type": "execute_result"
    }
   ],
   "source": [
    "from langchain_core.output_parsers import JsonOutputParser\n",
    "\n",
    "\n",
    "output_parser = JsonOutputParser()\n",
    "output = output_parser.parse('{\"name\": \"Lucas\"}')\n",
    "type(output)"
   ]
  },
  {
   "cell_type": "markdown",
   "metadata": {},
   "source": [
    "# Composing Chains with LCEL"
   ]
  },
  {
   "cell_type": "markdown",
   "metadata": {},
   "source": [
    "source: https://python.langchain.com/docs/modules/model_io/quick_start#:~:text=We%20can%20now,green'%2C%20'yellow'%2C%20'orange'%5D\n",
    "We can now combine all these into one chain. This chain will take input variables, pass those to a prompt template to create a prompt, pass the prompt to a language model, and then pass the output through an (optional) output parser. "
   ]
  },
  {
   "cell_type": "markdown",
   "metadata": {},
   "source": [
    "The modern version with the LCEL interface:"
   ]
  },
  {
   "cell_type": "code",
   "execution_count": 23,
   "metadata": {},
   "outputs": [
    {
     "data": {
      "text/plain": [
       "{'colors': ['red', 'blue', 'green', 'yellow', 'purple']}"
      ]
     },
     "execution_count": 23,
     "metadata": {},
     "output_type": "execute_result"
    }
   ],
   "source": [
    "template = \"Generate a list of 5 {text}.\\n\\n{format_instructions}\"\n",
    "\n",
    "chat_prompt = ChatPromptTemplate.from_template(template)\n",
    "\n",
    "chat_prompt = chat_prompt.partial(format_instructions=output_parser.get_format_instructions())\n",
    "\n",
    "chain = chat_prompt | chat_model | output_parser\n",
    "chain.invoke({\"text\": \"colors\"})\n",
    "# >> ['red', 'blue', 'green', 'yellow', 'orange']"
   ]
  },
  {
   "cell_type": "code",
   "execution_count": 24,
   "metadata": {},
   "outputs": [
    {
     "data": {
      "text/plain": [
       "'Return a JSON object.'"
      ]
     },
     "execution_count": 24,
     "metadata": {},
     "output_type": "execute_result"
    }
   ],
   "source": [
    "output_parser.get_format_instructions()"
   ]
  },
  {
   "cell_type": "markdown",
   "metadata": {},
   "source": [
    "we are using the | syntax to join these components together. This | syntax is powered by the LangChain Expression Language (LCEL) and relies on the universal Runnable interface that all of these objects implement. To learn more about LCEL, read the documentation here.\n",
    "\n",
    "<!-- For this part I just took some info from the langchain official docs: https://python.langchain.com/docs/modules/model_io/quick_start -->"
   ]
  },
  {
   "cell_type": "markdown",
   "metadata": {},
   "source": [
    "The modern LCEL interface version:"
   ]
  },
  {
   "cell_type": "code",
   "execution_count": 26,
   "metadata": {},
   "outputs": [
    {
     "data": {
      "text/plain": [
       "['1. Snoozy', '2. Dozer', '3. Napper', '4. Snuggles', '5. Dreamer.']"
      ]
     },
     "execution_count": 26,
     "metadata": {},
     "output_type": "execute_result"
    }
   ],
   "source": [
    "from langchain_core.output_parsers import CommaSeparatedListOutputParser\n",
    "template = \"\"\"What would be 5 good names for the animal: {animal} that is {adjective}?\n",
    "The output should be just one sentence separated by commas.\"\"\"\n",
    "\n",
    "chat_prompt = ChatPromptTemplate.from_template(template)\n",
    "\n",
    "chain = chat_prompt | ChatOpenAI() | CommaSeparatedListOutputParser()\n",
    "\n",
    "chain.invoke({\"animal\":\"dogs\", \"adjective\": \"sleepy\"})"
   ]
  },
  {
   "cell_type": "markdown",
   "metadata": {},
   "source": [
    "This chain will take input variables, pass those to a prompt template to create a prompt, pass the prompt to an LLM, and then pass the output through an output parser."
   ]
  },
  {
   "cell_type": "markdown",
   "metadata": {},
   "source": [
    "Ok, so these are the basics of langchain. But how can we leverage these abstraction capabilities inside our LLM app application?"
   ]
  },
  {
   "cell_type": "markdown",
   "metadata": {},
   "source": [
    "One of the best applications of langchain is for the \"chat with your data\"-types of applications, where the user uploads a document like a pdf or a .txt file, and is able to query that document using langchain powered by an LLM like ChatGPT. "
   ]
  },
  {
   "cell_type": "markdown",
   "metadata": {},
   "source": [
    "# LangChain Lab Exercises\n",
    "\n",
    "Let's take a look at a simple example of a simple chain using now only the modern interface."
   ]
  },
  {
   "cell_type": "code",
   "execution_count": 29,
   "metadata": {},
   "outputs": [],
   "source": [
    "from langchain_openai import ChatOpenAI\n",
    "from langchain.prompts import PromptTemplate\n",
    "from langchain.schema.output_parser import StrOutputParser"
   ]
  },
  {
   "cell_type": "code",
   "execution_count": 30,
   "metadata": {},
   "outputs": [],
   "source": [
    "llm = ChatOpenAI(temperature=.7)\n",
    "template = \"\"\"You are a learning assistant. Given a technical subject, write down 5 fundamental concepts to understand it.\n",
    "Subject: {subject}\n",
    "Learning assistant: The 5 fundamental concepts are:\"\"\"\n",
    "subject_prompt = ChatPromptTemplate.from_template(template)"
   ]
  },
  {
   "cell_type": "code",
   "execution_count": 31,
   "metadata": {},
   "outputs": [],
   "source": [
    "# This is an LLMChain to write a review of a play given a synopsis.\n",
    "llm = ChatOpenAI(temperature=.7)\n",
    "template = \"\"\"You are an expert teacher in all technical and scientific fields. Given a list of 5 concepts, write down a simple intuitive explanation of each concept.\n",
    "Concepts:\n",
    "{concepts}\n",
    "Intuitive explanations:\"\"\"\n",
    "concepts_prompt = ChatPromptTemplate.from_template(template)"
   ]
  },
  {
   "cell_type": "code",
   "execution_count": 32,
   "metadata": {},
   "outputs": [
    {
     "data": {
      "text/markdown": [
       "1. Superposition - Quantum particles can be in multiple states at the same time until we observe them and \"collapse\" their state into one definite outcome.\n",
       "\n",
       "2. Wave-particle duality - Quantum particles can act as both waves and particles, showing different behaviors depending on how we measure them.\n",
       "\n",
       "3. Uncertainty principle - We can never precisely know both the position and momentum of a particle at the same time, as the act of measuring one affects the other.\n",
       "\n",
       "4. Quantum entanglement - When two particles become entangled, their properties are linked even if they are far apart, suggesting a mysterious connection that goes beyond conventional physics.\n",
       "\n",
       "5. Quantum tunneling - Quantum particles can \"tunnel\" through obstacles that would be impossible to pass through according to classical physics, showing the strange and fascinating behavior of quantum mechanics."
      ],
      "text/plain": [
       "<IPython.core.display.Markdown object>"
      ]
     },
     "execution_count": 32,
     "metadata": {},
     "output_type": "execute_result"
    }
   ],
   "source": [
    "from IPython.display import Markdown\n",
    "# This is the overall chain where we run these two chains in sequence.\n",
    "learning_overall_chain = (\n",
    "    {\"concepts\": subject_prompt | llm | StrOutputParser() }\n",
    "    | concepts_prompt\n",
    "    | llm\n",
    "    | StrOutputParser()\n",
    "    )\n",
    "\n",
    "output = learning_overall_chain.invoke({\"subject\": \"Quantum Mechanics\"})\n",
    "Markdown(output)"
   ]
  },
  {
   "cell_type": "markdown",
   "metadata": {},
   "source": [
    "Example from KP: Can you write a sample Langchain to do (2+3) * 6. (2+3) is one chain and + 6 is another. chain."
   ]
  },
  {
   "cell_type": "code",
   "execution_count": 33,
   "metadata": {},
   "outputs": [
    {
     "data": {
      "text/plain": [
       "'4'"
      ]
     },
     "execution_count": 33,
     "metadata": {},
     "output_type": "execute_result"
    }
   ],
   "source": [
    "template = \"\"\"\n",
    "You are a mathematical engine. Given a math operation you should output only the result.\n",
    "input: {math_input}\n",
    "output:\n",
    "\"\"\"\n",
    "\n",
    "chat_model = ChatOpenAI(temperature=0)\n",
    "prompt1 = ChatPromptTemplate.from_template(template)\n",
    "output_parser = StrOutputParser()\n",
    "\n",
    "chain_math1 = prompt1 | chat_model | output_parser\n",
    "\n",
    "chain_math1.invoke({\"math_input\": \"2+2\"})"
   ]
  },
  {
   "cell_type": "markdown",
   "metadata": {},
   "source": [
    "# Simple Q&A Example"
   ]
  },
  {
   "cell_type": "code",
   "execution_count": 25,
   "metadata": {},
   "outputs": [],
   "source": [
    "# !pip install docarray\n",
    "from langchain.chains import RetrievalQA\n",
    "from langchain.chat_models import ChatOpenAI\n",
    "from langchain_community.document_loaders.csv_loader import CSVLoader\n",
    "from langchain.vectorstores import Chroma\n",
    "from IPython.display import display, Markdown\n",
    "from langchain.indexes import VectorstoreIndexCreator\n",
    "import pandas as pd"
   ]
  },
  {
   "cell_type": "code",
   "execution_count": 26,
   "metadata": {},
   "outputs": [
    {
     "data": {
      "text/html": [
       "<div>\n",
       "<style scoped>\n",
       "    .dataframe tbody tr th:only-of-type {\n",
       "        vertical-align: middle;\n",
       "    }\n",
       "\n",
       "    .dataframe tbody tr th {\n",
       "        vertical-align: top;\n",
       "    }\n",
       "\n",
       "    .dataframe thead th {\n",
       "        text-align: right;\n",
       "    }\n",
       "</style>\n",
       "<table border=\"1\" class=\"dataframe\">\n",
       "  <thead>\n",
       "    <tr style=\"text-align: right;\">\n",
       "      <th></th>\n",
       "      <th>Superhero Name</th>\n",
       "      <th>Superpower</th>\n",
       "      <th>Power Level</th>\n",
       "      <th>Catchphrase</th>\n",
       "    </tr>\n",
       "  </thead>\n",
       "  <tbody>\n",
       "    <tr>\n",
       "      <th>0</th>\n",
       "      <td>Captain Thunder</td>\n",
       "      <td>Bolt Manipulation</td>\n",
       "      <td>90</td>\n",
       "      <td>Feel the power of the storm!</td>\n",
       "    </tr>\n",
       "    <tr>\n",
       "      <th>1</th>\n",
       "      <td>Silver Falcon</td>\n",
       "      <td>Flight and Agility</td>\n",
       "      <td>85</td>\n",
       "      <td>Soar high, fearlessly!</td>\n",
       "    </tr>\n",
       "    <tr>\n",
       "      <th>2</th>\n",
       "      <td>Mystic Shadow</td>\n",
       "      <td>Invisibility and Illusions</td>\n",
       "      <td>78</td>\n",
       "      <td>Disappear into the darkness!</td>\n",
       "    </tr>\n",
       "    <tr>\n",
       "      <th>3</th>\n",
       "      <td>Blaze Runner</td>\n",
       "      <td>Pyrokinesis</td>\n",
       "      <td>88</td>\n",
       "      <td>Burn bright and fierce!</td>\n",
       "    </tr>\n",
       "    <tr>\n",
       "      <th>4</th>\n",
       "      <td>Electra-Wave</td>\n",
       "      <td>Electric Manipulation</td>\n",
       "      <td>82</td>\n",
       "      <td>Unleash the electric waves!</td>\n",
       "    </tr>\n",
       "  </tbody>\n",
       "</table>\n",
       "</div>"
      ],
      "text/plain": [
       "    Superhero Name                  Superpower  Power Level  \\\n",
       "0  Captain Thunder           Bolt Manipulation           90   \n",
       "1    Silver Falcon          Flight and Agility           85   \n",
       "2    Mystic Shadow  Invisibility and Illusions           78   \n",
       "3     Blaze Runner                 Pyrokinesis           88   \n",
       "4     Electra-Wave       Electric Manipulation           82   \n",
       "\n",
       "                    Catchphrase  \n",
       "0  Feel the power of the storm!  \n",
       "1        Soar high, fearlessly!  \n",
       "2  Disappear into the darkness!  \n",
       "3       Burn bright and fierce!  \n",
       "4   Unleash the electric waves!  "
      ]
     },
     "execution_count": 26,
     "metadata": {},
     "output_type": "execute_result"
    }
   ],
   "source": [
    "df = pd.read_csv(\"./superheroes.csv\")\n",
    "df.head()"
   ]
  },
  {
   "cell_type": "code",
   "execution_count": 27,
   "metadata": {},
   "outputs": [],
   "source": [
    "file = 'superheroes.csv'\n",
    "loader = CSVLoader(file_path=file)"
   ]
  },
  {
   "cell_type": "code",
   "execution_count": 28,
   "metadata": {},
   "outputs": [
    {
     "data": {
      "text/plain": [
       "<langchain_community.document_loaders.csv_loader.CSVLoader at 0x16ffcbfd0>"
      ]
     },
     "execution_count": 28,
     "metadata": {},
     "output_type": "execute_result"
    }
   ],
   "source": [
    "loader"
   ]
  },
  {
   "cell_type": "code",
   "execution_count": null,
   "metadata": {},
   "outputs": [],
   "source": []
  },
  {
   "cell_type": "code",
   "execution_count": 29,
   "metadata": {},
   "outputs": [
    {
     "data": {
      "text/plain": [
       "[Document(page_content='Superhero Name: Captain Thunder\\nSuperpower: Bolt Manipulation\\nPower Level: 90\\nCatchphrase: Feel the power of the storm!', metadata={'source': 'superheroes.csv', 'row': 0}),\n",
       " Document(page_content='Superhero Name: Silver Falcon\\nSuperpower: Flight and Agility\\nPower Level: 85\\nCatchphrase: Soar high, fearlessly!', metadata={'source': 'superheroes.csv', 'row': 1}),\n",
       " Document(page_content='Superhero Name: Mystic Shadow\\nSuperpower: Invisibility and Illusions\\nPower Level: 78\\nCatchphrase: Disappear into the darkness!', metadata={'source': 'superheroes.csv', 'row': 2}),\n",
       " Document(page_content='Superhero Name: Blaze Runner\\nSuperpower: Pyrokinesis\\nPower Level: 88\\nCatchphrase: Burn bright and fierce!', metadata={'source': 'superheroes.csv', 'row': 3}),\n",
       " Document(page_content='Superhero Name: Electra-Wave\\nSuperpower: Electric Manipulation\\nPower Level: 82\\nCatchphrase: Unleash the electric waves!', metadata={'source': 'superheroes.csv', 'row': 4}),\n",
       " Document(page_content='Superhero Name: Crimson Cyclone\\nSuperpower: Super Speed\\nPower Level: 91\\nCatchphrase: Blazing fast and unstoppable!', metadata={'source': 'superheroes.csv', 'row': 5}),\n",
       " Document(page_content='Superhero Name: Aqua Fury\\nSuperpower: Hydrokinesis\\nPower Level: 80\\nCatchphrase: Ride the waves of power!', metadata={'source': 'superheroes.csv', 'row': 6}),\n",
       " Document(page_content=\"Superhero Name: Lunar Guardian\\nSuperpower: Lunar Manipulation\\nPower Level: 77\\nCatchphrase: Embrace the moon's might!\", metadata={'source': 'superheroes.csv', 'row': 7}),\n",
       " Document(page_content='Superhero Name: Steel Titan\\nSuperpower: Super Strength and Durability\\nPower Level: 95\\nCatchphrase: Indestructible force of nature!', metadata={'source': 'superheroes.csv', 'row': 8}),\n",
       " Document(page_content='Superhero Name: Nightblade\\nSuperpower: Night Vision and Stealth\\nPower Level: 84\\nCatchphrase: Strike from the shadows!', metadata={'source': 'superheroes.csv', 'row': 9}),\n",
       " Document(page_content='Superhero Name: Frostbite\\nSuperpower: Ice Manipulation\\nPower Level: 87\\nCatchphrase: Chill your bones!', metadata={'source': 'superheroes.csv', 'row': 10}),\n",
       " Document(page_content='Superhero Name: Starburst\\nSuperpower: Energy Projection\\nPower Level: 83\\nCatchphrase: Ignite the cosmos!', metadata={'source': 'superheroes.csv', 'row': 11}),\n",
       " Document(page_content='Superhero Name: Sonic Dash\\nSuperpower: Sound Manipulation\\nPower Level: 86\\nCatchphrase: Hear the sound of victory!', metadata={'source': 'superheroes.csv', 'row': 12}),\n",
       " Document(page_content='Superhero Name: Nova Surge\\nSuperpower: Energy Absorption and Redirection\\nPower Level: 89\\nCatchphrase: Harness the energy within!', metadata={'source': 'superheroes.csv', 'row': 13}),\n",
       " Document(page_content='Superhero Name: Shadowcat\\nSuperpower: Intangibility\\nPower Level: 76\\nCatchphrase: Phase through the impossible!', metadata={'source': 'superheroes.csv', 'row': 14}),\n",
       " Document(page_content='Superhero Name: Neon Spark\\nSuperpower: Light Manipulation\\nPower Level: 79\\nCatchphrase: Glow and dazzle!', metadata={'source': 'superheroes.csv', 'row': 15}),\n",
       " Document(page_content='Superhero Name: Phoenix Flame\\nSuperpower: Resurrection and Healing\\nPower Level: 94\\nCatchphrase: Rise from the ashes!', metadata={'source': 'superheroes.csv', 'row': 16}),\n",
       " Document(page_content='Superhero Name: Crystal Guardian\\nSuperpower: Crystallokinesis\\nPower Level: 81\\nCatchphrase: Shatter your illusions!', metadata={'source': 'superheroes.csv', 'row': 17}),\n",
       " Document(page_content='Superhero Name: Earthshaker\\nSuperpower: Geokinesis\\nPower Level: 92\\nCatchphrase: Feel the earth tremble beneath you!', metadata={'source': 'superheroes.csv', 'row': 18}),\n",
       " Document(page_content='Superhero Name: Silver Seraph\\nSuperpower: Telekinesis\\nPower Level: 85\\nCatchphrase: Move objects with your mind!', metadata={'source': 'superheroes.csv', 'row': 19}),\n",
       " Document(page_content=\"Superhero Name: Stormbringer\\nSuperpower: Weather Manipulation\\nPower Level: 93\\nCatchphrase: Unleash the storm's fury!\", metadata={'source': 'superheroes.csv', 'row': 20}),\n",
       " Document(page_content='Superhero Name: Scarlet Siren\\nSuperpower: Mind Control\\nPower Level: 88\\nCatchphrase: Obey my commands!', metadata={'source': 'superheroes.csv', 'row': 21}),\n",
       " Document(page_content='Superhero Name: Rift Walker\\nSuperpower: Dimensional Travel\\nPower Level: 90\\nCatchphrase: Step between worlds!', metadata={'source': 'superheroes.csv', 'row': 22}),\n",
       " Document(page_content=\"Superhero Name: Chrono-Wizard\\nSuperpower: Time Manipulation\\nPower Level: 91\\nCatchphrase: Master of time's flow!\", metadata={'source': 'superheroes.csv', 'row': 23}),\n",
       " Document(page_content='Superhero Name: Blazing Comet\\nSuperpower: Fireball Projection\\nPower Level: 82\\nCatchphrase: Burn brighter than a comet!', metadata={'source': 'superheroes.csv', 'row': 24}),\n",
       " Document(page_content='Superhero Name: Phantom Wisp\\nSuperpower: Invisibility\\nPower Level: 75\\nCatchphrase: Disappear like a wisp in the wind!', metadata={'source': 'superheroes.csv', 'row': 25}),\n",
       " Document(page_content='Superhero Name: Luminous Knight\\nSuperpower: Luminokinesis\\nPower Level: 78\\nCatchphrase: Illuminate the darkest night!', metadata={'source': 'superheroes.csv', 'row': 26}),\n",
       " Document(page_content='Superhero Name: Gravity Shift\\nSuperpower: Gravity Manipulation\\nPower Level: 89\\nCatchphrase: Bend gravity to your will!', metadata={'source': 'superheroes.csv', 'row': 27}),\n",
       " Document(page_content='Superhero Name: Solar Empress\\nSuperpower: Solar Energy Absorption\\nPower Level: 87\\nCatchphrase: Harness the power of the sun!', metadata={'source': 'superheroes.csv', 'row': 28}),\n",
       " Document(page_content='Superhero Name: Twilight Specter\\nSuperpower: Shadow Manipulation\\nPower Level: 80\\nCatchphrase: Dance with shadows!', metadata={'source': 'superheroes.csv', 'row': 29}),\n",
       " Document(page_content='Superhero Name: Thunderstrike\\nSuperpower: Lightning Control\\nPower Level: 91\\nCatchphrase: Electrify the battlefield!', metadata={'source': 'superheroes.csv', 'row': 30}),\n",
       " Document(page_content='Superhero Name: Nebula Weaver\\nSuperpower: Reality Warping\\nPower Level: 96\\nCatchphrase: Shape the fabric of reality!', metadata={'source': 'superheroes.csv', 'row': 31}),\n",
       " Document(page_content='Superhero Name: Frostglide\\nSuperpower: Cryo-Teleportation\\nPower Level: 85\\nCatchphrase: Freeze and glide through space!', metadata={'source': 'superheroes.csv', 'row': 32}),\n",
       " Document(page_content='Superhero Name: Zenith Blaze\\nSuperpower: Heat Vision\\nPower Level: 83\\nCatchphrase: Gaze into the flames of justice!', metadata={'source': 'superheroes.csv', 'row': 33}),\n",
       " Document(page_content='Superhero Name: Astral Drifter\\nSuperpower: Astral Projection\\nPower Level: 79\\nCatchphrase: Roam the astral plane!', metadata={'source': 'superheroes.csv', 'row': 34}),\n",
       " Document(page_content='Superhero Name: Blade Dancer\\nSuperpower: Swordsmanship and Agility\\nPower Level: 88\\nCatchphrase: Dance with deadly grace!', metadata={'source': 'superheroes.csv', 'row': 35}),\n",
       " Document(page_content=\"Superhero Name: Azure Tempest\\nSuperpower: Water Manipulation\\nPower Level: 82\\nCatchphrase: Unleash the tempest's rage!\", metadata={'source': 'superheroes.csv', 'row': 36}),\n",
       " Document(page_content='Superhero Name: Ghost Sentinel\\nSuperpower: Intangibility and Invisibility\\nPower Level: 76\\nCatchphrase: Haunt your nightmares!', metadata={'source': 'superheroes.csv', 'row': 37}),\n",
       " Document(page_content='Superhero Name: Ember Fox\\nSuperpower: Pyrokinetic Fox Shapeshifter\\nPower Level: 89\\nCatchphrase: Outfox your enemies with fire!', metadata={'source': 'superheroes.csv', 'row': 38}),\n",
       " Document(page_content='Superhero Name: Psy-Bender\\nSuperpower: Telepathy\\nPower Level: 84\\nCatchphrase: Read minds like an open book!', metadata={'source': 'superheroes.csv', 'row': 39}),\n",
       " Document(page_content='Superhero Name: Celestial Sphinx\\nSuperpower: Cosmic Awareness\\nPower Level: 93\\nCatchphrase: Unravel the secrets of the universe!', metadata={'source': 'superheroes.csv', 'row': 40}),\n",
       " Document(page_content=\"Superhero Name: Dragonfist\\nSuperpower: Dragon Summoning and Martial Arts\\nPower Level: 92\\nCatchphrase: Unleash the dragon's fury!\", metadata={'source': 'superheroes.csv', 'row': 41}),\n",
       " Document(page_content='Superhero Name: Solar Flare\\nSuperpower: Solar Energy Projection\\nPower Level: 85\\nCatchphrase: Feel the burning light!', metadata={'source': 'superheroes.csv', 'row': 42}),\n",
       " Document(page_content='Superhero Name: Night Lotus\\nSuperpower: Darkness Manipulation\\nPower Level: 78\\nCatchphrase: Bloom in the shadows!', metadata={'source': 'superheroes.csv', 'row': 43}),\n",
       " Document(page_content='Superhero Name: Quantum Strider\\nSuperpower: Quantum Manipulation\\nPower Level: 90\\nCatchphrase: Walk the edge of reality!', metadata={'source': 'superheroes.csv', 'row': 44}),\n",
       " Document(page_content='Superhero Name: Ironclad\\nSuperpower: Invulnerability and Enhanced Strength\\nPower Level: 95\\nCatchphrase: Invincible and mighty!', metadata={'source': 'superheroes.csv', 'row': 45}),\n",
       " Document(page_content='Superhero Name: Shadow Stalker\\nSuperpower: Shadow Shifting\\nPower Level: 81\\nCatchphrase: Disappear and reappear at will!', metadata={'source': 'superheroes.csv', 'row': 46}),\n",
       " Document(page_content=\"Superhero Name: Aqua Archer\\nSuperpower: Water Arrow Projection\\nPower Level: 80\\nCatchphrase: Shoot through water's flow!\", metadata={'source': 'superheroes.csv', 'row': 47}),\n",
       " Document(page_content='Superhero Name: Crystal Gazer\\nSuperpower: Crystal Ball Scrying\\nPower Level: 77\\nCatchphrase: See what the future holds!', metadata={'source': 'superheroes.csv', 'row': 48})]"
      ]
     },
     "execution_count": 29,
     "metadata": {},
     "output_type": "execute_result"
    }
   ],
   "source": [
    "documents = loader.load()\n",
    "\n",
    "documents"
   ]
  },
  {
   "cell_type": "markdown",
   "metadata": {},
   "source": [
    "Now, let's set up our Vector store (we'll talk about what that is in a second):"
   ]
  },
  {
   "cell_type": "code",
   "execution_count": 30,
   "metadata": {},
   "outputs": [],
   "source": [
    "from langchain_openai import OpenAIEmbeddings\n",
    "\n",
    "embeddings = OpenAIEmbeddings()"
   ]
  },
  {
   "cell_type": "code",
   "execution_count": 31,
   "metadata": {},
   "outputs": [],
   "source": [
    "from langchain_community.vectorstores import FAISS\n",
    "\n",
    "db = FAISS.from_documents(documents, embeddings)"
   ]
  },
  {
   "cell_type": "code",
   "execution_count": 32,
   "metadata": {},
   "outputs": [],
   "source": [
    "retriever = db.as_retriever()"
   ]
  },
  {
   "cell_type": "code",
   "execution_count": 33,
   "metadata": {},
   "outputs": [],
   "source": [
    "from langchain_core.runnables import RunnableLambda, RunnablePassthrough\n",
    "\n",
    "\n",
    "template = \"\"\"Answer the question based only on the following context:\n",
    "{context}\n",
    "\n",
    "Question: {question}\n",
    "\"\"\"\n",
    "prompt = ChatPromptTemplate.from_template(template)"
   ]
  },
  {
   "cell_type": "code",
   "execution_count": 34,
   "metadata": {},
   "outputs": [],
   "source": [
    "model = ChatOpenAI()\n",
    "\n",
    "chain = (\n",
    "    {\"context\": retriever, \"question\": RunnablePassthrough()}\n",
    "    | prompt\n",
    "    | model\n",
    "    | StrOutputParser()\n",
    ")"
   ]
  },
  {
   "cell_type": "code",
   "execution_count": 35,
   "metadata": {},
   "outputs": [
    {
     "name": "stdout",
     "output_type": "stream",
     "text": [
      "The catchphrase for Captain Thunder is \"Feel the power of the storm!\"\n"
     ]
    }
   ],
   "source": [
    "query = \"Tell me the catch phrase for Captain Thunder\"\n",
    "print(chain.invoke(query))"
   ]
  },
  {
   "cell_type": "markdown",
   "metadata": {},
   "source": [
    "# References\n",
    "- https://python.langchain.com/docs/get_started/introduction.html\n",
    "- https://medium.com/@remitoffoli/a-visual-guide-to-llm-powered-app-architecture-57e47426a92f\n",
    "- [LangChain for LLM App Development short course by coursera](https://learn.deeplearning.ai/langchain/lesson/5/question-and-answer)\n",
    "- [LLM Evaluation](https://learn.deeplearning.ai/langchain/lesson/6/evaluation)\n",
    "[Models, Prompts, parsers, memory and chains from this langchain for](https://learn.deeplearning.ai/langchain/lesson/7/agents)\n",
    "- [Chat With Your Data - Retrieval](https://learn.deeplearning.ai/langchain-chat-with-your-data/lesson/5/retrieval)\n",
    "- [Emebeddings simple definition](https://learn.deeplearning.ai/langchain/lesson/5/question-and-answer)\n",
    "- [Vector DBs - simple definition](https://learn.deeplearning.ai/langchain/lesson/5/question-and-answer)"
   ]
  }
 ],
 "metadata": {
  "kernelspec": {
   "display_name": "oreilly-langchain",
   "language": "python",
   "name": "oreilly-langchain"
  },
  "language_info": {
   "codemirror_mode": {
    "name": "ipython",
    "version": 3
   },
   "file_extension": ".py",
   "mimetype": "text/x-python",
   "name": "python",
   "nbconvert_exporter": "python",
   "pygments_lexer": "ipython3",
   "version": "3.10.13"
  },
  "orig_nbformat": 4
 },
 "nbformat": 4,
 "nbformat_minor": 2
}
