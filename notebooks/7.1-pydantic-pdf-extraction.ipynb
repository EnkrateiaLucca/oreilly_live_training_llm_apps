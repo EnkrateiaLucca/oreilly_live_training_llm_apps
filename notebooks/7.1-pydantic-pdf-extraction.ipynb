{
 "cells": [
  {
   "cell_type": "markdown",
   "metadata": {},
   "source": []
  },
  {
   "cell_type": "code",
   "execution_count": 7,
   "metadata": {},
   "outputs": [],
   "source": [
    "# !pip install openai==0.28.0"
   ]
  },
  {
   "cell_type": "code",
   "execution_count": 2,
   "metadata": {},
   "outputs": [],
   "source": [
    "from pydantic import BaseModel, Field\n",
    "import openai\n",
    "import os\n",
    "from langchain.utils.openai_functions import convert_pydantic_to_openai_function\n",
    "from langchain.chat_models import ChatOpenAI\n",
    "\n",
    "class InvoiceData(BaseModel):\n",
    "    \"\"\"Call this function to extract invoice data with specific output structure\"\"\"\n",
    "    invoice_number: str = Field(..., description=\"The invoice number extracted from the PDF\")\n",
    "    vat_registration_number: str = Field(..., description=\"The VAT registration number extracted from the PDF\")\n",
    "\n",
    "fake_invoice_data = \"\"\"\n",
    "Invoice Summary\n",
    "==============\n",
    "Invoice No: INV-123456\n",
    "Date: 2024-02-11\n",
    "Billing To: ACME Corporation\n",
    "Address: 123 Business Rd, Business City, BC1234\n",
    "\n",
    "Product Description       Quantity    Unit Price    Total\n",
    "-----------------------------------------------------------\n",
    "Widget A                  10          $15.00        $150.00\n",
    "Gadget B                  5           $20.00        $100.00\n",
    "\n",
    "Subtotal:                                          $250.00\n",
    "Tax (10%):                                          $25.00\n",
    "Total:                                             $275.00\n",
    "\n",
    "VAT Registration Number: VAT-7890123\n",
    "\n",
    "Thank you for your business!\n",
    "\n",
    "\"\"\"\n",
    "\n",
    "\n",
    "invoice_extractor = convert_pydantic_to_openai_function(InvoiceData)\n",
    "\n",
    "\n",
    "llm_chat = ChatOpenAI()\n",
    "\n",
    "output_invoice = llm_chat.invoke(f\"Invoice: {fake_invoice_data}. Extracted data:\\n\",functions=[invoice_extractor])"
   ]
  },
  {
   "cell_type": "code",
   "execution_count": 6,
   "metadata": {},
   "outputs": [
    {
     "data": {
      "text/plain": [
       "{'arguments': '{\"invoice_number\":\"INV-123456\",\"vat_registration_number\":\"VAT-7890123\"}',\n",
       " 'name': 'InvoiceData'}"
      ]
     },
     "execution_count": 6,
     "metadata": {},
     "output_type": "execute_result"
    }
   ],
   "source": [
    "output_invoice.additional_kwargs[\"function_call\"]"
   ]
  },
  {
   "cell_type": "code",
   "execution_count": null,
   "metadata": {},
   "outputs": [],
   "source": []
  },
  {
   "cell_type": "code",
   "execution_count": 1,
   "metadata": {},
   "outputs": [],
   "source": []
  },
  {
   "cell_type": "code",
   "execution_count": 7,
   "metadata": {},
   "outputs": [],
   "source": []
  },
  {
   "cell_type": "code",
   "execution_count": 11,
   "metadata": {},
   "outputs": [
    {
     "data": {
      "text/plain": [
       "AIMessage(content='', additional_kwargs={'function_call': {'name': 'InvoiceData', 'arguments': '{\\n  \"invoice_number\": \"INV-123456\",\\n  \"vat_registration_number\": \"VAT-7890123\"\\n}'}})"
      ]
     },
     "execution_count": 11,
     "metadata": {},
     "output_type": "execute_result"
    }
   ],
   "source": []
  },
  {
   "cell_type": "code",
   "execution_count": null,
   "metadata": {},
   "outputs": [],
   "source": []
  },
  {
   "cell_type": "code",
   "execution_count": null,
   "metadata": {},
   "outputs": [],
   "source": []
  }
 ],
 "metadata": {
  "kernelspec": {
   "display_name": "oreilly-env",
   "language": "python",
   "name": "oreilly-env"
  },
  "language_info": {
   "codemirror_mode": {
    "name": "ipython",
    "version": 3
   },
   "file_extension": ".py",
   "mimetype": "text/x-python",
   "name": "python",
   "nbconvert_exporter": "python",
   "pygments_lexer": "ipython3",
   "version": "3.11.8"
  }
 },
 "nbformat": 4,
 "nbformat_minor": 2
}
