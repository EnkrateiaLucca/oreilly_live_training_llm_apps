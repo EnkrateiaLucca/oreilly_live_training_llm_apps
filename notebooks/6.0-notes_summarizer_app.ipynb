{
 "cells": [
  {
   "cell_type": "code",
   "execution_count": null,
   "metadata": {},
   "outputs": [],
   "source": [
    "!pip install openai\n",
    "!pip install langchain\n",
    "!pip install langchain_community\n",
    "!pip install langchain_openai\n",
    "!pip install python-dotenv"
   ]
  },
  {
   "cell_type": "code",
   "execution_count": null,
   "metadata": {},
   "outputs": [],
   "source": [
    "import os\n",
    "from dotenv import load_dotenv\n",
    "from openai import OpenAI\n",
    "\n",
    "# loading from a .env file\n",
    "# load_dotenv(dotenv_path=\"/full/path/to/your/.env\")\n",
    "\n",
    "# or \n",
    "# if you're on google colab just uncomment below and replace with your openai api key\n",
    "# os.environ[\"OPENAI_API_KEY\"] = \"<your-openai-api-key>\""
   ]
  },
  {
   "cell_type": "markdown",
   "metadata": {},
   "source": [
    "# Notes Summarizer App"
   ]
  },
  {
   "cell_type": "code",
   "execution_count": 7,
   "metadata": {},
   "outputs": [
    {
     "data": {
      "text/plain": [
       "'In his essay \"Reinventing Explanation,\" Michael Nielsen discusses the potential of non-traditional media as a means to create deeper explanations of scientific ideas. He emphasizes the importance of understanding the potential of these media for serious explanations, rather than just popularization or education. Nielsen believes that non-traditional media can offer opportunities for explanations that are deeper than conventional verbal and symbolic explanations. He also explores the design of a tool for explaining scientific ideas using non-traditional media. Additionally, he touches on the concept of optimization and the goal of finding a set of weights that minimizes the loss function.'"
      ]
     },
     "execution_count": 7,
     "metadata": {},
     "output_type": "execute_result"
    }
   ],
   "source": [
    "from openai import OpenAI\n",
    "\n",
    "def get_response(prompt):\n",
    "    client = OpenAI()\n",
    "    response = client.chat.completions.create(model=\"gpt-3.5-turbo-1106\", \n",
    "                             messages=\n",
    "                             [\n",
    "                                 {\"role\": \"system\", \"content\": \"You are a helpful research assistant.\"},\n",
    "                                 {\"role\": \"user\", \"content\": prompt}   \n",
    "                             ],\n",
    "                             temperature=0.0,\n",
    "                             n = 1\n",
    "                             )\n",
    "    return response.choices[0].message.content\n",
    "\n",
    "notes_path = \"./Reinventing-explanation.txt\"\n",
    "with open(notes_path, \"r\") as f:\n",
    "    text = f.read()\n",
    "\n",
    "get_response(f\"Summarize this text: {text}\")"
   ]
  },
  {
   "cell_type": "markdown",
   "metadata": {},
   "source": [
    "Ok , great we can get a basic summary easy using just ChatGPT, but how about if we want to be able to specify different types of summaries? \n",
    "What if the contents we want to summarize are bigger than the context length of our model?\n",
    "\n",
    "Let's address these issues by using langchain for summarization."
   ]
  },
  {
   "cell_type": "code",
   "execution_count": 8,
   "metadata": {},
   "outputs": [],
   "source": [
    "from langchain.prompts import ChatPromptTemplate\n",
    "from langchain_openai import ChatOpenAI\n",
    "from langchain.chains.summarize import load_summarize_chain\n",
    "from langchain_community.document_loaders import TextLoader\n",
    "from IPython.display import Markdown, display"
   ]
  },
  {
   "cell_type": "markdown",
   "metadata": {},
   "source": [
    "With langchain, summarization is as simple as this:"
   ]
  },
  {
   "cell_type": "code",
   "execution_count": 9,
   "metadata": {},
   "outputs": [
    {
     "data": {
      "text/plain": [
       "\"Michael Nielsen discusses the potential of non-traditional media for creating deeper explanations of scientific ideas, focusing on the design of media to explain scientific concepts. He emphasizes the importance of developing a vocabulary for digital explanation and using prototypes to make progress in this area. Nielsen also touches on the concept of Simpson's paradox and optimization in the context of understanding and manipulating mathematical objects through innovative mediums.\""
      ]
     },
     "execution_count": 9,
     "metadata": {},
     "output_type": "execute_result"
    }
   ],
   "source": [
    "docs = TextLoader(notes_path).load()\n",
    "llm = ChatOpenAI()\n",
    "chain = load_summarize_chain(llm, chain_type=\"stuff\") #stuff means everything goes inside the model's prompt\n",
    "chain.run(docs)"
   ]
  },
  {
   "cell_type": "markdown",
   "metadata": {},
   "source": [
    "But as always, we would like to go beyond, why not set up a prompt template to allow for some customization of the summaries?"
   ]
  },
  {
   "cell_type": "code",
   "execution_count": 10,
   "metadata": {},
   "outputs": [
    {
     "data": {
      "text/markdown": [
       "- Michael Nielsen explores the use of non-traditional media as a way to provide deeper explanations of scientific ideas.\n",
       "- He emphasizes the importance of understanding the potential of non-traditional media for serious explanations, rather than just for popularization or education.\n",
       "- Nielsen focuses on the design of media to explain scientific ideas in a more comprehensive way.\n",
       "- He mentions the lack of a basic vocabulary of digital explanation and suggests constructing prototypes to learn from them.\n",
       "- Nielsen discusses the concept of Simpson's paradox and optimization in the context of explaining scientific ideas using non-traditional media."
      ],
      "text/plain": [
       "<IPython.core.display.Markdown object>"
      ]
     },
     "execution_count": 10,
     "metadata": {},
     "output_type": "execute_result"
    }
   ],
   "source": [
    "prompt_template = \"\"\"Write a concise summary of the following text:\n",
    "\n",
    "{text}\n",
    "\n",
    "The summary should be in this style: {style}.\n",
    "Let's think step by step.\n",
    "\n",
    "SUMMARY:\n",
    "\"\"\"\n",
    "\n",
    "prompt_summarization = ChatPromptTemplate.from_template(prompt_template)\n",
    "chain = load_summarize_chain(llm, chain_type=\"stuff\", prompt=prompt_summarization)\n",
    "summary = chain.run({\"input_documents\": docs, \"style\": \"bullet points\"})\n",
    "Markdown(summary)"
   ]
  },
  {
   "cell_type": "markdown",
   "metadata": {},
   "source": [
    "Ok, let's wrap this into a streamlit app to allow for a nice looking user interface."
   ]
  },
  {
   "cell_type": "markdown",
   "metadata": {},
   "source": [
    "[Notes summarize example](https://platform.openai.com/examples/default-meeting-notes-summarizer)"
   ]
  }
 ],
 "metadata": {
  "kernelspec": {
   "display_name": "oreilly-langchain",
   "language": "python",
   "name": "oreilly-langchain"
  },
  "language_info": {
   "codemirror_mode": {
    "name": "ipython",
    "version": 3
   },
   "file_extension": ".py",
   "mimetype": "text/x-python",
   "name": "python",
   "nbconvert_exporter": "python",
   "pygments_lexer": "ipython3",
   "version": "3.10.13"
  },
  "orig_nbformat": 4
 },
 "nbformat": 4,
 "nbformat_minor": 2
}
