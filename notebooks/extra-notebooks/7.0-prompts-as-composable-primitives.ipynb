{
 "cells": [
  {
   "cell_type": "markdown",
   "metadata": {},
   "source": [
    "# Examples of using Prompts as Composable Primitives\n",
    "\n",
    "In this notebook we'll go through examples of leveraging prompts as primitives for learning environments."
   ]
  },
  {
   "cell_type": "code",
   "execution_count": null,
   "metadata": {},
   "outputs": [],
   "source": [
    "!pip install ipywidgets\n",
    "!pip install matplotlib-inline\n",
    "!pip install openai\n",
    "!pip install openai\n",
    "!pip install langchain\n",
    "!pip install langchain_community\n",
    "!pip install langchain_openai\n",
    "!pip install langchainhub\n",
    "!pip install chromadb\n",
    "!pip install pypdf\n",
    "!pip install tiktoken\n",
    "!pip install pydantic\n",
    "!pip install graphviz # might not work on google colab\n",
    "!pip install python-dotenv"
   ]
  },
  {
   "cell_type": "code",
   "execution_count": 3,
   "metadata": {},
   "outputs": [],
   "source": [
    "%load_ext autoreload\n",
    "%autoreload 2"
   ]
  },
  {
   "cell_type": "code",
   "execution_count": null,
   "metadata": {},
   "outputs": [],
   "source": [
    "import os\n",
    "from dotenv import load_dotenv\n",
    "from openai import OpenAI\n",
    "\n",
    "# loading from a .env file\n",
    "# load_dotenv(dotenv_path=\"/full/path/to/your/.env\")\n",
    "\n",
    "# or \n",
    "# if you're on google colab just uncomment below and replace with your openai api key\n",
    "# os.environ[\"OPENAI_API_KEY\"] = \"<your-openai-api-key>\""
   ]
  },
  {
   "cell_type": "markdown",
   "metadata": {},
   "source": [
    "## Example 1 - Knowledge Graph Primitive\n",
    "\n",
    "This example, taken from Jason Liu's talk: \"Pydantic is all you need\" shows how creating a knowledge graph can be as simple as a prompt coupled with some simple classes to handle construction of the graph plus some validation checks. "
   ]
  },
  {
   "cell_type": "code",
   "execution_count": 1,
   "metadata": {},
   "outputs": [],
   "source": [
    "# from pydantic import BaseModel, Field\n",
    "from langchain.pydantic_v1 import BaseModel, Field\n",
    "from typing import List\n",
    "from graphviz import Digraph\n",
    "import argparse\n",
    "from langchain.output_parsers import PydanticOutputParser\n",
    "import graphviz\n",
    "from IPython.display import display\n",
    "\n",
    "class Node(BaseModel):\n",
    "    id: int\n",
    "    label: str\n",
    "    color: str\n",
    "\n",
    "class Edge(BaseModel):\n",
    "    source: int\n",
    "    target: int\n",
    "    label: str\n",
    "    color: str = \"black\"\n",
    "\n",
    "class KnowledgeGraph(BaseModel):\n",
    "    \"\"\"A knowledge graph is a graph that represents knowledge as a set of entities and relations between them.\"\"\"\n",
    "    nodes: List[Node] = Field(..., description=\"A list of nodes in the knowledge graph\")\n",
    "    edges: List[Edge] = Field(..., description=\"A list of edges in the knowledge graph\")\n",
    "\n",
    "\n",
    "def visualize_knowledge_graph(kg: KnowledgeGraph):\n",
    "    dot = Digraph(comment=\"Knowledge Graph\")\n",
    "\n",
    "    # Add nodes\n",
    "    for node in kg.nodes:\n",
    "        dot.node(str(node.id), node.label, color=node.color)\n",
    "\n",
    "    # Add edges\n",
    "    for edge in kg.edges:\n",
    "        dot.edge(str(edge.source), str(edge.target), label=edge.label, color=edge.color)\n",
    "\n",
    "    # Render the graph\n",
    "    display(graphviz.Source(dot.source))"
   ]
  },
  {
   "cell_type": "markdown",
   "metadata": {},
   "source": [
    "Now, let's modify the `chain_diagram()` function to output a schema that's appropriate for generating a knowledge graph."
   ]
  },
  {
   "cell_type": "code",
   "execution_count": 8,
   "metadata": {},
   "outputs": [
    {
     "data": {
      "text/plain": [
       "AIMessage(content='', additional_kwargs={'function_call': {'arguments': '{\"nodes\":[{\"id\":1,\"label\":\"Transformer architecture\",\"color\":\"#FF5733\"},{\"id\":2,\"label\":\"Neural Networks\",\"color\":\"#33FF57\"},{\"id\":3,\"label\":\"Attention Mechanism\",\"color\":\"#3393FF\"},{\"id\":4,\"label\":\"Encoder\",\"color\":\"#FF33E6\"},{\"id\":5,\"label\":\"Decoder\",\"color\":\"#33E6FF\"}],\"edges\":[{\"source\":1,\"target\":2,\"label\":\"is a part of\"},{\"source\":1,\"target\":3,\"label\":\"utilizes\"},{\"source\":1,\"target\":4,\"label\":\"consists of\"},{\"source\":1,\"target\":5,\"label\":\"consists of\"}]}', 'name': 'KnowledgeGraph'}})"
      ]
     },
     "execution_count": 8,
     "metadata": {},
     "output_type": "execute_result"
    }
   ],
   "source": [
    "from langchain_openai import ChatOpenAI\n",
    "from langchain.prompts import ChatPromptTemplate\n",
    "from langchain.utils.openai_functions import convert_pydantic_to_openai_function\n",
    "openai_function_knowledge_graph = convert_pydantic_to_openai_function(KnowledgeGraph)\n",
    "\n",
    "def chain_diagram(llm):\n",
    "    return ChatPromptTemplate.from_template(\"Write a knowledge graph with the necessary concepts and elements to understand the following concept: '''{concept}''', this diagram should perfectly encapsulate\\\n",
    "        what it is and what it relates to.\") | llm\n",
    "\n",
    "llm_chat = ChatOpenAI()    \n",
    "llm_with_tools = llm_chat.bind(functions=[openai_function_knowledge_graph])\n",
    "\n",
    "chain = chain_diagram(llm_with_tools)\n",
    "concept = \"Transformer architecture in neural networks\"\n",
    "\n",
    "output_graph = chain.invoke({\"concept\": concept})\n",
    "output_graph"
   ]
  },
  {
   "cell_type": "markdown",
   "metadata": {},
   "source": [
    "Ok, so we are getting the right output, which we can access like this:"
   ]
  },
  {
   "cell_type": "code",
   "execution_count": 9,
   "metadata": {},
   "outputs": [
    {
     "data": {
      "text/plain": [
       "'{\"nodes\":[{\"id\":1,\"label\":\"Transformer architecture\",\"color\":\"#FF5733\"},{\"id\":2,\"label\":\"Neural Networks\",\"color\":\"#33FF57\"},{\"id\":3,\"label\":\"Attention Mechanism\",\"color\":\"#3393FF\"},{\"id\":4,\"label\":\"Encoder\",\"color\":\"#FF33E6\"},{\"id\":5,\"label\":\"Decoder\",\"color\":\"#33E6FF\"}],\"edges\":[{\"source\":1,\"target\":2,\"label\":\"is a part of\"},{\"source\":1,\"target\":3,\"label\":\"utilizes\"},{\"source\":1,\"target\":4,\"label\":\"consists of\"},{\"source\":1,\"target\":5,\"label\":\"consists of\"}]}'"
      ]
     },
     "execution_count": 9,
     "metadata": {},
     "output_type": "execute_result"
    }
   ],
   "source": [
    "output_graph.additional_kwargs[\"function_call\"][\"arguments\"]"
   ]
  },
  {
   "cell_type": "markdown",
   "metadata": {},
   "source": [
    "But we want this output to be perfectly tailored for a function that visualizes the graph, so let's do that. "
   ]
  },
  {
   "cell_type": "code",
   "execution_count": 10,
   "metadata": {},
   "outputs": [
    {
     "data": {
      "text/plain": [
       "'{\"nodes\":[{\"id\":1,\"label\":\"Transformer architecture\",\"color\":\"#FF5733\"},{\"id\":2,\"label\":\"Neural Networks\",\"color\":\"#33FF57\"},{\"id\":3,\"label\":\"Attention Mechanism\",\"color\":\"#3393FF\"},{\"id\":4,\"label\":\"Encoder\",\"color\":\"#FF33E6\"},{\"id\":5,\"label\":\"Decoder\",\"color\":\"#33E6FF\"}],\"edges\":[{\"source\":1,\"target\":2,\"label\":\"is a part of\"},{\"source\":1,\"target\":3,\"label\":\"utilizes\"},{\"source\":1,\"target\":4,\"label\":\"consists of\"},{\"source\":1,\"target\":5,\"label\":\"consists of\"}]}'"
      ]
     },
     "execution_count": 10,
     "metadata": {},
     "output_type": "execute_result"
    }
   ],
   "source": [
    "from langchain.output_parsers import PydanticOutputParser\n",
    "\n",
    "pydantic_output_parser = PydanticOutputParser(pydantic_object=KnowledgeGraph)\n",
    "\n",
    "output_graph_json_dict = output_graph.additional_kwargs[\"function_call\"][\"arguments\"]\n",
    "output_graph_json_dict "
   ]
  },
  {
   "cell_type": "code",
   "execution_count": 11,
   "metadata": {},
   "outputs": [
    {
     "data": {
      "text/plain": [
       "KnowledgeGraph(nodes=[Node(id=1, label='Transformer architecture', color='#FF5733'), Node(id=2, label='Neural Networks', color='#33FF57'), Node(id=3, label='Attention Mechanism', color='#3393FF'), Node(id=4, label='Encoder', color='#FF33E6'), Node(id=5, label='Decoder', color='#33E6FF')], edges=[Edge(source=1, target=2, label='is a part of', color='black'), Edge(source=1, target=3, label='utilizes', color='black'), Edge(source=1, target=4, label='consists of', color='black'), Edge(source=1, target=5, label='consists of', color='black')])"
      ]
     },
     "execution_count": 11,
     "metadata": {},
     "output_type": "execute_result"
    }
   ],
   "source": [
    "pydantic_output_parser.parse(output_graph_json_dict)"
   ]
  },
  {
   "cell_type": "markdown",
   "metadata": {},
   "source": [
    "Yay! As you can see above, the output of parsing with the pydantic_output_parser is the `KnowledgeGraph` object, which we can feed into the \n",
    "`visualize_graph` function to get the final output."
   ]
  },
  {
   "cell_type": "code",
   "execution_count": 12,
   "metadata": {},
   "outputs": [
    {
     "data": {
      "image/svg+xml": [
       "<?xml version=\"1.0\" encoding=\"UTF-8\" standalone=\"no\"?>\n",
       "<!DOCTYPE svg PUBLIC \"-//W3C//DTD SVG 1.1//EN\"\n",
       " \"http://www.w3.org/Graphics/SVG/1.1/DTD/svg11.dtd\">\n",
       "<!-- Generated by graphviz version 9.0.0 (20230911.1827)\n",
       " -->\n",
       "<!-- Pages: 1 -->\n",
       "<svg width=\"564pt\" height=\"133pt\"\n",
       " viewBox=\"0.00 0.00 563.52 132.50\" xmlns=\"http://www.w3.org/2000/svg\" xmlns:xlink=\"http://www.w3.org/1999/xlink\">\n",
       "<g id=\"graph0\" class=\"graph\" transform=\"scale(1 1) rotate(0) translate(4 128.5)\">\n",
       "<polygon fill=\"white\" stroke=\"none\" points=\"-4,4 -4,-128.5 559.52,-128.5 559.52,4 -4,4\"/>\n",
       "<!-- 1 -->\n",
       "<g id=\"node1\" class=\"node\">\n",
       "<title>1</title>\n",
       "<ellipse fill=\"none\" stroke=\"#ff5733\" cx=\"335.38\" cy=\"-106.5\" rx=\"103.56\" ry=\"18\"/>\n",
       "<text text-anchor=\"middle\" x=\"335.38\" y=\"-101.45\" font-family=\"Times,serif\" font-size=\"14.00\">Transformer architecture</text>\n",
       "</g>\n",
       "<!-- 2 -->\n",
       "<g id=\"node2\" class=\"node\">\n",
       "<title>2</title>\n",
       "<ellipse fill=\"none\" stroke=\"#33ff57\" cx=\"74.38\" cy=\"-18\" rx=\"74.38\" ry=\"18\"/>\n",
       "<text text-anchor=\"middle\" x=\"74.38\" y=\"-12.95\" font-family=\"Times,serif\" font-size=\"14.00\">Neural Networks</text>\n",
       "</g>\n",
       "<!-- 1&#45;&gt;2 -->\n",
       "<g id=\"edge1\" class=\"edge\">\n",
       "<title>1&#45;&gt;2</title>\n",
       "<path fill=\"none\" stroke=\"black\" d=\"M288.18,-90.04C269.69,-83.96 248.28,-76.92 228.88,-70.5 195.06,-59.3 157.09,-46.65 127.26,-36.69\"/>\n",
       "<polygon fill=\"black\" stroke=\"black\" points=\"128.69,-33.48 118.1,-33.63 126.47,-40.11 128.69,-33.48\"/>\n",
       "<text text-anchor=\"middle\" x=\"258.63\" y=\"-57.2\" font-family=\"Times,serif\" font-size=\"14.00\">is a part of</text>\n",
       "</g>\n",
       "<!-- 3 -->\n",
       "<g id=\"node3\" class=\"node\">\n",
       "<title>3</title>\n",
       "<ellipse fill=\"none\" stroke=\"#3393ff\" cx=\"259.38\" cy=\"-18\" rx=\"92.3\" ry=\"18\"/>\n",
       "<text text-anchor=\"middle\" x=\"259.38\" y=\"-12.95\" font-family=\"Times,serif\" font-size=\"14.00\">Attention Mechanism</text>\n",
       "</g>\n",
       "<!-- 1&#45;&gt;3 -->\n",
       "<g id=\"edge2\" class=\"edge\">\n",
       "<title>1&#45;&gt;3</title>\n",
       "<path fill=\"none\" stroke=\"black\" d=\"M320.37,-88.41C309.33,-75.85 294.16,-58.58 281.71,-44.41\"/>\n",
       "<polygon fill=\"black\" stroke=\"black\" points=\"284.6,-42.39 275.37,-37.19 279.34,-47.01 284.6,-42.39\"/>\n",
       "<text text-anchor=\"middle\" x=\"323.88\" y=\"-57.2\" font-family=\"Times,serif\" font-size=\"14.00\">utilizes</text>\n",
       "</g>\n",
       "<!-- 4 -->\n",
       "<g id=\"node4\" class=\"node\">\n",
       "<title>4</title>\n",
       "<ellipse fill=\"none\" stroke=\"#ff33e6\" cx=\"411.38\" cy=\"-18\" rx=\"41.63\" ry=\"18\"/>\n",
       "<text text-anchor=\"middle\" x=\"411.38\" y=\"-12.95\" font-family=\"Times,serif\" font-size=\"14.00\">Encoder</text>\n",
       "</g>\n",
       "<!-- 1&#45;&gt;4 -->\n",
       "<g id=\"edge3\" class=\"edge\">\n",
       "<title>1&#45;&gt;4</title>\n",
       "<path fill=\"none\" stroke=\"black\" d=\"M350.4,-88.41C361.65,-75.61 377.2,-57.91 389.78,-43.58\"/>\n",
       "<polygon fill=\"black\" stroke=\"black\" points=\"392.2,-46.14 396.17,-36.31 386.94,-41.52 392.2,-46.14\"/>\n",
       "<text text-anchor=\"middle\" x=\"409.26\" y=\"-57.2\" font-family=\"Times,serif\" font-size=\"14.00\">consists of</text>\n",
       "</g>\n",
       "<!-- 5 -->\n",
       "<g id=\"node5\" class=\"node\">\n",
       "<title>5</title>\n",
       "<ellipse fill=\"none\" stroke=\"#33e6ff\" cx=\"513.38\" cy=\"-18\" rx=\"42.14\" ry=\"18\"/>\n",
       "<text text-anchor=\"middle\" x=\"513.38\" y=\"-12.95\" font-family=\"Times,serif\" font-size=\"14.00\">Decoder</text>\n",
       "</g>\n",
       "<!-- 1&#45;&gt;5 -->\n",
       "<g id=\"edge4\" class=\"edge\">\n",
       "<title>1&#45;&gt;5</title>\n",
       "<path fill=\"none\" stroke=\"black\" d=\"M390.86,-90.96C407.84,-85.57 426.28,-78.72 442.38,-70.5 457.88,-62.59 473.69,-51.48 486.44,-41.61\"/>\n",
       "<polygon fill=\"black\" stroke=\"black\" points=\"488.3,-44.6 493.96,-35.64 483.95,-39.12 488.3,-44.6\"/>\n",
       "<text text-anchor=\"middle\" x=\"497.26\" y=\"-57.2\" font-family=\"Times,serif\" font-size=\"14.00\">consists of</text>\n",
       "</g>\n",
       "</g>\n",
       "</svg>\n"
      ],
      "text/plain": [
       "<graphviz.sources.Source at 0x1251109d0>"
      ]
     },
     "metadata": {},
     "output_type": "display_data"
    }
   ],
   "source": [
    "kg = pydantic_output_parser.parse(output_graph_json_dict)\n",
    "\n",
    "visualize_knowledge_graph(kg)"
   ]
  },
  {
   "cell_type": "markdown",
   "metadata": {},
   "source": [
    "Yaaay victory!!! Now, let's wrap this into a modified version of the original chain by using the RunnableLambda Object to do the \n",
    "intermediary step we were doing before."
   ]
  },
  {
   "cell_type": "code",
   "execution_count": 14,
   "metadata": {},
   "outputs": [
    {
     "data": {
      "image/png": "[encoded data removed]",
      "text/plain": [
       "<Figure size 640x480 with 1 Axes>"
      ]
     },
     "metadata": {},
     "output_type": "display_data"
    }
   ],
   "source": [
    "from pydantic import BaseModel, Field\n",
    "from typing import List, Optional\n",
    "from openai import OpenAI\n",
    "import instructor\n",
    "from IPython.display import display\n",
    "from pydantic import BaseModel, Field\n",
    "from typing import List\n",
    "import matplotlib.pyplot as plt\n",
    "\n",
    "client = instructor.patch(OpenAI())\n",
    "\n",
    "class DataPlot(BaseModel):\n",
    "    x_values: List[float]\n",
    "    y_values: List[float]\n",
    "    # hist_data: List[float]\n",
    "    title: str\n",
    "    x_label: str\n",
    "    y_label: str\n",
    "    plot_type: str = Field(default=\"line\", description=\"Type of the plot (line, bar, scatter, hist)\")\n",
    "    # density: bool = Field(default=False, description=\"Density of histogram plot\")\n",
    "    # alpha: float = Field(default=0.7, description=\"Alpha of histogram plot\")\n",
    "    color: Optional[str] = Field(default=None, description=\"Color of the plot\")\n",
    "    marker: Optional[str] = Field(default=None, description=\"Marker style for scatter plot\")\n",
    "\n",
    "def generate_plot(input) -> DataPlot:\n",
    "    return client.chat.completions.create(\n",
    "        model=\"gpt-3.5-turbo-16k\",\n",
    "        messages=[\n",
    "            {\n",
    "                \"role\": \"user\",\n",
    "                \"content\": f\"Help me visualize this concept in a plot:{input}\",\n",
    "            }\n",
    "        ],\n",
    "        response_model=DataPlot,\n",
    "    )  # type: ignore\n",
    "\n",
    "\n",
    "def plot(dp: DataPlot):\n",
    "    if dp.plot_type == \"line\":\n",
    "        plt.plot(dp.x_values, dp.y_values, color=dp.color, marker=dp.marker)\n",
    "    elif dp.plot_type == \"bar\":\n",
    "        plt.bar(dp.x_values, dp.y_values, color=dp.color)\n",
    "    elif dp.plot_type == \"scatter\":\n",
    "        plt.scatter(dp.x_values, dp.y_values, color=dp.color, marker=dp.marker)\n",
    "    else:\n",
    "        raise ValueError(\"Unsupported plot type\")\n",
    "\n",
    "    plt.title(dp.title)\n",
    "    plt.xlabel(dp.x_label)\n",
    "    plt.ylabel(dp.y_label)\n",
    "    plt.show()\n",
    "\n",
    "def plot_primitive(prompt):\n",
    "    dp = generate_plot(prompt)\n",
    "    plot(dp)\n",
    "\n",
    "# Example usage\n",
    "plot_primitive(\"Plot the sine of a set of random normalized data as a dark green line\")"
   ]
  },
  {
   "cell_type": "markdown",
   "metadata": {},
   "source": [
    "We want more power of expression and we want flexiblity."
   ]
  },
  {
   "cell_type": "code",
   "execution_count": null,
   "metadata": {},
   "outputs": [],
   "source": []
  },
  {
   "cell_type": "code",
   "execution_count": null,
   "metadata": {},
   "outputs": [],
   "source": []
  },
  {
   "cell_type": "code",
   "execution_count": null,
   "metadata": {},
   "outputs": [],
   "source": []
  },
  {
   "cell_type": "code",
   "execution_count": null,
   "metadata": {},
   "outputs": [],
   "source": []
  }
 ],
 "metadata": {
  "kernelspec": {
   "display_name": "oreilly-env",
   "language": "python",
   "name": "oreilly-env"
  },
  "language_info": {
   "codemirror_mode": {
    "name": "ipython",
    "version": 3
   },
   "file_extension": ".py",
   "mimetype": "text/x-python",
   "name": "python",
   "nbconvert_exporter": "python",
   "pygments_lexer": "ipython3",
   "version": "3.11.8"
  }
 },
 "nbformat": 4,
 "nbformat_minor": 2
}
