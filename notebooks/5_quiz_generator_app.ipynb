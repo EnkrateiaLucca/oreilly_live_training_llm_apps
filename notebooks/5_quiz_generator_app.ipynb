{
 "cells": [
  {
   "cell_type": "markdown",
   "metadata": {},
   "source": [
    "# Quiz App\n",
    "\n",
    "- Given a page of a pdf\n",
    "- Given a concept\n",
    "- Simple interface\n",
    "- Quickly generate flexible quizzes\n",
    "  - Generate any type of questions (True or False, text based questions, multiple choice)\n",
    "- Feedback on the answers"
   ]
  },
  {
   "cell_type": "code",
   "execution_count": null,
   "metadata": {},
   "outputs": [],
   "source": [
    "import openai\n",
    "\n",
    "def get_response(prompt_question,):\n",
    "    response = openai.ChatCompletion.create(\n",
    "        model=\"gpt-4\",\n",
    "        messages=[{\"role\": \"system\", \"content\": \"You are a helpful research and\\\n",
    "            programming assistant\"},\n",
    "                  {\"role\": \"user\", \"content\": prompt_question}]\n",
    "    )\n",
    "    \n",
    "    return response[\"choices\"][0][\"message\"][\"content\"]\n",
    "\n",
    "\n",
    "prompt = \"Create a quiz about the basics of Python programming.\"\n",
    "quiz_python = get_response(prompt)"
   ]
  },
  {
   "cell_type": "code",
   "execution_count": null,
   "metadata": {},
   "outputs": [
    {
     "data": {
      "text/markdown": [
       "Sure, here goes a basic quiz on Python Programming:\n",
       "\n",
       "1. What is Python?\n",
       "    a. A snake\n",
       "    b. A game\n",
       "    c. An operating system\n",
       "    d. A high-level general-purpose programming language\n",
       "\n",
       "2. Who created Python?\n",
       "    a. Guido van Rossum\n",
       "    b. Linus Torvalds\n",
       "    c. Dennis Ritchie\n",
       "    d. James Gosling\n",
       "\n",
       "3. What are the commonly used data types in Python? \n",
       "    a. name, place, animal, thing\n",
       "    b. int, float, double, complex\n",
       "    c. str, int, float, list, tuple, dictionary, sets\n",
       "    d. all of the above\n",
       "\n",
       "4. How do you create a function in Python?\n",
       "    a. DEF function()\n",
       "    b. function DEF()\n",
       "    c. def function():\n",
       "    d. function def():\n",
       "\n",
       "5. Which of these is not a core characteristic of Python?\n",
       "    a. Interpreted\n",
       "    b. Object-oriented\n",
       "    c. Machine Learning\n",
       "    d. Dynamically Typed\n",
       "\n",
       "6. What does the 'len()' function do in Python?\n",
       "    a. Sums all elements\n",
       "    b. Identifies the type of elements\n",
       "    c. Measures the length of a list or string\n",
       "    d. Sorts elements\n",
       "\n",
       "7. How do you add a comment in Python?\n",
       "    a. // comment\n",
       "    b. /* comment */\n",
       "    c. # comment\n",
       "    d. - comment\n",
       "\n",
       "8. How do you create a list in Python?\n",
       "    a. {} \n",
       "    b. [] \n",
       "    c. () \n",
       "    d. ->\n",
       "\n",
       "9. What operator would you use for exponentiation in Python?\n",
       "    a. ^\n",
       "    b. !\n",
       "    c. **\n",
       "    d. ->>\n",
       "\n",
       "10. What is used to define a block of code in Python?\n",
       "    a. { }\n",
       "    b. [ ]\n",
       "    c. begin and end\n",
       "    d. Indentation"
      ],
      "text/plain": [
       "<IPython.core.display.Markdown object>"
      ]
     },
     "metadata": {},
     "output_type": "display_data"
    }
   ],
   "source": [
    "from IPython.display import Markdown, display\n",
    "\n",
    "Markdown(quiz_python)"
   ]
  },
  {
   "cell_type": "markdown",
   "metadata": {},
   "source": [
    "Requirements for the app\n",
    "\n",
    "1. We have to be specific\n",
    "   1. We want to specify the number of questions we want\n",
    "2. We have to be able to feed in contextual information\n",
    "3. We want to be able to specify the types of questions we want created (T/F, multiple choice, text...)"
   ]
  },
  {
   "cell_type": "code",
   "execution_count": null,
   "metadata": {},
   "outputs": [],
   "source": [
    "from langchain import PromptTemplate"
   ]
  },
  {
   "cell_type": "code",
   "execution_count": null,
   "metadata": {},
   "outputs": [
    {
     "data": {
      "text/plain": [
       "\"\\nYou are an expert quiz maker for technical fields. Let's think step by step and\\ncreate a quiz with 3 multiple-choice questions about the following concept/content: Data Structures in Python Programming.\\n\\nThe format of the quiz could be one of the following:\\n- Multiple-choice: \\n- Questions:\\n    <Question1>: <a. Answer 1>, <b. Answer 2>, <c. Answer 3>, <d. Answer 4>\\n    <Question2>: <a. Answer 1>, <b. Answer 2>, <c. Answer 3>, <d. Answer 4>\\n    ....\\n- Answers:\\n    <Answer1>: <a|b|c|d>\\n    <Answer2>: <a|b|c|d>\\n    ....\\n    Example:\\n    - Questions:\\n    - 1. What is the time complexity of a binary search tree?\\n        a. O(n)\\n        b. O(log n)\\n        c. O(n^2)\\n        d. O(1)\\n    - Answers: \\n        1. b\\n- True-false:\\n    - Questions:\\n        <Question1>: <True|False>\\n        <Question2>: <True|False>\\n        .....\\n    - Answers:\\n        <Answer1>: <True|False>\\n        <Answer2>: <True|False>\\n        .....\\n    Example:\\n    - Questions:\\n        - 1. What is a binary search tree?\\n        - 2. How are binary search trees implemented?\\n    - Answers:\\n        - 1. True\\n        - 2. False\\n- Open-ended:\\n- Questions:\\n    <Question1>: \\n    <Question2>:\\n- Answers:    \\n    <Answer1>:\\n    <Answer2>:\\nExample:\\n    - 1. What is a binary search tree?\\n    - 2. How are binary search trees implemented?\\n    \\n    - Answers: \\n        1. A binary search tree is a data structure that is used to store data in a sorted manner.\\n        2. Binary search trees are implemented using linked lists.\\n\""
      ]
     },
     "metadata": {},
     "output_type": "display_data"
    }
   ],
   "source": [
    "template = \"\"\"\n",
    "You are an expert quiz maker for technical fields. Let's think step by step and\n",
    "create a quiz with {num_questions} {quiz_type} questions about the following concept/content: {quiz_context}.\n",
    "\n",
    "The format of the quiz could be one of the following:\n",
    "- Multiple-choice: \n",
    "- Questions:\n",
    "    <Question1>: <a. Answer 1>, <b. Answer 2>, <c. Answer 3>, <d. Answer 4>\n",
    "    <Question2>: <a. Answer 1>, <b. Answer 2>, <c. Answer 3>, <d. Answer 4>\n",
    "    ....\n",
    "- Answers:\n",
    "    <Answer1>: <a|b|c|d>\n",
    "    <Answer2>: <a|b|c|d>\n",
    "    ....\n",
    "    Example:\n",
    "    - Questions:\n",
    "    - 1. What is the time complexity of a binary search tree?\n",
    "        a. O(n)\n",
    "        b. O(log n)\n",
    "        c. O(n^2)\n",
    "        d. O(1)\n",
    "    - Answers: \n",
    "        1. b\n",
    "- True-false:\n",
    "    - Questions:\n",
    "        <Question1>: <True|False>\n",
    "        <Question2>: <True|False>\n",
    "        .....\n",
    "    - Answers:\n",
    "        <Answer1>: <True|False>\n",
    "        <Answer2>: <True|False>\n",
    "        .....\n",
    "    Example:\n",
    "    - Questions:\n",
    "        - 1. What is a binary search tree?\n",
    "        - 2. How are binary search trees implemented?\n",
    "    - Answers:\n",
    "        - 1. True\n",
    "        - 2. False\n",
    "- Open-ended:\n",
    "- Questions:\n",
    "    <Question1>: \n",
    "    <Question2>:\n",
    "- Answers:    \n",
    "    <Answer1>:\n",
    "    <Answer2>:\n",
    "Example:\n",
    "    - 1. What is a binary search tree?\n",
    "    - 2. How are binary search trees implemented?\n",
    "    \n",
    "    - Answers: \n",
    "        1. A binary search tree is a data structure that is used to store data in a sorted manner.\n",
    "        2. Binary search trees are implemented using linked lists.\n",
    "\"\"\"\n",
    "prompt = PromptTemplate.from_template(template)\n",
    "prompt.format(num_questions=3, quiz_type=\"multiple-choice\", quiz_context=\"Data Structures in Python Programming\")"
   ]
  },
  {
   "cell_type": "code",
   "execution_count": null,
   "metadata": {},
   "outputs": [],
   "source": [
    "from langchain.chat_models import ChatOpenAI\n",
    "from langchain.chains import LLMChain\n",
    "import re"
   ]
  },
  {
   "cell_type": "code",
   "execution_count": null,
   "metadata": {},
   "outputs": [],
   "source": [
    "chain = LLMChain(llm=ChatOpenAI(),\n",
    "                 prompt=prompt)"
   ]
  },
  {
   "cell_type": "code",
   "execution_count": null,
   "metadata": {},
   "outputs": [
    {
     "data": {
      "text/markdown": [
       "Sure! Let's create a multiple-choice quiz about Data Structures in Python Programming.\n",
       "\n",
       "- Questions:\n",
       "    1. Which data structure in Python allows duplicate values and maintains the insertion order?\n",
       "        a. List\n",
       "        b. Set\n",
       "        c. Tuple\n",
       "        d. Dictionary\n",
       "        \n",
       "    2. Which data structure in Python is best suited for implementing a stack?\n",
       "        a. List\n",
       "        b. Set\n",
       "        c. Tuple\n",
       "        d. Dictionary\n",
       "        \n",
       "    3. Which data structure in Python provides a way to store key-value pairs?\n",
       "        a. List\n",
       "        b. Set\n",
       "        c. Tuple\n",
       "        d. Dictionary\n",
       "\n",
       "- Answers: \n",
       "    1. a\n",
       "    2. a\n",
       "    3. d"
      ],
      "text/plain": [
       "<IPython.core.display.Markdown object>"
      ]
     },
     "metadata": {},
     "output_type": "display_data"
    }
   ],
   "source": [
    "quiz_response = chain.run(num_questions=3, quiz_type=\"multiple-choice\", quiz_context=\"Data Structures in Python Programming\")\n",
    "Markdown(quiz_response)"
   ]
  },
  {
   "cell_type": "markdown",
   "metadata": {},
   "source": [
    "# Notes Summarizer App\n",
    "\n",
    "**Presentation:** \n",
    "\n",
    "[building a Notes Summarizer with ChatGPT](https://www.notion.so/building-a-Notes-Summarizer-with-ChatGPT-1793d64631a144978c016d44e0a54ebe?pvs=21)\n",
    "\n",
    "- Exercise/Lab:\n",
    "    \n",
    "    [build a simple notes summarizer app with ChatGPT](https://www.notion.so/build-a-simple-notes-summarizer-app-with-ChatGPT-5af7f8435d81476c87da5d6e5af2e2d7?pvs=21)\n",
    "    \n",
    "\n"
   ]
  },
  {
   "cell_type": "code",
   "execution_count": 6,
   "metadata": {},
   "outputs": [
    {
     "data": {
      "text/plain": [
       "\"Title: Project Launch Meeting\\n\\nThe launch meeting for Project CodeName X was held on July 23, 2023 which included John Doe, Jane Smith, Michael Brown, and Lisa Johnson. Project CodeName X aims to develop a new AI model enhancing the product's abilities, to be completed in a tentative 18 months. Jane Smith discussed their current resources, including a dedicated development team, state-of-the-art AI facilities, and potential external consultants. Michael Brown proposed a two-phase development process, including an exploratory and focused development stage. Lisa Johnson emphasised on frequent communication and suggested the Agile methodology. Future actions include John's project brief, Jane's consultant research, Michael setting up a developmental space, and Lisa preparing the project management tool and organizing a planning meeting next week.\\n\""
      ]
     },
     "execution_count": 6,
     "metadata": {},
     "output_type": "execute_result"
    }
   ],
   "source": [
    "import openai\n",
    "\n",
    "def get_response(prompt):\n",
    "    response = openai.ChatCompletion.create(\n",
    "        model=\"gpt-4\",\n",
    "        messages=[\n",
    "            {\"role\": \"system\", \"content\": \"You are a helpful research assistant\"},\n",
    "            {\"role\": \"user\", \"content\": prompt}\n",
    "        ]\n",
    "    )\n",
    "    return response[\"choices\"][0][\"message\"][\"content\"]\n",
    "\n",
    "text = \"\"\"Title: Project Launch Meeting\n",
    "\n",
    "Date: July 23, 2023\n",
    "\n",
    "Attendees: John Doe, Jane Smith, Michael Brown, Lisa Johnson\n",
    "\n",
    "Summary: \n",
    "\n",
    "Today we held the kickoff meeting for our new project, CodeName X. The team is very excited to get started. John Doe gave an overview of the project, explaining that the goal is to develop a new AI model that will significantly improve our product's capabilities. The estimated timeline for the project is 18 months, but John stressed that this is a rough estimate and will likely be refined as we delve deeper into the project.\n",
    "\n",
    "Jane Smith spoke about the resources we have at our disposal, including a robust development team and state-of-the-art AI training facilities. She also mentioned the possibility of bringing in some external consultants for specific tasks, which was met with approval from the rest of the team.\n",
    "\n",
    "Michael Brown, our lead developer, gave a technical overview of how we might approach the development of the AI model. He proposed a two-stage process: an initial exploratory phase to investigate different methods, followed by a focused development phase where we will construct and fine-tune the final model. \n",
    "\n",
    "Lisa Johnson talked about project management and highlighted the importance of maintaining good communication throughout the project. She suggested using Agile methodology to manage the project, which the team agreed upon.\n",
    "\n",
    "Next Steps:\n",
    "\n",
    "John will send out a project brief by the end of this week. Jane will look into potential consultants we might want to bring on board. Michael will begin setting up a sandbox for the development team to use during the exploratory phase. Lisa will set up the project in our project management tool and will schedule a project planning meeting for next week.\n",
    "\n",
    "\"\"\"\n",
    "get_response(f\"Summarize this text: {text}\")"
   ]
  },
  {
   "cell_type": "markdown",
   "metadata": {},
   "source": [
    "Ok , great we can get a basic summary easy using just ChatGPT, but how about if we want to be able to specify different types of summaries? \n",
    "What if the contents we want to summarize are bigger than the context length of our model?\n",
    "\n",
    "Let's address these issues by using langchain for summarization."
   ]
  },
  {
   "cell_type": "code",
   "execution_count": 10,
   "metadata": {},
   "outputs": [],
   "source": [
    "from langchain import PromptTemplate\n",
    "from langchain.chat_models import ChatOpenAI\n",
    "from langchain.chains.summarize import load_summarize_chain\n",
    "from langchain.document_loaders import TextLoader"
   ]
  },
  {
   "cell_type": "markdown",
   "metadata": {},
   "source": [
    "With langchain, summarization is as simple as this:"
   ]
  },
  {
   "cell_type": "code",
   "execution_count": 12,
   "metadata": {},
   "outputs": [
    {
     "data": {
      "text/plain": [
       "\"The project launch meeting for CodeName X took place on July 23, 2023. The team discussed the project's goal of developing a new AI model to enhance the product's capabilities. The estimated timeline is 18 months, subject to refinement. The team discussed available resources, including the option of hiring external consultants. The lead developer proposed a two-stage approach for development. Agile methodology was agreed upon for project management. Next steps include sending a project brief, exploring potential consultants, setting up a development sandbox, and scheduling a project planning meeting.\""
      ]
     },
     "execution_count": 12,
     "metadata": {},
     "output_type": "execute_result"
    }
   ],
   "source": [
    "docs = TextLoader(\"./notes.txt\").load()\n",
    "llm = ChatOpenAI()\n",
    "chain = load_summarize_chain(llm, chain_type=\"stuff\")\n",
    "chain.run(docs)"
   ]
  },
  {
   "cell_type": "markdown",
   "metadata": {},
   "source": [
    "But as always, we would like to go beyond, why not set up a prompt template to allow for some customization of the summaries?"
   ]
  },
  {
   "cell_type": "code",
   "execution_count": 19,
   "metadata": {},
   "outputs": [
    {
     "data": {
      "text/plain": [
       "'- Kickoff meeting held for project CodeName X\\n- Goal is to develop new AI model to enhance product capabilities\\n- Estimated timeline for project is 18 months, subject to refinement\\n- Resources include strong development team and advanced AI training facilities\\n- Possibility of bringing in external consultants for specific tasks\\n- Proposed two-stage process for AI model development: exploratory phase and focused development phase\\n- Project management to follow Agile methodology\\n- Next steps include sending project brief, identifying potential consultants, setting up sandbox for exploratory phase, setting up project in project management tool, and scheduling project planning meeting for next week.'"
      ]
     },
     "execution_count": 19,
     "metadata": {},
     "output_type": "execute_result"
    }
   ],
   "source": [
    "prompt_template = \"\"\"Write a concise summary of the following text:\n",
    "\n",
    "{text}\n",
    "\n",
    "The summary should be in this style: {style}.\n",
    "Let's think step by step.\n",
    "\n",
    "SUMMARY:\"\"\"\n",
    "\n",
    "PROMPT = PromptTemplate(template=prompt_template,\n",
    "                        input_variables=[\"text\", \"style\"])\n",
    "\n",
    "chain = load_summarize_chain(llm, chain_type=\"stuff\", prompt=PROMPT)\n",
    "chain.run({\"input_documents\": docs, \"style\": \"bullet points\"})"
   ]
  },
  {
   "cell_type": "markdown",
   "metadata": {},
   "source": [
    "Ok, let's wrap this into a streamlit app to allow for a nice looking user interface."
   ]
  },
  {
   "cell_type": "code",
   "execution_count": null,
   "metadata": {},
   "outputs": [],
   "source": [
    "# This app should be run in a separate .py file, it is here for\n",
    "# presentation purposes only\n",
    "from langchain import PromptTemplate\n",
    "from langchain.chat_models import ChatOpenAI\n",
    "from langchain.chains.summarize import load_summarize_chain\n",
    "from langchain.document_loaders import TextLoader\n",
    "import streamlit as st\n",
    "\n",
    "def load_text_file(text_file):\n",
    "    docs = TextLoader(text_file).load()\n",
    "    return docs\n",
    "\n",
    "\n",
    "def setup_summarization_chain(docs):\n",
    "    llm = ChatOpenAI()\n",
    "    prompt_template = \"\"\"Write a concise summary of the following text:\n",
    "\n",
    "    {text}\n",
    "\n",
    "    The summary should be in this style: {style}.\n",
    "    Let's think step by step.\n",
    "\n",
    "    SUMMARY:\"\"\"\n",
    "\n",
    "    PROMPT = PromptTemplate(template=prompt_template,\n",
    "                            input_variables=[\"text\", \"style\"])\n",
    "\n",
    "    chain = load_summarize_chain(llm, chain_type=\"stuff\", prompt=PROMPT)\n",
    "    return chain\n",
    "\n",
    "\n",
    "def summarize_content(docs, chain, summary_option):\n",
    "    \"\"\"\n",
    "    Runs the summarization chain with \n",
    "    the option specificed by the user.\n",
    "    \"\"\"\n",
    "    summary = chain.run({\"input_documents\": docs, \"style\": summary_option})\n",
    "    return summary\n",
    "\n",
    "\n",
    "\n",
    "st.title('Notes Summarizer using ChatGPT')\n",
    "uploaded_file = st.text_input(\"Choose a .txt file\")\n",
    "\n",
    "summary_option = st.selectbox(\n",
    "    'How do you want your summary?',\n",
    "    ('Simple', 'Bullet points', 'Introduction, Argument, Conclusion', 'Custom Summary')\n",
    ")\n",
    "\n",
    "if uploaded_file!=\"\":\n",
    "    docs = load_text_file(uploaded_file)\n",
    "    chain = setup_summarization_chain(docs)\n",
    "\n",
    "if st.button('Summarize'):\n",
    "    st.session_state.summary = summarize_content(docs, chain, summary_option)\n",
    "\n",
    "if 'summary' in st.session_state and st.session_state.summary:\n",
    "    st.write('Your Summary: ', st.session_state.summary)\n",
    "    if st.button('Download Summary'):\n",
    "        with open('summary.txt', 'w') as f:\n",
    "            f.write(st.session_state.summary)\n",
    "        \n",
    "        st.write(\"Your summary was downloaded to summary.txt\")"
   ]
  },
  {
   "cell_type": "markdown",
   "metadata": {},
   "source": [
    "**Break (10 minutes)**"
   ]
  },
  {
   "cell_type": "code",
   "execution_count": null,
   "metadata": {},
   "outputs": [],
   "source": []
  },
  {
   "cell_type": "markdown",
   "metadata": {},
   "source": [
    "[Notes summarize example](https://platform.openai.com/examples/default-meeting-notes-summarizer)\n",
    "\n",
    "You will be provided with meeting notes, and your task is to summarize the meeting as follows:\n",
    "\n",
    "-Overall summary of discussion\n",
    "-Action items (what needs to be done and who is doing it)\n",
    "-If applicable, a list of topics that need to be discussed more fully in the next meeting.\n",
    "USER\n",
    "Meeting Date: March 5th, 2050\n",
    "Meeting Time: 2:00 PM\n",
    "Location: Conference Room 3B, Intergalactic Headquarters\n",
    "\n",
    "Attendees:\n",
    "- Captain Stardust\n",
    "- Dr. Quasar\n",
    "- Lady Nebula\n",
    "- Sir Supernova\n",
    "- Ms. Comet\n",
    "\n",
    "Meeting called to order by Captain Stardust at 2:05 PM\n",
    "\n",
    "1. Introductions and welcome to our newest team member, Ms. Comet\n",
    "\n",
    "2. Discussion of our recent mission to Planet Zog\n",
    "- Captain Stardust: \"Overall, a success, but communication with the Zogians was difficult. We need to improve our language skills.\"\n",
    "- Dr. Quasar: \"Agreed. I'll start working on a Zogian-English dictionary right away.\"\n",
    "- Lady Nebula: \"The Zogian food was out of this world, literally! We should consider having a Zogian food night on the ship.\"\n",
    "\n",
    "3. Addressing the space pirate issue in Sector 7\n",
    "- Sir Supernova: \"We need a better strategy for dealing with these pirates. They've already plundered three cargo ships this month.\"\n",
    "- Captain Stardust: \"I'll speak with Admiral Starbeam about increasing patrols in that area.\n",
    "- Dr. Quasar: \"I've been working on a new cloaking technology that could help our ships avoid detection by the pirates. I'll need a few more weeks to finalize the prototype.\"\n",
    "\n",
    "4. Review of the annual Intergalactic Bake-Off\n",
    "- Lady Nebula: \"I'm happy to report that our team placed second in the competition! Our Martian Mud Pie was a big hit!\"\n",
    "- Ms. Comet: \"Let's aim for first place next year. I have a secret recipe for Jupiter Jello that I think could be a winner.\"\n",
    "\n",
    "5. Planning for the upcoming charity fundraiser\n",
    "- Captain Stardust: \"We need some creative ideas for our booth at the Intergalactic Charity Bazaar.\"\n",
    "- Sir Supernova: \"How about a 'Dunk the Alien' game? We can have people throw water balloons at a volunteer dressed as an alien.\"\n",
    "- Dr. Quasar: \"I can set up a 'Name That Star' trivia game with prizes for the winners.\"\n",
    "- Lady Nebula: \"Great ideas, everyone. Let's start gathering the supplies and preparing the games.\"\n",
    "\n",
    "6. Upcoming team-building retreat\n",
    "- Ms. Comet: \"I would like to propose a team-building retreat to the Moon Resort and Spa. It's a great opportunity to bond and relax after our recent missions.\"\n",
    "- Captain Stardust: \"Sounds like a fantastic idea. I'll check the budget and see if we can make it happen.\"\n",
    "\n",
    "7. Next meeting agenda items\n",
    "- Update on the Zogian-English dictionary (Dr. Quasar)\n",
    "- Progress report on the cloaking technology (Dr. Quasar)\n",
    "- Results of increased patrols in Sector 7 (Captain Stardust)\n",
    "- Final preparations for the Intergalactic Charity Bazaar (All)\n",
    "\n",
    "Meeting adjourned at 3:15 PM. Next meeting scheduled for March 19th, 2050 at 2:00 PM in Conference Room 3B, Intergalactic Headquarters."
   ]
  }
 ],
 "metadata": {
  "kernelspec": {
   "display_name": "oreilly_env",
   "language": "python",
   "name": "oreilly_env"
  },
  "language_info": {
   "codemirror_mode": {
    "name": "ipython",
    "version": 3
   },
   "file_extension": ".py",
   "mimetype": "text/x-python",
   "name": "python",
   "nbconvert_exporter": "python",
   "pygments_lexer": "ipython3",
   "version": "3.11.4"
  },
  "orig_nbformat": 4
 },
 "nbformat": 4,
 "nbformat_minor": 2
}
