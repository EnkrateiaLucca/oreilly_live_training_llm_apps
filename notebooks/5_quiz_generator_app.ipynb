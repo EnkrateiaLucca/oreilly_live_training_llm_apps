{
 "cells": [
  {
   "cell_type": "markdown",
   "metadata": {},
   "source": [
    "# Quiz App\n",
    "\n",
    "- Given a page of a pdf\n",
    "- Given a concept\n",
    "- Simple interface\n",
    "- Quickly generate flexible quizzes\n",
    "  - Generate any type of questions (True or False, text based questions, multiple choice)\n",
    "- Feedback on the answers"
   ]
  },
  {
   "cell_type": "code",
   "execution_count": 15,
   "metadata": {},
   "outputs": [
    {
     "data": {
      "text/plain": [
       "'Sure, here\\'s a basic Python programming quiz:\\n\\n1. What is the syntax for printing \"Hello, World!\" in Python?\\n   a) print(\"Hello, World!\")\\n   b) print(\"Hello, World!\")\\n   c) print(\"Hello, World!\")\\n   d) print(\"Hello, World!\")\\n\\n2. Which of the following is not a valid variable name in Python?\\n   a) my_variable\\n   b) 123variable\\n   c) _variable\\n   d) variable123\\n\\n3. What is the output of the following code?\\n   x = 5\\n   y = 3\\n   print(x + y)\\n   a) 8\\n   b) 53\\n   c) 15\\n   d) Syntax error\\n\\n4. What is the correct way to start a multi-line comment in Python?\\n   a) /* This is a comment */\\n   b) // This is a comment\\n   c) # This is a comment\\n   d) \\'\\'\\' This is a comment \\'\\'\\'\\n\\n5. What does the \"len()\" function do in Python?\\n   a) Returns the length of a string\\n   b) Returns the length of a list\\n   c) Returns the length of a tuple\\n   d) All of the above\\n\\n6. Which of the following is not a valid data type in Python?\\n   a) int\\n   b) float\\n   c) char\\n   d) str\\n\\n7. What is the result of the following code?\\n   my_list = [1, 2, 3, 4, 5]\\n   print(my_list[2:4])\\n   a) [2, 3, 4]\\n   b) [3, 4]\\n   c) [2, 3]\\n   d) [3, 4, 5]\\n\\n8. What is the correct way to create a function in Python?\\n   a) def my_function():\\n   b) function my_function():\\n   c) create my_function():\\n   d) function = my_function():\\n\\n9. What is the output of the following code?\\n   my_string = \"Hello, World!\"\\n   print(my_string[7:])\\n   a) \"Hello\"\\n   b) \"World!\"\\n   c) \"World\"\\n   d) \"World!Hello\"\\n\\n10. What is the result of the following code?\\n    x = 10\\n    if x > 5:\\n        print(\"x is greater than 5\")\\n    else:\\n        print(\"x is less than or equal to 5\")\\n    a) x is greater than 5\\n    b) x is less than or equal to 5\\n    c) x is 10\\n    d) Syntax error\\n\\nFeel free to use this quiz for testing your knowledge of Python programming basics!'"
      ]
     },
     "execution_count": 15,
     "metadata": {},
     "output_type": "execute_result"
    }
   ],
   "source": [
    "from openai import OpenAI\n",
    "\n",
    "def get_response(prompt):\n",
    "    client = OpenAI()\n",
    "    response = client.chat.completions.create(model=\"gpt-3.5-turbo-1106\", \n",
    "                             messages=\n",
    "                             [\n",
    "                                 {\"role\": \"system\", \"content\": \"You are a helpful assistant.\"},\n",
    "                                 {\"role\": \"user\", \"content\": prompt}   \n",
    "                             ],\n",
    "                             temperature=0.0,\n",
    "                             n = 1\n",
    "                             )\n",
    "    return response.choices[0].message.content\n",
    "\n",
    "\n",
    "prompt = \"Create a quiz about the basics of Python programming.\"\n",
    "quiz_python = get_response(prompt)\n",
    "quiz_python"
   ]
  },
  {
   "cell_type": "code",
   "execution_count": 16,
   "metadata": {},
   "outputs": [
    {
     "data": {
      "text/markdown": [
       "Sure, here's a basic Python programming quiz:\n",
       "\n",
       "1. What is the syntax for printing \"Hello, World!\" in Python?\n",
       "   a) print(\"Hello, World!\")\n",
       "   b) print(\"Hello, World!\")\n",
       "   c) print(\"Hello, World!\")\n",
       "   d) print(\"Hello, World!\")\n",
       "\n",
       "2. Which of the following is not a valid variable name in Python?\n",
       "   a) my_variable\n",
       "   b) 123variable\n",
       "   c) _variable\n",
       "   d) variable123\n",
       "\n",
       "3. What is the output of the following code?\n",
       "   x = 5\n",
       "   y = 3\n",
       "   print(x + y)\n",
       "   a) 8\n",
       "   b) 53\n",
       "   c) 15\n",
       "   d) Syntax error\n",
       "\n",
       "4. What is the correct way to start a multi-line comment in Python?\n",
       "   a) /* This is a comment */\n",
       "   b) // This is a comment\n",
       "   c) # This is a comment\n",
       "   d) ''' This is a comment '''\n",
       "\n",
       "5. What does the \"len()\" function do in Python?\n",
       "   a) Returns the length of a string\n",
       "   b) Returns the length of a list\n",
       "   c) Returns the length of a tuple\n",
       "   d) All of the above\n",
       "\n",
       "6. Which of the following is not a valid data type in Python?\n",
       "   a) int\n",
       "   b) float\n",
       "   c) char\n",
       "   d) str\n",
       "\n",
       "7. What is the result of the following code?\n",
       "   my_list = [1, 2, 3, 4, 5]\n",
       "   print(my_list[2:4])\n",
       "   a) [2, 3, 4]\n",
       "   b) [3, 4]\n",
       "   c) [2, 3]\n",
       "   d) [3, 4, 5]\n",
       "\n",
       "8. What is the correct way to create a function in Python?\n",
       "   a) def my_function():\n",
       "   b) function my_function():\n",
       "   c) create my_function():\n",
       "   d) function = my_function():\n",
       "\n",
       "9. What is the output of the following code?\n",
       "   my_string = \"Hello, World!\"\n",
       "   print(my_string[7:])\n",
       "   a) \"Hello\"\n",
       "   b) \"World!\"\n",
       "   c) \"World\"\n",
       "   d) \"World!Hello\"\n",
       "\n",
       "10. What is the result of the following code?\n",
       "    x = 10\n",
       "    if x > 5:\n",
       "        print(\"x is greater than 5\")\n",
       "    else:\n",
       "        print(\"x is less than or equal to 5\")\n",
       "    a) x is greater than 5\n",
       "    b) x is less than or equal to 5\n",
       "    c) x is 10\n",
       "    d) Syntax error\n",
       "\n",
       "Feel free to use this quiz for testing your knowledge of Python programming basics!"
      ],
      "text/plain": [
       "<IPython.core.display.Markdown object>"
      ]
     },
     "execution_count": 16,
     "metadata": {},
     "output_type": "execute_result"
    }
   ],
   "source": [
    "from IPython.display import Markdown, display\n",
    "\n",
    "Markdown(quiz_python)"
   ]
  },
  {
   "cell_type": "markdown",
   "metadata": {},
   "source": [
    "Requirements for the app\n",
    "\n",
    "1. We have to be specific\n",
    "   1. We want to specify the number of questions we want\n",
    "2. We have to be able to feed in contextual information\n",
    "3. We want to be able to specify the types of questions we want created (T/F, multiple choice, text...)"
   ]
  },
  {
   "cell_type": "code",
   "execution_count": 3,
   "metadata": {},
   "outputs": [],
   "source": [
    "from langchain import PromptTemplate"
   ]
  },
  {
   "cell_type": "code",
   "execution_count": 17,
   "metadata": {},
   "outputs": [],
   "source": [
    "template = \"\"\"\n",
    "You are an expert quiz maker for technical fields. Let's think step by step and\n",
    "create a quiz with {num_questions} {quiz_type} questions about the following concept/content: {quiz_context}.\n",
    "\n",
    "The format of the quiz could be one of the following:\n",
    "- Multiple-choice: \n",
    "- Questions:\n",
    "    <Question1>: <a. Answer 1>, <b. Answer 2>, <c. Answer 3>, <d. Answer 4>\n",
    "    <Question2>: <a. Answer 1>, <b. Answer 2>, <c. Answer 3>, <d. Answer 4>\n",
    "    ....\n",
    "- Answers:\n",
    "    <Answer1>: <a|b|c|d>\n",
    "    <Answer2>: <a|b|c|d>\n",
    "    ....\n",
    "    Example:\n",
    "    - Questions:\n",
    "    - 1. What is the time complexity of a binary search tree?\n",
    "        a. O(n)\n",
    "        b. O(log n)\n",
    "        c. O(n^2)\n",
    "        d. O(1)\n",
    "    - Answers: \n",
    "        1. b\n",
    "- True-false:\n",
    "    - Questions:\n",
    "        <Question1>: <True|False>\n",
    "        <Question2>: <True|False>\n",
    "        .....\n",
    "    - Answers:\n",
    "        <Answer1>: <True|False>\n",
    "        <Answer2>: <True|False>\n",
    "        .....\n",
    "    Example:\n",
    "    - Questions:\n",
    "        - 1. What is a binary search tree?\n",
    "        - 2. How are binary search trees implemented?\n",
    "    - Answers:\n",
    "        - 1. True\n",
    "        - 2. False\n",
    "- Open-ended:\n",
    "- Questions:\n",
    "    <Question1>: \n",
    "    <Question2>:\n",
    "- Answers:    \n",
    "    <Answer1>:\n",
    "    <Answer2>:\n",
    "Example:\n",
    "    Questions:\n",
    "    - 1. What is a binary search tree?\n",
    "    - 2. How are binary search trees implemented?\n",
    "    \n",
    "    - Answers: \n",
    "        1. A binary search tree is a data structure that is used to store data in a sorted manner.\n",
    "        2. Binary search trees are implemented using linked lists.\n",
    "\"\"\""
   ]
  },
  {
   "cell_type": "code",
   "execution_count": 18,
   "metadata": {},
   "outputs": [],
   "source": [
    "prompt = PromptTemplate.from_template(template)"
   ]
  },
  {
   "cell_type": "code",
   "execution_count": 19,
   "metadata": {},
   "outputs": [
    {
     "data": {
      "text/plain": [
       "\"\\nYou are an expert quiz maker for technical fields. Let's think step by step and\\ncreate a quiz with 3 multiple-choice questions about the following concept/content: Data Structures in Python Programming.\\n\\nThe format of the quiz could be one of the following:\\n- Multiple-choice: \\n- Questions:\\n    <Question1>: <a. Answer 1>, <b. Answer 2>, <c. Answer 3>, <d. Answer 4>\\n    <Question2>: <a. Answer 1>, <b. Answer 2>, <c. Answer 3>, <d. Answer 4>\\n    ....\\n- Answers:\\n    <Answer1>: <a|b|c|d>\\n    <Answer2>: <a|b|c|d>\\n    ....\\n    Example:\\n    - Questions:\\n    - 1. What is the time complexity of a binary search tree?\\n        a. O(n)\\n        b. O(log n)\\n        c. O(n^2)\\n        d. O(1)\\n    - Answers: \\n        1. b\\n- True-false:\\n    - Questions:\\n        <Question1>: <True|False>\\n        <Question2>: <True|False>\\n        .....\\n    - Answers:\\n        <Answer1>: <True|False>\\n        <Answer2>: <True|False>\\n        .....\\n    Example:\\n    - Questions:\\n        - 1. What is a binary search tree?\\n        - 2. How are binary search trees implemented?\\n    - Answers:\\n        - 1. True\\n        - 2. False\\n- Open-ended:\\n- Questions:\\n    <Question1>: \\n    <Question2>:\\n- Answers:    \\n    <Answer1>:\\n    <Answer2>:\\nExample:\\n    Questions:\\n    - 1. What is a binary search tree?\\n    - 2. How are binary search trees implemented?\\n    \\n    - Answers: \\n        1. A binary search tree is a data structure that is used to store data in a sorted manner.\\n        2. Binary search trees are implemented using linked lists.\\n\""
      ]
     },
     "execution_count": 19,
     "metadata": {},
     "output_type": "execute_result"
    }
   ],
   "source": [
    "prompt.format(num_questions=3, quiz_type=\"multiple-choice\", quiz_context=\"Data Structures in Python Programming\")"
   ]
  },
  {
   "cell_type": "code",
   "execution_count": 20,
   "metadata": {},
   "outputs": [],
   "source": [
    "from langchain.chat_models import ChatOpenAI\n",
    "from langchain.schema import StrOutputParser\n",
    "import re"
   ]
  },
  {
   "cell_type": "code",
   "execution_count": 21,
   "metadata": {},
   "outputs": [],
   "source": [
    "chain = prompt | ChatOpenAI(temperature=0.0) | StrOutputParser()"
   ]
  },
  {
   "cell_type": "code",
   "execution_count": 22,
   "metadata": {},
   "outputs": [],
   "source": [
    "quiz_response = chain.invoke({\"num_questions\":3, \"quiz_type\":\"multiple-choice\", \"quiz_context\":\"Data Structures in Python Programming\",})"
   ]
  },
  {
   "cell_type": "code",
   "execution_count": 23,
   "metadata": {},
   "outputs": [
    {
     "data": {
      "text/markdown": [
       "Great! Let's create a multiple-choice quiz about Data Structures in Python Programming. Here's the format:\n",
       "\n",
       "- Questions:\n",
       "    1. What is a data structure?\n",
       "        a. A way to store and organize data\n",
       "        b. A programming language\n",
       "        c. A type of algorithm\n",
       "        d. A hardware component\n",
       "        \n",
       "    2. Which of the following is not a built-in data structure in Python?\n",
       "        a. List\n",
       "        b. Tuple\n",
       "        c. Set\n",
       "        d. Tree\n",
       "        \n",
       "    3. What is the time complexity of accessing an element in a dictionary in Python?\n",
       "        a. O(1)\n",
       "        b. O(log n)\n",
       "        c. O(n)\n",
       "        d. O(n^2)\n",
       "        \n",
       "- Answers:\n",
       "    1. a\n",
       "    2. d\n",
       "    3. a\n",
       "\n",
       "Let me know if you would like any changes or if you have any additional questions!"
      ],
      "text/plain": [
       "<IPython.core.display.Markdown object>"
      ]
     },
     "execution_count": 23,
     "metadata": {},
     "output_type": "execute_result"
    }
   ],
   "source": [
    "Markdown(quiz_response)"
   ]
  },
  {
   "cell_type": "code",
   "execution_count": 11,
   "metadata": {},
   "outputs": [],
   "source": [
    "quiz_response = chain.invoke({\"num_questions\": 4, \"quiz_type\": \"True-false\", \"quiz_context\": \"Python programming\"})"
   ]
  },
  {
   "cell_type": "code",
   "execution_count": 12,
   "metadata": {},
   "outputs": [
    {
     "data": {
      "text/markdown": [
       "True-false quiz about Python programming:\n",
       "\n",
       "Questions:\n",
       "1. Python is a statically typed programming language. (True|False)\n",
       "2. Python supports multiple inheritance. (True|False)\n",
       "3. Python is an interpreted language. (True|False)\n",
       "4. Python is a compiled language. (True|False)\n",
       "\n",
       "Answers:\n",
       "1. False\n",
       "2. True\n",
       "3. True\n",
       "4. False"
      ],
      "text/plain": [
       "<IPython.core.display.Markdown object>"
      ]
     },
     "execution_count": 12,
     "metadata": {},
     "output_type": "execute_result"
    }
   ],
   "source": [
    "Markdown(quiz_response)"
   ]
  },
  {
   "cell_type": "code",
   "execution_count": 13,
   "metadata": {},
   "outputs": [],
   "source": [
    "quiz_response = chain.invoke({\"num_questions\": 2, \"quiz_type\": \"Open-ended\", \"quiz_context\": \"Python programming\"})"
   ]
  },
  {
   "cell_type": "code",
   "execution_count": 14,
   "metadata": {},
   "outputs": [
    {
     "data": {
      "text/markdown": [
       "Open-ended quiz about Python programming:\n",
       "\n",
       "Questions:\n",
       "1. What is the difference between a list and a tuple in Python?\n",
       "2. Explain the concept of inheritance in Python.\n",
       "\n",
       "Answers:\n",
       "1. A list and a tuple are both data structures in Python, but they have some differences. \n",
       "   - A list is mutable, which means its elements can be modified after it is created. On the other hand, a tuple is immutable, meaning its elements cannot be changed once it is created.\n",
       "   - Lists are defined using square brackets [], while tuples are defined using parentheses ().\n",
       "   - Lists are typically used for storing collections of similar items, while tuples are often used for grouping related data together.\n",
       "\n",
       "2. Inheritance is a key concept in object-oriented programming, including Python. It allows a class to inherit attributes and methods from another class, known as the parent or base class. The class that inherits from the parent class is called the child or derived class.\n",
       "\n",
       "   In Python, inheritance is implemented using the syntax:\n",
       "   ```\n",
       "   class ChildClass(ParentClass):\n",
       "       # Child class definition\n",
       "   ```\n",
       "\n",
       "   The child class can access and use the attributes and methods of the parent class, and it can also override or extend them as needed. This allows for code reuse and promotes a hierarchical organization of classes."
      ],
      "text/plain": [
       "<IPython.core.display.Markdown object>"
      ]
     },
     "execution_count": 14,
     "metadata": {},
     "output_type": "execute_result"
    }
   ],
   "source": [
    "Markdown(quiz_response)"
   ]
  }
 ],
 "metadata": {
  "kernelspec": {
   "display_name": "oreilly_env",
   "language": "python",
   "name": "oreilly_env"
  },
  "language_info": {
   "codemirror_mode": {
    "name": "ipython",
    "version": 3
   },
   "file_extension": ".py",
   "mimetype": "text/x-python",
   "name": "python",
   "nbconvert_exporter": "python",
   "pygments_lexer": "ipython3",
   "version": "3.11.5"
  },
  "orig_nbformat": 4
 },
 "nbformat": 4,
 "nbformat_minor": 2
}
