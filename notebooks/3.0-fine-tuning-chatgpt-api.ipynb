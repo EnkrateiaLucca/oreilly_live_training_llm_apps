{
 "cells": [
  {
   "cell_type": "code",
   "execution_count": null,
   "metadata": {},
   "outputs": [],
   "source": [
    "!pip install openai\n",
    "!pip install python-dotenv"
   ]
  },
  {
   "cell_type": "code",
   "execution_count": null,
   "metadata": {},
   "outputs": [],
   "source": [
    "import os\n",
    "from dotenv import load_dotenv\n",
    "from openai import OpenAI\n",
    "\n",
    "# loading from a .env file\n",
    "# load_dotenv(dotenv_path=\"/full/path/to/your/.env\")\n",
    "\n",
    "# or \n",
    "# if you're on google colab just uncomment below and replace with your openai api key\n",
    "# os.environ[\"OPENAI_API_KEY\"] = \"<your-openai-api-key>\""
   ]
  },
  {
   "cell_type": "markdown",
   "metadata": {},
   "source": [
    "# Fine Tunning ChatGPT to Create Automatic Planning Schedules "
   ]
  },
  {
   "cell_type": "markdown",
   "metadata": {},
   "source": [
    "Let's look at the documentation on the [OPENAI website](https://platform.openai.com/docs/guides/fine-tuning/preparing-your-dataset) to learn how to fine tune a chatgpt model to a specific use case using a custom dataset."
   ]
  },
  {
   "cell_type": "markdown",
   "metadata": {},
   "source": [
    "Starting with the basics, we need an example format, which should be as such:\n",
    "\n",
    "```\n",
    "{\"messages\": [{\"role\": \"system\", \"content\": \"Marv is a factual chatbot that is also sarcastic.\"}, {\"role\": \"user\", \"content\": \"What's the capital of France?\"}, {\"role\": \"assistant\", \"content\": \"Paris, as if everyone doesn't know that already.\"}]}\n",
    "{\"messages\": [{\"role\": \"system\", \"content\": \"Marv is a factual chatbot that is also sarcastic.\"}, {\"role\": \"user\", \"content\": \"Who wrote 'Romeo and Juliet'?\"}, {\"role\": \"assistant\", \"content\": \"Oh, just some guy named William Shakespeare. Ever heard of him?\"}]}\n",
    "{\"messages\": [{\"role\": \"system\", \"content\": \"Marv is a factual chatbot that is also sarcastic.\"}, {\"role\": \"user\", \"content\": \"How far is the Moon from Earth?\"}, {\"role\": \"assistant\", \"content\": \"Around 384,400 kilometers. Give or take a few, like that really matters.\"}]}\n",
    "```"
   ]
  },
  {
   "cell_type": "markdown",
   "metadata": {},
   "source": [
    "So, to fine tune a ChatGPT model we'll need to create a dataset organized in the format shown above. Essentially we'll have a .json file with several (as many as the number of inputs for the fine tunning) dictionaries that have this format of:\n",
    "\n",
    "```\n",
    "{\"<messages key>\"}: [{\"role\": \"system\", \"<content key>\": \"<some text content>\"},\n",
    "{\"<messages key>\"}: {\"role\": \"user\", \"<content key>\": \"<some text content>\"},\n",
    "{\"<messages key>\"}: {\"role\": \"assistant\", \"<content key>\": \"<some text content>\"}]\n",
    "```\n",
    "\n",
    "Here we'll assume that we will only fine tune actual ChatGPT, so we won't cover the formats for models like 'babbage-002' and others."
   ]
  },
  {
   "cell_type": "markdown",
   "metadata": {},
   "source": [
    "Ok, given this format, let's create our dataset."
   ]
  },
  {
   "cell_type": "markdown",
   "metadata": {},
   "source": [
    "Quote from the actual documentation:\n",
    "\n",
    "\n",
    "> To fine-tune a model, you are required to provide at least 10 examples. We typically see clear improvements from fine-tuning on 50 to 100 training examples with gpt-3.5-turbo but the right number varies greatly based on the exact use case.\n",
    "\n"
   ]
  },
  {
   "cell_type": "markdown",
   "metadata": {},
   "source": [
    "Let's try to get at least 30 examples for our custom dataset."
   ]
  },
  {
   "cell_type": "markdown",
   "metadata": {},
   "source": [
    "Just as in regular fine tunning with any Machine Learning model, its advisable to get stablish a train-test split so that you are on top of your model's performance."
   ]
  },
  {
   "cell_type": "markdown",
   "metadata": {},
   "source": [
    "Also, its extremely important to be aware of token limits and token costs, given that this will be a paid API.\n",
    "\n",
    "Each training example will be limited to the context length of ChatGPT (therefore 4096 tokens), so its good to set some good practices in place to avoid issues with large inputs, the [OpenAI documentation](https://platform.openai.com/docs/guides/fine-tuning/preparing-your-dataset#:~:text=Each%20training%20example,the%20OpenAI%20cookbook.) recommends you check that the total token count in the message contents are under 4000 as a good rule of thumb."
   ]
  },
  {
   "cell_type": "markdown",
   "metadata": {},
   "source": [
    "Let's first create this dataset programatically using GPT4"
   ]
  },
  {
   "cell_type": "code",
   "execution_count": 1,
   "metadata": {},
   "outputs": [],
   "source": [
    "from openai import OpenAI\n",
    "import tiktoken\n",
    "from IPython.display import display, Markdown\n",
    "\n",
    "\n",
    "def get_response(prompt):\n",
    "    client = OpenAI()\n",
    "    response = client.chat.completions.create(model=\"gpt-4o-mini\", \n",
    "                             messages=\n",
    "                             [\n",
    "                                 {\"role\": \"system\", \"content\": \"You are a helpful assistant.\"},\n",
    "                                 {\"role\": \"user\", \"content\": prompt}   \n",
    "                             ],\n",
    "                             temperature=0.0,\n",
    "                             n = 1\n",
    "                             )\n",
    "    return response.choices[0].message.content\n",
    "\n",
    "\n",
    "def get_num_tokens(prompt, model=\"gpt-3.5-turbo\"):\n",
    "    \"\"\"Calculates the number of tokens in a text prompt\"\"\"    \n",
    "\n",
    "    enc = tiktoken.encoding_for_model(model)\n",
    "\n",
    "    return len(enc.encode(prompt))"
   ]
  },
  {
   "cell_type": "markdown",
   "metadata": {},
   "source": [
    "Great! Now, let manually inspect the flashcards generated with gpt4 to select the best ones for our custom training dataset."
   ]
  },
  {
   "cell_type": "code",
   "execution_count": 2,
   "metadata": {},
   "outputs": [
    {
     "data": {
      "text/markdown": [
       "- I plan to finish writing the first draft of my novel by the end of next week. I will dedicate at least two hours every day to writing and revising to ensure that I stay on track and meet my goal.\n",
       "- My goal for the upcoming weeks is to complete the online course I enrolled in and earn a certificate in digital marketing. I will allocate time each day to watch the lectures, complete the assignments, and participate in the discussion forums to maximize my learning.\n",
       "- I aim to improve my physical fitness by incorporating a new workout routine into my schedule. I will focus on strength training three times a week and incorporate yoga and stretching exercises to improve flexibility and reduce stress.\n",
       "- I have set a goal to declutter and organize my entire home over the next few weeks. I will tackle one room at a time, sorting through items, donating or discarding what I no longer need, and creating a more functional and peaceful living space.\n",
       "- My task for the upcoming weeks is to research and plan a budget-friendly vacation for my family. I will compare travel options, accommodations, and activities to ensure that we have a memorable and affordable trip.\n",
       "- I am committed to learning a new language, and my goal for the upcoming weeks is to practice speaking and listening for at least 30 minutes each day. I will use language learning apps, watch foreign films, and engage in conversations with native speakers to improve my skills.\n",
       "- I plan to enhance my culinary skills by trying out new recipes and cooking techniques. I will set aside time each week to experiment with different cuisines and expand my cooking repertoire.\n",
       "- My goal for the upcoming weeks is to establish a daily meditation practice to promote mindfulness and reduce stress. I will start with short sessions and gradually increase the duration to incorporate meditation into my daily routine.\n",
       "- I aim to improve my time management skills by creating a detailed schedule for each day and prioritizing tasks based on their importance and deadlines. I will use time-tracking tools to monitor my progress and make adjustments as needed.\n",
       "- I have set a goal to read at least two books per month, and I will dedicate time each day to immerse myself in literature and expand my knowledge and imagination.\n",
       "- My task for the upcoming weeks is to develop a personal finance plan to save money and achieve my financial goals. I will review my expenses, create a budget, and explore investment opportunities to secure my financial future.\n",
       "- I plan to enhance my professional skills by enrolling in an online course related to my field of work. I will dedicate time each day to study the course materials and apply the new knowledge to my job.\n",
       "- My goal for the upcoming weeks is to improve my networking skills by reaching out to industry professionals and attending virtual networking events. I will set specific goals for each interaction and follow up with contacts to build meaningful connections.\n",
       "- I aim to prioritize self-care by incorporating regular exercise, healthy eating, and relaxation techniques into my daily routine. I will create a self-care plan and commit to practicing self-care activities consistently.\n",
       "- I have set a goal to volunteer at a local charity organization and contribute to meaningful causes in my community. I will research volunteer opportunities and dedicate my time and skills to make a positive impact."
      ],
      "text/plain": [
       "<IPython.core.display.Markdown object>"
      ]
     },
     "metadata": {},
     "output_type": "display_data"
    }
   ],
   "source": [
    "prompt = f\"Create 15 examples of 1 paragraph first person human-like descriptions of tasks and goals for the upcoming weeks. Each example should be in a bullet point.\"\n",
    "\n",
    "task_paragraphs = get_response(prompt)\n",
    "\n",
    "display(Markdown(task_paragraphs))"
   ]
  },
  {
   "cell_type": "code",
   "execution_count": 3,
   "metadata": {},
   "outputs": [
    {
     "data": {
      "text/plain": [
       "['- I plan to finish writing the first draft of my novel by the end of next week. I will dedicate at least two hours every day to writing and revising to ensure that I stay on track and meet my goal.',\n",
       " '- My goal for the upcoming weeks is to complete the online course I enrolled in and earn a certificate in digital marketing. I will allocate time each day to watch the lectures, complete the assignments, and participate in the discussion forums to maximize my learning.',\n",
       " '- I aim to improve my physical fitness by incorporating a new workout routine into my schedule. I will focus on strength training three times a week and incorporate yoga and stretching exercises to improve flexibility and reduce stress.',\n",
       " '- I have set a goal to declutter and organize my entire home over the next few weeks. I will tackle one room at a time, sorting through items, donating or discarding what I no longer need, and creating a more functional and peaceful living space.',\n",
       " '- My task for the upcoming weeks is to research and plan a budget-friendly vacation for my family. I will compare travel options, accommodations, and activities to ensure that we have a memorable and affordable trip.',\n",
       " '- I am committed to learning a new language, and my goal for the upcoming weeks is to practice speaking and listening for at least 30 minutes each day. I will use language learning apps, watch foreign films, and engage in conversations with native speakers to improve my skills.',\n",
       " '- I plan to enhance my culinary skills by trying out new recipes and cooking techniques. I will set aside time each week to experiment with different cuisines and expand my cooking repertoire.',\n",
       " '- My goal for the upcoming weeks is to establish a daily meditation practice to promote mindfulness and reduce stress. I will start with short sessions and gradually increase the duration to incorporate meditation into my daily routine.',\n",
       " '- I aim to improve my time management skills by creating a detailed schedule for each day and prioritizing tasks based on their importance and deadlines. I will use time-tracking tools to monitor my progress and make adjustments as needed.',\n",
       " '- I have set a goal to read at least two books per month, and I will dedicate time each day to immerse myself in literature and expand my knowledge and imagination.',\n",
       " '- My task for the upcoming weeks is to develop a personal finance plan to save money and achieve my financial goals. I will review my expenses, create a budget, and explore investment opportunities to secure my financial future.',\n",
       " '- I plan to enhance my professional skills by enrolling in an online course related to my field of work. I will dedicate time each day to study the course materials and apply the new knowledge to my job.',\n",
       " '- My goal for the upcoming weeks is to improve my networking skills by reaching out to industry professionals and attending virtual networking events. I will set specific goals for each interaction and follow up with contacts to build meaningful connections.',\n",
       " '- I aim to prioritize self-care by incorporating regular exercise, healthy eating, and relaxation techniques into my daily routine. I will create a self-care plan and commit to practicing self-care activities consistently.',\n",
       " '- I have set a goal to volunteer at a local charity organization and contribute to meaningful causes in my community. I will research volunteer opportunities and dedicate my time and skills to make a positive impact.']"
      ]
     },
     "execution_count": 3,
     "metadata": {},
     "output_type": "execute_result"
    }
   ],
   "source": [
    "task_list_prompts = task_paragraphs.split(\"\\n\")\n",
    "\n",
    "task_list_prompts"
   ]
  },
  {
   "cell_type": "code",
   "execution_count": 4,
   "metadata": {},
   "outputs": [
    {
     "name": "stdout",
     "output_type": "stream",
     "text": [
      "- I plan to finish writing the first draft of my novel by the end of next week. I will dedicate at least two hours every day to writing and revising to ensure that I stay on track and meet my goal.\n",
      "- My goal for the upcoming weeks is to complete the online course I enrolled in and earn a certificate in digital marketing. I will allocate time each day to watch the lectures, complete the assignments, and participate in the discussion forums to maximize my learning.\n",
      "- I aim to improve my physical fitness by incorporating a new workout routine into my schedule. I will focus on strength training three times a week and incorporate yoga and stretching exercises to improve flexibility and reduce stress.\n",
      "- I have set a goal to declutter and organize my entire home over the next few weeks. I will tackle one room at a time, sorting through items, donating or discarding what I no longer need, and creating a more functional and peaceful living space.\n",
      "- My task for the upcoming weeks is to research and plan a budget-friendly vacation for my family. I will compare travel options, accommodations, and activities to ensure that we have a memorable and affordable trip.\n",
      "- I am committed to learning a new language, and my goal for the upcoming weeks is to practice speaking and listening for at least 30 minutes each day. I will use language learning apps, watch foreign films, and engage in conversations with native speakers to improve my skills.\n",
      "- I plan to enhance my culinary skills by trying out new recipes and cooking techniques. I will set aside time each week to experiment with different cuisines and expand my cooking repertoire.\n",
      "- My goal for the upcoming weeks is to establish a daily meditation practice to promote mindfulness and reduce stress. I will start with short sessions and gradually increase the duration to incorporate meditation into my daily routine.\n",
      "- I aim to improve my time management skills by creating a detailed schedule for each day and prioritizing tasks based on their importance and deadlines. I will use time-tracking tools to monitor my progress and make adjustments as needed.\n",
      "- I have set a goal to read at least two books per month, and I will dedicate time each day to immerse myself in literature and expand my knowledge and imagination.\n",
      "- My task for the upcoming weeks is to develop a personal finance plan to save money and achieve my financial goals. I will review my expenses, create a budget, and explore investment opportunities to secure my financial future.\n",
      "- I plan to enhance my professional skills by enrolling in an online course related to my field of work. I will dedicate time each day to study the course materials and apply the new knowledge to my job.\n",
      "- My goal for the upcoming weeks is to improve my networking skills by reaching out to industry professionals and attending virtual networking events. I will set specific goals for each interaction and follow up with contacts to build meaningful connections.\n",
      "- I aim to prioritize self-care by incorporating regular exercise, healthy eating, and relaxation techniques into my daily routine. I will create a self-care plan and commit to practicing self-care activities consistently.\n",
      "- I have set a goal to volunteer at a local charity organization and contribute to meaningful causes in my community. I will research volunteer opportunities and dedicate my time and skills to make a positive impact.\n"
     ]
    }
   ],
   "source": [
    "for t in task_list_prompts:\n",
    "    print(t)"
   ]
  },
  {
   "cell_type": "code",
   "execution_count": 5,
   "metadata": {},
   "outputs": [],
   "source": [
    "task_steps = []\n",
    "for t in task_list_prompts:\n",
    "    prompt = f\"Given this paragraph description of tasks and goals: \\n '''{t}''' \\n create a bullet point list with all the necessary steps to accomplish all of them.\"\n",
    "    task_steps.append(get_response(prompt))"
   ]
  },
  {
   "cell_type": "markdown",
   "metadata": {},
   "source": [
    "Let's evaluate the dataset generated programatically:"
   ]
  },
  {
   "cell_type": "code",
   "execution_count": 6,
   "metadata": {},
   "outputs": [
    {
     "data": {
      "text/markdown": [
       "- Set a specific daily writing schedule, allocating at least two hours each day for writing and revising.\n",
       "- Break down the novel into manageable sections or chapters to work on each day.\n",
       "- Create a checklist of tasks for each writing session, such as outlining, drafting, revising, and editing.\n",
       "- Set specific milestones for completing each section of the novel to track progress.\n",
       "- Eliminate distractions during writing time to maximize productivity.\n",
       "- Seek feedback from trusted individuals to ensure the quality and coherence of the novel.\n",
       "- Allocate time for rest and relaxation to avoid burnout and maintain creativity."
      ],
      "text/plain": [
       "<IPython.core.display.Markdown object>"
      ]
     },
     "metadata": {},
     "output_type": "display_data"
    },
    {
     "data": {
      "text/markdown": [
       "- Allocate specific time each day to watch the lectures\n",
       "- Complete the assignments on time\n",
       "- Actively participate in the discussion forums\n",
       "- Review and revise the course material regularly\n",
       "- Seek additional resources or help if needed\n",
       "- Stay organized and focused on the course material\n",
       "- Prepare for any assessments or exams\n",
       "- Stay updated with the latest trends and developments in digital marketing"
      ],
      "text/plain": [
       "<IPython.core.display.Markdown object>"
      ]
     },
     "metadata": {},
     "output_type": "display_data"
    },
    {
     "data": {
      "text/markdown": [
       "- Research and choose a suitable strength training routine\n",
       "- Schedule three strength training sessions per week\n",
       "- Research and choose a suitable yoga routine\n",
       "- Schedule yoga sessions to be incorporated into weekly routine\n",
       "- Research and choose stretching exercises to improve flexibility\n",
       "- Schedule stretching exercises to be incorporated into weekly routine\n",
       "- Set specific goals for physical fitness improvement\n",
       "- Monitor progress and adjust routine as needed to achieve goals"
      ],
      "text/plain": [
       "<IPython.core.display.Markdown object>"
      ]
     },
     "metadata": {},
     "output_type": "display_data"
    },
    {
     "data": {
      "text/markdown": [
       "- Assess the entire home and create a plan to tackle one room at a time\n",
       "- Gather necessary organizing supplies such as bins, baskets, and labels\n",
       "- Sort through items in each room, deciding what to keep, donate, or discard\n",
       "- Clean and organize the items that are being kept\n",
       "- Donate or discard items that are no longer needed\n",
       "- Create a system for maintaining organization in each room\n",
       "- Enjoy the functional and peaceful living space created by the decluttering and organizing efforts"
      ],
      "text/plain": [
       "<IPython.core.display.Markdown object>"
      ]
     },
     "metadata": {},
     "output_type": "display_data"
    },
    {
     "data": {
      "text/markdown": [
       "- Research travel options, including flights, train, and car rental\n",
       "- Compare accommodations such as hotels, vacation rentals, and hostels\n",
       "- Research and plan activities and attractions for the vacation destination\n",
       "- Create a budget spreadsheet to track expenses and ensure affordability\n",
       "- Consider cost-saving measures such as booking in advance or using travel rewards\n",
       "- Consult with family members to gather input and preferences for the vacation\n",
       "- Make reservations for transportation, accommodations, and activities\n",
       "- Continuously review and adjust the plan to ensure it remains budget-friendly"
      ],
      "text/plain": [
       "<IPython.core.display.Markdown object>"
      ]
     },
     "metadata": {},
     "output_type": "display_data"
    },
    {
     "data": {
      "text/markdown": [
       "- Use language learning apps to practice speaking and listening for at least 30 minutes each day.\n",
       "- Watch foreign films to improve listening skills and exposure to the language.\n",
       "- Engage in conversations with native speakers to practice speaking and listening in real-life situations."
      ],
      "text/plain": [
       "<IPython.core.display.Markdown object>"
      ]
     },
     "metadata": {},
     "output_type": "display_data"
    },
    {
     "data": {
      "text/markdown": [
       "- Research and collect new recipes and cooking techniques from various sources such as cookbooks, cooking websites, and cooking shows.\n",
       "- Set aside a specific day and time each week dedicated to experimenting with new recipes and cooking techniques.\n",
       "- Create a list of different cuisines and dishes to try, ensuring a diverse range of cooking experiences.\n",
       "- Gather necessary ingredients and kitchen tools for each new recipe or cooking technique.\n",
       "- Document the results of each cooking experiment, noting successes and areas for improvement.\n",
       "- Continuously seek feedback from friends and family to improve culinary skills.\n",
       "- Reflect on the progress and adjust the plan as needed to expand the cooking repertoire."
      ],
      "text/plain": [
       "<IPython.core.display.Markdown object>"
      ]
     },
     "metadata": {},
     "output_type": "display_data"
    },
    {
     "data": {
      "text/markdown": [
       "- Set a specific time each day for meditation\n",
       "- Start with short 5-10 minute meditation sessions\n",
       "- Find a quiet and comfortable space for meditation\n",
       "- Use guided meditation apps or videos to help with the practice\n",
       "- Gradually increase the duration of meditation sessions\n",
       "- Keep a journal to track progress and experiences with meditation\n",
       "- Stay consistent and committed to the daily practice"
      ],
      "text/plain": [
       "<IPython.core.display.Markdown object>"
      ]
     },
     "metadata": {},
     "output_type": "display_data"
    },
    {
     "data": {
      "text/markdown": [
       "- Create a detailed schedule for each day\n",
       "- Prioritize tasks based on importance and deadlines\n",
       "- Use time-tracking tools to monitor progress\n",
       "- Make adjustments to the schedule as needed\n",
       "- Set specific goals for improving time management skills"
      ],
      "text/plain": [
       "<IPython.core.display.Markdown object>"
      ]
     },
     "metadata": {},
     "output_type": "display_data"
    },
    {
     "data": {
      "text/markdown": [
       "- Schedule dedicated time each day for reading\n",
       "- Create a list of books to read for the month\n",
       "- Set aside time for book selection and research\n",
       "- Track progress and adjust reading schedule as needed\n",
       "- Find a comfortable and quiet reading space\n",
       "- Take notes and reflect on the books read\n",
       "- Explore different genres and authors to expand knowledge and imagination"
      ],
      "text/plain": [
       "<IPython.core.display.Markdown object>"
      ]
     },
     "metadata": {},
     "output_type": "display_data"
    },
    {
     "data": {
      "text/markdown": [
       "- Review expenses\n",
       "- Create a budget\n",
       "- Explore investment opportunities\n",
       "- Develop a personal finance plan\n",
       "- Save money\n",
       "- Achieve financial goals\n",
       "- Secure financial future"
      ],
      "text/plain": [
       "<IPython.core.display.Markdown object>"
      ]
     },
     "metadata": {},
     "output_type": "display_data"
    },
    {
     "data": {
      "text/markdown": [
       "- Research and select a relevant online course related to my field of work\n",
       "- Enroll in the chosen online course\n",
       "- Set aside dedicated time each day to study the course materials\n",
       "- Take notes and actively engage with the course content\n",
       "- Apply the new knowledge gained from the course to my job tasks and projects"
      ],
      "text/plain": [
       "<IPython.core.display.Markdown object>"
      ]
     },
     "metadata": {},
     "output_type": "display_data"
    },
    {
     "data": {
      "text/markdown": [
       "- Research industry professionals and identify potential contacts\n",
       "- Reach out to industry professionals via email or LinkedIn\n",
       "- Set specific goals for each networking interaction, such as learning about a specific aspect of the industry or gaining insights into a particular company\n",
       "- Attend virtual networking events and actively participate in discussions\n",
       "- Follow up with contacts after networking interactions to express gratitude and continue building the relationship\n",
       "- Keep track of networking activities and connections made for future reference and follow-up"
      ],
      "text/plain": [
       "<IPython.core.display.Markdown object>"
      ]
     },
     "metadata": {},
     "output_type": "display_data"
    },
    {
     "data": {
      "text/markdown": [
       "- Create a self-care plan\n",
       "- Schedule regular exercise sessions\n",
       "- Plan and prepare healthy meals\n",
       "- Incorporate relaxation techniques into daily routine\n",
       "- Commit to practicing self-care activities consistently"
      ],
      "text/plain": [
       "<IPython.core.display.Markdown object>"
      ]
     },
     "metadata": {},
     "output_type": "display_data"
    },
    {
     "data": {
      "text/markdown": [
       "- Research local charity organizations and their volunteer opportunities\n",
       "- Contact the chosen charity organization to inquire about their volunteer needs and application process\n",
       "- Schedule a time to volunteer and commit to the agreed-upon schedule\n",
       "- Prepare necessary skills or training required for the volunteer work\n",
       "- Dedicate time and effort to contribute to the meaningful causes of the charity organization\n",
       "- Reflect on the impact made and consider further involvement or support"
      ],
      "text/plain": [
       "<IPython.core.display.Markdown object>"
      ]
     },
     "metadata": {},
     "output_type": "display_data"
    }
   ],
   "source": [
    "for t in task_steps:\n",
    "    display(Markdown(t))"
   ]
  },
  {
   "cell_type": "code",
   "execution_count": 7,
   "metadata": {},
   "outputs": [
    {
     "name": "stdout",
     "output_type": "stream",
     "text": [
      "- I plan to finish writing the first draft of my novel by the end of next week. I will dedicate at least two hours every day to writing and revising to ensure that I stay on track and meet my goal.\n",
      "- Set a specific daily writing schedule, allocating at least two hours each day for writing and revising.\n",
      "- Break down the novel into manageable sections or chapters to work on each day.\n",
      "- Create a checklist of tasks for each writing session, such as outlining, drafting, revising, and editing.\n",
      "- Set specific milestones for completing each section of the novel to track progress.\n",
      "- Eliminate distractions during writing time to maximize productivity.\n",
      "- Seek feedback from trusted individuals to ensure the quality and coherence of the novel.\n",
      "- Allocate time for rest and relaxation to avoid burnout and maintain creativity.\n",
      "************\n",
      "- My goal for the upcoming weeks is to complete the online course I enrolled in and earn a certificate in digital marketing. I will allocate time each day to watch the lectures, complete the assignments, and participate in the discussion forums to maximize my learning.\n",
      "- Allocate specific time each day to watch the lectures\n",
      "- Complete the assignments on time\n",
      "- Actively participate in the discussion forums\n",
      "- Review and revise the course material regularly\n",
      "- Seek additional resources or help if needed\n",
      "- Stay organized and focused on the course material\n",
      "- Prepare for any assessments or exams\n",
      "- Stay updated with the latest trends and developments in digital marketing\n",
      "************\n",
      "- I aim to improve my physical fitness by incorporating a new workout routine into my schedule. I will focus on strength training three times a week and incorporate yoga and stretching exercises to improve flexibility and reduce stress.\n",
      "- Research and choose a suitable strength training routine\n",
      "- Schedule three strength training sessions per week\n",
      "- Research and choose a suitable yoga routine\n",
      "- Schedule yoga sessions to be incorporated into weekly routine\n",
      "- Research and choose stretching exercises to improve flexibility\n",
      "- Schedule stretching exercises to be incorporated into weekly routine\n",
      "- Set specific goals for physical fitness improvement\n",
      "- Monitor progress and adjust routine as needed to achieve goals\n",
      "************\n",
      "- I have set a goal to declutter and organize my entire home over the next few weeks. I will tackle one room at a time, sorting through items, donating or discarding what I no longer need, and creating a more functional and peaceful living space.\n",
      "- Assess the entire home and create a plan to tackle one room at a time\n",
      "- Gather necessary organizing supplies such as bins, baskets, and labels\n",
      "- Sort through items in each room, deciding what to keep, donate, or discard\n",
      "- Clean and organize the items that are being kept\n",
      "- Donate or discard items that are no longer needed\n",
      "- Create a system for maintaining organization in each room\n",
      "- Enjoy the functional and peaceful living space created by the decluttering and organizing efforts\n",
      "************\n",
      "- My task for the upcoming weeks is to research and plan a budget-friendly vacation for my family. I will compare travel options, accommodations, and activities to ensure that we have a memorable and affordable trip.\n",
      "- Research travel options, including flights, train, and car rental\n",
      "- Compare accommodations such as hotels, vacation rentals, and hostels\n",
      "- Research and plan activities and attractions for the vacation destination\n",
      "- Create a budget spreadsheet to track expenses and ensure affordability\n",
      "- Consider cost-saving measures such as booking in advance or using travel rewards\n",
      "- Consult with family members to gather input and preferences for the vacation\n",
      "- Make reservations for transportation, accommodations, and activities\n",
      "- Continuously review and adjust the plan to ensure it remains budget-friendly\n",
      "************\n",
      "- I am committed to learning a new language, and my goal for the upcoming weeks is to practice speaking and listening for at least 30 minutes each day. I will use language learning apps, watch foreign films, and engage in conversations with native speakers to improve my skills.\n",
      "- Use language learning apps to practice speaking and listening for at least 30 minutes each day.\n",
      "- Watch foreign films to improve listening skills and exposure to the language.\n",
      "- Engage in conversations with native speakers to practice speaking and listening in real-life situations.\n",
      "************\n",
      "- I plan to enhance my culinary skills by trying out new recipes and cooking techniques. I will set aside time each week to experiment with different cuisines and expand my cooking repertoire.\n",
      "- Research and collect new recipes and cooking techniques from various sources such as cookbooks, cooking websites, and cooking shows.\n",
      "- Set aside a specific day and time each week dedicated to experimenting with new recipes and cooking techniques.\n",
      "- Create a list of different cuisines and dishes to try, ensuring a diverse range of cooking experiences.\n",
      "- Gather necessary ingredients and kitchen tools for each new recipe or cooking technique.\n",
      "- Document the results of each cooking experiment, noting successes and areas for improvement.\n",
      "- Continuously seek feedback from friends and family to improve culinary skills.\n",
      "- Reflect on the progress and adjust the plan as needed to expand the cooking repertoire.\n",
      "************\n",
      "- My goal for the upcoming weeks is to establish a daily meditation practice to promote mindfulness and reduce stress. I will start with short sessions and gradually increase the duration to incorporate meditation into my daily routine.\n",
      "- Set a specific time each day for meditation\n",
      "- Start with short 5-10 minute meditation sessions\n",
      "- Find a quiet and comfortable space for meditation\n",
      "- Use guided meditation apps or videos to help with the practice\n",
      "- Gradually increase the duration of meditation sessions\n",
      "- Keep a journal to track progress and experiences with meditation\n",
      "- Stay consistent and committed to the daily practice\n",
      "************\n",
      "- I aim to improve my time management skills by creating a detailed schedule for each day and prioritizing tasks based on their importance and deadlines. I will use time-tracking tools to monitor my progress and make adjustments as needed.\n",
      "- Create a detailed schedule for each day\n",
      "- Prioritize tasks based on importance and deadlines\n",
      "- Use time-tracking tools to monitor progress\n",
      "- Make adjustments to the schedule as needed\n",
      "- Set specific goals for improving time management skills\n",
      "************\n",
      "- I have set a goal to read at least two books per month, and I will dedicate time each day to immerse myself in literature and expand my knowledge and imagination.\n",
      "- Schedule dedicated time each day for reading\n",
      "- Create a list of books to read for the month\n",
      "- Set aside time for book selection and research\n",
      "- Track progress and adjust reading schedule as needed\n",
      "- Find a comfortable and quiet reading space\n",
      "- Take notes and reflect on the books read\n",
      "- Explore different genres and authors to expand knowledge and imagination\n",
      "************\n",
      "- My task for the upcoming weeks is to develop a personal finance plan to save money and achieve my financial goals. I will review my expenses, create a budget, and explore investment opportunities to secure my financial future.\n",
      "- Review expenses\n",
      "- Create a budget\n",
      "- Explore investment opportunities\n",
      "- Develop a personal finance plan\n",
      "- Save money\n",
      "- Achieve financial goals\n",
      "- Secure financial future\n",
      "************\n",
      "- I plan to enhance my professional skills by enrolling in an online course related to my field of work. I will dedicate time each day to study the course materials and apply the new knowledge to my job.\n",
      "- Research and select a relevant online course related to my field of work\n",
      "- Enroll in the chosen online course\n",
      "- Set aside dedicated time each day to study the course materials\n",
      "- Take notes and actively engage with the course content\n",
      "- Apply the new knowledge gained from the course to my job tasks and projects\n",
      "************\n",
      "- My goal for the upcoming weeks is to improve my networking skills by reaching out to industry professionals and attending virtual networking events. I will set specific goals for each interaction and follow up with contacts to build meaningful connections.\n",
      "- Research industry professionals and identify potential contacts\n",
      "- Reach out to industry professionals via email or LinkedIn\n",
      "- Set specific goals for each networking interaction, such as learning about a specific aspect of the industry or gaining insights into a particular company\n",
      "- Attend virtual networking events and actively participate in discussions\n",
      "- Follow up with contacts after networking interactions to express gratitude and continue building the relationship\n",
      "- Keep track of networking activities and connections made for future reference and follow-up\n",
      "************\n",
      "- I aim to prioritize self-care by incorporating regular exercise, healthy eating, and relaxation techniques into my daily routine. I will create a self-care plan and commit to practicing self-care activities consistently.\n",
      "- Create a self-care plan\n",
      "- Schedule regular exercise sessions\n",
      "- Plan and prepare healthy meals\n",
      "- Incorporate relaxation techniques into daily routine\n",
      "- Commit to practicing self-care activities consistently\n",
      "************\n",
      "- I have set a goal to volunteer at a local charity organization and contribute to meaningful causes in my community. I will research volunteer opportunities and dedicate my time and skills to make a positive impact.\n",
      "- Research local charity organizations and their volunteer opportunities\n",
      "- Contact the chosen charity organization to inquire about their volunteer needs and application process\n",
      "- Schedule a time to volunteer and commit to the agreed-upon schedule\n",
      "- Prepare necessary skills or training required for the volunteer work\n",
      "- Dedicate time and effort to contribute to the meaningful causes of the charity organization\n",
      "- Reflect on the impact made and consider further involvement or support\n",
      "************\n"
     ]
    }
   ],
   "source": [
    "for desc,steps in zip(task_list_prompts, task_steps):\n",
    "    print(desc) \n",
    "    print(steps)\n",
    "    print(\"************\")"
   ]
  },
  {
   "cell_type": "code",
   "execution_count": 8,
   "metadata": {},
   "outputs": [
    {
     "name": "stdout",
     "output_type": "stream",
     "text": [
      "[]\n"
     ]
    }
   ],
   "source": [
    "empty_indices = [i for i, x in enumerate(task_list_prompts) if not x]\n",
    "print(empty_indices)"
   ]
  },
  {
   "cell_type": "code",
   "execution_count": 9,
   "metadata": {},
   "outputs": [],
   "source": [
    "# # Define the indexes to remove\n",
    "# indexes_to_remove = [1, 3, 5, 7, 9, 11, 13, 15, 17, 19, 21, 23, 25, 27]\n",
    "\n",
    "# # Remove the elements with the given indexes from task_list_prompts and task_steps\n",
    "# task_list_prompts = [t for i, t in enumerate(task_list_prompts) if i not in indexes_to_remove]\n",
    "# task_steps = [t for i, t in enumerate(task_steps) if i not in indexes_to_remove]"
   ]
  },
  {
   "cell_type": "code",
   "execution_count": null,
   "metadata": {},
   "outputs": [],
   "source": [
    "# prompt_to_gpt4 = \"\"\"Consider this format for a dataset for the chatgpt fine tuning api:\n",
    "# '''\n",
    "# {\"messages\": [{\"role\": \"system\", \"content\": \"Marv is a factual chatbot that is also sarcastic.\"}, {\"role\": \"user\", \"content\": \"What's the capital of France?\"}, {\"role\": \"assistant\", \"content\": \"Paris, as if everyone doesn't know that already.\"}]}\n",
    "# {\"messages\": [{\"role\": \"system\", \"content\": \"Marv is a factual chatbot that is also sarcastic.\"}, {\"role\": \"user\", \"content\": \"Who wrote 'Romeo and Juliet'?\"}, {\"role\": \"assistant\", \"content\": \"Oh, just some guy named William Shakespeare. Ever heard of him?\"}]}\n",
    "# {\"messages\": [{\"role\": \"system\", \"content\": \"Marv is a factual chatbot that is also sarcastic.\"}, {\"role\": \"user\", \"content\": \"How far is the Moon from Earth?\"}, {\"role\": \"assistant\", \"content\": \"Around 384,400 kilometers. Give or take a few, like that really matters.\"}]}\n",
    "# '''\n",
    "\n",
    "# Write the python code to create a dataset like this one programatically given that the system prompt will always be: \"You are a helpful planning assistant\"\n",
    "# and that the user prompts will be inside a list called 'task_list_prompts' and the assistant content will be inside a list called 'task_steps'.\"\"\""
   ]
  },
  {
   "cell_type": "code",
   "execution_count": 10,
   "metadata": {},
   "outputs": [],
   "source": [
    "import json\n",
    "\n",
    "# Ensure the lists have the same length\n",
    "assert len(task_list_prompts) == len(task_steps), \"Mismatched lengths between prompts and responses\"\n",
    "\n",
    "# Creating the dataset\n",
    "dataset = []\n",
    "system_prompt = \"You are a helpful planning assistant\"\n",
    "\n",
    "for user_content, assistant_content in zip(task_list_prompts, task_steps):\n",
    "    interaction = {\n",
    "        \"messages\": [\n",
    "            {\"role\": \"system\", \"content\": system_prompt},\n",
    "            {\"role\": \"user\", \"content\": user_content},\n",
    "            {\"role\": \"assistant\", \"content\": assistant_content}\n",
    "        ]\n",
    "    }\n",
    "    dataset.append(interaction)"
   ]
  },
  {
   "cell_type": "code",
   "execution_count": 11,
   "metadata": {},
   "outputs": [
    {
     "data": {
      "text/plain": [
       "[{'messages': [{'role': 'system',\n",
       "    'content': 'You are a helpful planning assistant'},\n",
       "   {'role': 'user',\n",
       "    'content': '- I plan to finish writing the first draft of my novel by the end of next week. I will dedicate at least two hours every day to writing and revising to ensure that I stay on track and meet my goal.'},\n",
       "   {'role': 'assistant',\n",
       "    'content': '- Set a specific daily writing schedule, allocating at least two hours each day for writing and revising.\\n- Break down the novel into manageable sections or chapters to work on each day.\\n- Create a checklist of tasks for each writing session, such as outlining, drafting, revising, and editing.\\n- Set specific milestones for completing each section of the novel to track progress.\\n- Eliminate distractions during writing time to maximize productivity.\\n- Seek feedback from trusted individuals to ensure the quality and coherence of the novel.\\n- Allocate time for rest and relaxation to avoid burnout and maintain creativity.'}]},\n",
       " {'messages': [{'role': 'system',\n",
       "    'content': 'You are a helpful planning assistant'},\n",
       "   {'role': 'user',\n",
       "    'content': '- My goal for the upcoming weeks is to complete the online course I enrolled in and earn a certificate in digital marketing. I will allocate time each day to watch the lectures, complete the assignments, and participate in the discussion forums to maximize my learning.'},\n",
       "   {'role': 'assistant',\n",
       "    'content': '- Allocate specific time each day to watch the lectures\\n- Complete the assignments on time\\n- Actively participate in the discussion forums\\n- Review and revise the course material regularly\\n- Seek additional resources or help if needed\\n- Stay organized and focused on the course material\\n- Prepare for any assessments or exams\\n- Stay updated with the latest trends and developments in digital marketing'}]},\n",
       " {'messages': [{'role': 'system',\n",
       "    'content': 'You are a helpful planning assistant'},\n",
       "   {'role': 'user',\n",
       "    'content': '- I aim to improve my physical fitness by incorporating a new workout routine into my schedule. I will focus on strength training three times a week and incorporate yoga and stretching exercises to improve flexibility and reduce stress.'},\n",
       "   {'role': 'assistant',\n",
       "    'content': '- Research and choose a suitable strength training routine\\n- Schedule three strength training sessions per week\\n- Research and choose a suitable yoga routine\\n- Schedule yoga sessions to be incorporated into weekly routine\\n- Research and choose stretching exercises to improve flexibility\\n- Schedule stretching exercises to be incorporated into weekly routine\\n- Set specific goals for physical fitness improvement\\n- Monitor progress and adjust routine as needed to achieve goals'}]},\n",
       " {'messages': [{'role': 'system',\n",
       "    'content': 'You are a helpful planning assistant'},\n",
       "   {'role': 'user',\n",
       "    'content': '- I have set a goal to declutter and organize my entire home over the next few weeks. I will tackle one room at a time, sorting through items, donating or discarding what I no longer need, and creating a more functional and peaceful living space.'},\n",
       "   {'role': 'assistant',\n",
       "    'content': '- Assess the entire home and create a plan to tackle one room at a time\\n- Gather necessary organizing supplies such as bins, baskets, and labels\\n- Sort through items in each room, deciding what to keep, donate, or discard\\n- Clean and organize the items that are being kept\\n- Donate or discard items that are no longer needed\\n- Create a system for maintaining organization in each room\\n- Enjoy the functional and peaceful living space created by the decluttering and organizing efforts'}]},\n",
       " {'messages': [{'role': 'system',\n",
       "    'content': 'You are a helpful planning assistant'},\n",
       "   {'role': 'user',\n",
       "    'content': '- My task for the upcoming weeks is to research and plan a budget-friendly vacation for my family. I will compare travel options, accommodations, and activities to ensure that we have a memorable and affordable trip.'},\n",
       "   {'role': 'assistant',\n",
       "    'content': '- Research travel options, including flights, train, and car rental\\n- Compare accommodations such as hotels, vacation rentals, and hostels\\n- Research and plan activities and attractions for the vacation destination\\n- Create a budget spreadsheet to track expenses and ensure affordability\\n- Consider cost-saving measures such as booking in advance or using travel rewards\\n- Consult with family members to gather input and preferences for the vacation\\n- Make reservations for transportation, accommodations, and activities\\n- Continuously review and adjust the plan to ensure it remains budget-friendly'}]},\n",
       " {'messages': [{'role': 'system',\n",
       "    'content': 'You are a helpful planning assistant'},\n",
       "   {'role': 'user',\n",
       "    'content': '- I am committed to learning a new language, and my goal for the upcoming weeks is to practice speaking and listening for at least 30 minutes each day. I will use language learning apps, watch foreign films, and engage in conversations with native speakers to improve my skills.'},\n",
       "   {'role': 'assistant',\n",
       "    'content': '- Use language learning apps to practice speaking and listening for at least 30 minutes each day.\\n- Watch foreign films to improve listening skills and exposure to the language.\\n- Engage in conversations with native speakers to practice speaking and listening in real-life situations.'}]},\n",
       " {'messages': [{'role': 'system',\n",
       "    'content': 'You are a helpful planning assistant'},\n",
       "   {'role': 'user',\n",
       "    'content': '- I plan to enhance my culinary skills by trying out new recipes and cooking techniques. I will set aside time each week to experiment with different cuisines and expand my cooking repertoire.'},\n",
       "   {'role': 'assistant',\n",
       "    'content': '- Research and collect new recipes and cooking techniques from various sources such as cookbooks, cooking websites, and cooking shows.\\n- Set aside a specific day and time each week dedicated to experimenting with new recipes and cooking techniques.\\n- Create a list of different cuisines and dishes to try, ensuring a diverse range of cooking experiences.\\n- Gather necessary ingredients and kitchen tools for each new recipe or cooking technique.\\n- Document the results of each cooking experiment, noting successes and areas for improvement.\\n- Continuously seek feedback from friends and family to improve culinary skills.\\n- Reflect on the progress and adjust the plan as needed to expand the cooking repertoire.'}]},\n",
       " {'messages': [{'role': 'system',\n",
       "    'content': 'You are a helpful planning assistant'},\n",
       "   {'role': 'user',\n",
       "    'content': '- My goal for the upcoming weeks is to establish a daily meditation practice to promote mindfulness and reduce stress. I will start with short sessions and gradually increase the duration to incorporate meditation into my daily routine.'},\n",
       "   {'role': 'assistant',\n",
       "    'content': '- Set a specific time each day for meditation\\n- Start with short 5-10 minute meditation sessions\\n- Find a quiet and comfortable space for meditation\\n- Use guided meditation apps or videos to help with the practice\\n- Gradually increase the duration of meditation sessions\\n- Keep a journal to track progress and experiences with meditation\\n- Stay consistent and committed to the daily practice'}]},\n",
       " {'messages': [{'role': 'system',\n",
       "    'content': 'You are a helpful planning assistant'},\n",
       "   {'role': 'user',\n",
       "    'content': '- I aim to improve my time management skills by creating a detailed schedule for each day and prioritizing tasks based on their importance and deadlines. I will use time-tracking tools to monitor my progress and make adjustments as needed.'},\n",
       "   {'role': 'assistant',\n",
       "    'content': '- Create a detailed schedule for each day\\n- Prioritize tasks based on importance and deadlines\\n- Use time-tracking tools to monitor progress\\n- Make adjustments to the schedule as needed\\n- Set specific goals for improving time management skills'}]},\n",
       " {'messages': [{'role': 'system',\n",
       "    'content': 'You are a helpful planning assistant'},\n",
       "   {'role': 'user',\n",
       "    'content': '- I have set a goal to read at least two books per month, and I will dedicate time each day to immerse myself in literature and expand my knowledge and imagination.'},\n",
       "   {'role': 'assistant',\n",
       "    'content': '- Schedule dedicated time each day for reading\\n- Create a list of books to read for the month\\n- Set aside time for book selection and research\\n- Track progress and adjust reading schedule as needed\\n- Find a comfortable and quiet reading space\\n- Take notes and reflect on the books read\\n- Explore different genres and authors to expand knowledge and imagination'}]},\n",
       " {'messages': [{'role': 'system',\n",
       "    'content': 'You are a helpful planning assistant'},\n",
       "   {'role': 'user',\n",
       "    'content': '- My task for the upcoming weeks is to develop a personal finance plan to save money and achieve my financial goals. I will review my expenses, create a budget, and explore investment opportunities to secure my financial future.'},\n",
       "   {'role': 'assistant',\n",
       "    'content': '- Review expenses\\n- Create a budget\\n- Explore investment opportunities\\n- Develop a personal finance plan\\n- Save money\\n- Achieve financial goals\\n- Secure financial future'}]},\n",
       " {'messages': [{'role': 'system',\n",
       "    'content': 'You are a helpful planning assistant'},\n",
       "   {'role': 'user',\n",
       "    'content': '- I plan to enhance my professional skills by enrolling in an online course related to my field of work. I will dedicate time each day to study the course materials and apply the new knowledge to my job.'},\n",
       "   {'role': 'assistant',\n",
       "    'content': '- Research and select a relevant online course related to my field of work\\n- Enroll in the chosen online course\\n- Set aside dedicated time each day to study the course materials\\n- Take notes and actively engage with the course content\\n- Apply the new knowledge gained from the course to my job tasks and projects'}]},\n",
       " {'messages': [{'role': 'system',\n",
       "    'content': 'You are a helpful planning assistant'},\n",
       "   {'role': 'user',\n",
       "    'content': '- My goal for the upcoming weeks is to improve my networking skills by reaching out to industry professionals and attending virtual networking events. I will set specific goals for each interaction and follow up with contacts to build meaningful connections.'},\n",
       "   {'role': 'assistant',\n",
       "    'content': '- Research industry professionals and identify potential contacts\\n- Reach out to industry professionals via email or LinkedIn\\n- Set specific goals for each networking interaction, such as learning about a specific aspect of the industry or gaining insights into a particular company\\n- Attend virtual networking events and actively participate in discussions\\n- Follow up with contacts after networking interactions to express gratitude and continue building the relationship\\n- Keep track of networking activities and connections made for future reference and follow-up'}]},\n",
       " {'messages': [{'role': 'system',\n",
       "    'content': 'You are a helpful planning assistant'},\n",
       "   {'role': 'user',\n",
       "    'content': '- I aim to prioritize self-care by incorporating regular exercise, healthy eating, and relaxation techniques into my daily routine. I will create a self-care plan and commit to practicing self-care activities consistently.'},\n",
       "   {'role': 'assistant',\n",
       "    'content': '- Create a self-care plan\\n- Schedule regular exercise sessions\\n- Plan and prepare healthy meals\\n- Incorporate relaxation techniques into daily routine\\n- Commit to practicing self-care activities consistently'}]},\n",
       " {'messages': [{'role': 'system',\n",
       "    'content': 'You are a helpful planning assistant'},\n",
       "   {'role': 'user',\n",
       "    'content': '- I have set a goal to volunteer at a local charity organization and contribute to meaningful causes in my community. I will research volunteer opportunities and dedicate my time and skills to make a positive impact.'},\n",
       "   {'role': 'assistant',\n",
       "    'content': '- Research local charity organizations and their volunteer opportunities\\n- Contact the chosen charity organization to inquire about their volunteer needs and application process\\n- Schedule a time to volunteer and commit to the agreed-upon schedule\\n- Prepare necessary skills or training required for the volunteer work\\n- Dedicate time and effort to contribute to the meaningful causes of the charity organization\\n- Reflect on the impact made and consider further involvement or support'}]}]"
      ]
     },
     "execution_count": 11,
     "metadata": {},
     "output_type": "execute_result"
    }
   ],
   "source": [
    "dataset"
   ]
  },
  {
   "cell_type": "code",
   "execution_count": 12,
   "metadata": {},
   "outputs": [],
   "source": [
    "# Writing to a file\n",
    "with open('dataset.jsonl', 'w') as f:\n",
    "    for entry in dataset:\n",
    "        f.write(json.dumps(entry) + '\\n')\n",
    "\n",
    "# Now 'dataset.jsonl' will contain the dataset in the desired format."
   ]
  },
  {
   "cell_type": "code",
   "execution_count": 13,
   "metadata": {},
   "outputs": [],
   "source": [
    "# source: https://cookbook.openai.com/examples/chat_finetuning_data_prep\n",
    "import json\n",
    "import tiktoken # for token counting\n",
    "import numpy as np\n",
    "from collections import defaultdict"
   ]
  },
  {
   "cell_type": "code",
   "execution_count": 14,
   "metadata": {},
   "outputs": [
    {
     "name": "stdout",
     "output_type": "stream",
     "text": [
      "Num examples: 15\n",
      "First example:\n",
      "{'role': 'system', 'content': 'You are a helpful planning assistant'}\n",
      "{'role': 'user', 'content': '- I plan to finish writing the first draft of my novel by the end of next week. I will dedicate at least two hours every day to writing and revising to ensure that I stay on track and meet my goal.'}\n",
      "{'role': 'assistant', 'content': '- Set a specific daily writing schedule, allocating at least two hours each day for writing and revising.\\n- Break down the novel into manageable sections or chapters to work on each day.\\n- Create a checklist of tasks for each writing session, such as outlining, drafting, revising, and editing.\\n- Set specific milestones for completing each section of the novel to track progress.\\n- Eliminate distractions during writing time to maximize productivity.\\n- Seek feedback from trusted individuals to ensure the quality and coherence of the novel.\\n- Allocate time for rest and relaxation to avoid burnout and maintain creativity.'}\n"
     ]
    }
   ],
   "source": [
    "data_path = \"./dataset.jsonl\"\n",
    "\n",
    "# Load the dataset\n",
    "with open(data_path, 'r', encoding='utf-8') as f:\n",
    "    dataset = [json.loads(line) for line in f]\n",
    "\n",
    "# Initial dataset stats\n",
    "print(\"Num examples:\", len(dataset))\n",
    "print(\"First example:\")\n",
    "for message in dataset[0][\"messages\"]:\n",
    "    print(message)"
   ]
  },
  {
   "cell_type": "markdown",
   "metadata": {},
   "source": [
    "Perfect! Now lets estimate some token counts and costs."
   ]
  },
  {
   "cell_type": "markdown",
   "metadata": {},
   "source": [
    "We'll be checkinf for this validation checklist as described in the [tutorial suggested by the OpenAI docs](https://cookbook.openai.com/examples/chat_finetuning_data_prep#:~:text=Format%20validation,for%20easier%20debugging.).  "
   ]
  },
  {
   "cell_type": "code",
   "execution_count": 15,
   "metadata": {},
   "outputs": [
    {
     "name": "stdout",
     "output_type": "stream",
     "text": [
      "No errors found\n"
     ]
    }
   ],
   "source": [
    "# Format error checks\n",
    "format_errors = defaultdict(int)\n",
    "\n",
    "for ex in dataset:\n",
    "    if not isinstance(ex, dict):\n",
    "        format_errors[\"data_type\"] += 1\n",
    "        continue\n",
    "        \n",
    "    messages = ex.get(\"messages\", None)\n",
    "    if not messages:\n",
    "        format_errors[\"missing_messages_list\"] += 1\n",
    "        continue\n",
    "        \n",
    "    for message in messages:\n",
    "        if \"role\" not in message or \"content\" not in message:\n",
    "            format_errors[\"message_missing_key\"] += 1\n",
    "        \n",
    "        if any(k not in (\"role\", \"content\", \"name\", \"function_call\") for k in message):\n",
    "            format_errors[\"message_unrecognized_key\"] += 1\n",
    "        \n",
    "        if message.get(\"role\", None) not in (\"system\", \"user\", \"assistant\", \"function\"):\n",
    "            format_errors[\"unrecognized_role\"] += 1\n",
    "            \n",
    "        content = message.get(\"content\", None)\n",
    "        function_call = message.get(\"function_call\", None)\n",
    "        \n",
    "        if (not content and not function_call) or not isinstance(content, str):\n",
    "            format_errors[\"missing_content\"] += 1\n",
    "    \n",
    "    if not any(message.get(\"role\", None) == \"assistant\" for message in messages):\n",
    "        format_errors[\"example_missing_assistant_message\"] += 1\n",
    "\n",
    "if format_errors:\n",
    "    print(\"Found errors:\")\n",
    "    for k, v in format_errors.items():\n",
    "        print(f\"{k}: {v}\")\n",
    "else:\n",
    "    print(\"No errors found\")"
   ]
  },
  {
   "cell_type": "code",
   "execution_count": 16,
   "metadata": {},
   "outputs": [],
   "source": [
    "# Some helpful utilities\n",
    "\n",
    "encoding = tiktoken.get_encoding(\"cl100k_base\")\n",
    "\n",
    "# not exact!\n",
    "# simplified from https://github.com/openai/openai-cookbook/blob/main/examples/How_to_count_tokens_with_tiktoken.ipynb\n",
    "def num_tokens_from_messages(messages, tokens_per_message=3, tokens_per_name=1):\n",
    "    num_tokens = 0\n",
    "    for message in messages:\n",
    "        num_tokens += tokens_per_message\n",
    "        for key, value in message.items():\n",
    "            num_tokens += len(encoding.encode(value))\n",
    "            if key == \"name\":\n",
    "                num_tokens += tokens_per_name\n",
    "    num_tokens += 3\n",
    "    return num_tokens\n",
    "\n",
    "def num_assistant_tokens_from_messages(messages):\n",
    "    num_tokens = 0\n",
    "    for message in messages:\n",
    "        if message[\"role\"] == \"assistant\":\n",
    "            num_tokens += len(encoding.encode(message[\"content\"]))\n",
    "    return num_tokens\n",
    "\n",
    "def print_distribution(values, name):\n",
    "    print(f\"\\n#### Distribution of {name}:\")\n",
    "    print(f\"min / max: {min(values)}, {max(values)}\")\n",
    "    print(f\"mean / median: {np.mean(values)}, {np.median(values)}\")\n",
    "    print(f\"p5 / p95: {np.quantile(values, 0.1)}, {np.quantile(values, 0.9)}\")"
   ]
  },
  {
   "cell_type": "markdown",
   "metadata": {},
   "source": [
    "Data warnings and token counts."
   ]
  },
  {
   "cell_type": "code",
   "execution_count": 17,
   "metadata": {},
   "outputs": [
    {
     "name": "stdout",
     "output_type": "stream",
     "text": [
      "Num examples missing system message: 0\n",
      "Num examples missing user message: 0\n",
      "\n",
      "#### Distribution of num_messages_per_example:\n",
      "min / max: 3, 3\n",
      "mean / median: 3.0, 3.0\n",
      "p5 / p95: 3.0, 3.0\n",
      "\n",
      "#### Distribution of num_total_tokens_per_example:\n",
      "min / max: 97, 184\n",
      "mean / median: 141.06666666666666, 142.0\n",
      "p5 / p95: 103.8, 179.0\n",
      "\n",
      "#### Distribution of num_assistant_tokens_per_example:\n",
      "min / max: 35, 127\n",
      "mean / median: 77.0, 76.0\n",
      "p5 / p95: 40.6, 112.6\n",
      "\n",
      "0 examples may be over the 4096 token limit, they will be truncated during fine-tuning\n"
     ]
    }
   ],
   "source": [
    "# Warnings and tokens counts\n",
    "n_missing_system = 0\n",
    "n_missing_user = 0\n",
    "n_messages = []\n",
    "convo_lens = []\n",
    "assistant_message_lens = []\n",
    "\n",
    "for ex in dataset:\n",
    "    messages = ex[\"messages\"]\n",
    "    if not any(message[\"role\"] == \"system\" for message in messages):\n",
    "        n_missing_system += 1\n",
    "    if not any(message[\"role\"] == \"user\" for message in messages):\n",
    "        n_missing_user += 1\n",
    "    n_messages.append(len(messages))\n",
    "    convo_lens.append(num_tokens_from_messages(messages))\n",
    "    assistant_message_lens.append(num_assistant_tokens_from_messages(messages))\n",
    "    \n",
    "print(\"Num examples missing system message:\", n_missing_system)\n",
    "print(\"Num examples missing user message:\", n_missing_user)\n",
    "print_distribution(n_messages, \"num_messages_per_example\")\n",
    "print_distribution(convo_lens, \"num_total_tokens_per_example\")\n",
    "print_distribution(assistant_message_lens, \"num_assistant_tokens_per_example\")\n",
    "n_too_long = sum(l > 4096 for l in convo_lens)\n",
    "print(f\"\\n{n_too_long} examples may be over the 4096 token limit, they will be truncated during fine-tuning\")"
   ]
  },
  {
   "cell_type": "markdown",
   "metadata": {},
   "source": [
    "As we can see from the output obtained, all of our examples are under the context length, which means they won't have to be truncated which is great news! :)"
   ]
  },
  {
   "cell_type": "markdown",
   "metadata": {},
   "source": [
    "Cost estimation\n",
    "\n",
    "Let's estimate the cost of this fine tunning based on the number of tokens in our dataset."
   ]
  },
  {
   "cell_type": "code",
   "execution_count": 18,
   "metadata": {},
   "outputs": [
    {
     "name": "stdout",
     "output_type": "stream",
     "text": [
      "Dataset has ~2116 tokens that will be charged for during training\n",
      "By default, you'll train for 6 epochs on this dataset\n",
      "By default, you'll be charged for ~12696 tokens\n"
     ]
    }
   ],
   "source": [
    "# Pricing and default n_epochs estimate\n",
    "MAX_TOKENS_PER_EXAMPLE = 4096\n",
    "\n",
    "TARGET_EPOCHS = 3\n",
    "MIN_TARGET_EXAMPLES = 100\n",
    "MAX_TARGET_EXAMPLES = 25000\n",
    "MIN_DEFAULT_EPOCHS = 1\n",
    "MAX_DEFAULT_EPOCHS = 25\n",
    "\n",
    "n_epochs = TARGET_EPOCHS\n",
    "n_train_examples = len(dataset)\n",
    "if n_train_examples * TARGET_EPOCHS < MIN_TARGET_EXAMPLES:\n",
    "    n_epochs = min(MAX_DEFAULT_EPOCHS, MIN_TARGET_EXAMPLES // n_train_examples)\n",
    "elif n_train_examples * TARGET_EPOCHS > MAX_TARGET_EXAMPLES:\n",
    "    n_epochs = max(MIN_DEFAULT_EPOCHS, MAX_TARGET_EXAMPLES // n_train_examples)\n",
    "\n",
    "n_billing_tokens_in_dataset = sum(min(MAX_TOKENS_PER_EXAMPLE, length) for length in convo_lens)\n",
    "print(f\"Dataset has ~{n_billing_tokens_in_dataset} tokens that will be charged for during training\")\n",
    "print(f\"By default, you'll train for {n_epochs} epochs on this dataset\")\n",
    "print(f\"By default, you'll be charged for ~{n_epochs * n_billing_tokens_in_dataset} tokens\")"
   ]
  },
  {
   "cell_type": "markdown",
   "metadata": {},
   "source": [
    "Ok, as we can see it seems like this fine tunning is not going to cost that much, given that if I check on the [pricing page](https://openai.com/pricing) for the cost associated with this amount of tokens:\n",
    "\n",
    "![](2023-10-16-17-22-32.png)\n",
    "\n",
    "\n",
    "Let's write a little function to calculate these costs automatically:"
   ]
  },
  {
   "cell_type": "code",
   "execution_count": 19,
   "metadata": {},
   "outputs": [],
   "source": [
    "def calculate_cost_for_fine_tunning(token_count,api_cost=0.008):\n",
    "    return (api_cost*token_count)/1000"
   ]
  },
  {
   "cell_type": "code",
   "execution_count": 20,
   "metadata": {},
   "outputs": [
    {
     "data": {
      "text/plain": [
       "0.10156799999999999"
      ]
     },
     "execution_count": 20,
     "metadata": {},
     "output_type": "execute_result"
    }
   ],
   "source": [
    "calculate_cost_for_fine_tunning(n_epochs * n_billing_tokens_in_dataset)"
   ]
  },
  {
   "cell_type": "markdown",
   "metadata": {},
   "source": [
    "Ok, so it seems that the amount will be 0.10 cents which seems reasonable, although we should take into account the fact that we'll be charged more for using this fine tuned model as well, and we only used 10 examples for this use case!"
   ]
  },
  {
   "cell_type": "markdown",
   "metadata": {},
   "source": [
    "Now lets upload our newly generated dataset file!"
   ]
  },
  {
   "cell_type": "markdown",
   "metadata": {},
   "source": [
    "To do that part, lets write a simply Python script to upload the file, we'll use this snippet from the [OpenAI API docs](https://platform.openai.com/docs/guides/fine-tuning/preparing-your-dataset#:~:text=import%20os%20import%20openai%20openai.api_key%20%3D%20os.getenv(%22openai_api_key%22)%20openai.file.create(%20file%3Dopen(%22mydata.jsonl%22%2C%20%22rb%22)%2C%20purpose%3D'fine-tune'%20))."
   ]
  },
  {
   "cell_type": "code",
   "execution_count": 22,
   "metadata": {},
   "outputs": [
    {
     "data": {
      "text/plain": [
       "FileObject(id='file-oHEAh3zbbQxpSwHOyLBQEike', bytes=12150, created_at=1700930723, filename='dataset.jsonl', object='file', purpose='fine-tune', status='processed', status_details=None)"
      ]
     },
     "execution_count": 22,
     "metadata": {},
     "output_type": "execute_result"
    }
   ],
   "source": [
    "# import os\n",
    "# import openai\n",
    "\n",
    "# openai.File.create(\n",
    "#   file=open(\"./dataset.jsonl\", \"rb\"),\n",
    "#   purpose='fine-tune'\n",
    "# )\n",
    "\n",
    "from openai import OpenAI\n",
    "# OpenAI API key should be set as \n",
    "# environment variable - OPENAI_API_KEY\n",
    "client = OpenAI()\n",
    "client.files.create(\n",
    "  file=open(\"dataset.jsonl\", \"rb\"),\n",
    "  purpose=\"fine-tune\"\n",
    ")"
   ]
  },
  {
   "cell_type": "markdown",
   "metadata": {},
   "source": [
    "Now, finally, we create our fine-tuned model by running this:"
   ]
  },
  {
   "cell_type": "code",
   "execution_count": 23,
   "metadata": {},
   "outputs": [
    {
     "data": {
      "text/plain": [
       "FineTuningJob(id='ftjob-1IgjILLuqGmuoXc8Ywd1Gy5Q', created_at=1700930744, error=None, fine_tuned_model=None, finished_at=None, hyperparameters=Hyperparameters(n_epochs='auto', batch_size='auto', learning_rate_multiplier='auto'), model='gpt-3.5-turbo-1106', object='fine_tuning.job', organization_id='org-gpLJbCQWtORw077QTyeX1IVP', result_files=[], status='validating_files', trained_tokens=None, training_file='file-oHEAh3zbbQxpSwHOyLBQEike', validation_file=None)"
      ]
     },
     "execution_count": 23,
     "metadata": {},
     "output_type": "execute_result"
    }
   ],
   "source": [
    "client.fine_tuning.jobs.create(\n",
    "  training_file=\"file-oHEAh3zbbQxpSwHOyLBQEike\", \n",
    "  model=\"gpt-3.5-turbo\"\n",
    ")"
   ]
  },
  {
   "cell_type": "markdown",
   "metadata": {},
   "source": [
    "The `fine_tuning.job` object represents a fine-tuning job that has been created through the API.\n",
    "\n",
    "- `id`: The object identifier, which can be referenced in the API endpoints.\n",
    "- `created_at`: The Unix timestamp (in seconds) for when the fine-tuning job was created.\n",
    "- `error`: For fine-tuning jobs that have failed, this will contain more information on the cause of the failure.\n",
    "\n",
    "`fine_tuned_model`:\n",
    "- The name of the fine-tuned model that is being created. The value will be null if the fine-tuning job is still running.\n",
    "- `finished_at`: The Unix timestamp (in seconds) for when the fine-tuning job was finished. The value will be null if the fine-tuning job is still running.\n",
    "\n",
    "`hyperparameters`:\n",
    "- The hyperparameters used for the fine-tuning job. See the fine-tuning guide for more details.\n",
    "\n",
    "`model`:\n",
    "- The base model that is being fine-tuned.\n",
    "- `object`: The object type, which is always \"fine_tuning.job\".\n",
    "- `organization_id`: The organization that owns the fine-tuning job.\n",
    "\n",
    "`result_files`:\n",
    "- The compiled results file ID(s) for the fine-tuning job. You can retrieve the results with the Files API.\n",
    "\n",
    "`status`:\n",
    "- The current status of the fine-tuning job, which can be either validating_files, queued, running, succeeded, failed, or cancelled.\n",
    "\n",
    "`trained_tokens`:\n",
    "- The total number of billable tokens processed by this fine-tuning job. The value will be null if the fine-tuning job is still running.\n",
    "\n",
    "`training_file`:\n",
    "- The file ID used for training. You can retrieve the training data with the Files API.\n",
    "\n",
    "`validation_file`:\n",
    "- The file ID used for validation. You can retrieve the validation results with the Files API."
   ]
  },
  {
   "cell_type": "markdown",
   "metadata": {},
   "source": [
    "Here the `training_file` parameter correspond to the file id generated when running the previous snippet. \n"
   ]
  },
  {
   "cell_type": "markdown",
   "metadata": {},
   "source": [
    "Now we wait for an email confirmation that will let us know when the training is done. Which given the size of this job, should be pretty quckly"
   ]
  },
  {
   "cell_type": "code",
   "execution_count": 25,
   "metadata": {},
   "outputs": [
    {
     "data": {
      "text/plain": [
       "SyncPage[FileObject](data=[FileObject(id='file-oHEAh3zbbQxpSwHOyLBQEike', bytes=12150, created_at=1700930723, filename='dataset.jsonl', object='file', purpose='fine-tune', status='processed', status_details=None), FileObject(id='file-i0xEiew0XE7JmeemNkPowpNw', bytes=12150, created_at=1700930657, filename='dataset.jsonl', object='file', purpose='fine-tune', status='processed', status_details=None), FileObject(id='file-swbi7i0sZ2tamia92owNij4O', bytes=1071063, created_at=1699876627, filename='image_bad.png', object='file', purpose='assistants', status='processed', status_details=None), FileObject(id='file-rMnEZwgsstclLm8X8754AyPR', bytes=1071063, created_at=1699876449, filename='image_bad.png', object='file', purpose='assistants', status='processed', status_details=None), FileObject(id='file-ofI2BgpSm3POkFWNUkVi0q1R', bytes=1071063, created_at=1699876390, filename='image_bad.png', object='file', purpose='assistants', status='processed', status_details=None), FileObject(id='file-UcDnvqXEdY5XdNdYpGmpDmCb', bytes=1071063, created_at=1699876250, filename='image_bad.png', object='file', purpose='assistants', status='processed', status_details=None), FileObject(id='file-hrYzS4zbo8PN1KiK9nIotudK', bytes=1071063, created_at=1699876221, filename='image_bad.png', object='file', purpose='assistants', status='processed', status_details=None), FileObject(id='file-GfqPFkhMleUZoy6eIeNst7ng', bytes=1071063, created_at=1699876202, filename='image_bad.png', object='file', purpose='assistants', status='processed', status_details=None), FileObject(id='file-GgiOJWJVv9aa46sUTOGBLnk9', bytes=1071063, created_at=1699875791, filename='image_bad.png', object='file', purpose='assistants', status='processed', status_details=None), FileObject(id='file-jfY6c4sJiU0dilNyHPoP1J0v', bytes=1071063, created_at=1699875746, filename='image_bad.png', object='file', purpose='assistants', status='processed', status_details=None), FileObject(id='file-JvZD0kyotmkDUyd7ipPiyMTT', bytes=1071063, created_at=1699872551, filename='image_bad.png', object='file', purpose='assistants', status='processed', status_details=None), FileObject(id='file-lxyn02zWo0cYQlCJfxXUrAUU', bytes=20091304, created_at=1699567821, filename='The-Complete-Aristotle.pdf', object='file', purpose='assistants', status='processed', status_details=None), FileObject(id='file-pLSPX430TordTryZlGsEA1T8', bytes=334998, created_at=1699526079, filename='crop_not_working.png', object='file', purpose='assistants', status='processed', status_details=None), FileObject(id='file-jkMa4ulzgRpaKUAWtgl7ETqG', bytes=224230, created_at=1699523744, filename='crop_working.png', object='file', purpose='assistants', status='processed', status_details=None), FileObject(id='file-WBQSUBtCB8eaX2CjHf3Lj5Or', bytes=334998, created_at=1699523744, filename='crop_not_working.png', object='file', purpose='assistants', status='processed', status_details=None), FileObject(id='file-K8fPYxU4B3nYMMB3CKqaweF8', bytes=224230, created_at=1699523496, filename='crop_working.png', object='file', purpose='assistants', status='processed', status_details=None), FileObject(id='file-JTCHsnma37vhzDSxINWBto0w', bytes=334998, created_at=1699523496, filename='crop_not_working.png', object='file', purpose='assistants', status='processed', status_details=None), FileObject(id='file-d7kf60sigETbt3qmQqMtinzy', bytes=224230, created_at=1699523401, filename='crop_working.png', object='file', purpose='assistants', status='processed', status_details=None), FileObject(id='file-9AYEQor41BBHa7N2vL9gmOTF', bytes=334998, created_at=1699523401, filename='crop_not_working.png', object='file', purpose='assistants', status='processed', status_details=None), FileObject(id='file-R2pVfp8Gpymvpx6jZNtkrXTG', bytes=224230, created_at=1699523197, filename='crop_working.png', object='file', purpose='assistants', status='processed', status_details=None), FileObject(id='file-MYcvmDQuMDdAwxXVrw0fQQmS', bytes=334998, created_at=1699523197, filename='crop_not_working.png', object='file', purpose='assistants', status='processed', status_details=None), FileObject(id='file-tcCBNErqjRIDP6fhZZPeM39U', bytes=1418820, created_at=1699439944, filename='NIPS-2012-imagenet-classification-with-deep-convolutional-neural-networks-Paper.pdf', object='file', purpose='assistants', status='processed', status_details=None), FileObject(id='file-yZmfAaIVaIGqIcOHpn8V0yaA', bytes=1418820, created_at=1699439899, filename='NIPS-2012-imagenet-classification-with-deep-convolutional-neural-networks-Paper.pdf', object='file', purpose='assistants', status='processed', status_details=None), FileObject(id='file-yzpkNWmzrzyReEAl95KvvhNW', bytes=519, created_at=1699404939, filename='speech.csv', object='file', purpose='assistants', status='processed', status_details=None), FileObject(id='file-TJX3lK4qwIPkb0mISNQ0P1gk', bytes=519, created_at=1699404714, filename='speech.csv', object='file', purpose='assistants', status='processed', status_details=None), FileObject(id='file-qjLxwX9ldK4FE0QsIu5W6Pvh', bytes=530482, created_at=1699402334, filename='gans_paper.pdf', object='file', purpose='assistants', status='processed', status_details=None), FileObject(id='file-E7eyt8VGUEtcMekbBTm1Fs8B', bytes=530482, created_at=1699402177, filename='gans_paper.pdf', object='file', purpose='assistants', status='processed', status_details=None), FileObject(id='file-CIpUOpd2KGiQl6L0nx2Rh6e8', bytes=13661300, created_at=1699401617, filename='llama2_paper.pdf', object='file', purpose='assistants', status='processed', status_details=None), FileObject(id='file-a6vvp9itG2fVAi4Uh5l1eCIX', bytes=566, created_at=1699314683, filename='synthetic_dataset.csv', object='file', purpose='assistants', status='processed', status_details=None), FileObject(id='file-yybXd7AEEpg9oo33UP8ZDRy7', bytes=1152797, created_at=1699314262, filename='Learning_from_human_tutoring.pdf', object='file', purpose='assistants', status='processed', status_details=None), FileObject(id='file-DpX9PVkO1Y9bIndbRBjADyUS', bytes=1932, created_at=1697756448, filename='step_metrics.csv', object='file', purpose='fine-tune-results', status='processed', status_details=None), FileObject(id='file-ICGS6dyaltzMJuXdnHcpjGTr', bytes=34150, created_at=1697756044, filename='file', object='file', purpose='fine-tune', status='processed', status_details=None), FileObject(id='file-zjZeebCAziF8Z1GjEyEvXsRY', bytes=34150, created_at=1697755832, filename='file', object='file', purpose='fine-tune', status='processed', status_details=None), FileObject(id='file-DZhopqkDrs5xSzQsrzA4zbjN', bytes=2046, created_at=1697474053, filename='step_metrics.csv', object='file', purpose='fine-tune-results', status='processed', status_details=None), FileObject(id='file-kXlvspUQRKFUWcrW5pgzy0PW', bytes=91665, created_at=1697473593, filename='file', object='file', purpose='fine-tune', status='processed', status_details=None), FileObject(id='file-z7wvIoSwHXoWlEgtQX36uzz4', bytes=8688, created_at=1641424829, filename='compiled_results.csv', object='file', purpose='fine-tune-results', status='processed', status_details=None), FileObject(id='file-dgdfvCasaOWM9nENFCXiaRaP', bytes=71535, created_at=1641424499, filename='./prompt_data.json', object='file', purpose='fine-tune', status='processed', status_details=None), FileObject(id='file-taO7LakHMTv18ws1cH2ocC22', bytes=73695, created_at=1641424475, filename='./prompt_data.json', object='file', purpose='fine-tune', status='error', status_details='Invalid file format. Example 38 cannot be parsed. Error: line contains invalid json: Invalid control character at: line 1 column 768 (char 767) (line 38)'), FileObject(id='file-MvhptLxVWAbPYSN3ZB8hAyN3', bytes=73697, created_at=1641424357, filename='./prompt_data.json', object='file', purpose='fine-tune', status='error', status_details='Invalid file format. Example 38 cannot be parsed. Error: line contains invalid json: Invalid control character at: line 1 column 770 (char 769) (line 38)'), FileObject(id='file-eRs0dNcSXEE7SwZ2N3UjksLD', bytes=83286, created_at=1641424254, filename='./prompt_data.json', object='file', purpose='fine-tune', status='error', status_details='Invalid file format. Example 20 cannot be parsed. Error: line contains invalid json: Invalid \\\\escape: line 1 column 6172 (char 6171) (line 20)'), FileObject(id='file-ymysaDADiv0BTVyqECifwlxH', bytes=1154, created_at=1641411503, filename='compiled_results.csv', object='file', purpose='fine-tune-results', status='processed', status_details=None), FileObject(id='file-d3Qb6gOJDiI8BJnfYsmmIUyv', bytes=6807, created_at=1641411317, filename='./prompt_data.json', object='file', purpose='fine-tune', status='processed', status_details=None)], object='list', has_more=False)"
      ]
     },
     "execution_count": 25,
     "metadata": {},
     "output_type": "execute_result"
    }
   ],
   "source": [
    "# list_files = openai.File.list()\n",
    "client.files.list()"
   ]
  },
  {
   "cell_type": "markdown",
   "metadata": {},
   "source": [
    "Neat thing is that you can promatically query the status of your jobs:"
   ]
  },
  {
   "cell_type": "code",
   "execution_count": 26,
   "metadata": {},
   "outputs": [
    {
     "data": {
      "text/plain": [
       "SyncCursorPage[FineTuningJob](data=[FineTuningJob(id='ftjob-1IgjILLuqGmuoXc8Ywd1Gy5Q', created_at=1700930744, error=None, fine_tuned_model=None, finished_at=None, hyperparameters=Hyperparameters(n_epochs=6, batch_size=1, learning_rate_multiplier=2), model='gpt-3.5-turbo-1106', object='fine_tuning.job', organization_id='org-gpLJbCQWtORw077QTyeX1IVP', result_files=[], status='running', trained_tokens=None, training_file='file-oHEAh3zbbQxpSwHOyLBQEike', validation_file=None), FineTuningJob(id='ftjob-rPPzK29a1UkXFSHTdEQX4heY', created_at=1697756148, error=None, fine_tuned_model='ft:gpt-3.5-turbo-0613:personal::8BWIRV1U', finished_at=1697756446, hyperparameters=Hyperparameters(n_epochs=6, batch_size=1, learning_rate_multiplier=2), model='gpt-3.5-turbo-0613', object='fine_tuning.job', organization_id='org-gpLJbCQWtORw077QTyeX1IVP', result_files=['file-DpX9PVkO1Y9bIndbRBjADyUS'], status='succeeded', trained_tokens=38298, training_file='file-ICGS6dyaltzMJuXdnHcpjGTr', validation_file=None), FineTuningJob(id='ftjob-0G57koxcbLk7c6Z4maGRVPEd', created_at=1697473689, error=None, fine_tuned_model='ft:gpt-3.5-turbo-0613:personal::8AKpfptp', finished_at=1697474050, hyperparameters=Hyperparameters(n_epochs=9, batch_size=1, learning_rate_multiplier=2), model='gpt-3.5-turbo-0613', object='fine_tuning.job', organization_id='org-gpLJbCQWtORw077QTyeX1IVP', result_files=['file-DZhopqkDrs5xSzQsrzA4zbjN'], status='succeeded', trained_tokens=222309, training_file='file-kXlvspUQRKFUWcrW5pgzy0PW', validation_file=None)], object='list', has_more=False)"
      ]
     },
     "execution_count": 26,
     "metadata": {},
     "output_type": "execute_result"
    }
   ],
   "source": [
    "client.fine_tuning.jobs.list()\n",
    "\n",
    "# Example response object\n",
    "# {\n",
    "#   \"object\": \"list\",\n",
    "#   \"data\": [\n",
    "#     {\n",
    "#       \"object\": \"fine_tuning.job.event\",\n",
    "#       \"id\": \"ft-event-TjX0lMfOniCZX64t9PUQT5hn\",\n",
    "#       \"created_at\": 1689813489,\n",
    "#       \"level\": \"warn\",\n",
    "#       \"message\": \"Fine tuning process stopping due to job cancellation\",\n",
    "#       \"data\": null,\n",
    "#       \"type\": \"message\"\n",
    "#     },\n",
    "#     { ... },\n",
    "#     { ... }\n",
    "#   ], \"has_more\": true\n",
    "# }"
   ]
  },
  {
   "cell_type": "markdown",
   "metadata": {},
   "source": [
    "Retrieve fine tuning jobs"
   ]
  },
  {
   "cell_type": "code",
   "execution_count": 28,
   "metadata": {},
   "outputs": [
    {
     "name": "stdout",
     "output_type": "stream",
     "text": [
      "running\n"
     ]
    }
   ],
   "source": [
    "from openai import OpenAI\n",
    "client = OpenAI()\n",
    "\n",
    "fine_tune_job = client.fine_tuning.jobs.retrieve(\"ftjob-1IgjILLuqGmuoXc8Ywd1Gy5Q\")\n",
    "print(fine_tune_job.status)"
   ]
  },
  {
   "cell_type": "markdown",
   "metadata": {},
   "source": [
    "We can programatically check the status of our fine tuning job until it is done."
   ]
  },
  {
   "cell_type": "code",
   "execution_count": 30,
   "metadata": {},
   "outputs": [
    {
     "name": "stdout",
     "output_type": "stream",
     "text": [
      "succeeded\n",
      "Fine tuning job finished!\n",
      "succeeded\n"
     ]
    }
   ],
   "source": [
    "import time\n",
    "\n",
    "while fine_tune_job.status == \"running\":\n",
    "    fine_tune_job = client.fine_tuning.jobs.retrieve(\"ftjob-1IgjILLuqGmuoXc8Ywd1Gy5Q\")\n",
    "    print(fine_tune_job.status)\n",
    "    time.sleep(5)\n",
    "print(\"Fine tuning job finished!\")\n",
    "print(fine_tune_job.status)"
   ]
  },
  {
   "cell_type": "code",
   "execution_count": null,
   "metadata": {},
   "outputs": [],
   "source": [
    "# # List 10 fine-tuning jobs\n",
    "# openai.FineTuningJob.list(limit=10)\n",
    "\n",
    "# # Retrieve the state of a fine-tune\n",
    "# openai.FineTuningJob.retrieve(\"ftjob-rPPzK29a1UkXFSHTdEQX4heY\")\n",
    "\n",
    "# Cancel a job\n",
    "#openai.FineTuningJob.cancel(\"file-kXlvspUQRKFUWcrW5pgzy0PW\")\n",
    "\n",
    "# List up to 10 events from a fine-tuning job\n",
    "#openai.FineTuningJob.list_events(id=\"file-kXlvspUQRKFUWcrW5pgzy0PW\", limit=10)"
   ]
  },
  {
   "cell_type": "markdown",
   "metadata": {},
   "source": [
    "Cancel fine tuning job"
   ]
  },
  {
   "cell_type": "code",
   "execution_count": null,
   "metadata": {},
   "outputs": [],
   "source": [
    "from openai import OpenAI\n",
    "client = OpenAI()\n",
    "\n",
    "client.fine_tuning.jobs.cancel(\"ftjob-abc123\")"
   ]
  },
  {
   "cell_type": "markdown",
   "metadata": {},
   "source": [
    "Now we can go to the platform to check out our fine tuned model or run inference from it using the API! Let's look at how to run our fine tuned model"
   ]
  },
  {
   "cell_type": "markdown",
   "metadata": {},
   "source": [
    "IN the platform we see:"
   ]
  },
  {
   "cell_type": "markdown",
   "metadata": {},
   "source": [
    "![](./assets-resources/fine_tune_model.png)"
   ]
  },
  {
   "cell_type": "markdown",
   "metadata": {},
   "source": [
    "So, we can choose that model and see how it performs for a different set of tasks."
   ]
  },
  {
   "cell_type": "markdown",
   "metadata": {},
   "source": [
    "Querying the model:\n",
    "![](2023-10-20-00-05-50.png)"
   ]
  },
  {
   "cell_type": "code",
   "execution_count": 31,
   "metadata": {},
   "outputs": [
    {
     "data": {
      "text/plain": [
       "\"Sure, here's a random list of tasks a programmer might have to do in a typical day:\\n\\n1. Review and respond to emails and messages from team members and stakeholders.\\n2. Attend daily stand-up meetings to discuss progress and plan for the day.\\n3. Write code to implement new features or fix bugs in existing software.\\n4. Test and debug code to ensure it functions as expected.\\n5. Collaborate with other team members to discuss technical solutions and best practices.\\n6. Participate in code reviews to provide feedback on colleagues' code and receive feedback on your own code.\\n7. Research and learn about new technologies and tools that could improve the development process.\\n8. Document code and write technical documentation for new features or changes.\\n9. Attend meetings with product managers and designers to discuss requirements and user interface designs.\\n10. Help troubleshoot and resolve technical issues reported by users or support teams.\\n\\nThis list is just a sample and may vary depending on the specific role and responsibilities of the programmer.\""
      ]
     },
     "execution_count": 31,
     "metadata": {},
     "output_type": "execute_result"
    }
   ],
   "source": [
    "get_response(\"Generate a random list of tasks a normal programmer would have to do in a typical day\")"
   ]
  },
  {
   "cell_type": "markdown",
   "metadata": {},
   "source": [
    "![](./assets-resources/fine-tune-response-planning.png)"
   ]
  },
  {
   "cell_type": "markdown",
   "metadata": {},
   "source": [
    "The fine tuned model is definitely more thourough than the regular ChatGPT model so I would call this a nice success! :)"
   ]
  },
  {
   "cell_type": "markdown",
   "metadata": {},
   "source": [
    "Now, let's run inference with our fine tuned model!"
   ]
  },
  {
   "cell_type": "code",
   "execution_count": 33,
   "metadata": {},
   "outputs": [
    {
     "data": {
      "text/markdown": [
       "- Practice for presentation at the live-training for O'Reilly\n",
       "- Run through all the slides and notebooks to check everything is in order\n",
       "- Jiu Jitsu training\n",
       "- One more rehearsal for the live-training at 18:00"
      ],
      "text/plain": [
       "<IPython.core.display.Markdown object>"
      ]
     },
     "execution_count": 33,
     "metadata": {},
     "output_type": "execute_result"
    }
   ],
   "source": [
    "from IPython.display import display, Markdown\n",
    "\n",
    "def get_response(prompt, fine_tuned_model_id=\"ft:gpt-3.5-turbo-1106:personal::8Oq91T4e\"):\n",
    "    client = OpenAI()\n",
    "    response = client.chat.completions.create(model=fine_tuned_model_id, \n",
    "                             messages=\n",
    "                             [\n",
    "                                 {\"role\": \"system\", \"content\": \"You are a helpful assistant.\"},\n",
    "                                 {\"role\": \"user\", \"content\": prompt}   \n",
    "                             ],\n",
    "                             temperature=0.0,\n",
    "                             n = 1\n",
    "                             )\n",
    "    return response.choices[0].message.content\n",
    "\n",
    "\n",
    "response = get_response(\"Tomorrow I have to practice for my presentation at the live-training for O'Reilly at least a couple more times, then run through all the slides and notebooks to check everything is in order. After that I have Jiu Jitsu training and one more rehearsal before the live-training at 18:00\")\n",
    "Markdown(response)"
   ]
  },
  {
   "cell_type": "code",
   "execution_count": 37,
   "metadata": {},
   "outputs": [
    {
     "data": {
      "text/plain": [
       "ModelDeleted(id='ft:gpt-3.5-turbo-1106:personal::8Oq91T4e', deleted=True, object='model')"
      ]
     },
     "execution_count": 37,
     "metadata": {},
     "output_type": "execute_result"
    }
   ],
   "source": [
    "client.models.delete(\"ft:gpt-3.5-turbo-1106:personal::8Oq91T4e\")"
   ]
  },
  {
   "cell_type": "code",
   "execution_count": 38,
   "metadata": {},
   "outputs": [
    {
     "data": {
      "text/plain": [
       "SyncPage[FileObject](data=[FileObject(id='file-TN1bKdmEvA2CcBF74q4rarl6', bytes=1767, created_at=1700931008, filename='step_metrics.csv', object='file', purpose='fine-tune-results', status='processed', status_details=None), FileObject(id='file-oHEAh3zbbQxpSwHOyLBQEike', bytes=12150, created_at=1700930723, filename='dataset.jsonl', object='file', purpose='fine-tune', status='processed', status_details=None), FileObject(id='file-i0xEiew0XE7JmeemNkPowpNw', bytes=12150, created_at=1700930657, filename='dataset.jsonl', object='file', purpose='fine-tune', status='processed', status_details=None), FileObject(id='file-swbi7i0sZ2tamia92owNij4O', bytes=1071063, created_at=1699876627, filename='image_bad.png', object='file', purpose='assistants', status='processed', status_details=None), FileObject(id='file-rMnEZwgsstclLm8X8754AyPR', bytes=1071063, created_at=1699876449, filename='image_bad.png', object='file', purpose='assistants', status='processed', status_details=None), FileObject(id='file-ofI2BgpSm3POkFWNUkVi0q1R', bytes=1071063, created_at=1699876390, filename='image_bad.png', object='file', purpose='assistants', status='processed', status_details=None), FileObject(id='file-UcDnvqXEdY5XdNdYpGmpDmCb', bytes=1071063, created_at=1699876250, filename='image_bad.png', object='file', purpose='assistants', status='processed', status_details=None), FileObject(id='file-hrYzS4zbo8PN1KiK9nIotudK', bytes=1071063, created_at=1699876221, filename='image_bad.png', object='file', purpose='assistants', status='processed', status_details=None), FileObject(id='file-GfqPFkhMleUZoy6eIeNst7ng', bytes=1071063, created_at=1699876202, filename='image_bad.png', object='file', purpose='assistants', status='processed', status_details=None), FileObject(id='file-GgiOJWJVv9aa46sUTOGBLnk9', bytes=1071063, created_at=1699875791, filename='image_bad.png', object='file', purpose='assistants', status='processed', status_details=None), FileObject(id='file-jfY6c4sJiU0dilNyHPoP1J0v', bytes=1071063, created_at=1699875746, filename='image_bad.png', object='file', purpose='assistants', status='processed', status_details=None), FileObject(id='file-JvZD0kyotmkDUyd7ipPiyMTT', bytes=1071063, created_at=1699872551, filename='image_bad.png', object='file', purpose='assistants', status='processed', status_details=None), FileObject(id='file-lxyn02zWo0cYQlCJfxXUrAUU', bytes=20091304, created_at=1699567821, filename='The-Complete-Aristotle.pdf', object='file', purpose='assistants', status='processed', status_details=None), FileObject(id='file-pLSPX430TordTryZlGsEA1T8', bytes=334998, created_at=1699526079, filename='crop_not_working.png', object='file', purpose='assistants', status='processed', status_details=None), FileObject(id='file-jkMa4ulzgRpaKUAWtgl7ETqG', bytes=224230, created_at=1699523744, filename='crop_working.png', object='file', purpose='assistants', status='processed', status_details=None), FileObject(id='file-WBQSUBtCB8eaX2CjHf3Lj5Or', bytes=334998, created_at=1699523744, filename='crop_not_working.png', object='file', purpose='assistants', status='processed', status_details=None), FileObject(id='file-K8fPYxU4B3nYMMB3CKqaweF8', bytes=224230, created_at=1699523496, filename='crop_working.png', object='file', purpose='assistants', status='processed', status_details=None), FileObject(id='file-JTCHsnma37vhzDSxINWBto0w', bytes=334998, created_at=1699523496, filename='crop_not_working.png', object='file', purpose='assistants', status='processed', status_details=None), FileObject(id='file-d7kf60sigETbt3qmQqMtinzy', bytes=224230, created_at=1699523401, filename='crop_working.png', object='file', purpose='assistants', status='processed', status_details=None), FileObject(id='file-9AYEQor41BBHa7N2vL9gmOTF', bytes=334998, created_at=1699523401, filename='crop_not_working.png', object='file', purpose='assistants', status='processed', status_details=None), FileObject(id='file-R2pVfp8Gpymvpx6jZNtkrXTG', bytes=224230, created_at=1699523197, filename='crop_working.png', object='file', purpose='assistants', status='processed', status_details=None), FileObject(id='file-MYcvmDQuMDdAwxXVrw0fQQmS', bytes=334998, created_at=1699523197, filename='crop_not_working.png', object='file', purpose='assistants', status='processed', status_details=None), FileObject(id='file-tcCBNErqjRIDP6fhZZPeM39U', bytes=1418820, created_at=1699439944, filename='NIPS-2012-imagenet-classification-with-deep-convolutional-neural-networks-Paper.pdf', object='file', purpose='assistants', status='processed', status_details=None), FileObject(id='file-yZmfAaIVaIGqIcOHpn8V0yaA', bytes=1418820, created_at=1699439899, filename='NIPS-2012-imagenet-classification-with-deep-convolutional-neural-networks-Paper.pdf', object='file', purpose='assistants', status='processed', status_details=None), FileObject(id='file-yzpkNWmzrzyReEAl95KvvhNW', bytes=519, created_at=1699404939, filename='speech.csv', object='file', purpose='assistants', status='processed', status_details=None), FileObject(id='file-TJX3lK4qwIPkb0mISNQ0P1gk', bytes=519, created_at=1699404714, filename='speech.csv', object='file', purpose='assistants', status='processed', status_details=None), FileObject(id='file-qjLxwX9ldK4FE0QsIu5W6Pvh', bytes=530482, created_at=1699402334, filename='gans_paper.pdf', object='file', purpose='assistants', status='processed', status_details=None), FileObject(id='file-E7eyt8VGUEtcMekbBTm1Fs8B', bytes=530482, created_at=1699402177, filename='gans_paper.pdf', object='file', purpose='assistants', status='processed', status_details=None), FileObject(id='file-CIpUOpd2KGiQl6L0nx2Rh6e8', bytes=13661300, created_at=1699401617, filename='llama2_paper.pdf', object='file', purpose='assistants', status='processed', status_details=None), FileObject(id='file-a6vvp9itG2fVAi4Uh5l1eCIX', bytes=566, created_at=1699314683, filename='synthetic_dataset.csv', object='file', purpose='assistants', status='processed', status_details=None), FileObject(id='file-yybXd7AEEpg9oo33UP8ZDRy7', bytes=1152797, created_at=1699314262, filename='Learning_from_human_tutoring.pdf', object='file', purpose='assistants', status='processed', status_details=None), FileObject(id='file-DpX9PVkO1Y9bIndbRBjADyUS', bytes=1932, created_at=1697756448, filename='step_metrics.csv', object='file', purpose='fine-tune-results', status='processed', status_details=None), FileObject(id='file-ICGS6dyaltzMJuXdnHcpjGTr', bytes=34150, created_at=1697756044, filename='file', object='file', purpose='fine-tune', status='processed', status_details=None), FileObject(id='file-zjZeebCAziF8Z1GjEyEvXsRY', bytes=34150, created_at=1697755832, filename='file', object='file', purpose='fine-tune', status='processed', status_details=None), FileObject(id='file-DZhopqkDrs5xSzQsrzA4zbjN', bytes=2046, created_at=1697474053, filename='step_metrics.csv', object='file', purpose='fine-tune-results', status='processed', status_details=None), FileObject(id='file-kXlvspUQRKFUWcrW5pgzy0PW', bytes=91665, created_at=1697473593, filename='file', object='file', purpose='fine-tune', status='processed', status_details=None), FileObject(id='file-z7wvIoSwHXoWlEgtQX36uzz4', bytes=8688, created_at=1641424829, filename='compiled_results.csv', object='file', purpose='fine-tune-results', status='processed', status_details=None), FileObject(id='file-dgdfvCasaOWM9nENFCXiaRaP', bytes=71535, created_at=1641424499, filename='./prompt_data.json', object='file', purpose='fine-tune', status='processed', status_details=None), FileObject(id='file-taO7LakHMTv18ws1cH2ocC22', bytes=73695, created_at=1641424475, filename='./prompt_data.json', object='file', purpose='fine-tune', status='error', status_details='Invalid file format. Example 38 cannot be parsed. Error: line contains invalid json: Invalid control character at: line 1 column 768 (char 767) (line 38)'), FileObject(id='file-MvhptLxVWAbPYSN3ZB8hAyN3', bytes=73697, created_at=1641424357, filename='./prompt_data.json', object='file', purpose='fine-tune', status='error', status_details='Invalid file format. Example 38 cannot be parsed. Error: line contains invalid json: Invalid control character at: line 1 column 770 (char 769) (line 38)'), FileObject(id='file-eRs0dNcSXEE7SwZ2N3UjksLD', bytes=83286, created_at=1641424254, filename='./prompt_data.json', object='file', purpose='fine-tune', status='error', status_details='Invalid file format. Example 20 cannot be parsed. Error: line contains invalid json: Invalid \\\\escape: line 1 column 6172 (char 6171) (line 20)'), FileObject(id='file-ymysaDADiv0BTVyqECifwlxH', bytes=1154, created_at=1641411503, filename='compiled_results.csv', object='file', purpose='fine-tune-results', status='processed', status_details=None), FileObject(id='file-d3Qb6gOJDiI8BJnfYsmmIUyv', bytes=6807, created_at=1641411317, filename='./prompt_data.json', object='file', purpose='fine-tune', status='processed', status_details=None)], object='list', has_more=False)"
      ]
     },
     "execution_count": 38,
     "metadata": {},
     "output_type": "execute_result"
    }
   ],
   "source": [
    "from openai import OpenAI\n",
    "client = OpenAI()\n",
    "\n",
    "client.files.list()"
   ]
  },
  {
   "cell_type": "code",
   "execution_count": 39,
   "metadata": {},
   "outputs": [
    {
     "data": {
      "text/plain": [
       "FileDeleted(id='file-TN1bKdmEvA2CcBF74q4rarl6', deleted=True, object='file')"
      ]
     },
     "execution_count": 39,
     "metadata": {},
     "output_type": "execute_result"
    }
   ],
   "source": [
    "client.files.delete(\"file-TN1bKdmEvA2CcBF74q4rarl6\")"
   ]
  },
  {
   "cell_type": "code",
   "execution_count": 41,
   "metadata": {},
   "outputs": [
    {
     "data": {
      "text/plain": [
       "FileDeleted(id='file-oHEAh3zbbQxpSwHOyLBQEike', deleted=True, object='file')"
      ]
     },
     "execution_count": 41,
     "metadata": {},
     "output_type": "execute_result"
    }
   ],
   "source": [
    "client.files.delete(\"file-oHEAh3zbbQxpSwHOyLBQEike\")"
   ]
  },
  {
   "cell_type": "code",
   "execution_count": 43,
   "metadata": {},
   "outputs": [],
   "source": [
    "for f in client.files.list():\n",
    "    client.files.delete(f.id)"
   ]
  },
  {
   "cell_type": "markdown",
   "metadata": {},
   "source": [
    "Success!!!!!"
   ]
  }
 ],
 "metadata": {
  "kernelspec": {
   "display_name": "oreilly_env",
   "language": "python",
   "name": "oreilly_env"
  },
  "language_info": {
   "codemirror_mode": {
    "name": "ipython",
    "version": 3
   },
   "file_extension": ".py",
   "mimetype": "text/x-python",
   "name": "python",
   "nbconvert_exporter": "python",
   "pygments_lexer": "ipython3",
   "version": "3.11.5"
  }
 },
 "nbformat": 4,
 "nbformat_minor": 2
}
