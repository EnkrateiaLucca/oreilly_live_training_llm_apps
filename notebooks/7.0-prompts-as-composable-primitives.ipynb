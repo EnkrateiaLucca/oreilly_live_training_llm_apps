{
 "cells": [
  {
   "cell_type": "markdown",
   "metadata": {},
   "source": [
    "# Examples of using Prompts as Composable Primitives\n",
    "\n",
    "In this notebook we'll go through examples of leveraging prompts as primitives for learning environments."
   ]
  },
  {
   "cell_type": "code",
   "execution_count": null,
   "metadata": {},
   "outputs": [],
   "source": [
    "# !pip install ipywidgets\n",
    "# !pip install matplotlib-inline"
   ]
  },
  {
   "cell_type": "code",
   "execution_count": 3,
   "metadata": {},
   "outputs": [],
   "source": [
    "%load_ext autoreload\n",
    "%autoreload 2"
   ]
  },
  {
   "cell_type": "markdown",
   "metadata": {},
   "source": [
    "## Example 1 - Knowledge Graph Primitive\n",
    "\n",
    "This example, taken from Jason Liu's talk: \"Pydantic is all you need\" shows how creating a knowledge graph can be as simple as a prompt coupled with some simple classes to handle construction of the graph plus some validation checks. "
   ]
  },
  {
   "cell_type": "code",
   "execution_count": 2,
   "metadata": {},
   "outputs": [],
   "source": [
    "# from pydantic import BaseModel, Field\n",
    "from langchain.pydantic_v1 import BaseModel, Field\n",
    "from typing import List\n",
    "from graphviz import Digraph\n",
    "import argparse\n",
    "from langchain.output_parsers import PydanticOutputParser\n",
    "import graphviz\n",
    "from IPython.display import display\n",
    "\n",
    "class Node(BaseModel):\n",
    "    id: int\n",
    "    label: str\n",
    "    color: str\n",
    "\n",
    "class Edge(BaseModel):\n",
    "    source: int\n",
    "    target: int\n",
    "    label: str\n",
    "    color: str = \"black\"\n",
    "\n",
    "class KnowledgeGraph(BaseModel):\n",
    "    \"\"\"A knowledge graph is a graph that represents knowledge as a set of entities and relations between them.\"\"\"\n",
    "    nodes: List[Node] = Field(..., description=\"A list of nodes in the knowledge graph\")\n",
    "    edges: List[Edge] = Field(..., description=\"A list of edges in the knowledge graph\")\n",
    "\n",
    "\n",
    "def visualize_knowledge_graph(kg: KnowledgeGraph):\n",
    "    dot = Digraph(comment=\"Knowledge Graph\")\n",
    "\n",
    "    # Add nodes\n",
    "    for node in kg.nodes:\n",
    "        dot.node(str(node.id), node.label, color=node.color)\n",
    "\n",
    "    # Add edges\n",
    "    for edge in kg.edges:\n",
    "        dot.edge(str(edge.source), str(edge.target), label=edge.label, color=edge.color)\n",
    "\n",
    "    # Render the graph\n",
    "    display(graphviz.Source(dot.source))"
   ]
  },
  {
   "cell_type": "markdown",
   "metadata": {},
   "source": [
    "Now, let's modify the `chain_diagram()` function to output a schema that's appropriate for generating a knowledge graph."
   ]
  },
  {
   "cell_type": "code",
   "execution_count": 3,
   "metadata": {},
   "outputs": [
    {
     "name": "stderr",
     "output_type": "stream",
     "text": [
      "/Users/greatmaster/miniconda3/envs/oreilly-env/lib/python3.11/site-packages/langchain_core/_api/deprecation.py:117: LangChainDeprecationWarning: The function `convert_pydantic_to_openai_function` was deprecated in LangChain 0.1.16 and will be removed in 0.2.0. Use langchain_core.utils.function_calling.convert_to_openai_function() instead.\n",
      "  warn_deprecated(\n"
     ]
    },
    {
     "data": {
      "text/plain": [
       "AIMessage(content='', additional_kwargs={'function_call': {'arguments': '{\"nodes\":[{\"id\":1,\"label\":\"Large Language Models\",\"color\":\"#FF5733\"},{\"id\":2,\"label\":\"Natural Language Processing\",\"color\":\"#FFC300\"},{\"id\":3,\"label\":\"Artificial Intelligence\",\"color\":\"#C70039\"}],\"edges\":[{\"source\":1,\"target\":2,\"label\":\"Uses\"},{\"source\":2,\"target\":3,\"label\":\"Part of\"}]}', 'name': 'KnowledgeGraph'}})"
      ]
     },
     "execution_count": 3,
     "metadata": {},
     "output_type": "execute_result"
    }
   ],
   "source": [
    "from langchain_openai import ChatOpenAI\n",
    "from langchain.prompts import ChatPromptTemplate\n",
    "from langchain.utils.openai_functions import convert_pydantic_to_openai_function\n",
    "openai_function_knowledge_graph = convert_pydantic_to_openai_function(KnowledgeGraph)\n",
    "\n",
    "def chain_diagram(llm):\n",
    "    return ChatPromptTemplate.from_template(\"Write a knowledge graph with the necessary concepts and elements to understand the following concept: '''{concept}''', this diagram should perfectly encapsulate\\\n",
    "        what it is and what it relates to.\") | llm\n",
    "\n",
    "llm_chat = ChatOpenAI()    \n",
    "llm_with_tools = llm_chat.bind(functions=[openai_function_knowledge_graph])\n",
    "\n",
    "chain = chain_diagram(llm_with_tools)\n",
    "concept = \"large language models\"\n",
    "\n",
    "output_graph = chain.invoke({\"concept\": concept})\n",
    "output_graph"
   ]
  },
  {
   "cell_type": "markdown",
   "metadata": {},
   "source": [
    "Ok, so we are getting the right output, which we can access like this:"
   ]
  },
  {
   "cell_type": "code",
   "execution_count": 4,
   "metadata": {},
   "outputs": [
    {
     "data": {
      "text/plain": [
       "'{\"nodes\":[{\"id\":1,\"label\":\"Large Language Models\",\"color\":\"#FF5733\"},{\"id\":2,\"label\":\"Natural Language Processing\",\"color\":\"#FFC300\"},{\"id\":3,\"label\":\"Artificial Intelligence\",\"color\":\"#C70039\"}],\"edges\":[{\"source\":1,\"target\":2,\"label\":\"Uses\"},{\"source\":2,\"target\":3,\"label\":\"Part of\"}]}'"
      ]
     },
     "execution_count": 4,
     "metadata": {},
     "output_type": "execute_result"
    }
   ],
   "source": [
    "output_graph.additional_kwargs[\"function_call\"][\"arguments\"]"
   ]
  },
  {
   "cell_type": "markdown",
   "metadata": {},
   "source": [
    "But we want this output to be perfectly tailored for a function that visualizes the graph, so let's do that. "
   ]
  },
  {
   "cell_type": "code",
   "execution_count": 5,
   "metadata": {},
   "outputs": [
    {
     "data": {
      "text/plain": [
       "'{\"nodes\":[{\"id\":1,\"label\":\"Large Language Models\",\"color\":\"#FF5733\"},{\"id\":2,\"label\":\"Natural Language Processing\",\"color\":\"#FFC300\"},{\"id\":3,\"label\":\"Artificial Intelligence\",\"color\":\"#C70039\"}],\"edges\":[{\"source\":1,\"target\":2,\"label\":\"Uses\"},{\"source\":2,\"target\":3,\"label\":\"Part of\"}]}'"
      ]
     },
     "execution_count": 5,
     "metadata": {},
     "output_type": "execute_result"
    }
   ],
   "source": [
    "from langchain.output_parsers import PydanticOutputParser\n",
    "\n",
    "pydantic_output_parser = PydanticOutputParser(pydantic_object=KnowledgeGraph)\n",
    "\n",
    "output_graph_json_dict = output_graph.additional_kwargs[\"function_call\"][\"arguments\"]\n",
    "output_graph_json_dict "
   ]
  },
  {
   "cell_type": "code",
   "execution_count": 6,
   "metadata": {},
   "outputs": [
    {
     "data": {
      "text/plain": [
       "KnowledgeGraph(nodes=[Node(id=1, label='Large Language Models', color='#FF5733'), Node(id=2, label='Natural Language Processing', color='#FFC300'), Node(id=3, label='Artificial Intelligence', color='#C70039')], edges=[Edge(source=1, target=2, label='Uses', color='black'), Edge(source=2, target=3, label='Part of', color='black')])"
      ]
     },
     "execution_count": 6,
     "metadata": {},
     "output_type": "execute_result"
    }
   ],
   "source": [
    "pydantic_output_parser.parse(output_graph_json_dict)"
   ]
  },
  {
   "cell_type": "markdown",
   "metadata": {},
   "source": [
    "Yay! As you can see above, the output of parsing with the pydantic_output_parser is the `KnowledgeGraph` object, which we can feed into the \n",
    "`visualize_graph` function to get the final output."
   ]
  },
  {
   "cell_type": "code",
   "execution_count": 7,
   "metadata": {},
   "outputs": [
    {
     "data": {
      "image/svg+xml": [
       "<?xml version=\"1.0\" encoding=\"UTF-8\" standalone=\"no\"?>\n",
       "<!DOCTYPE svg PUBLIC \"-//W3C//DTD SVG 1.1//EN\"\n",
       " \"http://www.w3.org/Graphics/SVG/1.1/DTD/svg11.dtd\">\n",
       "<!-- Generated by graphviz version 9.0.0 (20230911.1827)\n",
       " -->\n",
       "<!-- Pages: 1 -->\n",
       "<svg width=\"248pt\" height=\"221pt\"\n",
       " viewBox=\"0.00 0.00 247.87 221.00\" xmlns=\"http://www.w3.org/2000/svg\" xmlns:xlink=\"http://www.w3.org/1999/xlink\">\n",
       "<g id=\"graph0\" class=\"graph\" transform=\"scale(1 1) rotate(0) translate(4 217)\">\n",
       "<polygon fill=\"white\" stroke=\"none\" points=\"-4,4 -4,-217 243.87,-217 243.87,4 -4,4\"/>\n",
       "<!-- 1 -->\n",
       "<g id=\"node1\" class=\"node\">\n",
       "<title>1</title>\n",
       "<ellipse fill=\"none\" stroke=\"#ff5733\" cx=\"119.93\" cy=\"-195\" rx=\"102.02\" ry=\"18\"/>\n",
       "<text text-anchor=\"middle\" x=\"119.93\" y=\"-189.95\" font-family=\"Times,serif\" font-size=\"14.00\">Large Language Models</text>\n",
       "</g>\n",
       "<!-- 2 -->\n",
       "<g id=\"node2\" class=\"node\">\n",
       "<title>2</title>\n",
       "<ellipse fill=\"none\" stroke=\"#ffc300\" cx=\"119.93\" cy=\"-106.5\" rx=\"119.93\" ry=\"18\"/>\n",
       "<text text-anchor=\"middle\" x=\"119.93\" y=\"-101.45\" font-family=\"Times,serif\" font-size=\"14.00\">Natural Language Processing</text>\n",
       "</g>\n",
       "<!-- 1&#45;&gt;2 -->\n",
       "<g id=\"edge1\" class=\"edge\">\n",
       "<title>1&#45;&gt;2</title>\n",
       "<path fill=\"none\" stroke=\"black\" d=\"M119.93,-176.91C119.93,-165.26 119.93,-149.55 119.93,-136.02\"/>\n",
       "<polygon fill=\"black\" stroke=\"black\" points=\"123.43,-136.36 119.93,-126.36 116.43,-136.36 123.43,-136.36\"/>\n",
       "<text text-anchor=\"middle\" x=\"133.06\" y=\"-145.7\" font-family=\"Times,serif\" font-size=\"14.00\">Uses</text>\n",
       "</g>\n",
       "<!-- 3 -->\n",
       "<g id=\"node3\" class=\"node\">\n",
       "<title>3</title>\n",
       "<ellipse fill=\"none\" stroke=\"#c70039\" cx=\"119.93\" cy=\"-18\" rx=\"90.76\" ry=\"18\"/>\n",
       "<text text-anchor=\"middle\" x=\"119.93\" y=\"-12.95\" font-family=\"Times,serif\" font-size=\"14.00\">Artificial Intelligence</text>\n",
       "</g>\n",
       "<!-- 2&#45;&gt;3 -->\n",
       "<g id=\"edge2\" class=\"edge\">\n",
       "<title>2&#45;&gt;3</title>\n",
       "<path fill=\"none\" stroke=\"black\" d=\"M119.93,-88.41C119.93,-76.76 119.93,-61.05 119.93,-47.52\"/>\n",
       "<polygon fill=\"black\" stroke=\"black\" points=\"123.43,-47.86 119.93,-37.86 116.43,-47.86 123.43,-47.86\"/>\n",
       "<text text-anchor=\"middle\" x=\"138.31\" y=\"-57.2\" font-family=\"Times,serif\" font-size=\"14.00\">Part of</text>\n",
       "</g>\n",
       "</g>\n",
       "</svg>\n"
      ],
      "text/plain": [
       "<graphviz.sources.Source at 0x12fd8f090>"
      ]
     },
     "metadata": {},
     "output_type": "display_data"
    }
   ],
   "source": [
    "kg = pydantic_output_parser.parse(output_graph_json_dict)\n",
    "\n",
    "visualize_knowledge_graph(kg)"
   ]
  },
  {
   "cell_type": "markdown",
   "metadata": {},
   "source": [
    "Yaaay victory!!! Now, let's wrap this into a modified version of the original chain by using the RunnableLambda Object to do the \n",
    "intermediary step we were doing before."
   ]
  },
  {
   "cell_type": "code",
   "execution_count": 14,
   "metadata": {},
   "outputs": [
    {
     "data": {
      "image/png": "[encoded data removed]",
      "text/plain": [
       "<Figure size 640x480 with 1 Axes>"
      ]
     },
     "metadata": {},
     "output_type": "display_data"
    }
   ],
   "source": [
    "from pydantic import BaseModel, Field\n",
    "from typing import List, Optional\n",
    "from openai import OpenAI\n",
    "import instructor\n",
    "from IPython.display import display\n",
    "from pydantic import BaseModel, Field\n",
    "from typing import List\n",
    "import matplotlib.pyplot as plt\n",
    "\n",
    "client = instructor.patch(OpenAI())\n",
    "\n",
    "\n",
    "class DataPlot(BaseModel):\n",
    "    x_values: List[float]\n",
    "    y_values: List[float]\n",
    "    # hist_data: List[float]\n",
    "    title: str\n",
    "    x_label: str\n",
    "    y_label: str\n",
    "    plot_type: str = Field(default=\"line\", description=\"Type of the plot (line, bar, scatter, hist)\")\n",
    "    # density: bool = Field(default=False, description=\"Density of histogram plot\")\n",
    "    # alpha: float = Field(default=0.7, description=\"Alpha of histogram plot\")\n",
    "    color: Optional[str] = Field(default=None, description=\"Color of the plot\")\n",
    "    marker: Optional[str] = Field(default=None, description=\"Marker style for scatter plot\")\n",
    "\n",
    "def generate_plot(input) -> DataPlot:\n",
    "    return client.chat.completions.create(\n",
    "        model=\"gpt-3.5-turbo-16k\",\n",
    "        messages=[\n",
    "            {\n",
    "                \"role\": \"user\",\n",
    "                \"content\": f\"Help me visualize this concept in a plot:{input}\",\n",
    "            }\n",
    "        ],\n",
    "        response_model=DataPlot,\n",
    "    )  # type: ignore\n",
    "\n",
    "\n",
    "def plot(dp: DataPlot):\n",
    "    if dp.plot_type == \"line\":\n",
    "        plt.plot(dp.x_values, dp.y_values, color=dp.color, marker=dp.marker)\n",
    "    elif dp.plot_type == \"bar\":\n",
    "        plt.bar(dp.x_values, dp.y_values, color=dp.color)\n",
    "    elif dp.plot_type == \"scatter\":\n",
    "        plt.scatter(dp.x_values, dp.y_values, color=dp.color, marker=dp.marker)\n",
    "    else:\n",
    "        raise ValueError(\"Unsupported plot type\")\n",
    "\n",
    "    plt.title(dp.title)\n",
    "    plt.xlabel(dp.x_label)\n",
    "    plt.ylabel(dp.y_label)\n",
    "    plt.show()\n",
    "\n",
    "def plot_primitive(prompt):\n",
    "    dp = generate_plot(prompt)\n",
    "    plot(dp)\n",
    "\n",
    "# Example usage\n",
    "plot_primitive(\"Plot a line graph of the number of people in the world over time.\")"
   ]
  },
  {
   "cell_type": "markdown",
   "metadata": {},
   "source": [
    "We want more power of expression and we want flexiblity."
   ]
  },
  {
   "cell_type": "code",
   "execution_count": null,
   "metadata": {},
   "outputs": [],
   "source": []
  },
  {
   "cell_type": "code",
   "execution_count": null,
   "metadata": {},
   "outputs": [],
   "source": []
  },
  {
   "cell_type": "code",
   "execution_count": null,
   "metadata": {},
   "outputs": [],
   "source": []
  },
  {
   "cell_type": "code",
   "execution_count": null,
   "metadata": {},
   "outputs": [],
   "source": []
  }
 ],
 "metadata": {
  "kernelspec": {
   "display_name": "oreilly-env",
   "language": "python",
   "name": "oreilly-env"
  },
  "language_info": {
   "codemirror_mode": {
    "name": "ipython",
    "version": 3
   },
   "file_extension": ".py",
   "mimetype": "text/x-python",
   "name": "python",
   "nbconvert_exporter": "python",
   "pygments_lexer": "ipython3",
   "version": "3.11.8"
  }
 },
 "nbformat": 4,
 "nbformat_minor": 2
}
